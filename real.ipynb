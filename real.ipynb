{
 "cells": [
  {
   "cell_type": "code",
   "execution_count": null,
   "outputs": [],
   "source": [
    "!wget https://bin.equinox.io/c/bNyj1mQVY4c/ngrok-v3-stable-darwin-amd64.zip\n",
    "!unzip ngrok-v3-stable-darwin-amd64.zip"
   ],
   "metadata": {
    "collapsed": false
   }
  },
  {
   "cell_type": "code",
   "execution_count": null,
   "outputs": [],
   "source": [
    "!./ngrok config add-authtoken 1tHaGIL1YdMNniMQKsAzqSgsiUb_7AgZfgwYUTdCzFGva4KE8"
   ],
   "metadata": {
    "collapsed": false
   }
  },
  {
   "cell_type": "code",
   "execution_count": 1,
   "metadata": {
    "collapsed": true,
    "ExecuteTime": {
     "end_time": "2023-10-22T23:29:13.218612Z",
     "start_time": "2023-10-22T23:29:08.806365Z"
    }
   },
   "outputs": [
    {
     "name": "stderr",
     "output_type": "stream",
     "text": [
      "2023-10-22 18:29:10.490459: I tensorflow/core/platform/cpu_feature_guard.cc:182] This TensorFlow binary is optimized to use available CPU instructions in performance-critical operations.\n",
      "To enable the following instructions: AVX2 FMA, in other operations, rebuild TensorFlow with the appropriate compiler flags.\n"
     ]
    }
   ],
   "source": [
    "from Game2048Env import Game2048Env\n",
    "from MCTS2048 import MCTS2048\n",
    "from Policy2048 import create_2048_policy_model\n",
    "from tqdm.notebook import tqdm, trange\n",
    "import numpy as np\n",
    "import threading\n",
    "from pyngrok import ngrok\n",
    "from webapp2048.WebApp import socketio, app, set_public_url, call_add_step"
   ]
  },
  {
   "cell_type": "code",
   "execution_count": 2,
   "outputs": [],
   "source": [
    "# Function to run the Flask app with SocketIO\n",
    "def run():\n",
    "    socketio.run(app, host='0.0.0.0', port=5001, debug=True, use_reloader=False)\n",
    "\n",
    "def run_async():\n",
    "    # Start the Flask app in a separate thread\n",
    "    threading.Thread(target=run).start()\n",
    "\n",
    "    # Set up ngrok tunnel\n",
    "    public_url = ngrok.connect(5001).public_url\n",
    "    set_public_url(public_url)\n",
    "    print('Public URL:', public_url)\n"
   ],
   "metadata": {
    "collapsed": false,
    "ExecuteTime": {
     "end_time": "2023-10-22T23:29:14.541502Z",
     "start_time": "2023-10-22T23:29:14.536479Z"
    }
   }
  },
  {
   "cell_type": "code",
   "execution_count": null,
   "outputs": [
    {
     "name": "stderr",
     "output_type": "stream",
     "text": [
      "(41821) wsgi starting up on http://0.0.0.0:5001\n",
      "t=2023-10-22T18:29:16-0500 lvl=warn msg=\"ngrok config file found at legacy location, move to XDG location\" xdg_path=\"/Users/michaelking/Library/Application Support/ngrok/ngrok.yml\" legacy_path=/Users/michaelking/.ngrok2/ngrok.yml\n"
     ]
    },
    {
     "name": "stdout",
     "output_type": "stream",
     "text": [
      "Public URL: https://6d77-173-20-233-125.ngrok-free.app\n"
     ]
    },
    {
     "data": {
      "text/plain": "  0%|          | 0/1000 [00:00<?, ?it/s]",
      "application/vnd.jupyter.widget-view+json": {
       "version_major": 2,
       "version_minor": 0,
       "model_id": "bb439c0319cf4fcd8519ff3f4621cb94"
      }
     },
     "metadata": {},
     "output_type": "display_data"
    },
    {
     "name": "stderr",
     "output_type": "stream",
     "text": [
      "(41821) accepted ('127.0.0.1', 51894)\n",
      "127.0.0.1 - - [22/Oct/2023 18:29:17] \"GET /socket.io/?EIO=4&transport=polling&t=OjPkAs0 HTTP/1.1\" 200 330 0.000638\n",
      "127.0.0.1 - - [22/Oct/2023 18:29:17] \"POST /socket.io/?EIO=4&transport=polling&t=OjPkAs5&sid=bkxGh7WyumKaHXGnAAAA HTTP/1.1\" 200 219 0.001645\n",
      "127.0.0.1 - - [22/Oct/2023 18:29:17] \"GET /socket.io/?EIO=4&transport=polling&t=OjPkAsD&sid=bkxGh7WyumKaHXGnAAAA HTTP/1.1\" 200 265 0.000144\n",
      "(41821) accepted ('127.0.0.1', 51918)\n",
      "127.0.0.1 - - [22/Oct/2023 18:29:17] \"GET /socket.io/?EIO=4&transport=polling&t=OjPkAsG&sid=bkxGh7WyumKaHXGnAAAA HTTP/1.1\" 200 233 0.000122\n",
      "(41821) accepted ('127.0.0.1', 53277)\n",
      "173.20.233.125,127.0.0.1 - - [22/Oct/2023 18:29:17] \"POST /add_step HTTP/1.1\" 200 166 0.001135\n"
     ]
    },
    {
     "name": "stdout",
     "output_type": "stream",
     "text": [
      "<Response [200]>\n"
     ]
    },
    {
     "name": "stderr",
     "output_type": "stream",
     "text": [
      "(41821) accepted ('127.0.0.1', 54655)\n",
      "173.20.233.125,127.0.0.1 - - [22/Oct/2023 18:29:18] \"POST /add_step HTTP/1.1\" 200 166 0.001074\n"
     ]
    },
    {
     "name": "stdout",
     "output_type": "stream",
     "text": [
      "<Response [200]>\n"
     ]
    },
    {
     "name": "stderr",
     "output_type": "stream",
     "text": [
      "(41821) accepted ('127.0.0.1', 56275)\n",
      "173.20.233.125,127.0.0.1 - - [22/Oct/2023 18:29:19] \"POST /add_step HTTP/1.1\" 200 166 0.000854\n"
     ]
    },
    {
     "name": "stdout",
     "output_type": "stream",
     "text": [
      "<Response [200]>\n"
     ]
    },
    {
     "name": "stderr",
     "output_type": "stream",
     "text": [
      "127.0.0.1 - - [22/Oct/2023 18:29:19] \"GET /socket.io/?EIO=4&transport=polling&t=OjPkBWY HTTP/1.1\" 200 330 0.000502\n",
      "127.0.0.1 - - [22/Oct/2023 18:29:19] \"POST /socket.io/?EIO=4&transport=polling&t=OjPkBWf&sid=_zKr6EbSeXIzrBTQAAAC HTTP/1.1\" 200 219 0.001548\n",
      "(41821) accepted ('127.0.0.1', 56883)\n",
      "(41821) accepted ('127.0.0.1', 56884)\n",
      "127.0.0.1 - - [22/Oct/2023 18:29:19] \"GET /socket.io/?EIO=4&transport=polling&t=OjPkBWg&sid=_zKr6EbSeXIzrBTQAAAC HTTP/1.1\" 200 233 0.000222\n",
      "127.0.0.1 - - [22/Oct/2023 18:29:19] \"GET /all HTTP/1.1\" 200 1211 0.001204\n",
      "(41821) accepted ('127.0.0.1', 58008)\n",
      "173.20.233.125,127.0.0.1 - - [22/Oct/2023 18:29:20] \"POST /add_step HTTP/1.1\" 200 166 0.002234\n"
     ]
    },
    {
     "name": "stdout",
     "output_type": "stream",
     "text": [
      "<Response [200]>\n"
     ]
    },
    {
     "name": "stderr",
     "output_type": "stream",
     "text": [
      "(41821) accepted ('127.0.0.1', 59438)\n",
      "173.20.233.125,127.0.0.1 - - [22/Oct/2023 18:29:21] \"POST /add_step HTTP/1.1\" 200 166 0.000721\n"
     ]
    },
    {
     "name": "stdout",
     "output_type": "stream",
     "text": [
      "<Response [200]>\n"
     ]
    },
    {
     "name": "stderr",
     "output_type": "stream",
     "text": [
      "(41821) accepted ('127.0.0.1', 60904)\n",
      "173.20.233.125,127.0.0.1 - - [22/Oct/2023 18:29:22] \"POST /add_step HTTP/1.1\" 200 166 0.000775\n"
     ]
    },
    {
     "name": "stdout",
     "output_type": "stream",
     "text": [
      "<Response [200]>\n"
     ]
    },
    {
     "name": "stderr",
     "output_type": "stream",
     "text": [
      "(41821) accepted ('127.0.0.1', 62233)\n",
      "173.20.233.125,127.0.0.1 - - [22/Oct/2023 18:29:22] \"POST /add_step HTTP/1.1\" 200 166 0.000722\n"
     ]
    },
    {
     "name": "stdout",
     "output_type": "stream",
     "text": [
      "<Response [200]>\n"
     ]
    },
    {
     "name": "stderr",
     "output_type": "stream",
     "text": [
      "(41821) accepted ('127.0.0.1', 63613)\n",
      "173.20.233.125,127.0.0.1 - - [22/Oct/2023 18:29:23] \"POST /add_step HTTP/1.1\" 200 166 0.000936\n"
     ]
    },
    {
     "name": "stdout",
     "output_type": "stream",
     "text": [
      "<Response [200]>\n"
     ]
    },
    {
     "name": "stderr",
     "output_type": "stream",
     "text": [
      "(41821) accepted ('127.0.0.1', 65050)\n",
      "173.20.233.125,127.0.0.1 - - [22/Oct/2023 18:29:24] \"POST /add_step HTTP/1.1\" 200 166 0.000664\n"
     ]
    },
    {
     "name": "stdout",
     "output_type": "stream",
     "text": [
      "<Response [200]>\n"
     ]
    },
    {
     "name": "stderr",
     "output_type": "stream",
     "text": [
      "(41821) accepted ('127.0.0.1', 50023)\n",
      "173.20.233.125,127.0.0.1 - - [22/Oct/2023 18:29:25] \"POST /add_step HTTP/1.1\" 200 166 0.000810\n"
     ]
    },
    {
     "name": "stdout",
     "output_type": "stream",
     "text": [
      "<Response [200]>\n"
     ]
    },
    {
     "name": "stderr",
     "output_type": "stream",
     "text": [
      "(41821) accepted ('127.0.0.1', 51473)\n",
      "173.20.233.125,127.0.0.1 - - [22/Oct/2023 18:29:25] \"POST /add_step HTTP/1.1\" 200 166 0.001449\n"
     ]
    },
    {
     "name": "stdout",
     "output_type": "stream",
     "text": [
      "<Response [200]>\n"
     ]
    },
    {
     "name": "stderr",
     "output_type": "stream",
     "text": [
      "(41821) accepted ('127.0.0.1', 52967)\n",
      "173.20.233.125,127.0.0.1 - - [22/Oct/2023 18:29:26] \"POST /add_step HTTP/1.1\" 200 166 0.000567\n"
     ]
    },
    {
     "name": "stdout",
     "output_type": "stream",
     "text": [
      "<Response [200]>\n"
     ]
    },
    {
     "name": "stderr",
     "output_type": "stream",
     "text": [
      "(41821) accepted ('127.0.0.1', 54451)\n",
      "173.20.233.125,127.0.0.1 - - [22/Oct/2023 18:29:27] \"POST /add_step HTTP/1.1\" 200 166 0.000613\n"
     ]
    },
    {
     "name": "stdout",
     "output_type": "stream",
     "text": [
      "<Response [200]>\n"
     ]
    },
    {
     "name": "stderr",
     "output_type": "stream",
     "text": [
      "(41821) accepted ('127.0.0.1', 55904)\n",
      "173.20.233.125,127.0.0.1 - - [22/Oct/2023 18:29:28] \"POST /add_step HTTP/1.1\" 200 166 0.000682\n"
     ]
    },
    {
     "name": "stdout",
     "output_type": "stream",
     "text": [
      "<Response [200]>\n"
     ]
    },
    {
     "name": "stderr",
     "output_type": "stream",
     "text": [
      "(41821) accepted ('127.0.0.1', 57586)\n",
      "173.20.233.125,127.0.0.1 - - [22/Oct/2023 18:29:29] \"POST /add_step HTTP/1.1\" 200 166 0.000613\n"
     ]
    },
    {
     "name": "stdout",
     "output_type": "stream",
     "text": [
      "<Response [200]>\n"
     ]
    },
    {
     "name": "stderr",
     "output_type": "stream",
     "text": [
      "(41821) accepted ('127.0.0.1', 59015)\n",
      "173.20.233.125,127.0.0.1 - - [22/Oct/2023 18:29:30] \"POST /add_step HTTP/1.1\" 200 166 0.000972\n"
     ]
    },
    {
     "name": "stdout",
     "output_type": "stream",
     "text": [
      "<Response [200]>\n"
     ]
    },
    {
     "name": "stderr",
     "output_type": "stream",
     "text": [
      "(41821) accepted ('127.0.0.1', 60326)\n",
      "173.20.233.125,127.0.0.1 - - [22/Oct/2023 18:29:30] \"POST /add_step HTTP/1.1\" 200 166 0.000584\n"
     ]
    },
    {
     "name": "stdout",
     "output_type": "stream",
     "text": [
      "<Response [200]>\n"
     ]
    },
    {
     "name": "stderr",
     "output_type": "stream",
     "text": [
      "(41821) accepted ('127.0.0.1', 61703)\n",
      "173.20.233.125,127.0.0.1 - - [22/Oct/2023 18:29:31] \"POST /add_step HTTP/1.1\" 200 166 0.000653\n"
     ]
    },
    {
     "name": "stdout",
     "output_type": "stream",
     "text": [
      "<Response [200]>\n"
     ]
    },
    {
     "name": "stderr",
     "output_type": "stream",
     "text": [
      "(41821) accepted ('127.0.0.1', 63067)\n",
      "173.20.233.125,127.0.0.1 - - [22/Oct/2023 18:29:32] \"POST /add_step HTTP/1.1\" 200 166 0.000545\n"
     ]
    },
    {
     "name": "stdout",
     "output_type": "stream",
     "text": [
      "<Response [200]>\n"
     ]
    },
    {
     "name": "stderr",
     "output_type": "stream",
     "text": [
      "(41821) accepted ('127.0.0.1', 64454)\n",
      "173.20.233.125,127.0.0.1 - - [22/Oct/2023 18:29:33] \"POST /add_step HTTP/1.1\" 200 166 0.000966\n"
     ]
    },
    {
     "name": "stdout",
     "output_type": "stream",
     "text": [
      "<Response [200]>\n"
     ]
    },
    {
     "name": "stderr",
     "output_type": "stream",
     "text": [
      "(41821) accepted ('127.0.0.1', 49303)\n",
      "173.20.233.125,127.0.0.1 - - [22/Oct/2023 18:29:33] \"POST /add_step HTTP/1.1\" 200 166 0.000673\n"
     ]
    },
    {
     "name": "stdout",
     "output_type": "stream",
     "text": [
      "<Response [200]>\n"
     ]
    },
    {
     "name": "stderr",
     "output_type": "stream",
     "text": [
      "(41821) accepted ('127.0.0.1', 50537)\n",
      "173.20.233.125,127.0.0.1 - - [22/Oct/2023 18:29:34] \"POST /add_step HTTP/1.1\" 200 166 0.000646\n"
     ]
    },
    {
     "name": "stdout",
     "output_type": "stream",
     "text": [
      "<Response [200]>\n"
     ]
    },
    {
     "name": "stderr",
     "output_type": "stream",
     "text": [
      "(41821) accepted ('127.0.0.1', 51787)\n",
      "173.20.233.125,127.0.0.1 - - [22/Oct/2023 18:29:35] \"POST /add_step HTTP/1.1\" 200 166 0.000572\n"
     ]
    },
    {
     "name": "stdout",
     "output_type": "stream",
     "text": [
      "<Response [200]>\n"
     ]
    },
    {
     "name": "stderr",
     "output_type": "stream",
     "text": [
      "(41821) accepted ('127.0.0.1', 53143)\n",
      "173.20.233.125,127.0.0.1 - - [22/Oct/2023 18:29:35] \"POST /add_step HTTP/1.1\" 200 166 0.000775\n"
     ]
    },
    {
     "name": "stdout",
     "output_type": "stream",
     "text": [
      "<Response [200]>\n"
     ]
    },
    {
     "name": "stderr",
     "output_type": "stream",
     "text": [
      "(41821) accepted ('127.0.0.1', 54380)\n",
      "173.20.233.125,127.0.0.1 - - [22/Oct/2023 18:29:36] \"POST /add_step HTTP/1.1\" 200 166 0.000682\n"
     ]
    },
    {
     "name": "stdout",
     "output_type": "stream",
     "text": [
      "<Response [200]>\n"
     ]
    },
    {
     "name": "stderr",
     "output_type": "stream",
     "text": [
      "(41821) accepted ('127.0.0.1', 56061)\n",
      "173.20.233.125,127.0.0.1 - - [22/Oct/2023 18:29:37] \"POST /add_step HTTP/1.1\" 200 166 0.000674\n"
     ]
    },
    {
     "name": "stdout",
     "output_type": "stream",
     "text": [
      "<Response [200]>\n"
     ]
    },
    {
     "name": "stderr",
     "output_type": "stream",
     "text": [
      "(41821) accepted ('127.0.0.1', 57286)\n",
      "173.20.233.125,127.0.0.1 - - [22/Oct/2023 18:29:38] \"POST /add_step HTTP/1.1\" 200 166 0.001617\n"
     ]
    },
    {
     "name": "stdout",
     "output_type": "stream",
     "text": [
      "<Response [200]>\n"
     ]
    },
    {
     "name": "stderr",
     "output_type": "stream",
     "text": [
      "(41821) accepted ('127.0.0.1', 58520)\n",
      "173.20.233.125,127.0.0.1 - - [22/Oct/2023 18:29:38] \"POST /add_step HTTP/1.1\" 200 166 0.000951\n"
     ]
    },
    {
     "name": "stdout",
     "output_type": "stream",
     "text": [
      "<Response [200]>\n"
     ]
    },
    {
     "name": "stderr",
     "output_type": "stream",
     "text": [
      "(41821) accepted ('127.0.0.1', 59736)\n",
      "173.20.233.125,127.0.0.1 - - [22/Oct/2023 18:29:39] \"POST /add_step HTTP/1.1\" 200 166 0.000759\n"
     ]
    },
    {
     "name": "stdout",
     "output_type": "stream",
     "text": [
      "<Response [200]>\n"
     ]
    },
    {
     "name": "stderr",
     "output_type": "stream",
     "text": [
      "(41821) accepted ('127.0.0.1', 61017)\n",
      "173.20.233.125,127.0.0.1 - - [22/Oct/2023 18:29:40] \"POST /add_step HTTP/1.1\" 200 166 0.000847\n"
     ]
    },
    {
     "name": "stdout",
     "output_type": "stream",
     "text": [
      "<Response [200]>\n"
     ]
    },
    {
     "name": "stderr",
     "output_type": "stream",
     "text": [
      "(41821) accepted ('127.0.0.1', 62349)\n",
      "173.20.233.125,127.0.0.1 - - [22/Oct/2023 18:29:40] \"POST /add_step HTTP/1.1\" 200 166 0.000684\n"
     ]
    },
    {
     "name": "stdout",
     "output_type": "stream",
     "text": [
      "<Response [200]>\n"
     ]
    },
    {
     "name": "stderr",
     "output_type": "stream",
     "text": [
      "(41821) accepted ('127.0.0.1', 63680)\n",
      "173.20.233.125,127.0.0.1 - - [22/Oct/2023 18:29:41] \"POST /add_step HTTP/1.1\" 200 166 0.001038\n"
     ]
    },
    {
     "name": "stdout",
     "output_type": "stream",
     "text": [
      "<Response [200]>\n"
     ]
    },
    {
     "name": "stderr",
     "output_type": "stream",
     "text": [
      "(41821) accepted ('127.0.0.1', 65051)\n",
      "173.20.233.125,127.0.0.1 - - [22/Oct/2023 18:29:42] \"POST /add_step HTTP/1.1\" 200 166 0.000919\n"
     ]
    },
    {
     "name": "stdout",
     "output_type": "stream",
     "text": [
      "<Response [200]>\n"
     ]
    },
    {
     "name": "stderr",
     "output_type": "stream",
     "text": [
      "(41821) accepted ('127.0.0.1', 49886)\n",
      "173.20.233.125,127.0.0.1 - - [22/Oct/2023 18:29:43] \"POST /add_step HTTP/1.1\" 200 166 0.000481\n"
     ]
    },
    {
     "name": "stdout",
     "output_type": "stream",
     "text": [
      "<Response [200]>\n"
     ]
    },
    {
     "name": "stderr",
     "output_type": "stream",
     "text": [
      "(41821) accepted ('127.0.0.1', 51171)\n",
      "173.20.233.125,127.0.0.1 - - [22/Oct/2023 18:29:43] \"POST /add_step HTTP/1.1\" 200 166 0.001057\n"
     ]
    },
    {
     "name": "stdout",
     "output_type": "stream",
     "text": [
      "<Response [200]>\n"
     ]
    },
    {
     "name": "stderr",
     "output_type": "stream",
     "text": [
      "(41821) accepted ('127.0.0.1', 52544)\n",
      "173.20.233.125,127.0.0.1 - - [22/Oct/2023 18:29:44] \"POST /add_step HTTP/1.1\" 200 166 0.000596\n"
     ]
    },
    {
     "name": "stdout",
     "output_type": "stream",
     "text": [
      "<Response [200]>\n"
     ]
    },
    {
     "name": "stderr",
     "output_type": "stream",
     "text": [
      "(41821) accepted ('127.0.0.1', 53841)\n",
      "173.20.233.125,127.0.0.1 - - [22/Oct/2023 18:29:45] \"POST /add_step HTTP/1.1\" 200 166 0.000992\n"
     ]
    },
    {
     "name": "stdout",
     "output_type": "stream",
     "text": [
      "<Response [200]>\n"
     ]
    },
    {
     "name": "stderr",
     "output_type": "stream",
     "text": [
      "(41821) accepted ('127.0.0.1', 55235)\n",
      "173.20.233.125,127.0.0.1 - - [22/Oct/2023 18:29:45] \"POST /add_step HTTP/1.1\" 200 166 0.000800\n"
     ]
    },
    {
     "name": "stdout",
     "output_type": "stream",
     "text": [
      "<Response [200]>\n"
     ]
    },
    {
     "name": "stderr",
     "output_type": "stream",
     "text": [
      "(41821) accepted ('127.0.0.1', 56690)\n",
      "173.20.233.125,127.0.0.1 - - [22/Oct/2023 18:29:46] \"POST /add_step HTTP/1.1\" 200 166 0.000909\n"
     ]
    },
    {
     "name": "stdout",
     "output_type": "stream",
     "text": [
      "<Response [200]>\n"
     ]
    },
    {
     "name": "stderr",
     "output_type": "stream",
     "text": [
      "(41821) accepted ('127.0.0.1', 57791)\n",
      "173.20.233.125,127.0.0.1 - - [22/Oct/2023 18:29:47] \"POST /add_step HTTP/1.1\" 200 166 0.000624\n"
     ]
    },
    {
     "name": "stdout",
     "output_type": "stream",
     "text": [
      "<Response [200]>\n"
     ]
    },
    {
     "name": "stderr",
     "output_type": "stream",
     "text": [
      "(41821) accepted ('127.0.0.1', 59034)\n",
      "173.20.233.125,127.0.0.1 - - [22/Oct/2023 18:29:48] \"POST /add_step HTTP/1.1\" 200 166 0.001489\n"
     ]
    },
    {
     "name": "stdout",
     "output_type": "stream",
     "text": [
      "<Response [200]>\n"
     ]
    },
    {
     "name": "stderr",
     "output_type": "stream",
     "text": [
      "(41821) accepted ('127.0.0.1', 60359)\n",
      "173.20.233.125,127.0.0.1 - - [22/Oct/2023 18:29:48] \"POST /add_step HTTP/1.1\" 200 166 0.000550\n"
     ]
    },
    {
     "name": "stdout",
     "output_type": "stream",
     "text": [
      "<Response [200]>\n"
     ]
    },
    {
     "name": "stderr",
     "output_type": "stream",
     "text": [
      "(41821) accepted ('127.0.0.1', 61636)\n",
      "173.20.233.125,127.0.0.1 - - [22/Oct/2023 18:29:49] \"POST /add_step HTTP/1.1\" 200 166 0.000921\n"
     ]
    },
    {
     "name": "stdout",
     "output_type": "stream",
     "text": [
      "<Response [200]>\n"
     ]
    },
    {
     "name": "stderr",
     "output_type": "stream",
     "text": [
      "(41821) accepted ('127.0.0.1', 63015)\n",
      "173.20.233.125,127.0.0.1 - - [22/Oct/2023 18:29:50] \"POST /add_step HTTP/1.1\" 200 166 0.003768\n"
     ]
    },
    {
     "name": "stdout",
     "output_type": "stream",
     "text": [
      "<Response [200]>\n"
     ]
    },
    {
     "name": "stderr",
     "output_type": "stream",
     "text": [
      "(41821) accepted ('127.0.0.1', 64168)\n",
      "173.20.233.125,127.0.0.1 - - [22/Oct/2023 18:29:50] \"POST /add_step HTTP/1.1\" 200 166 0.000638\n"
     ]
    },
    {
     "name": "stdout",
     "output_type": "stream",
     "text": [
      "<Response [200]>\n"
     ]
    },
    {
     "name": "stderr",
     "output_type": "stream",
     "text": [
      "(41821) accepted ('127.0.0.1', 65468)\n",
      "173.20.233.125,127.0.0.1 - - [22/Oct/2023 18:29:51] \"POST /add_step HTTP/1.1\" 200 166 0.000552\n"
     ]
    },
    {
     "name": "stdout",
     "output_type": "stream",
     "text": [
      "<Response [200]>\n"
     ]
    },
    {
     "name": "stderr",
     "output_type": "stream",
     "text": [
      "(41821) accepted ('127.0.0.1', 50460)\n",
      "173.20.233.125,127.0.0.1 - - [22/Oct/2023 18:29:52] \"POST /add_step HTTP/1.1\" 200 166 0.000541\n"
     ]
    },
    {
     "name": "stdout",
     "output_type": "stream",
     "text": [
      "<Response [200]>\n"
     ]
    },
    {
     "name": "stderr",
     "output_type": "stream",
     "text": [
      "(41821) accepted ('127.0.0.1', 51791)\n",
      "173.20.233.125,127.0.0.1 - - [22/Oct/2023 18:29:53] \"POST /add_step HTTP/1.1\" 200 166 0.000806\n"
     ]
    },
    {
     "name": "stdout",
     "output_type": "stream",
     "text": [
      "<Response [200]>\n"
     ]
    },
    {
     "name": "stderr",
     "output_type": "stream",
     "text": [
      "(41821) accepted ('127.0.0.1', 53263)\n",
      "173.20.233.125,127.0.0.1 - - [22/Oct/2023 18:29:53] \"POST /add_step HTTP/1.1\" 200 166 0.001156\n"
     ]
    },
    {
     "name": "stdout",
     "output_type": "stream",
     "text": [
      "<Response [200]>\n"
     ]
    },
    {
     "name": "stderr",
     "output_type": "stream",
     "text": [
      "(41821) accepted ('127.0.0.1', 54969)\n",
      "173.20.233.125,127.0.0.1 - - [22/Oct/2023 18:29:54] \"POST /add_step HTTP/1.1\" 200 166 0.000537\n"
     ]
    },
    {
     "name": "stdout",
     "output_type": "stream",
     "text": [
      "<Response [200]>\n"
     ]
    },
    {
     "name": "stderr",
     "output_type": "stream",
     "text": [
      "(41821) accepted ('127.0.0.1', 56144)\n",
      "173.20.233.125,127.0.0.1 - - [22/Oct/2023 18:29:55] \"POST /add_step HTTP/1.1\" 200 166 0.000563\n"
     ]
    },
    {
     "name": "stdout",
     "output_type": "stream",
     "text": [
      "<Response [200]>\n"
     ]
    },
    {
     "name": "stderr",
     "output_type": "stream",
     "text": [
      "(41821) accepted ('127.0.0.1', 57380)\n",
      "173.20.233.125,127.0.0.1 - - [22/Oct/2023 18:29:56] \"POST /add_step HTTP/1.1\" 200 166 0.000686\n"
     ]
    },
    {
     "name": "stdout",
     "output_type": "stream",
     "text": [
      "<Response [200]>\n"
     ]
    },
    {
     "name": "stderr",
     "output_type": "stream",
     "text": [
      "(41821) accepted ('127.0.0.1', 58603)\n",
      "173.20.233.125,127.0.0.1 - - [22/Oct/2023 18:29:56] \"POST /add_step HTTP/1.1\" 200 166 0.000698\n"
     ]
    },
    {
     "name": "stdout",
     "output_type": "stream",
     "text": [
      "<Response [200]>\n"
     ]
    },
    {
     "name": "stderr",
     "output_type": "stream",
     "text": [
      "(41821) accepted ('127.0.0.1', 59831)\n",
      "173.20.233.125,127.0.0.1 - - [22/Oct/2023 18:29:57] \"POST /add_step HTTP/1.1\" 200 166 0.000565\n"
     ]
    },
    {
     "name": "stdout",
     "output_type": "stream",
     "text": [
      "<Response [200]>\n"
     ]
    },
    {
     "name": "stderr",
     "output_type": "stream",
     "text": [
      "(41821) accepted ('127.0.0.1', 61153)\n",
      "173.20.233.125,127.0.0.1 - - [22/Oct/2023 18:29:58] \"POST /add_step HTTP/1.1\" 200 166 0.000608\n"
     ]
    },
    {
     "name": "stdout",
     "output_type": "stream",
     "text": [
      "<Response [200]>\n"
     ]
    },
    {
     "name": "stderr",
     "output_type": "stream",
     "text": [
      "(41821) accepted ('127.0.0.1', 62266)\n",
      "173.20.233.125,127.0.0.1 - - [22/Oct/2023 18:29:58] \"POST /add_step HTTP/1.1\" 200 166 0.000691\n",
      "127.0.0.1 - - [22/Oct/2023 18:29:58] \"GET /socket.io/?EIO=4&transport=websocket&sid=_zKr6EbSeXIzrBTQAAAC HTTP/1.1\" 200 0 38.920068\n",
      "127.0.0.1 - - [22/Oct/2023 18:29:58] \"GET /socket.io/?EIO=4&transport=websocket&sid=bkxGh7WyumKaHXGnAAAA HTTP/1.1\" 200 0 41.641446\n"
     ]
    },
    {
     "name": "stdout",
     "output_type": "stream",
     "text": [
      "<Response [200]>\n"
     ]
    },
    {
     "name": "stderr",
     "output_type": "stream",
     "text": [
      "127.0.0.1 - - [22/Oct/2023 18:29:59] \"GET /socket.io/?EIO=4&transport=polling&t=OjPkL43 HTTP/1.1\" 200 330 0.000288\n",
      "127.0.0.1 - - [22/Oct/2023 18:29:59] \"GET /socket.io/?EIO=4&transport=polling&t=OjPkL45 HTTP/1.1\" 200 330 0.000381\n",
      "127.0.0.1 - - [22/Oct/2023 18:29:59] \"POST /socket.io/?EIO=4&transport=polling&t=OjPkL4D&sid=T7UiNpUEEeUqKwFsAAAE HTTP/1.1\" 200 219 0.000556\n",
      "127.0.0.1 - - [22/Oct/2023 18:29:59] \"GET /socket.io/?EIO=4&transport=polling&t=OjPkL4E&sid=T7UiNpUEEeUqKwFsAAAE HTTP/1.1\" 200 265 0.000149\n",
      "(41821) accepted ('127.0.0.1', 62717)\n",
      "(41821) accepted ('127.0.0.1', 62723)\n",
      "(41821) accepted ('127.0.0.1', 62724)\n",
      "127.0.0.1 - - [22/Oct/2023 18:29:59] \"POST /socket.io/?EIO=4&transport=polling&t=OjPkL4J&sid=LvvObU_mfVlH47_jAAAF HTTP/1.1\" 200 219 0.000439\n",
      "127.0.0.1 - - [22/Oct/2023 18:29:59] \"GET /socket.io/?EIO=4&transport=polling&t=OjPkL4J.0&sid=LvvObU_mfVlH47_jAAAF HTTP/1.1\" 200 265 0.000512\n",
      "127.0.0.1 - - [22/Oct/2023 18:29:59] \"GET /socket.io/?EIO=4&transport=polling&t=OjPkL4P&sid=T7UiNpUEEeUqKwFsAAAE HTTP/1.1\" 200 233 0.000872\n",
      "(41821) accepted ('127.0.0.1', 62750)\n",
      "127.0.0.1 - - [22/Oct/2023 18:29:59] \"GET /socket.io/?EIO=4&transport=polling&t=OjPkL4U&sid=LvvObU_mfVlH47_jAAAF HTTP/1.1\" 200 233 0.009504\n",
      "127.0.0.1 - - [22/Oct/2023 18:29:59] \"GET /all HTTP/1.1\" 200 19086 0.002617\n",
      "(41821) accepted ('127.0.0.1', 63566)\n",
      "173.20.233.125,127.0.0.1 - - [22/Oct/2023 18:29:59] \"POST /add_step HTTP/1.1\" 200 166 0.000891\n"
     ]
    },
    {
     "name": "stdout",
     "output_type": "stream",
     "text": [
      "<Response [200]>\n"
     ]
    },
    {
     "name": "stderr",
     "output_type": "stream",
     "text": [
      "(41821) accepted ('127.0.0.1', 64734)\n",
      "173.20.233.125,127.0.0.1 - - [22/Oct/2023 18:30:00] \"POST /add_step HTTP/1.1\" 200 166 0.000929\n"
     ]
    },
    {
     "name": "stdout",
     "output_type": "stream",
     "text": [
      "<Response [200]>\n"
     ]
    },
    {
     "name": "stderr",
     "output_type": "stream",
     "text": [
      "(41821) accepted ('127.0.0.1', 49595)\n",
      "173.20.233.125,127.0.0.1 - - [22/Oct/2023 18:30:00] \"POST /add_step HTTP/1.1\" 200 166 0.000657\n"
     ]
    },
    {
     "name": "stdout",
     "output_type": "stream",
     "text": [
      "<Response [200]>\n"
     ]
    },
    {
     "name": "stderr",
     "output_type": "stream",
     "text": [
      "(41821) accepted ('127.0.0.1', 50753)\n",
      "173.20.233.125,127.0.0.1 - - [22/Oct/2023 18:30:01] \"POST /add_step HTTP/1.1\" 200 166 0.000548\n"
     ]
    },
    {
     "name": "stdout",
     "output_type": "stream",
     "text": [
      "<Response [200]>\n"
     ]
    },
    {
     "name": "stderr",
     "output_type": "stream",
     "text": [
      "(41821) accepted ('127.0.0.1', 51900)\n",
      "173.20.233.125,127.0.0.1 - - [22/Oct/2023 18:30:02] \"POST /add_step HTTP/1.1\" 200 166 0.000729\n"
     ]
    },
    {
     "name": "stdout",
     "output_type": "stream",
     "text": [
      "<Response [200]>\n"
     ]
    },
    {
     "name": "stderr",
     "output_type": "stream",
     "text": [
      "(41821) accepted ('127.0.0.1', 53076)\n",
      "173.20.233.125,127.0.0.1 - - [22/Oct/2023 18:30:02] \"POST /add_step HTTP/1.1\" 200 166 0.000794\n"
     ]
    },
    {
     "name": "stdout",
     "output_type": "stream",
     "text": [
      "<Response [200]>\n"
     ]
    },
    {
     "name": "stderr",
     "output_type": "stream",
     "text": [
      "(41821) accepted ('127.0.0.1', 54201)\n",
      "173.20.233.125,127.0.0.1 - - [22/Oct/2023 18:30:03] \"POST /add_step HTTP/1.1\" 200 166 0.000635\n"
     ]
    },
    {
     "name": "stdout",
     "output_type": "stream",
     "text": [
      "<Response [200]>\n"
     ]
    },
    {
     "name": "stderr",
     "output_type": "stream",
     "text": [
      "(41821) accepted ('127.0.0.1', 55369)\n",
      "173.20.233.125,127.0.0.1 - - [22/Oct/2023 18:30:04] \"POST /add_step HTTP/1.1\" 200 166 0.000768\n"
     ]
    },
    {
     "name": "stdout",
     "output_type": "stream",
     "text": [
      "<Response [200]>\n"
     ]
    },
    {
     "name": "stderr",
     "output_type": "stream",
     "text": [
      "(41821) accepted ('127.0.0.1', 56514)\n",
      "173.20.233.125,127.0.0.1 - - [22/Oct/2023 18:30:04] \"POST /add_step HTTP/1.1\" 200 166 0.000556\n"
     ]
    },
    {
     "name": "stdout",
     "output_type": "stream",
     "text": [
      "<Response [200]>\n"
     ]
    },
    {
     "name": "stderr",
     "output_type": "stream",
     "text": [
      "(41821) accepted ('127.0.0.1', 57767)\n",
      "173.20.233.125,127.0.0.1 - - [22/Oct/2023 18:30:05] \"POST /add_step HTTP/1.1\" 200 166 0.000892\n"
     ]
    },
    {
     "name": "stdout",
     "output_type": "stream",
     "text": [
      "<Response [200]>\n"
     ]
    },
    {
     "name": "stderr",
     "output_type": "stream",
     "text": [
      "(41821) accepted ('127.0.0.1', 58864)\n",
      "173.20.233.125,127.0.0.1 - - [22/Oct/2023 18:30:05] \"POST /add_step HTTP/1.1\" 200 166 0.000716\n"
     ]
    },
    {
     "name": "stdout",
     "output_type": "stream",
     "text": [
      "<Response [200]>\n"
     ]
    },
    {
     "name": "stderr",
     "output_type": "stream",
     "text": [
      "(41821) accepted ('127.0.0.1', 60125)\n",
      "173.20.233.125,127.0.0.1 - - [22/Oct/2023 18:30:06] \"POST /add_step HTTP/1.1\" 200 166 0.000664\n"
     ]
    },
    {
     "name": "stdout",
     "output_type": "stream",
     "text": [
      "<Response [200]>\n"
     ]
    },
    {
     "name": "stderr",
     "output_type": "stream",
     "text": [
      "(41821) accepted ('127.0.0.1', 61531)\n",
      "173.20.233.125,127.0.0.1 - - [22/Oct/2023 18:30:07] \"POST /add_step HTTP/1.1\" 200 166 0.000641\n"
     ]
    },
    {
     "name": "stdout",
     "output_type": "stream",
     "text": [
      "<Response [200]>\n"
     ]
    },
    {
     "name": "stderr",
     "output_type": "stream",
     "text": [
      "(41821) accepted ('127.0.0.1', 62649)\n",
      "173.20.233.125,127.0.0.1 - - [22/Oct/2023 18:30:08] \"POST /add_step HTTP/1.1\" 200 166 0.000715\n"
     ]
    },
    {
     "name": "stdout",
     "output_type": "stream",
     "text": [
      "<Response [200]>\n"
     ]
    },
    {
     "name": "stderr",
     "output_type": "stream",
     "text": [
      "(41821) accepted ('127.0.0.1', 63765)\n",
      "173.20.233.125,127.0.0.1 - - [22/Oct/2023 18:30:08] \"POST /add_step HTTP/1.1\" 200 166 0.000627\n"
     ]
    },
    {
     "name": "stdout",
     "output_type": "stream",
     "text": [
      "<Response [200]>\n"
     ]
    },
    {
     "name": "stderr",
     "output_type": "stream",
     "text": [
      "(41821) accepted ('127.0.0.1', 64879)\n",
      "173.20.233.125,127.0.0.1 - - [22/Oct/2023 18:30:09] \"POST /add_step HTTP/1.1\" 200 166 0.000532\n"
     ]
    },
    {
     "name": "stdout",
     "output_type": "stream",
     "text": [
      "<Response [200]>\n"
     ]
    },
    {
     "name": "stderr",
     "output_type": "stream",
     "text": [
      "(41821) accepted ('127.0.0.1', 49617)\n",
      "173.20.233.125,127.0.0.1 - - [22/Oct/2023 18:30:09] \"POST /add_step HTTP/1.1\" 200 166 0.000658\n"
     ]
    },
    {
     "name": "stdout",
     "output_type": "stream",
     "text": [
      "<Response [200]>\n"
     ]
    },
    {
     "name": "stderr",
     "output_type": "stream",
     "text": [
      "(41821) accepted ('127.0.0.1', 50744)\n",
      "173.20.233.125,127.0.0.1 - - [22/Oct/2023 18:30:10] \"POST /add_step HTTP/1.1\" 200 166 0.000757\n"
     ]
    },
    {
     "name": "stdout",
     "output_type": "stream",
     "text": [
      "<Response [200]>\n"
     ]
    },
    {
     "name": "stderr",
     "output_type": "stream",
     "text": [
      "(41821) accepted ('127.0.0.1', 51911)\n",
      "173.20.233.125,127.0.0.1 - - [22/Oct/2023 18:30:11] \"POST /add_step HTTP/1.1\" 200 166 0.000905\n"
     ]
    },
    {
     "name": "stdout",
     "output_type": "stream",
     "text": [
      "<Response [200]>\n"
     ]
    },
    {
     "name": "stderr",
     "output_type": "stream",
     "text": [
      "(41821) accepted ('127.0.0.1', 52988)\n",
      "173.20.233.125,127.0.0.1 - - [22/Oct/2023 18:30:11] \"POST /add_step HTTP/1.1\" 200 166 0.000890\n"
     ]
    },
    {
     "name": "stdout",
     "output_type": "stream",
     "text": [
      "<Response [200]>\n"
     ]
    },
    {
     "name": "stderr",
     "output_type": "stream",
     "text": [
      "(41821) accepted ('127.0.0.1', 54128)\n",
      "173.20.233.125,127.0.0.1 - - [22/Oct/2023 18:30:12] \"POST /add_step HTTP/1.1\" 200 166 0.000759\n"
     ]
    },
    {
     "name": "stdout",
     "output_type": "stream",
     "text": [
      "<Response [200]>\n"
     ]
    },
    {
     "name": "stderr",
     "output_type": "stream",
     "text": [
      "(41821) accepted ('127.0.0.1', 55214)\n",
      "173.20.233.125,127.0.0.1 - - [22/Oct/2023 18:30:12] \"POST /add_step HTTP/1.1\" 200 166 0.001000\n"
     ]
    },
    {
     "name": "stdout",
     "output_type": "stream",
     "text": [
      "<Response [200]>\n"
     ]
    },
    {
     "name": "stderr",
     "output_type": "stream",
     "text": [
      "(41821) accepted ('127.0.0.1', 56337)\n",
      "173.20.233.125,127.0.0.1 - - [22/Oct/2023 18:30:13] \"POST /add_step HTTP/1.1\" 200 166 0.000908\n"
     ]
    },
    {
     "name": "stdout",
     "output_type": "stream",
     "text": [
      "<Response [200]>\n"
     ]
    },
    {
     "name": "stderr",
     "output_type": "stream",
     "text": [
      "(41821) accepted ('127.0.0.1', 57447)\n",
      "173.20.233.125,127.0.0.1 - - [22/Oct/2023 18:30:14] \"POST /add_step HTTP/1.1\" 200 166 0.000617\n"
     ]
    },
    {
     "name": "stdout",
     "output_type": "stream",
     "text": [
      "<Response [200]>\n"
     ]
    },
    {
     "name": "stderr",
     "output_type": "stream",
     "text": [
      "(41821) accepted ('127.0.0.1', 58548)\n",
      "173.20.233.125,127.0.0.1 - - [22/Oct/2023 18:30:14] \"POST /add_step HTTP/1.1\" 200 166 0.000565\n"
     ]
    },
    {
     "name": "stdout",
     "output_type": "stream",
     "text": [
      "<Response [200]>\n"
     ]
    },
    {
     "name": "stderr",
     "output_type": "stream",
     "text": [
      "(41821) accepted ('127.0.0.1', 59660)\n",
      "173.20.233.125,127.0.0.1 - - [22/Oct/2023 18:30:15] \"POST /add_step HTTP/1.1\" 200 166 0.000730\n"
     ]
    },
    {
     "name": "stdout",
     "output_type": "stream",
     "text": [
      "<Response [200]>\n"
     ]
    },
    {
     "name": "stderr",
     "output_type": "stream",
     "text": [
      "(41821) accepted ('127.0.0.1', 60768)\n",
      "173.20.233.125,127.0.0.1 - - [22/Oct/2023 18:30:15] \"POST /add_step HTTP/1.1\" 200 166 0.000826\n"
     ]
    },
    {
     "name": "stdout",
     "output_type": "stream",
     "text": [
      "<Response [200]>\n"
     ]
    },
    {
     "name": "stderr",
     "output_type": "stream",
     "text": [
      "(41821) accepted ('127.0.0.1', 61863)\n",
      "173.20.233.125,127.0.0.1 - - [22/Oct/2023 18:30:16] \"POST /add_step HTTP/1.1\" 200 166 0.000618\n"
     ]
    },
    {
     "name": "stdout",
     "output_type": "stream",
     "text": [
      "<Response [200]>\n"
     ]
    },
    {
     "name": "stderr",
     "output_type": "stream",
     "text": [
      "(41821) accepted ('127.0.0.1', 62958)\n",
      "173.20.233.125,127.0.0.1 - - [22/Oct/2023 18:30:17] \"POST /add_step HTTP/1.1\" 200 166 0.000886\n"
     ]
    },
    {
     "name": "stdout",
     "output_type": "stream",
     "text": [
      "<Response [200]>\n"
     ]
    },
    {
     "name": "stderr",
     "output_type": "stream",
     "text": [
      "(41821) accepted ('127.0.0.1', 64092)\n",
      "173.20.233.125,127.0.0.1 - - [22/Oct/2023 18:30:17] \"POST /add_step HTTP/1.1\" 200 166 0.000615\n"
     ]
    },
    {
     "name": "stdout",
     "output_type": "stream",
     "text": [
      "<Response [200]>\n"
     ]
    },
    {
     "name": "stderr",
     "output_type": "stream",
     "text": [
      "(41821) accepted ('127.0.0.1', 65244)\n",
      "173.20.233.125,127.0.0.1 - - [22/Oct/2023 18:30:18] \"POST /add_step HTTP/1.1\" 200 166 0.000647\n"
     ]
    },
    {
     "name": "stdout",
     "output_type": "stream",
     "text": [
      "<Response [200]>\n"
     ]
    },
    {
     "name": "stderr",
     "output_type": "stream",
     "text": [
      "(41821) accepted ('127.0.0.1', 49976)\n",
      "173.20.233.125,127.0.0.1 - - [22/Oct/2023 18:30:19] \"POST /add_step HTTP/1.1\" 200 166 0.000762\n"
     ]
    },
    {
     "name": "stdout",
     "output_type": "stream",
     "text": [
      "<Response [200]>\n"
     ]
    },
    {
     "name": "stderr",
     "output_type": "stream",
     "text": [
      "(41821) accepted ('127.0.0.1', 51121)\n",
      "173.20.233.125,127.0.0.1 - - [22/Oct/2023 18:30:19] \"POST /add_step HTTP/1.1\" 200 166 0.000761\n"
     ]
    },
    {
     "name": "stdout",
     "output_type": "stream",
     "text": [
      "<Response [200]>\n"
     ]
    },
    {
     "name": "stderr",
     "output_type": "stream",
     "text": [
      "(41821) accepted ('127.0.0.1', 52230)\n",
      "173.20.233.125,127.0.0.1 - - [22/Oct/2023 18:30:20] \"POST /add_step HTTP/1.1\" 200 166 0.000891\n"
     ]
    },
    {
     "name": "stdout",
     "output_type": "stream",
     "text": [
      "<Response [200]>\n"
     ]
    },
    {
     "name": "stderr",
     "output_type": "stream",
     "text": [
      "(41821) accepted ('127.0.0.1', 53343)\n",
      "173.20.233.125,127.0.0.1 - - [22/Oct/2023 18:30:20] \"POST /add_step HTTP/1.1\" 200 166 0.000757\n"
     ]
    },
    {
     "name": "stdout",
     "output_type": "stream",
     "text": [
      "<Response [200]>\n"
     ]
    },
    {
     "name": "stderr",
     "output_type": "stream",
     "text": [
      "(41821) accepted ('127.0.0.1', 54489)\n",
      "173.20.233.125,127.0.0.1 - - [22/Oct/2023 18:30:21] \"POST /add_step HTTP/1.1\" 200 166 0.000747\n"
     ]
    },
    {
     "name": "stdout",
     "output_type": "stream",
     "text": [
      "<Response [200]>\n"
     ]
    },
    {
     "name": "stderr",
     "output_type": "stream",
     "text": [
      "(41821) accepted ('127.0.0.1', 55624)\n",
      "173.20.233.125,127.0.0.1 - - [22/Oct/2023 18:30:22] \"POST /add_step HTTP/1.1\" 200 166 0.000864\n"
     ]
    },
    {
     "name": "stdout",
     "output_type": "stream",
     "text": [
      "<Response [200]>\n"
     ]
    },
    {
     "name": "stderr",
     "output_type": "stream",
     "text": [
      "(41821) accepted ('127.0.0.1', 56705)\n",
      "173.20.233.125,127.0.0.1 - - [22/Oct/2023 18:30:22] \"POST /add_step HTTP/1.1\" 200 166 0.000618\n"
     ]
    },
    {
     "name": "stdout",
     "output_type": "stream",
     "text": [
      "<Response [200]>\n"
     ]
    },
    {
     "name": "stderr",
     "output_type": "stream",
     "text": [
      "(41821) accepted ('127.0.0.1', 57829)\n",
      "173.20.233.125,127.0.0.1 - - [22/Oct/2023 18:30:23] \"POST /add_step HTTP/1.1\" 200 166 0.000781\n"
     ]
    },
    {
     "name": "stdout",
     "output_type": "stream",
     "text": [
      "<Response [200]>\n"
     ]
    },
    {
     "name": "stderr",
     "output_type": "stream",
     "text": [
      "(41821) accepted ('127.0.0.1', 58944)\n",
      "173.20.233.125,127.0.0.1 - - [22/Oct/2023 18:30:23] \"POST /add_step HTTP/1.1\" 200 166 0.000629\n"
     ]
    },
    {
     "name": "stdout",
     "output_type": "stream",
     "text": [
      "<Response [200]>\n"
     ]
    },
    {
     "name": "stderr",
     "output_type": "stream",
     "text": [
      "(41821) accepted ('127.0.0.1', 60052)\n",
      "173.20.233.125,127.0.0.1 - - [22/Oct/2023 18:30:24] \"POST /add_step HTTP/1.1\" 200 166 0.000623\n"
     ]
    },
    {
     "name": "stdout",
     "output_type": "stream",
     "text": [
      "<Response [200]>\n"
     ]
    },
    {
     "name": "stderr",
     "output_type": "stream",
     "text": [
      "(41821) accepted ('127.0.0.1', 61178)\n",
      "173.20.233.125,127.0.0.1 - - [22/Oct/2023 18:30:25] \"POST /add_step HTTP/1.1\" 200 166 0.000667\n"
     ]
    },
    {
     "name": "stdout",
     "output_type": "stream",
     "text": [
      "<Response [200]>\n"
     ]
    },
    {
     "name": "stderr",
     "output_type": "stream",
     "text": [
      "(41821) accepted ('127.0.0.1', 62277)\n",
      "173.20.233.125,127.0.0.1 - - [22/Oct/2023 18:30:25] \"POST /add_step HTTP/1.1\" 200 166 0.000964\n"
     ]
    },
    {
     "name": "stdout",
     "output_type": "stream",
     "text": [
      "<Response [200]>\n"
     ]
    },
    {
     "name": "stderr",
     "output_type": "stream",
     "text": [
      "(41821) accepted ('127.0.0.1', 63393)\n",
      "173.20.233.125,127.0.0.1 - - [22/Oct/2023 18:30:26] \"POST /add_step HTTP/1.1\" 200 166 0.000732\n"
     ]
    },
    {
     "name": "stdout",
     "output_type": "stream",
     "text": [
      "<Response [200]>\n"
     ]
    },
    {
     "name": "stderr",
     "output_type": "stream",
     "text": [
      "(41821) accepted ('127.0.0.1', 64466)\n",
      "173.20.233.125,127.0.0.1 - - [22/Oct/2023 18:30:26] \"POST /add_step HTTP/1.1\" 200 166 0.000701\n"
     ]
    },
    {
     "name": "stdout",
     "output_type": "stream",
     "text": [
      "<Response [200]>\n"
     ]
    },
    {
     "name": "stderr",
     "output_type": "stream",
     "text": [
      "(41821) accepted ('127.0.0.1', 49183)\n",
      "173.20.233.125,127.0.0.1 - - [22/Oct/2023 18:30:27] \"POST /add_step HTTP/1.1\" 200 166 0.000765\n"
     ]
    },
    {
     "name": "stdout",
     "output_type": "stream",
     "text": [
      "<Response [200]>\n"
     ]
    },
    {
     "name": "stderr",
     "output_type": "stream",
     "text": [
      "(41821) accepted ('127.0.0.1', 50294)\n",
      "173.20.233.125,127.0.0.1 - - [22/Oct/2023 18:30:28] \"POST /add_step HTTP/1.1\" 200 166 0.001130\n"
     ]
    },
    {
     "name": "stdout",
     "output_type": "stream",
     "text": [
      "<Response [200]>\n"
     ]
    },
    {
     "name": "stderr",
     "output_type": "stream",
     "text": [
      "(41821) accepted ('127.0.0.1', 51401)\n",
      "173.20.233.125,127.0.0.1 - - [22/Oct/2023 18:30:28] \"POST /add_step HTTP/1.1\" 200 166 0.000702\n"
     ]
    },
    {
     "name": "stdout",
     "output_type": "stream",
     "text": [
      "<Response [200]>\n"
     ]
    },
    {
     "name": "stderr",
     "output_type": "stream",
     "text": [
      "(41821) accepted ('127.0.0.1', 52591)\n",
      "173.20.233.125,127.0.0.1 - - [22/Oct/2023 18:30:29] \"POST /add_step HTTP/1.1\" 200 166 0.000971\n"
     ]
    },
    {
     "name": "stdout",
     "output_type": "stream",
     "text": [
      "<Response [200]>\n"
     ]
    },
    {
     "name": "stderr",
     "output_type": "stream",
     "text": [
      "(41821) accepted ('127.0.0.1', 53712)\n",
      "173.20.233.125,127.0.0.1 - - [22/Oct/2023 18:30:29] \"POST /add_step HTTP/1.1\" 200 166 0.000644\n"
     ]
    },
    {
     "name": "stdout",
     "output_type": "stream",
     "text": [
      "<Response [200]>\n"
     ]
    },
    {
     "name": "stderr",
     "output_type": "stream",
     "text": [
      "(41821) accepted ('127.0.0.1', 54878)\n",
      "173.20.233.125,127.0.0.1 - - [22/Oct/2023 18:30:30] \"POST /add_step HTTP/1.1\" 200 166 0.000773\n"
     ]
    },
    {
     "name": "stdout",
     "output_type": "stream",
     "text": [
      "<Response [200]>\n"
     ]
    },
    {
     "name": "stderr",
     "output_type": "stream",
     "text": [
      "(41821) accepted ('127.0.0.1', 55978)\n",
      "173.20.233.125,127.0.0.1 - - [22/Oct/2023 18:30:31] \"POST /add_step HTTP/1.1\" 200 166 0.000815\n"
     ]
    },
    {
     "name": "stdout",
     "output_type": "stream",
     "text": [
      "<Response [200]>\n"
     ]
    },
    {
     "name": "stderr",
     "output_type": "stream",
     "text": [
      "(41821) accepted ('127.0.0.1', 57504)\n",
      "173.20.233.125,127.0.0.1 - - [22/Oct/2023 18:30:32] \"POST /add_step HTTP/1.1\" 200 166 0.000710\n"
     ]
    },
    {
     "name": "stdout",
     "output_type": "stream",
     "text": [
      "<Response [200]>\n"
     ]
    },
    {
     "name": "stderr",
     "output_type": "stream",
     "text": [
      "(41821) accepted ('127.0.0.1', 58691)\n",
      "173.20.233.125,127.0.0.1 - - [22/Oct/2023 18:30:32] \"POST /add_step HTTP/1.1\" 200 166 0.000656\n"
     ]
    },
    {
     "name": "stdout",
     "output_type": "stream",
     "text": [
      "<Response [200]>\n"
     ]
    },
    {
     "name": "stderr",
     "output_type": "stream",
     "text": [
      "(41821) accepted ('127.0.0.1', 59807)\n",
      "173.20.233.125,127.0.0.1 - - [22/Oct/2023 18:30:33] \"POST /add_step HTTP/1.1\" 200 166 0.000943\n"
     ]
    },
    {
     "name": "stdout",
     "output_type": "stream",
     "text": [
      "<Response [200]>\n"
     ]
    },
    {
     "name": "stderr",
     "output_type": "stream",
     "text": [
      "(41821) accepted ('127.0.0.1', 61146)\n",
      "173.20.233.125,127.0.0.1 - - [22/Oct/2023 18:30:34] \"POST /add_step HTTP/1.1\" 200 166 0.000742\n"
     ]
    },
    {
     "name": "stdout",
     "output_type": "stream",
     "text": [
      "<Response [200]>\n"
     ]
    },
    {
     "name": "stderr",
     "output_type": "stream",
     "text": [
      "(41821) accepted ('127.0.0.1', 62338)\n",
      "173.20.233.125,127.0.0.1 - - [22/Oct/2023 18:30:34] \"POST /add_step HTTP/1.1\" 200 166 0.000742\n"
     ]
    },
    {
     "name": "stdout",
     "output_type": "stream",
     "text": [
      "<Response [200]>\n"
     ]
    },
    {
     "name": "stderr",
     "output_type": "stream",
     "text": [
      "(41821) accepted ('127.0.0.1', 63590)\n",
      "173.20.233.125,127.0.0.1 - - [22/Oct/2023 18:30:35] \"POST /add_step HTTP/1.1\" 200 166 0.000664\n"
     ]
    },
    {
     "name": "stdout",
     "output_type": "stream",
     "text": [
      "<Response [200]>\n"
     ]
    },
    {
     "name": "stderr",
     "output_type": "stream",
     "text": [
      "(41821) accepted ('127.0.0.1', 64950)\n",
      "173.20.233.125,127.0.0.1 - - [22/Oct/2023 18:30:36] \"POST /add_step HTTP/1.1\" 200 166 0.000513\n"
     ]
    },
    {
     "name": "stdout",
     "output_type": "stream",
     "text": [
      "<Response [200]>\n"
     ]
    },
    {
     "name": "stderr",
     "output_type": "stream",
     "text": [
      "(41821) accepted ('127.0.0.1', 49946)\n",
      "173.20.233.125,127.0.0.1 - - [22/Oct/2023 18:30:36] \"POST /add_step HTTP/1.1\" 200 166 0.000596\n"
     ]
    },
    {
     "name": "stdout",
     "output_type": "stream",
     "text": [
      "<Response [200]>\n"
     ]
    },
    {
     "name": "stderr",
     "output_type": "stream",
     "text": [
      "(41821) accepted ('127.0.0.1', 51312)\n",
      "173.20.233.125,127.0.0.1 - - [22/Oct/2023 18:30:37] \"POST /add_step HTTP/1.1\" 200 166 0.000771\n"
     ]
    },
    {
     "name": "stdout",
     "output_type": "stream",
     "text": [
      "<Response [200]>\n"
     ]
    },
    {
     "name": "stderr",
     "output_type": "stream",
     "text": [
      "(41821) accepted ('127.0.0.1', 52451)\n",
      "173.20.233.125,127.0.0.1 - - [22/Oct/2023 18:30:38] \"POST /add_step HTTP/1.1\" 200 166 0.000433\n"
     ]
    },
    {
     "name": "stdout",
     "output_type": "stream",
     "text": [
      "<Response [200]>\n"
     ]
    },
    {
     "name": "stderr",
     "output_type": "stream",
     "text": [
      "(41821) accepted ('127.0.0.1', 54032)\n",
      "173.20.233.125,127.0.0.1 - - [22/Oct/2023 18:30:39] \"POST /add_step HTTP/1.1\" 200 166 0.000522\n"
     ]
    },
    {
     "name": "stdout",
     "output_type": "stream",
     "text": [
      "<Response [200]>\n"
     ]
    },
    {
     "name": "stderr",
     "output_type": "stream",
     "text": [
      "(41821) accepted ('127.0.0.1', 55196)\n",
      "173.20.233.125,127.0.0.1 - - [22/Oct/2023 18:30:39] \"POST /add_step HTTP/1.1\" 200 166 0.000712\n"
     ]
    },
    {
     "name": "stdout",
     "output_type": "stream",
     "text": [
      "<Response [200]>\n"
     ]
    },
    {
     "name": "stderr",
     "output_type": "stream",
     "text": [
      "(41821) accepted ('127.0.0.1', 56510)\n",
      "173.20.233.125,127.0.0.1 - - [22/Oct/2023 18:30:40] \"POST /add_step HTTP/1.1\" 200 166 0.001063\n"
     ]
    },
    {
     "name": "stdout",
     "output_type": "stream",
     "text": [
      "<Response [200]>\n"
     ]
    },
    {
     "name": "stderr",
     "output_type": "stream",
     "text": [
      "(41821) accepted ('127.0.0.1', 57999)\n",
      "173.20.233.125,127.0.0.1 - - [22/Oct/2023 18:30:41] \"POST /add_step HTTP/1.1\" 200 166 0.000431\n"
     ]
    },
    {
     "name": "stdout",
     "output_type": "stream",
     "text": [
      "<Response [200]>\n"
     ]
    },
    {
     "name": "stderr",
     "output_type": "stream",
     "text": [
      "(41821) accepted ('127.0.0.1', 59418)\n",
      "173.20.233.125,127.0.0.1 - - [22/Oct/2023 18:30:42] \"POST /add_step HTTP/1.1\" 200 166 0.000521\n"
     ]
    },
    {
     "name": "stdout",
     "output_type": "stream",
     "text": [
      "<Response [200]>\n"
     ]
    },
    {
     "name": "stderr",
     "output_type": "stream",
     "text": [
      "(41821) accepted ('127.0.0.1', 60685)\n",
      "173.20.233.125,127.0.0.1 - - [22/Oct/2023 18:30:42] \"POST /add_step HTTP/1.1\" 200 166 0.000510\n"
     ]
    },
    {
     "name": "stdout",
     "output_type": "stream",
     "text": [
      "<Response [200]>\n"
     ]
    },
    {
     "name": "stderr",
     "output_type": "stream",
     "text": [
      "(41821) accepted ('127.0.0.1', 61997)\n",
      "173.20.233.125,127.0.0.1 - - [22/Oct/2023 18:30:43] \"POST /add_step HTTP/1.1\" 200 166 0.000553\n"
     ]
    },
    {
     "name": "stdout",
     "output_type": "stream",
     "text": [
      "<Response [200]>\n"
     ]
    },
    {
     "name": "stderr",
     "output_type": "stream",
     "text": [
      "(41821) accepted ('127.0.0.1', 63290)\n",
      "173.20.233.125,127.0.0.1 - - [22/Oct/2023 18:30:44] \"POST /add_step HTTP/1.1\" 200 166 0.000667\n"
     ]
    },
    {
     "name": "stdout",
     "output_type": "stream",
     "text": [
      "<Response [200]>\n"
     ]
    },
    {
     "name": "stderr",
     "output_type": "stream",
     "text": [
      "(41821) accepted ('127.0.0.1', 64496)\n",
      "173.20.233.125,127.0.0.1 - - [22/Oct/2023 18:30:44] \"POST /add_step HTTP/1.1\" 200 166 0.000540\n"
     ]
    },
    {
     "name": "stdout",
     "output_type": "stream",
     "text": [
      "<Response [200]>\n"
     ]
    },
    {
     "name": "stderr",
     "output_type": "stream",
     "text": [
      "(41821) accepted ('127.0.0.1', 49539)\n",
      "173.20.233.125,127.0.0.1 - - [22/Oct/2023 18:30:45] \"POST /add_step HTTP/1.1\" 200 166 0.000797\n"
     ]
    },
    {
     "name": "stdout",
     "output_type": "stream",
     "text": [
      "<Response [200]>\n"
     ]
    },
    {
     "name": "stderr",
     "output_type": "stream",
     "text": [
      "(41821) accepted ('127.0.0.1', 50861)\n",
      "173.20.233.125,127.0.0.1 - - [22/Oct/2023 18:30:46] \"POST /add_step HTTP/1.1\" 200 166 0.000551\n"
     ]
    },
    {
     "name": "stdout",
     "output_type": "stream",
     "text": [
      "<Response [200]>\n"
     ]
    },
    {
     "name": "stderr",
     "output_type": "stream",
     "text": [
      "(41821) accepted ('127.0.0.1', 52272)\n",
      "173.20.233.125,127.0.0.1 - - [22/Oct/2023 18:30:47] \"POST /add_step HTTP/1.1\" 200 166 0.000970\n"
     ]
    },
    {
     "name": "stdout",
     "output_type": "stream",
     "text": [
      "<Response [200]>\n"
     ]
    },
    {
     "name": "stderr",
     "output_type": "stream",
     "text": [
      "(41821) accepted ('127.0.0.1', 54234)\n",
      "173.20.233.125,127.0.0.1 - - [22/Oct/2023 18:30:48] \"POST /add_step HTTP/1.1\" 200 166 0.000610\n"
     ]
    },
    {
     "name": "stdout",
     "output_type": "stream",
     "text": [
      "<Response [200]>\n"
     ]
    },
    {
     "name": "stderr",
     "output_type": "stream",
     "text": [
      "(41821) accepted ('127.0.0.1', 55658)\n",
      "173.20.233.125,127.0.0.1 - - [22/Oct/2023 18:30:48] \"POST /add_step HTTP/1.1\" 200 166 0.000603\n"
     ]
    },
    {
     "name": "stdout",
     "output_type": "stream",
     "text": [
      "<Response [200]>\n"
     ]
    },
    {
     "name": "stderr",
     "output_type": "stream",
     "text": [
      "(41821) accepted ('127.0.0.1', 56742)\n",
      "173.20.233.125,127.0.0.1 - - [22/Oct/2023 18:30:49] \"POST /add_step HTTP/1.1\" 200 166 0.000560\n"
     ]
    },
    {
     "name": "stdout",
     "output_type": "stream",
     "text": [
      "<Response [200]>\n"
     ]
    },
    {
     "name": "stderr",
     "output_type": "stream",
     "text": [
      "(41821) accepted ('127.0.0.1', 58005)\n",
      "173.20.233.125,127.0.0.1 - - [22/Oct/2023 18:30:50] \"POST /add_step HTTP/1.1\" 200 166 0.000640\n"
     ]
    },
    {
     "name": "stdout",
     "output_type": "stream",
     "text": [
      "<Response [200]>\n"
     ]
    },
    {
     "name": "stderr",
     "output_type": "stream",
     "text": [
      "(41821) accepted ('127.0.0.1', 59114)\n",
      "173.20.233.125,127.0.0.1 - - [22/Oct/2023 18:30:50] \"POST /add_step HTTP/1.1\" 200 166 0.000781\n"
     ]
    },
    {
     "name": "stdout",
     "output_type": "stream",
     "text": [
      "<Response [200]>\n"
     ]
    },
    {
     "name": "stderr",
     "output_type": "stream",
     "text": [
      "(41821) accepted ('127.0.0.1', 60190)\n",
      "173.20.233.125,127.0.0.1 - - [22/Oct/2023 18:30:51] \"POST /add_step HTTP/1.1\" 200 166 0.000450\n"
     ]
    },
    {
     "name": "stdout",
     "output_type": "stream",
     "text": [
      "<Response [200]>\n"
     ]
    },
    {
     "name": "stderr",
     "output_type": "stream",
     "text": [
      "(41821) accepted ('127.0.0.1', 61297)\n",
      "173.20.233.125,127.0.0.1 - - [22/Oct/2023 18:30:52] \"POST /add_step HTTP/1.1\" 200 166 0.000592\n"
     ]
    },
    {
     "name": "stdout",
     "output_type": "stream",
     "text": [
      "<Response [200]>\n"
     ]
    },
    {
     "name": "stderr",
     "output_type": "stream",
     "text": [
      "(41821) accepted ('127.0.0.1', 62504)\n",
      "173.20.233.125,127.0.0.1 - - [22/Oct/2023 18:30:52] \"POST /add_step HTTP/1.1\" 200 166 0.006755\n"
     ]
    },
    {
     "name": "stdout",
     "output_type": "stream",
     "text": [
      "<Response [200]>\n"
     ]
    },
    {
     "name": "stderr",
     "output_type": "stream",
     "text": [
      "(41821) accepted ('127.0.0.1', 63813)\n",
      "173.20.233.125,127.0.0.1 - - [22/Oct/2023 18:30:53] \"POST /add_step HTTP/1.1\" 200 166 0.001109\n"
     ]
    },
    {
     "name": "stdout",
     "output_type": "stream",
     "text": [
      "<Response [200]>\n"
     ]
    },
    {
     "name": "stderr",
     "output_type": "stream",
     "text": [
      "(41821) accepted ('127.0.0.1', 65090)\n",
      "173.20.233.125,127.0.0.1 - - [22/Oct/2023 18:30:54] \"POST /add_step HTTP/1.1\" 200 166 0.001073\n"
     ]
    },
    {
     "name": "stdout",
     "output_type": "stream",
     "text": [
      "<Response [200]>\n"
     ]
    },
    {
     "name": "stderr",
     "output_type": "stream",
     "text": [
      "(41821) accepted ('127.0.0.1', 49922)\n",
      "173.20.233.125,127.0.0.1 - - [22/Oct/2023 18:30:54] \"POST /add_step HTTP/1.1\" 200 166 0.000640\n"
     ]
    },
    {
     "name": "stdout",
     "output_type": "stream",
     "text": [
      "<Response [200]>\n"
     ]
    },
    {
     "name": "stderr",
     "output_type": "stream",
     "text": [
      "(41821) accepted ('127.0.0.1', 51162)\n",
      "173.20.233.125,127.0.0.1 - - [22/Oct/2023 18:30:55] \"POST /add_step HTTP/1.1\" 200 166 0.000650\n"
     ]
    },
    {
     "name": "stdout",
     "output_type": "stream",
     "text": [
      "<Response [200]>\n"
     ]
    },
    {
     "name": "stderr",
     "output_type": "stream",
     "text": [
      "(41821) accepted ('127.0.0.1', 52394)\n",
      "173.20.233.125,127.0.0.1 - - [22/Oct/2023 18:30:56] \"POST /add_step HTTP/1.1\" 200 166 0.000565\n"
     ]
    },
    {
     "name": "stdout",
     "output_type": "stream",
     "text": [
      "<Response [200]>\n"
     ]
    },
    {
     "name": "stderr",
     "output_type": "stream",
     "text": [
      "(41821) accepted ('127.0.0.1', 53681)\n",
      "173.20.233.125,127.0.0.1 - - [22/Oct/2023 18:30:56] \"POST /add_step HTTP/1.1\" 200 166 0.000478\n"
     ]
    },
    {
     "name": "stdout",
     "output_type": "stream",
     "text": [
      "<Response [200]>\n"
     ]
    },
    {
     "name": "stderr",
     "output_type": "stream",
     "text": [
      "(41821) accepted ('127.0.0.1', 55077)\n",
      "173.20.233.125,127.0.0.1 - - [22/Oct/2023 18:30:57] \"POST /add_step HTTP/1.1\" 200 166 0.000485\n"
     ]
    },
    {
     "name": "stdout",
     "output_type": "stream",
     "text": [
      "<Response [200]>\n"
     ]
    },
    {
     "name": "stderr",
     "output_type": "stream",
     "text": [
      "(41821) accepted ('127.0.0.1', 56345)\n",
      "173.20.233.125,127.0.0.1 - - [22/Oct/2023 18:30:58] \"POST /add_step HTTP/1.1\" 200 166 0.001198\n"
     ]
    },
    {
     "name": "stdout",
     "output_type": "stream",
     "text": [
      "<Response [200]>\n"
     ]
    },
    {
     "name": "stderr",
     "output_type": "stream",
     "text": [
      "(41821) accepted ('127.0.0.1', 57958)\n",
      "173.20.233.125,127.0.0.1 - - [22/Oct/2023 18:30:59] \"POST /add_step HTTP/1.1\" 200 166 0.000488\n"
     ]
    },
    {
     "name": "stdout",
     "output_type": "stream",
     "text": [
      "<Response [200]>\n"
     ]
    },
    {
     "name": "stderr",
     "output_type": "stream",
     "text": [
      "(41821) accepted ('127.0.0.1', 59297)\n",
      "173.20.233.125,127.0.0.1 - - [22/Oct/2023 18:30:59] \"POST /add_step HTTP/1.1\" 200 166 0.000430\n"
     ]
    },
    {
     "name": "stdout",
     "output_type": "stream",
     "text": [
      "<Response [200]>\n"
     ]
    },
    {
     "name": "stderr",
     "output_type": "stream",
     "text": [
      "(41821) accepted ('127.0.0.1', 60510)\n",
      "173.20.233.125,127.0.0.1 - - [22/Oct/2023 18:31:00] \"POST /add_step HTTP/1.1\" 200 166 0.000493\n"
     ]
    },
    {
     "name": "stdout",
     "output_type": "stream",
     "text": [
      "<Response [200]>\n"
     ]
    },
    {
     "name": "stderr",
     "output_type": "stream",
     "text": [
      "(41821) accepted ('127.0.0.1', 61633)\n",
      "173.20.233.125,127.0.0.1 - - [22/Oct/2023 18:31:01] \"POST /add_step HTTP/1.1\" 200 166 0.000724\n"
     ]
    },
    {
     "name": "stdout",
     "output_type": "stream",
     "text": [
      "<Response [200]>\n"
     ]
    },
    {
     "name": "stderr",
     "output_type": "stream",
     "text": [
      "(41821) accepted ('127.0.0.1', 62764)\n",
      "173.20.233.125,127.0.0.1 - - [22/Oct/2023 18:31:01] \"POST /add_step HTTP/1.1\" 200 166 0.000518\n"
     ]
    },
    {
     "name": "stdout",
     "output_type": "stream",
     "text": [
      "<Response [200]>\n"
     ]
    },
    {
     "name": "stderr",
     "output_type": "stream",
     "text": [
      "(41821) accepted ('127.0.0.1', 64017)\n",
      "173.20.233.125,127.0.0.1 - - [22/Oct/2023 18:31:02] \"POST /add_step HTTP/1.1\" 200 166 0.000924\n"
     ]
    },
    {
     "name": "stdout",
     "output_type": "stream",
     "text": [
      "<Response [200]>\n"
     ]
    },
    {
     "name": "stderr",
     "output_type": "stream",
     "text": [
      "(41821) accepted ('127.0.0.1', 65177)\n",
      "173.20.233.125,127.0.0.1 - - [22/Oct/2023 18:31:03] \"POST /add_step HTTP/1.1\" 200 166 0.000553\n"
     ]
    },
    {
     "name": "stdout",
     "output_type": "stream",
     "text": [
      "<Response [200]>\n"
     ]
    },
    {
     "name": "stderr",
     "output_type": "stream",
     "text": [
      "(41821) accepted ('127.0.0.1', 50336)\n",
      "173.20.233.125,127.0.0.1 - - [22/Oct/2023 18:31:03] \"POST /add_step HTTP/1.1\" 200 166 0.001365\n"
     ]
    },
    {
     "name": "stdout",
     "output_type": "stream",
     "text": [
      "<Response [200]>\n"
     ]
    },
    {
     "name": "stderr",
     "output_type": "stream",
     "text": [
      "(41821) accepted ('127.0.0.1', 51776)\n",
      "173.20.233.125,127.0.0.1 - - [22/Oct/2023 18:31:04] \"POST /add_step HTTP/1.1\" 200 166 0.000509\n"
     ]
    },
    {
     "name": "stdout",
     "output_type": "stream",
     "text": [
      "<Response [200]>\n"
     ]
    },
    {
     "name": "stderr",
     "output_type": "stream",
     "text": [
      "(41821) accepted ('127.0.0.1', 53213)\n",
      "173.20.233.125,127.0.0.1 - - [22/Oct/2023 18:31:05] \"POST /add_step HTTP/1.1\" 200 166 0.000541\n"
     ]
    },
    {
     "name": "stdout",
     "output_type": "stream",
     "text": [
      "<Response [200]>\n"
     ]
    },
    {
     "name": "stderr",
     "output_type": "stream",
     "text": [
      "(41821) accepted ('127.0.0.1', 54541)\n",
      "173.20.233.125,127.0.0.1 - - [22/Oct/2023 18:31:06] \"POST /add_step HTTP/1.1\" 200 166 0.000519\n"
     ]
    },
    {
     "name": "stdout",
     "output_type": "stream",
     "text": [
      "<Response [200]>\n"
     ]
    },
    {
     "name": "stderr",
     "output_type": "stream",
     "text": [
      "(41821) accepted ('127.0.0.1', 55829)\n",
      "173.20.233.125,127.0.0.1 - - [22/Oct/2023 18:31:06] \"POST /add_step HTTP/1.1\" 200 166 0.000555\n"
     ]
    },
    {
     "name": "stdout",
     "output_type": "stream",
     "text": [
      "<Response [200]>\n"
     ]
    },
    {
     "name": "stderr",
     "output_type": "stream",
     "text": [
      "(41821) accepted ('127.0.0.1', 57090)\n",
      "173.20.233.125,127.0.0.1 - - [22/Oct/2023 18:31:07] \"POST /add_step HTTP/1.1\" 200 166 0.001303\n"
     ]
    },
    {
     "name": "stdout",
     "output_type": "stream",
     "text": [
      "<Response [200]>\n"
     ]
    },
    {
     "name": "stderr",
     "output_type": "stream",
     "text": [
      "(41821) accepted ('127.0.0.1', 58477)\n",
      "173.20.233.125,127.0.0.1 - - [22/Oct/2023 18:31:08] \"POST /add_step HTTP/1.1\" 200 166 0.000635\n"
     ]
    },
    {
     "name": "stdout",
     "output_type": "stream",
     "text": [
      "<Response [200]>\n"
     ]
    },
    {
     "name": "stderr",
     "output_type": "stream",
     "text": [
      "(41821) accepted ('127.0.0.1', 59867)\n",
      "173.20.233.125,127.0.0.1 - - [22/Oct/2023 18:31:09] \"POST /add_step HTTP/1.1\" 200 166 0.000731\n"
     ]
    },
    {
     "name": "stdout",
     "output_type": "stream",
     "text": [
      "<Response [200]>\n"
     ]
    },
    {
     "name": "stderr",
     "output_type": "stream",
     "text": [
      "(41821) accepted ('127.0.0.1', 61103)\n",
      "173.20.233.125,127.0.0.1 - - [22/Oct/2023 18:31:09] \"POST /add_step HTTP/1.1\" 200 166 0.000757\n"
     ]
    },
    {
     "name": "stdout",
     "output_type": "stream",
     "text": [
      "<Response [200]>\n"
     ]
    },
    {
     "name": "stderr",
     "output_type": "stream",
     "text": [
      "(41821) accepted ('127.0.0.1', 62479)\n",
      "173.20.233.125,127.0.0.1 - - [22/Oct/2023 18:31:10] \"POST /add_step HTTP/1.1\" 200 166 0.000638\n"
     ]
    },
    {
     "name": "stdout",
     "output_type": "stream",
     "text": [
      "<Response [200]>\n"
     ]
    },
    {
     "name": "stderr",
     "output_type": "stream",
     "text": [
      "(41821) accepted ('127.0.0.1', 64042)\n",
      "173.20.233.125,127.0.0.1 - - [22/Oct/2023 18:31:11] \"POST /add_step HTTP/1.1\" 200 166 0.000921\n"
     ]
    },
    {
     "name": "stdout",
     "output_type": "stream",
     "text": [
      "<Response [200]>\n"
     ]
    },
    {
     "name": "stderr",
     "output_type": "stream",
     "text": [
      "(41821) accepted ('127.0.0.1', 65523)\n",
      "173.20.233.125,127.0.0.1 - - [22/Oct/2023 18:31:12] \"POST /add_step HTTP/1.1\" 200 166 0.000622\n"
     ]
    },
    {
     "name": "stdout",
     "output_type": "stream",
     "text": [
      "<Response [200]>\n"
     ]
    },
    {
     "name": "stderr",
     "output_type": "stream",
     "text": [
      "(41821) accepted ('127.0.0.1', 50417)\n",
      "173.20.233.125,127.0.0.1 - - [22/Oct/2023 18:31:12] \"POST /add_step HTTP/1.1\" 200 166 0.000803\n"
     ]
    },
    {
     "name": "stdout",
     "output_type": "stream",
     "text": [
      "<Response [200]>\n"
     ]
    },
    {
     "name": "stderr",
     "output_type": "stream",
     "text": [
      "(41821) accepted ('127.0.0.1', 51768)\n",
      "173.20.233.125,127.0.0.1 - - [22/Oct/2023 18:31:13] \"POST /add_step HTTP/1.1\" 200 166 0.000873\n"
     ]
    },
    {
     "name": "stdout",
     "output_type": "stream",
     "text": [
      "<Response [200]>\n"
     ]
    },
    {
     "name": "stderr",
     "output_type": "stream",
     "text": [
      "(41821) accepted ('127.0.0.1', 53073)\n",
      "173.20.233.125,127.0.0.1 - - [22/Oct/2023 18:31:14] \"POST /add_step HTTP/1.1\" 200 166 0.001516\n"
     ]
    },
    {
     "name": "stdout",
     "output_type": "stream",
     "text": [
      "<Response [200]>\n"
     ]
    },
    {
     "name": "stderr",
     "output_type": "stream",
     "text": [
      "(41821) accepted ('127.0.0.1', 54591)\n",
      "173.20.233.125,127.0.0.1 - - [22/Oct/2023 18:31:15] \"POST /add_step HTTP/1.1\" 200 166 0.000487\n"
     ]
    },
    {
     "name": "stdout",
     "output_type": "stream",
     "text": [
      "<Response [200]>\n"
     ]
    },
    {
     "name": "stderr",
     "output_type": "stream",
     "text": [
      "(41821) accepted ('127.0.0.1', 55882)\n",
      "173.20.233.125,127.0.0.1 - - [22/Oct/2023 18:31:15] \"POST /add_step HTTP/1.1\" 200 166 0.000762\n"
     ]
    },
    {
     "name": "stdout",
     "output_type": "stream",
     "text": [
      "<Response [200]>\n"
     ]
    },
    {
     "name": "stderr",
     "output_type": "stream",
     "text": [
      "(41821) accepted ('127.0.0.1', 57978)\n",
      "173.20.233.125,127.0.0.1 - - [22/Oct/2023 18:31:16] \"POST /add_step HTTP/1.1\" 200 166 0.000641\n"
     ]
    },
    {
     "name": "stdout",
     "output_type": "stream",
     "text": [
      "<Response [200]>\n"
     ]
    },
    {
     "name": "stderr",
     "output_type": "stream",
     "text": [
      "(41821) accepted ('127.0.0.1', 59319)\n",
      "173.20.233.125,127.0.0.1 - - [22/Oct/2023 18:31:17] \"POST /add_step HTTP/1.1\" 200 166 0.000488\n"
     ]
    },
    {
     "name": "stdout",
     "output_type": "stream",
     "text": [
      "<Response [200]>\n"
     ]
    },
    {
     "name": "stderr",
     "output_type": "stream",
     "text": [
      "(41821) accepted ('127.0.0.1', 60622)\n",
      "173.20.233.125,127.0.0.1 - - [22/Oct/2023 18:31:18] \"POST /add_step HTTP/1.1\" 200 166 0.000742\n"
     ]
    },
    {
     "name": "stdout",
     "output_type": "stream",
     "text": [
      "<Response [200]>\n"
     ]
    },
    {
     "name": "stderr",
     "output_type": "stream",
     "text": [
      "(41821) accepted ('127.0.0.1', 61867)\n",
      "173.20.233.125,127.0.0.1 - - [22/Oct/2023 18:31:19] \"POST /add_step HTTP/1.1\" 200 166 0.000593\n"
     ]
    },
    {
     "name": "stdout",
     "output_type": "stream",
     "text": [
      "<Response [200]>\n"
     ]
    },
    {
     "name": "stderr",
     "output_type": "stream",
     "text": [
      "(41821) accepted ('127.0.0.1', 63132)\n",
      "173.20.233.125,127.0.0.1 - - [22/Oct/2023 18:31:19] \"POST /add_step HTTP/1.1\" 200 166 0.000446\n"
     ]
    },
    {
     "name": "stdout",
     "output_type": "stream",
     "text": [
      "<Response [200]>\n"
     ]
    },
    {
     "name": "stderr",
     "output_type": "stream",
     "text": [
      "(41821) accepted ('127.0.0.1', 64433)\n",
      "173.20.233.125,127.0.0.1 - - [22/Oct/2023 18:31:20] \"POST /add_step HTTP/1.1\" 200 166 0.000437\n"
     ]
    },
    {
     "name": "stdout",
     "output_type": "stream",
     "text": [
      "<Response [200]>\n"
     ]
    },
    {
     "name": "stderr",
     "output_type": "stream",
     "text": [
      "(41821) accepted ('127.0.0.1', 49223)\n",
      "173.20.233.125,127.0.0.1 - - [22/Oct/2023 18:31:21] \"POST /add_step HTTP/1.1\" 200 166 0.000478\n"
     ]
    },
    {
     "name": "stdout",
     "output_type": "stream",
     "text": [
      "<Response [200]>\n"
     ]
    },
    {
     "name": "stderr",
     "output_type": "stream",
     "text": [
      "(41821) accepted ('127.0.0.1', 50432)\n",
      "173.20.233.125,127.0.0.1 - - [22/Oct/2023 18:31:21] \"POST /add_step HTTP/1.1\" 200 166 0.000508\n"
     ]
    },
    {
     "name": "stdout",
     "output_type": "stream",
     "text": [
      "<Response [200]>\n"
     ]
    },
    {
     "name": "stderr",
     "output_type": "stream",
     "text": [
      "(41821) accepted ('127.0.0.1', 51681)\n",
      "173.20.233.125,127.0.0.1 - - [22/Oct/2023 18:31:22] \"POST /add_step HTTP/1.1\" 200 166 0.000435\n"
     ]
    },
    {
     "name": "stdout",
     "output_type": "stream",
     "text": [
      "<Response [200]>\n"
     ]
    },
    {
     "name": "stderr",
     "output_type": "stream",
     "text": [
      "(41821) accepted ('127.0.0.1', 53004)\n",
      "173.20.233.125,127.0.0.1 - - [22/Oct/2023 18:31:23] \"POST /add_step HTTP/1.1\" 200 166 0.000432\n"
     ]
    },
    {
     "name": "stdout",
     "output_type": "stream",
     "text": [
      "<Response [200]>\n"
     ]
    },
    {
     "name": "stderr",
     "output_type": "stream",
     "text": [
      "(41821) accepted ('127.0.0.1', 54112)\n",
      "173.20.233.125,127.0.0.1 - - [22/Oct/2023 18:31:23] \"POST /add_step HTTP/1.1\" 200 166 0.000632\n"
     ]
    },
    {
     "name": "stdout",
     "output_type": "stream",
     "text": [
      "<Response [200]>\n"
     ]
    },
    {
     "name": "stderr",
     "output_type": "stream",
     "text": [
      "(41821) accepted ('127.0.0.1', 55323)\n",
      "173.20.233.125,127.0.0.1 - - [22/Oct/2023 18:31:24] \"POST /add_step HTTP/1.1\" 200 166 0.000490\n"
     ]
    },
    {
     "name": "stdout",
     "output_type": "stream",
     "text": [
      "<Response [200]>\n"
     ]
    },
    {
     "name": "stderr",
     "output_type": "stream",
     "text": [
      "(41821) accepted ('127.0.0.1', 56663)\n",
      "173.20.233.125,127.0.0.1 - - [22/Oct/2023 18:31:25] \"POST /add_step HTTP/1.1\" 200 166 0.000511\n"
     ]
    },
    {
     "name": "stdout",
     "output_type": "stream",
     "text": [
      "<Response [200]>\n"
     ]
    },
    {
     "name": "stderr",
     "output_type": "stream",
     "text": [
      "(41821) accepted ('127.0.0.1', 57953)\n",
      "173.20.233.125,127.0.0.1 - - [22/Oct/2023 18:31:25] \"POST /add_step HTTP/1.1\" 200 166 0.000498\n"
     ]
    },
    {
     "name": "stdout",
     "output_type": "stream",
     "text": [
      "<Response [200]>\n"
     ]
    },
    {
     "name": "stderr",
     "output_type": "stream",
     "text": [
      "(41821) accepted ('127.0.0.1', 59170)\n",
      "173.20.233.125,127.0.0.1 - - [22/Oct/2023 18:31:26] \"POST /add_step HTTP/1.1\" 200 166 0.000479\n"
     ]
    },
    {
     "name": "stdout",
     "output_type": "stream",
     "text": [
      "<Response [200]>\n"
     ]
    },
    {
     "name": "stderr",
     "output_type": "stream",
     "text": [
      "(41821) accepted ('127.0.0.1', 60419)\n",
      "173.20.233.125,127.0.0.1 - - [22/Oct/2023 18:31:27] \"POST /add_step HTTP/1.1\" 200 166 0.000907\n"
     ]
    },
    {
     "name": "stdout",
     "output_type": "stream",
     "text": [
      "<Response [200]>\n"
     ]
    },
    {
     "name": "stderr",
     "output_type": "stream",
     "text": [
      "(41821) accepted ('127.0.0.1', 61683)\n",
      "173.20.233.125,127.0.0.1 - - [22/Oct/2023 18:31:27] \"POST /add_step HTTP/1.1\" 200 166 0.000462\n"
     ]
    },
    {
     "name": "stdout",
     "output_type": "stream",
     "text": [
      "<Response [200]>\n"
     ]
    },
    {
     "name": "stderr",
     "output_type": "stream",
     "text": [
      "(41821) accepted ('127.0.0.1', 62878)\n",
      "173.20.233.125,127.0.0.1 - - [22/Oct/2023 18:31:28] \"POST /add_step HTTP/1.1\" 200 166 0.000601\n"
     ]
    },
    {
     "name": "stdout",
     "output_type": "stream",
     "text": [
      "<Response [200]>\n"
     ]
    },
    {
     "name": "stderr",
     "output_type": "stream",
     "text": [
      "(41821) accepted ('127.0.0.1', 64237)\n",
      "173.20.233.125,127.0.0.1 - - [22/Oct/2023 18:31:29] \"POST /add_step HTTP/1.1\" 200 166 0.002632\n"
     ]
    },
    {
     "name": "stdout",
     "output_type": "stream",
     "text": [
      "<Response [200]>\n"
     ]
    },
    {
     "name": "stderr",
     "output_type": "stream",
     "text": [
      "(41821) accepted ('127.0.0.1', 49205)\n",
      "173.20.233.125,127.0.0.1 - - [22/Oct/2023 18:31:30] \"POST /add_step HTTP/1.1\" 200 166 0.001339\n"
     ]
    },
    {
     "name": "stdout",
     "output_type": "stream",
     "text": [
      "<Response [200]>\n"
     ]
    },
    {
     "name": "stderr",
     "output_type": "stream",
     "text": [
      "(41821) accepted ('127.0.0.1', 50864)\n",
      "173.20.233.125,127.0.0.1 - - [22/Oct/2023 18:31:30] \"POST /add_step HTTP/1.1\" 200 166 0.000755\n"
     ]
    },
    {
     "name": "stdout",
     "output_type": "stream",
     "text": [
      "<Response [200]>\n"
     ]
    },
    {
     "name": "stderr",
     "output_type": "stream",
     "text": [
      "(41821) accepted ('127.0.0.1', 52191)\n",
      "173.20.233.125,127.0.0.1 - - [22/Oct/2023 18:31:31] \"POST /add_step HTTP/1.1\" 200 166 0.000655\n"
     ]
    },
    {
     "name": "stdout",
     "output_type": "stream",
     "text": [
      "<Response [200]>\n"
     ]
    },
    {
     "name": "stderr",
     "output_type": "stream",
     "text": [
      "(41821) accepted ('127.0.0.1', 53542)\n",
      "173.20.233.125,127.0.0.1 - - [22/Oct/2023 18:31:32] \"POST /add_step HTTP/1.1\" 200 166 0.000772\n"
     ]
    },
    {
     "name": "stdout",
     "output_type": "stream",
     "text": [
      "<Response [200]>\n"
     ]
    },
    {
     "name": "stderr",
     "output_type": "stream",
     "text": [
      "(41821) accepted ('127.0.0.1', 54854)\n",
      "173.20.233.125,127.0.0.1 - - [22/Oct/2023 18:31:33] \"POST /add_step HTTP/1.1\" 200 166 0.000744\n"
     ]
    },
    {
     "name": "stdout",
     "output_type": "stream",
     "text": [
      "<Response [200]>\n"
     ]
    },
    {
     "name": "stderr",
     "output_type": "stream",
     "text": [
      "(41821) accepted ('127.0.0.1', 56039)\n",
      "173.20.233.125,127.0.0.1 - - [22/Oct/2023 18:31:33] \"POST /add_step HTTP/1.1\" 200 166 0.000720\n"
     ]
    },
    {
     "name": "stdout",
     "output_type": "stream",
     "text": [
      "<Response [200]>\n"
     ]
    },
    {
     "name": "stderr",
     "output_type": "stream",
     "text": [
      "(41821) accepted ('127.0.0.1', 57248)\n",
      "173.20.233.125,127.0.0.1 - - [22/Oct/2023 18:31:34] \"POST /add_step HTTP/1.1\" 200 166 0.000502\n"
     ]
    },
    {
     "name": "stdout",
     "output_type": "stream",
     "text": [
      "<Response [200]>\n"
     ]
    },
    {
     "name": "stderr",
     "output_type": "stream",
     "text": [
      "(41821) accepted ('127.0.0.1', 58453)\n",
      "173.20.233.125,127.0.0.1 - - [22/Oct/2023 18:31:35] \"POST /add_step HTTP/1.1\" 200 166 0.000552\n"
     ]
    },
    {
     "name": "stdout",
     "output_type": "stream",
     "text": [
      "<Response [200]>\n"
     ]
    },
    {
     "name": "stderr",
     "output_type": "stream",
     "text": [
      "(41821) accepted ('127.0.0.1', 59804)\n",
      "173.20.233.125,127.0.0.1 - - [22/Oct/2023 18:31:35] \"POST /add_step HTTP/1.1\" 200 166 0.000444\n"
     ]
    },
    {
     "name": "stdout",
     "output_type": "stream",
     "text": [
      "<Response [200]>\n"
     ]
    },
    {
     "name": "stderr",
     "output_type": "stream",
     "text": [
      "(41821) accepted ('127.0.0.1', 60970)\n",
      "173.20.233.125,127.0.0.1 - - [22/Oct/2023 18:31:36] \"POST /add_step HTTP/1.1\" 200 166 0.000563\n"
     ]
    },
    {
     "name": "stdout",
     "output_type": "stream",
     "text": [
      "<Response [200]>\n"
     ]
    },
    {
     "name": "stderr",
     "output_type": "stream",
     "text": [
      "(41821) accepted ('127.0.0.1', 62124)\n",
      "173.20.233.125,127.0.0.1 - - [22/Oct/2023 18:31:37] \"POST /add_step HTTP/1.1\" 200 166 0.000469\n"
     ]
    },
    {
     "name": "stdout",
     "output_type": "stream",
     "text": [
      "<Response [200]>\n"
     ]
    },
    {
     "name": "stderr",
     "output_type": "stream",
     "text": [
      "(41821) accepted ('127.0.0.1', 63319)\n",
      "173.20.233.125,127.0.0.1 - - [22/Oct/2023 18:31:37] \"POST /add_step HTTP/1.1\" 200 166 0.000757\n"
     ]
    },
    {
     "name": "stdout",
     "output_type": "stream",
     "text": [
      "<Response [200]>\n"
     ]
    },
    {
     "name": "stderr",
     "output_type": "stream",
     "text": [
      "(41821) accepted ('127.0.0.1', 64600)\n",
      "173.20.233.125,127.0.0.1 - - [22/Oct/2023 18:31:38] \"POST /add_step HTTP/1.1\" 200 166 0.000482\n"
     ]
    },
    {
     "name": "stdout",
     "output_type": "stream",
     "text": [
      "<Response [200]>\n"
     ]
    },
    {
     "name": "stderr",
     "output_type": "stream",
     "text": [
      "(41821) accepted ('127.0.0.1', 49495)\n",
      "173.20.233.125,127.0.0.1 - - [22/Oct/2023 18:31:39] \"POST /add_step HTTP/1.1\" 200 166 0.000438\n"
     ]
    },
    {
     "name": "stdout",
     "output_type": "stream",
     "text": [
      "<Response [200]>\n"
     ]
    },
    {
     "name": "stderr",
     "output_type": "stream",
     "text": [
      "(41821) accepted ('127.0.0.1', 50777)\n",
      "173.20.233.125,127.0.0.1 - - [22/Oct/2023 18:31:39] \"POST /add_step HTTP/1.1\" 200 166 0.000457\n"
     ]
    },
    {
     "name": "stdout",
     "output_type": "stream",
     "text": [
      "<Response [200]>\n"
     ]
    },
    {
     "name": "stderr",
     "output_type": "stream",
     "text": [
      "(41821) accepted ('127.0.0.1', 52021)\n",
      "173.20.233.125,127.0.0.1 - - [22/Oct/2023 18:31:40] \"POST /add_step HTTP/1.1\" 200 166 0.000511\n"
     ]
    },
    {
     "name": "stdout",
     "output_type": "stream",
     "text": [
      "<Response [200]>\n"
     ]
    },
    {
     "name": "stderr",
     "output_type": "stream",
     "text": [
      "(41821) accepted ('127.0.0.1', 53273)\n",
      "173.20.233.125,127.0.0.1 - - [22/Oct/2023 18:31:41] \"POST /add_step HTTP/1.1\" 200 166 0.000693\n"
     ]
    },
    {
     "name": "stdout",
     "output_type": "stream",
     "text": [
      "<Response [200]>\n"
     ]
    },
    {
     "name": "stderr",
     "output_type": "stream",
     "text": [
      "(41821) accepted ('127.0.0.1', 54455)\n",
      "173.20.233.125,127.0.0.1 - - [22/Oct/2023 18:31:41] \"POST /add_step HTTP/1.1\" 200 166 0.000521\n"
     ]
    },
    {
     "name": "stdout",
     "output_type": "stream",
     "text": [
      "<Response [200]>\n"
     ]
    },
    {
     "name": "stderr",
     "output_type": "stream",
     "text": [
      "(41821) accepted ('127.0.0.1', 55727)\n",
      "173.20.233.125,127.0.0.1 - - [22/Oct/2023 18:31:42] \"POST /add_step HTTP/1.1\" 200 166 0.000531\n"
     ]
    },
    {
     "name": "stdout",
     "output_type": "stream",
     "text": [
      "<Response [200]>\n"
     ]
    },
    {
     "name": "stderr",
     "output_type": "stream",
     "text": [
      "(41821) accepted ('127.0.0.1', 57108)\n",
      "173.20.233.125,127.0.0.1 - - [22/Oct/2023 18:31:43] \"POST /add_step HTTP/1.1\" 200 166 0.000579\n"
     ]
    },
    {
     "name": "stdout",
     "output_type": "stream",
     "text": [
      "<Response [200]>\n"
     ]
    },
    {
     "name": "stderr",
     "output_type": "stream",
     "text": [
      "(41821) accepted ('127.0.0.1', 58291)\n",
      "173.20.233.125,127.0.0.1 - - [22/Oct/2023 18:31:43] \"POST /add_step HTTP/1.1\" 200 166 0.000652\n"
     ]
    },
    {
     "name": "stdout",
     "output_type": "stream",
     "text": [
      "<Response [200]>\n"
     ]
    },
    {
     "name": "stderr",
     "output_type": "stream",
     "text": [
      "(41821) accepted ('127.0.0.1', 59502)\n",
      "173.20.233.125,127.0.0.1 - - [22/Oct/2023 18:31:44] \"POST /add_step HTTP/1.1\" 200 166 0.000509\n"
     ]
    },
    {
     "name": "stdout",
     "output_type": "stream",
     "text": [
      "<Response [200]>\n"
     ]
    },
    {
     "name": "stderr",
     "output_type": "stream",
     "text": [
      "(41821) accepted ('127.0.0.1', 60682)\n",
      "173.20.233.125,127.0.0.1 - - [22/Oct/2023 18:31:45] \"POST /add_step HTTP/1.1\" 200 166 0.000612\n"
     ]
    },
    {
     "name": "stdout",
     "output_type": "stream",
     "text": [
      "<Response [200]>\n"
     ]
    },
    {
     "name": "stderr",
     "output_type": "stream",
     "text": [
      "(41821) accepted ('127.0.0.1', 61943)\n",
      "173.20.233.125,127.0.0.1 - - [22/Oct/2023 18:31:45] \"POST /add_step HTTP/1.1\" 200 166 0.000460\n"
     ]
    },
    {
     "name": "stdout",
     "output_type": "stream",
     "text": [
      "<Response [200]>\n"
     ]
    },
    {
     "name": "stderr",
     "output_type": "stream",
     "text": [
      "(41821) accepted ('127.0.0.1', 63114)\n",
      "173.20.233.125,127.0.0.1 - - [22/Oct/2023 18:31:46] \"POST /add_step HTTP/1.1\" 200 166 0.000557\n"
     ]
    },
    {
     "name": "stdout",
     "output_type": "stream",
     "text": [
      "<Response [200]>\n"
     ]
    },
    {
     "name": "stderr",
     "output_type": "stream",
     "text": [
      "(41821) accepted ('127.0.0.1', 64286)\n",
      "173.20.233.125,127.0.0.1 - - [22/Oct/2023 18:31:47] \"POST /add_step HTTP/1.1\" 200 166 0.000679\n"
     ]
    },
    {
     "name": "stdout",
     "output_type": "stream",
     "text": [
      "<Response [200]>\n"
     ]
    },
    {
     "name": "stderr",
     "output_type": "stream",
     "text": [
      "(41821) accepted ('127.0.0.1', 65446)\n",
      "173.20.233.125,127.0.0.1 - - [22/Oct/2023 18:31:47] \"POST /add_step HTTP/1.1\" 200 166 0.000770\n"
     ]
    },
    {
     "name": "stdout",
     "output_type": "stream",
     "text": [
      "<Response [200]>\n"
     ]
    },
    {
     "name": "stderr",
     "output_type": "stream",
     "text": [
      "(41821) accepted ('127.0.0.1', 50351)\n",
      "173.20.233.125,127.0.0.1 - - [22/Oct/2023 18:31:48] \"POST /add_step HTTP/1.1\" 200 166 0.000460\n"
     ]
    },
    {
     "name": "stdout",
     "output_type": "stream",
     "text": [
      "<Response [200]>\n"
     ]
    },
    {
     "name": "stderr",
     "output_type": "stream",
     "text": [
      "(41821) accepted ('127.0.0.1', 51536)\n",
      "173.20.233.125,127.0.0.1 - - [22/Oct/2023 18:31:49] \"POST /add_step HTTP/1.1\" 200 166 0.000493\n"
     ]
    },
    {
     "name": "stdout",
     "output_type": "stream",
     "text": [
      "<Response [200]>\n"
     ]
    },
    {
     "name": "stderr",
     "output_type": "stream",
     "text": [
      "(41821) accepted ('127.0.0.1', 52720)\n",
      "173.20.233.125,127.0.0.1 - - [22/Oct/2023 18:31:49] \"POST /add_step HTTP/1.1\" 200 166 0.000750\n"
     ]
    },
    {
     "name": "stdout",
     "output_type": "stream",
     "text": [
      "<Response [200]>\n"
     ]
    },
    {
     "name": "stderr",
     "output_type": "stream",
     "text": [
      "(41821) accepted ('127.0.0.1', 53941)\n",
      "173.20.233.125,127.0.0.1 - - [22/Oct/2023 18:31:50] \"POST /add_step HTTP/1.1\" 200 166 0.001048\n"
     ]
    },
    {
     "name": "stdout",
     "output_type": "stream",
     "text": [
      "<Response [200]>\n"
     ]
    },
    {
     "name": "stderr",
     "output_type": "stream",
     "text": [
      "(41821) accepted ('127.0.0.1', 55130)\n",
      "173.20.233.125,127.0.0.1 - - [22/Oct/2023 18:31:51] \"POST /add_step HTTP/1.1\" 200 166 0.001075\n"
     ]
    },
    {
     "name": "stdout",
     "output_type": "stream",
     "text": [
      "<Response [200]>\n"
     ]
    },
    {
     "name": "stderr",
     "output_type": "stream",
     "text": [
      "(41821) accepted ('127.0.0.1', 56451)\n",
      "173.20.233.125,127.0.0.1 - - [22/Oct/2023 18:31:51] \"POST /add_step HTTP/1.1\" 200 166 0.003629\n"
     ]
    },
    {
     "name": "stdout",
     "output_type": "stream",
     "text": [
      "<Response [200]>\n"
     ]
    },
    {
     "name": "stderr",
     "output_type": "stream",
     "text": [
      "(41821) accepted ('127.0.0.1', 57618)\n",
      "173.20.233.125,127.0.0.1 - - [22/Oct/2023 18:31:52] \"POST /add_step HTTP/1.1\" 200 166 0.000473\n"
     ]
    },
    {
     "name": "stdout",
     "output_type": "stream",
     "text": [
      "<Response [200]>\n"
     ]
    },
    {
     "name": "stderr",
     "output_type": "stream",
     "text": [
      "(41821) accepted ('127.0.0.1', 58793)\n",
      "173.20.233.125,127.0.0.1 - - [22/Oct/2023 18:31:53] \"POST /add_step HTTP/1.1\" 200 166 0.000852\n"
     ]
    },
    {
     "name": "stdout",
     "output_type": "stream",
     "text": [
      "<Response [200]>\n"
     ]
    },
    {
     "name": "stderr",
     "output_type": "stream",
     "text": [
      "(41821) accepted ('127.0.0.1', 60007)\n",
      "173.20.233.125,127.0.0.1 - - [22/Oct/2023 18:31:53] \"POST /add_step HTTP/1.1\" 200 166 0.000481\n"
     ]
    },
    {
     "name": "stdout",
     "output_type": "stream",
     "text": [
      "<Response [200]>\n"
     ]
    },
    {
     "name": "stderr",
     "output_type": "stream",
     "text": [
      "(41821) accepted ('127.0.0.1', 61479)\n",
      "173.20.233.125,127.0.0.1 - - [22/Oct/2023 18:31:54] \"POST /add_step HTTP/1.1\" 200 166 0.000440\n"
     ]
    },
    {
     "name": "stdout",
     "output_type": "stream",
     "text": [
      "<Response [200]>\n"
     ]
    },
    {
     "name": "stderr",
     "output_type": "stream",
     "text": [
      "(41821) accepted ('127.0.0.1', 62696)\n",
      "173.20.233.125,127.0.0.1 - - [22/Oct/2023 18:31:55] \"POST /add_step HTTP/1.1\" 200 166 0.000460\n"
     ]
    },
    {
     "name": "stdout",
     "output_type": "stream",
     "text": [
      "<Response [200]>\n"
     ]
    },
    {
     "name": "stderr",
     "output_type": "stream",
     "text": [
      "(41821) accepted ('127.0.0.1', 63882)\n",
      "173.20.233.125,127.0.0.1 - - [22/Oct/2023 18:31:55] \"POST /add_step HTTP/1.1\" 200 166 0.000630\n"
     ]
    },
    {
     "name": "stdout",
     "output_type": "stream",
     "text": [
      "<Response [200]>\n"
     ]
    },
    {
     "name": "stderr",
     "output_type": "stream",
     "text": [
      "(41821) accepted ('127.0.0.1', 65100)\n",
      "173.20.233.125,127.0.0.1 - - [22/Oct/2023 18:31:56] \"POST /add_step HTTP/1.1\" 200 166 0.000547\n"
     ]
    },
    {
     "name": "stdout",
     "output_type": "stream",
     "text": [
      "<Response [200]>\n"
     ]
    },
    {
     "name": "stderr",
     "output_type": "stream",
     "text": [
      "(41821) accepted ('127.0.0.1', 49970)\n",
      "173.20.233.125,127.0.0.1 - - [22/Oct/2023 18:31:57] \"POST /add_step HTTP/1.1\" 200 166 0.000507\n"
     ]
    },
    {
     "name": "stdout",
     "output_type": "stream",
     "text": [
      "<Response [200]>\n"
     ]
    },
    {
     "name": "stderr",
     "output_type": "stream",
     "text": [
      "(41821) accepted ('127.0.0.1', 51180)\n",
      "173.20.233.125,127.0.0.1 - - [22/Oct/2023 18:31:57] \"POST /add_step HTTP/1.1\" 200 166 0.000472\n"
     ]
    },
    {
     "name": "stdout",
     "output_type": "stream",
     "text": [
      "<Response [200]>\n"
     ]
    },
    {
     "name": "stderr",
     "output_type": "stream",
     "text": [
      "(41821) accepted ('127.0.0.1', 52353)\n",
      "173.20.233.125,127.0.0.1 - - [22/Oct/2023 18:31:58] \"POST /add_step HTTP/1.1\" 200 166 0.000720\n"
     ]
    },
    {
     "name": "stdout",
     "output_type": "stream",
     "text": [
      "<Response [200]>\n"
     ]
    },
    {
     "name": "stderr",
     "output_type": "stream",
     "text": [
      "(41821) accepted ('127.0.0.1', 53500)\n",
      "173.20.233.125,127.0.0.1 - - [22/Oct/2023 18:31:59] \"POST /add_step HTTP/1.1\" 200 166 0.000472\n"
     ]
    },
    {
     "name": "stdout",
     "output_type": "stream",
     "text": [
      "<Response [200]>\n"
     ]
    },
    {
     "name": "stderr",
     "output_type": "stream",
     "text": [
      "(41821) accepted ('127.0.0.1', 54750)\n",
      "173.20.233.125,127.0.0.1 - - [22/Oct/2023 18:31:59] \"POST /add_step HTTP/1.1\" 200 166 0.000599\n"
     ]
    },
    {
     "name": "stdout",
     "output_type": "stream",
     "text": [
      "<Response [200]>\n"
     ]
    },
    {
     "name": "stderr",
     "output_type": "stream",
     "text": [
      "(41821) accepted ('127.0.0.1', 56094)\n",
      "173.20.233.125,127.0.0.1 - - [22/Oct/2023 18:32:00] \"POST /add_step HTTP/1.1\" 200 166 0.000636\n"
     ]
    },
    {
     "name": "stdout",
     "output_type": "stream",
     "text": [
      "<Response [200]>\n"
     ]
    },
    {
     "name": "stderr",
     "output_type": "stream",
     "text": [
      "(41821) accepted ('127.0.0.1', 57276)\n",
      "173.20.233.125,127.0.0.1 - - [22/Oct/2023 18:32:01] \"POST /add_step HTTP/1.1\" 200 166 0.000642\n"
     ]
    },
    {
     "name": "stdout",
     "output_type": "stream",
     "text": [
      "<Response [200]>\n"
     ]
    },
    {
     "name": "stderr",
     "output_type": "stream",
     "text": [
      "(41821) accepted ('127.0.0.1', 58663)\n",
      "173.20.233.125,127.0.0.1 - - [22/Oct/2023 18:32:01] \"POST /add_step HTTP/1.1\" 200 166 0.000533\n"
     ]
    },
    {
     "name": "stdout",
     "output_type": "stream",
     "text": [
      "<Response [200]>\n"
     ]
    },
    {
     "name": "stderr",
     "output_type": "stream",
     "text": [
      "(41821) accepted ('127.0.0.1', 59961)\n",
      "173.20.233.125,127.0.0.1 - - [22/Oct/2023 18:32:02] \"POST /add_step HTTP/1.1\" 200 166 0.000489\n"
     ]
    },
    {
     "name": "stdout",
     "output_type": "stream",
     "text": [
      "<Response [200]>\n"
     ]
    },
    {
     "name": "stderr",
     "output_type": "stream",
     "text": [
      "(41821) accepted ('127.0.0.1', 61373)\n",
      "173.20.233.125,127.0.0.1 - - [22/Oct/2023 18:32:03] \"POST /add_step HTTP/1.1\" 200 166 0.000540\n"
     ]
    },
    {
     "name": "stdout",
     "output_type": "stream",
     "text": [
      "<Response [200]>\n"
     ]
    },
    {
     "name": "stderr",
     "output_type": "stream",
     "text": [
      "(41821) accepted ('127.0.0.1', 62882)\n",
      "173.20.233.125,127.0.0.1 - - [22/Oct/2023 18:32:04] \"POST /add_step HTTP/1.1\" 200 166 0.000548\n"
     ]
    },
    {
     "name": "stdout",
     "output_type": "stream",
     "text": [
      "<Response [200]>\n"
     ]
    },
    {
     "name": "stderr",
     "output_type": "stream",
     "text": [
      "(41821) accepted ('127.0.0.1', 64296)\n",
      "173.20.233.125,127.0.0.1 - - [22/Oct/2023 18:32:04] \"POST /add_step HTTP/1.1\" 200 166 0.001291\n"
     ]
    },
    {
     "name": "stdout",
     "output_type": "stream",
     "text": [
      "<Response [200]>\n"
     ]
    },
    {
     "name": "stderr",
     "output_type": "stream",
     "text": [
      "(41821) accepted ('127.0.0.1', 49403)\n",
      "173.20.233.125,127.0.0.1 - - [22/Oct/2023 18:32:05] \"POST /add_step HTTP/1.1\" 200 166 0.000560\n"
     ]
    },
    {
     "name": "stdout",
     "output_type": "stream",
     "text": [
      "<Response [200]>\n"
     ]
    },
    {
     "name": "stderr",
     "output_type": "stream",
     "text": [
      "(41821) accepted ('127.0.0.1', 50589)\n",
      "173.20.233.125,127.0.0.1 - - [22/Oct/2023 18:32:06] \"POST /add_step HTTP/1.1\" 200 166 0.000644\n"
     ]
    },
    {
     "name": "stdout",
     "output_type": "stream",
     "text": [
      "<Response [200]>\n"
     ]
    },
    {
     "name": "stderr",
     "output_type": "stream",
     "text": [
      "(41821) accepted ('127.0.0.1', 52013)\n",
      "173.20.233.125,127.0.0.1 - - [22/Oct/2023 18:32:07] \"POST /add_step HTTP/1.1\" 200 166 0.000664\n"
     ]
    },
    {
     "name": "stdout",
     "output_type": "stream",
     "text": [
      "<Response [200]>\n"
     ]
    },
    {
     "name": "stderr",
     "output_type": "stream",
     "text": [
      "(41821) accepted ('127.0.0.1', 53329)\n",
      "173.20.233.125,127.0.0.1 - - [22/Oct/2023 18:32:07] \"POST /add_step HTTP/1.1\" 200 166 0.000784\n"
     ]
    },
    {
     "name": "stdout",
     "output_type": "stream",
     "text": [
      "<Response [200]>\n"
     ]
    },
    {
     "name": "stderr",
     "output_type": "stream",
     "text": [
      "(41821) accepted ('127.0.0.1', 54868)\n",
      "173.20.233.125,127.0.0.1 - - [22/Oct/2023 18:32:08] \"POST /add_step HTTP/1.1\" 200 166 0.000651\n"
     ]
    },
    {
     "name": "stdout",
     "output_type": "stream",
     "text": [
      "<Response [200]>\n"
     ]
    },
    {
     "name": "stderr",
     "output_type": "stream",
     "text": [
      "(41821) accepted ('127.0.0.1', 56036)\n",
      "173.20.233.125,127.0.0.1 - - [22/Oct/2023 18:32:09] \"POST /add_step HTTP/1.1\" 200 166 0.000967\n"
     ]
    },
    {
     "name": "stdout",
     "output_type": "stream",
     "text": [
      "<Response [200]>\n"
     ]
    },
    {
     "name": "stderr",
     "output_type": "stream",
     "text": [
      "(41821) accepted ('127.0.0.1', 57292)\n",
      "173.20.233.125,127.0.0.1 - - [22/Oct/2023 18:32:10] \"POST /add_step HTTP/1.1\" 200 166 0.000431\n"
     ]
    },
    {
     "name": "stdout",
     "output_type": "stream",
     "text": [
      "<Response [200]>\n"
     ]
    },
    {
     "name": "stderr",
     "output_type": "stream",
     "text": [
      "(41821) accepted ('127.0.0.1', 58561)\n",
      "173.20.233.125,127.0.0.1 - - [22/Oct/2023 18:32:10] \"POST /add_step HTTP/1.1\" 200 166 0.000954\n"
     ]
    },
    {
     "name": "stdout",
     "output_type": "stream",
     "text": [
      "<Response [200]>\n"
     ]
    },
    {
     "name": "stderr",
     "output_type": "stream",
     "text": [
      "(41821) accepted ('127.0.0.1', 60042)\n",
      "173.20.233.125,127.0.0.1 - - [22/Oct/2023 18:32:11] \"POST /add_step HTTP/1.1\" 200 166 0.000841\n"
     ]
    },
    {
     "name": "stdout",
     "output_type": "stream",
     "text": [
      "<Response [200]>\n"
     ]
    },
    {
     "name": "stderr",
     "output_type": "stream",
     "text": [
      "(41821) accepted ('127.0.0.1', 61413)\n",
      "173.20.233.125,127.0.0.1 - - [22/Oct/2023 18:32:12] \"POST /add_step HTTP/1.1\" 200 166 0.000622\n"
     ]
    },
    {
     "name": "stdout",
     "output_type": "stream",
     "text": [
      "<Response [200]>\n"
     ]
    },
    {
     "name": "stderr",
     "output_type": "stream",
     "text": [
      "(41821) accepted ('127.0.0.1', 62700)\n",
      "173.20.233.125,127.0.0.1 - - [22/Oct/2023 18:32:12] \"POST /add_step HTTP/1.1\" 200 166 0.000883\n"
     ]
    },
    {
     "name": "stdout",
     "output_type": "stream",
     "text": [
      "<Response [200]>\n"
     ]
    },
    {
     "name": "stderr",
     "output_type": "stream",
     "text": [
      "(41821) accepted ('127.0.0.1', 64007)\n",
      "173.20.233.125,127.0.0.1 - - [22/Oct/2023 18:32:13] \"POST /add_step HTTP/1.1\" 200 166 0.000679\n"
     ]
    },
    {
     "name": "stdout",
     "output_type": "stream",
     "text": [
      "<Response [200]>\n"
     ]
    },
    {
     "name": "stderr",
     "output_type": "stream",
     "text": [
      "(41821) accepted ('127.0.0.1', 65269)\n",
      "173.20.233.125,127.0.0.1 - - [22/Oct/2023 18:32:14] \"POST /add_step HTTP/1.1\" 200 166 0.000470\n"
     ]
    },
    {
     "name": "stdout",
     "output_type": "stream",
     "text": [
      "<Response [200]>\n"
     ]
    },
    {
     "name": "stderr",
     "output_type": "stream",
     "text": [
      "(41821) accepted ('127.0.0.1', 50126)\n",
      "173.20.233.125,127.0.0.1 - - [22/Oct/2023 18:32:15] \"POST /add_step HTTP/1.1\" 200 166 0.000448\n"
     ]
    },
    {
     "name": "stdout",
     "output_type": "stream",
     "text": [
      "<Response [200]>\n"
     ]
    },
    {
     "name": "stderr",
     "output_type": "stream",
     "text": [
      "(41821) accepted ('127.0.0.1', 51320)\n",
      "173.20.233.125,127.0.0.1 - - [22/Oct/2023 18:32:15] \"POST /add_step HTTP/1.1\" 200 166 0.000493\n"
     ]
    },
    {
     "name": "stdout",
     "output_type": "stream",
     "text": [
      "<Response [200]>\n"
     ]
    },
    {
     "name": "stderr",
     "output_type": "stream",
     "text": [
      "(41821) accepted ('127.0.0.1', 52465)\n",
      "173.20.233.125,127.0.0.1 - - [22/Oct/2023 18:32:16] \"POST /add_step HTTP/1.1\" 200 166 0.001209\n"
     ]
    },
    {
     "name": "stdout",
     "output_type": "stream",
     "text": [
      "<Response [200]>\n"
     ]
    },
    {
     "name": "stderr",
     "output_type": "stream",
     "text": [
      "(41821) accepted ('127.0.0.1', 53648)\n",
      "173.20.233.125,127.0.0.1 - - [22/Oct/2023 18:32:16] \"POST /add_step HTTP/1.1\" 200 166 0.004313\n"
     ]
    },
    {
     "name": "stdout",
     "output_type": "stream",
     "text": [
      "<Response [200]>\n"
     ]
    },
    {
     "name": "stderr",
     "output_type": "stream",
     "text": [
      "(41821) accepted ('127.0.0.1', 54820)\n",
      "173.20.233.125,127.0.0.1 - - [22/Oct/2023 18:32:17] \"POST /add_step HTTP/1.1\" 200 166 0.000701\n"
     ]
    },
    {
     "name": "stdout",
     "output_type": "stream",
     "text": [
      "<Response [200]>\n"
     ]
    },
    {
     "name": "stderr",
     "output_type": "stream",
     "text": [
      "(41821) accepted ('127.0.0.1', 56005)\n",
      "173.20.233.125,127.0.0.1 - - [22/Oct/2023 18:32:18] \"POST /add_step HTTP/1.1\" 200 166 0.000739\n"
     ]
    },
    {
     "name": "stdout",
     "output_type": "stream",
     "text": [
      "<Response [200]>\n"
     ]
    },
    {
     "name": "stderr",
     "output_type": "stream",
     "text": [
      "(41821) accepted ('127.0.0.1', 57311)\n",
      "173.20.233.125,127.0.0.1 - - [22/Oct/2023 18:32:18] \"POST /add_step HTTP/1.1\" 200 166 0.000442\n"
     ]
    },
    {
     "name": "stdout",
     "output_type": "stream",
     "text": [
      "<Response [200]>\n"
     ]
    },
    {
     "name": "stderr",
     "output_type": "stream",
     "text": [
      "(41821) accepted ('127.0.0.1', 58452)\n",
      "173.20.233.125,127.0.0.1 - - [22/Oct/2023 18:32:19] \"POST /add_step HTTP/1.1\" 200 166 0.000490\n"
     ]
    },
    {
     "name": "stdout",
     "output_type": "stream",
     "text": [
      "<Response [200]>\n"
     ]
    },
    {
     "name": "stderr",
     "output_type": "stream",
     "text": [
      "(41821) accepted ('127.0.0.1', 59987)\n",
      "173.20.233.125,127.0.0.1 - - [22/Oct/2023 18:32:20] \"POST /add_step HTTP/1.1\" 200 166 0.000458\n"
     ]
    },
    {
     "name": "stdout",
     "output_type": "stream",
     "text": [
      "<Response [200]>\n"
     ]
    },
    {
     "name": "stderr",
     "output_type": "stream",
     "text": [
      "(41821) accepted ('127.0.0.1', 61224)\n",
      "173.20.233.125,127.0.0.1 - - [22/Oct/2023 18:32:21] \"POST /add_step HTTP/1.1\" 200 166 0.000889\n"
     ]
    },
    {
     "name": "stdout",
     "output_type": "stream",
     "text": [
      "<Response [200]>\n"
     ]
    },
    {
     "name": "stderr",
     "output_type": "stream",
     "text": [
      "(41821) accepted ('127.0.0.1', 62722)\n",
      "173.20.233.125,127.0.0.1 - - [22/Oct/2023 18:32:21] \"POST /add_step HTTP/1.1\" 200 166 0.000477\n"
     ]
    },
    {
     "name": "stdout",
     "output_type": "stream",
     "text": [
      "<Response [200]>\n"
     ]
    },
    {
     "name": "stderr",
     "output_type": "stream",
     "text": [
      "(41821) accepted ('127.0.0.1', 63873)\n",
      "173.20.233.125,127.0.0.1 - - [22/Oct/2023 18:32:22] \"POST /add_step HTTP/1.1\" 200 166 0.000649\n"
     ]
    },
    {
     "name": "stdout",
     "output_type": "stream",
     "text": [
      "<Response [200]>\n"
     ]
    },
    {
     "name": "stderr",
     "output_type": "stream",
     "text": [
      "(41821) accepted ('127.0.0.1', 65329)\n",
      "173.20.233.125,127.0.0.1 - - [22/Oct/2023 18:32:23] \"POST /add_step HTTP/1.1\" 200 166 0.001590\n"
     ]
    },
    {
     "name": "stdout",
     "output_type": "stream",
     "text": [
      "<Response [200]>\n"
     ]
    },
    {
     "name": "stderr",
     "output_type": "stream",
     "text": [
      "(41821) accepted ('127.0.0.1', 50369)\n",
      "173.20.233.125,127.0.0.1 - - [22/Oct/2023 18:32:24] \"POST /add_step HTTP/1.1\" 200 166 0.000432\n"
     ]
    },
    {
     "name": "stdout",
     "output_type": "stream",
     "text": [
      "<Response [200]>\n"
     ]
    },
    {
     "name": "stderr",
     "output_type": "stream",
     "text": [
      "(41821) accepted ('127.0.0.1', 51613)\n",
      "173.20.233.125,127.0.0.1 - - [22/Oct/2023 18:32:24] \"POST /add_step HTTP/1.1\" 200 166 0.000862\n"
     ]
    },
    {
     "name": "stdout",
     "output_type": "stream",
     "text": [
      "<Response [200]>\n"
     ]
    },
    {
     "name": "stderr",
     "output_type": "stream",
     "text": [
      "(41821) accepted ('127.0.0.1', 52843)\n",
      "173.20.233.125,127.0.0.1 - - [22/Oct/2023 18:32:25] \"POST /add_step HTTP/1.1\" 200 166 0.000714\n"
     ]
    },
    {
     "name": "stdout",
     "output_type": "stream",
     "text": [
      "<Response [200]>\n"
     ]
    },
    {
     "name": "stderr",
     "output_type": "stream",
     "text": [
      "(41821) accepted ('127.0.0.1', 54033)\n",
      "173.20.233.125,127.0.0.1 - - [22/Oct/2023 18:32:26] \"POST /add_step HTTP/1.1\" 200 166 0.001904\n"
     ]
    },
    {
     "name": "stdout",
     "output_type": "stream",
     "text": [
      "<Response [200]>\n"
     ]
    },
    {
     "name": "stderr",
     "output_type": "stream",
     "text": [
      "(41821) accepted ('127.0.0.1', 55615)\n",
      "173.20.233.125,127.0.0.1 - - [22/Oct/2023 18:32:26] \"POST /add_step HTTP/1.1\" 200 166 0.000748\n"
     ]
    },
    {
     "name": "stdout",
     "output_type": "stream",
     "text": [
      "<Response [200]>\n"
     ]
    },
    {
     "name": "stderr",
     "output_type": "stream",
     "text": [
      "(41821) accepted ('127.0.0.1', 56850)\n",
      "173.20.233.125,127.0.0.1 - - [22/Oct/2023 18:32:27] \"POST /add_step HTTP/1.1\" 200 166 0.000742\n"
     ]
    },
    {
     "name": "stdout",
     "output_type": "stream",
     "text": [
      "<Response [200]>\n"
     ]
    },
    {
     "name": "stderr",
     "output_type": "stream",
     "text": [
      "(41821) accepted ('127.0.0.1', 58193)\n",
      "173.20.233.125,127.0.0.1 - - [22/Oct/2023 18:32:28] \"POST /add_step HTTP/1.1\" 200 166 0.000529\n"
     ]
    },
    {
     "name": "stdout",
     "output_type": "stream",
     "text": [
      "<Response [200]>\n"
     ]
    },
    {
     "name": "stderr",
     "output_type": "stream",
     "text": [
      "(41821) accepted ('127.0.0.1', 59727)\n",
      "173.20.233.125,127.0.0.1 - - [22/Oct/2023 18:32:29] \"POST /add_step HTTP/1.1\" 200 166 0.000561\n"
     ]
    },
    {
     "name": "stdout",
     "output_type": "stream",
     "text": [
      "<Response [200]>\n"
     ]
    },
    {
     "name": "stderr",
     "output_type": "stream",
     "text": [
      "(41821) accepted ('127.0.0.1', 61071)\n",
      "173.20.233.125,127.0.0.1 - - [22/Oct/2023 18:32:29] \"POST /add_step HTTP/1.1\" 200 166 0.000672\n"
     ]
    },
    {
     "name": "stdout",
     "output_type": "stream",
     "text": [
      "<Response [200]>\n"
     ]
    },
    {
     "name": "stderr",
     "output_type": "stream",
     "text": [
      "(41821) accepted ('127.0.0.1', 62416)\n",
      "173.20.233.125,127.0.0.1 - - [22/Oct/2023 18:32:30] \"POST /add_step HTTP/1.1\" 200 166 0.000601\n"
     ]
    },
    {
     "name": "stdout",
     "output_type": "stream",
     "text": [
      "<Response [200]>\n"
     ]
    },
    {
     "name": "stderr",
     "output_type": "stream",
     "text": [
      "(41821) accepted ('127.0.0.1', 63770)\n",
      "173.20.233.125,127.0.0.1 - - [22/Oct/2023 18:32:31] \"POST /add_step HTTP/1.1\" 200 166 0.000839\n"
     ]
    },
    {
     "name": "stdout",
     "output_type": "stream",
     "text": [
      "<Response [200]>\n"
     ]
    },
    {
     "name": "stderr",
     "output_type": "stream",
     "text": [
      "(41821) accepted ('127.0.0.1', 65211)\n",
      "173.20.233.125,127.0.0.1 - - [22/Oct/2023 18:32:32] \"POST /add_step HTTP/1.1\" 200 166 0.000514\n"
     ]
    },
    {
     "name": "stdout",
     "output_type": "stream",
     "text": [
      "<Response [200]>\n"
     ]
    },
    {
     "name": "stderr",
     "output_type": "stream",
     "text": [
      "(41821) accepted ('127.0.0.1', 50431)\n",
      "173.20.233.125,127.0.0.1 - - [22/Oct/2023 18:32:33] \"POST /add_step HTTP/1.1\" 200 166 0.000826\n"
     ]
    },
    {
     "name": "stdout",
     "output_type": "stream",
     "text": [
      "<Response [200]>\n"
     ]
    },
    {
     "name": "stderr",
     "output_type": "stream",
     "text": [
      "(41821) accepted ('127.0.0.1', 51897)\n",
      "173.20.233.125,127.0.0.1 - - [22/Oct/2023 18:32:33] \"POST /add_step HTTP/1.1\" 200 166 0.000594\n"
     ]
    },
    {
     "name": "stdout",
     "output_type": "stream",
     "text": [
      "<Response [200]>\n"
     ]
    },
    {
     "name": "stderr",
     "output_type": "stream",
     "text": [
      "(41821) accepted ('127.0.0.1', 53131)\n",
      "173.20.233.125,127.0.0.1 - - [22/Oct/2023 18:32:34] \"POST /add_step HTTP/1.1\" 200 166 0.000459\n"
     ]
    },
    {
     "name": "stdout",
     "output_type": "stream",
     "text": [
      "<Response [200]>\n"
     ]
    },
    {
     "name": "stderr",
     "output_type": "stream",
     "text": [
      "(41821) accepted ('127.0.0.1', 54271)\n",
      "173.20.233.125,127.0.0.1 - - [22/Oct/2023 18:32:35] \"POST /add_step HTTP/1.1\" 200 166 0.000697\n"
     ]
    },
    {
     "name": "stdout",
     "output_type": "stream",
     "text": [
      "<Response [200]>\n"
     ]
    },
    {
     "name": "stderr",
     "output_type": "stream",
     "text": [
      "(41821) accepted ('127.0.0.1', 55447)\n",
      "173.20.233.125,127.0.0.1 - - [22/Oct/2023 18:32:35] \"POST /add_step HTTP/1.1\" 200 166 0.000518\n"
     ]
    },
    {
     "name": "stdout",
     "output_type": "stream",
     "text": [
      "<Response [200]>\n"
     ]
    },
    {
     "name": "stderr",
     "output_type": "stream",
     "text": [
      "(41821) accepted ('127.0.0.1', 56896)\n",
      "173.20.233.125,127.0.0.1 - - [22/Oct/2023 18:32:36] \"POST /add_step HTTP/1.1\" 200 166 0.000708\n"
     ]
    },
    {
     "name": "stdout",
     "output_type": "stream",
     "text": [
      "<Response [200]>\n"
     ]
    },
    {
     "name": "stderr",
     "output_type": "stream",
     "text": [
      "(41821) accepted ('127.0.0.1', 58379)\n",
      "173.20.233.125,127.0.0.1 - - [22/Oct/2023 18:32:37] \"POST /add_step HTTP/1.1\" 200 166 0.000787\n"
     ]
    },
    {
     "name": "stdout",
     "output_type": "stream",
     "text": [
      "<Response [200]>\n"
     ]
    },
    {
     "name": "stderr",
     "output_type": "stream",
     "text": [
      "(41821) accepted ('127.0.0.1', 59775)\n",
      "173.20.233.125,127.0.0.1 - - [22/Oct/2023 18:32:38] \"POST /add_step HTTP/1.1\" 200 166 0.000778\n"
     ]
    },
    {
     "name": "stdout",
     "output_type": "stream",
     "text": [
      "<Response [200]>\n"
     ]
    },
    {
     "name": "stderr",
     "output_type": "stream",
     "text": [
      "(41821) accepted ('127.0.0.1', 61134)\n",
      "173.20.233.125,127.0.0.1 - - [22/Oct/2023 18:32:38] \"POST /add_step HTTP/1.1\" 200 166 0.000659\n"
     ]
    },
    {
     "name": "stdout",
     "output_type": "stream",
     "text": [
      "<Response [200]>\n"
     ]
    },
    {
     "name": "stderr",
     "output_type": "stream",
     "text": [
      "(41821) accepted ('127.0.0.1', 62435)\n",
      "173.20.233.125,127.0.0.1 - - [22/Oct/2023 18:32:39] \"POST /add_step HTTP/1.1\" 200 166 0.000667\n"
     ]
    },
    {
     "name": "stdout",
     "output_type": "stream",
     "text": [
      "<Response [200]>\n"
     ]
    },
    {
     "name": "stderr",
     "output_type": "stream",
     "text": [
      "(41821) accepted ('127.0.0.1', 63730)\n",
      "173.20.233.125,127.0.0.1 - - [22/Oct/2023 18:32:40] \"POST /add_step HTTP/1.1\" 200 166 0.000576\n"
     ]
    },
    {
     "name": "stdout",
     "output_type": "stream",
     "text": [
      "<Response [200]>\n"
     ]
    },
    {
     "name": "stderr",
     "output_type": "stream",
     "text": [
      "(41821) accepted ('127.0.0.1', 65142)\n",
      "173.20.233.125,127.0.0.1 - - [22/Oct/2023 18:32:41] \"POST /add_step HTTP/1.1\" 200 166 0.000673\n"
     ]
    },
    {
     "name": "stdout",
     "output_type": "stream",
     "text": [
      "<Response [200]>\n"
     ]
    },
    {
     "name": "stderr",
     "output_type": "stream",
     "text": [
      "(41821) accepted ('127.0.0.1', 49991)\n",
      "173.20.233.125,127.0.0.1 - - [22/Oct/2023 18:32:41] \"POST /add_step HTTP/1.1\" 200 166 0.000559\n"
     ]
    },
    {
     "name": "stdout",
     "output_type": "stream",
     "text": [
      "<Response [200]>\n"
     ]
    },
    {
     "name": "stderr",
     "output_type": "stream",
     "text": [
      "(41821) accepted ('127.0.0.1', 51177)\n",
      "173.20.233.125,127.0.0.1 - - [22/Oct/2023 18:32:42] \"POST /add_step HTTP/1.1\" 200 166 0.000494\n"
     ]
    },
    {
     "name": "stdout",
     "output_type": "stream",
     "text": [
      "<Response [200]>\n"
     ]
    },
    {
     "name": "stderr",
     "output_type": "stream",
     "text": [
      "(41821) accepted ('127.0.0.1', 52287)\n",
      "173.20.233.125,127.0.0.1 - - [22/Oct/2023 18:32:42] \"POST /add_step HTTP/1.1\" 200 166 0.000530\n"
     ]
    },
    {
     "name": "stdout",
     "output_type": "stream",
     "text": [
      "<Response [200]>\n"
     ]
    },
    {
     "name": "stderr",
     "output_type": "stream",
     "text": [
      "(41821) accepted ('127.0.0.1', 53404)\n",
      "173.20.233.125,127.0.0.1 - - [22/Oct/2023 18:32:43] \"POST /add_step HTTP/1.1\" 200 166 0.000515\n"
     ]
    },
    {
     "name": "stdout",
     "output_type": "stream",
     "text": [
      "<Response [200]>\n"
     ]
    },
    {
     "name": "stderr",
     "output_type": "stream",
     "text": [
      "(41821) accepted ('127.0.0.1', 54695)\n",
      "173.20.233.125,127.0.0.1 - - [22/Oct/2023 18:32:44] \"POST /add_step HTTP/1.1\" 200 166 0.000683\n"
     ]
    },
    {
     "name": "stdout",
     "output_type": "stream",
     "text": [
      "<Response [200]>\n"
     ]
    },
    {
     "name": "stderr",
     "output_type": "stream",
     "text": [
      "(41821) accepted ('127.0.0.1', 56012)\n",
      "173.20.233.125,127.0.0.1 - - [22/Oct/2023 18:32:45] \"POST /add_step HTTP/1.1\" 200 166 0.001078\n"
     ]
    },
    {
     "name": "stdout",
     "output_type": "stream",
     "text": [
      "<Response [200]>\n"
     ]
    },
    {
     "name": "stderr",
     "output_type": "stream",
     "text": [
      "(41821) accepted ('127.0.0.1', 57673)\n",
      "173.20.233.125,127.0.0.1 - - [22/Oct/2023 18:32:45] \"POST /add_step HTTP/1.1\" 200 166 0.000543\n"
     ]
    },
    {
     "name": "stdout",
     "output_type": "stream",
     "text": [
      "<Response [200]>\n"
     ]
    },
    {
     "name": "stderr",
     "output_type": "stream",
     "text": [
      "(41821) accepted ('127.0.0.1', 58836)\n",
      "173.20.233.125,127.0.0.1 - - [22/Oct/2023 18:32:46] \"POST /add_step HTTP/1.1\" 200 166 0.001375\n"
     ]
    },
    {
     "name": "stdout",
     "output_type": "stream",
     "text": [
      "<Response [200]>\n"
     ]
    },
    {
     "name": "stderr",
     "output_type": "stream",
     "text": [
      "(41821) accepted ('127.0.0.1', 59964)\n",
      "173.20.233.125,127.0.0.1 - - [22/Oct/2023 18:32:47] \"POST /add_step HTTP/1.1\" 200 166 0.000759\n"
     ]
    },
    {
     "name": "stdout",
     "output_type": "stream",
     "text": [
      "<Response [200]>\n"
     ]
    },
    {
     "name": "stderr",
     "output_type": "stream",
     "text": [
      "(41821) accepted ('127.0.0.1', 61173)\n",
      "173.20.233.125,127.0.0.1 - - [22/Oct/2023 18:32:47] \"POST /add_step HTTP/1.1\" 200 166 0.000725\n"
     ]
    },
    {
     "name": "stdout",
     "output_type": "stream",
     "text": [
      "<Response [200]>\n"
     ]
    },
    {
     "name": "stderr",
     "output_type": "stream",
     "text": [
      "(41821) accepted ('127.0.0.1', 62317)\n",
      "173.20.233.125,127.0.0.1 - - [22/Oct/2023 18:32:48] \"POST /add_step HTTP/1.1\" 200 166 0.000522\n"
     ]
    },
    {
     "name": "stdout",
     "output_type": "stream",
     "text": [
      "<Response [200]>\n"
     ]
    },
    {
     "name": "stderr",
     "output_type": "stream",
     "text": [
      "(41821) accepted ('127.0.0.1', 63485)\n",
      "173.20.233.125,127.0.0.1 - - [22/Oct/2023 18:32:49] \"POST /add_step HTTP/1.1\" 200 166 0.000651\n"
     ]
    },
    {
     "name": "stdout",
     "output_type": "stream",
     "text": [
      "<Response [200]>\n"
     ]
    },
    {
     "name": "stderr",
     "output_type": "stream",
     "text": [
      "(41821) accepted ('127.0.0.1', 64660)\n",
      "173.20.233.125,127.0.0.1 - - [22/Oct/2023 18:32:49] \"POST /add_step HTTP/1.1\" 200 166 0.000610\n"
     ]
    },
    {
     "name": "stdout",
     "output_type": "stream",
     "text": [
      "<Response [200]>\n"
     ]
    },
    {
     "name": "stderr",
     "output_type": "stream",
     "text": [
      "(41821) accepted ('127.0.0.1', 49481)\n",
      "173.20.233.125,127.0.0.1 - - [22/Oct/2023 18:32:50] \"POST /add_step HTTP/1.1\" 200 166 0.000702\n"
     ]
    },
    {
     "name": "stdout",
     "output_type": "stream",
     "text": [
      "<Response [200]>\n"
     ]
    },
    {
     "name": "stderr",
     "output_type": "stream",
     "text": [
      "(41821) accepted ('127.0.0.1', 50741)\n",
      "173.20.233.125,127.0.0.1 - - [22/Oct/2023 18:32:51] \"POST /add_step HTTP/1.1\" 200 166 0.000667\n"
     ]
    },
    {
     "name": "stdout",
     "output_type": "stream",
     "text": [
      "<Response [200]>\n"
     ]
    },
    {
     "name": "stderr",
     "output_type": "stream",
     "text": [
      "(41821) accepted ('127.0.0.1', 51946)\n",
      "173.20.233.125,127.0.0.1 - - [22/Oct/2023 18:32:51] \"POST /add_step HTTP/1.1\" 200 166 0.000568\n"
     ]
    },
    {
     "name": "stdout",
     "output_type": "stream",
     "text": [
      "<Response [200]>\n"
     ]
    },
    {
     "name": "stderr",
     "output_type": "stream",
     "text": [
      "(41821) accepted ('127.0.0.1', 53682)\n",
      "173.20.233.125,127.0.0.1 - - [22/Oct/2023 18:32:52] \"POST /add_step HTTP/1.1\" 200 166 0.001094\n"
     ]
    },
    {
     "name": "stdout",
     "output_type": "stream",
     "text": [
      "<Response [200]>\n"
     ]
    },
    {
     "name": "stderr",
     "output_type": "stream",
     "text": [
      "(41821) accepted ('127.0.0.1', 55338)\n",
      "173.20.233.125,127.0.0.1 - - [22/Oct/2023 18:32:53] \"POST /add_step HTTP/1.1\" 200 166 0.000471\n"
     ]
    },
    {
     "name": "stdout",
     "output_type": "stream",
     "text": [
      "<Response [200]>\n"
     ]
    },
    {
     "name": "stderr",
     "output_type": "stream",
     "text": [
      "(41821) accepted ('127.0.0.1', 56487)\n",
      "173.20.233.125,127.0.0.1 - - [22/Oct/2023 18:32:54] \"POST /add_step HTTP/1.1\" 200 166 0.000550\n"
     ]
    },
    {
     "name": "stdout",
     "output_type": "stream",
     "text": [
      "<Response [200]>\n"
     ]
    },
    {
     "name": "stderr",
     "output_type": "stream",
     "text": [
      "(41821) accepted ('127.0.0.1', 57864)\n",
      "173.20.233.125,127.0.0.1 - - [22/Oct/2023 18:32:54] \"POST /add_step HTTP/1.1\" 200 166 0.000855\n"
     ]
    },
    {
     "name": "stdout",
     "output_type": "stream",
     "text": [
      "<Response [200]>\n"
     ]
    },
    {
     "name": "stderr",
     "output_type": "stream",
     "text": [
      "(41821) accepted ('127.0.0.1', 59088)\n",
      "173.20.233.125,127.0.0.1 - - [22/Oct/2023 18:32:55] \"POST /add_step HTTP/1.1\" 200 166 0.000509\n"
     ]
    },
    {
     "name": "stdout",
     "output_type": "stream",
     "text": [
      "<Response [200]>\n"
     ]
    },
    {
     "name": "stderr",
     "output_type": "stream",
     "text": [
      "(41821) accepted ('127.0.0.1', 60549)\n",
      "173.20.233.125,127.0.0.1 - - [22/Oct/2023 18:32:56] \"POST /add_step HTTP/1.1\" 200 166 0.001138\n"
     ]
    },
    {
     "name": "stdout",
     "output_type": "stream",
     "text": [
      "<Response [200]>\n"
     ]
    },
    {
     "name": "stderr",
     "output_type": "stream",
     "text": [
      "(41821) accepted ('127.0.0.1', 61907)\n",
      "173.20.233.125,127.0.0.1 - - [22/Oct/2023 18:32:57] \"POST /add_step HTTP/1.1\" 200 166 0.000644\n"
     ]
    },
    {
     "name": "stdout",
     "output_type": "stream",
     "text": [
      "<Response [200]>\n"
     ]
    },
    {
     "name": "stderr",
     "output_type": "stream",
     "text": [
      "(41821) accepted ('127.0.0.1', 63077)\n",
      "173.20.233.125,127.0.0.1 - - [22/Oct/2023 18:32:57] \"POST /add_step HTTP/1.1\" 200 166 0.000973\n"
     ]
    },
    {
     "name": "stdout",
     "output_type": "stream",
     "text": [
      "<Response [200]>\n"
     ]
    },
    {
     "name": "stderr",
     "output_type": "stream",
     "text": [
      "(41821) accepted ('127.0.0.1', 64285)\n",
      "173.20.233.125,127.0.0.1 - - [22/Oct/2023 18:32:58] \"POST /add_step HTTP/1.1\" 200 166 0.000516\n"
     ]
    },
    {
     "name": "stdout",
     "output_type": "stream",
     "text": [
      "<Response [200]>\n"
     ]
    },
    {
     "name": "stderr",
     "output_type": "stream",
     "text": [
      "(41821) accepted ('127.0.0.1', 65444)\n",
      "173.20.233.125,127.0.0.1 - - [22/Oct/2023 18:32:59] \"POST /add_step HTTP/1.1\" 200 166 0.001989\n"
     ]
    },
    {
     "name": "stdout",
     "output_type": "stream",
     "text": [
      "<Response [200]>\n"
     ]
    },
    {
     "name": "stderr",
     "output_type": "stream",
     "text": [
      "(41821) accepted ('127.0.0.1', 50478)\n",
      "173.20.233.125,127.0.0.1 - - [22/Oct/2023 18:32:59] \"POST /add_step HTTP/1.1\" 200 166 0.000635\n"
     ]
    },
    {
     "name": "stdout",
     "output_type": "stream",
     "text": [
      "<Response [200]>\n"
     ]
    },
    {
     "name": "stderr",
     "output_type": "stream",
     "text": [
      "(41821) accepted ('127.0.0.1', 51853)\n",
      "173.20.233.125,127.0.0.1 - - [22/Oct/2023 18:33:00] \"POST /add_step HTTP/1.1\" 200 166 0.000654\n"
     ]
    },
    {
     "name": "stdout",
     "output_type": "stream",
     "text": [
      "<Response [200]>\n"
     ]
    },
    {
     "name": "stderr",
     "output_type": "stream",
     "text": [
      "(41821) accepted ('127.0.0.1', 53167)\n",
      "173.20.233.125,127.0.0.1 - - [22/Oct/2023 18:33:01] \"POST /add_step HTTP/1.1\" 200 166 0.000923\n"
     ]
    },
    {
     "name": "stdout",
     "output_type": "stream",
     "text": [
      "<Response [200]>\n"
     ]
    },
    {
     "name": "stderr",
     "output_type": "stream",
     "text": [
      "(41821) accepted ('127.0.0.1', 54423)\n",
      "173.20.233.125,127.0.0.1 - - [22/Oct/2023 18:33:01] \"POST /add_step HTTP/1.1\" 200 166 0.006355\n"
     ]
    },
    {
     "name": "stdout",
     "output_type": "stream",
     "text": [
      "<Response [200]>\n"
     ]
    },
    {
     "name": "stderr",
     "output_type": "stream",
     "text": [
      "(41821) accepted ('127.0.0.1', 55845)\n",
      "173.20.233.125,127.0.0.1 - - [22/Oct/2023 18:33:02] \"POST /add_step HTTP/1.1\" 200 166 0.006264\n"
     ]
    },
    {
     "name": "stdout",
     "output_type": "stream",
     "text": [
      "<Response [200]>\n"
     ]
    },
    {
     "name": "stderr",
     "output_type": "stream",
     "text": [
      "(41821) accepted ('127.0.0.1', 57373)\n",
      "173.20.233.125,127.0.0.1 - - [22/Oct/2023 18:33:03] \"POST /add_step HTTP/1.1\" 200 166 0.000664\n"
     ]
    },
    {
     "name": "stdout",
     "output_type": "stream",
     "text": [
      "<Response [200]>\n"
     ]
    },
    {
     "name": "stderr",
     "output_type": "stream",
     "text": [
      "(41821) accepted ('127.0.0.1', 58668)\n",
      "173.20.233.125,127.0.0.1 - - [22/Oct/2023 18:33:04] \"POST /add_step HTTP/1.1\" 200 166 0.000491\n"
     ]
    },
    {
     "name": "stdout",
     "output_type": "stream",
     "text": [
      "<Response [200]>\n"
     ]
    },
    {
     "name": "stderr",
     "output_type": "stream",
     "text": [
      "(41821) accepted ('127.0.0.1', 59868)\n",
      "173.20.233.125,127.0.0.1 - - [22/Oct/2023 18:33:04] \"POST /add_step HTTP/1.1\" 200 166 0.000646\n"
     ]
    },
    {
     "name": "stdout",
     "output_type": "stream",
     "text": [
      "<Response [200]>\n"
     ]
    },
    {
     "name": "stderr",
     "output_type": "stream",
     "text": [
      "(41821) accepted ('127.0.0.1', 61206)\n",
      "173.20.233.125,127.0.0.1 - - [22/Oct/2023 18:33:05] \"POST /add_step HTTP/1.1\" 200 166 0.000469\n"
     ]
    },
    {
     "name": "stdout",
     "output_type": "stream",
     "text": [
      "<Response [200]>\n"
     ]
    },
    {
     "name": "stderr",
     "output_type": "stream",
     "text": [
      "(41821) accepted ('127.0.0.1', 62489)\n",
      "173.20.233.125,127.0.0.1 - - [22/Oct/2023 18:33:06] \"POST /add_step HTTP/1.1\" 200 166 0.000493\n"
     ]
    },
    {
     "name": "stdout",
     "output_type": "stream",
     "text": [
      "<Response [200]>\n"
     ]
    },
    {
     "name": "stderr",
     "output_type": "stream",
     "text": [
      "(41821) accepted ('127.0.0.1', 63854)\n",
      "173.20.233.125,127.0.0.1 - - [22/Oct/2023 18:33:07] \"POST /add_step HTTP/1.1\" 200 166 0.000517\n"
     ]
    },
    {
     "name": "stdout",
     "output_type": "stream",
     "text": [
      "<Response [200]>\n"
     ]
    },
    {
     "name": "stderr",
     "output_type": "stream",
     "text": [
      "(41821) accepted ('127.0.0.1', 65320)\n",
      "173.20.233.125,127.0.0.1 - - [22/Oct/2023 18:33:07] \"POST /add_step HTTP/1.1\" 200 166 0.000499\n"
     ]
    },
    {
     "name": "stdout",
     "output_type": "stream",
     "text": [
      "<Response [200]>\n"
     ]
    },
    {
     "name": "stderr",
     "output_type": "stream",
     "text": [
      "(41821) accepted ('127.0.0.1', 50353)\n",
      "173.20.233.125,127.0.0.1 - - [22/Oct/2023 18:33:08] \"POST /add_step HTTP/1.1\" 200 166 0.000701\n"
     ]
    },
    {
     "name": "stdout",
     "output_type": "stream",
     "text": [
      "<Response [200]>\n"
     ]
    },
    {
     "name": "stderr",
     "output_type": "stream",
     "text": [
      "(41821) accepted ('127.0.0.1', 51682)\n",
      "173.20.233.125,127.0.0.1 - - [22/Oct/2023 18:33:09] \"POST /add_step HTTP/1.1\" 200 166 0.000776\n"
     ]
    },
    {
     "name": "stdout",
     "output_type": "stream",
     "text": [
      "<Response [200]>\n"
     ]
    },
    {
     "name": "stderr",
     "output_type": "stream",
     "text": [
      "(41821) accepted ('127.0.0.1', 53122)\n",
      "173.20.233.125,127.0.0.1 - - [22/Oct/2023 18:33:10] \"POST /add_step HTTP/1.1\" 200 166 0.000729\n"
     ]
    },
    {
     "name": "stdout",
     "output_type": "stream",
     "text": [
      "<Response [200]>\n"
     ]
    },
    {
     "name": "stderr",
     "output_type": "stream",
     "text": [
      "(41821) accepted ('127.0.0.1', 54661)\n",
      "173.20.233.125,127.0.0.1 - - [22/Oct/2023 18:33:11] \"POST /add_step HTTP/1.1\" 200 166 0.002608\n"
     ]
    },
    {
     "name": "stdout",
     "output_type": "stream",
     "text": [
      "<Response [200]>\n"
     ]
    },
    {
     "name": "stderr",
     "output_type": "stream",
     "text": [
      "(41821) accepted ('127.0.0.1', 56148)\n",
      "173.20.233.125,127.0.0.1 - - [22/Oct/2023 18:33:11] \"POST /add_step HTTP/1.1\" 200 166 0.000544\n"
     ]
    },
    {
     "name": "stdout",
     "output_type": "stream",
     "text": [
      "<Response [200]>\n"
     ]
    },
    {
     "name": "stderr",
     "output_type": "stream",
     "text": [
      "(41821) accepted ('127.0.0.1', 57563)\n",
      "173.20.233.125,127.0.0.1 - - [22/Oct/2023 18:33:12] \"POST /add_step HTTP/1.1\" 200 166 0.000578\n"
     ]
    },
    {
     "name": "stdout",
     "output_type": "stream",
     "text": [
      "<Response [200]>\n"
     ]
    },
    {
     "name": "stderr",
     "output_type": "stream",
     "text": [
      "(41821) accepted ('127.0.0.1', 59327)\n",
      "173.20.233.125,127.0.0.1 - - [22/Oct/2023 18:33:13] \"POST /add_step HTTP/1.1\" 200 166 0.000614\n"
     ]
    },
    {
     "name": "stdout",
     "output_type": "stream",
     "text": [
      "<Response [200]>\n"
     ]
    },
    {
     "name": "stderr",
     "output_type": "stream",
     "text": [
      "(41821) accepted ('127.0.0.1', 60562)\n",
      "173.20.233.125,127.0.0.1 - - [22/Oct/2023 18:33:14] \"POST /add_step HTTP/1.1\" 200 166 0.000483\n"
     ]
    },
    {
     "name": "stdout",
     "output_type": "stream",
     "text": [
      "<Response [200]>\n"
     ]
    },
    {
     "name": "stderr",
     "output_type": "stream",
     "text": [
      "(41821) accepted ('127.0.0.1', 61854)\n",
      "173.20.233.125,127.0.0.1 - - [22/Oct/2023 18:33:14] \"POST /add_step HTTP/1.1\" 200 166 0.000761\n"
     ]
    },
    {
     "name": "stdout",
     "output_type": "stream",
     "text": [
      "<Response [200]>\n"
     ]
    },
    {
     "name": "stderr",
     "output_type": "stream",
     "text": [
      "(41821) accepted ('127.0.0.1', 63400)\n",
      "173.20.233.125,127.0.0.1 - - [22/Oct/2023 18:33:15] \"POST /add_step HTTP/1.1\" 200 166 0.000581\n"
     ]
    },
    {
     "name": "stdout",
     "output_type": "stream",
     "text": [
      "<Response [200]>\n"
     ]
    },
    {
     "name": "stderr",
     "output_type": "stream",
     "text": [
      "(41821) accepted ('127.0.0.1', 64613)\n",
      "173.20.233.125,127.0.0.1 - - [22/Oct/2023 18:33:16] \"POST /add_step HTTP/1.1\" 200 166 0.000499\n"
     ]
    },
    {
     "name": "stdout",
     "output_type": "stream",
     "text": [
      "<Response [200]>\n"
     ]
    },
    {
     "name": "stderr",
     "output_type": "stream",
     "text": [
      "(41821) accepted ('127.0.0.1', 49426)\n",
      "173.20.233.125,127.0.0.1 - - [22/Oct/2023 18:33:17] \"POST /add_step HTTP/1.1\" 200 166 0.000643\n"
     ]
    },
    {
     "name": "stdout",
     "output_type": "stream",
     "text": [
      "<Response [200]>\n"
     ]
    },
    {
     "name": "stderr",
     "output_type": "stream",
     "text": [
      "(41821) accepted ('127.0.0.1', 50707)\n",
      "173.20.233.125,127.0.0.1 - - [22/Oct/2023 18:33:17] \"POST /add_step HTTP/1.1\" 200 166 0.000640\n"
     ]
    },
    {
     "name": "stdout",
     "output_type": "stream",
     "text": [
      "<Response [200]>\n"
     ]
    },
    {
     "name": "stderr",
     "output_type": "stream",
     "text": [
      "(41821) accepted ('127.0.0.1', 51874)\n",
      "173.20.233.125,127.0.0.1 - - [22/Oct/2023 18:33:18] \"POST /add_step HTTP/1.1\" 200 166 0.000643\n"
     ]
    },
    {
     "name": "stdout",
     "output_type": "stream",
     "text": [
      "<Response [200]>\n"
     ]
    },
    {
     "name": "stderr",
     "output_type": "stream",
     "text": [
      "(41821) accepted ('127.0.0.1', 53083)\n",
      "173.20.233.125,127.0.0.1 - - [22/Oct/2023 18:33:19] \"POST /add_step HTTP/1.1\" 200 166 0.000640\n"
     ]
    },
    {
     "name": "stdout",
     "output_type": "stream",
     "text": [
      "<Response [200]>\n"
     ]
    },
    {
     "name": "stderr",
     "output_type": "stream",
     "text": [
      "(41821) accepted ('127.0.0.1', 54323)\n",
      "173.20.233.125,127.0.0.1 - - [22/Oct/2023 18:33:19] \"POST /add_step HTTP/1.1\" 200 166 0.000600\n"
     ]
    },
    {
     "name": "stdout",
     "output_type": "stream",
     "text": [
      "<Response [200]>\n"
     ]
    },
    {
     "name": "stderr",
     "output_type": "stream",
     "text": [
      "(41821) accepted ('127.0.0.1', 55757)\n",
      "173.20.233.125,127.0.0.1 - - [22/Oct/2023 18:33:20] \"POST /add_step HTTP/1.1\" 200 166 0.000618\n"
     ]
    },
    {
     "name": "stdout",
     "output_type": "stream",
     "text": [
      "<Response [200]>\n"
     ]
    },
    {
     "name": "stderr",
     "output_type": "stream",
     "text": [
      "(41821) accepted ('127.0.0.1', 57403)\n",
      "173.20.233.125,127.0.0.1 - - [22/Oct/2023 18:33:21] \"POST /add_step HTTP/1.1\" 200 166 0.000481\n"
     ]
    },
    {
     "name": "stdout",
     "output_type": "stream",
     "text": [
      "<Response [200]>\n"
     ]
    },
    {
     "name": "stderr",
     "output_type": "stream",
     "text": [
      "(41821) accepted ('127.0.0.1', 58748)\n",
      "173.20.233.125,127.0.0.1 - - [22/Oct/2023 18:33:22] \"POST /add_step HTTP/1.1\" 200 166 0.000595\n"
     ]
    },
    {
     "name": "stdout",
     "output_type": "stream",
     "text": [
      "<Response [200]>\n"
     ]
    },
    {
     "name": "stderr",
     "output_type": "stream",
     "text": [
      "(41821) accepted ('127.0.0.1', 60104)\n",
      "173.20.233.125,127.0.0.1 - - [22/Oct/2023 18:33:22] \"POST /add_step HTTP/1.1\" 200 166 0.000508\n"
     ]
    },
    {
     "name": "stdout",
     "output_type": "stream",
     "text": [
      "<Response [200]>\n"
     ]
    },
    {
     "name": "stderr",
     "output_type": "stream",
     "text": [
      "(41821) accepted ('127.0.0.1', 61467)\n",
      "173.20.233.125,127.0.0.1 - - [22/Oct/2023 18:33:23] \"POST /add_step HTTP/1.1\" 200 166 0.000668\n"
     ]
    },
    {
     "name": "stdout",
     "output_type": "stream",
     "text": [
      "<Response [200]>\n"
     ]
    },
    {
     "name": "stderr",
     "output_type": "stream",
     "text": [
      "(41821) accepted ('127.0.0.1', 63220)\n",
      "173.20.233.125,127.0.0.1 - - [22/Oct/2023 18:33:24] \"POST /add_step HTTP/1.1\" 200 166 0.001181\n"
     ]
    },
    {
     "name": "stdout",
     "output_type": "stream",
     "text": [
      "<Response [200]>\n"
     ]
    },
    {
     "name": "stderr",
     "output_type": "stream",
     "text": [
      "(41821) accepted ('127.0.0.1', 64696)\n",
      "173.20.233.125,127.0.0.1 - - [22/Oct/2023 18:33:25] \"POST /add_step HTTP/1.1\" 200 166 0.000628\n"
     ]
    },
    {
     "name": "stdout",
     "output_type": "stream",
     "text": [
      "<Response [200]>\n"
     ]
    },
    {
     "name": "stderr",
     "output_type": "stream",
     "text": [
      "(41821) accepted ('127.0.0.1', 49734)\n",
      "173.20.233.125,127.0.0.1 - - [22/Oct/2023 18:33:26] \"POST /add_step HTTP/1.1\" 200 166 0.000483\n"
     ]
    },
    {
     "name": "stdout",
     "output_type": "stream",
     "text": [
      "<Response [200]>\n"
     ]
    },
    {
     "name": "stderr",
     "output_type": "stream",
     "text": [
      "(41821) accepted ('127.0.0.1', 50988)\n",
      "173.20.233.125,127.0.0.1 - - [22/Oct/2023 18:33:26] \"POST /add_step HTTP/1.1\" 200 166 0.000698\n"
     ]
    },
    {
     "name": "stdout",
     "output_type": "stream",
     "text": [
      "<Response [200]>\n"
     ]
    },
    {
     "name": "stderr",
     "output_type": "stream",
     "text": [
      "(41821) accepted ('127.0.0.1', 52333)\n",
      "173.20.233.125,127.0.0.1 - - [22/Oct/2023 18:33:27] \"POST /add_step HTTP/1.1\" 200 166 0.000574\n"
     ]
    },
    {
     "name": "stdout",
     "output_type": "stream",
     "text": [
      "<Response [200]>\n"
     ]
    },
    {
     "name": "stderr",
     "output_type": "stream",
     "text": [
      "(41821) accepted ('127.0.0.1', 53527)\n",
      "173.20.233.125,127.0.0.1 - - [22/Oct/2023 18:33:28] \"POST /add_step HTTP/1.1\" 200 166 0.000467\n"
     ]
    },
    {
     "name": "stdout",
     "output_type": "stream",
     "text": [
      "<Response [200]>\n"
     ]
    },
    {
     "name": "stderr",
     "output_type": "stream",
     "text": [
      "(41821) accepted ('127.0.0.1', 54865)\n",
      "173.20.233.125,127.0.0.1 - - [22/Oct/2023 18:33:28] \"POST /add_step HTTP/1.1\" 200 166 0.000517\n"
     ]
    },
    {
     "name": "stdout",
     "output_type": "stream",
     "text": [
      "<Response [200]>\n"
     ]
    },
    {
     "name": "stderr",
     "output_type": "stream",
     "text": [
      "(41821) accepted ('127.0.0.1', 56321)\n",
      "173.20.233.125,127.0.0.1 - - [22/Oct/2023 18:33:29] \"POST /add_step HTTP/1.1\" 200 166 0.000653\n"
     ]
    },
    {
     "name": "stdout",
     "output_type": "stream",
     "text": [
      "<Response [200]>\n"
     ]
    },
    {
     "name": "stderr",
     "output_type": "stream",
     "text": [
      "(41821) accepted ('127.0.0.1', 57819)\n",
      "173.20.233.125,127.0.0.1 - - [22/Oct/2023 18:33:30] \"POST /add_step HTTP/1.1\" 200 166 0.000507\n"
     ]
    },
    {
     "name": "stdout",
     "output_type": "stream",
     "text": [
      "<Response [200]>\n"
     ]
    },
    {
     "name": "stderr",
     "output_type": "stream",
     "text": [
      "(41821) accepted ('127.0.0.1', 59264)\n",
      "173.20.233.125,127.0.0.1 - - [22/Oct/2023 18:33:31] \"POST /add_step HTTP/1.1\" 200 166 0.000642\n"
     ]
    },
    {
     "name": "stdout",
     "output_type": "stream",
     "text": [
      "<Response [200]>\n"
     ]
    },
    {
     "name": "stderr",
     "output_type": "stream",
     "text": [
      "(41821) accepted ('127.0.0.1', 60764)\n",
      "173.20.233.125,127.0.0.1 - - [22/Oct/2023 18:33:32] \"POST /add_step HTTP/1.1\" 200 166 0.004918\n"
     ]
    },
    {
     "name": "stdout",
     "output_type": "stream",
     "text": [
      "<Response [200]>\n"
     ]
    },
    {
     "name": "stderr",
     "output_type": "stream",
     "text": [
      "(41821) accepted ('127.0.0.1', 62005)\n",
      "173.20.233.125,127.0.0.1 - - [22/Oct/2023 18:33:32] \"POST /add_step HTTP/1.1\" 200 166 0.000696\n"
     ]
    },
    {
     "name": "stdout",
     "output_type": "stream",
     "text": [
      "<Response [200]>\n"
     ]
    },
    {
     "name": "stderr",
     "output_type": "stream",
     "text": [
      "(41821) accepted ('127.0.0.1', 63306)\n",
      "173.20.233.125,127.0.0.1 - - [22/Oct/2023 18:33:33] \"POST /add_step HTTP/1.1\" 200 166 0.000444\n"
     ]
    },
    {
     "name": "stdout",
     "output_type": "stream",
     "text": [
      "<Response [200]>\n"
     ]
    },
    {
     "name": "stderr",
     "output_type": "stream",
     "text": [
      "(41821) accepted ('127.0.0.1', 64588)\n",
      "173.20.233.125,127.0.0.1 - - [22/Oct/2023 18:33:34] \"POST /add_step HTTP/1.1\" 200 166 0.000654\n"
     ]
    },
    {
     "name": "stdout",
     "output_type": "stream",
     "text": [
      "<Response [200]>\n"
     ]
    },
    {
     "name": "stderr",
     "output_type": "stream",
     "text": [
      "(41821) accepted ('127.0.0.1', 49498)\n",
      "173.20.233.125,127.0.0.1 - - [22/Oct/2023 18:33:34] \"POST /add_step HTTP/1.1\" 200 166 0.000526\n"
     ]
    },
    {
     "name": "stdout",
     "output_type": "stream",
     "text": [
      "<Response [200]>\n"
     ]
    },
    {
     "name": "stderr",
     "output_type": "stream",
     "text": [
      "(41821) accepted ('127.0.0.1', 50825)\n",
      "173.20.233.125,127.0.0.1 - - [22/Oct/2023 18:33:35] \"POST /add_step HTTP/1.1\" 200 166 0.000542\n"
     ]
    },
    {
     "name": "stdout",
     "output_type": "stream",
     "text": [
      "<Response [200]>\n"
     ]
    },
    {
     "name": "stderr",
     "output_type": "stream",
     "text": [
      "(41821) accepted ('127.0.0.1', 52105)\n",
      "173.20.233.125,127.0.0.1 - - [22/Oct/2023 18:33:36] \"POST /add_step HTTP/1.1\" 200 166 0.000978\n"
     ]
    },
    {
     "name": "stdout",
     "output_type": "stream",
     "text": [
      "<Response [200]>\n"
     ]
    },
    {
     "name": "stderr",
     "output_type": "stream",
     "text": [
      "(41821) accepted ('127.0.0.1', 53448)\n",
      "173.20.233.125,127.0.0.1 - - [22/Oct/2023 18:33:37] \"POST /add_step HTTP/1.1\" 200 166 0.000447\n"
     ]
    },
    {
     "name": "stdout",
     "output_type": "stream",
     "text": [
      "<Response [200]>\n"
     ]
    },
    {
     "name": "stderr",
     "output_type": "stream",
     "text": [
      "(41821) accepted ('127.0.0.1', 54626)\n",
      "173.20.233.125,127.0.0.1 - - [22/Oct/2023 18:33:37] \"POST /add_step HTTP/1.1\" 200 166 0.000617\n"
     ]
    },
    {
     "name": "stdout",
     "output_type": "stream",
     "text": [
      "<Response [200]>\n"
     ]
    },
    {
     "name": "stderr",
     "output_type": "stream",
     "text": [
      "(41821) accepted ('127.0.0.1', 55975)\n",
      "173.20.233.125,127.0.0.1 - - [22/Oct/2023 18:33:38] \"POST /add_step HTTP/1.1\" 200 166 0.000549\n"
     ]
    },
    {
     "name": "stdout",
     "output_type": "stream",
     "text": [
      "<Response [200]>\n"
     ]
    },
    {
     "name": "stderr",
     "output_type": "stream",
     "text": [
      "(41821) accepted ('127.0.0.1', 57232)\n",
      "173.20.233.125,127.0.0.1 - - [22/Oct/2023 18:33:39] \"POST /add_step HTTP/1.1\" 200 166 0.000505\n"
     ]
    },
    {
     "name": "stdout",
     "output_type": "stream",
     "text": [
      "<Response [200]>\n"
     ]
    },
    {
     "name": "stderr",
     "output_type": "stream",
     "text": [
      "(41821) accepted ('127.0.0.1', 58512)\n",
      "173.20.233.125,127.0.0.1 - - [22/Oct/2023 18:33:39] \"POST /add_step HTTP/1.1\" 200 166 0.000457\n"
     ]
    },
    {
     "name": "stdout",
     "output_type": "stream",
     "text": [
      "<Response [200]>\n"
     ]
    },
    {
     "name": "stderr",
     "output_type": "stream",
     "text": [
      "(41821) accepted ('127.0.0.1', 59782)\n",
      "173.20.233.125,127.0.0.1 - - [22/Oct/2023 18:33:40] \"POST /add_step HTTP/1.1\" 200 166 0.000887\n"
     ]
    },
    {
     "name": "stdout",
     "output_type": "stream",
     "text": [
      "<Response [200]>\n"
     ]
    },
    {
     "name": "stderr",
     "output_type": "stream",
     "text": [
      "(41821) accepted ('127.0.0.1', 61262)\n",
      "173.20.233.125,127.0.0.1 - - [22/Oct/2023 18:33:41] \"POST /add_step HTTP/1.1\" 200 166 0.000873\n"
     ]
    },
    {
     "name": "stdout",
     "output_type": "stream",
     "text": [
      "<Response [200]>\n"
     ]
    },
    {
     "name": "stderr",
     "output_type": "stream",
     "text": [
      "(41821) accepted ('127.0.0.1', 62527)\n",
      "173.20.233.125,127.0.0.1 - - [22/Oct/2023 18:33:42] \"POST /add_step HTTP/1.1\" 200 166 0.000652\n"
     ]
    },
    {
     "name": "stdout",
     "output_type": "stream",
     "text": [
      "<Response [200]>\n"
     ]
    },
    {
     "name": "stderr",
     "output_type": "stream",
     "text": [
      "(41821) accepted ('127.0.0.1', 63749)\n",
      "173.20.233.125,127.0.0.1 - - [22/Oct/2023 18:33:42] \"POST /add_step HTTP/1.1\" 200 166 0.000461\n"
     ]
    },
    {
     "name": "stdout",
     "output_type": "stream",
     "text": [
      "<Response [200]>\n"
     ]
    },
    {
     "name": "stderr",
     "output_type": "stream",
     "text": [
      "(41821) accepted ('127.0.0.1', 65521)\n",
      "173.20.233.125,127.0.0.1 - - [22/Oct/2023 18:33:43] \"POST /add_step HTTP/1.1\" 200 166 0.000805\n"
     ]
    },
    {
     "name": "stdout",
     "output_type": "stream",
     "text": [
      "<Response [200]>\n"
     ]
    },
    {
     "name": "stderr",
     "output_type": "stream",
     "text": [
      "(41821) accepted ('127.0.0.1', 50666)\n",
      "173.20.233.125,127.0.0.1 - - [22/Oct/2023 18:33:44] \"POST /add_step HTTP/1.1\" 200 166 0.000555\n"
     ]
    },
    {
     "name": "stdout",
     "output_type": "stream",
     "text": [
      "<Response [200]>\n"
     ]
    },
    {
     "name": "stderr",
     "output_type": "stream",
     "text": [
      "(41821) accepted ('127.0.0.1', 51942)\n",
      "173.20.233.125,127.0.0.1 - - [22/Oct/2023 18:33:45] \"POST /add_step HTTP/1.1\" 200 166 0.000601\n"
     ]
    },
    {
     "name": "stdout",
     "output_type": "stream",
     "text": [
      "<Response [200]>\n"
     ]
    },
    {
     "name": "stderr",
     "output_type": "stream",
     "text": [
      "(41821) accepted ('127.0.0.1', 53193)\n",
      "173.20.233.125,127.0.0.1 - - [22/Oct/2023 18:33:45] \"POST /add_step HTTP/1.1\" 200 166 0.000561\n"
     ]
    },
    {
     "name": "stdout",
     "output_type": "stream",
     "text": [
      "<Response [200]>\n"
     ]
    },
    {
     "name": "stderr",
     "output_type": "stream",
     "text": [
      "(41821) accepted ('127.0.0.1', 54465)\n",
      "173.20.233.125,127.0.0.1 - - [22/Oct/2023 18:33:46] \"POST /add_step HTTP/1.1\" 200 166 0.000646\n"
     ]
    },
    {
     "name": "stdout",
     "output_type": "stream",
     "text": [
      "<Response [200]>\n"
     ]
    },
    {
     "name": "stderr",
     "output_type": "stream",
     "text": [
      "(41821) accepted ('127.0.0.1', 55968)\n",
      "173.20.233.125,127.0.0.1 - - [22/Oct/2023 18:33:47] \"POST /add_step HTTP/1.1\" 200 166 0.000501\n"
     ]
    },
    {
     "name": "stdout",
     "output_type": "stream",
     "text": [
      "<Response [200]>\n"
     ]
    },
    {
     "name": "stderr",
     "output_type": "stream",
     "text": [
      "(41821) accepted ('127.0.0.1', 57116)\n",
      "173.20.233.125,127.0.0.1 - - [22/Oct/2023 18:33:48] \"POST /add_step HTTP/1.1\" 200 166 0.000496\n"
     ]
    },
    {
     "name": "stdout",
     "output_type": "stream",
     "text": [
      "<Response [200]>\n"
     ]
    },
    {
     "name": "stderr",
     "output_type": "stream",
     "text": [
      "(41821) accepted ('127.0.0.1', 58373)\n",
      "173.20.233.125,127.0.0.1 - - [22/Oct/2023 18:33:48] \"POST /add_step HTTP/1.1\" 200 166 0.000656\n"
     ]
    },
    {
     "name": "stdout",
     "output_type": "stream",
     "text": [
      "<Response [200]>\n"
     ]
    },
    {
     "name": "stderr",
     "output_type": "stream",
     "text": [
      "(41821) accepted ('127.0.0.1', 59604)\n",
      "173.20.233.125,127.0.0.1 - - [22/Oct/2023 18:33:49] \"POST /add_step HTTP/1.1\" 200 166 0.000772\n"
     ]
    },
    {
     "name": "stdout",
     "output_type": "stream",
     "text": [
      "<Response [200]>\n"
     ]
    },
    {
     "name": "stderr",
     "output_type": "stream",
     "text": [
      "(41821) accepted ('127.0.0.1', 60946)\n",
      "173.20.233.125,127.0.0.1 - - [22/Oct/2023 18:33:50] \"POST /add_step HTTP/1.1\" 200 166 0.000455\n"
     ]
    },
    {
     "name": "stdout",
     "output_type": "stream",
     "text": [
      "<Response [200]>\n"
     ]
    },
    {
     "name": "stderr",
     "output_type": "stream",
     "text": [
      "(41821) accepted ('127.0.0.1', 62197)\n",
      "173.20.233.125,127.0.0.1 - - [22/Oct/2023 18:33:50] \"POST /add_step HTTP/1.1\" 200 166 0.000722\n"
     ]
    },
    {
     "name": "stdout",
     "output_type": "stream",
     "text": [
      "<Response [200]>\n"
     ]
    },
    {
     "name": "stderr",
     "output_type": "stream",
     "text": [
      "(41821) accepted ('127.0.0.1', 63446)\n",
      "173.20.233.125,127.0.0.1 - - [22/Oct/2023 18:33:51] \"POST /add_step HTTP/1.1\" 200 166 0.000504\n"
     ]
    },
    {
     "name": "stdout",
     "output_type": "stream",
     "text": [
      "<Response [200]>\n"
     ]
    },
    {
     "name": "stderr",
     "output_type": "stream",
     "text": [
      "(41821) accepted ('127.0.0.1', 64784)\n",
      "173.20.233.125,127.0.0.1 - - [22/Oct/2023 18:33:52] \"POST /add_step HTTP/1.1\" 200 166 0.000525\n"
     ]
    },
    {
     "name": "stdout",
     "output_type": "stream",
     "text": [
      "<Response [200]>\n"
     ]
    },
    {
     "name": "stderr",
     "output_type": "stream",
     "text": [
      "(41821) accepted ('127.0.0.1', 50309)\n",
      "173.20.233.125,127.0.0.1 - - [22/Oct/2023 18:33:53] \"POST /add_step HTTP/1.1\" 200 166 0.000884\n"
     ]
    },
    {
     "name": "stdout",
     "output_type": "stream",
     "text": [
      "<Response [200]>\n"
     ]
    },
    {
     "name": "stderr",
     "output_type": "stream",
     "text": [
      "(41821) accepted ('127.0.0.1', 51694)\n",
      "173.20.233.125,127.0.0.1 - - [22/Oct/2023 18:33:54] \"POST /add_step HTTP/1.1\" 200 166 0.000985\n"
     ]
    },
    {
     "name": "stdout",
     "output_type": "stream",
     "text": [
      "<Response [200]>\n"
     ]
    },
    {
     "name": "stderr",
     "output_type": "stream",
     "text": [
      "(41821) accepted ('127.0.0.1', 53024)\n",
      "173.20.233.125,127.0.0.1 - - [22/Oct/2023 18:33:54] \"POST /add_step HTTP/1.1\" 200 166 0.000694\n"
     ]
    },
    {
     "name": "stdout",
     "output_type": "stream",
     "text": [
      "<Response [200]>\n"
     ]
    },
    {
     "name": "stderr",
     "output_type": "stream",
     "text": [
      "(41821) accepted ('127.0.0.1', 54470)\n",
      "173.20.233.125,127.0.0.1 - - [22/Oct/2023 18:33:55] \"POST /add_step HTTP/1.1\" 200 166 0.000637\n"
     ]
    },
    {
     "name": "stdout",
     "output_type": "stream",
     "text": [
      "<Response [200]>\n"
     ]
    },
    {
     "name": "stderr",
     "output_type": "stream",
     "text": [
      "(41821) accepted ('127.0.0.1', 55770)\n",
      "173.20.233.125,127.0.0.1 - - [22/Oct/2023 18:33:56] \"POST /add_step HTTP/1.1\" 200 166 0.000723\n"
     ]
    },
    {
     "name": "stdout",
     "output_type": "stream",
     "text": [
      "<Response [200]>\n"
     ]
    },
    {
     "name": "stderr",
     "output_type": "stream",
     "text": [
      "(41821) accepted ('127.0.0.1', 57162)\n",
      "173.20.233.125,127.0.0.1 - - [22/Oct/2023 18:33:56] \"POST /add_step HTTP/1.1\" 200 166 0.000864\n"
     ]
    },
    {
     "name": "stdout",
     "output_type": "stream",
     "text": [
      "<Response [200]>\n"
     ]
    },
    {
     "name": "stderr",
     "output_type": "stream",
     "text": [
      "(41821) accepted ('127.0.0.1', 58564)\n",
      "173.20.233.125,127.0.0.1 - - [22/Oct/2023 18:33:57] \"POST /add_step HTTP/1.1\" 200 166 0.000944\n"
     ]
    },
    {
     "name": "stdout",
     "output_type": "stream",
     "text": [
      "<Response [200]>\n"
     ]
    },
    {
     "name": "stderr",
     "output_type": "stream",
     "text": [
      "(41821) accepted ('127.0.0.1', 59913)\n",
      "173.20.233.125,127.0.0.1 - - [22/Oct/2023 18:33:58] \"POST /add_step HTTP/1.1\" 200 166 0.000552\n"
     ]
    },
    {
     "name": "stdout",
     "output_type": "stream",
     "text": [
      "<Response [200]>\n"
     ]
    },
    {
     "name": "stderr",
     "output_type": "stream",
     "text": [
      "(41821) accepted ('127.0.0.1', 61284)\n",
      "173.20.233.125,127.0.0.1 - - [22/Oct/2023 18:33:59] \"POST /add_step HTTP/1.1\" 200 166 0.000560\n"
     ]
    },
    {
     "name": "stdout",
     "output_type": "stream",
     "text": [
      "<Response [200]>\n"
     ]
    },
    {
     "name": "stderr",
     "output_type": "stream",
     "text": [
      "(41821) accepted ('127.0.0.1', 62643)\n",
      "173.20.233.125,127.0.0.1 - - [22/Oct/2023 18:33:59] \"POST /add_step HTTP/1.1\" 200 166 0.000845\n"
     ]
    },
    {
     "name": "stdout",
     "output_type": "stream",
     "text": [
      "<Response [200]>\n"
     ]
    },
    {
     "name": "stderr",
     "output_type": "stream",
     "text": [
      "(41821) accepted ('127.0.0.1', 63932)\n",
      "173.20.233.125,127.0.0.1 - - [22/Oct/2023 18:34:00] \"POST /add_step HTTP/1.1\" 200 166 0.003645\n"
     ]
    },
    {
     "name": "stdout",
     "output_type": "stream",
     "text": [
      "<Response [200]>\n"
     ]
    },
    {
     "name": "stderr",
     "output_type": "stream",
     "text": [
      "(41821) accepted ('127.0.0.1', 65152)\n",
      "173.20.233.125,127.0.0.1 - - [22/Oct/2023 18:34:01] \"POST /add_step HTTP/1.1\" 200 166 0.001017\n"
     ]
    },
    {
     "name": "stdout",
     "output_type": "stream",
     "text": [
      "<Response [200]>\n"
     ]
    },
    {
     "name": "stderr",
     "output_type": "stream",
     "text": [
      "(41821) accepted ('127.0.0.1', 50123)\n",
      "173.20.233.125,127.0.0.1 - - [22/Oct/2023 18:34:02] \"POST /add_step HTTP/1.1\" 200 166 0.000976\n"
     ]
    },
    {
     "name": "stdout",
     "output_type": "stream",
     "text": [
      "<Response [200]>\n"
     ]
    },
    {
     "name": "stderr",
     "output_type": "stream",
     "text": [
      "(41821) accepted ('127.0.0.1', 51412)\n",
      "173.20.233.125,127.0.0.1 - - [22/Oct/2023 18:34:02] \"POST /add_step HTTP/1.1\" 200 166 0.000527\n"
     ]
    },
    {
     "name": "stdout",
     "output_type": "stream",
     "text": [
      "<Response [200]>\n"
     ]
    },
    {
     "name": "stderr",
     "output_type": "stream",
     "text": [
      "(41821) accepted ('127.0.0.1', 52773)\n",
      "173.20.233.125,127.0.0.1 - - [22/Oct/2023 18:34:03] \"POST /add_step HTTP/1.1\" 200 166 0.000889\n"
     ]
    },
    {
     "name": "stdout",
     "output_type": "stream",
     "text": [
      "<Response [200]>\n"
     ]
    },
    {
     "name": "stderr",
     "output_type": "stream",
     "text": [
      "(41821) accepted ('127.0.0.1', 54186)\n",
      "173.20.233.125,127.0.0.1 - - [22/Oct/2023 18:34:04] \"POST /add_step HTTP/1.1\" 200 166 0.001084\n"
     ]
    },
    {
     "name": "stdout",
     "output_type": "stream",
     "text": [
      "<Response [200]>\n"
     ]
    },
    {
     "name": "stderr",
     "output_type": "stream",
     "text": [
      "(41821) accepted ('127.0.0.1', 55536)\n",
      "173.20.233.125,127.0.0.1 - - [22/Oct/2023 18:34:05] \"POST /add_step HTTP/1.1\" 200 166 0.001075\n"
     ]
    },
    {
     "name": "stdout",
     "output_type": "stream",
     "text": [
      "<Response [200]>\n"
     ]
    },
    {
     "name": "stderr",
     "output_type": "stream",
     "text": [
      "(41821) accepted ('127.0.0.1', 56794)\n",
      "173.20.233.125,127.0.0.1 - - [22/Oct/2023 18:34:05] \"POST /add_step HTTP/1.1\" 200 166 0.000824\n"
     ]
    },
    {
     "name": "stdout",
     "output_type": "stream",
     "text": [
      "<Response [200]>\n"
     ]
    },
    {
     "name": "stderr",
     "output_type": "stream",
     "text": [
      "(41821) accepted ('127.0.0.1', 58058)\n",
      "173.20.233.125,127.0.0.1 - - [22/Oct/2023 18:34:06] \"POST /add_step HTTP/1.1\" 200 166 0.000644\n"
     ]
    },
    {
     "name": "stdout",
     "output_type": "stream",
     "text": [
      "<Response [200]>\n"
     ]
    },
    {
     "name": "stderr",
     "output_type": "stream",
     "text": [
      "(41821) accepted ('127.0.0.1', 59554)\n",
      "173.20.233.125,127.0.0.1 - - [22/Oct/2023 18:34:07] \"POST /add_step HTTP/1.1\" 200 166 0.000560\n"
     ]
    },
    {
     "name": "stdout",
     "output_type": "stream",
     "text": [
      "<Response [200]>\n"
     ]
    },
    {
     "name": "stderr",
     "output_type": "stream",
     "text": [
      "(41821) accepted ('127.0.0.1', 60969)\n",
      "173.20.233.125,127.0.0.1 - - [22/Oct/2023 18:34:07] \"POST /add_step HTTP/1.1\" 200 166 0.000620\n"
     ]
    },
    {
     "name": "stdout",
     "output_type": "stream",
     "text": [
      "<Response [200]>\n"
     ]
    },
    {
     "name": "stderr",
     "output_type": "stream",
     "text": [
      "(41821) accepted ('127.0.0.1', 62373)\n",
      "173.20.233.125,127.0.0.1 - - [22/Oct/2023 18:34:08] \"POST /add_step HTTP/1.1\" 200 166 0.000680\n"
     ]
    },
    {
     "name": "stdout",
     "output_type": "stream",
     "text": [
      "<Response [200]>\n"
     ]
    },
    {
     "name": "stderr",
     "output_type": "stream",
     "text": [
      "(41821) accepted ('127.0.0.1', 63651)\n",
      "173.20.233.125,127.0.0.1 - - [22/Oct/2023 18:34:09] \"POST /add_step HTTP/1.1\" 200 166 0.000622\n"
     ]
    },
    {
     "name": "stdout",
     "output_type": "stream",
     "text": [
      "<Response [200]>\n"
     ]
    },
    {
     "name": "stderr",
     "output_type": "stream",
     "text": [
      "(41821) accepted ('127.0.0.1', 65098)\n",
      "173.20.233.125,127.0.0.1 - - [22/Oct/2023 18:34:10] \"POST /add_step HTTP/1.1\" 200 166 0.000721\n"
     ]
    },
    {
     "name": "stdout",
     "output_type": "stream",
     "text": [
      "<Response [200]>\n"
     ]
    },
    {
     "name": "stderr",
     "output_type": "stream",
     "text": [
      "(41821) accepted ('127.0.0.1', 50097)\n",
      "173.20.233.125,127.0.0.1 - - [22/Oct/2023 18:34:10] \"POST /add_step HTTP/1.1\" 200 166 0.000687\n"
     ]
    },
    {
     "name": "stdout",
     "output_type": "stream",
     "text": [
      "<Response [200]>\n"
     ]
    },
    {
     "name": "stderr",
     "output_type": "stream",
     "text": [
      "(41821) accepted ('127.0.0.1', 51499)\n",
      "173.20.233.125,127.0.0.1 - - [22/Oct/2023 18:34:11] \"POST /add_step HTTP/1.1\" 200 166 0.000886\n"
     ]
    },
    {
     "name": "stdout",
     "output_type": "stream",
     "text": [
      "<Response [200]>\n"
     ]
    },
    {
     "name": "stderr",
     "output_type": "stream",
     "text": [
      "(41821) accepted ('127.0.0.1', 52755)\n",
      "173.20.233.125,127.0.0.1 - - [22/Oct/2023 18:34:12] \"POST /add_step HTTP/1.1\" 200 166 0.000633\n"
     ]
    },
    {
     "name": "stdout",
     "output_type": "stream",
     "text": [
      "<Response [200]>\n"
     ]
    },
    {
     "name": "stderr",
     "output_type": "stream",
     "text": [
      "(41821) accepted ('127.0.0.1', 53977)\n",
      "173.20.233.125,127.0.0.1 - - [22/Oct/2023 18:34:13] \"POST /add_step HTTP/1.1\" 200 166 0.000901\n"
     ]
    },
    {
     "name": "stdout",
     "output_type": "stream",
     "text": [
      "<Response [200]>\n"
     ]
    },
    {
     "name": "stderr",
     "output_type": "stream",
     "text": [
      "(41821) accepted ('127.0.0.1', 55661)\n",
      "173.20.233.125,127.0.0.1 - - [22/Oct/2023 18:34:13] \"POST /add_step HTTP/1.1\" 200 166 0.000866\n"
     ]
    },
    {
     "name": "stdout",
     "output_type": "stream",
     "text": [
      "<Response [200]>\n"
     ]
    },
    {
     "name": "stderr",
     "output_type": "stream",
     "text": [
      "(41821) accepted ('127.0.0.1', 57069)\n",
      "173.20.233.125,127.0.0.1 - - [22/Oct/2023 18:34:14] \"POST /add_step HTTP/1.1\" 200 166 0.000567\n"
     ]
    },
    {
     "name": "stdout",
     "output_type": "stream",
     "text": [
      "<Response [200]>\n"
     ]
    },
    {
     "name": "stderr",
     "output_type": "stream",
     "text": [
      "(41821) accepted ('127.0.0.1', 58457)\n",
      "173.20.233.125,127.0.0.1 - - [22/Oct/2023 18:34:15] \"POST /add_step HTTP/1.1\" 200 166 0.000658\n"
     ]
    },
    {
     "name": "stdout",
     "output_type": "stream",
     "text": [
      "<Response [200]>\n"
     ]
    },
    {
     "name": "stderr",
     "output_type": "stream",
     "text": [
      "(41821) accepted ('127.0.0.1', 59872)\n",
      "173.20.233.125,127.0.0.1 - - [22/Oct/2023 18:34:16] \"POST /add_step HTTP/1.1\" 200 166 0.000639\n"
     ]
    },
    {
     "name": "stdout",
     "output_type": "stream",
     "text": [
      "<Response [200]>\n"
     ]
    },
    {
     "name": "stderr",
     "output_type": "stream",
     "text": [
      "(41821) accepted ('127.0.0.1', 61162)\n",
      "173.20.233.125,127.0.0.1 - - [22/Oct/2023 18:34:16] \"POST /add_step HTTP/1.1\" 200 166 0.001041\n"
     ]
    },
    {
     "name": "stdout",
     "output_type": "stream",
     "text": [
      "<Response [200]>\n"
     ]
    },
    {
     "name": "stderr",
     "output_type": "stream",
     "text": [
      "(41821) accepted ('127.0.0.1', 62534)\n",
      "173.20.233.125,127.0.0.1 - - [22/Oct/2023 18:34:17] \"POST /add_step HTTP/1.1\" 200 166 0.000746\n"
     ]
    },
    {
     "name": "stdout",
     "output_type": "stream",
     "text": [
      "<Response [200]>\n"
     ]
    },
    {
     "name": "stderr",
     "output_type": "stream",
     "text": [
      "(41821) accepted ('127.0.0.1', 63947)\n",
      "173.20.233.125,127.0.0.1 - - [22/Oct/2023 18:34:18] \"POST /add_step HTTP/1.1\" 200 166 0.000595\n"
     ]
    },
    {
     "name": "stdout",
     "output_type": "stream",
     "text": [
      "<Response [200]>\n"
     ]
    },
    {
     "name": "stderr",
     "output_type": "stream",
     "text": [
      "(41821) accepted ('127.0.0.1', 65141)\n",
      "173.20.233.125,127.0.0.1 - - [22/Oct/2023 18:34:19] \"POST /add_step HTTP/1.1\" 200 166 0.000797\n"
     ]
    },
    {
     "name": "stdout",
     "output_type": "stream",
     "text": [
      "<Response [200]>\n"
     ]
    },
    {
     "name": "stderr",
     "output_type": "stream",
     "text": [
      "(41821) accepted ('127.0.0.1', 49981)\n",
      "173.20.233.125,127.0.0.1 - - [22/Oct/2023 18:34:19] \"POST /add_step HTTP/1.1\" 200 166 0.000792\n"
     ]
    },
    {
     "name": "stdout",
     "output_type": "stream",
     "text": [
      "<Response [200]>\n"
     ]
    },
    {
     "name": "stderr",
     "output_type": "stream",
     "text": [
      "(41821) accepted ('127.0.0.1', 51417)\n",
      "173.20.233.125,127.0.0.1 - - [22/Oct/2023 18:34:20] \"POST /add_step HTTP/1.1\" 200 166 0.000650\n"
     ]
    },
    {
     "name": "stdout",
     "output_type": "stream",
     "text": [
      "<Response [200]>\n"
     ]
    },
    {
     "name": "stderr",
     "output_type": "stream",
     "text": [
      "(41821) accepted ('127.0.0.1', 52591)\n",
      "173.20.233.125,127.0.0.1 - - [22/Oct/2023 18:34:21] \"POST /add_step HTTP/1.1\" 200 166 0.000691\n"
     ]
    },
    {
     "name": "stdout",
     "output_type": "stream",
     "text": [
      "<Response [200]>\n"
     ]
    },
    {
     "name": "stderr",
     "output_type": "stream",
     "text": [
      "(41821) accepted ('127.0.0.1', 53975)\n",
      "173.20.233.125,127.0.0.1 - - [22/Oct/2023 18:34:21] \"POST /add_step HTTP/1.1\" 200 166 0.000696\n"
     ]
    },
    {
     "name": "stdout",
     "output_type": "stream",
     "text": [
      "<Response [200]>\n"
     ]
    },
    {
     "name": "stderr",
     "output_type": "stream",
     "text": [
      "(41821) accepted ('127.0.0.1', 55149)\n",
      "173.20.233.125,127.0.0.1 - - [22/Oct/2023 18:34:22] \"POST /add_step HTTP/1.1\" 200 166 0.000928\n"
     ]
    },
    {
     "name": "stdout",
     "output_type": "stream",
     "text": [
      "<Response [200]>\n"
     ]
    },
    {
     "name": "stderr",
     "output_type": "stream",
     "text": [
      "(41821) accepted ('127.0.0.1', 56325)\n",
      "173.20.233.125,127.0.0.1 - - [22/Oct/2023 18:34:23] \"POST /add_step HTTP/1.1\" 200 166 0.000588\n"
     ]
    },
    {
     "name": "stdout",
     "output_type": "stream",
     "text": [
      "<Response [200]>\n"
     ]
    },
    {
     "name": "stderr",
     "output_type": "stream",
     "text": [
      "(41821) accepted ('127.0.0.1', 57474)\n",
      "173.20.233.125,127.0.0.1 - - [22/Oct/2023 18:34:23] \"POST /add_step HTTP/1.1\" 200 166 0.005680\n"
     ]
    },
    {
     "name": "stdout",
     "output_type": "stream",
     "text": [
      "<Response [200]>\n"
     ]
    },
    {
     "name": "stderr",
     "output_type": "stream",
     "text": [
      "(41821) accepted ('127.0.0.1', 58689)\n",
      "173.20.233.125,127.0.0.1 - - [22/Oct/2023 18:34:24] \"POST /add_step HTTP/1.1\" 200 166 0.000691\n"
     ]
    },
    {
     "name": "stdout",
     "output_type": "stream",
     "text": [
      "<Response [200]>\n"
     ]
    },
    {
     "name": "stderr",
     "output_type": "stream",
     "text": [
      "(41821) accepted ('127.0.0.1', 59897)\n",
      "173.20.233.125,127.0.0.1 - - [22/Oct/2023 18:34:25] \"POST /add_step HTTP/1.1\" 200 166 0.000705\n"
     ]
    },
    {
     "name": "stdout",
     "output_type": "stream",
     "text": [
      "<Response [200]>\n"
     ]
    },
    {
     "name": "stderr",
     "output_type": "stream",
     "text": [
      "(41821) accepted ('127.0.0.1', 61114)\n",
      "173.20.233.125,127.0.0.1 - - [22/Oct/2023 18:34:25] \"POST /add_step HTTP/1.1\" 200 166 0.000799\n"
     ]
    },
    {
     "name": "stdout",
     "output_type": "stream",
     "text": [
      "<Response [200]>\n"
     ]
    },
    {
     "name": "stderr",
     "output_type": "stream",
     "text": [
      "(41821) accepted ('127.0.0.1', 62768)\n",
      "173.20.233.125,127.0.0.1 - - [22/Oct/2023 18:34:26] \"POST /add_step HTTP/1.1\" 200 166 0.000671\n"
     ]
    },
    {
     "name": "stdout",
     "output_type": "stream",
     "text": [
      "<Response [200]>\n"
     ]
    },
    {
     "name": "stderr",
     "output_type": "stream",
     "text": [
      "(41821) accepted ('127.0.0.1', 63969)\n",
      "173.20.233.125,127.0.0.1 - - [22/Oct/2023 18:34:27] \"POST /add_step HTTP/1.1\" 200 166 0.000782\n"
     ]
    },
    {
     "name": "stdout",
     "output_type": "stream",
     "text": [
      "<Response [200]>\n"
     ]
    },
    {
     "name": "stderr",
     "output_type": "stream",
     "text": [
      "(41821) accepted ('127.0.0.1', 65198)\n",
      "173.20.233.125,127.0.0.1 - - [22/Oct/2023 18:34:28] \"POST /add_step HTTP/1.1\" 200 166 0.001090\n"
     ]
    },
    {
     "name": "stdout",
     "output_type": "stream",
     "text": [
      "<Response [200]>\n"
     ]
    },
    {
     "name": "stderr",
     "output_type": "stream",
     "text": [
      "(41821) accepted ('127.0.0.1', 50069)\n",
      "173.20.233.125,127.0.0.1 - - [22/Oct/2023 18:34:28] \"POST /add_step HTTP/1.1\" 200 166 0.000948\n"
     ]
    },
    {
     "name": "stdout",
     "output_type": "stream",
     "text": [
      "<Response [200]>\n"
     ]
    },
    {
     "name": "stderr",
     "output_type": "stream",
     "text": [
      "(41821) accepted ('127.0.0.1', 51553)\n",
      "173.20.233.125,127.0.0.1 - - [22/Oct/2023 18:34:29] \"POST /add_step HTTP/1.1\" 200 166 0.001024\n"
     ]
    },
    {
     "name": "stdout",
     "output_type": "stream",
     "text": [
      "<Response [200]>\n"
     ]
    },
    {
     "name": "stderr",
     "output_type": "stream",
     "text": [
      "(41821) accepted ('127.0.0.1', 52865)\n",
      "173.20.233.125,127.0.0.1 - - [22/Oct/2023 18:34:30] \"POST /add_step HTTP/1.1\" 200 166 0.000646\n"
     ]
    },
    {
     "name": "stdout",
     "output_type": "stream",
     "text": [
      "<Response [200]>\n"
     ]
    },
    {
     "name": "stderr",
     "output_type": "stream",
     "text": [
      "(41821) accepted ('127.0.0.1', 54198)\n",
      "173.20.233.125,127.0.0.1 - - [22/Oct/2023 18:34:31] \"POST /add_step HTTP/1.1\" 200 166 0.000692\n"
     ]
    },
    {
     "name": "stdout",
     "output_type": "stream",
     "text": [
      "<Response [200]>\n"
     ]
    },
    {
     "name": "stderr",
     "output_type": "stream",
     "text": [
      "(41821) accepted ('127.0.0.1', 55413)\n",
      "173.20.233.125,127.0.0.1 - - [22/Oct/2023 18:34:31] \"POST /add_step HTTP/1.1\" 200 166 0.000797\n"
     ]
    },
    {
     "name": "stdout",
     "output_type": "stream",
     "text": [
      "<Response [200]>\n"
     ]
    },
    {
     "name": "stderr",
     "output_type": "stream",
     "text": [
      "(41821) accepted ('127.0.0.1', 56757)\n",
      "173.20.233.125,127.0.0.1 - - [22/Oct/2023 18:34:32] \"POST /add_step HTTP/1.1\" 200 166 0.000889\n"
     ]
    },
    {
     "name": "stdout",
     "output_type": "stream",
     "text": [
      "<Response [200]>\n"
     ]
    },
    {
     "name": "stderr",
     "output_type": "stream",
     "text": [
      "(41821) accepted ('127.0.0.1', 58035)\n",
      "173.20.233.125,127.0.0.1 - - [22/Oct/2023 18:34:33] \"POST /add_step HTTP/1.1\" 200 166 0.000641\n"
     ]
    },
    {
     "name": "stdout",
     "output_type": "stream",
     "text": [
      "<Response [200]>\n"
     ]
    },
    {
     "name": "stderr",
     "output_type": "stream",
     "text": [
      "(41821) accepted ('127.0.0.1', 59364)\n",
      "173.20.233.125,127.0.0.1 - - [22/Oct/2023 18:34:33] \"POST /add_step HTTP/1.1\" 200 166 0.000635\n"
     ]
    },
    {
     "name": "stdout",
     "output_type": "stream",
     "text": [
      "<Response [200]>\n"
     ]
    },
    {
     "name": "stderr",
     "output_type": "stream",
     "text": [
      "(41821) accepted ('127.0.0.1', 60545)\n",
      "173.20.233.125,127.0.0.1 - - [22/Oct/2023 18:34:34] \"POST /add_step HTTP/1.1\" 200 166 0.001167\n"
     ]
    },
    {
     "name": "stdout",
     "output_type": "stream",
     "text": [
      "<Response [200]>\n"
     ]
    },
    {
     "name": "stderr",
     "output_type": "stream",
     "text": [
      "(41821) accepted ('127.0.0.1', 61880)\n",
      "173.20.233.125,127.0.0.1 - - [22/Oct/2023 18:34:35] \"POST /add_step HTTP/1.1\" 200 166 0.000623\n"
     ]
    },
    {
     "name": "stdout",
     "output_type": "stream",
     "text": [
      "<Response [200]>\n"
     ]
    },
    {
     "name": "stderr",
     "output_type": "stream",
     "text": [
      "(41821) accepted ('127.0.0.1', 63348)\n",
      "173.20.233.125,127.0.0.1 - - [22/Oct/2023 18:34:35] \"POST /add_step HTTP/1.1\" 200 166 0.000600\n"
     ]
    },
    {
     "name": "stdout",
     "output_type": "stream",
     "text": [
      "<Response [200]>\n"
     ]
    },
    {
     "name": "stderr",
     "output_type": "stream",
     "text": [
      "(41821) accepted ('127.0.0.1', 64640)\n",
      "173.20.233.125,127.0.0.1 - - [22/Oct/2023 18:34:36] \"POST /add_step HTTP/1.1\" 200 166 0.000473\n"
     ]
    },
    {
     "name": "stdout",
     "output_type": "stream",
     "text": [
      "<Response [200]>\n"
     ]
    },
    {
     "name": "stderr",
     "output_type": "stream",
     "text": [
      "(41821) accepted ('127.0.0.1', 49494)\n",
      "173.20.233.125,127.0.0.1 - - [22/Oct/2023 18:34:37] \"POST /add_step HTTP/1.1\" 200 166 0.000919\n"
     ]
    },
    {
     "name": "stdout",
     "output_type": "stream",
     "text": [
      "<Response [200]>\n"
     ]
    },
    {
     "name": "stderr",
     "output_type": "stream",
     "text": [
      "(41821) accepted ('127.0.0.1', 50766)\n",
      "173.20.233.125,127.0.0.1 - - [22/Oct/2023 18:34:38] \"POST /add_step HTTP/1.1\" 200 166 0.001860\n"
     ]
    },
    {
     "name": "stdout",
     "output_type": "stream",
     "text": [
      "<Response [200]>\n"
     ]
    },
    {
     "name": "stderr",
     "output_type": "stream",
     "text": [
      "(41821) accepted ('127.0.0.1', 52045)\n",
      "173.20.233.125,127.0.0.1 - - [22/Oct/2023 18:34:38] \"POST /add_step HTTP/1.1\" 200 166 0.000871\n"
     ]
    },
    {
     "name": "stdout",
     "output_type": "stream",
     "text": [
      "<Response [200]>\n"
     ]
    },
    {
     "name": "stderr",
     "output_type": "stream",
     "text": [
      "(41821) accepted ('127.0.0.1', 53329)\n",
      "173.20.233.125,127.0.0.1 - - [22/Oct/2023 18:34:39] \"POST /add_step HTTP/1.1\" 200 166 0.000548\n"
     ]
    },
    {
     "name": "stdout",
     "output_type": "stream",
     "text": [
      "<Response [200]>\n"
     ]
    },
    {
     "name": "stderr",
     "output_type": "stream",
     "text": [
      "(41821) accepted ('127.0.0.1', 54675)\n",
      "173.20.233.125,127.0.0.1 - - [22/Oct/2023 18:34:40] \"POST /add_step HTTP/1.1\" 200 166 0.000676\n"
     ]
    },
    {
     "name": "stdout",
     "output_type": "stream",
     "text": [
      "<Response [200]>\n"
     ]
    },
    {
     "name": "stderr",
     "output_type": "stream",
     "text": [
      "(41821) accepted ('127.0.0.1', 55952)\n",
      "173.20.233.125,127.0.0.1 - - [22/Oct/2023 18:34:40] \"POST /add_step HTTP/1.1\" 200 166 0.000778\n"
     ]
    },
    {
     "name": "stdout",
     "output_type": "stream",
     "text": [
      "<Response [200]>\n"
     ]
    },
    {
     "name": "stderr",
     "output_type": "stream",
     "text": [
      "(41821) accepted ('127.0.0.1', 57198)\n",
      "173.20.233.125,127.0.0.1 - - [22/Oct/2023 18:34:41] \"POST /add_step HTTP/1.1\" 200 166 0.000662\n"
     ]
    },
    {
     "name": "stdout",
     "output_type": "stream",
     "text": [
      "<Response [200]>\n"
     ]
    },
    {
     "name": "stderr",
     "output_type": "stream",
     "text": [
      "(41821) accepted ('127.0.0.1', 58676)\n",
      "173.20.233.125,127.0.0.1 - - [22/Oct/2023 18:34:42] \"POST /add_step HTTP/1.1\" 200 166 0.000625\n"
     ]
    },
    {
     "name": "stdout",
     "output_type": "stream",
     "text": [
      "<Response [200]>\n"
     ]
    },
    {
     "name": "stderr",
     "output_type": "stream",
     "text": [
      "(41821) accepted ('127.0.0.1', 59814)\n",
      "173.20.233.125,127.0.0.1 - - [22/Oct/2023 18:34:42] \"POST /add_step HTTP/1.1\" 200 166 0.000571\n"
     ]
    },
    {
     "name": "stdout",
     "output_type": "stream",
     "text": [
      "<Response [200]>\n"
     ]
    },
    {
     "name": "stderr",
     "output_type": "stream",
     "text": [
      "(41821) accepted ('127.0.0.1', 61126)\n",
      "173.20.233.125,127.0.0.1 - - [22/Oct/2023 18:34:43] \"POST /add_step HTTP/1.1\" 200 166 0.000856\n"
     ]
    },
    {
     "name": "stdout",
     "output_type": "stream",
     "text": [
      "<Response [200]>\n"
     ]
    },
    {
     "name": "stderr",
     "output_type": "stream",
     "text": [
      "(41821) accepted ('127.0.0.1', 62368)\n",
      "173.20.233.125,127.0.0.1 - - [22/Oct/2023 18:34:44] \"POST /add_step HTTP/1.1\" 200 166 0.001455\n"
     ]
    },
    {
     "name": "stdout",
     "output_type": "stream",
     "text": [
      "<Response [200]>\n"
     ]
    },
    {
     "name": "stderr",
     "output_type": "stream",
     "text": [
      "(41821) accepted ('127.0.0.1', 63804)\n",
      "173.20.233.125,127.0.0.1 - - [22/Oct/2023 18:34:45] \"POST /add_step HTTP/1.1\" 200 166 0.000650\n"
     ]
    },
    {
     "name": "stdout",
     "output_type": "stream",
     "text": [
      "<Response [200]>\n"
     ]
    },
    {
     "name": "stderr",
     "output_type": "stream",
     "text": [
      "(41821) accepted ('127.0.0.1', 65048)\n",
      "173.20.233.125,127.0.0.1 - - [22/Oct/2023 18:34:45] \"POST /add_step HTTP/1.1\" 200 166 0.001154\n"
     ]
    },
    {
     "name": "stdout",
     "output_type": "stream",
     "text": [
      "<Response [200]>\n"
     ]
    },
    {
     "name": "stderr",
     "output_type": "stream",
     "text": [
      "(41821) accepted ('127.0.0.1', 50093)\n",
      "173.20.233.125,127.0.0.1 - - [22/Oct/2023 18:34:46] \"POST /add_step HTTP/1.1\" 200 166 0.000582\n"
     ]
    },
    {
     "name": "stdout",
     "output_type": "stream",
     "text": [
      "<Response [200]>\n"
     ]
    },
    {
     "name": "stderr",
     "output_type": "stream",
     "text": [
      "(41821) accepted ('127.0.0.1', 51480)\n",
      "173.20.233.125,127.0.0.1 - - [22/Oct/2023 18:34:47] \"POST /add_step HTTP/1.1\" 200 166 0.000577\n"
     ]
    },
    {
     "name": "stdout",
     "output_type": "stream",
     "text": [
      "<Response [200]>\n"
     ]
    },
    {
     "name": "stderr",
     "output_type": "stream",
     "text": [
      "(41821) accepted ('127.0.0.1', 52833)\n",
      "173.20.233.125,127.0.0.1 - - [22/Oct/2023 18:34:48] \"POST /add_step HTTP/1.1\" 200 166 0.002740\n"
     ]
    },
    {
     "name": "stdout",
     "output_type": "stream",
     "text": [
      "<Response [200]>\n"
     ]
    },
    {
     "name": "stderr",
     "output_type": "stream",
     "text": [
      "(41821) accepted ('127.0.0.1', 54245)\n",
      "173.20.233.125,127.0.0.1 - - [22/Oct/2023 18:34:48] \"POST /add_step HTTP/1.1\" 200 166 0.000720\n"
     ]
    },
    {
     "name": "stdout",
     "output_type": "stream",
     "text": [
      "<Response [200]>\n"
     ]
    },
    {
     "name": "stderr",
     "output_type": "stream",
     "text": [
      "(41821) accepted ('127.0.0.1', 55660)\n",
      "173.20.233.125,127.0.0.1 - - [22/Oct/2023 18:34:49] \"POST /add_step HTTP/1.1\" 200 166 0.000819\n"
     ]
    },
    {
     "name": "stdout",
     "output_type": "stream",
     "text": [
      "<Response [200]>\n"
     ]
    },
    {
     "name": "stderr",
     "output_type": "stream",
     "text": [
      "(41821) accepted ('127.0.0.1', 56898)\n",
      "173.20.233.125,127.0.0.1 - - [22/Oct/2023 18:34:50] \"POST /add_step HTTP/1.1\" 200 166 0.000660\n"
     ]
    },
    {
     "name": "stdout",
     "output_type": "stream",
     "text": [
      "<Response [200]>\n"
     ]
    },
    {
     "name": "stderr",
     "output_type": "stream",
     "text": [
      "(41821) accepted ('127.0.0.1', 58177)\n",
      "173.20.233.125,127.0.0.1 - - [22/Oct/2023 18:34:50] \"POST /add_step HTTP/1.1\" 200 166 0.000673\n"
     ]
    },
    {
     "name": "stdout",
     "output_type": "stream",
     "text": [
      "<Response [200]>\n"
     ]
    },
    {
     "name": "stderr",
     "output_type": "stream",
     "text": [
      "(41821) accepted ('127.0.0.1', 59548)\n",
      "173.20.233.125,127.0.0.1 - - [22/Oct/2023 18:34:51] \"POST /add_step HTTP/1.1\" 200 166 0.000867\n"
     ]
    },
    {
     "name": "stdout",
     "output_type": "stream",
     "text": [
      "<Response [200]>\n"
     ]
    },
    {
     "name": "stderr",
     "output_type": "stream",
     "text": [
      "(41821) accepted ('127.0.0.1', 60760)\n",
      "173.20.233.125,127.0.0.1 - - [22/Oct/2023 18:34:52] \"POST /add_step HTTP/1.1\" 200 166 0.000792\n"
     ]
    },
    {
     "name": "stdout",
     "output_type": "stream",
     "text": [
      "<Response [200]>\n"
     ]
    },
    {
     "name": "stderr",
     "output_type": "stream",
     "text": [
      "(41821) accepted ('127.0.0.1', 61959)\n",
      "173.20.233.125,127.0.0.1 - - [22/Oct/2023 18:34:53] \"POST /add_step HTTP/1.1\" 200 166 0.000698\n"
     ]
    },
    {
     "name": "stdout",
     "output_type": "stream",
     "text": [
      "<Response [200]>\n"
     ]
    },
    {
     "name": "stderr",
     "output_type": "stream",
     "text": [
      "(41821) accepted ('127.0.0.1', 63218)\n",
      "173.20.233.125,127.0.0.1 - - [22/Oct/2023 18:34:53] \"POST /add_step HTTP/1.1\" 200 166 0.000955\n"
     ]
    },
    {
     "name": "stdout",
     "output_type": "stream",
     "text": [
      "<Response [200]>\n"
     ]
    },
    {
     "name": "stderr",
     "output_type": "stream",
     "text": [
      "(41821) accepted ('127.0.0.1', 64422)\n",
      "173.20.233.125,127.0.0.1 - - [22/Oct/2023 18:34:54] \"POST /add_step HTTP/1.1\" 200 166 0.000643\n"
     ]
    },
    {
     "name": "stdout",
     "output_type": "stream",
     "text": [
      "<Response [200]>\n"
     ]
    },
    {
     "name": "stderr",
     "output_type": "stream",
     "text": [
      "(41821) accepted ('127.0.0.1', 49337)\n",
      "173.20.233.125,127.0.0.1 - - [22/Oct/2023 18:34:55] \"POST /add_step HTTP/1.1\" 200 166 0.000495\n"
     ]
    },
    {
     "name": "stdout",
     "output_type": "stream",
     "text": [
      "<Response [200]>\n"
     ]
    },
    {
     "name": "stderr",
     "output_type": "stream",
     "text": [
      "(41821) accepted ('127.0.0.1', 50993)\n",
      "173.20.233.125,127.0.0.1 - - [22/Oct/2023 18:34:56] \"POST /add_step HTTP/1.1\" 200 166 0.000672\n"
     ]
    },
    {
     "name": "stdout",
     "output_type": "stream",
     "text": [
      "<Response [200]>\n"
     ]
    },
    {
     "name": "stderr",
     "output_type": "stream",
     "text": [
      "(41821) accepted ('127.0.0.1', 52277)\n",
      "173.20.233.125,127.0.0.1 - - [22/Oct/2023 18:34:56] \"POST /add_step HTTP/1.1\" 200 166 0.001073\n"
     ]
    },
    {
     "name": "stdout",
     "output_type": "stream",
     "text": [
      "<Response [200]>\n"
     ]
    },
    {
     "name": "stderr",
     "output_type": "stream",
     "text": [
      "(41821) accepted ('127.0.0.1', 53551)\n",
      "173.20.233.125,127.0.0.1 - - [22/Oct/2023 18:34:57] \"POST /add_step HTTP/1.1\" 200 166 0.000568\n"
     ]
    },
    {
     "name": "stdout",
     "output_type": "stream",
     "text": [
      "<Response [200]>\n"
     ]
    },
    {
     "name": "stderr",
     "output_type": "stream",
     "text": [
      "(41821) accepted ('127.0.0.1', 54912)\n",
      "173.20.233.125,127.0.0.1 - - [22/Oct/2023 18:34:58] \"POST /add_step HTTP/1.1\" 200 166 0.001063\n"
     ]
    },
    {
     "name": "stdout",
     "output_type": "stream",
     "text": [
      "<Response [200]>\n"
     ]
    },
    {
     "name": "stderr",
     "output_type": "stream",
     "text": [
      "(41821) accepted ('127.0.0.1', 56281)\n",
      "173.20.233.125,127.0.0.1 - - [22/Oct/2023 18:34:58] \"POST /add_step HTTP/1.1\" 200 166 0.000526\n"
     ]
    },
    {
     "name": "stdout",
     "output_type": "stream",
     "text": [
      "<Response [200]>\n"
     ]
    },
    {
     "name": "stderr",
     "output_type": "stream",
     "text": [
      "(41821) accepted ('127.0.0.1', 57554)\n",
      "173.20.233.125,127.0.0.1 - - [22/Oct/2023 18:34:59] \"POST /add_step HTTP/1.1\" 200 166 0.000575\n"
     ]
    },
    {
     "name": "stdout",
     "output_type": "stream",
     "text": [
      "<Response [200]>\n"
     ]
    },
    {
     "name": "stderr",
     "output_type": "stream",
     "text": [
      "(41821) accepted ('127.0.0.1', 58840)\n",
      "173.20.233.125,127.0.0.1 - - [22/Oct/2023 18:35:00] \"POST /add_step HTTP/1.1\" 200 166 0.000667\n"
     ]
    },
    {
     "name": "stdout",
     "output_type": "stream",
     "text": [
      "<Response [200]>\n"
     ]
    },
    {
     "name": "stderr",
     "output_type": "stream",
     "text": [
      "(41821) accepted ('127.0.0.1', 60191)\n",
      "173.20.233.125,127.0.0.1 - - [22/Oct/2023 18:35:00] \"POST /add_step HTTP/1.1\" 200 166 0.000549\n"
     ]
    },
    {
     "name": "stdout",
     "output_type": "stream",
     "text": [
      "<Response [200]>\n"
     ]
    },
    {
     "name": "stderr",
     "output_type": "stream",
     "text": [
      "(41821) accepted ('127.0.0.1', 61395)\n",
      "173.20.233.125,127.0.0.1 - - [22/Oct/2023 18:35:01] \"POST /add_step HTTP/1.1\" 200 166 0.000551\n"
     ]
    },
    {
     "name": "stdout",
     "output_type": "stream",
     "text": [
      "<Response [200]>\n"
     ]
    },
    {
     "name": "stderr",
     "output_type": "stream",
     "text": [
      "(41821) accepted ('127.0.0.1', 62736)\n",
      "173.20.233.125,127.0.0.1 - - [22/Oct/2023 18:35:02] \"POST /add_step HTTP/1.1\" 200 166 0.000794\n"
     ]
    },
    {
     "name": "stdout",
     "output_type": "stream",
     "text": [
      "<Response [200]>\n"
     ]
    },
    {
     "name": "stderr",
     "output_type": "stream",
     "text": [
      "(41821) accepted ('127.0.0.1', 64061)\n",
      "173.20.233.125,127.0.0.1 - - [22/Oct/2023 18:35:03] \"POST /add_step HTTP/1.1\" 200 166 0.000649\n"
     ]
    },
    {
     "name": "stdout",
     "output_type": "stream",
     "text": [
      "<Response [200]>\n"
     ]
    },
    {
     "name": "stderr",
     "output_type": "stream",
     "text": [
      "(41821) accepted ('127.0.0.1', 65176)\n",
      "173.20.233.125,127.0.0.1 - - [22/Oct/2023 18:35:03] \"POST /add_step HTTP/1.1\" 200 166 0.000574\n"
     ]
    },
    {
     "name": "stdout",
     "output_type": "stream",
     "text": [
      "<Response [200]>\n"
     ]
    },
    {
     "name": "stderr",
     "output_type": "stream",
     "text": [
      "(41821) accepted ('127.0.0.1', 50071)\n",
      "173.20.233.125,127.0.0.1 - - [22/Oct/2023 18:35:04] \"POST /add_step HTTP/1.1\" 200 166 0.000629\n"
     ]
    },
    {
     "name": "stdout",
     "output_type": "stream",
     "text": [
      "<Response [200]>\n"
     ]
    },
    {
     "name": "stderr",
     "output_type": "stream",
     "text": [
      "(41821) accepted ('127.0.0.1', 51467)\n",
      "173.20.233.125,127.0.0.1 - - [22/Oct/2023 18:35:05] \"POST /add_step HTTP/1.1\" 200 166 0.000693\n"
     ]
    },
    {
     "name": "stdout",
     "output_type": "stream",
     "text": [
      "<Response [200]>\n"
     ]
    },
    {
     "name": "stderr",
     "output_type": "stream",
     "text": [
      "(41821) accepted ('127.0.0.1', 52802)\n",
      "173.20.233.125,127.0.0.1 - - [22/Oct/2023 18:35:05] \"POST /add_step HTTP/1.1\" 200 166 0.000581\n"
     ]
    },
    {
     "name": "stdout",
     "output_type": "stream",
     "text": [
      "<Response [200]>\n"
     ]
    },
    {
     "name": "stderr",
     "output_type": "stream",
     "text": [
      "(41821) accepted ('127.0.0.1', 54213)\n",
      "173.20.233.125,127.0.0.1 - - [22/Oct/2023 18:35:06] \"POST /add_step HTTP/1.1\" 200 166 0.000582\n"
     ]
    },
    {
     "name": "stdout",
     "output_type": "stream",
     "text": [
      "<Response [200]>\n"
     ]
    },
    {
     "name": "stderr",
     "output_type": "stream",
     "text": [
      "(41821) accepted ('127.0.0.1', 55615)\n",
      "173.20.233.125,127.0.0.1 - - [22/Oct/2023 18:35:07] \"POST /add_step HTTP/1.1\" 200 166 0.000616\n"
     ]
    },
    {
     "name": "stdout",
     "output_type": "stream",
     "text": [
      "<Response [200]>\n"
     ]
    },
    {
     "name": "stderr",
     "output_type": "stream",
     "text": [
      "(41821) accepted ('127.0.0.1', 57092)\n",
      "173.20.233.125,127.0.0.1 - - [22/Oct/2023 18:35:08] \"POST /add_step HTTP/1.1\" 200 166 0.000967\n"
     ]
    },
    {
     "name": "stdout",
     "output_type": "stream",
     "text": [
      "<Response [200]>\n"
     ]
    },
    {
     "name": "stderr",
     "output_type": "stream",
     "text": [
      "(41821) accepted ('127.0.0.1', 58480)\n",
      "173.20.233.125,127.0.0.1 - - [22/Oct/2023 18:35:08] \"POST /add_step HTTP/1.1\" 200 166 0.000636\n"
     ]
    },
    {
     "name": "stdout",
     "output_type": "stream",
     "text": [
      "<Response [200]>\n"
     ]
    },
    {
     "name": "stderr",
     "output_type": "stream",
     "text": [
      "(41821) accepted ('127.0.0.1', 60213)\n",
      "173.20.233.125,127.0.0.1 - - [22/Oct/2023 18:35:09] \"POST /add_step HTTP/1.1\" 200 166 0.000629\n"
     ]
    },
    {
     "name": "stdout",
     "output_type": "stream",
     "text": [
      "<Response [200]>\n"
     ]
    },
    {
     "name": "stderr",
     "output_type": "stream",
     "text": [
      "(41821) accepted ('127.0.0.1', 61891)\n",
      "173.20.233.125,127.0.0.1 - - [22/Oct/2023 18:35:10] \"POST /add_step HTTP/1.1\" 200 166 0.000646\n"
     ]
    },
    {
     "name": "stdout",
     "output_type": "stream",
     "text": [
      "<Response [200]>\n"
     ]
    },
    {
     "name": "stderr",
     "output_type": "stream",
     "text": [
      "(41821) accepted ('127.0.0.1', 63195)\n",
      "173.20.233.125,127.0.0.1 - - [22/Oct/2023 18:35:11] \"POST /add_step HTTP/1.1\" 200 166 0.000649\n"
     ]
    },
    {
     "name": "stdout",
     "output_type": "stream",
     "text": [
      "<Response [200]>\n"
     ]
    },
    {
     "name": "stderr",
     "output_type": "stream",
     "text": [
      "(41821) accepted ('127.0.0.1', 64520)\n",
      "173.20.233.125,127.0.0.1 - - [22/Oct/2023 18:35:12] \"POST /add_step HTTP/1.1\" 200 166 0.000509\n"
     ]
    },
    {
     "name": "stdout",
     "output_type": "stream",
     "text": [
      "<Response [200]>\n"
     ]
    },
    {
     "name": "stderr",
     "output_type": "stream",
     "text": [
      "(41821) accepted ('127.0.0.1', 49457)\n",
      "173.20.233.125,127.0.0.1 - - [22/Oct/2023 18:35:12] \"POST /add_step HTTP/1.1\" 200 166 0.000595\n"
     ]
    },
    {
     "name": "stdout",
     "output_type": "stream",
     "text": [
      "<Response [200]>\n"
     ]
    },
    {
     "name": "stderr",
     "output_type": "stream",
     "text": [
      "(41821) accepted ('127.0.0.1', 50939)\n",
      "173.20.233.125,127.0.0.1 - - [22/Oct/2023 18:35:13] \"POST /add_step HTTP/1.1\" 200 166 0.005542\n"
     ]
    },
    {
     "name": "stdout",
     "output_type": "stream",
     "text": [
      "<Response [200]>\n"
     ]
    },
    {
     "name": "stderr",
     "output_type": "stream",
     "text": [
      "(41821) accepted ('127.0.0.1', 52430)\n",
      "173.20.233.125,127.0.0.1 - - [22/Oct/2023 18:35:14] \"POST /add_step HTTP/1.1\" 200 166 0.000651\n"
     ]
    },
    {
     "name": "stdout",
     "output_type": "stream",
     "text": [
      "<Response [200]>\n"
     ]
    },
    {
     "name": "stderr",
     "output_type": "stream",
     "text": [
      "(41821) accepted ('127.0.0.1', 53831)\n",
      "173.20.233.125,127.0.0.1 - - [22/Oct/2023 18:35:15] \"POST /add_step HTTP/1.1\" 200 166 0.000581\n"
     ]
    },
    {
     "name": "stdout",
     "output_type": "stream",
     "text": [
      "<Response [200]>\n"
     ]
    },
    {
     "name": "stderr",
     "output_type": "stream",
     "text": [
      "(41821) accepted ('127.0.0.1', 55299)\n",
      "173.20.233.125,127.0.0.1 - - [22/Oct/2023 18:35:16] \"POST /add_step HTTP/1.1\" 200 166 0.000641\n"
     ]
    },
    {
     "name": "stdout",
     "output_type": "stream",
     "text": [
      "<Response [200]>\n"
     ]
    },
    {
     "name": "stderr",
     "output_type": "stream",
     "text": [
      "(41821) accepted ('127.0.0.1', 56649)\n",
      "173.20.233.125,127.0.0.1 - - [22/Oct/2023 18:35:16] \"POST /add_step HTTP/1.1\" 200 166 0.000574\n"
     ]
    },
    {
     "name": "stdout",
     "output_type": "stream",
     "text": [
      "<Response [200]>\n"
     ]
    },
    {
     "name": "stderr",
     "output_type": "stream",
     "text": [
      "(41821) accepted ('127.0.0.1', 58191)\n",
      "173.20.233.125,127.0.0.1 - - [22/Oct/2023 18:35:17] \"POST /add_step HTTP/1.1\" 200 166 0.001066\n"
     ]
    },
    {
     "name": "stdout",
     "output_type": "stream",
     "text": [
      "<Response [200]>\n"
     ]
    },
    {
     "name": "stderr",
     "output_type": "stream",
     "text": [
      "(41821) accepted ('127.0.0.1', 59676)\n",
      "173.20.233.125,127.0.0.1 - - [22/Oct/2023 18:35:18] \"POST /add_step HTTP/1.1\" 200 166 0.000560\n"
     ]
    },
    {
     "name": "stdout",
     "output_type": "stream",
     "text": [
      "<Response [200]>\n"
     ]
    },
    {
     "name": "stderr",
     "output_type": "stream",
     "text": [
      "(41821) accepted ('127.0.0.1', 61065)\n",
      "173.20.233.125,127.0.0.1 - - [22/Oct/2023 18:35:19] \"POST /add_step HTTP/1.1\" 200 166 0.000800\n"
     ]
    },
    {
     "name": "stdout",
     "output_type": "stream",
     "text": [
      "<Response [200]>\n"
     ]
    },
    {
     "name": "stderr",
     "output_type": "stream",
     "text": [
      "(41821) accepted ('127.0.0.1', 62290)\n",
      "173.20.233.125,127.0.0.1 - - [22/Oct/2023 18:35:19] \"POST /add_step HTTP/1.1\" 200 166 0.000550\n"
     ]
    },
    {
     "name": "stdout",
     "output_type": "stream",
     "text": [
      "<Response [200]>\n"
     ]
    },
    {
     "name": "stderr",
     "output_type": "stream",
     "text": [
      "(41821) accepted ('127.0.0.1', 63570)\n",
      "173.20.233.125,127.0.0.1 - - [22/Oct/2023 18:35:20] \"POST /add_step HTTP/1.1\" 200 166 0.000670\n"
     ]
    },
    {
     "name": "stdout",
     "output_type": "stream",
     "text": [
      "<Response [200]>\n"
     ]
    },
    {
     "name": "stderr",
     "output_type": "stream",
     "text": [
      "(41821) accepted ('127.0.0.1', 64807)\n",
      "173.20.233.125,127.0.0.1 - - [22/Oct/2023 18:35:21] \"POST /add_step HTTP/1.1\" 200 166 0.000638\n"
     ]
    },
    {
     "name": "stdout",
     "output_type": "stream",
     "text": [
      "<Response [200]>\n"
     ]
    },
    {
     "name": "stderr",
     "output_type": "stream",
     "text": [
      "(41821) accepted ('127.0.0.1', 49724)\n",
      "173.20.233.125,127.0.0.1 - - [22/Oct/2023 18:35:22] \"POST /add_step HTTP/1.1\" 200 166 0.000778\n"
     ]
    },
    {
     "name": "stdout",
     "output_type": "stream",
     "text": [
      "<Response [200]>\n"
     ]
    },
    {
     "name": "stderr",
     "output_type": "stream",
     "text": [
      "(41821) accepted ('127.0.0.1', 51050)\n",
      "173.20.233.125,127.0.0.1 - - [22/Oct/2023 18:35:22] \"POST /add_step HTTP/1.1\" 200 166 0.000812\n"
     ]
    },
    {
     "name": "stdout",
     "output_type": "stream",
     "text": [
      "<Response [200]>\n"
     ]
    },
    {
     "name": "stderr",
     "output_type": "stream",
     "text": [
      "(41821) accepted ('127.0.0.1', 52257)\n",
      "173.20.233.125,127.0.0.1 - - [22/Oct/2023 18:35:23] \"POST /add_step HTTP/1.1\" 200 166 0.000939\n"
     ]
    },
    {
     "name": "stdout",
     "output_type": "stream",
     "text": [
      "<Response [200]>\n"
     ]
    },
    {
     "name": "stderr",
     "output_type": "stream",
     "text": [
      "(41821) accepted ('127.0.0.1', 53637)\n",
      "173.20.233.125,127.0.0.1 - - [22/Oct/2023 18:35:24] \"POST /add_step HTTP/1.1\" 200 166 0.000865\n"
     ]
    },
    {
     "name": "stdout",
     "output_type": "stream",
     "text": [
      "<Response [200]>\n"
     ]
    },
    {
     "name": "stderr",
     "output_type": "stream",
     "text": [
      "(41821) accepted ('127.0.0.1', 54896)\n",
      "173.20.233.125,127.0.0.1 - - [22/Oct/2023 18:35:24] \"POST /add_step HTTP/1.1\" 200 166 0.000929\n"
     ]
    },
    {
     "name": "stdout",
     "output_type": "stream",
     "text": [
      "<Response [200]>\n"
     ]
    },
    {
     "name": "stderr",
     "output_type": "stream",
     "text": [
      "(41821) accepted ('127.0.0.1', 56222)\n",
      "173.20.233.125,127.0.0.1 - - [22/Oct/2023 18:35:25] \"POST /add_step HTTP/1.1\" 200 166 0.002412\n"
     ]
    },
    {
     "name": "stdout",
     "output_type": "stream",
     "text": [
      "<Response [200]>\n"
     ]
    },
    {
     "name": "stderr",
     "output_type": "stream",
     "text": [
      "(41821) accepted ('127.0.0.1', 57561)\n",
      "173.20.233.125,127.0.0.1 - - [22/Oct/2023 18:35:26] \"POST /add_step HTTP/1.1\" 200 166 0.001198\n"
     ]
    },
    {
     "name": "stdout",
     "output_type": "stream",
     "text": [
      "<Response [200]>\n"
     ]
    },
    {
     "name": "stderr",
     "output_type": "stream",
     "text": [
      "(41821) accepted ('127.0.0.1', 58991)\n",
      "173.20.233.125,127.0.0.1 - - [22/Oct/2023 18:35:27] \"POST /add_step HTTP/1.1\" 200 166 0.000620\n"
     ]
    },
    {
     "name": "stdout",
     "output_type": "stream",
     "text": [
      "<Response [200]>\n"
     ]
    },
    {
     "name": "stderr",
     "output_type": "stream",
     "text": [
      "(41821) accepted ('127.0.0.1', 60535)\n",
      "173.20.233.125,127.0.0.1 - - [22/Oct/2023 18:35:27] \"POST /add_step HTTP/1.1\" 200 166 0.000667\n"
     ]
    },
    {
     "name": "stdout",
     "output_type": "stream",
     "text": [
      "<Response [200]>\n"
     ]
    },
    {
     "name": "stderr",
     "output_type": "stream",
     "text": [
      "(41821) accepted ('127.0.0.1', 61985)\n",
      "173.20.233.125,127.0.0.1 - - [22/Oct/2023 18:35:28] \"POST /add_step HTTP/1.1\" 200 166 0.000614\n"
     ]
    },
    {
     "name": "stdout",
     "output_type": "stream",
     "text": [
      "<Response [200]>\n"
     ]
    },
    {
     "name": "stderr",
     "output_type": "stream",
     "text": [
      "(41821) accepted ('127.0.0.1', 63503)\n",
      "173.20.233.125,127.0.0.1 - - [22/Oct/2023 18:35:29] \"POST /add_step HTTP/1.1\" 200 166 0.000561\n"
     ]
    },
    {
     "name": "stdout",
     "output_type": "stream",
     "text": [
      "<Response [200]>\n"
     ]
    },
    {
     "name": "stderr",
     "output_type": "stream",
     "text": [
      "(41821) accepted ('127.0.0.1', 65448)\n",
      "173.20.233.125,127.0.0.1 - - [22/Oct/2023 18:35:30] \"POST /add_step HTTP/1.1\" 200 166 0.000561\n"
     ]
    },
    {
     "name": "stdout",
     "output_type": "stream",
     "text": [
      "<Response [200]>\n"
     ]
    },
    {
     "name": "stderr",
     "output_type": "stream",
     "text": [
      "(41821) accepted ('127.0.0.1', 50807)\n",
      "173.20.233.125,127.0.0.1 - - [22/Oct/2023 18:35:31] \"POST /add_step HTTP/1.1\" 200 166 0.000848\n"
     ]
    },
    {
     "name": "stdout",
     "output_type": "stream",
     "text": [
      "<Response [200]>\n"
     ]
    },
    {
     "name": "stderr",
     "output_type": "stream",
     "text": [
      "(41821) accepted ('127.0.0.1', 52791)\n",
      "173.20.233.125,127.0.0.1 - - [22/Oct/2023 18:35:32] \"POST /add_step HTTP/1.1\" 200 166 0.000774\n"
     ]
    },
    {
     "name": "stdout",
     "output_type": "stream",
     "text": [
      "<Response [200]>\n"
     ]
    },
    {
     "name": "stderr",
     "output_type": "stream",
     "text": [
      "(41821) accepted ('127.0.0.1', 54316)\n",
      "173.20.233.125,127.0.0.1 - - [22/Oct/2023 18:35:33] \"POST /add_step HTTP/1.1\" 200 166 0.000560\n"
     ]
    },
    {
     "name": "stdout",
     "output_type": "stream",
     "text": [
      "<Response [200]>\n"
     ]
    },
    {
     "name": "stderr",
     "output_type": "stream",
     "text": [
      "(41821) accepted ('127.0.0.1', 55953)\n",
      "173.20.233.125,127.0.0.1 - - [22/Oct/2023 18:35:34] \"POST /add_step HTTP/1.1\" 200 166 0.000652\n"
     ]
    },
    {
     "name": "stdout",
     "output_type": "stream",
     "text": [
      "<Response [200]>\n"
     ]
    },
    {
     "name": "stderr",
     "output_type": "stream",
     "text": [
      "(41821) accepted ('127.0.0.1', 57326)\n",
      "173.20.233.125,127.0.0.1 - - [22/Oct/2023 18:35:35] \"POST /add_step HTTP/1.1\" 200 166 0.000594\n"
     ]
    },
    {
     "name": "stdout",
     "output_type": "stream",
     "text": [
      "<Response [200]>\n"
     ]
    },
    {
     "name": "stderr",
     "output_type": "stream",
     "text": [
      "(41821) accepted ('127.0.0.1', 58812)\n",
      "173.20.233.125,127.0.0.1 - - [22/Oct/2023 18:35:35] \"POST /add_step HTTP/1.1\" 200 166 0.000573\n"
     ]
    },
    {
     "name": "stdout",
     "output_type": "stream",
     "text": [
      "<Response [200]>\n"
     ]
    },
    {
     "name": "stderr",
     "output_type": "stream",
     "text": [
      "(41821) accepted ('127.0.0.1', 60579)\n",
      "173.20.233.125,127.0.0.1 - - [22/Oct/2023 18:35:36] \"POST /add_step HTTP/1.1\" 200 166 0.000743\n"
     ]
    },
    {
     "name": "stdout",
     "output_type": "stream",
     "text": [
      "<Response [200]>\n"
     ]
    },
    {
     "name": "stderr",
     "output_type": "stream",
     "text": [
      "(41821) accepted ('127.0.0.1', 62058)\n",
      "173.20.233.125,127.0.0.1 - - [22/Oct/2023 18:35:37] \"POST /add_step HTTP/1.1\" 200 166 0.000884\n"
     ]
    },
    {
     "name": "stdout",
     "output_type": "stream",
     "text": [
      "<Response [200]>\n"
     ]
    },
    {
     "name": "stderr",
     "output_type": "stream",
     "text": [
      "(41821) accepted ('127.0.0.1', 63515)\n",
      "173.20.233.125,127.0.0.1 - - [22/Oct/2023 18:35:38] \"POST /add_step HTTP/1.1\" 200 166 0.000760\n"
     ]
    },
    {
     "name": "stdout",
     "output_type": "stream",
     "text": [
      "<Response [200]>\n"
     ]
    },
    {
     "name": "stderr",
     "output_type": "stream",
     "text": [
      "(41821) accepted ('127.0.0.1', 64768)\n",
      "173.20.233.125,127.0.0.1 - - [22/Oct/2023 18:35:39] \"POST /add_step HTTP/1.1\" 200 166 0.001345\n"
     ]
    },
    {
     "name": "stdout",
     "output_type": "stream",
     "text": [
      "<Response [200]>\n"
     ]
    },
    {
     "name": "stderr",
     "output_type": "stream",
     "text": [
      "(41821) accepted ('127.0.0.1', 49740)\n",
      "173.20.233.125,127.0.0.1 - - [22/Oct/2023 18:35:39] \"POST /add_step HTTP/1.1\" 200 166 0.000681\n"
     ]
    },
    {
     "name": "stdout",
     "output_type": "stream",
     "text": [
      "<Response [200]>\n"
     ]
    },
    {
     "name": "stderr",
     "output_type": "stream",
     "text": [
      "(41821) accepted ('127.0.0.1', 51068)\n",
      "173.20.233.125,127.0.0.1 - - [22/Oct/2023 18:35:40] \"POST /add_step HTTP/1.1\" 200 166 0.000888\n"
     ]
    },
    {
     "name": "stdout",
     "output_type": "stream",
     "text": [
      "<Response [200]>\n"
     ]
    },
    {
     "name": "stderr",
     "output_type": "stream",
     "text": [
      "(41821) accepted ('127.0.0.1', 52329)\n",
      "173.20.233.125,127.0.0.1 - - [22/Oct/2023 18:35:41] \"POST /add_step HTTP/1.1\" 200 166 0.000651\n"
     ]
    },
    {
     "name": "stdout",
     "output_type": "stream",
     "text": [
      "<Response [200]>\n"
     ]
    },
    {
     "name": "stderr",
     "output_type": "stream",
     "text": [
      "(41821) accepted ('127.0.0.1', 53635)\n",
      "173.20.233.125,127.0.0.1 - - [22/Oct/2023 18:35:41] \"POST /add_step HTTP/1.1\" 200 166 0.000851\n"
     ]
    },
    {
     "name": "stdout",
     "output_type": "stream",
     "text": [
      "<Response [200]>\n"
     ]
    },
    {
     "name": "stderr",
     "output_type": "stream",
     "text": [
      "(41821) accepted ('127.0.0.1', 55294)\n",
      "173.20.233.125,127.0.0.1 - - [22/Oct/2023 18:35:42] \"POST /add_step HTTP/1.1\" 200 166 0.000807\n"
     ]
    },
    {
     "name": "stdout",
     "output_type": "stream",
     "text": [
      "<Response [200]>\n"
     ]
    },
    {
     "name": "stderr",
     "output_type": "stream",
     "text": [
      "(41821) accepted ('127.0.0.1', 56594)\n",
      "173.20.233.125,127.0.0.1 - - [22/Oct/2023 18:35:43] \"POST /add_step HTTP/1.1\" 200 166 0.000693\n"
     ]
    },
    {
     "name": "stdout",
     "output_type": "stream",
     "text": [
      "<Response [200]>\n"
     ]
    },
    {
     "name": "stderr",
     "output_type": "stream",
     "text": [
      "(41821) accepted ('127.0.0.1', 57921)\n",
      "173.20.233.125,127.0.0.1 - - [22/Oct/2023 18:35:44] \"POST /add_step HTTP/1.1\" 200 166 0.000636\n"
     ]
    },
    {
     "name": "stdout",
     "output_type": "stream",
     "text": [
      "<Response [200]>\n"
     ]
    },
    {
     "name": "stderr",
     "output_type": "stream",
     "text": [
      "(41821) accepted ('127.0.0.1', 59126)\n",
      "173.20.233.125,127.0.0.1 - - [22/Oct/2023 18:35:44] \"POST /add_step HTTP/1.1\" 200 166 0.000711\n"
     ]
    },
    {
     "name": "stdout",
     "output_type": "stream",
     "text": [
      "<Response [200]>\n"
     ]
    },
    {
     "name": "stderr",
     "output_type": "stream",
     "text": [
      "(41821) accepted ('127.0.0.1', 60415)\n",
      "173.20.233.125,127.0.0.1 - - [22/Oct/2023 18:35:45] \"POST /add_step HTTP/1.1\" 200 166 0.000918\n"
     ]
    },
    {
     "name": "stdout",
     "output_type": "stream",
     "text": [
      "<Response [200]>\n"
     ]
    },
    {
     "name": "stderr",
     "output_type": "stream",
     "text": [
      "(41821) accepted ('127.0.0.1', 61742)\n",
      "173.20.233.125,127.0.0.1 - - [22/Oct/2023 18:35:46] \"POST /add_step HTTP/1.1\" 200 166 0.000698\n"
     ]
    },
    {
     "name": "stdout",
     "output_type": "stream",
     "text": [
      "<Response [200]>\n"
     ]
    },
    {
     "name": "stderr",
     "output_type": "stream",
     "text": [
      "(41821) accepted ('127.0.0.1', 63005)\n",
      "173.20.233.125,127.0.0.1 - - [22/Oct/2023 18:35:47] \"POST /add_step HTTP/1.1\" 200 166 0.000758\n"
     ]
    },
    {
     "name": "stdout",
     "output_type": "stream",
     "text": [
      "<Response [200]>\n"
     ]
    },
    {
     "name": "stderr",
     "output_type": "stream",
     "text": [
      "(41821) accepted ('127.0.0.1', 64303)\n",
      "173.20.233.125,127.0.0.1 - - [22/Oct/2023 18:35:47] \"POST /add_step HTTP/1.1\" 200 166 0.003929\n"
     ]
    },
    {
     "name": "stdout",
     "output_type": "stream",
     "text": [
      "<Response [200]>\n"
     ]
    },
    {
     "name": "stderr",
     "output_type": "stream",
     "text": [
      "(41821) accepted ('127.0.0.1', 65471)\n",
      "173.20.233.125,127.0.0.1 - - [22/Oct/2023 18:35:48] \"POST /add_step HTTP/1.1\" 200 166 0.002283\n"
     ]
    },
    {
     "name": "stdout",
     "output_type": "stream",
     "text": [
      "<Response [200]>\n"
     ]
    },
    {
     "name": "stderr",
     "output_type": "stream",
     "text": [
      "(41821) accepted ('127.0.0.1', 50582)\n",
      "173.20.233.125,127.0.0.1 - - [22/Oct/2023 18:35:49] \"POST /add_step HTTP/1.1\" 200 166 0.000651\n"
     ]
    },
    {
     "name": "stdout",
     "output_type": "stream",
     "text": [
      "<Response [200]>\n"
     ]
    },
    {
     "name": "stderr",
     "output_type": "stream",
     "text": [
      "(41821) accepted ('127.0.0.1', 51931)\n",
      "173.20.233.125,127.0.0.1 - - [22/Oct/2023 18:35:49] \"POST /add_step HTTP/1.1\" 200 166 0.000636\n"
     ]
    },
    {
     "name": "stdout",
     "output_type": "stream",
     "text": [
      "<Response [200]>\n"
     ]
    },
    {
     "name": "stderr",
     "output_type": "stream",
     "text": [
      "(41821) accepted ('127.0.0.1', 53539)\n",
      "173.20.233.125,127.0.0.1 - - [22/Oct/2023 18:35:50] \"POST /add_step HTTP/1.1\" 200 166 0.000763\n"
     ]
    },
    {
     "name": "stdout",
     "output_type": "stream",
     "text": [
      "<Response [200]>\n"
     ]
    },
    {
     "name": "stderr",
     "output_type": "stream",
     "text": [
      "(41821) accepted ('127.0.0.1', 54919)\n",
      "173.20.233.125,127.0.0.1 - - [22/Oct/2023 18:35:51] \"POST /add_step HTTP/1.1\" 200 166 0.000528\n"
     ]
    },
    {
     "name": "stdout",
     "output_type": "stream",
     "text": [
      "<Response [200]>\n"
     ]
    },
    {
     "name": "stderr",
     "output_type": "stream",
     "text": [
      "(41821) accepted ('127.0.0.1', 56303)\n",
      "173.20.233.125,127.0.0.1 - - [22/Oct/2023 18:35:52] \"POST /add_step HTTP/1.1\" 200 166 0.000805\n"
     ]
    },
    {
     "name": "stdout",
     "output_type": "stream",
     "text": [
      "<Response [200]>\n"
     ]
    },
    {
     "name": "stderr",
     "output_type": "stream",
     "text": [
      "(41821) accepted ('127.0.0.1', 57739)\n",
      "173.20.233.125,127.0.0.1 - - [22/Oct/2023 18:35:53] \"POST /add_step HTTP/1.1\" 200 166 0.001302\n"
     ]
    },
    {
     "name": "stdout",
     "output_type": "stream",
     "text": [
      "<Response [200]>\n"
     ]
    },
    {
     "name": "stderr",
     "output_type": "stream",
     "text": [
      "(41821) accepted ('127.0.0.1', 58362)\n",
      "(41821) accepted ('127.0.0.1', 58363)\n",
      "127.0.0.1 - - [22/Oct/2023 18:35:53] \"GET /socket.io/?EIO=4&transport=polling&t=OjPlhbp HTTP/1.1\" 200 330 0.000341\n",
      "127.0.0.1 - - [22/Oct/2023 18:35:53] \"GET /socket.io/?EIO=4&transport=polling&t=OjPlhbr HTTP/1.1\" 200 330 0.000265\n",
      "(41821) accepted ('127.0.0.1', 58383)\n",
      "127.0.0.1 - - [22/Oct/2023 18:35:53] \"POST /socket.io/?EIO=4&transport=polling&t=OjPlhb-&sid=arzGb2JY72tJx1igAAAI HTTP/1.1\" 200 219 0.000539\n",
      "127.0.0.1 - - [22/Oct/2023 18:35:53] \"GET /socket.io/?EIO=4&transport=polling&t=OjPlhc0&sid=arzGb2JY72tJx1igAAAI HTTP/1.1\" 200 233 0.000198\n",
      "(41821) accepted ('127.0.0.1', 58392)\n",
      "(41821) accepted ('127.0.0.1', 58401)\n",
      "127.0.0.1 - - [22/Oct/2023 18:35:53] \"POST /socket.io/?EIO=4&transport=polling&t=OjPlhc1&sid=s52FZSZAEWxb9iusAAAJ HTTP/1.1\" 200 219 0.000332\n",
      "127.0.0.1 - - [22/Oct/2023 18:35:53] \"GET /socket.io/?EIO=4&transport=polling&t=OjPlhc3&sid=s52FZSZAEWxb9iusAAAJ HTTP/1.1\" 200 265 0.000141\n",
      "127.0.0.1 - - [22/Oct/2023 18:35:53] \"GET /socket.io/?EIO=4&transport=polling&t=OjPlhcB&sid=arzGb2JY72tJx1igAAAI HTTP/1.1\" 200 233 0.000145\n",
      "(41821) accepted ('127.0.0.1', 58418)\n",
      "127.0.0.1 - - [22/Oct/2023 18:35:53] \"GET /socket.io/?EIO=4&transport=polling&t=OjPlhcD&sid=s52FZSZAEWxb9iusAAAJ HTTP/1.1\" 200 233 0.019933\n",
      "127.0.0.1 - - [22/Oct/2023 18:35:53] \"GET /all HTTP/1.1\" 200 187610 0.019054\n",
      "(41821) accepted ('127.0.0.1', 59362)\n",
      "173.20.233.125,127.0.0.1 - - [22/Oct/2023 18:35:54] \"POST /add_step HTTP/1.1\" 200 166 0.000762\n"
     ]
    },
    {
     "name": "stdout",
     "output_type": "stream",
     "text": [
      "<Response [200]>\n"
     ]
    },
    {
     "name": "stderr",
     "output_type": "stream",
     "text": [
      "(41821) accepted ('127.0.0.1', 61066)\n",
      "173.20.233.125,127.0.0.1 - - [22/Oct/2023 18:35:54] \"POST /add_step HTTP/1.1\" 200 166 0.000526\n"
     ]
    },
    {
     "name": "stdout",
     "output_type": "stream",
     "text": [
      "<Response [200]>\n"
     ]
    },
    {
     "name": "stderr",
     "output_type": "stream",
     "text": [
      "(41821) accepted ('127.0.0.1', 62324)\n",
      "173.20.233.125,127.0.0.1 - - [22/Oct/2023 18:35:55] \"POST /add_step HTTP/1.1\" 200 166 0.000739\n"
     ]
    },
    {
     "name": "stdout",
     "output_type": "stream",
     "text": [
      "<Response [200]>\n"
     ]
    },
    {
     "name": "stderr",
     "output_type": "stream",
     "text": [
      "(41821) accepted ('127.0.0.1', 63785)\n",
      "173.20.233.125,127.0.0.1 - - [22/Oct/2023 18:35:56] \"POST /add_step HTTP/1.1\" 200 166 0.001004\n"
     ]
    },
    {
     "name": "stdout",
     "output_type": "stream",
     "text": [
      "<Response [200]>\n"
     ]
    },
    {
     "name": "stderr",
     "output_type": "stream",
     "text": [
      "(41821) accepted ('127.0.0.1', 65490)\n",
      "173.20.233.125,127.0.0.1 - - [22/Oct/2023 18:35:57] \"POST /add_step HTTP/1.1\" 200 166 0.000564\n"
     ]
    },
    {
     "name": "stdout",
     "output_type": "stream",
     "text": [
      "<Response [200]>\n"
     ]
    },
    {
     "name": "stderr",
     "output_type": "stream",
     "text": [
      "(41821) accepted ('127.0.0.1', 50354)\n",
      "173.20.233.125,127.0.0.1 - - [22/Oct/2023 18:35:58] \"POST /add_step HTTP/1.1\" 200 166 0.000654\n"
     ]
    },
    {
     "name": "stdout",
     "output_type": "stream",
     "text": [
      "<Response [200]>\n"
     ]
    },
    {
     "name": "stderr",
     "output_type": "stream",
     "text": [
      "127.0.0.1 - - [22/Oct/2023 18:35:58] \"GET /socket.io/?EIO=4&transport=websocket&sid=LvvObU_mfVlH47_jAAAF HTTP/1.1\" 200 0 359.459371\n",
      "127.0.0.1 - - [22/Oct/2023 18:35:58] \"GET /socket.io/?EIO=4&transport=websocket&sid=arzGb2JY72tJx1igAAAI HTTP/1.1\" 200 0 5.062962\n",
      "127.0.0.1 - - [22/Oct/2023 18:35:58] \"GET /socket.io/?EIO=4&transport=websocket&sid=T7UiNpUEEeUqKwFsAAAE HTTP/1.1\" 200 0 359.476156\n",
      "127.0.0.1 - - [22/Oct/2023 18:35:58] \"GET /socket.io/?EIO=4&transport=websocket&sid=s52FZSZAEWxb9iusAAAJ HTTP/1.1\" 200 0 5.051108\n",
      "(41821) accepted ('127.0.0.1', 51650)\n",
      "173.20.233.125,127.0.0.1 - - [22/Oct/2023 18:35:58] \"POST /add_step HTTP/1.1\" 200 166 0.000435\n",
      "127.0.0.1 - - [22/Oct/2023 18:35:58] \"GET /socket.io/?EIO=4&transport=polling&t=OjPliuQ HTTP/1.1\" 200 330 0.000248\n",
      "127.0.0.1 - - [22/Oct/2023 18:35:58] \"GET /socket.io/?EIO=4&transport=polling&t=OjPliuR HTTP/1.1\" 200 330 0.000198\n",
      "127.0.0.1 - - [22/Oct/2023 18:35:58] \"POST /socket.io/?EIO=4&transport=polling&t=OjPliuc&sid=LZDYhr2w64wy_m_lAAAM HTTP/1.1\" 200 219 0.000355\n",
      "127.0.0.1 - - [22/Oct/2023 18:35:58] \"GET /socket.io/?EIO=4&transport=polling&t=OjPliud&sid=LZDYhr2w64wy_m_lAAAM HTTP/1.1\" 200 265 0.000133\n",
      "(41821) accepted ('127.0.0.1', 51709)\n",
      "127.0.0.1 - - [22/Oct/2023 18:35:58] \"POST /socket.io/?EIO=4&transport=polling&t=OjPliug&sid=u2-dU3-roCHN4USaAAAN HTTP/1.1\" 200 219 0.000697\n",
      "127.0.0.1 - - [22/Oct/2023 18:35:58] \"GET /socket.io/?EIO=4&transport=polling&t=OjPliug.0&sid=u2-dU3-roCHN4USaAAAN HTTP/1.1\" 200 265 0.000283\n",
      "127.0.0.1 - - [22/Oct/2023 18:35:58] \"GET /socket.io/?EIO=4&transport=polling&t=OjPlium&sid=LZDYhr2w64wy_m_lAAAM HTTP/1.1\" 200 233 0.000253\n",
      "(41821) accepted ('127.0.0.1', 51733)\n",
      "127.0.0.1 - - [22/Oct/2023 18:35:58] \"GET /all HTTP/1.1\" 200 189991 0.025802\n",
      "127.0.0.1 - - [22/Oct/2023 18:35:58] \"GET /socket.io/?EIO=4&transport=polling&t=OjPliuo&sid=u2-dU3-roCHN4USaAAAN HTTP/1.1\" 200 233 0.036736\n"
     ]
    },
    {
     "name": "stdout",
     "output_type": "stream",
     "text": [
      "<Response [200]>\n"
     ]
    },
    {
     "name": "stderr",
     "output_type": "stream",
     "text": [
      "(41821) accepted ('127.0.0.1', 52905)\n",
      "173.20.233.125,127.0.0.1 - - [22/Oct/2023 18:35:59] \"POST /add_step HTTP/1.1\" 200 166 0.000774\n"
     ]
    },
    {
     "name": "stdout",
     "output_type": "stream",
     "text": [
      "<Response [200]>\n"
     ]
    },
    {
     "name": "stderr",
     "output_type": "stream",
     "text": [
      "(41821) accepted ('127.0.0.1', 54067)\n",
      "173.20.233.125,127.0.0.1 - - [22/Oct/2023 18:36:00] \"POST /add_step HTTP/1.1\" 200 166 0.000793\n"
     ]
    },
    {
     "name": "stdout",
     "output_type": "stream",
     "text": [
      "<Response [200]>\n"
     ]
    },
    {
     "name": "stderr",
     "output_type": "stream",
     "text": [
      "(41821) accepted ('127.0.0.1', 55257)\n",
      "173.20.233.125,127.0.0.1 - - [22/Oct/2023 18:36:00] \"POST /add_step HTTP/1.1\" 200 166 0.000618\n"
     ]
    },
    {
     "name": "stdout",
     "output_type": "stream",
     "text": [
      "<Response [200]>\n"
     ]
    },
    {
     "name": "stderr",
     "output_type": "stream",
     "text": [
      "(41821) accepted ('127.0.0.1', 56441)\n",
      "173.20.233.125,127.0.0.1 - - [22/Oct/2023 18:36:01] \"POST /add_step HTTP/1.1\" 200 166 0.000542\n"
     ]
    },
    {
     "name": "stdout",
     "output_type": "stream",
     "text": [
      "<Response [200]>\n"
     ]
    },
    {
     "name": "stderr",
     "output_type": "stream",
     "text": [
      "(41821) accepted ('127.0.0.1', 57614)\n",
      "173.20.233.125,127.0.0.1 - - [22/Oct/2023 18:36:01] \"POST /add_step HTTP/1.1\" 200 166 0.000668\n"
     ]
    },
    {
     "name": "stdout",
     "output_type": "stream",
     "text": [
      "<Response [200]>\n"
     ]
    },
    {
     "name": "stderr",
     "output_type": "stream",
     "text": [
      "(41821) accepted ('127.0.0.1', 58851)\n",
      "173.20.233.125,127.0.0.1 - - [22/Oct/2023 18:36:02] \"POST /add_step HTTP/1.1\" 200 166 0.000659\n"
     ]
    },
    {
     "name": "stdout",
     "output_type": "stream",
     "text": [
      "<Response [200]>\n"
     ]
    },
    {
     "name": "stderr",
     "output_type": "stream",
     "text": [
      "(41821) accepted ('127.0.0.1', 60041)\n",
      "173.20.233.125,127.0.0.1 - - [22/Oct/2023 18:36:03] \"POST /add_step HTTP/1.1\" 200 166 0.000646\n"
     ]
    },
    {
     "name": "stdout",
     "output_type": "stream",
     "text": [
      "<Response [200]>\n"
     ]
    },
    {
     "name": "stderr",
     "output_type": "stream",
     "text": [
      "(41821) accepted ('127.0.0.1', 61233)\n",
      "173.20.233.125,127.0.0.1 - - [22/Oct/2023 18:36:03] \"POST /add_step HTTP/1.1\" 200 166 0.000635\n"
     ]
    },
    {
     "name": "stdout",
     "output_type": "stream",
     "text": [
      "<Response [200]>\n"
     ]
    },
    {
     "name": "stderr",
     "output_type": "stream",
     "text": [
      "(41821) accepted ('127.0.0.1', 62454)\n",
      "173.20.233.125,127.0.0.1 - - [22/Oct/2023 18:36:04] \"POST /add_step HTTP/1.1\" 200 166 0.000985\n"
     ]
    },
    {
     "name": "stdout",
     "output_type": "stream",
     "text": [
      "<Response [200]>\n"
     ]
    },
    {
     "name": "stderr",
     "output_type": "stream",
     "text": [
      "(41821) accepted ('127.0.0.1', 63605)\n",
      "173.20.233.125,127.0.0.1 - - [22/Oct/2023 18:36:05] \"POST /add_step HTTP/1.1\" 200 166 0.000676\n"
     ]
    },
    {
     "name": "stdout",
     "output_type": "stream",
     "text": [
      "<Response [200]>\n"
     ]
    },
    {
     "name": "stderr",
     "output_type": "stream",
     "text": [
      "(41821) accepted ('127.0.0.1', 64743)\n",
      "173.20.233.125,127.0.0.1 - - [22/Oct/2023 18:36:05] \"POST /add_step HTTP/1.1\" 200 166 0.000653\n"
     ]
    },
    {
     "name": "stdout",
     "output_type": "stream",
     "text": [
      "<Response [200]>\n"
     ]
    },
    {
     "name": "stderr",
     "output_type": "stream",
     "text": [
      "(41821) accepted ('127.0.0.1', 49512)\n",
      "173.20.233.125,127.0.0.1 - - [22/Oct/2023 18:36:06] \"POST /add_step HTTP/1.1\" 200 166 0.000628\n"
     ]
    },
    {
     "name": "stdout",
     "output_type": "stream",
     "text": [
      "<Response [200]>\n"
     ]
    },
    {
     "name": "stderr",
     "output_type": "stream",
     "text": [
      "(41821) accepted ('127.0.0.1', 50683)\n",
      "173.20.233.125,127.0.0.1 - - [22/Oct/2023 18:36:07] \"POST /add_step HTTP/1.1\" 200 166 0.000685\n"
     ]
    },
    {
     "name": "stdout",
     "output_type": "stream",
     "text": [
      "<Response [200]>\n"
     ]
    },
    {
     "name": "stderr",
     "output_type": "stream",
     "text": [
      "(41821) accepted ('127.0.0.1', 51869)\n",
      "173.20.233.125,127.0.0.1 - - [22/Oct/2023 18:36:07] \"POST /add_step HTTP/1.1\" 200 166 0.000651\n"
     ]
    },
    {
     "name": "stdout",
     "output_type": "stream",
     "text": [
      "<Response [200]>\n"
     ]
    },
    {
     "name": "stderr",
     "output_type": "stream",
     "text": [
      "(41821) accepted ('127.0.0.1', 53039)\n",
      "173.20.233.125,127.0.0.1 - - [22/Oct/2023 18:36:08] \"POST /add_step HTTP/1.1\" 200 166 0.000658\n"
     ]
    },
    {
     "name": "stdout",
     "output_type": "stream",
     "text": [
      "<Response [200]>\n"
     ]
    },
    {
     "name": "stderr",
     "output_type": "stream",
     "text": [
      "(41821) accepted ('127.0.0.1', 54267)\n",
      "173.20.233.125,127.0.0.1 - - [22/Oct/2023 18:36:09] \"POST /add_step HTTP/1.1\" 200 166 0.000853\n"
     ]
    },
    {
     "name": "stdout",
     "output_type": "stream",
     "text": [
      "<Response [200]>\n"
     ]
    },
    {
     "name": "stderr",
     "output_type": "stream",
     "text": [
      "(41821) accepted ('127.0.0.1', 55795)\n",
      "173.20.233.125,127.0.0.1 - - [22/Oct/2023 18:36:09] \"POST /add_step HTTP/1.1\" 200 166 0.000868\n"
     ]
    },
    {
     "name": "stdout",
     "output_type": "stream",
     "text": [
      "<Response [200]>\n"
     ]
    },
    {
     "name": "stderr",
     "output_type": "stream",
     "text": [
      "(41821) accepted ('127.0.0.1', 57235)\n",
      "173.20.233.125,127.0.0.1 - - [22/Oct/2023 18:36:10] \"POST /add_step HTTP/1.1\" 200 166 0.000760\n"
     ]
    },
    {
     "name": "stdout",
     "output_type": "stream",
     "text": [
      "<Response [200]>\n"
     ]
    },
    {
     "name": "stderr",
     "output_type": "stream",
     "text": [
      "(41821) accepted ('127.0.0.1', 59069)\n",
      "173.20.233.125,127.0.0.1 - - [22/Oct/2023 18:36:11] \"POST /add_step HTTP/1.1\" 200 166 0.000671\n"
     ]
    },
    {
     "name": "stdout",
     "output_type": "stream",
     "text": [
      "<Response [200]>\n"
     ]
    },
    {
     "name": "stderr",
     "output_type": "stream",
     "text": [
      "(41821) accepted ('127.0.0.1', 60500)\n",
      "173.20.233.125,127.0.0.1 - - [22/Oct/2023 18:36:12] \"POST /add_step HTTP/1.1\" 200 166 0.000957\n"
     ]
    },
    {
     "name": "stdout",
     "output_type": "stream",
     "text": [
      "<Response [200]>\n"
     ]
    },
    {
     "name": "stderr",
     "output_type": "stream",
     "text": [
      "(41821) accepted ('127.0.0.1', 61863)\n",
      "173.20.233.125,127.0.0.1 - - [22/Oct/2023 18:36:13] \"POST /add_step HTTP/1.1\" 200 166 0.000625\n"
     ]
    },
    {
     "name": "stdout",
     "output_type": "stream",
     "text": [
      "<Response [200]>\n"
     ]
    },
    {
     "name": "stderr",
     "output_type": "stream",
     "text": [
      "(41821) accepted ('127.0.0.1', 63149)\n",
      "173.20.233.125,127.0.0.1 - - [22/Oct/2023 18:36:13] \"POST /add_step HTTP/1.1\" 200 166 0.000535\n"
     ]
    },
    {
     "name": "stdout",
     "output_type": "stream",
     "text": [
      "<Response [200]>\n"
     ]
    },
    {
     "name": "stderr",
     "output_type": "stream",
     "text": [
      "(41821) accepted ('127.0.0.1', 64500)\n",
      "173.20.233.125,127.0.0.1 - - [22/Oct/2023 18:36:14] \"POST /add_step HTTP/1.1\" 200 166 0.000640\n"
     ]
    },
    {
     "name": "stdout",
     "output_type": "stream",
     "text": [
      "<Response [200]>\n"
     ]
    },
    {
     "name": "stderr",
     "output_type": "stream",
     "text": [
      "(41821) accepted ('127.0.0.1', 49413)\n",
      "173.20.233.125,127.0.0.1 - - [22/Oct/2023 18:36:15] \"POST /add_step HTTP/1.1\" 200 166 0.000571\n"
     ]
    },
    {
     "name": "stdout",
     "output_type": "stream",
     "text": [
      "<Response [200]>\n"
     ]
    },
    {
     "name": "stderr",
     "output_type": "stream",
     "text": [
      "(41821) accepted ('127.0.0.1', 50857)\n",
      "173.20.233.125,127.0.0.1 - - [22/Oct/2023 18:36:16] \"POST /add_step HTTP/1.1\" 200 166 0.000647\n"
     ]
    },
    {
     "name": "stdout",
     "output_type": "stream",
     "text": [
      "<Response [200]>\n"
     ]
    },
    {
     "name": "stderr",
     "output_type": "stream",
     "text": [
      "(41821) accepted ('127.0.0.1', 52192)\n",
      "173.20.233.125,127.0.0.1 - - [22/Oct/2023 18:36:16] \"POST /add_step HTTP/1.1\" 200 166 0.000766\n"
     ]
    },
    {
     "name": "stdout",
     "output_type": "stream",
     "text": [
      "<Response [200]>\n"
     ]
    },
    {
     "name": "stderr",
     "output_type": "stream",
     "text": [
      "(41821) accepted ('127.0.0.1', 53566)\n",
      "173.20.233.125,127.0.0.1 - - [22/Oct/2023 18:36:17] \"POST /add_step HTTP/1.1\" 200 166 0.000542\n"
     ]
    },
    {
     "name": "stdout",
     "output_type": "stream",
     "text": [
      "<Response [200]>\n"
     ]
    },
    {
     "name": "stderr",
     "output_type": "stream",
     "text": [
      "(41821) accepted ('127.0.0.1', 55155)\n",
      "173.20.233.125,127.0.0.1 - - [22/Oct/2023 18:36:18] \"POST /add_step HTTP/1.1\" 200 166 0.000604\n"
     ]
    },
    {
     "name": "stdout",
     "output_type": "stream",
     "text": [
      "<Response [200]>\n"
     ]
    },
    {
     "name": "stderr",
     "output_type": "stream",
     "text": [
      "(41821) accepted ('127.0.0.1', 56605)\n",
      "173.20.233.125,127.0.0.1 - - [22/Oct/2023 18:36:19] \"POST /add_step HTTP/1.1\" 200 166 0.000894\n"
     ]
    },
    {
     "name": "stdout",
     "output_type": "stream",
     "text": [
      "<Response [200]>\n"
     ]
    },
    {
     "name": "stderr",
     "output_type": "stream",
     "text": [
      "127.0.0.1 - - [22/Oct/2023 18:36:19] \"GET /all HTTP/1.1\" 200 199924 0.016818\n",
      "(41821) accepted ('127.0.0.1', 58225)\n",
      "173.20.233.125,127.0.0.1 - - [22/Oct/2023 18:36:20] \"POST /add_step HTTP/1.1\" 200 166 0.000713\n"
     ]
    },
    {
     "name": "stdout",
     "output_type": "stream",
     "text": [
      "<Response [200]>\n"
     ]
    },
    {
     "name": "stderr",
     "output_type": "stream",
     "text": [
      "(41821) accepted ('127.0.0.1', 59798)\n",
      "173.20.233.125,127.0.0.1 - - [22/Oct/2023 18:36:20] \"POST /add_step HTTP/1.1\" 200 166 0.000655\n"
     ]
    },
    {
     "name": "stdout",
     "output_type": "stream",
     "text": [
      "<Response [200]>\n"
     ]
    },
    {
     "name": "stderr",
     "output_type": "stream",
     "text": [
      "(41821) accepted ('127.0.0.1', 61212)\n",
      "173.20.233.125,127.0.0.1 - - [22/Oct/2023 18:36:21] \"POST /add_step HTTP/1.1\" 200 166 0.000936\n"
     ]
    },
    {
     "name": "stdout",
     "output_type": "stream",
     "text": [
      "<Response [200]>\n"
     ]
    },
    {
     "name": "stderr",
     "output_type": "stream",
     "text": [
      "(41821) accepted ('127.0.0.1', 62621)\n",
      "173.20.233.125,127.0.0.1 - - [22/Oct/2023 18:36:22] \"POST /add_step HTTP/1.1\" 200 166 0.000828\n"
     ]
    },
    {
     "name": "stdout",
     "output_type": "stream",
     "text": [
      "<Response [200]>\n"
     ]
    },
    {
     "name": "stderr",
     "output_type": "stream",
     "text": [
      "(41821) accepted ('127.0.0.1', 63833)\n",
      "173.20.233.125,127.0.0.1 - - [22/Oct/2023 18:36:23] \"POST /add_step HTTP/1.1\" 200 166 0.001019\n"
     ]
    },
    {
     "name": "stdout",
     "output_type": "stream",
     "text": [
      "<Response [200]>\n"
     ]
    },
    {
     "name": "stderr",
     "output_type": "stream",
     "text": [
      "(41821) accepted ('127.0.0.1', 64978)\n",
      "173.20.233.125,127.0.0.1 - - [22/Oct/2023 18:36:23] \"POST /add_step HTTP/1.1\" 200 166 0.000642\n"
     ]
    },
    {
     "name": "stdout",
     "output_type": "stream",
     "text": [
      "<Response [200]>\n"
     ]
    },
    {
     "name": "stderr",
     "output_type": "stream",
     "text": [
      "(41821) accepted ('127.0.0.1', 49718)\n",
      "173.20.233.125,127.0.0.1 - - [22/Oct/2023 18:36:24] \"POST /add_step HTTP/1.1\" 200 166 0.000652\n"
     ]
    },
    {
     "name": "stdout",
     "output_type": "stream",
     "text": [
      "<Response [200]>\n"
     ]
    },
    {
     "name": "stderr",
     "output_type": "stream",
     "text": [
      "(41821) accepted ('127.0.0.1', 50994)\n",
      "173.20.233.125,127.0.0.1 - - [22/Oct/2023 18:36:25] \"POST /add_step HTTP/1.1\" 200 166 0.000872\n"
     ]
    },
    {
     "name": "stdout",
     "output_type": "stream",
     "text": [
      "<Response [200]>\n"
     ]
    },
    {
     "name": "stderr",
     "output_type": "stream",
     "text": [
      "(41821) accepted ('127.0.0.1', 52135)\n",
      "173.20.233.125,127.0.0.1 - - [22/Oct/2023 18:36:25] \"POST /add_step HTTP/1.1\" 200 166 0.000646\n"
     ]
    },
    {
     "name": "stdout",
     "output_type": "stream",
     "text": [
      "<Response [200]>\n"
     ]
    },
    {
     "name": "stderr",
     "output_type": "stream",
     "text": [
      "(41821) accepted ('127.0.0.1', 53281)\n",
      "173.20.233.125,127.0.0.1 - - [22/Oct/2023 18:36:26] \"POST /add_step HTTP/1.1\" 200 166 0.000656\n"
     ]
    },
    {
     "name": "stdout",
     "output_type": "stream",
     "text": [
      "<Response [200]>\n"
     ]
    },
    {
     "name": "stderr",
     "output_type": "stream",
     "text": [
      "(41821) accepted ('127.0.0.1', 54486)\n",
      "173.20.233.125,127.0.0.1 - - [22/Oct/2023 18:36:27] \"POST /add_step HTTP/1.1\" 200 166 0.001412\n"
     ]
    },
    {
     "name": "stdout",
     "output_type": "stream",
     "text": [
      "<Response [200]>\n"
     ]
    },
    {
     "name": "stderr",
     "output_type": "stream",
     "text": [
      "(41821) accepted ('127.0.0.1', 55600)\n",
      "173.20.233.125,127.0.0.1 - - [22/Oct/2023 18:36:27] \"POST /add_step HTTP/1.1\" 200 166 0.000788\n"
     ]
    },
    {
     "name": "stdout",
     "output_type": "stream",
     "text": [
      "<Response [200]>\n"
     ]
    },
    {
     "name": "stderr",
     "output_type": "stream",
     "text": [
      "(41821) accepted ('127.0.0.1', 56708)\n",
      "173.20.233.125,127.0.0.1 - - [22/Oct/2023 18:36:28] \"POST /add_step HTTP/1.1\" 200 166 0.000710\n"
     ]
    },
    {
     "name": "stdout",
     "output_type": "stream",
     "text": [
      "<Response [200]>\n"
     ]
    },
    {
     "name": "stderr",
     "output_type": "stream",
     "text": [
      "(41821) accepted ('127.0.0.1', 57881)\n",
      "173.20.233.125,127.0.0.1 - - [22/Oct/2023 18:36:28] \"POST /add_step HTTP/1.1\" 200 166 0.000572\n"
     ]
    },
    {
     "name": "stdout",
     "output_type": "stream",
     "text": [
      "<Response [200]>\n"
     ]
    },
    {
     "name": "stderr",
     "output_type": "stream",
     "text": [
      "(41821) accepted ('127.0.0.1', 59035)\n",
      "173.20.233.125,127.0.0.1 - - [22/Oct/2023 18:36:29] \"POST /add_step HTTP/1.1\" 200 166 0.000562\n"
     ]
    },
    {
     "name": "stdout",
     "output_type": "stream",
     "text": [
      "<Response [200]>\n"
     ]
    },
    {
     "name": "stderr",
     "output_type": "stream",
     "text": [
      "(41821) accepted ('127.0.0.1', 60159)\n",
      "173.20.233.125,127.0.0.1 - - [22/Oct/2023 18:36:30] \"POST /add_step HTTP/1.1\" 200 166 0.001035\n"
     ]
    },
    {
     "name": "stdout",
     "output_type": "stream",
     "text": [
      "<Response [200]>\n"
     ]
    },
    {
     "name": "stderr",
     "output_type": "stream",
     "text": [
      "(41821) accepted ('127.0.0.1', 61304)\n",
      "173.20.233.125,127.0.0.1 - - [22/Oct/2023 18:36:30] \"POST /add_step HTTP/1.1\" 200 166 0.000635\n"
     ]
    },
    {
     "name": "stdout",
     "output_type": "stream",
     "text": [
      "<Response [200]>\n"
     ]
    },
    {
     "name": "stderr",
     "output_type": "stream",
     "text": [
      "(41821) accepted ('127.0.0.1', 62442)\n",
      "173.20.233.125,127.0.0.1 - - [22/Oct/2023 18:36:31] \"POST /add_step HTTP/1.1\" 200 166 0.000624\n"
     ]
    },
    {
     "name": "stdout",
     "output_type": "stream",
     "text": [
      "<Response [200]>\n"
     ]
    },
    {
     "name": "stderr",
     "output_type": "stream",
     "text": [
      "(41821) accepted ('127.0.0.1', 63581)\n",
      "173.20.233.125,127.0.0.1 - - [22/Oct/2023 18:36:32] \"POST /add_step HTTP/1.1\" 200 166 0.000646\n"
     ]
    },
    {
     "name": "stdout",
     "output_type": "stream",
     "text": [
      "<Response [200]>\n"
     ]
    },
    {
     "name": "stderr",
     "output_type": "stream",
     "text": [
      "(41821) accepted ('127.0.0.1', 64724)\n",
      "173.20.233.125,127.0.0.1 - - [22/Oct/2023 18:36:32] \"POST /add_step HTTP/1.1\" 200 166 0.000762\n"
     ]
    },
    {
     "name": "stdout",
     "output_type": "stream",
     "text": [
      "<Response [200]>\n"
     ]
    },
    {
     "name": "stderr",
     "output_type": "stream",
     "text": [
      "(41821) accepted ('127.0.0.1', 49477)\n",
      "173.20.233.125,127.0.0.1 - - [22/Oct/2023 18:36:33] \"POST /add_step HTTP/1.1\" 200 166 0.000748\n"
     ]
    },
    {
     "name": "stdout",
     "output_type": "stream",
     "text": [
      "<Response [200]>\n"
     ]
    },
    {
     "name": "stderr",
     "output_type": "stream",
     "text": [
      "(41821) accepted ('127.0.0.1', 50652)\n",
      "173.20.233.125,127.0.0.1 - - [22/Oct/2023 18:36:33] \"POST /add_step HTTP/1.1\" 200 166 0.000696\n"
     ]
    },
    {
     "name": "stdout",
     "output_type": "stream",
     "text": [
      "<Response [200]>\n"
     ]
    },
    {
     "name": "stderr",
     "output_type": "stream",
     "text": [
      "(41821) accepted ('127.0.0.1', 51793)\n",
      "173.20.233.125,127.0.0.1 - - [22/Oct/2023 18:36:34] \"POST /add_step HTTP/1.1\" 200 166 0.000831\n"
     ]
    },
    {
     "name": "stdout",
     "output_type": "stream",
     "text": [
      "<Response [200]>\n"
     ]
    },
    {
     "name": "stderr",
     "output_type": "stream",
     "text": [
      "(41821) accepted ('127.0.0.1', 52948)\n",
      "173.20.233.125,127.0.0.1 - - [22/Oct/2023 18:36:35] \"POST /add_step HTTP/1.1\" 200 166 0.000579\n"
     ]
    },
    {
     "name": "stdout",
     "output_type": "stream",
     "text": [
      "<Response [200]>\n"
     ]
    },
    {
     "name": "stderr",
     "output_type": "stream",
     "text": [
      "(41821) accepted ('127.0.0.1', 54109)\n",
      "173.20.233.125,127.0.0.1 - - [22/Oct/2023 18:36:35] \"POST /add_step HTTP/1.1\" 200 166 0.000870\n"
     ]
    },
    {
     "name": "stdout",
     "output_type": "stream",
     "text": [
      "<Response [200]>\n"
     ]
    },
    {
     "name": "stderr",
     "output_type": "stream",
     "text": [
      "(41821) accepted ('127.0.0.1', 55263)\n",
      "173.20.233.125,127.0.0.1 - - [22/Oct/2023 18:36:36] \"POST /add_step HTTP/1.1\" 200 166 0.000651\n"
     ]
    },
    {
     "name": "stdout",
     "output_type": "stream",
     "text": [
      "<Response [200]>\n"
     ]
    },
    {
     "name": "stderr",
     "output_type": "stream",
     "text": [
      "(41821) accepted ('127.0.0.1', 56442)\n",
      "173.20.233.125,127.0.0.1 - - [22/Oct/2023 18:36:37] \"POST /add_step HTTP/1.1\" 200 166 0.000675\n"
     ]
    },
    {
     "name": "stdout",
     "output_type": "stream",
     "text": [
      "<Response [200]>\n"
     ]
    },
    {
     "name": "stderr",
     "output_type": "stream",
     "text": [
      "(41821) accepted ('127.0.0.1', 57610)\n",
      "173.20.233.125,127.0.0.1 - - [22/Oct/2023 18:36:37] \"POST /add_step HTTP/1.1\" 200 166 0.001108\n"
     ]
    },
    {
     "name": "stdout",
     "output_type": "stream",
     "text": [
      "<Response [200]>\n"
     ]
    },
    {
     "name": "stderr",
     "output_type": "stream",
     "text": [
      "(41821) accepted ('127.0.0.1', 59122)\n",
      "173.20.233.125,127.0.0.1 - - [22/Oct/2023 18:36:38] \"POST /add_step HTTP/1.1\" 200 166 0.000739\n"
     ]
    },
    {
     "name": "stdout",
     "output_type": "stream",
     "text": [
      "<Response [200]>\n"
     ]
    },
    {
     "name": "stderr",
     "output_type": "stream",
     "text": [
      "(41821) accepted ('127.0.0.1', 60233)\n",
      "173.20.233.125,127.0.0.1 - - [22/Oct/2023 18:36:39] \"POST /add_step HTTP/1.1\" 200 166 0.000628\n"
     ]
    },
    {
     "name": "stdout",
     "output_type": "stream",
     "text": [
      "<Response [200]>\n"
     ]
    },
    {
     "name": "stderr",
     "output_type": "stream",
     "text": [
      "(41821) accepted ('127.0.0.1', 61399)\n",
      "173.20.233.125,127.0.0.1 - - [22/Oct/2023 18:36:39] \"POST /add_step HTTP/1.1\" 200 166 0.000750\n"
     ]
    },
    {
     "name": "stdout",
     "output_type": "stream",
     "text": [
      "<Response [200]>\n"
     ]
    },
    {
     "name": "stderr",
     "output_type": "stream",
     "text": [
      "(41821) accepted ('127.0.0.1', 62520)\n",
      "173.20.233.125,127.0.0.1 - - [22/Oct/2023 18:36:40] \"POST /add_step HTTP/1.1\" 200 166 0.000826\n"
     ]
    },
    {
     "name": "stdout",
     "output_type": "stream",
     "text": [
      "<Response [200]>\n"
     ]
    },
    {
     "name": "stderr",
     "output_type": "stream",
     "text": [
      "(41821) accepted ('127.0.0.1', 63661)\n",
      "173.20.233.125,127.0.0.1 - - [22/Oct/2023 18:36:40] \"POST /add_step HTTP/1.1\" 200 166 0.000785\n"
     ]
    },
    {
     "name": "stdout",
     "output_type": "stream",
     "text": [
      "<Response [200]>\n"
     ]
    },
    {
     "name": "stderr",
     "output_type": "stream",
     "text": [
      "(41821) accepted ('127.0.0.1', 64827)\n",
      "173.20.233.125,127.0.0.1 - - [22/Oct/2023 18:36:41] \"POST /add_step HTTP/1.1\" 200 166 0.000622\n"
     ]
    },
    {
     "name": "stdout",
     "output_type": "stream",
     "text": [
      "<Response [200]>\n"
     ]
    },
    {
     "name": "stderr",
     "output_type": "stream",
     "text": [
      "(41821) accepted ('127.0.0.1', 49599)\n",
      "173.20.233.125,127.0.0.1 - - [22/Oct/2023 18:36:42] \"POST /add_step HTTP/1.1\" 200 166 0.000671\n"
     ]
    },
    {
     "name": "stdout",
     "output_type": "stream",
     "text": [
      "<Response [200]>\n"
     ]
    },
    {
     "name": "stderr",
     "output_type": "stream",
     "text": [
      "(41821) accepted ('127.0.0.1', 50779)\n",
      "173.20.233.125,127.0.0.1 - - [22/Oct/2023 18:36:42] \"POST /add_step HTTP/1.1\" 200 166 0.000654\n"
     ]
    },
    {
     "name": "stdout",
     "output_type": "stream",
     "text": [
      "<Response [200]>\n"
     ]
    },
    {
     "name": "stderr",
     "output_type": "stream",
     "text": [
      "(41821) accepted ('127.0.0.1', 51906)\n",
      "173.20.233.125,127.0.0.1 - - [22/Oct/2023 18:36:43] \"POST /add_step HTTP/1.1\" 200 166 0.000916\n"
     ]
    },
    {
     "name": "stdout",
     "output_type": "stream",
     "text": [
      "<Response [200]>\n"
     ]
    },
    {
     "name": "stderr",
     "output_type": "stream",
     "text": [
      "(41821) accepted ('127.0.0.1', 53033)\n",
      "173.20.233.125,127.0.0.1 - - [22/Oct/2023 18:36:44] \"POST /add_step HTTP/1.1\" 200 166 0.000859\n"
     ]
    },
    {
     "name": "stdout",
     "output_type": "stream",
     "text": [
      "<Response [200]>\n"
     ]
    },
    {
     "name": "stderr",
     "output_type": "stream",
     "text": [
      "(41821) accepted ('127.0.0.1', 54192)\n",
      "173.20.233.125,127.0.0.1 - - [22/Oct/2023 18:36:44] \"POST /add_step HTTP/1.1\" 200 166 0.005180\n"
     ]
    },
    {
     "name": "stdout",
     "output_type": "stream",
     "text": [
      "<Response [200]>\n"
     ]
    },
    {
     "name": "stderr",
     "output_type": "stream",
     "text": [
      "(41821) accepted ('127.0.0.1', 55342)\n",
      "173.20.233.125,127.0.0.1 - - [22/Oct/2023 18:36:45] \"POST /add_step HTTP/1.1\" 200 166 0.000903\n"
     ]
    },
    {
     "name": "stdout",
     "output_type": "stream",
     "text": [
      "<Response [200]>\n"
     ]
    },
    {
     "name": "stderr",
     "output_type": "stream",
     "text": [
      "(41821) accepted ('127.0.0.1', 56485)\n",
      "173.20.233.125,127.0.0.1 - - [22/Oct/2023 18:36:45] \"POST /add_step HTTP/1.1\" 200 166 0.000807\n"
     ]
    },
    {
     "name": "stdout",
     "output_type": "stream",
     "text": [
      "<Response [200]>\n"
     ]
    },
    {
     "name": "stderr",
     "output_type": "stream",
     "text": [
      "(41821) accepted ('127.0.0.1', 57625)\n",
      "173.20.233.125,127.0.0.1 - - [22/Oct/2023 18:36:46] \"POST /add_step HTTP/1.1\" 200 166 0.000629\n"
     ]
    },
    {
     "name": "stdout",
     "output_type": "stream",
     "text": [
      "<Response [200]>\n"
     ]
    },
    {
     "name": "stderr",
     "output_type": "stream",
     "text": [
      "(41821) accepted ('127.0.0.1', 58749)\n",
      "173.20.233.125,127.0.0.1 - - [22/Oct/2023 18:36:47] \"POST /add_step HTTP/1.1\" 200 166 0.000634\n"
     ]
    },
    {
     "name": "stdout",
     "output_type": "stream",
     "text": [
      "<Response [200]>\n"
     ]
    },
    {
     "name": "stderr",
     "output_type": "stream",
     "text": [
      "(41821) accepted ('127.0.0.1', 59917)\n",
      "173.20.233.125,127.0.0.1 - - [22/Oct/2023 18:36:47] \"POST /add_step HTTP/1.1\" 200 166 0.000925\n"
     ]
    },
    {
     "name": "stdout",
     "output_type": "stream",
     "text": [
      "<Response [200]>\n"
     ]
    },
    {
     "name": "stderr",
     "output_type": "stream",
     "text": [
      "(41821) accepted ('127.0.0.1', 61042)\n",
      "173.20.233.125,127.0.0.1 - - [22/Oct/2023 18:36:48] \"POST /add_step HTTP/1.1\" 200 166 0.000707\n"
     ]
    },
    {
     "name": "stdout",
     "output_type": "stream",
     "text": [
      "<Response [200]>\n"
     ]
    },
    {
     "name": "stderr",
     "output_type": "stream",
     "text": [
      "(41821) accepted ('127.0.0.1', 62156)\n",
      "173.20.233.125,127.0.0.1 - - [22/Oct/2023 18:36:49] \"POST /add_step HTTP/1.1\" 200 166 0.000725\n"
     ]
    },
    {
     "name": "stdout",
     "output_type": "stream",
     "text": [
      "<Response [200]>\n"
     ]
    },
    {
     "name": "stderr",
     "output_type": "stream",
     "text": [
      "(41821) accepted ('127.0.0.1', 63271)\n",
      "173.20.233.125,127.0.0.1 - - [22/Oct/2023 18:36:49] \"POST /add_step HTTP/1.1\" 200 166 0.000658\n"
     ]
    },
    {
     "name": "stdout",
     "output_type": "stream",
     "text": [
      "<Response [200]>\n"
     ]
    },
    {
     "name": "stderr",
     "output_type": "stream",
     "text": [
      "(41821) accepted ('127.0.0.1', 64413)\n",
      "173.20.233.125,127.0.0.1 - - [22/Oct/2023 18:36:50] \"POST /add_step HTTP/1.1\" 200 166 0.000564\n"
     ]
    },
    {
     "name": "stdout",
     "output_type": "stream",
     "text": [
      "<Response [200]>\n"
     ]
    },
    {
     "name": "stderr",
     "output_type": "stream",
     "text": [
      "(41821) accepted ('127.0.0.1', 49259)\n",
      "173.20.233.125,127.0.0.1 - - [22/Oct/2023 18:36:50] \"POST /add_step HTTP/1.1\" 200 166 0.000641\n"
     ]
    },
    {
     "name": "stdout",
     "output_type": "stream",
     "text": [
      "<Response [200]>\n"
     ]
    },
    {
     "name": "stderr",
     "output_type": "stream",
     "text": [
      "(41821) accepted ('127.0.0.1', 50483)\n",
      "173.20.233.125,127.0.0.1 - - [22/Oct/2023 18:36:51] \"POST /add_step HTTP/1.1\" 200 166 0.000964\n"
     ]
    },
    {
     "name": "stdout",
     "output_type": "stream",
     "text": [
      "<Response [200]>\n"
     ]
    },
    {
     "name": "stderr",
     "output_type": "stream",
     "text": [
      "(41821) accepted ('127.0.0.1', 51633)\n",
      "173.20.233.125,127.0.0.1 - - [22/Oct/2023 18:36:52] \"POST /add_step HTTP/1.1\" 200 166 0.000642\n"
     ]
    },
    {
     "name": "stdout",
     "output_type": "stream",
     "text": [
      "<Response [200]>\n"
     ]
    },
    {
     "name": "stderr",
     "output_type": "stream",
     "text": [
      "(41821) accepted ('127.0.0.1', 52811)\n",
      "173.20.233.125,127.0.0.1 - - [22/Oct/2023 18:36:52] \"POST /add_step HTTP/1.1\" 200 166 0.000668\n"
     ]
    },
    {
     "name": "stdout",
     "output_type": "stream",
     "text": [
      "<Response [200]>\n"
     ]
    },
    {
     "name": "stderr",
     "output_type": "stream",
     "text": [
      "(41821) accepted ('127.0.0.1', 53999)\n",
      "173.20.233.125,127.0.0.1 - - [22/Oct/2023 18:36:53] \"POST /add_step HTTP/1.1\" 200 166 0.004049\n"
     ]
    },
    {
     "name": "stdout",
     "output_type": "stream",
     "text": [
      "<Response [200]>\n"
     ]
    },
    {
     "name": "stderr",
     "output_type": "stream",
     "text": [
      "(41821) accepted ('127.0.0.1', 55178)\n",
      "173.20.233.125,127.0.0.1 - - [22/Oct/2023 18:36:54] \"POST /add_step HTTP/1.1\" 200 166 0.000655\n"
     ]
    },
    {
     "name": "stdout",
     "output_type": "stream",
     "text": [
      "<Response [200]>\n"
     ]
    },
    {
     "name": "stderr",
     "output_type": "stream",
     "text": [
      "(41821) accepted ('127.0.0.1', 56356)\n",
      "173.20.233.125,127.0.0.1 - - [22/Oct/2023 18:36:54] \"POST /add_step HTTP/1.1\" 200 166 0.000932\n"
     ]
    },
    {
     "name": "stdout",
     "output_type": "stream",
     "text": [
      "<Response [200]>\n"
     ]
    },
    {
     "name": "stderr",
     "output_type": "stream",
     "text": [
      "(41821) accepted ('127.0.0.1', 57563)\n",
      "173.20.233.125,127.0.0.1 - - [22/Oct/2023 18:36:55] \"POST /add_step HTTP/1.1\" 200 166 0.000913\n"
     ]
    },
    {
     "name": "stdout",
     "output_type": "stream",
     "text": [
      "<Response [200]>\n"
     ]
    },
    {
     "name": "stderr",
     "output_type": "stream",
     "text": [
      "(41821) accepted ('127.0.0.1', 58736)\n",
      "173.20.233.125,127.0.0.1 - - [22/Oct/2023 18:36:56] \"POST /add_step HTTP/1.1\" 200 166 0.000638\n"
     ]
    },
    {
     "name": "stdout",
     "output_type": "stream",
     "text": [
      "<Response [200]>\n"
     ]
    },
    {
     "name": "stderr",
     "output_type": "stream",
     "text": [
      "(41821) accepted ('127.0.0.1', 59883)\n",
      "173.20.233.125,127.0.0.1 - - [22/Oct/2023 18:36:56] \"POST /add_step HTTP/1.1\" 200 166 0.000913\n"
     ]
    },
    {
     "name": "stdout",
     "output_type": "stream",
     "text": [
      "<Response [200]>\n"
     ]
    },
    {
     "name": "stderr",
     "output_type": "stream",
     "text": [
      "(41821) accepted ('127.0.0.1', 61016)\n",
      "173.20.233.125,127.0.0.1 - - [22/Oct/2023 18:36:57] \"POST /add_step HTTP/1.1\" 200 166 0.000567\n"
     ]
    },
    {
     "name": "stdout",
     "output_type": "stream",
     "text": [
      "<Response [200]>\n"
     ]
    },
    {
     "name": "stderr",
     "output_type": "stream",
     "text": [
      "(41821) accepted ('127.0.0.1', 62196)\n",
      "173.20.233.125,127.0.0.1 - - [22/Oct/2023 18:36:57] \"POST /add_step HTTP/1.1\" 200 166 0.000651\n"
     ]
    },
    {
     "name": "stdout",
     "output_type": "stream",
     "text": [
      "<Response [200]>\n"
     ]
    },
    {
     "name": "stderr",
     "output_type": "stream",
     "text": [
      "(41821) accepted ('127.0.0.1', 63357)\n",
      "173.20.233.125,127.0.0.1 - - [22/Oct/2023 18:36:58] \"POST /add_step HTTP/1.1\" 200 166 0.000848\n"
     ]
    },
    {
     "name": "stdout",
     "output_type": "stream",
     "text": [
      "<Response [200]>\n"
     ]
    },
    {
     "name": "stderr",
     "output_type": "stream",
     "text": [
      "(41821) accepted ('127.0.0.1', 64497)\n",
      "173.20.233.125,127.0.0.1 - - [22/Oct/2023 18:36:59] \"POST /add_step HTTP/1.1\" 200 166 0.000557\n"
     ]
    },
    {
     "name": "stdout",
     "output_type": "stream",
     "text": [
      "<Response [200]>\n"
     ]
    },
    {
     "name": "stderr",
     "output_type": "stream",
     "text": [
      "(41821) accepted ('127.0.0.1', 49272)\n",
      "173.20.233.125,127.0.0.1 - - [22/Oct/2023 18:36:59] \"POST /add_step HTTP/1.1\" 200 166 0.000673\n"
     ]
    },
    {
     "name": "stdout",
     "output_type": "stream",
     "text": [
      "<Response [200]>\n"
     ]
    },
    {
     "name": "stderr",
     "output_type": "stream",
     "text": [
      "(41821) accepted ('127.0.0.1', 50519)\n",
      "173.20.233.125,127.0.0.1 - - [22/Oct/2023 18:37:00] \"POST /add_step HTTP/1.1\" 200 166 0.000654\n"
     ]
    },
    {
     "name": "stdout",
     "output_type": "stream",
     "text": [
      "<Response [200]>\n"
     ]
    },
    {
     "name": "stderr",
     "output_type": "stream",
     "text": [
      "(41821) accepted ('127.0.0.1', 51679)\n",
      "173.20.233.125,127.0.0.1 - - [22/Oct/2023 18:37:01] \"POST /add_step HTTP/1.1\" 200 166 0.000893\n"
     ]
    },
    {
     "name": "stdout",
     "output_type": "stream",
     "text": [
      "<Response [200]>\n"
     ]
    },
    {
     "name": "stderr",
     "output_type": "stream",
     "text": [
      "(41821) accepted ('127.0.0.1', 52962)\n",
      "173.20.233.125,127.0.0.1 - - [22/Oct/2023 18:37:01] \"POST /add_step HTTP/1.1\" 200 166 0.000618\n"
     ]
    },
    {
     "name": "stdout",
     "output_type": "stream",
     "text": [
      "<Response [200]>\n"
     ]
    },
    {
     "name": "stderr",
     "output_type": "stream",
     "text": [
      "127.0.0.1 - - [22/Oct/2023 18:37:02] \"GET /socket.io/?EIO=4&transport=websocket&sid=LZDYhr2w64wy_m_lAAAM HTTP/1.1\" 200 0 63.735578\n",
      "127.0.0.1 - - [22/Oct/2023 18:37:02] \"GET /socket.io/?EIO=4&transport=websocket&sid=u2-dU3-roCHN4USaAAAN HTTP/1.1\" 200 0 63.725389\n",
      "(41821) accepted ('127.0.0.1', 54415)\n",
      "173.20.233.125,127.0.0.1 - - [22/Oct/2023 18:37:02] \"POST /add_step HTTP/1.1\" 200 166 0.000411\n"
     ]
    },
    {
     "name": "stdout",
     "output_type": "stream",
     "text": [
      "<Response [200]>\n"
     ]
    },
    {
     "name": "stderr",
     "output_type": "stream",
     "text": [
      "127.0.0.1 - - [22/Oct/2023 18:37:02] \"GET /socket.io/?EIO=4&transport=polling&t=OjPlyVt HTTP/1.1\" 200 330 0.000214\n",
      "127.0.0.1 - - [22/Oct/2023 18:37:02] \"GET /socket.io/?EIO=4&transport=polling&t=OjPlyVu HTTP/1.1\" 200 330 0.000295\n",
      "127.0.0.1 - - [22/Oct/2023 18:37:02] \"POST /socket.io/?EIO=4&transport=polling&t=OjPlyW1&sid=vQascI5chmaRJ1BOAAAQ HTTP/1.1\" 200 219 0.000542\n",
      "(41821) accepted ('127.0.0.1', 54615)\n",
      "127.0.0.1 - - [22/Oct/2023 18:37:02] \"GET /socket.io/?EIO=4&transport=polling&t=OjPlyW2&sid=vQascI5chmaRJ1BOAAAQ HTTP/1.1\" 200 265 0.000404\n",
      "127.0.0.1 - - [22/Oct/2023 18:37:02] \"POST /socket.io/?EIO=4&transport=polling&t=OjPlyW5&sid=WAR30OH9NzChryK_AAAR HTTP/1.1\" 200 219 0.000357\n",
      "127.0.0.1 - - [22/Oct/2023 18:37:02] \"GET /socket.io/?EIO=4&transport=polling&t=OjPlyW6&sid=WAR30OH9NzChryK_AAAR HTTP/1.1\" 200 265 0.000195\n",
      "127.0.0.1 - - [22/Oct/2023 18:37:02] \"GET /socket.io/?EIO=4&transport=polling&t=OjPlyWC&sid=vQascI5chmaRJ1BOAAAQ HTTP/1.1\" 200 233 0.000261\n",
      "(41821) accepted ('127.0.0.1', 54647)\n",
      "127.0.0.1 - - [22/Oct/2023 18:37:02] \"GET /socket.io/?EIO=4&transport=polling&t=OjPlyWM&sid=WAR30OH9NzChryK_AAAR HTTP/1.1\" 200 233 0.024660\n",
      "127.0.0.1 - - [22/Oct/2023 18:37:02] \"GET /all HTTP/1.1\" 200 222589 0.023527\n",
      "(41821) accepted ('127.0.0.1', 56029)\n",
      "173.20.233.125,127.0.0.1 - - [22/Oct/2023 18:37:03] \"POST /add_step HTTP/1.1\" 200 166 0.000469\n"
     ]
    },
    {
     "name": "stdout",
     "output_type": "stream",
     "text": [
      "<Response [200]>\n"
     ]
    },
    {
     "name": "stderr",
     "output_type": "stream",
     "text": [
      "(41821) accepted ('127.0.0.1', 57181)\n",
      "173.20.233.125,127.0.0.1 - - [22/Oct/2023 18:37:04] \"POST /add_step HTTP/1.1\" 200 166 0.000802\n"
     ]
    },
    {
     "name": "stdout",
     "output_type": "stream",
     "text": [
      "<Response [200]>\n"
     ]
    },
    {
     "name": "stderr",
     "output_type": "stream",
     "text": [
      "(41821) accepted ('127.0.0.1', 58310)\n",
      "173.20.233.125,127.0.0.1 - - [22/Oct/2023 18:37:04] \"POST /add_step HTTP/1.1\" 200 166 0.000643\n"
     ]
    },
    {
     "name": "stdout",
     "output_type": "stream",
     "text": [
      "<Response [200]>\n"
     ]
    },
    {
     "name": "stderr",
     "output_type": "stream",
     "text": [
      "(41821) accepted ('127.0.0.1', 59471)\n",
      "173.20.233.125,127.0.0.1 - - [22/Oct/2023 18:37:05] \"POST /add_step HTTP/1.1\" 200 166 0.000639\n"
     ]
    },
    {
     "name": "stdout",
     "output_type": "stream",
     "text": [
      "<Response [200]>\n"
     ]
    },
    {
     "name": "stderr",
     "output_type": "stream",
     "text": [
      "(41821) accepted ('127.0.0.1', 60599)\n",
      "173.20.233.125,127.0.0.1 - - [22/Oct/2023 18:37:05] \"POST /add_step HTTP/1.1\" 200 166 0.000592\n"
     ]
    },
    {
     "name": "stdout",
     "output_type": "stream",
     "text": [
      "<Response [200]>\n"
     ]
    },
    {
     "name": "stderr",
     "output_type": "stream",
     "text": [
      "(41821) accepted ('127.0.0.1', 61746)\n",
      "173.20.233.125,127.0.0.1 - - [22/Oct/2023 18:37:06] \"POST /add_step HTTP/1.1\" 200 166 0.000684\n"
     ]
    },
    {
     "name": "stdout",
     "output_type": "stream",
     "text": [
      "<Response [200]>\n"
     ]
    },
    {
     "name": "stderr",
     "output_type": "stream",
     "text": [
      "(41821) accepted ('127.0.0.1', 63211)\n",
      "173.20.233.125,127.0.0.1 - - [22/Oct/2023 18:37:07] \"POST /add_step HTTP/1.1\" 200 166 0.000795\n"
     ]
    },
    {
     "name": "stdout",
     "output_type": "stream",
     "text": [
      "<Response [200]>\n"
     ]
    },
    {
     "name": "stderr",
     "output_type": "stream",
     "text": [
      "(41821) accepted ('127.0.0.1', 64332)\n",
      "173.20.233.125,127.0.0.1 - - [22/Oct/2023 18:37:08] \"POST /add_step HTTP/1.1\" 200 166 0.000659\n"
     ]
    },
    {
     "name": "stdout",
     "output_type": "stream",
     "text": [
      "<Response [200]>\n"
     ]
    },
    {
     "name": "stderr",
     "output_type": "stream",
     "text": [
      "(41821) accepted ('127.0.0.1', 65474)\n",
      "173.20.233.125,127.0.0.1 - - [22/Oct/2023 18:37:08] \"POST /add_step HTTP/1.1\" 200 166 0.000673\n"
     ]
    },
    {
     "name": "stdout",
     "output_type": "stream",
     "text": [
      "<Response [200]>\n"
     ]
    },
    {
     "name": "stderr",
     "output_type": "stream",
     "text": [
      "(41821) accepted ('127.0.0.1', 50205)\n",
      "173.20.233.125,127.0.0.1 - - [22/Oct/2023 18:37:09] \"POST /add_step HTTP/1.1\" 200 166 0.000890\n"
     ]
    },
    {
     "name": "stdout",
     "output_type": "stream",
     "text": [
      "<Response [200]>\n"
     ]
    },
    {
     "name": "stderr",
     "output_type": "stream",
     "text": [
      "(41821) accepted ('127.0.0.1', 51365)\n",
      "173.20.233.125,127.0.0.1 - - [22/Oct/2023 18:37:09] \"POST /add_step HTTP/1.1\" 200 166 0.000626\n"
     ]
    },
    {
     "name": "stdout",
     "output_type": "stream",
     "text": [
      "<Response [200]>\n"
     ]
    },
    {
     "name": "stderr",
     "output_type": "stream",
     "text": [
      "(41821) accepted ('127.0.0.1', 52503)\n",
      "173.20.233.125,127.0.0.1 - - [22/Oct/2023 18:37:10] \"POST /add_step HTTP/1.1\" 200 166 0.000910\n"
     ]
    },
    {
     "name": "stdout",
     "output_type": "stream",
     "text": [
      "<Response [200]>\n"
     ]
    },
    {
     "name": "stderr",
     "output_type": "stream",
     "text": [
      "(41821) accepted ('127.0.0.1', 53665)\n",
      "173.20.233.125,127.0.0.1 - - [22/Oct/2023 18:37:11] \"POST /add_step HTTP/1.1\" 200 166 0.000649\n"
     ]
    },
    {
     "name": "stdout",
     "output_type": "stream",
     "text": [
      "<Response [200]>\n"
     ]
    },
    {
     "name": "stderr",
     "output_type": "stream",
     "text": [
      "(41821) accepted ('127.0.0.1', 54950)\n",
      "173.20.233.125,127.0.0.1 - - [22/Oct/2023 18:37:11] \"POST /add_step HTTP/1.1\" 200 166 0.000633\n"
     ]
    },
    {
     "name": "stdout",
     "output_type": "stream",
     "text": [
      "<Response [200]>\n"
     ]
    },
    {
     "name": "stderr",
     "output_type": "stream",
     "text": [
      "(41821) accepted ('127.0.0.1', 56113)\n",
      "173.20.233.125,127.0.0.1 - - [22/Oct/2023 18:37:12] \"POST /add_step HTTP/1.1\" 200 166 0.000665\n"
     ]
    },
    {
     "name": "stdout",
     "output_type": "stream",
     "text": [
      "<Response [200]>\n"
     ]
    },
    {
     "name": "stderr",
     "output_type": "stream",
     "text": [
      "(41821) accepted ('127.0.0.1', 57312)\n",
      "173.20.233.125,127.0.0.1 - - [22/Oct/2023 18:37:13] \"POST /add_step HTTP/1.1\" 200 166 0.001061\n"
     ]
    },
    {
     "name": "stdout",
     "output_type": "stream",
     "text": [
      "<Response [200]>\n"
     ]
    },
    {
     "name": "stderr",
     "output_type": "stream",
     "text": [
      "(41821) accepted ('127.0.0.1', 58447)\n",
      "173.20.233.125,127.0.0.1 - - [22/Oct/2023 18:37:13] \"POST /add_step HTTP/1.1\" 200 166 0.000638\n"
     ]
    },
    {
     "name": "stdout",
     "output_type": "stream",
     "text": [
      "<Response [200]>\n"
     ]
    },
    {
     "name": "stderr",
     "output_type": "stream",
     "text": [
      "(41821) accepted ('127.0.0.1', 59661)\n",
      "173.20.233.125,127.0.0.1 - - [22/Oct/2023 18:37:14] \"POST /add_step HTTP/1.1\" 200 166 0.004499\n"
     ]
    },
    {
     "name": "stdout",
     "output_type": "stream",
     "text": [
      "<Response [200]>\n"
     ]
    },
    {
     "name": "stderr",
     "output_type": "stream",
     "text": [
      "(41821) accepted ('127.0.0.1', 60884)\n",
      "173.20.233.125,127.0.0.1 - - [22/Oct/2023 18:37:15] \"POST /add_step HTTP/1.1\" 200 166 0.000678\n"
     ]
    },
    {
     "name": "stdout",
     "output_type": "stream",
     "text": [
      "<Response [200]>\n"
     ]
    },
    {
     "name": "stderr",
     "output_type": "stream",
     "text": [
      "(41821) accepted ('127.0.0.1', 62085)\n",
      "173.20.233.125,127.0.0.1 - - [22/Oct/2023 18:37:15] \"POST /add_step HTTP/1.1\" 200 166 0.000671\n"
     ]
    },
    {
     "name": "stdout",
     "output_type": "stream",
     "text": [
      "<Response [200]>\n"
     ]
    },
    {
     "name": "stderr",
     "output_type": "stream",
     "text": [
      "(41821) accepted ('127.0.0.1', 63276)\n",
      "173.20.233.125,127.0.0.1 - - [22/Oct/2023 18:37:16] \"POST /add_step HTTP/1.1\" 200 166 0.000659\n"
     ]
    },
    {
     "name": "stdout",
     "output_type": "stream",
     "text": [
      "<Response [200]>\n"
     ]
    },
    {
     "name": "stderr",
     "output_type": "stream",
     "text": [
      "(41821) accepted ('127.0.0.1', 64477)\n",
      "173.20.233.125,127.0.0.1 - - [22/Oct/2023 18:37:17] \"POST /add_step HTTP/1.1\" 200 166 0.000731\n"
     ]
    },
    {
     "name": "stdout",
     "output_type": "stream",
     "text": [
      "<Response [200]>\n"
     ]
    },
    {
     "name": "stderr",
     "output_type": "stream",
     "text": [
      "(41821) accepted ('127.0.0.1', 49294)\n",
      "173.20.233.125,127.0.0.1 - - [22/Oct/2023 18:37:17] \"POST /add_step HTTP/1.1\" 200 166 0.000925\n"
     ]
    },
    {
     "name": "stdout",
     "output_type": "stream",
     "text": [
      "<Response [200]>\n"
     ]
    },
    {
     "name": "stderr",
     "output_type": "stream",
     "text": [
      "(41821) accepted ('127.0.0.1', 50573)\n",
      "173.20.233.125,127.0.0.1 - - [22/Oct/2023 18:37:18] \"POST /add_step HTTP/1.1\" 200 166 0.000655\n"
     ]
    },
    {
     "name": "stdout",
     "output_type": "stream",
     "text": [
      "<Response [200]>\n"
     ]
    },
    {
     "name": "stderr",
     "output_type": "stream",
     "text": [
      "(41821) accepted ('127.0.0.1', 51765)\n",
      "173.20.233.125,127.0.0.1 - - [22/Oct/2023 18:37:19] \"POST /add_step HTTP/1.1\" 200 166 0.001937\n"
     ]
    },
    {
     "name": "stdout",
     "output_type": "stream",
     "text": [
      "<Response [200]>\n"
     ]
    },
    {
     "name": "stderr",
     "output_type": "stream",
     "text": [
      "(41821) accepted ('127.0.0.1', 52932)\n",
      "173.20.233.125,127.0.0.1 - - [22/Oct/2023 18:37:19] \"POST /add_step HTTP/1.1\" 200 166 0.000635\n"
     ]
    },
    {
     "name": "stdout",
     "output_type": "stream",
     "text": [
      "<Response [200]>\n"
     ]
    },
    {
     "name": "stderr",
     "output_type": "stream",
     "text": [
      "(41821) accepted ('127.0.0.1', 54310)\n",
      "173.20.233.125,127.0.0.1 - - [22/Oct/2023 18:37:20] \"POST /add_step HTTP/1.1\" 200 166 0.001047\n"
     ]
    },
    {
     "name": "stdout",
     "output_type": "stream",
     "text": [
      "<Response [200]>\n"
     ]
    },
    {
     "name": "stderr",
     "output_type": "stream",
     "text": [
      "(41821) accepted ('127.0.0.1', 55531)\n",
      "173.20.233.125,127.0.0.1 - - [22/Oct/2023 18:37:21] \"POST /add_step HTTP/1.1\" 200 166 0.000819\n"
     ]
    },
    {
     "name": "stdout",
     "output_type": "stream",
     "text": [
      "<Response [200]>\n"
     ]
    },
    {
     "name": "stderr",
     "output_type": "stream",
     "text": [
      "(41821) accepted ('127.0.0.1', 56763)\n",
      "173.20.233.125,127.0.0.1 - - [22/Oct/2023 18:37:21] \"POST /add_step HTTP/1.1\" 200 166 0.000904\n"
     ]
    },
    {
     "name": "stdout",
     "output_type": "stream",
     "text": [
      "<Response [200]>\n"
     ]
    },
    {
     "name": "stderr",
     "output_type": "stream",
     "text": [
      "(41821) accepted ('127.0.0.1', 57994)\n",
      "173.20.233.125,127.0.0.1 - - [22/Oct/2023 18:37:22] \"POST /add_step HTTP/1.1\" 200 166 0.000663\n"
     ]
    },
    {
     "name": "stdout",
     "output_type": "stream",
     "text": [
      "<Response [200]>\n"
     ]
    },
    {
     "name": "stderr",
     "output_type": "stream",
     "text": [
      "(41821) accepted ('127.0.0.1', 59204)\n",
      "173.20.233.125,127.0.0.1 - - [22/Oct/2023 18:37:23] \"POST /add_step HTTP/1.1\" 200 166 0.000665\n"
     ]
    },
    {
     "name": "stdout",
     "output_type": "stream",
     "text": [
      "<Response [200]>\n"
     ]
    },
    {
     "name": "stderr",
     "output_type": "stream",
     "text": [
      "(41821) accepted ('127.0.0.1', 60428)\n",
      "173.20.233.125,127.0.0.1 - - [22/Oct/2023 18:37:23] \"POST /add_step HTTP/1.1\" 200 166 0.000546\n"
     ]
    },
    {
     "name": "stdout",
     "output_type": "stream",
     "text": [
      "<Response [200]>\n"
     ]
    },
    {
     "name": "stderr",
     "output_type": "stream",
     "text": [
      "(41821) accepted ('127.0.0.1', 61743)\n",
      "173.20.233.125,127.0.0.1 - - [22/Oct/2023 18:37:24] \"POST /add_step HTTP/1.1\" 200 166 0.000640\n"
     ]
    },
    {
     "name": "stdout",
     "output_type": "stream",
     "text": [
      "<Response [200]>\n"
     ]
    },
    {
     "name": "stderr",
     "output_type": "stream",
     "text": [
      "(41821) accepted ('127.0.0.1', 62997)\n",
      "173.20.233.125,127.0.0.1 - - [22/Oct/2023 18:37:25] \"POST /add_step HTTP/1.1\" 200 166 0.000750\n"
     ]
    },
    {
     "name": "stdout",
     "output_type": "stream",
     "text": [
      "<Response [200]>\n"
     ]
    },
    {
     "name": "stderr",
     "output_type": "stream",
     "text": [
      "(41821) accepted ('127.0.0.1', 64224)\n",
      "173.20.233.125,127.0.0.1 - - [22/Oct/2023 18:37:25] \"POST /add_step HTTP/1.1\" 200 166 0.000661\n"
     ]
    },
    {
     "name": "stdout",
     "output_type": "stream",
     "text": [
      "<Response [200]>\n"
     ]
    },
    {
     "name": "stderr",
     "output_type": "stream",
     "text": [
      "(41821) accepted ('127.0.0.1', 65459)\n",
      "173.20.233.125,127.0.0.1 - - [22/Oct/2023 18:37:26] \"POST /add_step HTTP/1.1\" 200 166 0.000671\n"
     ]
    },
    {
     "name": "stdout",
     "output_type": "stream",
     "text": [
      "<Response [200]>\n"
     ]
    },
    {
     "name": "stderr",
     "output_type": "stream",
     "text": [
      "(41821) accepted ('127.0.0.1', 50337)\n",
      "173.20.233.125,127.0.0.1 - - [22/Oct/2023 18:37:27] \"POST /add_step HTTP/1.1\" 200 166 0.000801\n"
     ]
    },
    {
     "name": "stdout",
     "output_type": "stream",
     "text": [
      "<Response [200]>\n"
     ]
    },
    {
     "name": "stderr",
     "output_type": "stream",
     "text": [
      "(41821) accepted ('127.0.0.1', 51590)\n",
      "173.20.233.125,127.0.0.1 - - [22/Oct/2023 18:37:27] \"POST /add_step HTTP/1.1\" 200 166 0.000819\n"
     ]
    },
    {
     "name": "stdout",
     "output_type": "stream",
     "text": [
      "<Response [200]>\n"
     ]
    },
    {
     "name": "stderr",
     "output_type": "stream",
     "text": [
      "(41821) accepted ('127.0.0.1', 52784)\n",
      "173.20.233.125,127.0.0.1 - - [22/Oct/2023 18:37:28] \"POST /add_step HTTP/1.1\" 200 166 0.000843\n"
     ]
    },
    {
     "name": "stdout",
     "output_type": "stream",
     "text": [
      "<Response [200]>\n"
     ]
    },
    {
     "name": "stderr",
     "output_type": "stream",
     "text": [
      "(41821) accepted ('127.0.0.1', 54088)\n",
      "173.20.233.125,127.0.0.1 - - [22/Oct/2023 18:37:29] \"POST /add_step HTTP/1.1\" 200 166 0.000670\n"
     ]
    },
    {
     "name": "stdout",
     "output_type": "stream",
     "text": [
      "<Response [200]>\n"
     ]
    },
    {
     "name": "stderr",
     "output_type": "stream",
     "text": [
      "(41821) accepted ('127.0.0.1', 55328)\n",
      "173.20.233.125,127.0.0.1 - - [22/Oct/2023 18:37:29] \"POST /add_step HTTP/1.1\" 200 166 0.000688\n"
     ]
    },
    {
     "name": "stdout",
     "output_type": "stream",
     "text": [
      "<Response [200]>\n"
     ]
    },
    {
     "name": "stderr",
     "output_type": "stream",
     "text": [
      "(41821) accepted ('127.0.0.1', 56565)\n",
      "173.20.233.125,127.0.0.1 - - [22/Oct/2023 18:37:30] \"POST /add_step HTTP/1.1\" 200 166 0.009078\n"
     ]
    },
    {
     "name": "stdout",
     "output_type": "stream",
     "text": [
      "<Response [200]>\n"
     ]
    },
    {
     "name": "stderr",
     "output_type": "stream",
     "text": [
      "(41821) accepted ('127.0.0.1', 57799)\n",
      "173.20.233.125,127.0.0.1 - - [22/Oct/2023 18:37:31] \"POST /add_step HTTP/1.1\" 200 166 0.000570\n"
     ]
    },
    {
     "name": "stdout",
     "output_type": "stream",
     "text": [
      "<Response [200]>\n"
     ]
    },
    {
     "name": "stderr",
     "output_type": "stream",
     "text": [
      "(41821) accepted ('127.0.0.1', 59039)\n",
      "173.20.233.125,127.0.0.1 - - [22/Oct/2023 18:37:31] \"POST /add_step HTTP/1.1\" 200 166 0.001025\n"
     ]
    },
    {
     "name": "stdout",
     "output_type": "stream",
     "text": [
      "<Response [200]>\n"
     ]
    },
    {
     "name": "stderr",
     "output_type": "stream",
     "text": [
      "(41821) accepted ('127.0.0.1', 60349)\n",
      "173.20.233.125,127.0.0.1 - - [22/Oct/2023 18:37:32] \"POST /add_step HTTP/1.1\" 200 166 0.000644\n"
     ]
    },
    {
     "name": "stdout",
     "output_type": "stream",
     "text": [
      "<Response [200]>\n"
     ]
    },
    {
     "name": "stderr",
     "output_type": "stream",
     "text": [
      "(41821) accepted ('127.0.0.1', 61561)\n",
      "173.20.233.125,127.0.0.1 - - [22/Oct/2023 18:37:33] \"POST /add_step HTTP/1.1\" 200 166 0.000646\n"
     ]
    },
    {
     "name": "stdout",
     "output_type": "stream",
     "text": [
      "<Response [200]>\n"
     ]
    },
    {
     "name": "stderr",
     "output_type": "stream",
     "text": [
      "(41821) accepted ('127.0.0.1', 62780)\n",
      "173.20.233.125,127.0.0.1 - - [22/Oct/2023 18:37:33] \"POST /add_step HTTP/1.1\" 200 166 0.000658\n"
     ]
    },
    {
     "name": "stdout",
     "output_type": "stream",
     "text": [
      "<Response [200]>\n"
     ]
    },
    {
     "name": "stderr",
     "output_type": "stream",
     "text": [
      "(41821) accepted ('127.0.0.1', 63997)\n",
      "173.20.233.125,127.0.0.1 - - [22/Oct/2023 18:37:34] \"POST /add_step HTTP/1.1\" 200 166 0.000697\n"
     ]
    },
    {
     "name": "stdout",
     "output_type": "stream",
     "text": [
      "<Response [200]>\n"
     ]
    },
    {
     "name": "stderr",
     "output_type": "stream",
     "text": [
      "(41821) accepted ('127.0.0.1', 49247)\n",
      "173.20.233.125,127.0.0.1 - - [22/Oct/2023 18:37:35] \"POST /add_step HTTP/1.1\" 200 166 0.000642\n"
     ]
    },
    {
     "name": "stdout",
     "output_type": "stream",
     "text": [
      "<Response [200]>\n"
     ]
    },
    {
     "name": "stderr",
     "output_type": "stream",
     "text": [
      "(41821) accepted ('127.0.0.1', 50493)\n",
      "173.20.233.125,127.0.0.1 - - [22/Oct/2023 18:37:36] \"POST /add_step HTTP/1.1\" 200 166 0.000662\n"
     ]
    },
    {
     "name": "stdout",
     "output_type": "stream",
     "text": [
      "<Response [200]>\n"
     ]
    },
    {
     "name": "stderr",
     "output_type": "stream",
     "text": [
      "(41821) accepted ('127.0.0.1', 51725)\n",
      "173.20.233.125,127.0.0.1 - - [22/Oct/2023 18:37:36] \"POST /add_step HTTP/1.1\" 200 166 0.000650\n"
     ]
    },
    {
     "name": "stdout",
     "output_type": "stream",
     "text": [
      "<Response [200]>\n"
     ]
    },
    {
     "name": "stderr",
     "output_type": "stream",
     "text": [
      "(41821) accepted ('127.0.0.1', 52960)\n",
      "173.20.233.125,127.0.0.1 - - [22/Oct/2023 18:37:37] \"POST /add_step HTTP/1.1\" 200 166 0.000921\n"
     ]
    },
    {
     "name": "stdout",
     "output_type": "stream",
     "text": [
      "<Response [200]>\n"
     ]
    },
    {
     "name": "stderr",
     "output_type": "stream",
     "text": [
      "(41821) accepted ('127.0.0.1', 54184)\n",
      "173.20.233.125,127.0.0.1 - - [22/Oct/2023 18:37:38] \"POST /add_step HTTP/1.1\" 200 166 0.000965\n"
     ]
    },
    {
     "name": "stdout",
     "output_type": "stream",
     "text": [
      "<Response [200]>\n"
     ]
    },
    {
     "name": "stderr",
     "output_type": "stream",
     "text": [
      "(41821) accepted ('127.0.0.1', 55395)\n",
      "173.20.233.125,127.0.0.1 - - [22/Oct/2023 18:37:38] \"POST /add_step HTTP/1.1\" 200 166 0.000700\n"
     ]
    },
    {
     "name": "stdout",
     "output_type": "stream",
     "text": [
      "<Response [200]>\n"
     ]
    },
    {
     "name": "stderr",
     "output_type": "stream",
     "text": [
      "(41821) accepted ('127.0.0.1', 56743)\n",
      "173.20.233.125,127.0.0.1 - - [22/Oct/2023 18:37:39] \"POST /add_step HTTP/1.1\" 200 166 0.000658\n"
     ]
    },
    {
     "name": "stdout",
     "output_type": "stream",
     "text": [
      "<Response [200]>\n"
     ]
    },
    {
     "name": "stderr",
     "output_type": "stream",
     "text": [
      "(41821) accepted ('127.0.0.1', 58036)\n",
      "173.20.233.125,127.0.0.1 - - [22/Oct/2023 18:37:40] \"POST /add_step HTTP/1.1\" 200 166 0.000687\n"
     ]
    },
    {
     "name": "stdout",
     "output_type": "stream",
     "text": [
      "<Response [200]>\n"
     ]
    },
    {
     "name": "stderr",
     "output_type": "stream",
     "text": [
      "(41821) accepted ('127.0.0.1', 59288)\n",
      "173.20.233.125,127.0.0.1 - - [22/Oct/2023 18:37:40] \"POST /add_step HTTP/1.1\" 200 166 0.000681\n"
     ]
    },
    {
     "name": "stdout",
     "output_type": "stream",
     "text": [
      "<Response [200]>\n"
     ]
    },
    {
     "name": "stderr",
     "output_type": "stream",
     "text": [
      "(41821) accepted ('127.0.0.1', 60489)\n",
      "173.20.233.125,127.0.0.1 - - [22/Oct/2023 18:37:41] \"POST /add_step HTTP/1.1\" 200 166 0.000668\n"
     ]
    },
    {
     "name": "stdout",
     "output_type": "stream",
     "text": [
      "<Response [200]>\n"
     ]
    },
    {
     "name": "stderr",
     "output_type": "stream",
     "text": [
      "(41821) accepted ('127.0.0.1', 61723)\n",
      "173.20.233.125,127.0.0.1 - - [22/Oct/2023 18:37:42] \"POST /add_step HTTP/1.1\" 200 166 0.000544\n"
     ]
    },
    {
     "name": "stdout",
     "output_type": "stream",
     "text": [
      "<Response [200]>\n"
     ]
    },
    {
     "name": "stderr",
     "output_type": "stream",
     "text": [
      "(41821) accepted ('127.0.0.1', 62932)\n",
      "173.20.233.125,127.0.0.1 - - [22/Oct/2023 18:37:42] \"POST /add_step HTTP/1.1\" 200 166 0.000716\n"
     ]
    },
    {
     "name": "stdout",
     "output_type": "stream",
     "text": [
      "<Response [200]>\n"
     ]
    },
    {
     "name": "stderr",
     "output_type": "stream",
     "text": [
      "(41821) accepted ('127.0.0.1', 64150)\n",
      "173.20.233.125,127.0.0.1 - - [22/Oct/2023 18:37:43] \"POST /add_step HTTP/1.1\" 200 166 0.000548\n"
     ]
    },
    {
     "name": "stdout",
     "output_type": "stream",
     "text": [
      "<Response [200]>\n"
     ]
    },
    {
     "name": "stderr",
     "output_type": "stream",
     "text": [
      "(41821) accepted ('127.0.0.1', 65394)\n",
      "173.20.233.125,127.0.0.1 - - [22/Oct/2023 18:37:44] \"POST /add_step HTTP/1.1\" 200 166 0.000671\n"
     ]
    },
    {
     "name": "stdout",
     "output_type": "stream",
     "text": [
      "<Response [200]>\n"
     ]
    },
    {
     "name": "stderr",
     "output_type": "stream",
     "text": [
      "(41821) accepted ('127.0.0.1', 50291)\n",
      "173.20.233.125,127.0.0.1 - - [22/Oct/2023 18:37:44] \"POST /add_step HTTP/1.1\" 200 166 0.000584\n"
     ]
    },
    {
     "name": "stdout",
     "output_type": "stream",
     "text": [
      "<Response [200]>\n"
     ]
    },
    {
     "name": "stderr",
     "output_type": "stream",
     "text": [
      "(41821) accepted ('127.0.0.1', 51522)\n",
      "173.20.233.125,127.0.0.1 - - [22/Oct/2023 18:37:45] \"POST /add_step HTTP/1.1\" 200 166 0.000666\n"
     ]
    },
    {
     "name": "stdout",
     "output_type": "stream",
     "text": [
      "<Response [200]>\n"
     ]
    },
    {
     "name": "stderr",
     "output_type": "stream",
     "text": [
      "(41821) accepted ('127.0.0.1', 52723)\n",
      "173.20.233.125,127.0.0.1 - - [22/Oct/2023 18:37:46] \"POST /add_step HTTP/1.1\" 200 166 0.000780\n"
     ]
    },
    {
     "name": "stdout",
     "output_type": "stream",
     "text": [
      "<Response [200]>\n"
     ]
    },
    {
     "name": "stderr",
     "output_type": "stream",
     "text": [
      "(41821) accepted ('127.0.0.1', 53967)\n",
      "173.20.233.125,127.0.0.1 - - [22/Oct/2023 18:37:46] \"POST /add_step HTTP/1.1\" 200 166 0.001017\n"
     ]
    },
    {
     "name": "stdout",
     "output_type": "stream",
     "text": [
      "<Response [200]>\n"
     ]
    },
    {
     "name": "stderr",
     "output_type": "stream",
     "text": [
      "(41821) accepted ('127.0.0.1', 55291)\n",
      "173.20.233.125,127.0.0.1 - - [22/Oct/2023 18:37:47] \"POST /add_step HTTP/1.1\" 200 166 0.000749\n"
     ]
    },
    {
     "name": "stdout",
     "output_type": "stream",
     "text": [
      "<Response [200]>\n"
     ]
    },
    {
     "name": "stderr",
     "output_type": "stream",
     "text": [
      "(41821) accepted ('127.0.0.1', 56513)\n",
      "173.20.233.125,127.0.0.1 - - [22/Oct/2023 18:37:48] \"POST /add_step HTTP/1.1\" 200 166 0.000551\n"
     ]
    },
    {
     "name": "stdout",
     "output_type": "stream",
     "text": [
      "<Response [200]>\n"
     ]
    },
    {
     "name": "stderr",
     "output_type": "stream",
     "text": [
      "(41821) accepted ('127.0.0.1', 57738)\n",
      "173.20.233.125,127.0.0.1 - - [22/Oct/2023 18:37:48] \"POST /add_step HTTP/1.1\" 200 166 0.000665\n"
     ]
    },
    {
     "name": "stdout",
     "output_type": "stream",
     "text": [
      "<Response [200]>\n"
     ]
    },
    {
     "name": "stderr",
     "output_type": "stream",
     "text": [
      "(41821) accepted ('127.0.0.1', 58940)\n",
      "173.20.233.125,127.0.0.1 - - [22/Oct/2023 18:37:49] \"POST /add_step HTTP/1.1\" 200 166 0.001065\n"
     ]
    },
    {
     "name": "stdout",
     "output_type": "stream",
     "text": [
      "<Response [200]>\n"
     ]
    },
    {
     "name": "stderr",
     "output_type": "stream",
     "text": [
      "(41821) accepted ('127.0.0.1', 60137)\n",
      "173.20.233.125,127.0.0.1 - - [22/Oct/2023 18:37:50] \"POST /add_step HTTP/1.1\" 200 166 0.000665\n"
     ]
    },
    {
     "name": "stdout",
     "output_type": "stream",
     "text": [
      "<Response [200]>\n"
     ]
    },
    {
     "name": "stderr",
     "output_type": "stream",
     "text": [
      "(41821) accepted ('127.0.0.1', 61415)\n",
      "173.20.233.125,127.0.0.1 - - [22/Oct/2023 18:37:50] \"POST /add_step HTTP/1.1\" 200 166 0.000916\n"
     ]
    },
    {
     "name": "stdout",
     "output_type": "stream",
     "text": [
      "<Response [200]>\n"
     ]
    },
    {
     "name": "stderr",
     "output_type": "stream",
     "text": [
      "(41821) accepted ('127.0.0.1', 62740)\n",
      "173.20.233.125,127.0.0.1 - - [22/Oct/2023 18:37:51] \"POST /add_step HTTP/1.1\" 200 166 0.004799\n"
     ]
    },
    {
     "name": "stdout",
     "output_type": "stream",
     "text": [
      "<Response [200]>\n"
     ]
    },
    {
     "name": "stderr",
     "output_type": "stream",
     "text": [
      "(41821) accepted ('127.0.0.1', 63960)\n",
      "173.20.233.125,127.0.0.1 - - [22/Oct/2023 18:37:52] \"POST /add_step HTTP/1.1\" 200 166 0.000652\n"
     ]
    },
    {
     "name": "stdout",
     "output_type": "stream",
     "text": [
      "<Response [200]>\n"
     ]
    },
    {
     "name": "stderr",
     "output_type": "stream",
     "text": [
      "(41821) accepted ('127.0.0.1', 65173)\n",
      "173.20.233.125,127.0.0.1 - - [22/Oct/2023 18:37:53] \"POST /add_step HTTP/1.1\" 200 166 0.000601\n"
     ]
    },
    {
     "name": "stdout",
     "output_type": "stream",
     "text": [
      "<Response [200]>\n"
     ]
    },
    {
     "name": "stderr",
     "output_type": "stream",
     "text": [
      "(41821) accepted ('127.0.0.1', 50020)\n",
      "173.20.233.125,127.0.0.1 - - [22/Oct/2023 18:37:53] \"POST /add_step HTTP/1.1\" 200 166 0.000683\n"
     ]
    },
    {
     "name": "stdout",
     "output_type": "stream",
     "text": [
      "<Response [200]>\n"
     ]
    },
    {
     "name": "stderr",
     "output_type": "stream",
     "text": [
      "(41821) accepted ('127.0.0.1', 51233)\n",
      "173.20.233.125,127.0.0.1 - - [22/Oct/2023 18:37:54] \"POST /add_step HTTP/1.1\" 200 166 0.000928\n"
     ]
    },
    {
     "name": "stdout",
     "output_type": "stream",
     "text": [
      "<Response [200]>\n"
     ]
    },
    {
     "name": "stderr",
     "output_type": "stream",
     "text": [
      "(41821) accepted ('127.0.0.1', 52445)\n",
      "173.20.233.125,127.0.0.1 - - [22/Oct/2023 18:37:54] \"POST /add_step HTTP/1.1\" 200 166 0.000679\n"
     ]
    },
    {
     "name": "stdout",
     "output_type": "stream",
     "text": [
      "<Response [200]>\n"
     ]
    },
    {
     "name": "stderr",
     "output_type": "stream",
     "text": [
      "(41821) accepted ('127.0.0.1', 53642)\n",
      "173.20.233.125,127.0.0.1 - - [22/Oct/2023 18:37:55] \"POST /add_step HTTP/1.1\" 200 166 0.000661\n"
     ]
    },
    {
     "name": "stdout",
     "output_type": "stream",
     "text": [
      "<Response [200]>\n"
     ]
    },
    {
     "name": "stderr",
     "output_type": "stream",
     "text": [
      "(41821) accepted ('127.0.0.1', 54900)\n",
      "173.20.233.125,127.0.0.1 - - [22/Oct/2023 18:37:56] \"POST /add_step HTTP/1.1\" 200 166 0.000567\n"
     ]
    },
    {
     "name": "stdout",
     "output_type": "stream",
     "text": [
      "<Response [200]>\n"
     ]
    },
    {
     "name": "stderr",
     "output_type": "stream",
     "text": [
      "(41821) accepted ('127.0.0.1', 56160)\n",
      "173.20.233.125,127.0.0.1 - - [22/Oct/2023 18:37:56] \"POST /add_step HTTP/1.1\" 200 166 0.000662\n"
     ]
    },
    {
     "name": "stdout",
     "output_type": "stream",
     "text": [
      "<Response [200]>\n"
     ]
    },
    {
     "name": "stderr",
     "output_type": "stream",
     "text": [
      "(41821) accepted ('127.0.0.1', 57369)\n",
      "173.20.233.125,127.0.0.1 - - [22/Oct/2023 18:37:57] \"POST /add_step HTTP/1.1\" 200 166 0.000952\n"
     ]
    },
    {
     "name": "stdout",
     "output_type": "stream",
     "text": [
      "<Response [200]>\n"
     ]
    },
    {
     "name": "stderr",
     "output_type": "stream",
     "text": [
      "(41821) accepted ('127.0.0.1', 58711)\n",
      "173.20.233.125,127.0.0.1 - - [22/Oct/2023 18:37:58] \"POST /add_step HTTP/1.1\" 200 166 0.000558\n"
     ]
    },
    {
     "name": "stdout",
     "output_type": "stream",
     "text": [
      "<Response [200]>\n"
     ]
    },
    {
     "name": "stderr",
     "output_type": "stream",
     "text": [
      "(41821) accepted ('127.0.0.1', 59963)\n",
      "173.20.233.125,127.0.0.1 - - [22/Oct/2023 18:37:59] \"POST /add_step HTTP/1.1\" 200 166 0.000999\n"
     ]
    },
    {
     "name": "stdout",
     "output_type": "stream",
     "text": [
      "<Response [200]>\n"
     ]
    },
    {
     "name": "stderr",
     "output_type": "stream",
     "text": [
      "(41821) accepted ('127.0.0.1', 61196)\n",
      "173.20.233.125,127.0.0.1 - - [22/Oct/2023 18:37:59] \"POST /add_step HTTP/1.1\" 200 166 0.000697\n"
     ]
    },
    {
     "name": "stdout",
     "output_type": "stream",
     "text": [
      "<Response [200]>\n"
     ]
    },
    {
     "name": "stderr",
     "output_type": "stream",
     "text": [
      "(41821) accepted ('127.0.0.1', 62527)\n",
      "173.20.233.125,127.0.0.1 - - [22/Oct/2023 18:38:00] \"POST /add_step HTTP/1.1\" 200 166 0.000895\n"
     ]
    },
    {
     "name": "stdout",
     "output_type": "stream",
     "text": [
      "<Response [200]>\n"
     ]
    },
    {
     "name": "stderr",
     "output_type": "stream",
     "text": [
      "(41821) accepted ('127.0.0.1', 63837)\n",
      "173.20.233.125,127.0.0.1 - - [22/Oct/2023 18:38:01] \"POST /add_step HTTP/1.1\" 200 166 0.000937\n"
     ]
    },
    {
     "name": "stdout",
     "output_type": "stream",
     "text": [
      "<Response [200]>\n"
     ]
    },
    {
     "name": "stderr",
     "output_type": "stream",
     "text": [
      "(41821) accepted ('127.0.0.1', 65102)\n",
      "173.20.233.125,127.0.0.1 - - [22/Oct/2023 18:38:01] \"POST /add_step HTTP/1.1\" 200 166 0.000923\n"
     ]
    },
    {
     "name": "stdout",
     "output_type": "stream",
     "text": [
      "<Response [200]>\n"
     ]
    },
    {
     "name": "stderr",
     "output_type": "stream",
     "text": [
      "(41821) accepted ('127.0.0.1', 50051)\n",
      "173.20.233.125,127.0.0.1 - - [22/Oct/2023 18:38:02] \"POST /add_step HTTP/1.1\" 200 166 0.000684\n"
     ]
    },
    {
     "name": "stdout",
     "output_type": "stream",
     "text": [
      "<Response [200]>\n"
     ]
    },
    {
     "name": "stderr",
     "output_type": "stream",
     "text": [
      "127.0.0.1 - - [22/Oct/2023 18:38:03] \"GET /socket.io/?EIO=4&transport=websocket&sid=WAR30OH9NzChryK_AAAR HTTP/1.1\" 200 0 60.353658\n",
      "127.0.0.1 - - [22/Oct/2023 18:38:03] \"GET /socket.io/?EIO=4&transport=websocket&sid=vQascI5chmaRJ1BOAAAQ HTTP/1.1\" 200 0 60.374879\n",
      "127.0.0.1 - - [22/Oct/2023 18:38:03] \"GET /socket.io/?EIO=4&transport=polling&t=OjPmBHc HTTP/1.1\" 200 330 0.000359\n",
      "127.0.0.1 - - [22/Oct/2023 18:38:03] \"GET /socket.io/?EIO=4&transport=polling&t=OjPmBHd HTTP/1.1\" 200 330 0.000238\n",
      "127.0.0.1 - - [22/Oct/2023 18:38:03] \"POST /socket.io/?EIO=4&transport=polling&t=OjPmBHk&sid=Gq3Ca8mJS1DkxB-BAAAU HTTP/1.1\" 200 219 0.000296\n",
      "(41821) accepted ('127.0.0.1', 51328)\n",
      "127.0.0.1 - - [22/Oct/2023 18:38:03] \"GET /socket.io/?EIO=4&transport=polling&t=OjPmBHo&sid=Gq3Ca8mJS1DkxB-BAAAU HTTP/1.1\" 200 233 0.000152\n",
      "127.0.0.1 - - [22/Oct/2023 18:38:03] \"POST /socket.io/?EIO=4&transport=polling&t=OjPmBHq&sid=PieRmY8Is7-G1KRwAAAV HTTP/1.1\" 200 219 0.000374\n",
      "127.0.0.1 - - [22/Oct/2023 18:38:03] \"GET /socket.io/?EIO=4&transport=polling&t=OjPmBHr&sid=PieRmY8Is7-G1KRwAAAV HTTP/1.1\" 200 265 0.000273\n",
      "127.0.0.1 - - [22/Oct/2023 18:38:03] \"GET /socket.io/?EIO=4&transport=polling&t=OjPmBHs&sid=Gq3Ca8mJS1DkxB-BAAAU HTTP/1.1\" 200 233 0.000178\n",
      "(41821) accepted ('127.0.0.1', 51347)\n",
      "127.0.0.1 - - [22/Oct/2023 18:38:03] \"GET /socket.io/?EIO=4&transport=polling&t=OjPmBHy&sid=PieRmY8Is7-G1KRwAAAV HTTP/1.1\" 200 233 0.000158\n",
      "127.0.0.1 - - [22/Oct/2023 18:38:03] \"GET /all HTTP/1.1\" 200 253288 0.023355\n",
      "(41821) accepted ('127.0.0.1', 51508)\n",
      "173.20.233.125,127.0.0.1 - - [22/Oct/2023 18:38:03] \"POST /add_step HTTP/1.1\" 200 166 0.000469\n"
     ]
    },
    {
     "name": "stdout",
     "output_type": "stream",
     "text": [
      "<Response [200]>\n"
     ]
    },
    {
     "name": "stderr",
     "output_type": "stream",
     "text": [
      "(41821) accepted ('127.0.0.1', 52679)\n",
      "173.20.233.125,127.0.0.1 - - [22/Oct/2023 18:38:03] \"POST /add_step HTTP/1.1\" 200 166 0.000642\n"
     ]
    },
    {
     "name": "stdout",
     "output_type": "stream",
     "text": [
      "<Response [200]>\n"
     ]
    },
    {
     "name": "stderr",
     "output_type": "stream",
     "text": [
      "(41821) accepted ('127.0.0.1', 53937)\n",
      "173.20.233.125,127.0.0.1 - - [22/Oct/2023 18:38:04] \"POST /add_step HTTP/1.1\" 200 166 0.000589\n"
     ]
    },
    {
     "name": "stdout",
     "output_type": "stream",
     "text": [
      "<Response [200]>\n"
     ]
    },
    {
     "name": "stderr",
     "output_type": "stream",
     "text": [
      "(41821) accepted ('127.0.0.1', 55253)\n",
      "173.20.233.125,127.0.0.1 - - [22/Oct/2023 18:38:05] \"POST /add_step HTTP/1.1\" 200 166 0.000658\n"
     ]
    },
    {
     "name": "stdout",
     "output_type": "stream",
     "text": [
      "<Response [200]>\n"
     ]
    },
    {
     "name": "stderr",
     "output_type": "stream",
     "text": [
      "(41821) accepted ('127.0.0.1', 56459)\n",
      "173.20.233.125,127.0.0.1 - - [22/Oct/2023 18:38:06] \"POST /add_step HTTP/1.1\" 200 166 0.001042\n"
     ]
    },
    {
     "name": "stdout",
     "output_type": "stream",
     "text": [
      "<Response [200]>\n"
     ]
    },
    {
     "name": "stderr",
     "output_type": "stream",
     "text": [
      "(41821) accepted ('127.0.0.1', 57690)\n",
      "173.20.233.125,127.0.0.1 - - [22/Oct/2023 18:38:06] \"POST /add_step HTTP/1.1\" 200 166 0.000570\n"
     ]
    },
    {
     "name": "stdout",
     "output_type": "stream",
     "text": [
      "<Response [200]>\n"
     ]
    },
    {
     "name": "stderr",
     "output_type": "stream",
     "text": [
      "(41821) accepted ('127.0.0.1', 58907)\n",
      "173.20.233.125,127.0.0.1 - - [22/Oct/2023 18:38:07] \"POST /add_step HTTP/1.1\" 200 166 0.000895\n"
     ]
    },
    {
     "name": "stdout",
     "output_type": "stream",
     "text": [
      "<Response [200]>\n"
     ]
    },
    {
     "name": "stderr",
     "output_type": "stream",
     "text": [
      "(41821) accepted ('127.0.0.1', 60129)\n",
      "173.20.233.125,127.0.0.1 - - [22/Oct/2023 18:38:08] \"POST /add_step HTTP/1.1\" 200 166 0.000900\n"
     ]
    },
    {
     "name": "stdout",
     "output_type": "stream",
     "text": [
      "<Response [200]>\n"
     ]
    },
    {
     "name": "stderr",
     "output_type": "stream",
     "text": [
      "(41821) accepted ('127.0.0.1', 61281)\n",
      "173.20.233.125,127.0.0.1 - - [22/Oct/2023 18:38:08] \"POST /add_step HTTP/1.1\" 200 166 0.001108\n"
     ]
    },
    {
     "name": "stdout",
     "output_type": "stream",
     "text": [
      "<Response [200]>\n"
     ]
    },
    {
     "name": "stderr",
     "output_type": "stream",
     "text": [
      "(41821) accepted ('127.0.0.1', 62898)\n",
      "173.20.233.125,127.0.0.1 - - [22/Oct/2023 18:38:09] \"POST /add_step HTTP/1.1\" 200 166 0.001120\n"
     ]
    },
    {
     "name": "stdout",
     "output_type": "stream",
     "text": [
      "<Response [200]>\n"
     ]
    },
    {
     "name": "stderr",
     "output_type": "stream",
     "text": [
      "(41821) accepted ('127.0.0.1', 49437)\n",
      "173.20.233.125,127.0.0.1 - - [22/Oct/2023 18:38:11] \"POST /add_step HTTP/1.1\" 200 166 0.000850\n"
     ]
    },
    {
     "name": "stdout",
     "output_type": "stream",
     "text": [
      "<Response [200]>\n"
     ]
    },
    {
     "name": "stderr",
     "output_type": "stream",
     "text": [
      "(41821) accepted ('127.0.0.1', 51450)\n",
      "173.20.233.125,127.0.0.1 - - [22/Oct/2023 18:38:12] \"POST /add_step HTTP/1.1\" 200 166 0.000520\n"
     ]
    },
    {
     "name": "stdout",
     "output_type": "stream",
     "text": [
      "<Response [200]>\n"
     ]
    },
    {
     "name": "stderr",
     "output_type": "stream",
     "text": [
      "(41821) accepted ('127.0.0.1', 52807)\n",
      "173.20.233.125,127.0.0.1 - - [22/Oct/2023 18:38:13] \"POST /add_step HTTP/1.1\" 200 166 0.000607\n"
     ]
    },
    {
     "name": "stdout",
     "output_type": "stream",
     "text": [
      "<Response [200]>\n"
     ]
    },
    {
     "name": "stderr",
     "output_type": "stream",
     "text": [
      "(41821) accepted ('127.0.0.1', 54253)\n",
      "173.20.233.125,127.0.0.1 - - [22/Oct/2023 18:38:13] \"POST /add_step HTTP/1.1\" 200 166 0.000974\n"
     ]
    },
    {
     "name": "stdout",
     "output_type": "stream",
     "text": [
      "<Response [200]>\n"
     ]
    },
    {
     "name": "stderr",
     "output_type": "stream",
     "text": [
      "(41821) accepted ('127.0.0.1', 55716)\n",
      "173.20.233.125,127.0.0.1 - - [22/Oct/2023 18:38:14] \"POST /add_step HTTP/1.1\" 200 166 0.000770\n"
     ]
    },
    {
     "name": "stdout",
     "output_type": "stream",
     "text": [
      "<Response [200]>\n"
     ]
    },
    {
     "name": "stderr",
     "output_type": "stream",
     "text": [
      "(41821) accepted ('127.0.0.1', 57087)\n",
      "173.20.233.125,127.0.0.1 - - [22/Oct/2023 18:38:15] \"POST /add_step HTTP/1.1\" 200 166 0.000639\n"
     ]
    },
    {
     "name": "stdout",
     "output_type": "stream",
     "text": [
      "<Response [200]>\n"
     ]
    },
    {
     "name": "stderr",
     "output_type": "stream",
     "text": [
      "(41821) accepted ('127.0.0.1', 58562)\n",
      "173.20.233.125,127.0.0.1 - - [22/Oct/2023 18:38:16] \"POST /add_step HTTP/1.1\" 200 166 0.001072\n"
     ]
    },
    {
     "name": "stdout",
     "output_type": "stream",
     "text": [
      "<Response [200]>\n"
     ]
    },
    {
     "name": "stderr",
     "output_type": "stream",
     "text": [
      "(41821) accepted ('127.0.0.1', 59747)\n",
      "173.20.233.125,127.0.0.1 - - [22/Oct/2023 18:38:16] \"POST /add_step HTTP/1.1\" 200 166 0.000605\n"
     ]
    },
    {
     "name": "stdout",
     "output_type": "stream",
     "text": [
      "<Response [200]>\n"
     ]
    },
    {
     "name": "stderr",
     "output_type": "stream",
     "text": [
      "(41821) accepted ('127.0.0.1', 60972)\n",
      "173.20.233.125,127.0.0.1 - - [22/Oct/2023 18:38:17] \"POST /add_step HTTP/1.1\" 200 166 0.001153\n"
     ]
    },
    {
     "name": "stdout",
     "output_type": "stream",
     "text": [
      "<Response [200]>\n"
     ]
    },
    {
     "name": "stderr",
     "output_type": "stream",
     "text": [
      "(41821) accepted ('127.0.0.1', 62306)\n",
      "173.20.233.125,127.0.0.1 - - [22/Oct/2023 18:38:18] \"POST /add_step HTTP/1.1\" 200 166 0.003876\n"
     ]
    },
    {
     "name": "stdout",
     "output_type": "stream",
     "text": [
      "<Response [200]>\n"
     ]
    },
    {
     "name": "stderr",
     "output_type": "stream",
     "text": [
      "(41821) accepted ('127.0.0.1', 63605)\n",
      "173.20.233.125,127.0.0.1 - - [22/Oct/2023 18:38:18] \"POST /add_step HTTP/1.1\" 200 166 0.000779\n"
     ]
    },
    {
     "name": "stdout",
     "output_type": "stream",
     "text": [
      "<Response [200]>\n"
     ]
    },
    {
     "name": "stderr",
     "output_type": "stream",
     "text": [
      "(41821) accepted ('127.0.0.1', 64744)\n",
      "173.20.233.125,127.0.0.1 - - [22/Oct/2023 18:38:19] \"POST /add_step HTTP/1.1\" 200 166 0.000814\n"
     ]
    },
    {
     "name": "stdout",
     "output_type": "stream",
     "text": [
      "<Response [200]>\n"
     ]
    },
    {
     "name": "stderr",
     "output_type": "stream",
     "text": [
      "(41821) accepted ('127.0.0.1', 49617)\n",
      "173.20.233.125,127.0.0.1 - - [22/Oct/2023 18:38:20] \"POST /add_step HTTP/1.1\" 200 166 0.000603\n"
     ]
    },
    {
     "name": "stdout",
     "output_type": "stream",
     "text": [
      "<Response [200]>\n"
     ]
    },
    {
     "name": "stderr",
     "output_type": "stream",
     "text": [
      "(41821) accepted ('127.0.0.1', 51004)\n",
      "173.20.233.125,127.0.0.1 - - [22/Oct/2023 18:38:20] \"POST /add_step HTTP/1.1\" 200 166 0.001053\n"
     ]
    },
    {
     "name": "stdout",
     "output_type": "stream",
     "text": [
      "<Response [200]>\n"
     ]
    },
    {
     "name": "stderr",
     "output_type": "stream",
     "text": [
      "(41821) accepted ('127.0.0.1', 52340)\n",
      "173.20.233.125,127.0.0.1 - - [22/Oct/2023 18:38:21] \"POST /add_step HTTP/1.1\" 200 166 0.001072\n"
     ]
    },
    {
     "name": "stdout",
     "output_type": "stream",
     "text": [
      "<Response [200]>\n"
     ]
    },
    {
     "name": "stderr",
     "output_type": "stream",
     "text": [
      "(41821) accepted ('127.0.0.1', 53700)\n",
      "173.20.233.125,127.0.0.1 - - [22/Oct/2023 18:38:22] \"POST /add_step HTTP/1.1\" 200 166 0.000876\n"
     ]
    },
    {
     "name": "stdout",
     "output_type": "stream",
     "text": [
      "<Response [200]>\n"
     ]
    },
    {
     "name": "stderr",
     "output_type": "stream",
     "text": [
      "(41821) accepted ('127.0.0.1', 54995)\n",
      "173.20.233.125,127.0.0.1 - - [22/Oct/2023 18:38:23] \"POST /add_step HTTP/1.1\" 200 166 0.000783\n"
     ]
    },
    {
     "name": "stdout",
     "output_type": "stream",
     "text": [
      "<Response [200]>\n"
     ]
    },
    {
     "name": "stderr",
     "output_type": "stream",
     "text": [
      "(41821) accepted ('127.0.0.1', 56157)\n",
      "173.20.233.125,127.0.0.1 - - [22/Oct/2023 18:38:23] \"POST /add_step HTTP/1.1\" 200 166 0.000502\n"
     ]
    },
    {
     "name": "stdout",
     "output_type": "stream",
     "text": [
      "<Response [200]>\n"
     ]
    },
    {
     "name": "stderr",
     "output_type": "stream",
     "text": [
      "(41821) accepted ('127.0.0.1', 57503)\n",
      "173.20.233.125,127.0.0.1 - - [22/Oct/2023 18:38:24] \"POST /add_step HTTP/1.1\" 200 166 0.000581\n"
     ]
    },
    {
     "name": "stdout",
     "output_type": "stream",
     "text": [
      "<Response [200]>\n"
     ]
    },
    {
     "name": "stderr",
     "output_type": "stream",
     "text": [
      "(41821) accepted ('127.0.0.1', 59036)\n",
      "173.20.233.125,127.0.0.1 - - [22/Oct/2023 18:38:25] \"POST /add_step HTTP/1.1\" 200 166 0.000508\n"
     ]
    },
    {
     "name": "stdout",
     "output_type": "stream",
     "text": [
      "<Response [200]>\n"
     ]
    },
    {
     "name": "stderr",
     "output_type": "stream",
     "text": [
      "(41821) accepted ('127.0.0.1', 60355)\n",
      "173.20.233.125,127.0.0.1 - - [22/Oct/2023 18:38:26] \"POST /add_step HTTP/1.1\" 200 166 0.000921\n"
     ]
    },
    {
     "name": "stdout",
     "output_type": "stream",
     "text": [
      "<Response [200]>\n"
     ]
    },
    {
     "name": "stderr",
     "output_type": "stream",
     "text": [
      "(41821) accepted ('127.0.0.1', 61717)\n",
      "173.20.233.125,127.0.0.1 - - [22/Oct/2023 18:38:26] \"POST /add_step HTTP/1.1\" 200 166 0.000484\n"
     ]
    },
    {
     "name": "stdout",
     "output_type": "stream",
     "text": [
      "<Response [200]>\n"
     ]
    },
    {
     "name": "stderr",
     "output_type": "stream",
     "text": [
      "(41821) accepted ('127.0.0.1', 63089)\n",
      "173.20.233.125,127.0.0.1 - - [22/Oct/2023 18:38:27] \"POST /add_step HTTP/1.1\" 200 166 0.000444\n"
     ]
    },
    {
     "name": "stdout",
     "output_type": "stream",
     "text": [
      "<Response [200]>\n"
     ]
    },
    {
     "name": "stderr",
     "output_type": "stream",
     "text": [
      "(41821) accepted ('127.0.0.1', 64433)\n",
      "173.20.233.125,127.0.0.1 - - [22/Oct/2023 18:38:28] \"POST /add_step HTTP/1.1\" 200 166 0.000508\n"
     ]
    },
    {
     "name": "stdout",
     "output_type": "stream",
     "text": [
      "<Response [200]>\n"
     ]
    },
    {
     "name": "stderr",
     "output_type": "stream",
     "text": [
      "(41821) accepted ('127.0.0.1', 49275)\n",
      "173.20.233.125,127.0.0.1 - - [22/Oct/2023 18:38:28] \"POST /add_step HTTP/1.1\" 200 166 0.000523\n"
     ]
    },
    {
     "name": "stdout",
     "output_type": "stream",
     "text": [
      "<Response [200]>\n"
     ]
    },
    {
     "name": "stderr",
     "output_type": "stream",
     "text": [
      "(41821) accepted ('127.0.0.1', 50848)\n",
      "173.20.233.125,127.0.0.1 - - [22/Oct/2023 18:38:29] \"POST /add_step HTTP/1.1\" 200 166 0.000521\n"
     ]
    },
    {
     "name": "stdout",
     "output_type": "stream",
     "text": [
      "<Response [200]>\n"
     ]
    },
    {
     "name": "stderr",
     "output_type": "stream",
     "text": [
      "(41821) accepted ('127.0.0.1', 52163)\n",
      "173.20.233.125,127.0.0.1 - - [22/Oct/2023 18:38:30] \"POST /add_step HTTP/1.1\" 200 166 0.000437\n"
     ]
    },
    {
     "name": "stdout",
     "output_type": "stream",
     "text": [
      "<Response [200]>\n"
     ]
    },
    {
     "name": "stderr",
     "output_type": "stream",
     "text": [
      "(41821) accepted ('127.0.0.1', 53310)\n",
      "173.20.233.125,127.0.0.1 - - [22/Oct/2023 18:38:31] \"POST /add_step HTTP/1.1\" 200 166 0.000481\n"
     ]
    },
    {
     "name": "stdout",
     "output_type": "stream",
     "text": [
      "<Response [200]>\n"
     ]
    },
    {
     "name": "stderr",
     "output_type": "stream",
     "text": [
      "(41821) accepted ('127.0.0.1', 54539)\n",
      "173.20.233.125,127.0.0.1 - - [22/Oct/2023 18:38:31] \"POST /add_step HTTP/1.1\" 200 166 0.000732\n"
     ]
    },
    {
     "name": "stdout",
     "output_type": "stream",
     "text": [
      "<Response [200]>\n"
     ]
    },
    {
     "name": "stderr",
     "output_type": "stream",
     "text": [
      "(41821) accepted ('127.0.0.1', 56030)\n",
      "173.20.233.125,127.0.0.1 - - [22/Oct/2023 18:38:32] \"POST /add_step HTTP/1.1\" 200 166 0.000953\n"
     ]
    },
    {
     "name": "stdout",
     "output_type": "stream",
     "text": [
      "<Response [200]>\n"
     ]
    },
    {
     "name": "stderr",
     "output_type": "stream",
     "text": [
      "(41821) accepted ('127.0.0.1', 57405)\n",
      "173.20.233.125,127.0.0.1 - - [22/Oct/2023 18:38:33] \"POST /add_step HTTP/1.1\" 200 166 0.000772\n"
     ]
    },
    {
     "name": "stdout",
     "output_type": "stream",
     "text": [
      "<Response [200]>\n"
     ]
    },
    {
     "name": "stderr",
     "output_type": "stream",
     "text": [
      "(41821) accepted ('127.0.0.1', 58649)\n",
      "173.20.233.125,127.0.0.1 - - [22/Oct/2023 18:38:34] \"POST /add_step HTTP/1.1\" 200 166 0.000736\n"
     ]
    },
    {
     "name": "stdout",
     "output_type": "stream",
     "text": [
      "<Response [200]>\n"
     ]
    },
    {
     "name": "stderr",
     "output_type": "stream",
     "text": [
      "(41821) accepted ('127.0.0.1', 59938)\n",
      "173.20.233.125,127.0.0.1 - - [22/Oct/2023 18:38:34] \"POST /add_step HTTP/1.1\" 200 166 0.000437\n"
     ]
    },
    {
     "name": "stdout",
     "output_type": "stream",
     "text": [
      "<Response [200]>\n"
     ]
    },
    {
     "name": "stderr",
     "output_type": "stream",
     "text": [
      "(41821) accepted ('127.0.0.1', 61157)\n",
      "173.20.233.125,127.0.0.1 - - [22/Oct/2023 18:38:35] \"POST /add_step HTTP/1.1\" 200 166 0.000662\n"
     ]
    },
    {
     "name": "stdout",
     "output_type": "stream",
     "text": [
      "<Response [200]>\n"
     ]
    },
    {
     "name": "stderr",
     "output_type": "stream",
     "text": [
      "(41821) accepted ('127.0.0.1', 62436)\n",
      "173.20.233.125,127.0.0.1 - - [22/Oct/2023 18:38:36] \"POST /add_step HTTP/1.1\" 200 166 0.000438\n"
     ]
    },
    {
     "name": "stdout",
     "output_type": "stream",
     "text": [
      "<Response [200]>\n"
     ]
    },
    {
     "name": "stderr",
     "output_type": "stream",
     "text": [
      "(41821) accepted ('127.0.0.1', 63583)\n",
      "173.20.233.125,127.0.0.1 - - [22/Oct/2023 18:38:36] \"POST /add_step HTTP/1.1\" 200 166 0.000638\n"
     ]
    },
    {
     "name": "stdout",
     "output_type": "stream",
     "text": [
      "<Response [200]>\n"
     ]
    },
    {
     "name": "stderr",
     "output_type": "stream",
     "text": [
      "(41821) accepted ('127.0.0.1', 64983)\n",
      "173.20.233.125,127.0.0.1 - - [22/Oct/2023 18:38:37] \"POST /add_step HTTP/1.1\" 200 166 0.002055\n"
     ]
    },
    {
     "name": "stdout",
     "output_type": "stream",
     "text": [
      "<Response [200]>\n"
     ]
    },
    {
     "name": "stderr",
     "output_type": "stream",
     "text": [
      "(41821) accepted ('127.0.0.1', 50115)\n",
      "173.20.233.125,127.0.0.1 - - [22/Oct/2023 18:38:38] \"POST /add_step HTTP/1.1\" 200 166 0.000440\n"
     ]
    },
    {
     "name": "stdout",
     "output_type": "stream",
     "text": [
      "<Response [200]>\n"
     ]
    },
    {
     "name": "stderr",
     "output_type": "stream",
     "text": [
      "(41821) accepted ('127.0.0.1', 51304)\n",
      "173.20.233.125,127.0.0.1 - - [22/Oct/2023 18:38:38] \"POST /add_step HTTP/1.1\" 200 166 0.000511\n"
     ]
    },
    {
     "name": "stdout",
     "output_type": "stream",
     "text": [
      "<Response [200]>\n"
     ]
    },
    {
     "name": "stderr",
     "output_type": "stream",
     "text": [
      "(41821) accepted ('127.0.0.1', 52597)\n",
      "173.20.233.125,127.0.0.1 - - [22/Oct/2023 18:38:39] \"POST /add_step HTTP/1.1\" 200 166 0.000658\n"
     ]
    },
    {
     "name": "stdout",
     "output_type": "stream",
     "text": [
      "<Response [200]>\n"
     ]
    },
    {
     "name": "stderr",
     "output_type": "stream",
     "text": [
      "(41821) accepted ('127.0.0.1', 53874)\n",
      "173.20.233.125,127.0.0.1 - - [22/Oct/2023 18:38:40] \"POST /add_step HTTP/1.1\" 200 166 0.000487\n"
     ]
    },
    {
     "name": "stdout",
     "output_type": "stream",
     "text": [
      "<Response [200]>\n"
     ]
    },
    {
     "name": "stderr",
     "output_type": "stream",
     "text": [
      "(41821) accepted ('127.0.0.1', 55202)\n",
      "173.20.233.125,127.0.0.1 - - [22/Oct/2023 18:38:41] \"POST /add_step HTTP/1.1\" 200 166 0.000496\n"
     ]
    },
    {
     "name": "stdout",
     "output_type": "stream",
     "text": [
      "<Response [200]>\n"
     ]
    },
    {
     "name": "stderr",
     "output_type": "stream",
     "text": [
      "(41821) accepted ('127.0.0.1', 56487)\n",
      "173.20.233.125,127.0.0.1 - - [22/Oct/2023 18:38:41] \"POST /add_step HTTP/1.1\" 200 166 0.000649\n"
     ]
    },
    {
     "name": "stdout",
     "output_type": "stream",
     "text": [
      "<Response [200]>\n"
     ]
    },
    {
     "name": "stderr",
     "output_type": "stream",
     "text": [
      "(41821) accepted ('127.0.0.1', 57767)\n",
      "173.20.233.125,127.0.0.1 - - [22/Oct/2023 18:38:42] \"POST /add_step HTTP/1.1\" 200 166 0.001085\n"
     ]
    },
    {
     "name": "stdout",
     "output_type": "stream",
     "text": [
      "<Response [200]>\n"
     ]
    },
    {
     "name": "stderr",
     "output_type": "stream",
     "text": [
      "(41821) accepted ('127.0.0.1', 59497)\n",
      "173.20.233.125,127.0.0.1 - - [22/Oct/2023 18:38:43] \"POST /add_step HTTP/1.1\" 200 166 0.000723\n"
     ]
    },
    {
     "name": "stdout",
     "output_type": "stream",
     "text": [
      "<Response [200]>\n"
     ]
    },
    {
     "name": "stderr",
     "output_type": "stream",
     "text": [
      "(41821) accepted ('127.0.0.1', 60764)\n",
      "173.20.233.125,127.0.0.1 - - [22/Oct/2023 18:38:44] \"POST /add_step HTTP/1.1\" 200 166 0.000770\n"
     ]
    },
    {
     "name": "stdout",
     "output_type": "stream",
     "text": [
      "<Response [200]>\n"
     ]
    },
    {
     "name": "stderr",
     "output_type": "stream",
     "text": [
      "(41821) accepted ('127.0.0.1', 62225)\n",
      "173.20.233.125,127.0.0.1 - - [22/Oct/2023 18:38:44] \"POST /add_step HTTP/1.1\" 200 166 0.000490\n"
     ]
    },
    {
     "name": "stdout",
     "output_type": "stream",
     "text": [
      "<Response [200]>\n"
     ]
    },
    {
     "name": "stderr",
     "output_type": "stream",
     "text": [
      "(41821) accepted ('127.0.0.1', 63613)\n",
      "173.20.233.125,127.0.0.1 - - [22/Oct/2023 18:38:45] \"POST /add_step HTTP/1.1\" 200 166 0.001394\n"
     ]
    },
    {
     "name": "stdout",
     "output_type": "stream",
     "text": [
      "<Response [200]>\n"
     ]
    },
    {
     "name": "stderr",
     "output_type": "stream",
     "text": [
      "(41821) accepted ('127.0.0.1', 64909)\n",
      "173.20.233.125,127.0.0.1 - - [22/Oct/2023 18:38:46] \"POST /add_step HTTP/1.1\" 200 166 0.001108\n"
     ]
    },
    {
     "name": "stdout",
     "output_type": "stream",
     "text": [
      "<Response [200]>\n"
     ]
    },
    {
     "name": "stderr",
     "output_type": "stream",
     "text": [
      "(41821) accepted ('127.0.0.1', 50665)\n",
      "173.20.233.125,127.0.0.1 - - [22/Oct/2023 18:38:47] \"POST /add_step HTTP/1.1\" 200 166 0.000769\n"
     ]
    },
    {
     "name": "stdout",
     "output_type": "stream",
     "text": [
      "<Response [200]>\n"
     ]
    },
    {
     "name": "stderr",
     "output_type": "stream",
     "text": [
      "(41821) accepted ('127.0.0.1', 51869)\n",
      "173.20.233.125,127.0.0.1 - - [22/Oct/2023 18:38:48] \"POST /add_step HTTP/1.1\" 200 166 0.000508\n"
     ]
    },
    {
     "name": "stdout",
     "output_type": "stream",
     "text": [
      "<Response [200]>\n"
     ]
    },
    {
     "name": "stderr",
     "output_type": "stream",
     "text": [
      "(41821) accepted ('127.0.0.1', 53131)\n",
      "173.20.233.125,127.0.0.1 - - [22/Oct/2023 18:38:48] \"POST /add_step HTTP/1.1\" 200 166 0.000759\n"
     ]
    },
    {
     "name": "stdout",
     "output_type": "stream",
     "text": [
      "<Response [200]>\n"
     ]
    },
    {
     "name": "stderr",
     "output_type": "stream",
     "text": [
      "(41821) accepted ('127.0.0.1', 54597)\n",
      "173.20.233.125,127.0.0.1 - - [22/Oct/2023 18:38:49] \"POST /add_step HTTP/1.1\" 200 166 0.000470\n"
     ]
    },
    {
     "name": "stdout",
     "output_type": "stream",
     "text": [
      "<Response [200]>\n"
     ]
    },
    {
     "name": "stderr",
     "output_type": "stream",
     "text": [
      "(41821) accepted ('127.0.0.1', 55939)\n",
      "173.20.233.125,127.0.0.1 - - [22/Oct/2023 18:38:50] \"POST /add_step HTTP/1.1\" 200 166 0.000499\n"
     ]
    },
    {
     "name": "stdout",
     "output_type": "stream",
     "text": [
      "<Response [200]>\n"
     ]
    },
    {
     "name": "stderr",
     "output_type": "stream",
     "text": [
      "(41821) accepted ('127.0.0.1', 57310)\n",
      "173.20.233.125,127.0.0.1 - - [22/Oct/2023 18:38:51] \"POST /add_step HTTP/1.1\" 200 166 0.000772\n"
     ]
    },
    {
     "name": "stdout",
     "output_type": "stream",
     "text": [
      "<Response [200]>\n"
     ]
    },
    {
     "name": "stderr",
     "output_type": "stream",
     "text": [
      "(41821) accepted ('127.0.0.1', 58597)\n",
      "173.20.233.125,127.0.0.1 - - [22/Oct/2023 18:38:51] \"POST /add_step HTTP/1.1\" 200 166 0.000429\n"
     ]
    },
    {
     "name": "stdout",
     "output_type": "stream",
     "text": [
      "<Response [200]>\n"
     ]
    },
    {
     "name": "stderr",
     "output_type": "stream",
     "text": [
      "(41821) accepted ('127.0.0.1', 59881)\n",
      "173.20.233.125,127.0.0.1 - - [22/Oct/2023 18:38:52] \"POST /add_step HTTP/1.1\" 200 166 0.000619\n"
     ]
    },
    {
     "name": "stdout",
     "output_type": "stream",
     "text": [
      "<Response [200]>\n"
     ]
    },
    {
     "name": "stderr",
     "output_type": "stream",
     "text": [
      "(41821) accepted ('127.0.0.1', 61162)\n",
      "173.20.233.125,127.0.0.1 - - [22/Oct/2023 18:38:53] \"POST /add_step HTTP/1.1\" 200 166 0.000748\n"
     ]
    },
    {
     "name": "stdout",
     "output_type": "stream",
     "text": [
      "<Response [200]>\n"
     ]
    },
    {
     "name": "stderr",
     "output_type": "stream",
     "text": [
      "(41821) accepted ('127.0.0.1', 62654)\n",
      "173.20.233.125,127.0.0.1 - - [22/Oct/2023 18:38:54] \"POST /add_step HTTP/1.1\" 200 166 0.000485\n"
     ]
    },
    {
     "name": "stdout",
     "output_type": "stream",
     "text": [
      "<Response [200]>\n"
     ]
    },
    {
     "name": "stderr",
     "output_type": "stream",
     "text": [
      "(41821) accepted ('127.0.0.1', 63794)\n",
      "173.20.233.125,127.0.0.1 - - [22/Oct/2023 18:38:54] \"POST /add_step HTTP/1.1\" 200 166 0.000478\n"
     ]
    },
    {
     "name": "stdout",
     "output_type": "stream",
     "text": [
      "<Response [200]>\n"
     ]
    },
    {
     "name": "stderr",
     "output_type": "stream",
     "text": [
      "(41821) accepted ('127.0.0.1', 65078)\n",
      "173.20.233.125,127.0.0.1 - - [22/Oct/2023 18:38:55] \"POST /add_step HTTP/1.1\" 200 166 0.000747\n"
     ]
    },
    {
     "name": "stdout",
     "output_type": "stream",
     "text": [
      "<Response [200]>\n"
     ]
    },
    {
     "name": "stderr",
     "output_type": "stream",
     "text": [
      "(41821) accepted ('127.0.0.1', 50080)\n",
      "173.20.233.125,127.0.0.1 - - [22/Oct/2023 18:38:56] \"POST /add_step HTTP/1.1\" 200 166 0.000498\n"
     ]
    },
    {
     "name": "stdout",
     "output_type": "stream",
     "text": [
      "<Response [200]>\n"
     ]
    },
    {
     "name": "stderr",
     "output_type": "stream",
     "text": [
      "(41821) accepted ('127.0.0.1', 51340)\n",
      "173.20.233.125,127.0.0.1 - - [22/Oct/2023 18:38:56] \"POST /add_step HTTP/1.1\" 200 166 0.000758\n"
     ]
    },
    {
     "name": "stdout",
     "output_type": "stream",
     "text": [
      "<Response [200]>\n"
     ]
    },
    {
     "name": "stderr",
     "output_type": "stream",
     "text": [
      "(41821) accepted ('127.0.0.1', 52741)\n",
      "173.20.233.125,127.0.0.1 - - [22/Oct/2023 18:38:57] \"POST /add_step HTTP/1.1\" 200 166 0.000762\n"
     ]
    },
    {
     "name": "stdout",
     "output_type": "stream",
     "text": [
      "<Response [200]>\n"
     ]
    },
    {
     "name": "stderr",
     "output_type": "stream",
     "text": [
      "(41821) accepted ('127.0.0.1', 54055)\n",
      "173.20.233.125,127.0.0.1 - - [22/Oct/2023 18:38:58] \"POST /add_step HTTP/1.1\" 200 166 0.000554\n"
     ]
    },
    {
     "name": "stdout",
     "output_type": "stream",
     "text": [
      "<Response [200]>\n"
     ]
    },
    {
     "name": "stderr",
     "output_type": "stream",
     "text": [
      "(41821) accepted ('127.0.0.1', 55215)\n",
      "173.20.233.125,127.0.0.1 - - [22/Oct/2023 18:38:58] \"POST /add_step HTTP/1.1\" 200 166 0.000897\n"
     ]
    },
    {
     "name": "stdout",
     "output_type": "stream",
     "text": [
      "<Response [200]>\n"
     ]
    },
    {
     "name": "stderr",
     "output_type": "stream",
     "text": [
      "(41821) accepted ('127.0.0.1', 56722)\n",
      "173.20.233.125,127.0.0.1 - - [22/Oct/2023 18:38:59] \"POST /add_step HTTP/1.1\" 200 166 0.001704\n"
     ]
    },
    {
     "name": "stdout",
     "output_type": "stream",
     "text": [
      "<Response [200]>\n"
     ]
    },
    {
     "name": "stderr",
     "output_type": "stream",
     "text": [
      "(41821) accepted ('127.0.0.1', 58279)\n",
      "173.20.233.125,127.0.0.1 - - [22/Oct/2023 18:39:00] \"POST /add_step HTTP/1.1\" 200 166 0.000615\n"
     ]
    },
    {
     "name": "stdout",
     "output_type": "stream",
     "text": [
      "<Response [200]>\n"
     ]
    },
    {
     "name": "stderr",
     "output_type": "stream",
     "text": [
      "(41821) accepted ('127.0.0.1', 59558)\n",
      "173.20.233.125,127.0.0.1 - - [22/Oct/2023 18:39:01] \"POST /add_step HTTP/1.1\" 200 166 0.000449\n"
     ]
    },
    {
     "name": "stdout",
     "output_type": "stream",
     "text": [
      "<Response [200]>\n"
     ]
    },
    {
     "name": "stderr",
     "output_type": "stream",
     "text": [
      "(41821) accepted ('127.0.0.1', 60820)\n",
      "173.20.233.125,127.0.0.1 - - [22/Oct/2023 18:39:01] \"POST /add_step HTTP/1.1\" 200 166 0.000479\n"
     ]
    },
    {
     "name": "stdout",
     "output_type": "stream",
     "text": [
      "<Response [200]>\n"
     ]
    },
    {
     "name": "stderr",
     "output_type": "stream",
     "text": [
      "(41821) accepted ('127.0.0.1', 62185)\n",
      "173.20.233.125,127.0.0.1 - - [22/Oct/2023 18:39:02] \"POST /add_step HTTP/1.1\" 200 166 0.000444\n"
     ]
    },
    {
     "name": "stdout",
     "output_type": "stream",
     "text": [
      "<Response [200]>\n"
     ]
    },
    {
     "name": "stderr",
     "output_type": "stream",
     "text": [
      "(41821) accepted ('127.0.0.1', 63481)\n",
      "173.20.233.125,127.0.0.1 - - [22/Oct/2023 18:39:03] \"POST /add_step HTTP/1.1\" 200 166 0.000930\n"
     ]
    },
    {
     "name": "stdout",
     "output_type": "stream",
     "text": [
      "<Response [200]>\n"
     ]
    },
    {
     "name": "stderr",
     "output_type": "stream",
     "text": [
      "(41821) accepted ('127.0.0.1', 65012)\n",
      "173.20.233.125,127.0.0.1 - - [22/Oct/2023 18:39:04] \"POST /add_step HTTP/1.1\" 200 166 0.000508\n"
     ]
    },
    {
     "name": "stdout",
     "output_type": "stream",
     "text": [
      "<Response [200]>\n"
     ]
    },
    {
     "name": "stderr",
     "output_type": "stream",
     "text": [
      "(41821) accepted ('127.0.0.1', 49925)\n",
      "173.20.233.125,127.0.0.1 - - [22/Oct/2023 18:39:04] \"POST /add_step HTTP/1.1\" 200 166 0.000642\n"
     ]
    },
    {
     "name": "stdout",
     "output_type": "stream",
     "text": [
      "<Response [200]>\n"
     ]
    },
    {
     "name": "stderr",
     "output_type": "stream",
     "text": [
      "(41821) accepted ('127.0.0.1', 51840)\n",
      "173.20.233.125,127.0.0.1 - - [22/Oct/2023 18:39:06] \"POST /add_step HTTP/1.1\" 200 166 0.000837\n"
     ]
    },
    {
     "name": "stdout",
     "output_type": "stream",
     "text": [
      "<Response [200]>\n"
     ]
    },
    {
     "name": "stderr",
     "output_type": "stream",
     "text": [
      "(41821) accepted ('127.0.0.1', 53098)\n",
      "173.20.233.125,127.0.0.1 - - [22/Oct/2023 18:39:06] \"POST /add_step HTTP/1.1\" 200 166 0.000497\n"
     ]
    },
    {
     "name": "stdout",
     "output_type": "stream",
     "text": [
      "<Response [200]>\n"
     ]
    },
    {
     "name": "stderr",
     "output_type": "stream",
     "text": [
      "(41821) accepted ('127.0.0.1', 54430)\n",
      "173.20.233.125,127.0.0.1 - - [22/Oct/2023 18:39:07] \"POST /add_step HTTP/1.1\" 200 166 0.000981\n"
     ]
    },
    {
     "name": "stdout",
     "output_type": "stream",
     "text": [
      "<Response [200]>\n"
     ]
    },
    {
     "name": "stderr",
     "output_type": "stream",
     "text": [
      "(41821) accepted ('127.0.0.1', 55712)\n",
      "173.20.233.125,127.0.0.1 - - [22/Oct/2023 18:39:08] \"POST /add_step HTTP/1.1\" 200 166 0.001159\n"
     ]
    },
    {
     "name": "stdout",
     "output_type": "stream",
     "text": [
      "<Response [200]>\n"
     ]
    },
    {
     "name": "stderr",
     "output_type": "stream",
     "text": [
      "(41821) accepted ('127.0.0.1', 57009)\n",
      "173.20.233.125,127.0.0.1 - - [22/Oct/2023 18:39:08] \"POST /add_step HTTP/1.1\" 200 166 0.000713\n"
     ]
    },
    {
     "name": "stdout",
     "output_type": "stream",
     "text": [
      "<Response [200]>\n"
     ]
    },
    {
     "name": "stderr",
     "output_type": "stream",
     "text": [
      "(41821) accepted ('127.0.0.1', 58402)\n",
      "173.20.233.125,127.0.0.1 - - [22/Oct/2023 18:39:09] \"POST /add_step HTTP/1.1\" 200 166 0.000688\n"
     ]
    },
    {
     "name": "stdout",
     "output_type": "stream",
     "text": [
      "<Response [200]>\n"
     ]
    },
    {
     "name": "stderr",
     "output_type": "stream",
     "text": [
      "(41821) accepted ('127.0.0.1', 59576)\n",
      "173.20.233.125,127.0.0.1 - - [22/Oct/2023 18:39:10] \"POST /add_step HTTP/1.1\" 200 166 0.000839\n"
     ]
    },
    {
     "name": "stdout",
     "output_type": "stream",
     "text": [
      "<Response [200]>\n"
     ]
    },
    {
     "name": "stderr",
     "output_type": "stream",
     "text": [
      "(41821) accepted ('127.0.0.1', 60762)\n",
      "173.20.233.125,127.0.0.1 - - [22/Oct/2023 18:39:10] \"POST /add_step HTTP/1.1\" 200 166 0.000879\n"
     ]
    },
    {
     "name": "stdout",
     "output_type": "stream",
     "text": [
      "<Response [200]>\n"
     ]
    },
    {
     "name": "stderr",
     "output_type": "stream",
     "text": [
      "(41821) accepted ('127.0.0.1', 61967)\n",
      "173.20.233.125,127.0.0.1 - - [22/Oct/2023 18:39:11] \"POST /add_step HTTP/1.1\" 200 166 0.000551\n"
     ]
    },
    {
     "name": "stdout",
     "output_type": "stream",
     "text": [
      "<Response [200]>\n"
     ]
    },
    {
     "name": "stderr",
     "output_type": "stream",
     "text": [
      "(41821) accepted ('127.0.0.1', 63423)\n",
      "173.20.233.125,127.0.0.1 - - [22/Oct/2023 18:39:12] \"POST /add_step HTTP/1.1\" 200 166 0.000528\n"
     ]
    },
    {
     "name": "stdout",
     "output_type": "stream",
     "text": [
      "<Response [200]>\n"
     ]
    },
    {
     "name": "stderr",
     "output_type": "stream",
     "text": [
      "(41821) accepted ('127.0.0.1', 65152)\n",
      "173.20.233.125,127.0.0.1 - - [22/Oct/2023 18:39:13] \"POST /add_step HTTP/1.1\" 200 166 0.000865\n"
     ]
    },
    {
     "name": "stdout",
     "output_type": "stream",
     "text": [
      "<Response [200]>\n"
     ]
    },
    {
     "name": "stderr",
     "output_type": "stream",
     "text": [
      "(41821) accepted ('127.0.0.1', 50055)\n",
      "173.20.233.125,127.0.0.1 - - [22/Oct/2023 18:39:13] \"POST /add_step HTTP/1.1\" 200 166 0.000901\n"
     ]
    },
    {
     "name": "stdout",
     "output_type": "stream",
     "text": [
      "<Response [200]>\n"
     ]
    },
    {
     "name": "stderr",
     "output_type": "stream",
     "text": [
      "(41821) accepted ('127.0.0.1', 51542)\n",
      "173.20.233.125,127.0.0.1 - - [22/Oct/2023 18:39:14] \"POST /add_step HTTP/1.1\" 200 166 0.000548\n"
     ]
    },
    {
     "name": "stdout",
     "output_type": "stream",
     "text": [
      "<Response [200]>\n"
     ]
    },
    {
     "name": "stderr",
     "output_type": "stream",
     "text": [
      "(41821) accepted ('127.0.0.1', 52915)\n",
      "173.20.233.125,127.0.0.1 - - [22/Oct/2023 18:39:15] \"POST /add_step HTTP/1.1\" 200 166 0.000594\n"
     ]
    },
    {
     "name": "stdout",
     "output_type": "stream",
     "text": [
      "<Response [200]>\n"
     ]
    },
    {
     "name": "stderr",
     "output_type": "stream",
     "text": [
      "(41821) accepted ('127.0.0.1', 54300)\n",
      "173.20.233.125,127.0.0.1 - - [22/Oct/2023 18:39:16] \"POST /add_step HTTP/1.1\" 200 166 0.000440\n"
     ]
    },
    {
     "name": "stdout",
     "output_type": "stream",
     "text": [
      "<Response [200]>\n"
     ]
    },
    {
     "name": "stderr",
     "output_type": "stream",
     "text": [
      "(41821) accepted ('127.0.0.1', 55504)\n",
      "173.20.233.125,127.0.0.1 - - [22/Oct/2023 18:39:16] \"POST /add_step HTTP/1.1\" 200 166 0.000638\n"
     ]
    },
    {
     "name": "stdout",
     "output_type": "stream",
     "text": [
      "<Response [200]>\n"
     ]
    },
    {
     "name": "stderr",
     "output_type": "stream",
     "text": [
      "(41821) accepted ('127.0.0.1', 56711)\n",
      "173.20.233.125,127.0.0.1 - - [22/Oct/2023 18:39:17] \"POST /add_step HTTP/1.1\" 200 166 0.001114\n"
     ]
    },
    {
     "name": "stdout",
     "output_type": "stream",
     "text": [
      "<Response [200]>\n"
     ]
    },
    {
     "name": "stderr",
     "output_type": "stream",
     "text": [
      "(41821) accepted ('127.0.0.1', 58159)\n",
      "173.20.233.125,127.0.0.1 - - [22/Oct/2023 18:39:18] \"POST /add_step HTTP/1.1\" 200 166 0.000952\n"
     ]
    },
    {
     "name": "stdout",
     "output_type": "stream",
     "text": [
      "<Response [200]>\n"
     ]
    },
    {
     "name": "stderr",
     "output_type": "stream",
     "text": [
      "(41821) accepted ('127.0.0.1', 59496)\n",
      "173.20.233.125,127.0.0.1 - - [22/Oct/2023 18:39:19] \"POST /add_step HTTP/1.1\" 200 166 0.000901\n"
     ]
    },
    {
     "name": "stdout",
     "output_type": "stream",
     "text": [
      "<Response [200]>\n"
     ]
    },
    {
     "name": "stderr",
     "output_type": "stream",
     "text": [
      "(41821) accepted ('127.0.0.1', 61111)\n",
      "173.20.233.125,127.0.0.1 - - [22/Oct/2023 18:39:19] \"POST /add_step HTTP/1.1\" 200 166 0.000581\n"
     ]
    },
    {
     "name": "stdout",
     "output_type": "stream",
     "text": [
      "<Response [200]>\n"
     ]
    },
    {
     "name": "stderr",
     "output_type": "stream",
     "text": [
      "(41821) accepted ('127.0.0.1', 62793)\n",
      "173.20.233.125,127.0.0.1 - - [22/Oct/2023 18:39:20] \"POST /add_step HTTP/1.1\" 200 166 0.000734\n"
     ]
    },
    {
     "name": "stdout",
     "output_type": "stream",
     "text": [
      "<Response [200]>\n"
     ]
    },
    {
     "name": "stderr",
     "output_type": "stream",
     "text": [
      "(41821) accepted ('127.0.0.1', 64368)\n",
      "173.20.233.125,127.0.0.1 - - [22/Oct/2023 18:39:21] \"POST /add_step HTTP/1.1\" 200 166 0.000727\n"
     ]
    },
    {
     "name": "stdout",
     "output_type": "stream",
     "text": [
      "<Response [200]>\n"
     ]
    },
    {
     "name": "stderr",
     "output_type": "stream",
     "text": [
      "(41821) accepted ('127.0.0.1', 49317)\n",
      "173.20.233.125,127.0.0.1 - - [22/Oct/2023 18:39:22] \"POST /add_step HTTP/1.1\" 200 166 0.000441\n"
     ]
    },
    {
     "name": "stdout",
     "output_type": "stream",
     "text": [
      "<Response [200]>\n"
     ]
    },
    {
     "name": "stderr",
     "output_type": "stream",
     "text": [
      "(41821) accepted ('127.0.0.1', 50687)\n",
      "173.20.233.125,127.0.0.1 - - [22/Oct/2023 18:39:23] \"POST /add_step HTTP/1.1\" 200 166 0.000545\n"
     ]
    },
    {
     "name": "stdout",
     "output_type": "stream",
     "text": [
      "<Response [200]>\n"
     ]
    },
    {
     "name": "stderr",
     "output_type": "stream",
     "text": [
      "(41821) accepted ('127.0.0.1', 51912)\n",
      "173.20.233.125,127.0.0.1 - - [22/Oct/2023 18:39:23] \"POST /add_step HTTP/1.1\" 200 166 0.000477\n"
     ]
    },
    {
     "name": "stdout",
     "output_type": "stream",
     "text": [
      "<Response [200]>\n"
     ]
    },
    {
     "name": "stderr",
     "output_type": "stream",
     "text": [
      "(41821) accepted ('127.0.0.1', 53222)\n",
      "173.20.233.125,127.0.0.1 - - [22/Oct/2023 18:39:24] \"POST /add_step HTTP/1.1\" 200 166 0.000941\n"
     ]
    },
    {
     "name": "stdout",
     "output_type": "stream",
     "text": [
      "<Response [200]>\n"
     ]
    },
    {
     "name": "stderr",
     "output_type": "stream",
     "text": [
      "(41821) accepted ('127.0.0.1', 54798)\n",
      "173.20.233.125,127.0.0.1 - - [22/Oct/2023 18:39:25] \"POST /add_step HTTP/1.1\" 200 166 0.000471\n"
     ]
    },
    {
     "name": "stdout",
     "output_type": "stream",
     "text": [
      "<Response [200]>\n"
     ]
    },
    {
     "name": "stderr",
     "output_type": "stream",
     "text": [
      "(41821) accepted ('127.0.0.1', 56070)\n",
      "173.20.233.125,127.0.0.1 - - [22/Oct/2023 18:39:26] \"POST /add_step HTTP/1.1\" 200 166 0.002753\n"
     ]
    },
    {
     "name": "stdout",
     "output_type": "stream",
     "text": [
      "<Response [200]>\n"
     ]
    },
    {
     "name": "stderr",
     "output_type": "stream",
     "text": [
      "(41821) accepted ('127.0.0.1', 57330)\n",
      "173.20.233.125,127.0.0.1 - - [22/Oct/2023 18:39:26] \"POST /add_step HTTP/1.1\" 200 166 0.000619\n"
     ]
    },
    {
     "name": "stdout",
     "output_type": "stream",
     "text": [
      "<Response [200]>\n"
     ]
    },
    {
     "name": "stderr",
     "output_type": "stream",
     "text": [
      "(41821) accepted ('127.0.0.1', 58603)\n",
      "173.20.233.125,127.0.0.1 - - [22/Oct/2023 18:39:27] \"POST /add_step HTTP/1.1\" 200 166 0.000755\n"
     ]
    },
    {
     "name": "stdout",
     "output_type": "stream",
     "text": [
      "<Response [200]>\n"
     ]
    },
    {
     "name": "stderr",
     "output_type": "stream",
     "text": [
      "(41821) accepted ('127.0.0.1', 60002)\n",
      "173.20.233.125,127.0.0.1 - - [22/Oct/2023 18:39:28] \"POST /add_step HTTP/1.1\" 200 166 0.000533\n"
     ]
    },
    {
     "name": "stdout",
     "output_type": "stream",
     "text": [
      "<Response [200]>\n"
     ]
    },
    {
     "name": "stderr",
     "output_type": "stream",
     "text": [
      "(41821) accepted ('127.0.0.1', 61232)\n",
      "173.20.233.125,127.0.0.1 - - [22/Oct/2023 18:39:28] \"POST /add_step HTTP/1.1\" 200 166 0.000649\n"
     ]
    },
    {
     "name": "stdout",
     "output_type": "stream",
     "text": [
      "<Response [200]>\n"
     ]
    },
    {
     "name": "stderr",
     "output_type": "stream",
     "text": [
      "(41821) accepted ('127.0.0.1', 62843)\n",
      "173.20.233.125,127.0.0.1 - - [22/Oct/2023 18:39:29] \"POST /add_step HTTP/1.1\" 200 166 0.000732\n"
     ]
    },
    {
     "name": "stdout",
     "output_type": "stream",
     "text": [
      "<Response [200]>\n"
     ]
    },
    {
     "name": "stderr",
     "output_type": "stream",
     "text": [
      "(41821) accepted ('127.0.0.1', 64214)\n",
      "173.20.233.125,127.0.0.1 - - [22/Oct/2023 18:39:30] \"POST /add_step HTTP/1.1\" 200 166 0.001612\n"
     ]
    },
    {
     "name": "stdout",
     "output_type": "stream",
     "text": [
      "<Response [200]>\n"
     ]
    },
    {
     "name": "stderr",
     "output_type": "stream",
     "text": [
      "(41821) accepted ('127.0.0.1', 49180)\n",
      "173.20.233.125,127.0.0.1 - - [22/Oct/2023 18:39:31] \"POST /add_step HTTP/1.1\" 200 166 0.000624\n"
     ]
    },
    {
     "name": "stdout",
     "output_type": "stream",
     "text": [
      "<Response [200]>\n"
     ]
    },
    {
     "name": "stderr",
     "output_type": "stream",
     "text": [
      "(41821) accepted ('127.0.0.1', 50634)\n",
      "173.20.233.125,127.0.0.1 - - [22/Oct/2023 18:39:32] \"POST /add_step HTTP/1.1\" 200 166 0.007026\n"
     ]
    },
    {
     "name": "stdout",
     "output_type": "stream",
     "text": [
      "<Response [200]>\n"
     ]
    },
    {
     "name": "stderr",
     "output_type": "stream",
     "text": [
      "(41821) accepted ('127.0.0.1', 52205)\n",
      "173.20.233.125,127.0.0.1 - - [22/Oct/2023 18:39:32] \"POST /add_step HTTP/1.1\" 200 166 0.001485\n"
     ]
    },
    {
     "name": "stdout",
     "output_type": "stream",
     "text": [
      "<Response [200]>\n"
     ]
    },
    {
     "name": "stderr",
     "output_type": "stream",
     "text": [
      "(41821) accepted ('127.0.0.1', 53661)\n",
      "173.20.233.125,127.0.0.1 - - [22/Oct/2023 18:39:33] \"POST /add_step HTTP/1.1\" 200 166 0.000500\n"
     ]
    },
    {
     "name": "stdout",
     "output_type": "stream",
     "text": [
      "<Response [200]>\n"
     ]
    },
    {
     "name": "stderr",
     "output_type": "stream",
     "text": [
      "(41821) accepted ('127.0.0.1', 55070)\n",
      "173.20.233.125,127.0.0.1 - - [22/Oct/2023 18:39:34] \"POST /add_step HTTP/1.1\" 200 166 0.000672\n"
     ]
    },
    {
     "name": "stdout",
     "output_type": "stream",
     "text": [
      "<Response [200]>\n"
     ]
    },
    {
     "name": "stderr",
     "output_type": "stream",
     "text": [
      "(41821) accepted ('127.0.0.1', 56562)\n",
      "173.20.233.125,127.0.0.1 - - [22/Oct/2023 18:39:35] \"POST /add_step HTTP/1.1\" 200 166 0.000506\n"
     ]
    },
    {
     "name": "stdout",
     "output_type": "stream",
     "text": [
      "<Response [200]>\n"
     ]
    },
    {
     "name": "stderr",
     "output_type": "stream",
     "text": [
      "(41821) accepted ('127.0.0.1', 57939)\n",
      "173.20.233.125,127.0.0.1 - - [22/Oct/2023 18:39:36] \"POST /add_step HTTP/1.1\" 200 166 0.001122\n"
     ]
    },
    {
     "name": "stdout",
     "output_type": "stream",
     "text": [
      "<Response [200]>\n"
     ]
    },
    {
     "name": "stderr",
     "output_type": "stream",
     "text": [
      "(41821) accepted ('127.0.0.1', 59673)\n",
      "173.20.233.125,127.0.0.1 - - [22/Oct/2023 18:39:36] \"POST /add_step HTTP/1.1\" 200 166 0.000653\n"
     ]
    },
    {
     "name": "stdout",
     "output_type": "stream",
     "text": [
      "<Response [200]>\n"
     ]
    },
    {
     "name": "stderr",
     "output_type": "stream",
     "text": [
      "(41821) accepted ('127.0.0.1', 61300)\n",
      "173.20.233.125,127.0.0.1 - - [22/Oct/2023 18:39:37] \"POST /add_step HTTP/1.1\" 200 166 0.000476\n"
     ]
    },
    {
     "name": "stdout",
     "output_type": "stream",
     "text": [
      "<Response [200]>\n"
     ]
    },
    {
     "name": "stderr",
     "output_type": "stream",
     "text": [
      "(41821) accepted ('127.0.0.1', 62627)\n",
      "173.20.233.125,127.0.0.1 - - [22/Oct/2023 18:39:38] \"POST /add_step HTTP/1.1\" 200 166 0.000704\n"
     ]
    },
    {
     "name": "stdout",
     "output_type": "stream",
     "text": [
      "<Response [200]>\n"
     ]
    },
    {
     "name": "stderr",
     "output_type": "stream",
     "text": [
      "(41821) accepted ('127.0.0.1', 64111)\n",
      "173.20.233.125,127.0.0.1 - - [22/Oct/2023 18:39:39] \"POST /add_step HTTP/1.1\" 200 166 0.000528\n"
     ]
    },
    {
     "name": "stdout",
     "output_type": "stream",
     "text": [
      "<Response [200]>\n"
     ]
    },
    {
     "name": "stderr",
     "output_type": "stream",
     "text": [
      "(41821) accepted ('127.0.0.1', 65469)\n",
      "173.20.233.125,127.0.0.1 - - [22/Oct/2023 18:39:40] \"POST /add_step HTTP/1.1\" 200 166 0.000789\n"
     ]
    },
    {
     "name": "stdout",
     "output_type": "stream",
     "text": [
      "<Response [200]>\n"
     ]
    },
    {
     "name": "stderr",
     "output_type": "stream",
     "text": [
      "(41821) accepted ('127.0.0.1', 51389)\n",
      "173.20.233.125,127.0.0.1 - - [22/Oct/2023 18:39:41] \"POST /add_step HTTP/1.1\" 200 166 0.000851\n"
     ]
    },
    {
     "name": "stdout",
     "output_type": "stream",
     "text": [
      "<Response [200]>\n"
     ]
    },
    {
     "name": "stderr",
     "output_type": "stream",
     "text": [
      "(41821) accepted ('127.0.0.1', 52713)\n",
      "173.20.233.125,127.0.0.1 - - [22/Oct/2023 18:39:42] \"POST /add_step HTTP/1.1\" 200 166 0.000439\n"
     ]
    },
    {
     "name": "stdout",
     "output_type": "stream",
     "text": [
      "<Response [200]>\n"
     ]
    },
    {
     "name": "stderr",
     "output_type": "stream",
     "text": [
      "(41821) accepted ('127.0.0.1', 53964)\n",
      "173.20.233.125,127.0.0.1 - - [22/Oct/2023 18:39:42] \"POST /add_step HTTP/1.1\" 200 166 0.000500\n"
     ]
    },
    {
     "name": "stdout",
     "output_type": "stream",
     "text": [
      "<Response [200]>\n"
     ]
    },
    {
     "name": "stderr",
     "output_type": "stream",
     "text": [
      "(41821) accepted ('127.0.0.1', 55458)\n",
      "173.20.233.125,127.0.0.1 - - [22/Oct/2023 18:39:43] \"POST /add_step HTTP/1.1\" 200 166 0.000490\n"
     ]
    },
    {
     "name": "stdout",
     "output_type": "stream",
     "text": [
      "<Response [200]>\n"
     ]
    },
    {
     "name": "stderr",
     "output_type": "stream",
     "text": [
      "(41821) accepted ('127.0.0.1', 56739)\n",
      "173.20.233.125,127.0.0.1 - - [22/Oct/2023 18:39:44] \"POST /add_step HTTP/1.1\" 200 166 0.000753\n"
     ]
    },
    {
     "name": "stdout",
     "output_type": "stream",
     "text": [
      "<Response [200]>\n"
     ]
    },
    {
     "name": "stderr",
     "output_type": "stream",
     "text": [
      "(41821) accepted ('127.0.0.1', 58072)\n",
      "173.20.233.125,127.0.0.1 - - [22/Oct/2023 18:39:45] \"POST /add_step HTTP/1.1\" 200 166 0.000450\n"
     ]
    },
    {
     "name": "stdout",
     "output_type": "stream",
     "text": [
      "<Response [200]>\n"
     ]
    },
    {
     "name": "stderr",
     "output_type": "stream",
     "text": [
      "(41821) accepted ('127.0.0.1', 59224)\n",
      "173.20.233.125,127.0.0.1 - - [22/Oct/2023 18:39:45] \"POST /add_step HTTP/1.1\" 200 166 0.000444\n"
     ]
    },
    {
     "name": "stdout",
     "output_type": "stream",
     "text": [
      "<Response [200]>\n"
     ]
    },
    {
     "name": "stderr",
     "output_type": "stream",
     "text": [
      "(41821) accepted ('127.0.0.1', 60354)\n",
      "173.20.233.125,127.0.0.1 - - [22/Oct/2023 18:39:46] \"POST /add_step HTTP/1.1\" 200 166 0.000554\n"
     ]
    },
    {
     "name": "stdout",
     "output_type": "stream",
     "text": [
      "<Response [200]>\n"
     ]
    },
    {
     "name": "stderr",
     "output_type": "stream",
     "text": [
      "(41821) accepted ('127.0.0.1', 61502)\n",
      "173.20.233.125,127.0.0.1 - - [22/Oct/2023 18:39:46] \"POST /add_step HTTP/1.1\" 200 166 0.000457\n"
     ]
    },
    {
     "name": "stdout",
     "output_type": "stream",
     "text": [
      "<Response [200]>\n"
     ]
    },
    {
     "name": "stderr",
     "output_type": "stream",
     "text": [
      "(41821) accepted ('127.0.0.1', 62660)\n",
      "173.20.233.125,127.0.0.1 - - [22/Oct/2023 18:39:47] \"POST /add_step HTTP/1.1\" 200 166 0.001158\n"
     ]
    },
    {
     "name": "stdout",
     "output_type": "stream",
     "text": [
      "<Response [200]>\n"
     ]
    },
    {
     "name": "stderr",
     "output_type": "stream",
     "text": [
      "(41821) accepted ('127.0.0.1', 63998)\n",
      "173.20.233.125,127.0.0.1 - - [22/Oct/2023 18:39:48] \"POST /add_step HTTP/1.1\" 200 166 0.000810\n"
     ]
    },
    {
     "name": "stdout",
     "output_type": "stream",
     "text": [
      "<Response [200]>\n"
     ]
    },
    {
     "name": "stderr",
     "output_type": "stream",
     "text": [
      "(41821) accepted ('127.0.0.1', 65392)\n",
      "173.20.233.125,127.0.0.1 - - [22/Oct/2023 18:39:49] \"POST /add_step HTTP/1.1\" 200 166 0.000538\n"
     ]
    },
    {
     "name": "stdout",
     "output_type": "stream",
     "text": [
      "<Response [200]>\n"
     ]
    },
    {
     "name": "stderr",
     "output_type": "stream",
     "text": [
      "(41821) accepted ('127.0.0.1', 50400)\n",
      "173.20.233.125,127.0.0.1 - - [22/Oct/2023 18:39:49] \"POST /add_step HTTP/1.1\" 200 166 0.000549\n"
     ]
    },
    {
     "name": "stdout",
     "output_type": "stream",
     "text": [
      "<Response [200]>\n"
     ]
    },
    {
     "name": "stderr",
     "output_type": "stream",
     "text": [
      "(41821) accepted ('127.0.0.1', 51775)\n",
      "173.20.233.125,127.0.0.1 - - [22/Oct/2023 18:39:50] \"POST /add_step HTTP/1.1\" 200 166 0.000752\n"
     ]
    },
    {
     "name": "stdout",
     "output_type": "stream",
     "text": [
      "<Response [200]>\n"
     ]
    },
    {
     "name": "stderr",
     "output_type": "stream",
     "text": [
      "(41821) accepted ('127.0.0.1', 53007)\n",
      "173.20.233.125,127.0.0.1 - - [22/Oct/2023 18:39:51] \"POST /add_step HTTP/1.1\" 200 166 0.000859\n"
     ]
    },
    {
     "name": "stdout",
     "output_type": "stream",
     "text": [
      "<Response [200]>\n"
     ]
    },
    {
     "name": "stderr",
     "output_type": "stream",
     "text": [
      "(41821) accepted ('127.0.0.1', 54237)\n",
      "173.20.233.125,127.0.0.1 - - [22/Oct/2023 18:39:51] \"POST /add_step HTTP/1.1\" 200 166 0.000438\n"
     ]
    },
    {
     "name": "stdout",
     "output_type": "stream",
     "text": [
      "<Response [200]>\n"
     ]
    },
    {
     "name": "stderr",
     "output_type": "stream",
     "text": [
      "(41821) accepted ('127.0.0.1', 55322)\n",
      "173.20.233.125,127.0.0.1 - - [22/Oct/2023 18:39:52] \"POST /add_step HTTP/1.1\" 200 166 0.000477\n"
     ]
    },
    {
     "name": "stdout",
     "output_type": "stream",
     "text": [
      "<Response [200]>\n"
     ]
    },
    {
     "name": "stderr",
     "output_type": "stream",
     "text": [
      "(41821) accepted ('127.0.0.1', 56414)\n",
      "173.20.233.125,127.0.0.1 - - [22/Oct/2023 18:39:53] \"POST /add_step HTTP/1.1\" 200 166 0.000553\n"
     ]
    },
    {
     "name": "stdout",
     "output_type": "stream",
     "text": [
      "<Response [200]>\n"
     ]
    },
    {
     "name": "stderr",
     "output_type": "stream",
     "text": [
      "(41821) accepted ('127.0.0.1', 57570)\n",
      "173.20.233.125,127.0.0.1 - - [22/Oct/2023 18:39:53] \"POST /add_step HTTP/1.1\" 200 166 0.000760\n"
     ]
    },
    {
     "name": "stdout",
     "output_type": "stream",
     "text": [
      "<Response [200]>\n"
     ]
    },
    {
     "name": "stderr",
     "output_type": "stream",
     "text": [
      "(41821) accepted ('127.0.0.1', 59054)\n",
      "173.20.233.125,127.0.0.1 - - [22/Oct/2023 18:39:54] \"POST /add_step HTTP/1.1\" 200 166 0.000515\n"
     ]
    },
    {
     "name": "stdout",
     "output_type": "stream",
     "text": [
      "<Response [200]>\n"
     ]
    },
    {
     "name": "stderr",
     "output_type": "stream",
     "text": [
      "(41821) accepted ('127.0.0.1', 60187)\n",
      "173.20.233.125,127.0.0.1 - - [22/Oct/2023 18:39:55] \"POST /add_step HTTP/1.1\" 200 166 0.000424\n"
     ]
    },
    {
     "name": "stdout",
     "output_type": "stream",
     "text": [
      "<Response [200]>\n"
     ]
    },
    {
     "name": "stderr",
     "output_type": "stream",
     "text": [
      "(41821) accepted ('127.0.0.1', 61332)\n",
      "173.20.233.125,127.0.0.1 - - [22/Oct/2023 18:39:55] \"POST /add_step HTTP/1.1\" 200 166 0.000438\n"
     ]
    },
    {
     "name": "stdout",
     "output_type": "stream",
     "text": [
      "<Response [200]>\n"
     ]
    },
    {
     "name": "stderr",
     "output_type": "stream",
     "text": [
      "(41821) accepted ('127.0.0.1', 62419)\n",
      "173.20.233.125,127.0.0.1 - - [22/Oct/2023 18:39:56] \"POST /add_step HTTP/1.1\" 200 166 0.000437\n"
     ]
    },
    {
     "name": "stdout",
     "output_type": "stream",
     "text": [
      "<Response [200]>\n"
     ]
    },
    {
     "name": "stderr",
     "output_type": "stream",
     "text": [
      "(41821) accepted ('127.0.0.1', 63501)\n",
      "173.20.233.125,127.0.0.1 - - [22/Oct/2023 18:39:56] \"POST /add_step HTTP/1.1\" 200 166 0.000543\n"
     ]
    },
    {
     "name": "stdout",
     "output_type": "stream",
     "text": [
      "<Response [200]>\n"
     ]
    },
    {
     "name": "stderr",
     "output_type": "stream",
     "text": [
      "(41821) accepted ('127.0.0.1', 64725)\n",
      "173.20.233.125,127.0.0.1 - - [22/Oct/2023 18:39:57] \"POST /add_step HTTP/1.1\" 200 166 0.000827\n"
     ]
    },
    {
     "name": "stdout",
     "output_type": "stream",
     "text": [
      "<Response [200]>\n"
     ]
    },
    {
     "name": "stderr",
     "output_type": "stream",
     "text": [
      "(41821) accepted ('127.0.0.1', 49500)\n",
      "173.20.233.125,127.0.0.1 - - [22/Oct/2023 18:39:58] \"POST /add_step HTTP/1.1\" 200 166 0.000612\n"
     ]
    },
    {
     "name": "stdout",
     "output_type": "stream",
     "text": [
      "<Response [200]>\n"
     ]
    },
    {
     "name": "stderr",
     "output_type": "stream",
     "text": [
      "(41821) accepted ('127.0.0.1', 50645)\n",
      "173.20.233.125,127.0.0.1 - - [22/Oct/2023 18:39:58] \"POST /add_step HTTP/1.1\" 200 166 0.000446\n"
     ]
    },
    {
     "name": "stdout",
     "output_type": "stream",
     "text": [
      "<Response [200]>\n"
     ]
    },
    {
     "name": "stderr",
     "output_type": "stream",
     "text": [
      "(41821) accepted ('127.0.0.1', 51816)\n",
      "173.20.233.125,127.0.0.1 - - [22/Oct/2023 18:39:59] \"POST /add_step HTTP/1.1\" 200 166 0.000524\n"
     ]
    },
    {
     "name": "stdout",
     "output_type": "stream",
     "text": [
      "<Response [200]>\n"
     ]
    },
    {
     "name": "stderr",
     "output_type": "stream",
     "text": [
      "(41821) accepted ('127.0.0.1', 53011)\n",
      "173.20.233.125,127.0.0.1 - - [22/Oct/2023 18:40:00] \"POST /add_step HTTP/1.1\" 200 166 0.000452\n"
     ]
    },
    {
     "name": "stdout",
     "output_type": "stream",
     "text": [
      "<Response [200]>\n"
     ]
    },
    {
     "name": "stderr",
     "output_type": "stream",
     "text": [
      "(41821) accepted ('127.0.0.1', 54182)\n",
      "173.20.233.125,127.0.0.1 - - [22/Oct/2023 18:40:00] \"POST /add_step HTTP/1.1\" 200 166 0.000441\n"
     ]
    },
    {
     "name": "stdout",
     "output_type": "stream",
     "text": [
      "<Response [200]>\n"
     ]
    },
    {
     "name": "stderr",
     "output_type": "stream",
     "text": [
      "(41821) accepted ('127.0.0.1', 55375)\n",
      "173.20.233.125,127.0.0.1 - - [22/Oct/2023 18:40:01] \"POST /add_step HTTP/1.1\" 200 166 0.000436\n"
     ]
    },
    {
     "name": "stdout",
     "output_type": "stream",
     "text": [
      "<Response [200]>\n"
     ]
    },
    {
     "name": "stderr",
     "output_type": "stream",
     "text": [
      "(41821) accepted ('127.0.0.1', 56531)\n",
      "173.20.233.125,127.0.0.1 - - [22/Oct/2023 18:40:01] \"POST /add_step HTTP/1.1\" 200 166 0.000447\n"
     ]
    },
    {
     "name": "stdout",
     "output_type": "stream",
     "text": [
      "<Response [200]>\n"
     ]
    },
    {
     "name": "stderr",
     "output_type": "stream",
     "text": [
      "(41821) accepted ('127.0.0.1', 57707)\n",
      "173.20.233.125,127.0.0.1 - - [22/Oct/2023 18:40:02] \"POST /add_step HTTP/1.1\" 200 166 0.000440\n"
     ]
    },
    {
     "name": "stdout",
     "output_type": "stream",
     "text": [
      "<Response [200]>\n"
     ]
    },
    {
     "name": "stderr",
     "output_type": "stream",
     "text": [
      "(41821) accepted ('127.0.0.1', 58931)\n",
      "173.20.233.125,127.0.0.1 - - [22/Oct/2023 18:40:03] \"POST /add_step HTTP/1.1\" 200 166 0.000878\n"
     ]
    },
    {
     "name": "stdout",
     "output_type": "stream",
     "text": [
      "<Response [200]>\n"
     ]
    },
    {
     "name": "stderr",
     "output_type": "stream",
     "text": [
      "(41821) accepted ('127.0.0.1', 60279)\n",
      "173.20.233.125,127.0.0.1 - - [22/Oct/2023 18:40:04] \"POST /add_step HTTP/1.1\" 200 166 0.000432\n"
     ]
    },
    {
     "name": "stdout",
     "output_type": "stream",
     "text": [
      "<Response [200]>\n"
     ]
    },
    {
     "name": "stderr",
     "output_type": "stream",
     "text": [
      "(41821) accepted ('127.0.0.1', 61408)\n",
      "173.20.233.125,127.0.0.1 - - [22/Oct/2023 18:40:04] \"POST /add_step HTTP/1.1\" 200 166 0.000521\n"
     ]
    },
    {
     "name": "stdout",
     "output_type": "stream",
     "text": [
      "<Response [200]>\n"
     ]
    },
    {
     "name": "stderr",
     "output_type": "stream",
     "text": [
      "(41821) accepted ('127.0.0.1', 62633)\n",
      "173.20.233.125,127.0.0.1 - - [22/Oct/2023 18:40:05] \"POST /add_step HTTP/1.1\" 200 166 0.000749\n"
     ]
    },
    {
     "name": "stdout",
     "output_type": "stream",
     "text": [
      "<Response [200]>\n"
     ]
    },
    {
     "name": "stderr",
     "output_type": "stream",
     "text": [
      "(41821) accepted ('127.0.0.1', 63763)\n",
      "173.20.233.125,127.0.0.1 - - [22/Oct/2023 18:40:05] \"POST /add_step HTTP/1.1\" 200 166 0.000476\n"
     ]
    },
    {
     "name": "stdout",
     "output_type": "stream",
     "text": [
      "<Response [200]>\n"
     ]
    },
    {
     "name": "stderr",
     "output_type": "stream",
     "text": [
      "(41821) accepted ('127.0.0.1', 64930)\n",
      "173.20.233.125,127.0.0.1 - - [22/Oct/2023 18:40:06] \"POST /add_step HTTP/1.1\" 200 166 0.000492\n"
     ]
    },
    {
     "name": "stdout",
     "output_type": "stream",
     "text": [
      "<Response [200]>\n"
     ]
    },
    {
     "name": "stderr",
     "output_type": "stream",
     "text": [
      "(41821) accepted ('127.0.0.1', 49667)\n",
      "173.20.233.125,127.0.0.1 - - [22/Oct/2023 18:40:07] \"POST /add_step HTTP/1.1\" 200 166 0.000462\n"
     ]
    },
    {
     "name": "stdout",
     "output_type": "stream",
     "text": [
      "<Response [200]>\n"
     ]
    },
    {
     "name": "stderr",
     "output_type": "stream",
     "text": [
      "(41821) accepted ('127.0.0.1', 50813)\n",
      "173.20.233.125,127.0.0.1 - - [22/Oct/2023 18:40:07] \"POST /add_step HTTP/1.1\" 200 166 0.000809\n"
     ]
    },
    {
     "name": "stdout",
     "output_type": "stream",
     "text": [
      "<Response [200]>\n"
     ]
    },
    {
     "name": "stderr",
     "output_type": "stream",
     "text": [
      "(41821) accepted ('127.0.0.1', 51930)\n",
      "173.20.233.125,127.0.0.1 - - [22/Oct/2023 18:40:08] \"POST /add_step HTTP/1.1\" 200 166 0.000432\n"
     ]
    },
    {
     "name": "stdout",
     "output_type": "stream",
     "text": [
      "<Response [200]>\n"
     ]
    },
    {
     "name": "stderr",
     "output_type": "stream",
     "text": [
      "(41821) accepted ('127.0.0.1', 53051)\n",
      "173.20.233.125,127.0.0.1 - - [22/Oct/2023 18:40:09] \"POST /add_step HTTP/1.1\" 200 166 0.000453\n"
     ]
    },
    {
     "name": "stdout",
     "output_type": "stream",
     "text": [
      "<Response [200]>\n"
     ]
    },
    {
     "name": "stderr",
     "output_type": "stream",
     "text": [
      "(41821) accepted ('127.0.0.1', 54192)\n",
      "173.20.233.125,127.0.0.1 - - [22/Oct/2023 18:40:09] \"POST /add_step HTTP/1.1\" 200 166 0.000540\n"
     ]
    },
    {
     "name": "stdout",
     "output_type": "stream",
     "text": [
      "<Response [200]>\n"
     ]
    },
    {
     "name": "stderr",
     "output_type": "stream",
     "text": [
      "(41821) accepted ('127.0.0.1', 55572)\n",
      "173.20.233.125,127.0.0.1 - - [22/Oct/2023 18:40:10] \"POST /add_step HTTP/1.1\" 200 166 0.000485\n"
     ]
    },
    {
     "name": "stdout",
     "output_type": "stream",
     "text": [
      "<Response [200]>\n"
     ]
    },
    {
     "name": "stderr",
     "output_type": "stream",
     "text": [
      "(41821) accepted ('127.0.0.1', 56705)\n",
      "173.20.233.125,127.0.0.1 - - [22/Oct/2023 18:40:10] \"POST /add_step HTTP/1.1\" 200 166 0.000436\n"
     ]
    },
    {
     "name": "stdout",
     "output_type": "stream",
     "text": [
      "<Response [200]>\n"
     ]
    },
    {
     "name": "stderr",
     "output_type": "stream",
     "text": [
      "(41821) accepted ('127.0.0.1', 57877)\n",
      "173.20.233.125,127.0.0.1 - - [22/Oct/2023 18:40:11] \"POST /add_step HTTP/1.1\" 200 166 0.000426\n"
     ]
    },
    {
     "name": "stdout",
     "output_type": "stream",
     "text": [
      "<Response [200]>\n"
     ]
    },
    {
     "name": "stderr",
     "output_type": "stream",
     "text": [
      "(41821) accepted ('127.0.0.1', 59010)\n",
      "173.20.233.125,127.0.0.1 - - [22/Oct/2023 18:40:12] \"POST /add_step HTTP/1.1\" 200 166 0.000440\n"
     ]
    },
    {
     "name": "stdout",
     "output_type": "stream",
     "text": [
      "<Response [200]>\n"
     ]
    },
    {
     "name": "stderr",
     "output_type": "stream",
     "text": [
      "(41821) accepted ('127.0.0.1', 60110)\n",
      "173.20.233.125,127.0.0.1 - - [22/Oct/2023 18:40:12] \"POST /add_step HTTP/1.1\" 200 166 0.001935\n"
     ]
    },
    {
     "name": "stdout",
     "output_type": "stream",
     "text": [
      "<Response [200]>\n"
     ]
    },
    {
     "name": "stderr",
     "output_type": "stream",
     "text": [
      "(41821) accepted ('127.0.0.1', 61499)\n",
      "173.20.233.125,127.0.0.1 - - [22/Oct/2023 18:40:13] \"POST /add_step HTTP/1.1\" 200 166 0.000758\n"
     ]
    },
    {
     "name": "stdout",
     "output_type": "stream",
     "text": [
      "<Response [200]>\n"
     ]
    },
    {
     "name": "stderr",
     "output_type": "stream",
     "text": [
      "(41821) accepted ('127.0.0.1', 62842)\n",
      "173.20.233.125,127.0.0.1 - - [22/Oct/2023 18:40:14] \"POST /add_step HTTP/1.1\" 200 166 0.000873\n"
     ]
    },
    {
     "name": "stdout",
     "output_type": "stream",
     "text": [
      "<Response [200]>\n"
     ]
    },
    {
     "name": "stderr",
     "output_type": "stream",
     "text": [
      "(41821) accepted ('127.0.0.1', 64398)\n",
      "173.20.233.125,127.0.0.1 - - [22/Oct/2023 18:40:15] \"POST /add_step HTTP/1.1\" 200 166 0.001062\n"
     ]
    },
    {
     "name": "stdout",
     "output_type": "stream",
     "text": [
      "<Response [200]>\n"
     ]
    },
    {
     "name": "stderr",
     "output_type": "stream",
     "text": [
      "(41821) accepted ('127.0.0.1', 49516)\n",
      "173.20.233.125,127.0.0.1 - - [22/Oct/2023 18:40:16] \"POST /add_step HTTP/1.1\" 200 166 0.000484\n"
     ]
    },
    {
     "name": "stdout",
     "output_type": "stream",
     "text": [
      "<Response [200]>\n"
     ]
    },
    {
     "name": "stderr",
     "output_type": "stream",
     "text": [
      "(41821) accepted ('127.0.0.1', 50677)\n",
      "173.20.233.125,127.0.0.1 - - [22/Oct/2023 18:40:16] \"POST /add_step HTTP/1.1\" 200 166 0.000685\n"
     ]
    },
    {
     "name": "stdout",
     "output_type": "stream",
     "text": [
      "<Response [200]>\n"
     ]
    },
    {
     "name": "stderr",
     "output_type": "stream",
     "text": [
      "(41821) accepted ('127.0.0.1', 52077)\n",
      "173.20.233.125,127.0.0.1 - - [22/Oct/2023 18:40:17] \"POST /add_step HTTP/1.1\" 200 166 0.000614\n"
     ]
    },
    {
     "name": "stdout",
     "output_type": "stream",
     "text": [
      "<Response [200]>\n"
     ]
    },
    {
     "name": "stderr",
     "output_type": "stream",
     "text": [
      "(41821) accepted ('127.0.0.1', 53332)\n",
      "173.20.233.125,127.0.0.1 - - [22/Oct/2023 18:40:18] \"POST /add_step HTTP/1.1\" 200 166 0.000443\n"
     ]
    },
    {
     "name": "stdout",
     "output_type": "stream",
     "text": [
      "<Response [200]>\n"
     ]
    },
    {
     "name": "stderr",
     "output_type": "stream",
     "text": [
      "(41821) accepted ('127.0.0.1', 54672)\n",
      "173.20.233.125,127.0.0.1 - - [22/Oct/2023 18:40:18] \"POST /add_step HTTP/1.1\" 200 166 0.000621\n"
     ]
    },
    {
     "name": "stdout",
     "output_type": "stream",
     "text": [
      "<Response [200]>\n"
     ]
    },
    {
     "name": "stderr",
     "output_type": "stream",
     "text": [
      "(41821) accepted ('127.0.0.1', 55790)\n",
      "173.20.233.125,127.0.0.1 - - [22/Oct/2023 18:40:19] \"POST /add_step HTTP/1.1\" 200 166 0.000826\n"
     ]
    },
    {
     "name": "stdout",
     "output_type": "stream",
     "text": [
      "<Response [200]>\n"
     ]
    },
    {
     "name": "stderr",
     "output_type": "stream",
     "text": [
      "(41821) accepted ('127.0.0.1', 56911)\n",
      "173.20.233.125,127.0.0.1 - - [22/Oct/2023 18:40:20] \"POST /add_step HTTP/1.1\" 200 166 0.001810\n"
     ]
    },
    {
     "name": "stdout",
     "output_type": "stream",
     "text": [
      "<Response [200]>\n"
     ]
    },
    {
     "name": "stderr",
     "output_type": "stream",
     "text": [
      "(41821) accepted ('127.0.0.1', 58309)\n",
      "173.20.233.125,127.0.0.1 - - [22/Oct/2023 18:40:20] \"POST /add_step HTTP/1.1\" 200 166 0.000491\n"
     ]
    },
    {
     "name": "stdout",
     "output_type": "stream",
     "text": [
      "<Response [200]>\n"
     ]
    },
    {
     "name": "stderr",
     "output_type": "stream",
     "text": [
      "(41821) accepted ('127.0.0.1', 59400)\n",
      "173.20.233.125,127.0.0.1 - - [22/Oct/2023 18:40:21] \"POST /add_step HTTP/1.1\" 200 166 0.000484\n"
     ]
    },
    {
     "name": "stdout",
     "output_type": "stream",
     "text": [
      "<Response [200]>\n"
     ]
    },
    {
     "name": "stderr",
     "output_type": "stream",
     "text": [
      "(41821) accepted ('127.0.0.1', 60506)\n",
      "173.20.233.125,127.0.0.1 - - [22/Oct/2023 18:40:21] \"POST /add_step HTTP/1.1\" 200 166 0.000446\n"
     ]
    },
    {
     "name": "stdout",
     "output_type": "stream",
     "text": [
      "<Response [200]>\n"
     ]
    },
    {
     "name": "stderr",
     "output_type": "stream",
     "text": [
      "(41821) accepted ('127.0.0.1', 61645)\n",
      "173.20.233.125,127.0.0.1 - - [22/Oct/2023 18:40:22] \"POST /add_step HTTP/1.1\" 200 166 0.000470\n"
     ]
    },
    {
     "name": "stdout",
     "output_type": "stream",
     "text": [
      "<Response [200]>\n"
     ]
    },
    {
     "name": "stderr",
     "output_type": "stream",
     "text": [
      "(41821) accepted ('127.0.0.1', 62943)\n",
      "173.20.233.125,127.0.0.1 - - [22/Oct/2023 18:40:23] \"POST /add_step HTTP/1.1\" 200 166 0.000998\n"
     ]
    },
    {
     "name": "stdout",
     "output_type": "stream",
     "text": [
      "<Response [200]>\n"
     ]
    },
    {
     "name": "stderr",
     "output_type": "stream",
     "text": [
      "(41821) accepted ('127.0.0.1', 64159)\n",
      "173.20.233.125,127.0.0.1 - - [22/Oct/2023 18:40:24] \"POST /add_step HTTP/1.1\" 200 166 0.000598\n"
     ]
    },
    {
     "name": "stdout",
     "output_type": "stream",
     "text": [
      "<Response [200]>\n"
     ]
    },
    {
     "name": "stderr",
     "output_type": "stream",
     "text": [
      "(41821) accepted ('127.0.0.1', 65350)\n",
      "173.20.233.125,127.0.0.1 - - [22/Oct/2023 18:40:24] \"POST /add_step HTTP/1.1\" 200 166 0.001144\n"
     ]
    },
    {
     "name": "stdout",
     "output_type": "stream",
     "text": [
      "<Response [200]>\n"
     ]
    },
    {
     "name": "stderr",
     "output_type": "stream",
     "text": [
      "(41821) accepted ('127.0.0.1', 50434)\n",
      "173.20.233.125,127.0.0.1 - - [22/Oct/2023 18:40:25] \"POST /add_step HTTP/1.1\" 200 166 0.000814\n"
     ]
    },
    {
     "name": "stdout",
     "output_type": "stream",
     "text": [
      "<Response [200]>\n"
     ]
    },
    {
     "name": "stderr",
     "output_type": "stream",
     "text": [
      "(41821) accepted ('127.0.0.1', 51817)\n",
      "173.20.233.125,127.0.0.1 - - [22/Oct/2023 18:40:26] \"POST /add_step HTTP/1.1\" 200 166 0.000510\n"
     ]
    },
    {
     "name": "stdout",
     "output_type": "stream",
     "text": [
      "<Response [200]>\n"
     ]
    },
    {
     "name": "stderr",
     "output_type": "stream",
     "text": [
      "(41821) accepted ('127.0.0.1', 53202)\n",
      "173.20.233.125,127.0.0.1 - - [22/Oct/2023 18:40:26] \"POST /add_step HTTP/1.1\" 200 166 0.000479\n"
     ]
    },
    {
     "name": "stdout",
     "output_type": "stream",
     "text": [
      "<Response [200]>\n"
     ]
    },
    {
     "name": "stderr",
     "output_type": "stream",
     "text": [
      "(41821) accepted ('127.0.0.1', 54771)\n",
      "173.20.233.125,127.0.0.1 - - [22/Oct/2023 18:40:27] \"POST /add_step HTTP/1.1\" 200 166 0.000594\n"
     ]
    },
    {
     "name": "stdout",
     "output_type": "stream",
     "text": [
      "<Response [200]>\n"
     ]
    },
    {
     "name": "stderr",
     "output_type": "stream",
     "text": [
      "(41821) accepted ('127.0.0.1', 56134)\n",
      "173.20.233.125,127.0.0.1 - - [22/Oct/2023 18:40:28] \"POST /add_step HTTP/1.1\" 200 166 0.000730\n"
     ]
    },
    {
     "name": "stdout",
     "output_type": "stream",
     "text": [
      "<Response [200]>\n"
     ]
    },
    {
     "name": "stderr",
     "output_type": "stream",
     "text": [
      "(41821) accepted ('127.0.0.1', 57577)\n",
      "173.20.233.125,127.0.0.1 - - [22/Oct/2023 18:40:29] \"POST /add_step HTTP/1.1\" 200 166 0.000683\n"
     ]
    },
    {
     "name": "stdout",
     "output_type": "stream",
     "text": [
      "<Response [200]>\n"
     ]
    },
    {
     "name": "stderr",
     "output_type": "stream",
     "text": [
      "(41821) accepted ('127.0.0.1', 58904)\n",
      "173.20.233.125,127.0.0.1 - - [22/Oct/2023 18:40:30] \"POST /add_step HTTP/1.1\" 200 166 0.000444\n"
     ]
    },
    {
     "name": "stdout",
     "output_type": "stream",
     "text": [
      "<Response [200]>\n"
     ]
    },
    {
     "name": "stderr",
     "output_type": "stream",
     "text": [
      "(41821) accepted ('127.0.0.1', 60180)\n",
      "173.20.233.125,127.0.0.1 - - [22/Oct/2023 18:40:30] \"POST /add_step HTTP/1.1\" 200 166 0.000525\n"
     ]
    },
    {
     "name": "stdout",
     "output_type": "stream",
     "text": [
      "<Response [200]>\n"
     ]
    },
    {
     "name": "stderr",
     "output_type": "stream",
     "text": [
      "(41821) accepted ('127.0.0.1', 61482)\n",
      "173.20.233.125,127.0.0.1 - - [22/Oct/2023 18:40:31] \"POST /add_step HTTP/1.1\" 200 166 0.000448\n"
     ]
    },
    {
     "name": "stdout",
     "output_type": "stream",
     "text": [
      "<Response [200]>\n"
     ]
    },
    {
     "name": "stderr",
     "output_type": "stream",
     "text": [
      "(41821) accepted ('127.0.0.1', 62802)\n",
      "173.20.233.125,127.0.0.1 - - [22/Oct/2023 18:40:32] \"POST /add_step HTTP/1.1\" 200 166 0.000489\n"
     ]
    },
    {
     "name": "stdout",
     "output_type": "stream",
     "text": [
      "<Response [200]>\n"
     ]
    },
    {
     "name": "stderr",
     "output_type": "stream",
     "text": [
      "(41821) accepted ('127.0.0.1', 64217)\n",
      "173.20.233.125,127.0.0.1 - - [22/Oct/2023 18:40:32] \"POST /add_step HTTP/1.1\" 200 166 0.000702\n"
     ]
    },
    {
     "name": "stdout",
     "output_type": "stream",
     "text": [
      "<Response [200]>\n"
     ]
    },
    {
     "name": "stderr",
     "output_type": "stream",
     "text": [
      "(41821) accepted ('127.0.0.1', 49438)\n",
      "173.20.233.125,127.0.0.1 - - [22/Oct/2023 18:40:33] \"POST /add_step HTTP/1.1\" 200 166 0.000565\n"
     ]
    },
    {
     "name": "stdout",
     "output_type": "stream",
     "text": [
      "<Response [200]>\n"
     ]
    },
    {
     "name": "stderr",
     "output_type": "stream",
     "text": [
      "(41821) accepted ('127.0.0.1', 50572)\n",
      "173.20.233.125,127.0.0.1 - - [22/Oct/2023 18:40:34] \"POST /add_step HTTP/1.1\" 200 166 0.000472\n"
     ]
    },
    {
     "name": "stdout",
     "output_type": "stream",
     "text": [
      "<Response [200]>\n"
     ]
    },
    {
     "name": "stderr",
     "output_type": "stream",
     "text": [
      "(41821) accepted ('127.0.0.1', 51913)\n",
      "173.20.233.125,127.0.0.1 - - [22/Oct/2023 18:40:35] \"POST /add_step HTTP/1.1\" 200 166 0.000758\n"
     ]
    },
    {
     "name": "stdout",
     "output_type": "stream",
     "text": [
      "<Response [200]>\n"
     ]
    },
    {
     "name": "stderr",
     "output_type": "stream",
     "text": [
      "(41821) accepted ('127.0.0.1', 53140)\n",
      "173.20.233.125,127.0.0.1 - - [22/Oct/2023 18:40:35] \"POST /add_step HTTP/1.1\" 200 166 0.000612\n"
     ]
    },
    {
     "name": "stdout",
     "output_type": "stream",
     "text": [
      "<Response [200]>\n"
     ]
    },
    {
     "name": "stderr",
     "output_type": "stream",
     "text": [
      "(41821) accepted ('127.0.0.1', 54557)\n",
      "173.20.233.125,127.0.0.1 - - [22/Oct/2023 18:40:36] \"POST /add_step HTTP/1.1\" 200 166 0.000456\n"
     ]
    },
    {
     "name": "stdout",
     "output_type": "stream",
     "text": [
      "<Response [200]>\n"
     ]
    },
    {
     "name": "stderr",
     "output_type": "stream",
     "text": [
      "(41821) accepted ('127.0.0.1', 55879)\n",
      "173.20.233.125,127.0.0.1 - - [22/Oct/2023 18:40:37] \"POST /add_step HTTP/1.1\" 200 166 0.000626\n"
     ]
    },
    {
     "name": "stdout",
     "output_type": "stream",
     "text": [
      "<Response [200]>\n"
     ]
    },
    {
     "name": "stderr",
     "output_type": "stream",
     "text": [
      "(41821) accepted ('127.0.0.1', 57161)\n",
      "173.20.233.125,127.0.0.1 - - [22/Oct/2023 18:40:38] \"POST /add_step HTTP/1.1\" 200 166 0.000749\n"
     ]
    },
    {
     "name": "stdout",
     "output_type": "stream",
     "text": [
      "<Response [200]>\n"
     ]
    },
    {
     "name": "stderr",
     "output_type": "stream",
     "text": [
      "(41821) accepted ('127.0.0.1', 58511)\n",
      "173.20.233.125,127.0.0.1 - - [22/Oct/2023 18:40:38] \"POST /add_step HTTP/1.1\" 200 166 0.000445\n"
     ]
    },
    {
     "name": "stdout",
     "output_type": "stream",
     "text": [
      "<Response [200]>\n"
     ]
    },
    {
     "name": "stderr",
     "output_type": "stream",
     "text": [
      "(41821) accepted ('127.0.0.1', 59777)\n",
      "173.20.233.125,127.0.0.1 - - [22/Oct/2023 18:40:39] \"POST /add_step HTTP/1.1\" 200 166 0.000631\n"
     ]
    },
    {
     "name": "stdout",
     "output_type": "stream",
     "text": [
      "<Response [200]>\n"
     ]
    },
    {
     "name": "stderr",
     "output_type": "stream",
     "text": [
      "(41821) accepted ('127.0.0.1', 61184)\n",
      "173.20.233.125,127.0.0.1 - - [22/Oct/2023 18:40:40] \"POST /add_step HTTP/1.1\" 200 166 0.000447\n"
     ]
    },
    {
     "name": "stdout",
     "output_type": "stream",
     "text": [
      "<Response [200]>\n"
     ]
    },
    {
     "name": "stderr",
     "output_type": "stream",
     "text": [
      "(41821) accepted ('127.0.0.1', 62755)\n",
      "173.20.233.125,127.0.0.1 - - [22/Oct/2023 18:40:41] \"POST /add_step HTTP/1.1\" 200 166 0.000466\n"
     ]
    },
    {
     "name": "stdout",
     "output_type": "stream",
     "text": [
      "<Response [200]>\n"
     ]
    },
    {
     "name": "stderr",
     "output_type": "stream",
     "text": [
      "(41821) accepted ('127.0.0.1', 63881)\n",
      "173.20.233.125,127.0.0.1 - - [22/Oct/2023 18:40:41] \"POST /add_step HTTP/1.1\" 200 166 0.000602\n"
     ]
    },
    {
     "name": "stdout",
     "output_type": "stream",
     "text": [
      "<Response [200]>\n"
     ]
    },
    {
     "name": "stderr",
     "output_type": "stream",
     "text": [
      "(41821) accepted ('127.0.0.1', 65227)\n",
      "173.20.233.125,127.0.0.1 - - [22/Oct/2023 18:40:42] \"POST /add_step HTTP/1.1\" 200 166 0.000453\n"
     ]
    },
    {
     "name": "stdout",
     "output_type": "stream",
     "text": [
      "<Response [200]>\n"
     ]
    },
    {
     "name": "stderr",
     "output_type": "stream",
     "text": [
      "(41821) accepted ('127.0.0.1', 50243)\n",
      "173.20.233.125,127.0.0.1 - - [22/Oct/2023 18:40:43] \"POST /add_step HTTP/1.1\" 200 166 0.000480\n"
     ]
    },
    {
     "name": "stdout",
     "output_type": "stream",
     "text": [
      "<Response [200]>\n"
     ]
    },
    {
     "name": "stderr",
     "output_type": "stream",
     "text": [
      "(41821) accepted ('127.0.0.1', 51459)\n",
      "173.20.233.125,127.0.0.1 - - [22/Oct/2023 18:40:43] \"POST /add_step HTTP/1.1\" 200 166 0.000478\n"
     ]
    },
    {
     "name": "stdout",
     "output_type": "stream",
     "text": [
      "<Response [200]>\n"
     ]
    },
    {
     "name": "stderr",
     "output_type": "stream",
     "text": [
      "(41821) accepted ('127.0.0.1', 52760)\n",
      "173.20.233.125,127.0.0.1 - - [22/Oct/2023 18:40:44] \"POST /add_step HTTP/1.1\" 200 166 0.000443\n"
     ]
    },
    {
     "name": "stdout",
     "output_type": "stream",
     "text": [
      "<Response [200]>\n"
     ]
    },
    {
     "name": "stderr",
     "output_type": "stream",
     "text": [
      "(41821) accepted ('127.0.0.1', 53916)\n",
      "173.20.233.125,127.0.0.1 - - [22/Oct/2023 18:40:45] \"POST /add_step HTTP/1.1\" 200 166 0.001326\n"
     ]
    },
    {
     "name": "stdout",
     "output_type": "stream",
     "text": [
      "<Response [200]>\n"
     ]
    },
    {
     "name": "stderr",
     "output_type": "stream",
     "text": [
      "(41821) accepted ('127.0.0.1', 55280)\n",
      "173.20.233.125,127.0.0.1 - - [22/Oct/2023 18:40:45] \"POST /add_step HTTP/1.1\" 200 166 0.000635\n"
     ]
    },
    {
     "name": "stdout",
     "output_type": "stream",
     "text": [
      "<Response [200]>\n"
     ]
    },
    {
     "name": "stderr",
     "output_type": "stream",
     "text": [
      "(41821) accepted ('127.0.0.1', 56448)\n",
      "173.20.233.125,127.0.0.1 - - [22/Oct/2023 18:40:46] \"POST /add_step HTTP/1.1\" 200 166 0.000677\n"
     ]
    },
    {
     "name": "stdout",
     "output_type": "stream",
     "text": [
      "<Response [200]>\n"
     ]
    },
    {
     "name": "stderr",
     "output_type": "stream",
     "text": [
      "(41821) accepted ('127.0.0.1', 57854)\n",
      "173.20.233.125,127.0.0.1 - - [22/Oct/2023 18:40:47] \"POST /add_step HTTP/1.1\" 200 166 0.006529\n"
     ]
    },
    {
     "name": "stdout",
     "output_type": "stream",
     "text": [
      "<Response [200]>\n"
     ]
    },
    {
     "name": "stderr",
     "output_type": "stream",
     "text": [
      "(41821) accepted ('127.0.0.1', 58989)\n",
      "173.20.233.125,127.0.0.1 - - [22/Oct/2023 18:40:47] \"POST /add_step HTTP/1.1\" 200 166 0.000510\n"
     ]
    },
    {
     "name": "stdout",
     "output_type": "stream",
     "text": [
      "<Response [200]>\n"
     ]
    },
    {
     "name": "stderr",
     "output_type": "stream",
     "text": [
      "(41821) accepted ('127.0.0.1', 60036)\n",
      "173.20.233.125,127.0.0.1 - - [22/Oct/2023 18:40:48] \"POST /add_step HTTP/1.1\" 200 166 0.000499\n"
     ]
    },
    {
     "name": "stdout",
     "output_type": "stream",
     "text": [
      "<Response [200]>\n"
     ]
    },
    {
     "name": "stderr",
     "output_type": "stream",
     "text": [
      "(41821) accepted ('127.0.0.1', 61148)\n",
      "173.20.233.125,127.0.0.1 - - [22/Oct/2023 18:40:49] \"POST /add_step HTTP/1.1\" 200 166 0.000454\n"
     ]
    },
    {
     "name": "stdout",
     "output_type": "stream",
     "text": [
      "<Response [200]>\n"
     ]
    },
    {
     "name": "stderr",
     "output_type": "stream",
     "text": [
      "(41821) accepted ('127.0.0.1', 62260)\n",
      "173.20.233.125,127.0.0.1 - - [22/Oct/2023 18:40:49] \"POST /add_step HTTP/1.1\" 200 166 0.000454\n"
     ]
    },
    {
     "name": "stdout",
     "output_type": "stream",
     "text": [
      "<Response [200]>\n"
     ]
    },
    {
     "name": "stderr",
     "output_type": "stream",
     "text": [
      "(41821) accepted ('127.0.0.1', 63366)\n",
      "173.20.233.125,127.0.0.1 - - [22/Oct/2023 18:40:50] \"POST /add_step HTTP/1.1\" 200 166 0.000653\n"
     ]
    },
    {
     "name": "stdout",
     "output_type": "stream",
     "text": [
      "<Response [200]>\n"
     ]
    },
    {
     "name": "stderr",
     "output_type": "stream",
     "text": [
      "(41821) accepted ('127.0.0.1', 64658)\n",
      "173.20.233.125,127.0.0.1 - - [22/Oct/2023 18:40:51] \"POST /add_step HTTP/1.1\" 200 166 0.000434\n"
     ]
    },
    {
     "name": "stdout",
     "output_type": "stream",
     "text": [
      "<Response [200]>\n"
     ]
    },
    {
     "name": "stderr",
     "output_type": "stream",
     "text": [
      "(41821) accepted ('127.0.0.1', 49381)\n",
      "173.20.233.125,127.0.0.1 - - [22/Oct/2023 18:40:51] \"POST /add_step HTTP/1.1\" 200 166 0.001115\n"
     ]
    },
    {
     "name": "stdout",
     "output_type": "stream",
     "text": [
      "<Response [200]>\n"
     ]
    },
    {
     "name": "stderr",
     "output_type": "stream",
     "text": [
      "(41821) accepted ('127.0.0.1', 50750)\n",
      "173.20.233.125,127.0.0.1 - - [22/Oct/2023 18:40:52] \"POST /add_step HTTP/1.1\" 200 166 0.000548\n"
     ]
    },
    {
     "name": "stdout",
     "output_type": "stream",
     "text": [
      "<Response [200]>\n"
     ]
    },
    {
     "name": "stderr",
     "output_type": "stream",
     "text": [
      "(41821) accepted ('127.0.0.1', 52029)\n",
      "173.20.233.125,127.0.0.1 - - [22/Oct/2023 18:40:53] \"POST /add_step HTTP/1.1\" 200 166 0.000607\n"
     ]
    },
    {
     "name": "stdout",
     "output_type": "stream",
     "text": [
      "<Response [200]>\n"
     ]
    },
    {
     "name": "stderr",
     "output_type": "stream",
     "text": [
      "(41821) accepted ('127.0.0.1', 53281)\n",
      "173.20.233.125,127.0.0.1 - - [22/Oct/2023 18:40:53] \"POST /add_step HTTP/1.1\" 200 166 0.000556\n"
     ]
    },
    {
     "name": "stdout",
     "output_type": "stream",
     "text": [
      "<Response [200]>\n"
     ]
    },
    {
     "name": "stderr",
     "output_type": "stream",
     "text": [
      "(41821) accepted ('127.0.0.1', 54734)\n",
      "173.20.233.125,127.0.0.1 - - [22/Oct/2023 18:40:54] \"POST /add_step HTTP/1.1\" 200 166 0.000488\n"
     ]
    },
    {
     "name": "stdout",
     "output_type": "stream",
     "text": [
      "<Response [200]>\n"
     ]
    },
    {
     "name": "stderr",
     "output_type": "stream",
     "text": [
      "(41821) accepted ('127.0.0.1', 55958)\n",
      "173.20.233.125,127.0.0.1 - - [22/Oct/2023 18:40:55] \"POST /add_step HTTP/1.1\" 200 166 0.000624\n"
     ]
    },
    {
     "name": "stdout",
     "output_type": "stream",
     "text": [
      "<Response [200]>\n"
     ]
    },
    {
     "name": "stderr",
     "output_type": "stream",
     "text": [
      "(41821) accepted ('127.0.0.1', 57188)\n",
      "173.20.233.125,127.0.0.1 - - [22/Oct/2023 18:40:55] \"POST /add_step HTTP/1.1\" 200 166 0.000528\n"
     ]
    },
    {
     "name": "stdout",
     "output_type": "stream",
     "text": [
      "<Response [200]>\n"
     ]
    },
    {
     "name": "stderr",
     "output_type": "stream",
     "text": [
      "(41821) accepted ('127.0.0.1', 58564)\n",
      "173.20.233.125,127.0.0.1 - - [22/Oct/2023 18:40:56] \"POST /add_step HTTP/1.1\" 200 166 0.000450\n"
     ]
    },
    {
     "name": "stdout",
     "output_type": "stream",
     "text": [
      "<Response [200]>\n"
     ]
    },
    {
     "name": "stderr",
     "output_type": "stream",
     "text": [
      "(41821) accepted ('127.0.0.1', 59927)\n",
      "173.20.233.125,127.0.0.1 - - [22/Oct/2023 18:40:57] \"POST /add_step HTTP/1.1\" 200 166 0.000431\n"
     ]
    },
    {
     "name": "stdout",
     "output_type": "stream",
     "text": [
      "<Response [200]>\n"
     ]
    },
    {
     "name": "stderr",
     "output_type": "stream",
     "text": [
      "(41821) accepted ('127.0.0.1', 61030)\n",
      "173.20.233.125,127.0.0.1 - - [22/Oct/2023 18:40:57] \"POST /add_step HTTP/1.1\" 200 166 0.000469\n"
     ]
    },
    {
     "name": "stdout",
     "output_type": "stream",
     "text": [
      "<Response [200]>\n"
     ]
    },
    {
     "name": "stderr",
     "output_type": "stream",
     "text": [
      "(41821) accepted ('127.0.0.1', 62231)\n",
      "173.20.233.125,127.0.0.1 - - [22/Oct/2023 18:40:58] \"POST /add_step HTTP/1.1\" 200 166 0.000428\n"
     ]
    },
    {
     "name": "stdout",
     "output_type": "stream",
     "text": [
      "<Response [200]>\n"
     ]
    },
    {
     "name": "stderr",
     "output_type": "stream",
     "text": [
      "(41821) accepted ('127.0.0.1', 63338)\n",
      "173.20.233.125,127.0.0.1 - - [22/Oct/2023 18:40:59] \"POST /add_step HTTP/1.1\" 200 166 0.000481\n"
     ]
    },
    {
     "name": "stdout",
     "output_type": "stream",
     "text": [
      "<Response [200]>\n"
     ]
    },
    {
     "name": "stderr",
     "output_type": "stream",
     "text": [
      "(41821) accepted ('127.0.0.1', 64425)\n",
      "173.20.233.125,127.0.0.1 - - [22/Oct/2023 18:40:59] \"POST /add_step HTTP/1.1\" 200 166 0.000496\n"
     ]
    },
    {
     "name": "stdout",
     "output_type": "stream",
     "text": [
      "<Response [200]>\n"
     ]
    },
    {
     "name": "stderr",
     "output_type": "stream",
     "text": [
      "(41821) accepted ('127.0.0.1', 49360)\n",
      "173.20.233.125,127.0.0.1 - - [22/Oct/2023 18:41:00] \"POST /add_step HTTP/1.1\" 200 166 0.000680\n"
     ]
    },
    {
     "name": "stdout",
     "output_type": "stream",
     "text": [
      "<Response [200]>\n"
     ]
    },
    {
     "name": "stderr",
     "output_type": "stream",
     "text": [
      "(41821) accepted ('127.0.0.1', 50503)\n",
      "173.20.233.125,127.0.0.1 - - [22/Oct/2023 18:41:01] \"POST /add_step HTTP/1.1\" 200 166 0.000609\n"
     ]
    },
    {
     "name": "stdout",
     "output_type": "stream",
     "text": [
      "<Response [200]>\n"
     ]
    },
    {
     "name": "stderr",
     "output_type": "stream",
     "text": [
      "(41821) accepted ('127.0.0.1', 51606)\n",
      "173.20.233.125,127.0.0.1 - - [22/Oct/2023 18:41:01] \"POST /add_step HTTP/1.1\" 200 166 0.000497\n"
     ]
    },
    {
     "name": "stdout",
     "output_type": "stream",
     "text": [
      "<Response [200]>\n"
     ]
    },
    {
     "name": "stderr",
     "output_type": "stream",
     "text": [
      "(41821) accepted ('127.0.0.1', 52726)\n",
      "173.20.233.125,127.0.0.1 - - [22/Oct/2023 18:41:02] \"POST /add_step HTTP/1.1\" 200 166 0.000773\n"
     ]
    },
    {
     "name": "stdout",
     "output_type": "stream",
     "text": [
      "<Response [200]>\n"
     ]
    },
    {
     "name": "stderr",
     "output_type": "stream",
     "text": [
      "(41821) accepted ('127.0.0.1', 53849)\n",
      "173.20.233.125,127.0.0.1 - - [22/Oct/2023 18:41:02] \"POST /add_step HTTP/1.1\" 200 166 0.000435\n"
     ]
    },
    {
     "name": "stdout",
     "output_type": "stream",
     "text": [
      "<Response [200]>\n"
     ]
    },
    {
     "name": "stderr",
     "output_type": "stream",
     "text": [
      "(41821) accepted ('127.0.0.1', 55042)\n",
      "173.20.233.125,127.0.0.1 - - [22/Oct/2023 18:41:03] \"POST /add_step HTTP/1.1\" 200 166 0.000443\n"
     ]
    },
    {
     "name": "stdout",
     "output_type": "stream",
     "text": [
      "<Response [200]>\n"
     ]
    },
    {
     "name": "stderr",
     "output_type": "stream",
     "text": [
      "(41821) accepted ('127.0.0.1', 56527)\n",
      "173.20.233.125,127.0.0.1 - - [22/Oct/2023 18:41:04] \"POST /add_step HTTP/1.1\" 200 166 0.000609\n"
     ]
    },
    {
     "name": "stdout",
     "output_type": "stream",
     "text": [
      "<Response [200]>\n"
     ]
    },
    {
     "name": "stderr",
     "output_type": "stream",
     "text": [
      "(41821) accepted ('127.0.0.1', 57689)\n",
      "173.20.233.125,127.0.0.1 - - [22/Oct/2023 18:41:05] \"POST /add_step HTTP/1.1\" 200 166 0.000572\n"
     ]
    },
    {
     "name": "stdout",
     "output_type": "stream",
     "text": [
      "<Response [200]>\n"
     ]
    },
    {
     "name": "stderr",
     "output_type": "stream",
     "text": [
      "(41821) accepted ('127.0.0.1', 58863)\n",
      "173.20.233.125,127.0.0.1 - - [22/Oct/2023 18:41:05] \"POST /add_step HTTP/1.1\" 200 166 0.000484\n"
     ]
    },
    {
     "name": "stdout",
     "output_type": "stream",
     "text": [
      "<Response [200]>\n"
     ]
    },
    {
     "name": "stderr",
     "output_type": "stream",
     "text": [
      "(41821) accepted ('127.0.0.1', 59975)\n",
      "173.20.233.125,127.0.0.1 - - [22/Oct/2023 18:41:06] \"POST /add_step HTTP/1.1\" 200 166 0.000756\n"
     ]
    },
    {
     "name": "stdout",
     "output_type": "stream",
     "text": [
      "<Response [200]>\n"
     ]
    },
    {
     "name": "stderr",
     "output_type": "stream",
     "text": [
      "(41821) accepted ('127.0.0.1', 61265)\n",
      "173.20.233.125,127.0.0.1 - - [22/Oct/2023 18:41:07] \"POST /add_step HTTP/1.1\" 200 166 0.000905\n"
     ]
    },
    {
     "name": "stdout",
     "output_type": "stream",
     "text": [
      "<Response [200]>\n"
     ]
    },
    {
     "name": "stderr",
     "output_type": "stream",
     "text": [
      "(41821) accepted ('127.0.0.1', 62959)\n",
      "173.20.233.125,127.0.0.1 - - [22/Oct/2023 18:41:07] \"POST /add_step HTTP/1.1\" 200 166 0.000502\n"
     ]
    },
    {
     "name": "stdout",
     "output_type": "stream",
     "text": [
      "<Response [200]>\n"
     ]
    },
    {
     "name": "stderr",
     "output_type": "stream",
     "text": [
      "(41821) accepted ('127.0.0.1', 64306)\n",
      "173.20.233.125,127.0.0.1 - - [22/Oct/2023 18:41:08] \"POST /add_step HTTP/1.1\" 200 166 0.000441\n"
     ]
    },
    {
     "name": "stdout",
     "output_type": "stream",
     "text": [
      "<Response [200]>\n"
     ]
    },
    {
     "name": "stderr",
     "output_type": "stream",
     "text": [
      "(41821) accepted ('127.0.0.1', 49361)\n",
      "173.20.233.125,127.0.0.1 - - [22/Oct/2023 18:41:09] \"POST /add_step HTTP/1.1\" 200 166 0.001018\n"
     ]
    },
    {
     "name": "stdout",
     "output_type": "stream",
     "text": [
      "<Response [200]>\n"
     ]
    },
    {
     "name": "stderr",
     "output_type": "stream",
     "text": [
      "(41821) accepted ('127.0.0.1', 50674)\n",
      "173.20.233.125,127.0.0.1 - - [22/Oct/2023 18:41:10] \"POST /add_step HTTP/1.1\" 200 166 0.000470\n"
     ]
    },
    {
     "name": "stdout",
     "output_type": "stream",
     "text": [
      "<Response [200]>\n"
     ]
    },
    {
     "name": "stderr",
     "output_type": "stream",
     "text": [
      "(41821) accepted ('127.0.0.1', 51910)\n",
      "173.20.233.125,127.0.0.1 - - [22/Oct/2023 18:41:10] \"POST /add_step HTTP/1.1\" 200 166 0.000466\n"
     ]
    },
    {
     "name": "stdout",
     "output_type": "stream",
     "text": [
      "<Response [200]>\n"
     ]
    },
    {
     "name": "stderr",
     "output_type": "stream",
     "text": [
      "(41821) accepted ('127.0.0.1', 53110)\n",
      "173.20.233.125,127.0.0.1 - - [22/Oct/2023 18:41:11] \"POST /add_step HTTP/1.1\" 200 166 0.000539\n"
     ]
    },
    {
     "name": "stdout",
     "output_type": "stream",
     "text": [
      "<Response [200]>\n"
     ]
    },
    {
     "name": "stderr",
     "output_type": "stream",
     "text": [
      "(41821) accepted ('127.0.0.1', 54467)\n",
      "173.20.233.125,127.0.0.1 - - [22/Oct/2023 18:41:12] \"POST /add_step HTTP/1.1\" 200 166 0.000440\n"
     ]
    },
    {
     "name": "stdout",
     "output_type": "stream",
     "text": [
      "<Response [200]>\n"
     ]
    },
    {
     "name": "stderr",
     "output_type": "stream",
     "text": [
      "(41821) accepted ('127.0.0.1', 55751)\n",
      "173.20.233.125,127.0.0.1 - - [22/Oct/2023 18:41:12] \"POST /add_step HTTP/1.1\" 200 166 0.000434\n"
     ]
    },
    {
     "name": "stdout",
     "output_type": "stream",
     "text": [
      "<Response [200]>\n"
     ]
    },
    {
     "name": "stderr",
     "output_type": "stream",
     "text": [
      "(41821) accepted ('127.0.0.1', 56973)\n",
      "173.20.233.125,127.0.0.1 - - [22/Oct/2023 18:41:13] \"POST /add_step HTTP/1.1\" 200 166 0.000547\n"
     ]
    },
    {
     "name": "stdout",
     "output_type": "stream",
     "text": [
      "<Response [200]>\n"
     ]
    },
    {
     "name": "stderr",
     "output_type": "stream",
     "text": [
      "(41821) accepted ('127.0.0.1', 58257)\n",
      "173.20.233.125,127.0.0.1 - - [22/Oct/2023 18:41:14] \"POST /add_step HTTP/1.1\" 200 166 0.000572\n"
     ]
    },
    {
     "name": "stdout",
     "output_type": "stream",
     "text": [
      "<Response [200]>\n"
     ]
    },
    {
     "name": "stderr",
     "output_type": "stream",
     "text": [
      "(41821) accepted ('127.0.0.1', 59649)\n",
      "173.20.233.125,127.0.0.1 - - [22/Oct/2023 18:41:15] \"POST /add_step HTTP/1.1\" 200 166 0.000476\n"
     ]
    },
    {
     "name": "stdout",
     "output_type": "stream",
     "text": [
      "<Response [200]>\n"
     ]
    },
    {
     "name": "stderr",
     "output_type": "stream",
     "text": [
      "(41821) accepted ('127.0.0.1', 60971)\n",
      "173.20.233.125,127.0.0.1 - - [22/Oct/2023 18:41:15] \"POST /add_step HTTP/1.1\" 200 166 0.000870\n"
     ]
    },
    {
     "name": "stdout",
     "output_type": "stream",
     "text": [
      "<Response [200]>\n"
     ]
    },
    {
     "name": "stderr",
     "output_type": "stream",
     "text": [
      "(41821) accepted ('127.0.0.1', 62230)\n",
      "173.20.233.125,127.0.0.1 - - [22/Oct/2023 18:41:16] \"POST /add_step HTTP/1.1\" 200 166 0.000678\n"
     ]
    },
    {
     "name": "stdout",
     "output_type": "stream",
     "text": [
      "<Response [200]>\n"
     ]
    },
    {
     "name": "stderr",
     "output_type": "stream",
     "text": [
      "(41821) accepted ('127.0.0.1', 63392)\n",
      "173.20.233.125,127.0.0.1 - - [22/Oct/2023 18:41:17] \"POST /add_step HTTP/1.1\" 200 166 0.000701\n"
     ]
    },
    {
     "name": "stdout",
     "output_type": "stream",
     "text": [
      "<Response [200]>\n"
     ]
    },
    {
     "name": "stderr",
     "output_type": "stream",
     "text": [
      "(41821) accepted ('127.0.0.1', 64586)\n",
      "173.20.233.125,127.0.0.1 - - [22/Oct/2023 18:41:17] \"POST /add_step HTTP/1.1\" 200 166 0.000678\n"
     ]
    },
    {
     "name": "stdout",
     "output_type": "stream",
     "text": [
      "<Response [200]>\n"
     ]
    },
    {
     "name": "stderr",
     "output_type": "stream",
     "text": [
      "(41821) accepted ('127.0.0.1', 49478)\n",
      "173.20.233.125,127.0.0.1 - - [22/Oct/2023 18:41:18] \"POST /add_step HTTP/1.1\" 200 166 0.000586\n"
     ]
    },
    {
     "name": "stdout",
     "output_type": "stream",
     "text": [
      "<Response [200]>\n"
     ]
    },
    {
     "name": "stderr",
     "output_type": "stream",
     "text": [
      "(41821) accepted ('127.0.0.1', 50805)\n",
      "173.20.233.125,127.0.0.1 - - [22/Oct/2023 18:41:19] \"POST /add_step HTTP/1.1\" 200 166 0.000730\n"
     ]
    },
    {
     "name": "stdout",
     "output_type": "stream",
     "text": [
      "<Response [200]>\n"
     ]
    },
    {
     "name": "stderr",
     "output_type": "stream",
     "text": [
      "(41821) accepted ('127.0.0.1', 52178)\n",
      "173.20.233.125,127.0.0.1 - - [22/Oct/2023 18:41:19] \"POST /add_step HTTP/1.1\" 200 166 0.000442\n"
     ]
    },
    {
     "name": "stdout",
     "output_type": "stream",
     "text": [
      "<Response [200]>\n"
     ]
    },
    {
     "name": "stderr",
     "output_type": "stream",
     "text": [
      "(41821) accepted ('127.0.0.1', 53431)\n",
      "173.20.233.125,127.0.0.1 - - [22/Oct/2023 18:41:20] \"POST /add_step HTTP/1.1\" 200 166 0.000639\n"
     ]
    },
    {
     "name": "stdout",
     "output_type": "stream",
     "text": [
      "<Response [200]>\n"
     ]
    },
    {
     "name": "stderr",
     "output_type": "stream",
     "text": [
      "(41821) accepted ('127.0.0.1', 54657)\n",
      "173.20.233.125,127.0.0.1 - - [22/Oct/2023 18:41:21] \"POST /add_step HTTP/1.1\" 200 166 0.000854\n"
     ]
    },
    {
     "name": "stdout",
     "output_type": "stream",
     "text": [
      "<Response [200]>\n"
     ]
    },
    {
     "name": "stderr",
     "output_type": "stream",
     "text": [
      "(41821) accepted ('127.0.0.1', 55844)\n",
      "173.20.233.125,127.0.0.1 - - [22/Oct/2023 18:41:21] \"POST /add_step HTTP/1.1\" 200 166 0.000497\n"
     ]
    },
    {
     "name": "stdout",
     "output_type": "stream",
     "text": [
      "<Response [200]>\n"
     ]
    },
    {
     "name": "stderr",
     "output_type": "stream",
     "text": [
      "(41821) accepted ('127.0.0.1', 57028)\n",
      "173.20.233.125,127.0.0.1 - - [22/Oct/2023 18:41:22] \"POST /add_step HTTP/1.1\" 200 166 0.000451\n"
     ]
    },
    {
     "name": "stdout",
     "output_type": "stream",
     "text": [
      "<Response [200]>\n"
     ]
    },
    {
     "name": "stderr",
     "output_type": "stream",
     "text": [
      "(41821) accepted ('127.0.0.1', 58177)\n",
      "173.20.233.125,127.0.0.1 - - [22/Oct/2023 18:41:23] \"POST /add_step HTTP/1.1\" 200 166 0.000509\n"
     ]
    },
    {
     "name": "stdout",
     "output_type": "stream",
     "text": [
      "<Response [200]>\n"
     ]
    },
    {
     "name": "stderr",
     "output_type": "stream",
     "text": [
      "(41821) accepted ('127.0.0.1', 59456)\n",
      "173.20.233.125,127.0.0.1 - - [22/Oct/2023 18:41:23] \"POST /add_step HTTP/1.1\" 200 166 0.000489\n"
     ]
    },
    {
     "name": "stdout",
     "output_type": "stream",
     "text": [
      "<Response [200]>\n"
     ]
    },
    {
     "name": "stderr",
     "output_type": "stream",
     "text": [
      "(41821) accepted ('127.0.0.1', 60721)\n",
      "173.20.233.125,127.0.0.1 - - [22/Oct/2023 18:41:24] \"POST /add_step HTTP/1.1\" 200 166 0.000464\n"
     ]
    },
    {
     "name": "stdout",
     "output_type": "stream",
     "text": [
      "<Response [200]>\n"
     ]
    },
    {
     "name": "stderr",
     "output_type": "stream",
     "text": [
      "(41821) accepted ('127.0.0.1', 62129)\n",
      "173.20.233.125,127.0.0.1 - - [22/Oct/2023 18:41:25] \"POST /add_step HTTP/1.1\" 200 166 0.002033\n"
     ]
    },
    {
     "name": "stdout",
     "output_type": "stream",
     "text": [
      "<Response [200]>\n"
     ]
    },
    {
     "name": "stderr",
     "output_type": "stream",
     "text": [
      "(41821) accepted ('127.0.0.1', 63277)\n",
      "173.20.233.125,127.0.0.1 - - [22/Oct/2023 18:41:25] \"POST /add_step HTTP/1.1\" 200 166 0.000600\n"
     ]
    },
    {
     "name": "stdout",
     "output_type": "stream",
     "text": [
      "<Response [200]>\n"
     ]
    },
    {
     "name": "stderr",
     "output_type": "stream",
     "text": [
      "(41821) accepted ('127.0.0.1', 64680)\n",
      "173.20.233.125,127.0.0.1 - - [22/Oct/2023 18:41:26] \"POST /add_step HTTP/1.1\" 200 166 0.000443\n"
     ]
    },
    {
     "name": "stdout",
     "output_type": "stream",
     "text": [
      "<Response [200]>\n"
     ]
    },
    {
     "name": "stderr",
     "output_type": "stream",
     "text": [
      "(41821) accepted ('127.0.0.1', 49420)\n",
      "173.20.233.125,127.0.0.1 - - [22/Oct/2023 18:41:27] \"POST /add_step HTTP/1.1\" 200 166 0.000529\n"
     ]
    },
    {
     "name": "stdout",
     "output_type": "stream",
     "text": [
      "<Response [200]>\n"
     ]
    },
    {
     "name": "stderr",
     "output_type": "stream",
     "text": [
      "(41821) accepted ('127.0.0.1', 50563)\n",
      "173.20.233.125,127.0.0.1 - - [22/Oct/2023 18:41:27] \"POST /add_step HTTP/1.1\" 200 166 0.000736\n"
     ]
    },
    {
     "name": "stdout",
     "output_type": "stream",
     "text": [
      "<Response [200]>\n"
     ]
    },
    {
     "name": "stderr",
     "output_type": "stream",
     "text": [
      "(41821) accepted ('127.0.0.1', 51656)\n",
      "173.20.233.125,127.0.0.1 - - [22/Oct/2023 18:41:28] \"POST /add_step HTTP/1.1\" 200 166 0.000509\n"
     ]
    },
    {
     "name": "stdout",
     "output_type": "stream",
     "text": [
      "<Response [200]>\n"
     ]
    },
    {
     "name": "stderr",
     "output_type": "stream",
     "text": [
      "(41821) accepted ('127.0.0.1', 53392)\n",
      "173.20.233.125,127.0.0.1 - - [22/Oct/2023 18:41:29] \"POST /add_step HTTP/1.1\" 200 166 0.000442\n"
     ]
    },
    {
     "name": "stdout",
     "output_type": "stream",
     "text": [
      "<Response [200]>\n"
     ]
    },
    {
     "name": "stderr",
     "output_type": "stream",
     "text": [
      "(41821) accepted ('127.0.0.1', 54620)\n",
      "173.20.233.125,127.0.0.1 - - [22/Oct/2023 18:41:30] \"POST /add_step HTTP/1.1\" 200 166 0.000637\n"
     ]
    },
    {
     "name": "stdout",
     "output_type": "stream",
     "text": [
      "<Response [200]>\n"
     ]
    },
    {
     "name": "stderr",
     "output_type": "stream",
     "text": [
      "(41821) accepted ('127.0.0.1', 55843)\n",
      "173.20.233.125,127.0.0.1 - - [22/Oct/2023 18:41:30] \"POST /add_step HTTP/1.1\" 200 166 0.000473\n"
     ]
    },
    {
     "name": "stdout",
     "output_type": "stream",
     "text": [
      "<Response [200]>\n"
     ]
    },
    {
     "name": "stderr",
     "output_type": "stream",
     "text": [
      "(41821) accepted ('127.0.0.1', 56980)\n",
      "173.20.233.125,127.0.0.1 - - [22/Oct/2023 18:41:31] \"POST /add_step HTTP/1.1\" 200 166 0.000588\n"
     ]
    },
    {
     "name": "stdout",
     "output_type": "stream",
     "text": [
      "<Response [200]>\n"
     ]
    },
    {
     "name": "stderr",
     "output_type": "stream",
     "text": [
      "(41821) accepted ('127.0.0.1', 58175)\n",
      "173.20.233.125,127.0.0.1 - - [22/Oct/2023 18:41:32] \"POST /add_step HTTP/1.1\" 200 166 0.000486\n"
     ]
    },
    {
     "name": "stdout",
     "output_type": "stream",
     "text": [
      "<Response [200]>\n"
     ]
    },
    {
     "name": "stderr",
     "output_type": "stream",
     "text": [
      "(41821) accepted ('127.0.0.1', 59422)\n",
      "173.20.233.125,127.0.0.1 - - [22/Oct/2023 18:41:32] \"POST /add_step HTTP/1.1\" 200 166 0.000476\n"
     ]
    },
    {
     "name": "stdout",
     "output_type": "stream",
     "text": [
      "<Response [200]>\n"
     ]
    },
    {
     "name": "stderr",
     "output_type": "stream",
     "text": [
      "(41821) accepted ('127.0.0.1', 60862)\n",
      "173.20.233.125,127.0.0.1 - - [22/Oct/2023 18:41:33] \"POST /add_step HTTP/1.1\" 200 166 0.000665\n"
     ]
    },
    {
     "name": "stdout",
     "output_type": "stream",
     "text": [
      "<Response [200]>\n"
     ]
    },
    {
     "name": "stderr",
     "output_type": "stream",
     "text": [
      "(41821) accepted ('127.0.0.1', 62223)\n",
      "173.20.233.125,127.0.0.1 - - [22/Oct/2023 18:41:34] \"POST /add_step HTTP/1.1\" 200 166 0.000434\n"
     ]
    },
    {
     "name": "stdout",
     "output_type": "stream",
     "text": [
      "<Response [200]>\n"
     ]
    },
    {
     "name": "stderr",
     "output_type": "stream",
     "text": [
      "(41821) accepted ('127.0.0.1', 63463)\n",
      "173.20.233.125,127.0.0.1 - - [22/Oct/2023 18:41:34] \"POST /add_step HTTP/1.1\" 200 166 0.000668\n"
     ]
    },
    {
     "name": "stdout",
     "output_type": "stream",
     "text": [
      "<Response [200]>\n"
     ]
    },
    {
     "name": "stderr",
     "output_type": "stream",
     "text": [
      "(41821) accepted ('127.0.0.1', 64601)\n",
      "173.20.233.125,127.0.0.1 - - [22/Oct/2023 18:41:35] \"POST /add_step HTTP/1.1\" 200 166 0.000733\n"
     ]
    },
    {
     "name": "stdout",
     "output_type": "stream",
     "text": [
      "<Response [200]>\n"
     ]
    },
    {
     "name": "stderr",
     "output_type": "stream",
     "text": [
      "(41821) accepted ('127.0.0.1', 49788)\n",
      "173.20.233.125,127.0.0.1 - - [22/Oct/2023 18:41:36] \"POST /add_step HTTP/1.1\" 200 166 0.000523\n"
     ]
    },
    {
     "name": "stdout",
     "output_type": "stream",
     "text": [
      "<Response [200]>\n"
     ]
    },
    {
     "name": "stderr",
     "output_type": "stream",
     "text": [
      "(41821) accepted ('127.0.0.1', 51307)\n",
      "173.20.233.125,127.0.0.1 - - [22/Oct/2023 18:41:37] \"POST /add_step HTTP/1.1\" 200 166 0.000987\n"
     ]
    },
    {
     "name": "stdout",
     "output_type": "stream",
     "text": [
      "<Response [200]>\n"
     ]
    },
    {
     "name": "stderr",
     "output_type": "stream",
     "text": [
      "(41821) accepted ('127.0.0.1', 53022)\n",
      "173.20.233.125,127.0.0.1 - - [22/Oct/2023 18:41:38] \"POST /add_step HTTP/1.1\" 200 166 0.000796\n"
     ]
    },
    {
     "name": "stdout",
     "output_type": "stream",
     "text": [
      "<Response [200]>\n"
     ]
    },
    {
     "name": "stderr",
     "output_type": "stream",
     "text": [
      "(41821) accepted ('127.0.0.1', 54360)\n",
      "173.20.233.125,127.0.0.1 - - [22/Oct/2023 18:41:38] \"POST /add_step HTTP/1.1\" 200 166 0.000514\n"
     ]
    },
    {
     "name": "stdout",
     "output_type": "stream",
     "text": [
      "<Response [200]>\n"
     ]
    },
    {
     "name": "stderr",
     "output_type": "stream",
     "text": [
      "(41821) accepted ('127.0.0.1', 55693)\n",
      "173.20.233.125,127.0.0.1 - - [22/Oct/2023 18:41:39] \"POST /add_step HTTP/1.1\" 200 166 0.000482\n"
     ]
    },
    {
     "name": "stdout",
     "output_type": "stream",
     "text": [
      "<Response [200]>\n"
     ]
    },
    {
     "name": "stderr",
     "output_type": "stream",
     "text": [
      "(41821) accepted ('127.0.0.1', 56807)\n",
      "173.20.233.125,127.0.0.1 - - [22/Oct/2023 18:41:40] \"POST /add_step HTTP/1.1\" 200 166 0.000466\n"
     ]
    },
    {
     "name": "stdout",
     "output_type": "stream",
     "text": [
      "<Response [200]>\n"
     ]
    },
    {
     "name": "stderr",
     "output_type": "stream",
     "text": [
      "(41821) accepted ('127.0.0.1', 58018)\n",
      "173.20.233.125,127.0.0.1 - - [22/Oct/2023 18:41:40] \"POST /add_step HTTP/1.1\" 200 166 0.000462\n"
     ]
    },
    {
     "name": "stdout",
     "output_type": "stream",
     "text": [
      "<Response [200]>\n"
     ]
    },
    {
     "name": "stderr",
     "output_type": "stream",
     "text": [
      "(41821) accepted ('127.0.0.1', 59256)\n",
      "173.20.233.125,127.0.0.1 - - [22/Oct/2023 18:41:41] \"POST /add_step HTTP/1.1\" 200 166 0.000499\n"
     ]
    },
    {
     "name": "stdout",
     "output_type": "stream",
     "text": [
      "<Response [200]>\n"
     ]
    },
    {
     "name": "stderr",
     "output_type": "stream",
     "text": [
      "(41821) accepted ('127.0.0.1', 60777)\n",
      "173.20.233.125,127.0.0.1 - - [22/Oct/2023 18:41:42] \"POST /add_step HTTP/1.1\" 200 166 0.000640\n"
     ]
    },
    {
     "name": "stdout",
     "output_type": "stream",
     "text": [
      "<Response [200]>\n"
     ]
    },
    {
     "name": "stderr",
     "output_type": "stream",
     "text": [
      "(41821) accepted ('127.0.0.1', 62345)\n",
      "173.20.233.125,127.0.0.1 - - [22/Oct/2023 18:41:43] \"POST /add_step HTTP/1.1\" 200 166 0.000573\n"
     ]
    },
    {
     "name": "stdout",
     "output_type": "stream",
     "text": [
      "<Response [200]>\n"
     ]
    },
    {
     "name": "stderr",
     "output_type": "stream",
     "text": [
      "(41821) accepted ('127.0.0.1', 64199)\n",
      "173.20.233.125,127.0.0.1 - - [22/Oct/2023 18:41:44] \"POST /add_step HTTP/1.1\" 200 166 0.000762\n"
     ]
    },
    {
     "name": "stdout",
     "output_type": "stream",
     "text": [
      "<Response [200]>\n"
     ]
    },
    {
     "name": "stderr",
     "output_type": "stream",
     "text": [
      "(41821) accepted ('127.0.0.1', 49228)\n",
      "173.20.233.125,127.0.0.1 - - [22/Oct/2023 18:41:45] \"POST /add_step HTTP/1.1\" 200 166 0.000640\n"
     ]
    },
    {
     "name": "stdout",
     "output_type": "stream",
     "text": [
      "<Response [200]>\n"
     ]
    },
    {
     "name": "stderr",
     "output_type": "stream",
     "text": [
      "(41821) accepted ('127.0.0.1', 50593)\n",
      "173.20.233.125,127.0.0.1 - - [22/Oct/2023 18:41:45] \"POST /add_step HTTP/1.1\" 200 166 0.000966\n"
     ]
    },
    {
     "name": "stdout",
     "output_type": "stream",
     "text": [
      "<Response [200]>\n"
     ]
    },
    {
     "name": "stderr",
     "output_type": "stream",
     "text": [
      "(41821) accepted ('127.0.0.1', 51905)\n",
      "173.20.233.125,127.0.0.1 - - [22/Oct/2023 18:41:46] \"POST /add_step HTTP/1.1\" 200 166 0.000561\n"
     ]
    },
    {
     "name": "stdout",
     "output_type": "stream",
     "text": [
      "<Response [200]>\n"
     ]
    },
    {
     "name": "stderr",
     "output_type": "stream",
     "text": [
      "(41821) accepted ('127.0.0.1', 53126)\n",
      "173.20.233.125,127.0.0.1 - - [22/Oct/2023 18:41:47] \"POST /add_step HTTP/1.1\" 200 166 0.000625\n"
     ]
    },
    {
     "name": "stdout",
     "output_type": "stream",
     "text": [
      "<Response [200]>\n"
     ]
    },
    {
     "name": "stderr",
     "output_type": "stream",
     "text": [
      "(41821) accepted ('127.0.0.1', 54428)\n",
      "173.20.233.125,127.0.0.1 - - [22/Oct/2023 18:41:47] \"POST /add_step HTTP/1.1\" 200 166 0.000627\n"
     ]
    },
    {
     "name": "stdout",
     "output_type": "stream",
     "text": [
      "<Response [200]>\n"
     ]
    },
    {
     "name": "stderr",
     "output_type": "stream",
     "text": [
      "(41821) accepted ('127.0.0.1', 55824)\n",
      "173.20.233.125,127.0.0.1 - - [22/Oct/2023 18:41:48] \"POST /add_step HTTP/1.1\" 200 166 0.000640\n"
     ]
    },
    {
     "name": "stdout",
     "output_type": "stream",
     "text": [
      "<Response [200]>\n"
     ]
    },
    {
     "name": "stderr",
     "output_type": "stream",
     "text": [
      "(41821) accepted ('127.0.0.1', 57031)\n",
      "173.20.233.125,127.0.0.1 - - [22/Oct/2023 18:41:49] \"POST /add_step HTTP/1.1\" 200 166 0.000551\n"
     ]
    },
    {
     "name": "stdout",
     "output_type": "stream",
     "text": [
      "<Response [200]>\n"
     ]
    },
    {
     "name": "stderr",
     "output_type": "stream",
     "text": [
      "(41821) accepted ('127.0.0.1', 58318)\n",
      "173.20.233.125,127.0.0.1 - - [22/Oct/2023 18:41:49] \"POST /add_step HTTP/1.1\" 200 166 0.000929\n"
     ]
    },
    {
     "name": "stdout",
     "output_type": "stream",
     "text": [
      "<Response [200]>\n"
     ]
    },
    {
     "name": "stderr",
     "output_type": "stream",
     "text": [
      "(41821) accepted ('127.0.0.1', 59634)\n",
      "173.20.233.125,127.0.0.1 - - [22/Oct/2023 18:41:50] \"POST /add_step HTTP/1.1\" 200 166 0.000769\n"
     ]
    },
    {
     "name": "stdout",
     "output_type": "stream",
     "text": [
      "<Response [200]>\n"
     ]
    },
    {
     "name": "stderr",
     "output_type": "stream",
     "text": [
      "(41821) accepted ('127.0.0.1', 60939)\n",
      "173.20.233.125,127.0.0.1 - - [22/Oct/2023 18:41:51] \"POST /add_step HTTP/1.1\" 200 166 0.000646\n"
     ]
    },
    {
     "name": "stdout",
     "output_type": "stream",
     "text": [
      "<Response [200]>\n"
     ]
    },
    {
     "name": "stderr",
     "output_type": "stream",
     "text": [
      "(41821) accepted ('127.0.0.1', 62175)\n",
      "173.20.233.125,127.0.0.1 - - [22/Oct/2023 18:41:52] \"POST /add_step HTTP/1.1\" 200 166 0.000862\n"
     ]
    },
    {
     "name": "stdout",
     "output_type": "stream",
     "text": [
      "<Response [200]>\n"
     ]
    },
    {
     "name": "stderr",
     "output_type": "stream",
     "text": [
      "(41821) accepted ('127.0.0.1', 63441)\n",
      "173.20.233.125,127.0.0.1 - - [22/Oct/2023 18:41:52] \"POST /add_step HTTP/1.1\" 200 166 0.000530\n"
     ]
    },
    {
     "name": "stdout",
     "output_type": "stream",
     "text": [
      "<Response [200]>\n"
     ]
    },
    {
     "name": "stderr",
     "output_type": "stream",
     "text": [
      "(41821) accepted ('127.0.0.1', 64714)\n",
      "173.20.233.125,127.0.0.1 - - [22/Oct/2023 18:41:53] \"POST /add_step HTTP/1.1\" 200 166 0.000545\n"
     ]
    },
    {
     "name": "stdout",
     "output_type": "stream",
     "text": [
      "<Response [200]>\n"
     ]
    },
    {
     "name": "stderr",
     "output_type": "stream",
     "text": [
      "(41821) accepted ('127.0.0.1', 49640)\n",
      "173.20.233.125,127.0.0.1 - - [22/Oct/2023 18:41:54] \"POST /add_step HTTP/1.1\" 200 166 0.000838\n"
     ]
    },
    {
     "name": "stdout",
     "output_type": "stream",
     "text": [
      "<Response [200]>\n"
     ]
    },
    {
     "name": "stderr",
     "output_type": "stream",
     "text": [
      "(41821) accepted ('127.0.0.1', 50874)\n",
      "173.20.233.125,127.0.0.1 - - [22/Oct/2023 18:41:54] \"POST /add_step HTTP/1.1\" 200 166 0.000569\n"
     ]
    },
    {
     "name": "stdout",
     "output_type": "stream",
     "text": [
      "<Response [200]>\n"
     ]
    },
    {
     "name": "stderr",
     "output_type": "stream",
     "text": [
      "(41821) accepted ('127.0.0.1', 52195)\n",
      "173.20.233.125,127.0.0.1 - - [22/Oct/2023 18:41:55] \"POST /add_step HTTP/1.1\" 200 166 0.000777\n"
     ]
    },
    {
     "name": "stdout",
     "output_type": "stream",
     "text": [
      "<Response [200]>\n"
     ]
    },
    {
     "name": "stderr",
     "output_type": "stream",
     "text": [
      "(41821) accepted ('127.0.0.1', 53530)\n",
      "173.20.233.125,127.0.0.1 - - [22/Oct/2023 18:41:56] \"POST /add_step HTTP/1.1\" 200 166 0.000642\n"
     ]
    },
    {
     "name": "stdout",
     "output_type": "stream",
     "text": [
      "<Response [200]>\n"
     ]
    },
    {
     "name": "stderr",
     "output_type": "stream",
     "text": [
      "(41821) accepted ('127.0.0.1', 54738)\n",
      "173.20.233.125,127.0.0.1 - - [22/Oct/2023 18:41:56] \"POST /add_step HTTP/1.1\" 200 166 0.000706\n"
     ]
    },
    {
     "name": "stdout",
     "output_type": "stream",
     "text": [
      "<Response [200]>\n"
     ]
    },
    {
     "name": "stderr",
     "output_type": "stream",
     "text": [
      "(41821) accepted ('127.0.0.1', 55990)\n",
      "173.20.233.125,127.0.0.1 - - [22/Oct/2023 18:41:57] \"POST /add_step HTTP/1.1\" 200 166 0.000653\n"
     ]
    },
    {
     "name": "stdout",
     "output_type": "stream",
     "text": [
      "<Response [200]>\n"
     ]
    },
    {
     "name": "stderr",
     "output_type": "stream",
     "text": [
      "(41821) accepted ('127.0.0.1', 57430)\n",
      "173.20.233.125,127.0.0.1 - - [22/Oct/2023 18:41:58] \"POST /add_step HTTP/1.1\" 200 166 0.000653\n"
     ]
    },
    {
     "name": "stdout",
     "output_type": "stream",
     "text": [
      "<Response [200]>\n"
     ]
    },
    {
     "name": "stderr",
     "output_type": "stream",
     "text": [
      "(41821) accepted ('127.0.0.1', 58794)\n",
      "173.20.233.125,127.0.0.1 - - [22/Oct/2023 18:41:59] \"POST /add_step HTTP/1.1\" 200 166 0.000679\n"
     ]
    },
    {
     "name": "stdout",
     "output_type": "stream",
     "text": [
      "<Response [200]>\n"
     ]
    },
    {
     "name": "stderr",
     "output_type": "stream",
     "text": [
      "(41821) accepted ('127.0.0.1', 60124)\n",
      "173.20.233.125,127.0.0.1 - - [22/Oct/2023 18:41:59] \"POST /add_step HTTP/1.1\" 200 166 0.000576\n"
     ]
    },
    {
     "name": "stdout",
     "output_type": "stream",
     "text": [
      "<Response [200]>\n"
     ]
    },
    {
     "name": "stderr",
     "output_type": "stream",
     "text": [
      "(41821) accepted ('127.0.0.1', 61428)\n",
      "173.20.233.125,127.0.0.1 - - [22/Oct/2023 18:42:00] \"POST /add_step HTTP/1.1\" 200 166 0.001073\n"
     ]
    },
    {
     "name": "stdout",
     "output_type": "stream",
     "text": [
      "<Response [200]>\n"
     ]
    },
    {
     "name": "stderr",
     "output_type": "stream",
     "text": [
      "(41821) accepted ('127.0.0.1', 62698)\n",
      "173.20.233.125,127.0.0.1 - - [22/Oct/2023 18:42:01] \"POST /add_step HTTP/1.1\" 200 166 0.000537\n"
     ]
    },
    {
     "name": "stdout",
     "output_type": "stream",
     "text": [
      "<Response [200]>\n"
     ]
    },
    {
     "name": "stderr",
     "output_type": "stream",
     "text": [
      "(41821) accepted ('127.0.0.1', 63998)\n",
      "173.20.233.125,127.0.0.1 - - [22/Oct/2023 18:42:01] \"POST /add_step HTTP/1.1\" 200 166 0.000830\n"
     ]
    },
    {
     "name": "stdout",
     "output_type": "stream",
     "text": [
      "<Response [200]>\n"
     ]
    },
    {
     "name": "stderr",
     "output_type": "stream",
     "text": [
      "(41821) accepted ('127.0.0.1', 65331)\n",
      "173.20.233.125,127.0.0.1 - - [22/Oct/2023 18:42:02] \"POST /add_step HTTP/1.1\" 200 166 0.000637\n"
     ]
    },
    {
     "name": "stdout",
     "output_type": "stream",
     "text": [
      "<Response [200]>\n"
     ]
    },
    {
     "name": "stderr",
     "output_type": "stream",
     "text": [
      "(41821) accepted ('127.0.0.1', 50274)\n",
      "173.20.233.125,127.0.0.1 - - [22/Oct/2023 18:42:03] \"POST /add_step HTTP/1.1\" 200 166 0.000938\n"
     ]
    },
    {
     "name": "stdout",
     "output_type": "stream",
     "text": [
      "<Response [200]>\n"
     ]
    },
    {
     "name": "stderr",
     "output_type": "stream",
     "text": [
      "(41821) accepted ('127.0.0.1', 52206)\n",
      "173.20.233.125,127.0.0.1 - - [22/Oct/2023 18:42:04] \"POST /add_step HTTP/1.1\" 200 166 0.000764\n"
     ]
    },
    {
     "name": "stdout",
     "output_type": "stream",
     "text": [
      "<Response [200]>\n"
     ]
    },
    {
     "name": "stderr",
     "output_type": "stream",
     "text": [
      "(41821) accepted ('127.0.0.1', 53548)\n",
      "173.20.233.125,127.0.0.1 - - [22/Oct/2023 18:42:05] \"POST /add_step HTTP/1.1\" 200 166 0.000681\n"
     ]
    },
    {
     "name": "stdout",
     "output_type": "stream",
     "text": [
      "<Response [200]>\n"
     ]
    },
    {
     "name": "stderr",
     "output_type": "stream",
     "text": [
      "(41821) accepted ('127.0.0.1', 54994)\n",
      "173.20.233.125,127.0.0.1 - - [22/Oct/2023 18:42:05] \"POST /add_step HTTP/1.1\" 200 166 0.000654\n"
     ]
    },
    {
     "name": "stdout",
     "output_type": "stream",
     "text": [
      "<Response [200]>\n"
     ]
    },
    {
     "name": "stderr",
     "output_type": "stream",
     "text": [
      "(41821) accepted ('127.0.0.1', 56260)\n",
      "173.20.233.125,127.0.0.1 - - [22/Oct/2023 18:42:06] \"POST /add_step HTTP/1.1\" 200 166 0.000537\n"
     ]
    },
    {
     "name": "stdout",
     "output_type": "stream",
     "text": [
      "<Response [200]>\n"
     ]
    },
    {
     "name": "stderr",
     "output_type": "stream",
     "text": [
      "(41821) accepted ('127.0.0.1', 57543)\n",
      "173.20.233.125,127.0.0.1 - - [22/Oct/2023 18:42:07] \"POST /add_step HTTP/1.1\" 200 166 0.000644\n"
     ]
    },
    {
     "name": "stdout",
     "output_type": "stream",
     "text": [
      "<Response [200]>\n"
     ]
    },
    {
     "name": "stderr",
     "output_type": "stream",
     "text": [
      "(41821) accepted ('127.0.0.1', 58774)\n",
      "173.20.233.125,127.0.0.1 - - [22/Oct/2023 18:42:07] \"POST /add_step HTTP/1.1\" 200 166 0.000659\n"
     ]
    },
    {
     "name": "stdout",
     "output_type": "stream",
     "text": [
      "<Response [200]>\n"
     ]
    },
    {
     "name": "stderr",
     "output_type": "stream",
     "text": [
      "(41821) accepted ('127.0.0.1', 60025)\n",
      "173.20.233.125,127.0.0.1 - - [22/Oct/2023 18:42:08] \"POST /add_step HTTP/1.1\" 200 166 0.000755\n"
     ]
    },
    {
     "name": "stdout",
     "output_type": "stream",
     "text": [
      "<Response [200]>\n"
     ]
    },
    {
     "name": "stderr",
     "output_type": "stream",
     "text": [
      "(41821) accepted ('127.0.0.1', 61324)\n",
      "173.20.233.125,127.0.0.1 - - [22/Oct/2023 18:42:09] \"POST /add_step HTTP/1.1\" 200 166 0.000883\n"
     ]
    },
    {
     "name": "stdout",
     "output_type": "stream",
     "text": [
      "<Response [200]>\n"
     ]
    },
    {
     "name": "stderr",
     "output_type": "stream",
     "text": [
      "(41821) accepted ('127.0.0.1', 62631)\n",
      "173.20.233.125,127.0.0.1 - - [22/Oct/2023 18:42:10] \"POST /add_step HTTP/1.1\" 200 166 0.000658\n"
     ]
    },
    {
     "name": "stdout",
     "output_type": "stream",
     "text": [
      "<Response [200]>\n"
     ]
    },
    {
     "name": "stderr",
     "output_type": "stream",
     "text": [
      "(41821) accepted ('127.0.0.1', 63869)\n",
      "173.20.233.125,127.0.0.1 - - [22/Oct/2023 18:42:10] \"POST /add_step HTTP/1.1\" 200 166 0.000661\n"
     ]
    },
    {
     "name": "stdout",
     "output_type": "stream",
     "text": [
      "<Response [200]>\n"
     ]
    },
    {
     "name": "stderr",
     "output_type": "stream",
     "text": [
      "(41821) accepted ('127.0.0.1', 65108)\n",
      "173.20.233.125,127.0.0.1 - - [22/Oct/2023 18:42:11] \"POST /add_step HTTP/1.1\" 200 166 0.000670\n"
     ]
    },
    {
     "name": "stdout",
     "output_type": "stream",
     "text": [
      "<Response [200]>\n"
     ]
    },
    {
     "name": "stderr",
     "output_type": "stream",
     "text": [
      "(41821) accepted ('127.0.0.1', 49986)\n",
      "173.20.233.125,127.0.0.1 - - [22/Oct/2023 18:42:12] \"POST /add_step HTTP/1.1\" 200 166 0.000851\n"
     ]
    },
    {
     "name": "stdout",
     "output_type": "stream",
     "text": [
      "<Response [200]>\n"
     ]
    },
    {
     "name": "stderr",
     "output_type": "stream",
     "text": [
      "(41821) accepted ('127.0.0.1', 51308)\n",
      "173.20.233.125,127.0.0.1 - - [22/Oct/2023 18:42:12] \"POST /add_step HTTP/1.1\" 200 166 0.000972\n"
     ]
    },
    {
     "name": "stdout",
     "output_type": "stream",
     "text": [
      "<Response [200]>\n"
     ]
    },
    {
     "name": "stderr",
     "output_type": "stream",
     "text": [
      "(41821) accepted ('127.0.0.1', 52589)\n",
      "173.20.233.125,127.0.0.1 - - [22/Oct/2023 18:42:13] \"POST /add_step HTTP/1.1\" 200 166 0.000675\n"
     ]
    },
    {
     "name": "stdout",
     "output_type": "stream",
     "text": [
      "<Response [200]>\n"
     ]
    },
    {
     "name": "stderr",
     "output_type": "stream",
     "text": [
      "(41821) accepted ('127.0.0.1', 53826)\n",
      "173.20.233.125,127.0.0.1 - - [22/Oct/2023 18:42:14] \"POST /add_step HTTP/1.1\" 200 166 0.000635\n"
     ]
    },
    {
     "name": "stdout",
     "output_type": "stream",
     "text": [
      "<Response [200]>\n"
     ]
    },
    {
     "name": "stderr",
     "output_type": "stream",
     "text": [
      "(41821) accepted ('127.0.0.1', 55098)\n",
      "173.20.233.125,127.0.0.1 - - [22/Oct/2023 18:42:14] \"POST /add_step HTTP/1.1\" 200 166 0.000656\n"
     ]
    },
    {
     "name": "stdout",
     "output_type": "stream",
     "text": [
      "<Response [200]>\n"
     ]
    },
    {
     "name": "stderr",
     "output_type": "stream",
     "text": [
      "(41821) accepted ('127.0.0.1', 56382)\n",
      "173.20.233.125,127.0.0.1 - - [22/Oct/2023 18:42:15] \"POST /add_step HTTP/1.1\" 200 166 0.000644\n"
     ]
    },
    {
     "name": "stdout",
     "output_type": "stream",
     "text": [
      "<Response [200]>\n"
     ]
    },
    {
     "name": "stderr",
     "output_type": "stream",
     "text": [
      "(41821) accepted ('127.0.0.1', 57681)\n",
      "173.20.233.125,127.0.0.1 - - [22/Oct/2023 18:42:16] \"POST /add_step HTTP/1.1\" 200 166 0.001022\n"
     ]
    },
    {
     "name": "stdout",
     "output_type": "stream",
     "text": [
      "<Response [200]>\n"
     ]
    },
    {
     "name": "stderr",
     "output_type": "stream",
     "text": [
      "(41821) accepted ('127.0.0.1', 59012)\n",
      "173.20.233.125,127.0.0.1 - - [22/Oct/2023 18:42:17] \"POST /add_step HTTP/1.1\" 200 166 0.000679\n"
     ]
    },
    {
     "name": "stdout",
     "output_type": "stream",
     "text": [
      "<Response [200]>\n"
     ]
    },
    {
     "name": "stderr",
     "output_type": "stream",
     "text": [
      "(41821) accepted ('127.0.0.1', 60235)\n",
      "173.20.233.125,127.0.0.1 - - [22/Oct/2023 18:42:17] \"POST /add_step HTTP/1.1\" 200 166 0.000723\n"
     ]
    },
    {
     "name": "stdout",
     "output_type": "stream",
     "text": [
      "<Response [200]>\n"
     ]
    },
    {
     "name": "stderr",
     "output_type": "stream",
     "text": [
      "(41821) accepted ('127.0.0.1', 61583)\n",
      "173.20.233.125,127.0.0.1 - - [22/Oct/2023 18:42:18] \"POST /add_step HTTP/1.1\" 200 166 0.000629\n"
     ]
    },
    {
     "name": "stdout",
     "output_type": "stream",
     "text": [
      "<Response [200]>\n"
     ]
    },
    {
     "name": "stderr",
     "output_type": "stream",
     "text": [
      "(41821) accepted ('127.0.0.1', 62814)\n",
      "173.20.233.125,127.0.0.1 - - [22/Oct/2023 18:42:19] \"POST /add_step HTTP/1.1\" 200 166 0.000639\n"
     ]
    },
    {
     "name": "stdout",
     "output_type": "stream",
     "text": [
      "<Response [200]>\n"
     ]
    },
    {
     "name": "stderr",
     "output_type": "stream",
     "text": [
      "(41821) accepted ('127.0.0.1', 64092)\n",
      "173.20.233.125,127.0.0.1 - - [22/Oct/2023 18:42:19] \"POST /add_step HTTP/1.1\" 200 166 0.000689\n"
     ]
    },
    {
     "name": "stdout",
     "output_type": "stream",
     "text": [
      "<Response [200]>\n"
     ]
    },
    {
     "name": "stderr",
     "output_type": "stream",
     "text": [
      "(41821) accepted ('127.0.0.1', 65351)\n",
      "173.20.233.125,127.0.0.1 - - [22/Oct/2023 18:42:20] \"POST /add_step HTTP/1.1\" 200 166 0.000920\n"
     ]
    },
    {
     "name": "stdout",
     "output_type": "stream",
     "text": [
      "<Response [200]>\n"
     ]
    },
    {
     "name": "stderr",
     "output_type": "stream",
     "text": [
      "(41821) accepted ('127.0.0.1', 50245)\n",
      "173.20.233.125,127.0.0.1 - - [22/Oct/2023 18:42:21] \"POST /add_step HTTP/1.1\" 200 166 0.000782\n"
     ]
    },
    {
     "name": "stdout",
     "output_type": "stream",
     "text": [
      "<Response [200]>\n"
     ]
    },
    {
     "name": "stderr",
     "output_type": "stream",
     "text": [
      "(41821) accepted ('127.0.0.1', 51933)\n",
      "173.20.233.125,127.0.0.1 - - [22/Oct/2023 18:42:22] \"POST /add_step HTTP/1.1\" 200 166 0.000460\n"
     ]
    },
    {
     "name": "stdout",
     "output_type": "stream",
     "text": [
      "<Response [200]>\n"
     ]
    },
    {
     "name": "stderr",
     "output_type": "stream",
     "text": [
      "(41821) accepted ('127.0.0.1', 53280)\n",
      "173.20.233.125,127.0.0.1 - - [22/Oct/2023 18:42:22] \"POST /add_step HTTP/1.1\" 200 166 0.000665\n"
     ]
    },
    {
     "name": "stdout",
     "output_type": "stream",
     "text": [
      "<Response [200]>\n"
     ]
    },
    {
     "name": "stderr",
     "output_type": "stream",
     "text": [
      "(41821) accepted ('127.0.0.1', 54616)\n",
      "173.20.233.125,127.0.0.1 - - [22/Oct/2023 18:42:23] \"POST /add_step HTTP/1.1\" 200 166 0.000687\n"
     ]
    },
    {
     "name": "stdout",
     "output_type": "stream",
     "text": [
      "<Response [200]>\n"
     ]
    },
    {
     "name": "stderr",
     "output_type": "stream",
     "text": [
      "127.0.0.1 - - [22/Oct/2023 18:42:23] \"GET /all HTTP/1.1\" 200 376918 0.036068\n",
      "(41821) accepted ('127.0.0.1', 56029)\n",
      "173.20.233.125,127.0.0.1 - - [22/Oct/2023 18:42:24] \"POST /add_step HTTP/1.1\" 200 166 0.000674\n"
     ]
    },
    {
     "name": "stdout",
     "output_type": "stream",
     "text": [
      "<Response [200]>\n"
     ]
    },
    {
     "name": "stderr",
     "output_type": "stream",
     "text": [
      "(41821) accepted ('127.0.0.1', 57600)\n",
      "173.20.233.125,127.0.0.1 - - [22/Oct/2023 18:42:25] \"POST /add_step HTTP/1.1\" 200 166 0.000716\n"
     ]
    },
    {
     "name": "stdout",
     "output_type": "stream",
     "text": [
      "<Response [200]>\n"
     ]
    },
    {
     "name": "stderr",
     "output_type": "stream",
     "text": [
      "(41821) accepted ('127.0.0.1', 59160)\n",
      "173.20.233.125,127.0.0.1 - - [22/Oct/2023 18:42:26] \"POST /add_step HTTP/1.1\" 200 166 0.000457\n"
     ]
    },
    {
     "name": "stdout",
     "output_type": "stream",
     "text": [
      "<Response [200]>\n"
     ]
    },
    {
     "name": "stderr",
     "output_type": "stream",
     "text": [
      "(41821) accepted ('127.0.0.1', 60249)\n",
      "173.20.233.125,127.0.0.1 - - [22/Oct/2023 18:42:26] \"POST /add_step HTTP/1.1\" 200 166 0.000438\n"
     ]
    },
    {
     "name": "stdout",
     "output_type": "stream",
     "text": [
      "<Response [200]>\n"
     ]
    },
    {
     "name": "stderr",
     "output_type": "stream",
     "text": [
      "(41821) accepted ('127.0.0.1', 61493)\n",
      "173.20.233.125,127.0.0.1 - - [22/Oct/2023 18:42:27] \"POST /add_step HTTP/1.1\" 200 166 0.000436\n"
     ]
    },
    {
     "name": "stdout",
     "output_type": "stream",
     "text": [
      "<Response [200]>\n"
     ]
    },
    {
     "name": "stderr",
     "output_type": "stream",
     "text": [
      "127.0.0.1 - - [22/Oct/2023 18:42:27] \"GET /socket.io/?EIO=4&transport=websocket&sid=PieRmY8Is7-G1KRwAAAV HTTP/1.1\" 200 0 264.347515\n",
      "127.0.0.1 - - [22/Oct/2023 18:42:27] \"GET /socket.io/?EIO=4&transport=websocket&sid=Gq3Ca8mJS1DkxB-BAAAU HTTP/1.1\" 200 0 264.359642\n",
      "127.0.0.1 - - [22/Oct/2023 18:42:27] \"GET /socket.io/?EIO=4&transport=polling&t=OjPnBtj HTTP/1.1\" 200 330 0.000257\n",
      "127.0.0.1 - - [22/Oct/2023 18:42:27] \"GET /socket.io/?EIO=4&transport=polling&t=OjPnBtk HTTP/1.1\" 200 330 0.000452\n",
      "127.0.0.1 - - [22/Oct/2023 18:42:27] \"POST /socket.io/?EIO=4&transport=polling&t=OjPnBtx&sid=gHaept1NbGMd767sAAAY HTTP/1.1\" 200 219 0.000496\n",
      "127.0.0.1 - - [22/Oct/2023 18:42:27] \"GET /socket.io/?EIO=4&transport=polling&t=OjPnBty&sid=gHaept1NbGMd767sAAAY HTTP/1.1\" 200 265 0.000263\n",
      "(41821) accepted ('127.0.0.1', 62441)\n",
      "127.0.0.1 - - [22/Oct/2023 18:42:27] \"POST /socket.io/?EIO=4&transport=polling&t=OjPnBu0&sid=UwIx4Qe2us0SDVjrAAAZ HTTP/1.1\" 200 219 0.000963\n",
      "(41821) accepted ('127.0.0.1', 62447)\n",
      "127.0.0.1 - - [22/Oct/2023 18:42:27] \"GET /socket.io/?EIO=4&transport=polling&t=OjPnBu0.0&sid=UwIx4Qe2us0SDVjrAAAZ HTTP/1.1\" 200 265 0.000249\n",
      "127.0.0.1 - - [22/Oct/2023 18:42:27] \"GET /socket.io/?EIO=4&transport=polling&t=OjPnBuB&sid=gHaept1NbGMd767sAAAY HTTP/1.1\" 200 233 0.000196\n",
      "(41821) accepted ('127.0.0.1', 62484)\n",
      "127.0.0.1 - - [22/Oct/2023 18:42:27] \"GET /socket.io/?EIO=4&transport=polling&t=OjPnBuE&sid=UwIx4Qe2us0SDVjrAAAZ HTTP/1.1\" 200 233 0.015541\n",
      "127.0.0.1 - - [22/Oct/2023 18:42:27] \"GET /all HTTP/1.1\" 200 378965 0.034056\n",
      "(41821) accepted ('127.0.0.1', 62758)\n",
      "173.20.233.125,127.0.0.1 - - [22/Oct/2023 18:42:28] \"POST /add_step HTTP/1.1\" 200 166 0.000424\n"
     ]
    },
    {
     "name": "stdout",
     "output_type": "stream",
     "text": [
      "<Response [200]>\n"
     ]
    },
    {
     "name": "stderr",
     "output_type": "stream",
     "text": [
      "(41821) accepted ('127.0.0.1', 63889)\n",
      "173.20.233.125,127.0.0.1 - - [22/Oct/2023 18:42:28] \"POST /add_step HTTP/1.1\" 200 166 0.000618\n"
     ]
    },
    {
     "name": "stdout",
     "output_type": "stream",
     "text": [
      "<Response [200]>\n"
     ]
    },
    {
     "name": "stderr",
     "output_type": "stream",
     "text": [
      "(41821) accepted ('127.0.0.1', 65150)\n",
      "173.20.233.125,127.0.0.1 - - [22/Oct/2023 18:42:29] \"POST /add_step HTTP/1.1\" 200 166 0.000571\n"
     ]
    },
    {
     "name": "stdout",
     "output_type": "stream",
     "text": [
      "<Response [200]>\n"
     ]
    },
    {
     "name": "stderr",
     "output_type": "stream",
     "text": [
      "(41821) accepted ('127.0.0.1', 49963)\n",
      "173.20.233.125,127.0.0.1 - - [22/Oct/2023 18:42:29] \"POST /add_step HTTP/1.1\" 200 166 0.000647\n"
     ]
    },
    {
     "name": "stdout",
     "output_type": "stream",
     "text": [
      "<Response [200]>\n"
     ]
    },
    {
     "name": "stderr",
     "output_type": "stream",
     "text": [
      "(41821) accepted ('127.0.0.1', 51215)\n",
      "173.20.233.125,127.0.0.1 - - [22/Oct/2023 18:42:30] \"POST /add_step HTTP/1.1\" 200 166 0.000625\n"
     ]
    },
    {
     "name": "stdout",
     "output_type": "stream",
     "text": [
      "<Response [200]>\n"
     ]
    },
    {
     "name": "stderr",
     "output_type": "stream",
     "text": [
      "(41821) accepted ('127.0.0.1', 52367)\n",
      "173.20.233.125,127.0.0.1 - - [22/Oct/2023 18:42:31] \"POST /add_step HTTP/1.1\" 200 166 0.000766\n"
     ]
    },
    {
     "name": "stdout",
     "output_type": "stream",
     "text": [
      "<Response [200]>\n"
     ]
    },
    {
     "name": "stderr",
     "output_type": "stream",
     "text": [
      "(41821) accepted ('127.0.0.1', 53521)\n",
      "173.20.233.125,127.0.0.1 - - [22/Oct/2023 18:42:31] \"POST /add_step HTTP/1.1\" 200 166 0.000812\n"
     ]
    },
    {
     "name": "stdout",
     "output_type": "stream",
     "text": [
      "<Response [200]>\n"
     ]
    },
    {
     "name": "stderr",
     "output_type": "stream",
     "text": [
      "(41821) accepted ('127.0.0.1', 54745)\n",
      "173.20.233.125,127.0.0.1 - - [22/Oct/2023 18:42:32] \"POST /add_step HTTP/1.1\" 200 166 0.000531\n"
     ]
    },
    {
     "name": "stdout",
     "output_type": "stream",
     "text": [
      "<Response [200]>\n"
     ]
    },
    {
     "name": "stderr",
     "output_type": "stream",
     "text": [
      "(41821) accepted ('127.0.0.1', 55937)\n",
      "173.20.233.125,127.0.0.1 - - [22/Oct/2023 18:42:33] \"POST /add_step HTTP/1.1\" 200 166 0.000720\n"
     ]
    },
    {
     "name": "stdout",
     "output_type": "stream",
     "text": [
      "<Response [200]>\n"
     ]
    },
    {
     "name": "stderr",
     "output_type": "stream",
     "text": [
      "(41821) accepted ('127.0.0.1', 57181)\n",
      "173.20.233.125,127.0.0.1 - - [22/Oct/2023 18:42:33] \"POST /add_step HTTP/1.1\" 200 166 0.000662\n"
     ]
    },
    {
     "name": "stdout",
     "output_type": "stream",
     "text": [
      "<Response [200]>\n"
     ]
    },
    {
     "name": "stderr",
     "output_type": "stream",
     "text": [
      "(41821) accepted ('127.0.0.1', 58443)\n",
      "173.20.233.125,127.0.0.1 - - [22/Oct/2023 18:42:34] \"POST /add_step HTTP/1.1\" 200 166 0.000641\n"
     ]
    },
    {
     "name": "stdout",
     "output_type": "stream",
     "text": [
      "<Response [200]>\n"
     ]
    },
    {
     "name": "stderr",
     "output_type": "stream",
     "text": [
      "(41821) accepted ('127.0.0.1', 59683)\n",
      "173.20.233.125,127.0.0.1 - - [22/Oct/2023 18:42:35] \"POST /add_step HTTP/1.1\" 200 166 0.000642\n"
     ]
    },
    {
     "name": "stdout",
     "output_type": "stream",
     "text": [
      "<Response [200]>\n"
     ]
    },
    {
     "name": "stderr",
     "output_type": "stream",
     "text": [
      "(41821) accepted ('127.0.0.1', 60870)\n",
      "173.20.233.125,127.0.0.1 - - [22/Oct/2023 18:42:35] \"POST /add_step HTTP/1.1\" 200 166 0.000664\n"
     ]
    },
    {
     "name": "stdout",
     "output_type": "stream",
     "text": [
      "<Response [200]>\n"
     ]
    },
    {
     "name": "stderr",
     "output_type": "stream",
     "text": [
      "(41821) accepted ('127.0.0.1', 62399)\n",
      "173.20.233.125,127.0.0.1 - - [22/Oct/2023 18:42:36] \"POST /add_step HTTP/1.1\" 200 166 0.000682\n"
     ]
    },
    {
     "name": "stdout",
     "output_type": "stream",
     "text": [
      "<Response [200]>\n"
     ]
    },
    {
     "name": "stderr",
     "output_type": "stream",
     "text": [
      "(41821) accepted ('127.0.0.1', 63683)\n",
      "173.20.233.125,127.0.0.1 - - [22/Oct/2023 18:42:37] \"POST /add_step HTTP/1.1\" 200 166 0.000883\n"
     ]
    },
    {
     "name": "stdout",
     "output_type": "stream",
     "text": [
      "<Response [200]>\n"
     ]
    },
    {
     "name": "stderr",
     "output_type": "stream",
     "text": [
      "(41821) accepted ('127.0.0.1', 64975)\n",
      "173.20.233.125,127.0.0.1 - - [22/Oct/2023 18:42:38] \"POST /add_step HTTP/1.1\" 200 166 0.000537\n"
     ]
    },
    {
     "name": "stdout",
     "output_type": "stream",
     "text": [
      "<Response [200]>\n"
     ]
    },
    {
     "name": "stderr",
     "output_type": "stream",
     "text": [
      "(41821) accepted ('127.0.0.1', 49810)\n",
      "173.20.233.125,127.0.0.1 - - [22/Oct/2023 18:42:38] \"POST /add_step HTTP/1.1\" 200 166 0.000646\n"
     ]
    },
    {
     "name": "stdout",
     "output_type": "stream",
     "text": [
      "<Response [200]>\n"
     ]
    },
    {
     "name": "stderr",
     "output_type": "stream",
     "text": [
      "(41821) accepted ('127.0.0.1', 51089)\n",
      "173.20.233.125,127.0.0.1 - - [22/Oct/2023 18:42:39] \"POST /add_step HTTP/1.1\" 200 166 0.000578\n"
     ]
    },
    {
     "name": "stdout",
     "output_type": "stream",
     "text": [
      "<Response [200]>\n"
     ]
    },
    {
     "name": "stderr",
     "output_type": "stream",
     "text": [
      "(41821) accepted ('127.0.0.1', 52361)\n",
      "173.20.233.125,127.0.0.1 - - [22/Oct/2023 18:42:40] \"POST /add_step HTTP/1.1\" 200 166 0.000882\n"
     ]
    },
    {
     "name": "stdout",
     "output_type": "stream",
     "text": [
      "<Response [200]>\n"
     ]
    },
    {
     "name": "stderr",
     "output_type": "stream",
     "text": [
      "(41821) accepted ('127.0.0.1', 53634)\n",
      "173.20.233.125,127.0.0.1 - - [22/Oct/2023 18:42:40] \"POST /add_step HTTP/1.1\" 200 166 0.000745\n"
     ]
    },
    {
     "name": "stdout",
     "output_type": "stream",
     "text": [
      "<Response [200]>\n"
     ]
    },
    {
     "name": "stderr",
     "output_type": "stream",
     "text": [
      "(41821) accepted ('127.0.0.1', 55055)\n",
      "173.20.233.125,127.0.0.1 - - [22/Oct/2023 18:42:41] \"POST /add_step HTTP/1.1\" 200 166 0.000535\n"
     ]
    },
    {
     "name": "stdout",
     "output_type": "stream",
     "text": [
      "<Response [200]>\n"
     ]
    },
    {
     "name": "stderr",
     "output_type": "stream",
     "text": [
      "(41821) accepted ('127.0.0.1', 56519)\n",
      "173.20.233.125,127.0.0.1 - - [22/Oct/2023 18:42:42] \"POST /add_step HTTP/1.1\" 200 166 0.000712\n"
     ]
    },
    {
     "name": "stdout",
     "output_type": "stream",
     "text": [
      "<Response [200]>\n"
     ]
    },
    {
     "name": "stderr",
     "output_type": "stream",
     "text": [
      "(41821) accepted ('127.0.0.1', 57968)\n",
      "173.20.233.125,127.0.0.1 - - [22/Oct/2023 18:42:43] \"POST /add_step HTTP/1.1\" 200 166 0.000458\n"
     ]
    },
    {
     "name": "stdout",
     "output_type": "stream",
     "text": [
      "<Response [200]>\n"
     ]
    },
    {
     "name": "stderr",
     "output_type": "stream",
     "text": [
      "(41821) accepted ('127.0.0.1', 59171)\n",
      "173.20.233.125,127.0.0.1 - - [22/Oct/2023 18:42:43] \"POST /add_step HTTP/1.1\" 200 166 0.000884\n"
     ]
    },
    {
     "name": "stdout",
     "output_type": "stream",
     "text": [
      "<Response [200]>\n"
     ]
    },
    {
     "name": "stderr",
     "output_type": "stream",
     "text": [
      "(41821) accepted ('127.0.0.1', 60414)\n",
      "173.20.233.125,127.0.0.1 - - [22/Oct/2023 18:42:44] \"POST /add_step HTTP/1.1\" 200 166 0.000513\n"
     ]
    },
    {
     "name": "stdout",
     "output_type": "stream",
     "text": [
      "<Response [200]>\n"
     ]
    },
    {
     "name": "stderr",
     "output_type": "stream",
     "text": [
      "(41821) accepted ('127.0.0.1', 61627)\n",
      "173.20.233.125,127.0.0.1 - - [22/Oct/2023 18:42:45] \"POST /add_step HTTP/1.1\" 200 166 0.000929\n"
     ]
    },
    {
     "name": "stdout",
     "output_type": "stream",
     "text": [
      "<Response [200]>\n"
     ]
    },
    {
     "name": "stderr",
     "output_type": "stream",
     "text": [
      "(41821) accepted ('127.0.0.1', 62941)\n",
      "173.20.233.125,127.0.0.1 - - [22/Oct/2023 18:42:45] \"POST /add_step HTTP/1.1\" 200 166 0.000657\n"
     ]
    },
    {
     "name": "stdout",
     "output_type": "stream",
     "text": [
      "<Response [200]>\n"
     ]
    },
    {
     "name": "stderr",
     "output_type": "stream",
     "text": [
      "(41821) accepted ('127.0.0.1', 64205)\n",
      "173.20.233.125,127.0.0.1 - - [22/Oct/2023 18:42:46] \"POST /add_step HTTP/1.1\" 200 166 0.000936\n"
     ]
    },
    {
     "name": "stdout",
     "output_type": "stream",
     "text": [
      "<Response [200]>\n"
     ]
    },
    {
     "name": "stderr",
     "output_type": "stream",
     "text": [
      "(41821) accepted ('127.0.0.1', 65487)\n",
      "173.20.233.125,127.0.0.1 - - [22/Oct/2023 18:42:47] \"POST /add_step HTTP/1.1\" 200 166 0.000949\n"
     ]
    },
    {
     "name": "stdout",
     "output_type": "stream",
     "text": [
      "<Response [200]>\n"
     ]
    },
    {
     "name": "stderr",
     "output_type": "stream",
     "text": [
      "(41821) accepted ('127.0.0.1', 50401)\n",
      "173.20.233.125,127.0.0.1 - - [22/Oct/2023 18:42:48] \"POST /add_step HTTP/1.1\" 200 166 0.000800\n"
     ]
    },
    {
     "name": "stdout",
     "output_type": "stream",
     "text": [
      "<Response [200]>\n"
     ]
    },
    {
     "name": "stderr",
     "output_type": "stream",
     "text": [
      "(41821) accepted ('127.0.0.1', 51680)\n",
      "173.20.233.125,127.0.0.1 - - [22/Oct/2023 18:42:48] \"POST /add_step HTTP/1.1\" 200 166 0.000649\n"
     ]
    },
    {
     "name": "stdout",
     "output_type": "stream",
     "text": [
      "<Response [200]>\n"
     ]
    },
    {
     "name": "stderr",
     "output_type": "stream",
     "text": [
      "(41821) accepted ('127.0.0.1', 52904)\n",
      "173.20.233.125,127.0.0.1 - - [22/Oct/2023 18:42:49] \"POST /add_step HTTP/1.1\" 200 166 0.000673\n"
     ]
    },
    {
     "name": "stdout",
     "output_type": "stream",
     "text": [
      "<Response [200]>\n"
     ]
    },
    {
     "name": "stderr",
     "output_type": "stream",
     "text": [
      "(41821) accepted ('127.0.0.1', 54231)\n",
      "173.20.233.125,127.0.0.1 - - [22/Oct/2023 18:42:50] \"POST /add_step HTTP/1.1\" 200 166 0.000679\n"
     ]
    },
    {
     "name": "stdout",
     "output_type": "stream",
     "text": [
      "<Response [200]>\n"
     ]
    },
    {
     "name": "stderr",
     "output_type": "stream",
     "text": [
      "(41821) accepted ('127.0.0.1', 55602)\n",
      "173.20.233.125,127.0.0.1 - - [22/Oct/2023 18:42:50] \"POST /add_step HTTP/1.1\" 200 166 0.000768\n"
     ]
    },
    {
     "name": "stdout",
     "output_type": "stream",
     "text": [
      "<Response [200]>\n"
     ]
    },
    {
     "name": "stderr",
     "output_type": "stream",
     "text": [
      "(41821) accepted ('127.0.0.1', 56905)\n",
      "173.20.233.125,127.0.0.1 - - [22/Oct/2023 18:42:51] \"POST /add_step HTTP/1.1\" 200 166 0.000942\n"
     ]
    },
    {
     "name": "stdout",
     "output_type": "stream",
     "text": [
      "<Response [200]>\n"
     ]
    },
    {
     "name": "stderr",
     "output_type": "stream",
     "text": [
      "(41821) accepted ('127.0.0.1', 58255)\n",
      "173.20.233.125,127.0.0.1 - - [22/Oct/2023 18:42:52] \"POST /add_step HTTP/1.1\" 200 166 0.000726\n"
     ]
    },
    {
     "name": "stdout",
     "output_type": "stream",
     "text": [
      "<Response [200]>\n"
     ]
    },
    {
     "name": "stderr",
     "output_type": "stream",
     "text": [
      "(41821) accepted ('127.0.0.1', 59468)\n",
      "173.20.233.125,127.0.0.1 - - [22/Oct/2023 18:42:52] \"POST /add_step HTTP/1.1\" 200 166 0.000545\n"
     ]
    },
    {
     "name": "stdout",
     "output_type": "stream",
     "text": [
      "<Response [200]>\n"
     ]
    },
    {
     "name": "stderr",
     "output_type": "stream",
     "text": [
      "(41821) accepted ('127.0.0.1', 60856)\n",
      "173.20.233.125,127.0.0.1 - - [22/Oct/2023 18:42:53] \"POST /add_step HTTP/1.1\" 200 166 0.000618\n"
     ]
    },
    {
     "name": "stdout",
     "output_type": "stream",
     "text": [
      "<Response [200]>\n"
     ]
    },
    {
     "name": "stderr",
     "output_type": "stream",
     "text": [
      "(41821) accepted ('127.0.0.1', 62085)\n",
      "173.20.233.125,127.0.0.1 - - [22/Oct/2023 18:42:54] \"POST /add_step HTTP/1.1\" 200 166 0.000718\n"
     ]
    },
    {
     "name": "stdout",
     "output_type": "stream",
     "text": [
      "<Response [200]>\n"
     ]
    },
    {
     "name": "stderr",
     "output_type": "stream",
     "text": [
      "(41821) accepted ('127.0.0.1', 63272)\n",
      "173.20.233.125,127.0.0.1 - - [22/Oct/2023 18:42:55] \"POST /add_step HTTP/1.1\" 200 166 0.000551\n"
     ]
    },
    {
     "name": "stdout",
     "output_type": "stream",
     "text": [
      "<Response [200]>\n"
     ]
    },
    {
     "name": "stderr",
     "output_type": "stream",
     "text": [
      "(41821) accepted ('127.0.0.1', 64555)\n",
      "173.20.233.125,127.0.0.1 - - [22/Oct/2023 18:42:55] \"POST /add_step HTTP/1.1\" 200 166 0.000792\n"
     ]
    },
    {
     "name": "stdout",
     "output_type": "stream",
     "text": [
      "<Response [200]>\n"
     ]
    },
    {
     "name": "stderr",
     "output_type": "stream",
     "text": [
      "(41821) accepted ('127.0.0.1', 49488)\n",
      "173.20.233.125,127.0.0.1 - - [22/Oct/2023 18:42:56] \"POST /add_step HTTP/1.1\" 200 166 0.000552\n"
     ]
    },
    {
     "name": "stdout",
     "output_type": "stream",
     "text": [
      "<Response [200]>\n"
     ]
    },
    {
     "name": "stderr",
     "output_type": "stream",
     "text": [
      "(41821) accepted ('127.0.0.1', 50929)\n",
      "173.20.233.125,127.0.0.1 - - [22/Oct/2023 18:42:57] \"POST /add_step HTTP/1.1\" 200 166 0.000673\n"
     ]
    },
    {
     "name": "stdout",
     "output_type": "stream",
     "text": [
      "<Response [200]>\n"
     ]
    },
    {
     "name": "stderr",
     "output_type": "stream",
     "text": [
      "(41821) accepted ('127.0.0.1', 52284)\n",
      "173.20.233.125,127.0.0.1 - - [22/Oct/2023 18:42:57] \"POST /add_step HTTP/1.1\" 200 166 0.000727\n"
     ]
    },
    {
     "name": "stdout",
     "output_type": "stream",
     "text": [
      "<Response [200]>\n"
     ]
    },
    {
     "name": "stderr",
     "output_type": "stream",
     "text": [
      "(41821) accepted ('127.0.0.1', 53500)\n",
      "173.20.233.125,127.0.0.1 - - [22/Oct/2023 18:42:58] \"POST /add_step HTTP/1.1\" 200 166 0.000699\n"
     ]
    },
    {
     "name": "stdout",
     "output_type": "stream",
     "text": [
      "<Response [200]>\n"
     ]
    },
    {
     "name": "stderr",
     "output_type": "stream",
     "text": [
      "(41821) accepted ('127.0.0.1', 54750)\n",
      "173.20.233.125,127.0.0.1 - - [22/Oct/2023 18:42:59] \"POST /add_step HTTP/1.1\" 200 166 0.000828\n"
     ]
    },
    {
     "name": "stdout",
     "output_type": "stream",
     "text": [
      "<Response [200]>\n"
     ]
    },
    {
     "name": "stderr",
     "output_type": "stream",
     "text": [
      "(41821) accepted ('127.0.0.1', 56086)\n",
      "173.20.233.125,127.0.0.1 - - [22/Oct/2023 18:43:00] \"POST /add_step HTTP/1.1\" 200 166 0.000569\n"
     ]
    },
    {
     "name": "stdout",
     "output_type": "stream",
     "text": [
      "<Response [200]>\n"
     ]
    },
    {
     "name": "stderr",
     "output_type": "stream",
     "text": [
      "(41821) accepted ('127.0.0.1', 57457)\n",
      "173.20.233.125,127.0.0.1 - - [22/Oct/2023 18:43:00] \"POST /add_step HTTP/1.1\" 200 166 0.000648\n"
     ]
    },
    {
     "name": "stdout",
     "output_type": "stream",
     "text": [
      "<Response [200]>\n"
     ]
    },
    {
     "name": "stderr",
     "output_type": "stream",
     "text": [
      "(41821) accepted ('127.0.0.1', 58819)\n",
      "173.20.233.125,127.0.0.1 - - [22/Oct/2023 18:43:01] \"POST /add_step HTTP/1.1\" 200 166 0.000994\n"
     ]
    },
    {
     "name": "stdout",
     "output_type": "stream",
     "text": [
      "<Response [200]>\n"
     ]
    },
    {
     "name": "stderr",
     "output_type": "stream",
     "text": [
      "(41821) accepted ('127.0.0.1', 60125)\n",
      "173.20.233.125,127.0.0.1 - - [22/Oct/2023 18:43:02] \"POST /add_step HTTP/1.1\" 200 166 0.000669\n"
     ]
    },
    {
     "name": "stdout",
     "output_type": "stream",
     "text": [
      "<Response [200]>\n"
     ]
    },
    {
     "name": "stderr",
     "output_type": "stream",
     "text": [
      "(41821) accepted ('127.0.0.1', 61423)\n",
      "173.20.233.125,127.0.0.1 - - [22/Oct/2023 18:43:02] \"POST /add_step HTTP/1.1\" 200 166 0.000643\n"
     ]
    },
    {
     "name": "stdout",
     "output_type": "stream",
     "text": [
      "<Response [200]>\n"
     ]
    },
    {
     "name": "stderr",
     "output_type": "stream",
     "text": [
      "(41821) accepted ('127.0.0.1', 62762)\n",
      "173.20.233.125,127.0.0.1 - - [22/Oct/2023 18:43:03] \"POST /add_step HTTP/1.1\" 200 166 0.000874\n"
     ]
    },
    {
     "name": "stdout",
     "output_type": "stream",
     "text": [
      "<Response [200]>\n"
     ]
    },
    {
     "name": "stderr",
     "output_type": "stream",
     "text": [
      "(41821) accepted ('127.0.0.1', 63977)\n",
      "173.20.233.125,127.0.0.1 - - [22/Oct/2023 18:43:04] \"POST /add_step HTTP/1.1\" 200 166 0.000824\n"
     ]
    },
    {
     "name": "stdout",
     "output_type": "stream",
     "text": [
      "<Response [200]>\n"
     ]
    },
    {
     "name": "stderr",
     "output_type": "stream",
     "text": [
      "(41821) accepted ('127.0.0.1', 65177)\n",
      "173.20.233.125,127.0.0.1 - - [22/Oct/2023 18:43:04] \"POST /add_step HTTP/1.1\" 200 166 0.000949\n"
     ]
    },
    {
     "name": "stdout",
     "output_type": "stream",
     "text": [
      "<Response [200]>\n"
     ]
    },
    {
     "name": "stderr",
     "output_type": "stream",
     "text": [
      "(41821) accepted ('127.0.0.1', 50145)\n",
      "173.20.233.125,127.0.0.1 - - [22/Oct/2023 18:43:05] \"POST /add_step HTTP/1.1\" 200 166 0.000645\n"
     ]
    },
    {
     "name": "stdout",
     "output_type": "stream",
     "text": [
      "<Response [200]>\n"
     ]
    },
    {
     "name": "stderr",
     "output_type": "stream",
     "text": [
      "(41821) accepted ('127.0.0.1', 51432)\n",
      "173.20.233.125,127.0.0.1 - - [22/Oct/2023 18:43:06] \"POST /add_step HTTP/1.1\" 200 166 0.000641\n"
     ]
    },
    {
     "name": "stdout",
     "output_type": "stream",
     "text": [
      "<Response [200]>\n"
     ]
    },
    {
     "name": "stderr",
     "output_type": "stream",
     "text": [
      "(41821) accepted ('127.0.0.1', 52786)\n",
      "173.20.233.125,127.0.0.1 - - [22/Oct/2023 18:43:07] \"POST /add_step HTTP/1.1\" 200 166 0.000925\n"
     ]
    },
    {
     "name": "stdout",
     "output_type": "stream",
     "text": [
      "<Response [200]>\n"
     ]
    },
    {
     "name": "stderr",
     "output_type": "stream",
     "text": [
      "(41821) accepted ('127.0.0.1', 54085)\n",
      "173.20.233.125,127.0.0.1 - - [22/Oct/2023 18:43:07] \"POST /add_step HTTP/1.1\" 200 166 0.000645\n"
     ]
    },
    {
     "name": "stdout",
     "output_type": "stream",
     "text": [
      "<Response [200]>\n"
     ]
    },
    {
     "name": "stderr",
     "output_type": "stream",
     "text": [
      "(41821) accepted ('127.0.0.1', 55379)\n",
      "173.20.233.125,127.0.0.1 - - [22/Oct/2023 18:43:08] \"POST /add_step HTTP/1.1\" 200 166 0.000508\n"
     ]
    },
    {
     "name": "stdout",
     "output_type": "stream",
     "text": [
      "<Response [200]>\n"
     ]
    },
    {
     "name": "stderr",
     "output_type": "stream",
     "text": [
      "(41821) accepted ('127.0.0.1', 56685)\n",
      "173.20.233.125,127.0.0.1 - - [22/Oct/2023 18:43:09] \"POST /add_step HTTP/1.1\" 200 166 0.000658\n"
     ]
    },
    {
     "name": "stdout",
     "output_type": "stream",
     "text": [
      "<Response [200]>\n"
     ]
    },
    {
     "name": "stderr",
     "output_type": "stream",
     "text": [
      "(41821) accepted ('127.0.0.1', 57960)\n",
      "173.20.233.125,127.0.0.1 - - [22/Oct/2023 18:43:09] \"POST /add_step HTTP/1.1\" 200 166 0.000893\n"
     ]
    },
    {
     "name": "stdout",
     "output_type": "stream",
     "text": [
      "<Response [200]>\n"
     ]
    },
    {
     "name": "stderr",
     "output_type": "stream",
     "text": [
      "(41821) accepted ('127.0.0.1', 59489)\n",
      "173.20.233.125,127.0.0.1 - - [22/Oct/2023 18:43:10] \"POST /add_step HTTP/1.1\" 200 166 0.000596\n"
     ]
    },
    {
     "name": "stdout",
     "output_type": "stream",
     "text": [
      "<Response [200]>\n"
     ]
    },
    {
     "name": "stderr",
     "output_type": "stream",
     "text": [
      "(41821) accepted ('127.0.0.1', 61023)\n",
      "173.20.233.125,127.0.0.1 - - [22/Oct/2023 18:43:11] \"POST /add_step HTTP/1.1\" 200 166 0.000591\n"
     ]
    },
    {
     "name": "stdout",
     "output_type": "stream",
     "text": [
      "<Response [200]>\n"
     ]
    },
    {
     "name": "stderr",
     "output_type": "stream",
     "text": [
      "(41821) accepted ('127.0.0.1', 62556)\n",
      "173.20.233.125,127.0.0.1 - - [22/Oct/2023 18:43:12] \"POST /add_step HTTP/1.1\" 200 166 0.001190\n"
     ]
    },
    {
     "name": "stdout",
     "output_type": "stream",
     "text": [
      "<Response [200]>\n"
     ]
    },
    {
     "name": "stderr",
     "output_type": "stream",
     "text": [
      "(41821) accepted ('127.0.0.1', 63918)\n",
      "173.20.233.125,127.0.0.1 - - [22/Oct/2023 18:43:13] \"POST /add_step HTTP/1.1\" 200 166 0.000923\n"
     ]
    },
    {
     "name": "stdout",
     "output_type": "stream",
     "text": [
      "<Response [200]>\n"
     ]
    },
    {
     "name": "stderr",
     "output_type": "stream",
     "text": [
      "(41821) accepted ('127.0.0.1', 65116)\n",
      "173.20.233.125,127.0.0.1 - - [22/Oct/2023 18:43:13] \"POST /add_step HTTP/1.1\" 200 166 0.000865\n"
     ]
    },
    {
     "name": "stdout",
     "output_type": "stream",
     "text": [
      "<Response [200]>\n"
     ]
    },
    {
     "name": "stderr",
     "output_type": "stream",
     "text": [
      "(41821) accepted ('127.0.0.1', 50107)\n",
      "173.20.233.125,127.0.0.1 - - [22/Oct/2023 18:43:14] \"POST /add_step HTTP/1.1\" 200 166 0.000776\n"
     ]
    },
    {
     "name": "stdout",
     "output_type": "stream",
     "text": [
      "<Response [200]>\n"
     ]
    },
    {
     "name": "stderr",
     "output_type": "stream",
     "text": [
      "(41821) accepted ('127.0.0.1', 51465)\n",
      "173.20.233.125,127.0.0.1 - - [22/Oct/2023 18:43:15] \"POST /add_step HTTP/1.1\" 200 166 0.001055\n"
     ]
    },
    {
     "name": "stdout",
     "output_type": "stream",
     "text": [
      "<Response [200]>\n"
     ]
    },
    {
     "name": "stderr",
     "output_type": "stream",
     "text": [
      "(41821) accepted ('127.0.0.1', 52777)\n",
      "173.20.233.125,127.0.0.1 - - [22/Oct/2023 18:43:16] \"POST /add_step HTTP/1.1\" 200 166 0.000575\n"
     ]
    },
    {
     "name": "stdout",
     "output_type": "stream",
     "text": [
      "<Response [200]>\n"
     ]
    },
    {
     "name": "stderr",
     "output_type": "stream",
     "text": [
      "(41821) accepted ('127.0.0.1', 54080)\n",
      "173.20.233.125,127.0.0.1 - - [22/Oct/2023 18:43:16] \"POST /add_step HTTP/1.1\" 200 166 0.000556\n"
     ]
    },
    {
     "name": "stdout",
     "output_type": "stream",
     "text": [
      "<Response [200]>\n"
     ]
    },
    {
     "name": "stderr",
     "output_type": "stream",
     "text": [
      "(41821) accepted ('127.0.0.1', 55391)\n",
      "173.20.233.125,127.0.0.1 - - [22/Oct/2023 18:43:17] \"POST /add_step HTTP/1.1\" 200 166 0.000516\n"
     ]
    },
    {
     "name": "stdout",
     "output_type": "stream",
     "text": [
      "<Response [200]>\n"
     ]
    },
    {
     "name": "stderr",
     "output_type": "stream",
     "text": [
      "(41821) accepted ('127.0.0.1', 56660)\n",
      "173.20.233.125,127.0.0.1 - - [22/Oct/2023 18:43:18] \"POST /add_step HTTP/1.1\" 200 166 0.000740\n"
     ]
    },
    {
     "name": "stdout",
     "output_type": "stream",
     "text": [
      "<Response [200]>\n"
     ]
    },
    {
     "name": "stderr",
     "output_type": "stream",
     "text": [
      "(41821) accepted ('127.0.0.1', 57971)\n",
      "173.20.233.125,127.0.0.1 - - [22/Oct/2023 18:43:18] \"POST /add_step HTTP/1.1\" 200 166 0.000874\n"
     ]
    },
    {
     "name": "stdout",
     "output_type": "stream",
     "text": [
      "<Response [200]>\n"
     ]
    },
    {
     "name": "stderr",
     "output_type": "stream",
     "text": [
      "(41821) accepted ('127.0.0.1', 59326)\n",
      "173.20.233.125,127.0.0.1 - - [22/Oct/2023 18:43:19] \"POST /add_step HTTP/1.1\" 200 166 0.000871\n"
     ]
    },
    {
     "name": "stdout",
     "output_type": "stream",
     "text": [
      "<Response [200]>\n"
     ]
    },
    {
     "name": "stderr",
     "output_type": "stream",
     "text": [
      "(41821) accepted ('127.0.0.1', 60835)\n",
      "173.20.233.125,127.0.0.1 - - [22/Oct/2023 18:43:20] \"POST /add_step HTTP/1.1\" 200 166 0.000539\n"
     ]
    },
    {
     "name": "stdout",
     "output_type": "stream",
     "text": [
      "<Response [200]>\n"
     ]
    },
    {
     "name": "stderr",
     "output_type": "stream",
     "text": [
      "(41821) accepted ('127.0.0.1', 62182)\n",
      "173.20.233.125,127.0.0.1 - - [22/Oct/2023 18:43:21] \"POST /add_step HTTP/1.1\" 200 166 0.000662\n"
     ]
    },
    {
     "name": "stdout",
     "output_type": "stream",
     "text": [
      "<Response [200]>\n"
     ]
    },
    {
     "name": "stderr",
     "output_type": "stream",
     "text": [
      "(41821) accepted ('127.0.0.1', 63346)\n",
      "173.20.233.125,127.0.0.1 - - [22/Oct/2023 18:43:21] \"POST /add_step HTTP/1.1\" 200 166 0.000758\n"
     ]
    },
    {
     "name": "stdout",
     "output_type": "stream",
     "text": [
      "<Response [200]>\n"
     ]
    },
    {
     "name": "stderr",
     "output_type": "stream",
     "text": [
      "(41821) accepted ('127.0.0.1', 64638)\n",
      "173.20.233.125,127.0.0.1 - - [22/Oct/2023 18:43:22] \"POST /add_step HTTP/1.1\" 200 166 0.000794\n"
     ]
    },
    {
     "name": "stdout",
     "output_type": "stream",
     "text": [
      "<Response [200]>\n"
     ]
    },
    {
     "name": "stderr",
     "output_type": "stream",
     "text": [
      "(41821) accepted ('127.0.0.1', 49561)\n",
      "173.20.233.125,127.0.0.1 - - [22/Oct/2023 18:43:23] \"POST /add_step HTTP/1.1\" 200 166 0.000830\n"
     ]
    },
    {
     "name": "stdout",
     "output_type": "stream",
     "text": [
      "<Response [200]>\n"
     ]
    },
    {
     "name": "stderr",
     "output_type": "stream",
     "text": [
      "(41821) accepted ('127.0.0.1', 50878)\n",
      "173.20.233.125,127.0.0.1 - - [22/Oct/2023 18:43:23] \"POST /add_step HTTP/1.1\" 200 166 0.000910\n"
     ]
    },
    {
     "name": "stdout",
     "output_type": "stream",
     "text": [
      "<Response [200]>\n"
     ]
    },
    {
     "name": "stderr",
     "output_type": "stream",
     "text": [
      "(41821) accepted ('127.0.0.1', 52384)\n",
      "173.20.233.125,127.0.0.1 - - [22/Oct/2023 18:43:24] \"POST /add_step HTTP/1.1\" 200 166 0.000656\n"
     ]
    },
    {
     "name": "stdout",
     "output_type": "stream",
     "text": [
      "<Response [200]>\n"
     ]
    },
    {
     "name": "stderr",
     "output_type": "stream",
     "text": [
      "(41821) accepted ('127.0.0.1', 53650)\n",
      "173.20.233.125,127.0.0.1 - - [22/Oct/2023 18:43:25] \"POST /add_step HTTP/1.1\" 200 166 0.000527\n"
     ]
    },
    {
     "name": "stdout",
     "output_type": "stream",
     "text": [
      "<Response [200]>\n"
     ]
    },
    {
     "name": "stderr",
     "output_type": "stream",
     "text": [
      "(41821) accepted ('127.0.0.1', 55046)\n",
      "173.20.233.125,127.0.0.1 - - [22/Oct/2023 18:43:26] \"POST /add_step HTTP/1.1\" 200 166 0.000654\n"
     ]
    },
    {
     "name": "stdout",
     "output_type": "stream",
     "text": [
      "<Response [200]>\n"
     ]
    },
    {
     "name": "stderr",
     "output_type": "stream",
     "text": [
      "(41821) accepted ('127.0.0.1', 56448)\n",
      "173.20.233.125,127.0.0.1 - - [22/Oct/2023 18:43:26] \"POST /add_step HTTP/1.1\" 200 166 0.000701\n"
     ]
    },
    {
     "name": "stdout",
     "output_type": "stream",
     "text": [
      "<Response [200]>\n"
     ]
    },
    {
     "name": "stderr",
     "output_type": "stream",
     "text": [
      "(41821) accepted ('127.0.0.1', 57941)\n",
      "173.20.233.125,127.0.0.1 - - [22/Oct/2023 18:43:27] \"POST /add_step HTTP/1.1\" 200 166 0.007208\n"
     ]
    },
    {
     "name": "stdout",
     "output_type": "stream",
     "text": [
      "<Response [200]>\n"
     ]
    },
    {
     "name": "stderr",
     "output_type": "stream",
     "text": [
      "(41821) accepted ('127.0.0.1', 59331)\n",
      "173.20.233.125,127.0.0.1 - - [22/Oct/2023 18:43:28] \"POST /add_step HTTP/1.1\" 200 166 0.000842\n"
     ]
    },
    {
     "name": "stdout",
     "output_type": "stream",
     "text": [
      "<Response [200]>\n"
     ]
    },
    {
     "name": "stderr",
     "output_type": "stream",
     "text": [
      "(41821) accepted ('127.0.0.1', 60708)\n",
      "173.20.233.125,127.0.0.1 - - [22/Oct/2023 18:43:29] \"POST /add_step HTTP/1.1\" 200 166 0.000902\n"
     ]
    },
    {
     "name": "stdout",
     "output_type": "stream",
     "text": [
      "<Response [200]>\n"
     ]
    },
    {
     "name": "stderr",
     "output_type": "stream",
     "text": [
      "(41821) accepted ('127.0.0.1', 61967)\n",
      "173.20.233.125,127.0.0.1 - - [22/Oct/2023 18:43:29] \"POST /add_step HTTP/1.1\" 200 166 0.000944\n"
     ]
    },
    {
     "name": "stdout",
     "output_type": "stream",
     "text": [
      "<Response [200]>\n"
     ]
    },
    {
     "name": "stderr",
     "output_type": "stream",
     "text": [
      "(41821) accepted ('127.0.0.1', 63503)\n",
      "173.20.233.125,127.0.0.1 - - [22/Oct/2023 18:43:30] \"POST /add_step HTTP/1.1\" 200 166 0.000724\n"
     ]
    },
    {
     "name": "stdout",
     "output_type": "stream",
     "text": [
      "<Response [200]>\n"
     ]
    },
    {
     "name": "stderr",
     "output_type": "stream",
     "text": [
      "(41821) accepted ('127.0.0.1', 64663)\n",
      "173.20.233.125,127.0.0.1 - - [22/Oct/2023 18:43:31] \"POST /add_step HTTP/1.1\" 200 166 0.000643\n"
     ]
    },
    {
     "name": "stdout",
     "output_type": "stream",
     "text": [
      "<Response [200]>\n"
     ]
    },
    {
     "name": "stderr",
     "output_type": "stream",
     "text": [
      "(41821) accepted ('127.0.0.1', 49592)\n",
      "173.20.233.125,127.0.0.1 - - [22/Oct/2023 18:43:32] \"POST /add_step HTTP/1.1\" 200 166 0.000814\n"
     ]
    },
    {
     "name": "stdout",
     "output_type": "stream",
     "text": [
      "<Response [200]>\n"
     ]
    },
    {
     "name": "stderr",
     "output_type": "stream",
     "text": [
      "(41821) accepted ('127.0.0.1', 50965)\n",
      "173.20.233.125,127.0.0.1 - - [22/Oct/2023 18:43:32] \"POST /add_step HTTP/1.1\" 200 166 0.000668\n"
     ]
    },
    {
     "name": "stdout",
     "output_type": "stream",
     "text": [
      "<Response [200]>\n"
     ]
    },
    {
     "name": "stderr",
     "output_type": "stream",
     "text": [
      "(41821) accepted ('127.0.0.1', 52540)\n",
      "173.20.233.125,127.0.0.1 - - [22/Oct/2023 18:43:33] \"POST /add_step HTTP/1.1\" 200 166 0.000840\n"
     ]
    },
    {
     "name": "stdout",
     "output_type": "stream",
     "text": [
      "<Response [200]>\n"
     ]
    },
    {
     "name": "stderr",
     "output_type": "stream",
     "text": [
      "(41821) accepted ('127.0.0.1', 54011)\n",
      "173.20.233.125,127.0.0.1 - - [22/Oct/2023 18:43:34] \"POST /add_step HTTP/1.1\" 200 166 0.000564\n"
     ]
    },
    {
     "name": "stdout",
     "output_type": "stream",
     "text": [
      "<Response [200]>\n"
     ]
    },
    {
     "name": "stderr",
     "output_type": "stream",
     "text": [
      "(41821) accepted ('127.0.0.1', 55458)\n",
      "173.20.233.125,127.0.0.1 - - [22/Oct/2023 18:43:35] \"POST /add_step HTTP/1.1\" 200 166 0.000564\n"
     ]
    },
    {
     "name": "stdout",
     "output_type": "stream",
     "text": [
      "<Response [200]>\n"
     ]
    },
    {
     "name": "stderr",
     "output_type": "stream",
     "text": [
      "(41821) accepted ('127.0.0.1', 56823)\n",
      "173.20.233.125,127.0.0.1 - - [22/Oct/2023 18:43:36] \"POST /add_step HTTP/1.1\" 200 166 0.000593\n"
     ]
    },
    {
     "name": "stdout",
     "output_type": "stream",
     "text": [
      "<Response [200]>\n"
     ]
    },
    {
     "name": "stderr",
     "output_type": "stream",
     "text": [
      "(41821) accepted ('127.0.0.1', 58178)\n",
      "173.20.233.125,127.0.0.1 - - [22/Oct/2023 18:43:36] \"POST /add_step HTTP/1.1\" 200 166 0.000520\n"
     ]
    },
    {
     "name": "stdout",
     "output_type": "stream",
     "text": [
      "<Response [200]>\n"
     ]
    },
    {
     "name": "stderr",
     "output_type": "stream",
     "text": [
      "127.0.0.1 - - [22/Oct/2023 18:43:37] \"GET /all HTTP/1.1\" 200 411590 0.049883\n",
      "(41821) accepted ('127.0.0.1', 60114)\n",
      "173.20.233.125,127.0.0.1 - - [22/Oct/2023 18:43:37] \"POST /add_step HTTP/1.1\" 200 166 0.002372\n"
     ]
    },
    {
     "name": "stdout",
     "output_type": "stream",
     "text": [
      "<Response [200]>\n"
     ]
    },
    {
     "name": "stderr",
     "output_type": "stream",
     "text": [
      "(41821) accepted ('127.0.0.1', 61689)\n",
      "173.20.233.125,127.0.0.1 - - [22/Oct/2023 18:43:38] \"POST /add_step HTTP/1.1\" 200 166 0.000721\n"
     ]
    },
    {
     "name": "stdout",
     "output_type": "stream",
     "text": [
      "<Response [200]>\n"
     ]
    },
    {
     "name": "stderr",
     "output_type": "stream",
     "text": [
      "(41821) accepted ('127.0.0.1', 63019)\n",
      "173.20.233.125,127.0.0.1 - - [22/Oct/2023 18:43:39] \"POST /add_step HTTP/1.1\" 200 166 0.000708\n"
     ]
    },
    {
     "name": "stdout",
     "output_type": "stream",
     "text": [
      "<Response [200]>\n"
     ]
    },
    {
     "name": "stderr",
     "output_type": "stream",
     "text": [
      "(41821) accepted ('127.0.0.1', 64200)\n",
      "173.20.233.125,127.0.0.1 - - [22/Oct/2023 18:43:40] \"POST /add_step HTTP/1.1\" 200 166 0.000441\n"
     ]
    },
    {
     "name": "stdout",
     "output_type": "stream",
     "text": [
      "<Response [200]>\n"
     ]
    },
    {
     "name": "stderr",
     "output_type": "stream",
     "text": [
      "(41821) accepted ('127.0.0.1', 65510)\n",
      "173.20.233.125,127.0.0.1 - - [22/Oct/2023 18:43:40] \"POST /add_step HTTP/1.1\" 200 166 0.000601\n"
     ]
    },
    {
     "name": "stdout",
     "output_type": "stream",
     "text": [
      "<Response [200]>\n"
     ]
    },
    {
     "name": "stderr",
     "output_type": "stream",
     "text": [
      "(41821) accepted ('127.0.0.1', 50251)\n",
      "173.20.233.125,127.0.0.1 - - [22/Oct/2023 18:43:41] \"POST /add_step HTTP/1.1\" 200 166 0.000433\n"
     ]
    },
    {
     "name": "stdout",
     "output_type": "stream",
     "text": [
      "<Response [200]>\n"
     ]
    },
    {
     "name": "stderr",
     "output_type": "stream",
     "text": [
      "127.0.0.1 - - [22/Oct/2023 18:43:41] \"GET /socket.io/?EIO=4&transport=websocket&sid=UwIx4Qe2us0SDVjrAAAZ HTTP/1.1\" 200 0 74.058422\n",
      "127.0.0.1 - - [22/Oct/2023 18:43:41] \"GET /socket.io/?EIO=4&transport=websocket&sid=gHaept1NbGMd767sAAAY HTTP/1.1\" 200 0 74.073336\n",
      "127.0.0.1 - - [22/Oct/2023 18:43:42] \"GET /socket.io/?EIO=4&transport=polling&t=OjPnU0T HTTP/1.1\" 200 330 0.000207\n",
      "127.0.0.1 - - [22/Oct/2023 18:43:42] \"GET /socket.io/?EIO=4&transport=polling&t=OjPnU0U HTTP/1.1\" 200 330 0.000215\n",
      "127.0.0.1 - - [22/Oct/2023 18:43:42] \"POST /socket.io/?EIO=4&transport=polling&t=OjPnU0c&sid=xo73Wp11x0Pr2TxNAAAc HTTP/1.1\" 200 219 0.000405\n",
      "127.0.0.1 - - [22/Oct/2023 18:43:42] \"GET /socket.io/?EIO=4&transport=polling&t=OjPnU0d&sid=xo73Wp11x0Pr2TxNAAAc HTTP/1.1\" 200 265 0.000155\n",
      "(41821) accepted ('127.0.0.1', 51632)\n",
      "127.0.0.1 - - [22/Oct/2023 18:43:42] \"POST /socket.io/?EIO=4&transport=polling&t=OjPnU0f&sid=10niILGO0t8Q6wtPAAAd HTTP/1.1\" 200 219 0.000302\n",
      "127.0.0.1 - - [22/Oct/2023 18:43:42] \"GET /socket.io/?EIO=4&transport=polling&t=OjPnU0g&sid=10niILGO0t8Q6wtPAAAd HTTP/1.1\" 200 265 0.000166\n",
      "127.0.0.1 - - [22/Oct/2023 18:43:42] \"GET /socket.io/?EIO=4&transport=polling&t=OjPnU0n&sid=xo73Wp11x0Pr2TxNAAAc HTTP/1.1\" 200 233 0.000351\n",
      "(41821) accepted ('127.0.0.1', 51664)\n",
      "127.0.0.1 - - [22/Oct/2023 18:43:42] \"GET /all HTTP/1.1\" 200 413970 0.035964\n",
      "(41821) accepted ('127.0.0.1', 51734)\n",
      "127.0.0.1 - - [22/Oct/2023 18:43:42] \"GET /socket.io/?EIO=4&transport=polling&t=OjPnU0p&sid=10niILGO0t8Q6wtPAAAd HTTP/1.1\" 200 233 0.047159\n",
      "173.20.233.125,127.0.0.1 - - [22/Oct/2023 18:43:42] \"POST /add_step HTTP/1.1\" 200 166 0.000536\n"
     ]
    },
    {
     "name": "stdout",
     "output_type": "stream",
     "text": [
      "<Response [200]>\n"
     ]
    },
    {
     "name": "stderr",
     "output_type": "stream",
     "text": [
      "(41821) accepted ('127.0.0.1', 52901)\n",
      "173.20.233.125,127.0.0.1 - - [22/Oct/2023 18:43:42] \"POST /add_step HTTP/1.1\" 200 166 0.000449\n"
     ]
    },
    {
     "name": "stdout",
     "output_type": "stream",
     "text": [
      "<Response [200]>\n"
     ]
    },
    {
     "name": "stderr",
     "output_type": "stream",
     "text": [
      "(41821) accepted ('127.0.0.1', 54030)\n",
      "173.20.233.125,127.0.0.1 - - [22/Oct/2023 18:43:43] \"POST /add_step HTTP/1.1\" 200 166 0.000467\n"
     ]
    },
    {
     "name": "stdout",
     "output_type": "stream",
     "text": [
      "<Response [200]>\n"
     ]
    },
    {
     "name": "stderr",
     "output_type": "stream",
     "text": [
      "(41821) accepted ('127.0.0.1', 55319)\n",
      "173.20.233.125,127.0.0.1 - - [22/Oct/2023 18:43:44] \"POST /add_step HTTP/1.1\" 200 166 0.000633\n"
     ]
    },
    {
     "name": "stdout",
     "output_type": "stream",
     "text": [
      "<Response [200]>\n"
     ]
    },
    {
     "name": "stderr",
     "output_type": "stream",
     "text": [
      "(41821) accepted ('127.0.0.1', 56429)\n",
      "173.20.233.125,127.0.0.1 - - [22/Oct/2023 18:43:44] \"POST /add_step HTTP/1.1\" 200 166 0.000910\n"
     ]
    },
    {
     "name": "stdout",
     "output_type": "stream",
     "text": [
      "<Response [200]>\n"
     ]
    },
    {
     "name": "stderr",
     "output_type": "stream",
     "text": [
      "(41821) accepted ('127.0.0.1', 57674)\n",
      "173.20.233.125,127.0.0.1 - - [22/Oct/2023 18:43:45] \"POST /add_step HTTP/1.1\" 200 166 0.000983\n"
     ]
    },
    {
     "name": "stdout",
     "output_type": "stream",
     "text": [
      "<Response [200]>\n"
     ]
    },
    {
     "name": "stderr",
     "output_type": "stream",
     "text": [
      "(41821) accepted ('127.0.0.1', 58862)\n",
      "173.20.233.125,127.0.0.1 - - [22/Oct/2023 18:43:46] \"POST /add_step HTTP/1.1\" 200 166 0.000659\n"
     ]
    },
    {
     "name": "stdout",
     "output_type": "stream",
     "text": [
      "<Response [200]>\n"
     ]
    },
    {
     "name": "stderr",
     "output_type": "stream",
     "text": [
      "(41821) accepted ('127.0.0.1', 60038)\n",
      "173.20.233.125,127.0.0.1 - - [22/Oct/2023 18:43:46] \"POST /add_step HTTP/1.1\" 200 166 0.000762\n"
     ]
    },
    {
     "name": "stdout",
     "output_type": "stream",
     "text": [
      "<Response [200]>\n"
     ]
    },
    {
     "name": "stderr",
     "output_type": "stream",
     "text": [
      "(41821) accepted ('127.0.0.1', 61221)\n",
      "173.20.233.125,127.0.0.1 - - [22/Oct/2023 18:43:47] \"POST /add_step HTTP/1.1\" 200 166 0.000639\n"
     ]
    },
    {
     "name": "stdout",
     "output_type": "stream",
     "text": [
      "<Response [200]>\n"
     ]
    },
    {
     "name": "stderr",
     "output_type": "stream",
     "text": [
      "(41821) accepted ('127.0.0.1', 62500)\n",
      "173.20.233.125,127.0.0.1 - - [22/Oct/2023 18:43:48] \"POST /add_step HTTP/1.1\" 200 166 0.000644\n"
     ]
    },
    {
     "name": "stdout",
     "output_type": "stream",
     "text": [
      "<Response [200]>\n"
     ]
    },
    {
     "name": "stderr",
     "output_type": "stream",
     "text": [
      "(41821) accepted ('127.0.0.1', 63681)\n",
      "173.20.233.125,127.0.0.1 - - [22/Oct/2023 18:43:48] \"POST /add_step HTTP/1.1\" 200 166 0.000574\n"
     ]
    },
    {
     "name": "stdout",
     "output_type": "stream",
     "text": [
      "<Response [200]>\n"
     ]
    },
    {
     "name": "stderr",
     "output_type": "stream",
     "text": [
      "(41821) accepted ('127.0.0.1', 64849)\n",
      "173.20.233.125,127.0.0.1 - - [22/Oct/2023 18:43:49] \"POST /add_step HTTP/1.1\" 200 166 0.000633\n"
     ]
    },
    {
     "name": "stdout",
     "output_type": "stream",
     "text": [
      "<Response [200]>\n"
     ]
    },
    {
     "name": "stderr",
     "output_type": "stream",
     "text": [
      "(41821) accepted ('127.0.0.1', 49677)\n",
      "173.20.233.125,127.0.0.1 - - [22/Oct/2023 18:43:49] \"POST /add_step HTTP/1.1\" 200 166 0.000773\n"
     ]
    },
    {
     "name": "stdout",
     "output_type": "stream",
     "text": [
      "<Response [200]>\n"
     ]
    },
    {
     "name": "stderr",
     "output_type": "stream",
     "text": [
      "(41821) accepted ('127.0.0.1', 50920)\n",
      "173.20.233.125,127.0.0.1 - - [22/Oct/2023 18:43:50] \"POST /add_step HTTP/1.1\" 200 166 0.000664\n"
     ]
    },
    {
     "name": "stdout",
     "output_type": "stream",
     "text": [
      "<Response [200]>\n"
     ]
    },
    {
     "name": "stderr",
     "output_type": "stream",
     "text": [
      "(41821) accepted ('127.0.0.1', 52136)\n",
      "173.20.233.125,127.0.0.1 - - [22/Oct/2023 18:43:51] \"POST /add_step HTTP/1.1\" 200 166 0.000655\n"
     ]
    },
    {
     "name": "stdout",
     "output_type": "stream",
     "text": [
      "<Response [200]>\n"
     ]
    },
    {
     "name": "stderr",
     "output_type": "stream",
     "text": [
      "(41821) accepted ('127.0.0.1', 53330)\n",
      "173.20.233.125,127.0.0.1 - - [22/Oct/2023 18:43:51] \"POST /add_step HTTP/1.1\" 200 166 0.001496\n"
     ]
    },
    {
     "name": "stdout",
     "output_type": "stream",
     "text": [
      "<Response [200]>\n"
     ]
    },
    {
     "name": "stderr",
     "output_type": "stream",
     "text": [
      "(41821) accepted ('127.0.0.1', 54492)\n",
      "173.20.233.125,127.0.0.1 - - [22/Oct/2023 18:43:52] \"POST /add_step HTTP/1.1\" 200 166 0.000978\n"
     ]
    },
    {
     "name": "stdout",
     "output_type": "stream",
     "text": [
      "<Response [200]>\n"
     ]
    },
    {
     "name": "stderr",
     "output_type": "stream",
     "text": [
      "(41821) accepted ('127.0.0.1', 55687)\n",
      "173.20.233.125,127.0.0.1 - - [22/Oct/2023 18:43:53] \"POST /add_step HTTP/1.1\" 200 166 0.000564\n"
     ]
    },
    {
     "name": "stdout",
     "output_type": "stream",
     "text": [
      "<Response [200]>\n"
     ]
    },
    {
     "name": "stderr",
     "output_type": "stream",
     "text": [
      "(41821) accepted ('127.0.0.1', 56833)\n",
      "173.20.233.125,127.0.0.1 - - [22/Oct/2023 18:43:53] \"POST /add_step HTTP/1.1\" 200 166 0.000859\n"
     ]
    },
    {
     "name": "stdout",
     "output_type": "stream",
     "text": [
      "<Response [200]>\n"
     ]
    },
    {
     "name": "stderr",
     "output_type": "stream",
     "text": [
      "(41821) accepted ('127.0.0.1', 58024)\n",
      "173.20.233.125,127.0.0.1 - - [22/Oct/2023 18:43:54] \"POST /add_step HTTP/1.1\" 200 166 0.000712\n"
     ]
    },
    {
     "name": "stdout",
     "output_type": "stream",
     "text": [
      "<Response [200]>\n"
     ]
    },
    {
     "name": "stderr",
     "output_type": "stream",
     "text": [
      "(41821) accepted ('127.0.0.1', 59507)\n",
      "173.20.233.125,127.0.0.1 - - [22/Oct/2023 18:43:55] \"POST /add_step HTTP/1.1\" 200 166 0.004803\n"
     ]
    },
    {
     "name": "stdout",
     "output_type": "stream",
     "text": [
      "<Response [200]>\n"
     ]
    },
    {
     "name": "stderr",
     "output_type": "stream",
     "text": [
      "(41821) accepted ('127.0.0.1', 61108)\n",
      "173.20.233.125,127.0.0.1 - - [22/Oct/2023 18:43:56] \"POST /add_step HTTP/1.1\" 200 166 0.000789\n"
     ]
    },
    {
     "name": "stdout",
     "output_type": "stream",
     "text": [
      "<Response [200]>\n"
     ]
    },
    {
     "name": "stderr",
     "output_type": "stream",
     "text": [
      "(41821) accepted ('127.0.0.1', 63123)\n",
      "173.20.233.125,127.0.0.1 - - [22/Oct/2023 18:43:57] \"POST /add_step HTTP/1.1\" 200 166 0.000522\n"
     ]
    },
    {
     "name": "stdout",
     "output_type": "stream",
     "text": [
      "<Response [200]>\n"
     ]
    },
    {
     "name": "stderr",
     "output_type": "stream",
     "text": [
      "(41821) accepted ('127.0.0.1', 64460)\n",
      "173.20.233.125,127.0.0.1 - - [22/Oct/2023 18:43:58] \"POST /add_step HTTP/1.1\" 200 166 0.000785\n"
     ]
    },
    {
     "name": "stdout",
     "output_type": "stream",
     "text": [
      "<Response [200]>\n"
     ]
    },
    {
     "name": "stderr",
     "output_type": "stream",
     "text": [
      "(41821) accepted ('127.0.0.1', 49350)\n",
      "173.20.233.125,127.0.0.1 - - [22/Oct/2023 18:43:58] \"POST /add_step HTTP/1.1\" 200 166 0.000843\n"
     ]
    },
    {
     "name": "stdout",
     "output_type": "stream",
     "text": [
      "<Response [200]>\n"
     ]
    },
    {
     "name": "stderr",
     "output_type": "stream",
     "text": [
      "(41821) accepted ('127.0.0.1', 50538)\n",
      "173.20.233.125,127.0.0.1 - - [22/Oct/2023 18:43:59] \"POST /add_step HTTP/1.1\" 200 166 0.000825\n"
     ]
    },
    {
     "name": "stdout",
     "output_type": "stream",
     "text": [
      "<Response [200]>\n"
     ]
    },
    {
     "name": "stderr",
     "output_type": "stream",
     "text": [
      "(41821) accepted ('127.0.0.1', 51662)\n",
      "173.20.233.125,127.0.0.1 - - [22/Oct/2023 18:43:59] \"POST /add_step HTTP/1.1\" 200 166 0.000639\n"
     ]
    },
    {
     "name": "stdout",
     "output_type": "stream",
     "text": [
      "<Response [200]>\n"
     ]
    },
    {
     "name": "stderr",
     "output_type": "stream",
     "text": [
      "(41821) accepted ('127.0.0.1', 52826)\n",
      "173.20.233.125,127.0.0.1 - - [22/Oct/2023 18:44:00] \"POST /add_step HTTP/1.1\" 200 166 0.000907\n"
     ]
    },
    {
     "name": "stdout",
     "output_type": "stream",
     "text": [
      "<Response [200]>\n"
     ]
    },
    {
     "name": "stderr",
     "output_type": "stream",
     "text": [
      "(41821) accepted ('127.0.0.1', 53937)\n",
      "173.20.233.125,127.0.0.1 - - [22/Oct/2023 18:44:01] \"POST /add_step HTTP/1.1\" 200 166 0.000751\n"
     ]
    },
    {
     "name": "stdout",
     "output_type": "stream",
     "text": [
      "<Response [200]>\n"
     ]
    },
    {
     "name": "stderr",
     "output_type": "stream",
     "text": [
      "(41821) accepted ('127.0.0.1', 55076)\n",
      "173.20.233.125,127.0.0.1 - - [22/Oct/2023 18:44:01] \"POST /add_step HTTP/1.1\" 200 166 0.000784\n"
     ]
    },
    {
     "name": "stdout",
     "output_type": "stream",
     "text": [
      "<Response [200]>\n"
     ]
    },
    {
     "name": "stderr",
     "output_type": "stream",
     "text": [
      "(41821) accepted ('127.0.0.1', 56212)\n",
      "173.20.233.125,127.0.0.1 - - [22/Oct/2023 18:44:02] \"POST /add_step HTTP/1.1\" 200 166 0.000772\n"
     ]
    },
    {
     "name": "stdout",
     "output_type": "stream",
     "text": [
      "<Response [200]>\n"
     ]
    },
    {
     "name": "stderr",
     "output_type": "stream",
     "text": [
      "(41821) accepted ('127.0.0.1', 57354)\n",
      "173.20.233.125,127.0.0.1 - - [22/Oct/2023 18:44:03] \"POST /add_step HTTP/1.1\" 200 166 0.000638\n"
     ]
    },
    {
     "name": "stdout",
     "output_type": "stream",
     "text": [
      "<Response [200]>\n"
     ]
    },
    {
     "name": "stderr",
     "output_type": "stream",
     "text": [
      "(41821) accepted ('127.0.0.1', 58488)\n",
      "173.20.233.125,127.0.0.1 - - [22/Oct/2023 18:44:03] \"POST /add_step HTTP/1.1\" 200 166 0.000765\n"
     ]
    },
    {
     "name": "stdout",
     "output_type": "stream",
     "text": [
      "<Response [200]>\n"
     ]
    },
    {
     "name": "stderr",
     "output_type": "stream",
     "text": [
      "(41821) accepted ('127.0.0.1', 59692)\n",
      "173.20.233.125,127.0.0.1 - - [22/Oct/2023 18:44:04] \"POST /add_step HTTP/1.1\" 200 166 0.000858\n"
     ]
    },
    {
     "name": "stdout",
     "output_type": "stream",
     "text": [
      "<Response [200]>\n"
     ]
    },
    {
     "name": "stderr",
     "output_type": "stream",
     "text": [
      "(41821) accepted ('127.0.0.1', 60789)\n",
      "173.20.233.125,127.0.0.1 - - [22/Oct/2023 18:44:04] \"POST /add_step HTTP/1.1\" 200 166 0.001081\n"
     ]
    },
    {
     "name": "stdout",
     "output_type": "stream",
     "text": [
      "<Response [200]>\n"
     ]
    },
    {
     "name": "stderr",
     "output_type": "stream",
     "text": [
      "(41821) accepted ('127.0.0.1', 61916)\n",
      "173.20.233.125,127.0.0.1 - - [22/Oct/2023 18:44:05] \"POST /add_step HTTP/1.1\" 200 166 0.000449\n"
     ]
    },
    {
     "name": "stdout",
     "output_type": "stream",
     "text": [
      "<Response [200]>\n"
     ]
    },
    {
     "name": "stderr",
     "output_type": "stream",
     "text": [
      "(41821) accepted ('127.0.0.1', 63028)\n",
      "173.20.233.125,127.0.0.1 - - [22/Oct/2023 18:44:06] \"POST /add_step HTTP/1.1\" 200 166 0.000737\n"
     ]
    },
    {
     "name": "stdout",
     "output_type": "stream",
     "text": [
      "<Response [200]>\n"
     ]
    },
    {
     "name": "stderr",
     "output_type": "stream",
     "text": [
      "(41821) accepted ('127.0.0.1', 64426)\n",
      "173.20.233.125,127.0.0.1 - - [22/Oct/2023 18:44:06] \"POST /add_step HTTP/1.1\" 200 166 0.000794\n"
     ]
    },
    {
     "name": "stdout",
     "output_type": "stream",
     "text": [
      "<Response [200]>\n"
     ]
    },
    {
     "name": "stderr",
     "output_type": "stream",
     "text": [
      "(41821) accepted ('127.0.0.1', 49265)\n",
      "173.20.233.125,127.0.0.1 - - [22/Oct/2023 18:44:07] \"POST /add_step HTTP/1.1\" 200 166 0.000680\n"
     ]
    },
    {
     "name": "stdout",
     "output_type": "stream",
     "text": [
      "<Response [200]>\n"
     ]
    },
    {
     "name": "stderr",
     "output_type": "stream",
     "text": [
      "(41821) accepted ('127.0.0.1', 50555)\n",
      "173.20.233.125,127.0.0.1 - - [22/Oct/2023 18:44:08] \"POST /add_step HTTP/1.1\" 200 166 0.001037\n"
     ]
    },
    {
     "name": "stdout",
     "output_type": "stream",
     "text": [
      "<Response [200]>\n"
     ]
    },
    {
     "name": "stderr",
     "output_type": "stream",
     "text": [
      "(41821) accepted ('127.0.0.1', 51770)\n",
      "173.20.233.125,127.0.0.1 - - [22/Oct/2023 18:44:08] \"POST /add_step HTTP/1.1\" 200 166 0.000623\n"
     ]
    },
    {
     "name": "stdout",
     "output_type": "stream",
     "text": [
      "<Response [200]>\n"
     ]
    },
    {
     "name": "stderr",
     "output_type": "stream",
     "text": [
      "(41821) accepted ('127.0.0.1', 52994)\n",
      "173.20.233.125,127.0.0.1 - - [22/Oct/2023 18:44:09] \"POST /add_step HTTP/1.1\" 200 166 0.000800\n"
     ]
    },
    {
     "name": "stdout",
     "output_type": "stream",
     "text": [
      "<Response [200]>\n"
     ]
    },
    {
     "name": "stderr",
     "output_type": "stream",
     "text": [
      "(41821) accepted ('127.0.0.1', 54246)\n",
      "173.20.233.125,127.0.0.1 - - [22/Oct/2023 18:44:10] \"POST /add_step HTTP/1.1\" 200 166 0.000872\n"
     ]
    },
    {
     "name": "stdout",
     "output_type": "stream",
     "text": [
      "<Response [200]>\n"
     ]
    },
    {
     "name": "stderr",
     "output_type": "stream",
     "text": [
      "(41821) accepted ('127.0.0.1', 55365)\n",
      "173.20.233.125,127.0.0.1 - - [22/Oct/2023 18:44:10] \"POST /add_step HTTP/1.1\" 200 166 0.000540\n"
     ]
    },
    {
     "name": "stdout",
     "output_type": "stream",
     "text": [
      "<Response [200]>\n"
     ]
    },
    {
     "name": "stderr",
     "output_type": "stream",
     "text": [
      "(41821) accepted ('127.0.0.1', 56484)\n",
      "173.20.233.125,127.0.0.1 - - [22/Oct/2023 18:44:11] \"POST /add_step HTTP/1.1\" 200 166 0.001053\n"
     ]
    },
    {
     "name": "stdout",
     "output_type": "stream",
     "text": [
      "<Response [200]>\n"
     ]
    },
    {
     "name": "stderr",
     "output_type": "stream",
     "text": [
      "(41821) accepted ('127.0.0.1', 57622)\n",
      "173.20.233.125,127.0.0.1 - - [22/Oct/2023 18:44:12] \"POST /add_step HTTP/1.1\" 200 166 0.000787\n"
     ]
    },
    {
     "name": "stdout",
     "output_type": "stream",
     "text": [
      "<Response [200]>\n"
     ]
    },
    {
     "name": "stderr",
     "output_type": "stream",
     "text": [
      "(41821) accepted ('127.0.0.1', 58762)\n",
      "173.20.233.125,127.0.0.1 - - [22/Oct/2023 18:44:12] \"POST /add_step HTTP/1.1\" 200 166 0.000631\n"
     ]
    },
    {
     "name": "stdout",
     "output_type": "stream",
     "text": [
      "<Response [200]>\n"
     ]
    },
    {
     "name": "stderr",
     "output_type": "stream",
     "text": [
      "(41821) accepted ('127.0.0.1', 59948)\n",
      "173.20.233.125,127.0.0.1 - - [22/Oct/2023 18:44:13] \"POST /add_step HTTP/1.1\" 200 166 0.000789\n"
     ]
    },
    {
     "name": "stdout",
     "output_type": "stream",
     "text": [
      "<Response [200]>\n"
     ]
    },
    {
     "name": "stderr",
     "output_type": "stream",
     "text": [
      "(41821) accepted ('127.0.0.1', 61046)\n",
      "173.20.233.125,127.0.0.1 - - [22/Oct/2023 18:44:13] \"POST /add_step HTTP/1.1\" 200 166 0.000638\n"
     ]
    },
    {
     "name": "stdout",
     "output_type": "stream",
     "text": [
      "<Response [200]>\n"
     ]
    },
    {
     "name": "stderr",
     "output_type": "stream",
     "text": [
      "(41821) accepted ('127.0.0.1', 62172)\n",
      "173.20.233.125,127.0.0.1 - - [22/Oct/2023 18:44:14] \"POST /add_step HTTP/1.1\" 200 166 0.000718\n"
     ]
    },
    {
     "name": "stdout",
     "output_type": "stream",
     "text": [
      "<Response [200]>\n"
     ]
    },
    {
     "name": "stderr",
     "output_type": "stream",
     "text": [
      "(41821) accepted ('127.0.0.1', 63323)\n",
      "173.20.233.125,127.0.0.1 - - [22/Oct/2023 18:44:15] \"POST /add_step HTTP/1.1\" 200 166 0.000628\n"
     ]
    },
    {
     "name": "stdout",
     "output_type": "stream",
     "text": [
      "<Response [200]>\n"
     ]
    },
    {
     "name": "stderr",
     "output_type": "stream",
     "text": [
      "(41821) accepted ('127.0.0.1', 64442)\n",
      "173.20.233.125,127.0.0.1 - - [22/Oct/2023 18:44:15] \"POST /add_step HTTP/1.1\" 200 166 0.000779\n"
     ]
    },
    {
     "name": "stdout",
     "output_type": "stream",
     "text": [
      "<Response [200]>\n"
     ]
    },
    {
     "name": "stderr",
     "output_type": "stream",
     "text": [
      "(41821) accepted ('127.0.0.1', 49518)\n",
      "173.20.233.125,127.0.0.1 - - [22/Oct/2023 18:44:16] \"POST /add_step HTTP/1.1\" 200 166 0.001019\n"
     ]
    },
    {
     "name": "stdout",
     "output_type": "stream",
     "text": [
      "<Response [200]>\n"
     ]
    },
    {
     "name": "stderr",
     "output_type": "stream",
     "text": [
      "(41821) accepted ('127.0.0.1', 50714)\n",
      "173.20.233.125,127.0.0.1 - - [22/Oct/2023 18:44:17] \"POST /add_step HTTP/1.1\" 200 166 0.000643\n"
     ]
    },
    {
     "name": "stdout",
     "output_type": "stream",
     "text": [
      "<Response [200]>\n"
     ]
    },
    {
     "name": "stderr",
     "output_type": "stream",
     "text": [
      "(41821) accepted ('127.0.0.1', 51858)\n",
      "173.20.233.125,127.0.0.1 - - [22/Oct/2023 18:44:17] \"POST /add_step HTTP/1.1\" 200 166 0.000611\n"
     ]
    },
    {
     "name": "stdout",
     "output_type": "stream",
     "text": [
      "<Response [200]>\n"
     ]
    },
    {
     "name": "stderr",
     "output_type": "stream",
     "text": [
      "(41821) accepted ('127.0.0.1', 53069)\n",
      "173.20.233.125,127.0.0.1 - - [22/Oct/2023 18:44:18] \"POST /add_step HTTP/1.1\" 200 166 0.000486\n"
     ]
    },
    {
     "name": "stdout",
     "output_type": "stream",
     "text": [
      "<Response [200]>\n"
     ]
    },
    {
     "name": "stderr",
     "output_type": "stream",
     "text": [
      "(41821) accepted ('127.0.0.1', 54216)\n",
      "173.20.233.125,127.0.0.1 - - [22/Oct/2023 18:44:19] \"POST /add_step HTTP/1.1\" 200 166 0.000614\n"
     ]
    },
    {
     "name": "stdout",
     "output_type": "stream",
     "text": [
      "<Response [200]>\n"
     ]
    },
    {
     "name": "stderr",
     "output_type": "stream",
     "text": [
      "(41821) accepted ('127.0.0.1', 55364)\n",
      "173.20.233.125,127.0.0.1 - - [22/Oct/2023 18:44:19] \"POST /add_step HTTP/1.1\" 200 166 0.000772\n"
     ]
    },
    {
     "name": "stdout",
     "output_type": "stream",
     "text": [
      "<Response [200]>\n"
     ]
    },
    {
     "name": "stderr",
     "output_type": "stream",
     "text": [
      "(41821) accepted ('127.0.0.1', 56500)\n",
      "173.20.233.125,127.0.0.1 - - [22/Oct/2023 18:44:20] \"POST /add_step HTTP/1.1\" 200 166 0.000501\n"
     ]
    },
    {
     "name": "stdout",
     "output_type": "stream",
     "text": [
      "<Response [200]>\n"
     ]
    },
    {
     "name": "stderr",
     "output_type": "stream",
     "text": [
      "(41821) accepted ('127.0.0.1', 57645)\n",
      "173.20.233.125,127.0.0.1 - - [22/Oct/2023 18:44:21] \"POST /add_step HTTP/1.1\" 200 166 0.000647\n"
     ]
    },
    {
     "name": "stdout",
     "output_type": "stream",
     "text": [
      "<Response [200]>\n"
     ]
    },
    {
     "name": "stderr",
     "output_type": "stream",
     "text": [
      "(41821) accepted ('127.0.0.1', 58802)\n",
      "173.20.233.125,127.0.0.1 - - [22/Oct/2023 18:44:21] \"POST /add_step HTTP/1.1\" 200 166 0.000629\n"
     ]
    },
    {
     "name": "stdout",
     "output_type": "stream",
     "text": [
      "<Response [200]>\n"
     ]
    },
    {
     "name": "stderr",
     "output_type": "stream",
     "text": [
      "(41821) accepted ('127.0.0.1', 59913)\n",
      "173.20.233.125,127.0.0.1 - - [22/Oct/2023 18:44:22] \"POST /add_step HTTP/1.1\" 200 166 0.000641\n"
     ]
    },
    {
     "name": "stdout",
     "output_type": "stream",
     "text": [
      "<Response [200]>\n"
     ]
    },
    {
     "name": "stderr",
     "output_type": "stream",
     "text": [
      "(41821) accepted ('127.0.0.1', 61050)\n",
      "173.20.233.125,127.0.0.1 - - [22/Oct/2023 18:44:22] \"POST /add_step HTTP/1.1\" 200 166 0.000627\n"
     ]
    },
    {
     "name": "stdout",
     "output_type": "stream",
     "text": [
      "<Response [200]>\n"
     ]
    },
    {
     "name": "stderr",
     "output_type": "stream",
     "text": [
      "(41821) accepted ('127.0.0.1', 62157)\n",
      "173.20.233.125,127.0.0.1 - - [22/Oct/2023 18:44:23] \"POST /add_step HTTP/1.1\" 200 166 0.000644\n"
     ]
    },
    {
     "name": "stdout",
     "output_type": "stream",
     "text": [
      "<Response [200]>\n"
     ]
    },
    {
     "name": "stderr",
     "output_type": "stream",
     "text": [
      "(41821) accepted ('127.0.0.1', 63275)\n",
      "173.20.233.125,127.0.0.1 - - [22/Oct/2023 18:44:24] \"POST /add_step HTTP/1.1\" 200 166 0.000643\n"
     ]
    },
    {
     "name": "stdout",
     "output_type": "stream",
     "text": [
      "<Response [200]>\n"
     ]
    },
    {
     "name": "stderr",
     "output_type": "stream",
     "text": [
      "(41821) accepted ('127.0.0.1', 64389)\n",
      "173.20.233.125,127.0.0.1 - - [22/Oct/2023 18:44:24] \"POST /add_step HTTP/1.1\" 200 166 0.000979\n"
     ]
    },
    {
     "name": "stdout",
     "output_type": "stream",
     "text": [
      "<Response [200]>\n"
     ]
    },
    {
     "name": "stderr",
     "output_type": "stream",
     "text": [
      "(41821) accepted ('127.0.0.1', 65492)\n",
      "173.20.233.125,127.0.0.1 - - [22/Oct/2023 18:44:25] \"POST /add_step HTTP/1.1\" 200 166 0.000690\n"
     ]
    },
    {
     "name": "stdout",
     "output_type": "stream",
     "text": [
      "<Response [200]>\n"
     ]
    },
    {
     "name": "stderr",
     "output_type": "stream",
     "text": [
      "(41821) accepted ('127.0.0.1', 50272)\n",
      "173.20.233.125,127.0.0.1 - - [22/Oct/2023 18:44:25] \"POST /add_step HTTP/1.1\" 200 166 0.000766\n"
     ]
    },
    {
     "name": "stdout",
     "output_type": "stream",
     "text": [
      "<Response [200]>\n"
     ]
    },
    {
     "name": "stderr",
     "output_type": "stream",
     "text": [
      "(41821) accepted ('127.0.0.1', 51441)\n",
      "173.20.233.125,127.0.0.1 - - [22/Oct/2023 18:44:26] \"POST /add_step HTTP/1.1\" 200 166 0.000637\n"
     ]
    },
    {
     "name": "stdout",
     "output_type": "stream",
     "text": [
      "<Response [200]>\n"
     ]
    },
    {
     "name": "stderr",
     "output_type": "stream",
     "text": [
      "(41821) accepted ('127.0.0.1', 52585)\n",
      "173.20.233.125,127.0.0.1 - - [22/Oct/2023 18:44:27] \"POST /add_step HTTP/1.1\" 200 166 0.000645\n"
     ]
    },
    {
     "name": "stdout",
     "output_type": "stream",
     "text": [
      "<Response [200]>\n"
     ]
    },
    {
     "name": "stderr",
     "output_type": "stream",
     "text": [
      "(41821) accepted ('127.0.0.1', 53692)\n",
      "173.20.233.125,127.0.0.1 - - [22/Oct/2023 18:44:27] \"POST /add_step HTTP/1.1\" 200 166 0.000643\n"
     ]
    },
    {
     "name": "stdout",
     "output_type": "stream",
     "text": [
      "<Response [200]>\n"
     ]
    },
    {
     "name": "stderr",
     "output_type": "stream",
     "text": [
      "(41821) accepted ('127.0.0.1', 54872)\n",
      "173.20.233.125,127.0.0.1 - - [22/Oct/2023 18:44:28] \"POST /add_step HTTP/1.1\" 200 166 0.008677\n"
     ]
    },
    {
     "name": "stdout",
     "output_type": "stream",
     "text": [
      "<Response [200]>\n"
     ]
    },
    {
     "name": "stderr",
     "output_type": "stream",
     "text": [
      "(41821) accepted ('127.0.0.1', 56040)\n",
      "173.20.233.125,127.0.0.1 - - [22/Oct/2023 18:44:29] \"POST /add_step HTTP/1.1\" 200 166 0.000896\n"
     ]
    },
    {
     "name": "stdout",
     "output_type": "stream",
     "text": [
      "<Response [200]>\n"
     ]
    },
    {
     "name": "stderr",
     "output_type": "stream",
     "text": [
      "(41821) accepted ('127.0.0.1', 57198)\n",
      "173.20.233.125,127.0.0.1 - - [22/Oct/2023 18:44:29] \"POST /add_step HTTP/1.1\" 200 166 0.000646\n"
     ]
    },
    {
     "name": "stdout",
     "output_type": "stream",
     "text": [
      "<Response [200]>\n"
     ]
    },
    {
     "name": "stderr",
     "output_type": "stream",
     "text": [
      "(41821) accepted ('127.0.0.1', 58317)\n",
      "173.20.233.125,127.0.0.1 - - [22/Oct/2023 18:44:30] \"POST /add_step HTTP/1.1\" 200 166 0.000844\n"
     ]
    },
    {
     "name": "stdout",
     "output_type": "stream",
     "text": [
      "<Response [200]>\n"
     ]
    },
    {
     "name": "stderr",
     "output_type": "stream",
     "text": [
      "(41821) accepted ('127.0.0.1', 59456)\n",
      "173.20.233.125,127.0.0.1 - - [22/Oct/2023 18:44:30] \"POST /add_step HTTP/1.1\" 200 166 0.000785\n"
     ]
    },
    {
     "name": "stdout",
     "output_type": "stream",
     "text": [
      "<Response [200]>\n"
     ]
    },
    {
     "name": "stderr",
     "output_type": "stream",
     "text": [
      "(41821) accepted ('127.0.0.1', 60649)\n",
      "173.20.233.125,127.0.0.1 - - [22/Oct/2023 18:44:31] \"POST /add_step HTTP/1.1\" 200 166 0.000776\n"
     ]
    },
    {
     "name": "stdout",
     "output_type": "stream",
     "text": [
      "<Response [200]>\n"
     ]
    },
    {
     "name": "stderr",
     "output_type": "stream",
     "text": [
      "(41821) accepted ('127.0.0.1', 61782)\n",
      "173.20.233.125,127.0.0.1 - - [22/Oct/2023 18:44:32] \"POST /add_step HTTP/1.1\" 200 166 0.000650\n"
     ]
    },
    {
     "name": "stdout",
     "output_type": "stream",
     "text": [
      "<Response [200]>\n"
     ]
    },
    {
     "name": "stderr",
     "output_type": "stream",
     "text": [
      "(41821) accepted ('127.0.0.1', 62901)\n",
      "173.20.233.125,127.0.0.1 - - [22/Oct/2023 18:44:32] \"POST /add_step HTTP/1.1\" 200 166 0.000698\n"
     ]
    },
    {
     "name": "stdout",
     "output_type": "stream",
     "text": [
      "<Response [200]>\n"
     ]
    },
    {
     "name": "stderr",
     "output_type": "stream",
     "text": [
      "(41821) accepted ('127.0.0.1', 64033)\n",
      "173.20.233.125,127.0.0.1 - - [22/Oct/2023 18:44:33] \"POST /add_step HTTP/1.1\" 200 166 0.000837\n"
     ]
    },
    {
     "name": "stdout",
     "output_type": "stream",
     "text": [
      "<Response [200]>\n"
     ]
    },
    {
     "name": "stderr",
     "output_type": "stream",
     "text": [
      "(41821) accepted ('127.0.0.1', 65158)\n",
      "173.20.233.125,127.0.0.1 - - [22/Oct/2023 18:44:34] \"POST /add_step HTTP/1.1\" 200 166 0.000841\n"
     ]
    },
    {
     "name": "stdout",
     "output_type": "stream",
     "text": [
      "<Response [200]>\n"
     ]
    },
    {
     "name": "stderr",
     "output_type": "stream",
     "text": [
      "(41821) accepted ('127.0.0.1', 49904)\n",
      "173.20.233.125,127.0.0.1 - - [22/Oct/2023 18:44:34] \"POST /add_step HTTP/1.1\" 200 166 0.000753\n"
     ]
    },
    {
     "name": "stdout",
     "output_type": "stream",
     "text": [
      "<Response [200]>\n"
     ]
    },
    {
     "name": "stderr",
     "output_type": "stream",
     "text": [
      "(41821) accepted ('127.0.0.1', 51083)\n",
      "173.20.233.125,127.0.0.1 - - [22/Oct/2023 18:44:35] \"POST /add_step HTTP/1.1\" 200 166 0.001042\n"
     ]
    },
    {
     "name": "stdout",
     "output_type": "stream",
     "text": [
      "<Response [200]>\n"
     ]
    },
    {
     "name": "stderr",
     "output_type": "stream",
     "text": [
      "(41821) accepted ('127.0.0.1', 52211)\n",
      "173.20.233.125,127.0.0.1 - - [22/Oct/2023 18:44:35] \"POST /add_step HTTP/1.1\" 200 166 0.000625\n"
     ]
    },
    {
     "name": "stdout",
     "output_type": "stream",
     "text": [
      "<Response [200]>\n"
     ]
    },
    {
     "name": "stderr",
     "output_type": "stream",
     "text": [
      "(41821) accepted ('127.0.0.1', 53324)\n",
      "173.20.233.125,127.0.0.1 - - [22/Oct/2023 18:44:36] \"POST /add_step HTTP/1.1\" 200 166 0.000627\n"
     ]
    },
    {
     "name": "stdout",
     "output_type": "stream",
     "text": [
      "<Response [200]>\n"
     ]
    },
    {
     "name": "stderr",
     "output_type": "stream",
     "text": [
      "(41821) accepted ('127.0.0.1', 54466)\n",
      "173.20.233.125,127.0.0.1 - - [22/Oct/2023 18:44:37] \"POST /add_step HTTP/1.1\" 200 166 0.000614\n"
     ]
    },
    {
     "name": "stdout",
     "output_type": "stream",
     "text": [
      "<Response [200]>\n"
     ]
    },
    {
     "name": "stderr",
     "output_type": "stream",
     "text": [
      "(41821) accepted ('127.0.0.1', 55822)\n",
      "173.20.233.125,127.0.0.1 - - [22/Oct/2023 18:44:37] \"POST /add_step HTTP/1.1\" 200 166 0.000853\n"
     ]
    },
    {
     "name": "stdout",
     "output_type": "stream",
     "text": [
      "<Response [200]>\n"
     ]
    },
    {
     "name": "stderr",
     "output_type": "stream",
     "text": [
      "(41821) accepted ('127.0.0.1', 56993)\n",
      "173.20.233.125,127.0.0.1 - - [22/Oct/2023 18:44:38] \"POST /add_step HTTP/1.1\" 200 166 0.000774\n"
     ]
    },
    {
     "name": "stdout",
     "output_type": "stream",
     "text": [
      "<Response [200]>\n"
     ]
    },
    {
     "name": "stderr",
     "output_type": "stream",
     "text": [
      "(41821) accepted ('127.0.0.1', 58121)\n",
      "173.20.233.125,127.0.0.1 - - [22/Oct/2023 18:44:39] \"POST /add_step HTTP/1.1\" 200 166 0.001031\n"
     ]
    },
    {
     "name": "stdout",
     "output_type": "stream",
     "text": [
      "<Response [200]>\n"
     ]
    },
    {
     "name": "stderr",
     "output_type": "stream",
     "text": [
      "(41821) accepted ('127.0.0.1', 59259)\n",
      "173.20.233.125,127.0.0.1 - - [22/Oct/2023 18:44:39] \"POST /add_step HTTP/1.1\" 200 166 0.000551\n"
     ]
    },
    {
     "name": "stdout",
     "output_type": "stream",
     "text": [
      "<Response [200]>\n"
     ]
    },
    {
     "name": "stderr",
     "output_type": "stream",
     "text": [
      "(41821) accepted ('127.0.0.1', 60364)\n",
      "173.20.233.125,127.0.0.1 - - [22/Oct/2023 18:44:40] \"POST /add_step HTTP/1.1\" 200 166 0.000878\n"
     ]
    },
    {
     "name": "stdout",
     "output_type": "stream",
     "text": [
      "<Response [200]>\n"
     ]
    },
    {
     "name": "stderr",
     "output_type": "stream",
     "text": [
      "(41821) accepted ('127.0.0.1', 61523)\n",
      "173.20.233.125,127.0.0.1 - - [22/Oct/2023 18:44:40] \"POST /add_step HTTP/1.1\" 200 166 0.000780\n"
     ]
    },
    {
     "name": "stdout",
     "output_type": "stream",
     "text": [
      "<Response [200]>\n"
     ]
    },
    {
     "name": "stderr",
     "output_type": "stream",
     "text": [
      "(41821) accepted ('127.0.0.1', 62632)\n",
      "173.20.233.125,127.0.0.1 - - [22/Oct/2023 18:44:41] \"POST /add_step HTTP/1.1\" 200 166 0.000626\n"
     ]
    },
    {
     "name": "stdout",
     "output_type": "stream",
     "text": [
      "<Response [200]>\n"
     ]
    },
    {
     "name": "stderr",
     "output_type": "stream",
     "text": [
      "(41821) accepted ('127.0.0.1', 63774)\n",
      "173.20.233.125,127.0.0.1 - - [22/Oct/2023 18:44:42] \"POST /add_step HTTP/1.1\" 200 166 0.001182\n"
     ]
    },
    {
     "name": "stdout",
     "output_type": "stream",
     "text": [
      "<Response [200]>\n"
     ]
    },
    {
     "name": "stderr",
     "output_type": "stream",
     "text": [
      "(41821) accepted ('127.0.0.1', 64852)\n",
      "173.20.233.125,127.0.0.1 - - [22/Oct/2023 18:44:42] \"POST /add_step HTTP/1.1\" 200 166 0.000636\n"
     ]
    },
    {
     "name": "stdout",
     "output_type": "stream",
     "text": [
      "<Response [200]>\n"
     ]
    },
    {
     "name": "stderr",
     "output_type": "stream",
     "text": [
      "(41821) accepted ('127.0.0.1', 49647)\n",
      "173.20.233.125,127.0.0.1 - - [22/Oct/2023 18:44:43] \"POST /add_step HTTP/1.1\" 200 166 0.000680\n"
     ]
    },
    {
     "name": "stdout",
     "output_type": "stream",
     "text": [
      "<Response [200]>\n"
     ]
    },
    {
     "name": "stderr",
     "output_type": "stream",
     "text": [
      "(41821) accepted ('127.0.0.1', 50777)\n",
      "173.20.233.125,127.0.0.1 - - [22/Oct/2023 18:44:44] \"POST /add_step HTTP/1.1\" 200 166 0.000780\n"
     ]
    },
    {
     "name": "stdout",
     "output_type": "stream",
     "text": [
      "<Response [200]>\n"
     ]
    },
    {
     "name": "stderr",
     "output_type": "stream",
     "text": [
      "(41821) accepted ('127.0.0.1', 51936)\n",
      "173.20.233.125,127.0.0.1 - - [22/Oct/2023 18:44:44] \"POST /add_step HTTP/1.1\" 200 166 0.001072\n"
     ]
    },
    {
     "name": "stdout",
     "output_type": "stream",
     "text": [
      "<Response [200]>\n"
     ]
    },
    {
     "name": "stderr",
     "output_type": "stream",
     "text": [
      "(41821) accepted ('127.0.0.1', 53047)\n",
      "173.20.233.125,127.0.0.1 - - [22/Oct/2023 18:44:45] \"POST /add_step HTTP/1.1\" 200 166 0.000863\n"
     ]
    },
    {
     "name": "stdout",
     "output_type": "stream",
     "text": [
      "<Response [200]>\n"
     ]
    },
    {
     "name": "stderr",
     "output_type": "stream",
     "text": [
      "(41821) accepted ('127.0.0.1', 54177)\n",
      "173.20.233.125,127.0.0.1 - - [22/Oct/2023 18:44:45] \"POST /add_step HTTP/1.1\" 200 166 0.004979\n"
     ]
    },
    {
     "name": "stdout",
     "output_type": "stream",
     "text": [
      "<Response [200]>\n"
     ]
    },
    {
     "name": "stderr",
     "output_type": "stream",
     "text": [
      "(41821) accepted ('127.0.0.1', 55320)\n",
      "173.20.233.125,127.0.0.1 - - [22/Oct/2023 18:44:46] \"POST /add_step HTTP/1.1\" 200 166 0.000678\n"
     ]
    },
    {
     "name": "stdout",
     "output_type": "stream",
     "text": [
      "<Response [200]>\n"
     ]
    },
    {
     "name": "stderr",
     "output_type": "stream",
     "text": [
      "(41821) accepted ('127.0.0.1', 56763)\n",
      "173.20.233.125,127.0.0.1 - - [22/Oct/2023 18:44:47] \"POST /add_step HTTP/1.1\" 200 166 0.000633\n"
     ]
    },
    {
     "name": "stdout",
     "output_type": "stream",
     "text": [
      "<Response [200]>\n"
     ]
    },
    {
     "name": "stderr",
     "output_type": "stream",
     "text": [
      "(41821) accepted ('127.0.0.1', 57965)\n",
      "173.20.233.125,127.0.0.1 - - [22/Oct/2023 18:44:47] \"POST /add_step HTTP/1.1\" 200 166 0.000617\n"
     ]
    },
    {
     "name": "stdout",
     "output_type": "stream",
     "text": [
      "<Response [200]>\n"
     ]
    },
    {
     "name": "stderr",
     "output_type": "stream",
     "text": [
      "(41821) accepted ('127.0.0.1', 59134)\n",
      "173.20.233.125,127.0.0.1 - - [22/Oct/2023 18:44:48] \"POST /add_step HTTP/1.1\" 200 166 0.001074\n"
     ]
    },
    {
     "name": "stdout",
     "output_type": "stream",
     "text": [
      "<Response [200]>\n"
     ]
    },
    {
     "name": "stderr",
     "output_type": "stream",
     "text": [
      "(41821) accepted ('127.0.0.1', 60289)\n",
      "173.20.233.125,127.0.0.1 - - [22/Oct/2023 18:44:49] \"POST /add_step HTTP/1.1\" 200 166 0.001086\n"
     ]
    },
    {
     "name": "stdout",
     "output_type": "stream",
     "text": [
      "<Response [200]>\n"
     ]
    },
    {
     "name": "stderr",
     "output_type": "stream",
     "text": [
      "(41821) accepted ('127.0.0.1', 61462)\n",
      "173.20.233.125,127.0.0.1 - - [22/Oct/2023 18:44:49] \"POST /add_step HTTP/1.1\" 200 166 0.000773\n"
     ]
    },
    {
     "name": "stdout",
     "output_type": "stream",
     "text": [
      "<Response [200]>\n"
     ]
    },
    {
     "name": "stderr",
     "output_type": "stream",
     "text": [
      "(41821) accepted ('127.0.0.1', 62565)\n",
      "173.20.233.125,127.0.0.1 - - [22/Oct/2023 18:44:50] \"POST /add_step HTTP/1.1\" 200 166 0.000547\n"
     ]
    },
    {
     "name": "stdout",
     "output_type": "stream",
     "text": [
      "<Response [200]>\n"
     ]
    },
    {
     "name": "stderr",
     "output_type": "stream",
     "text": [
      "(41821) accepted ('127.0.0.1', 63714)\n",
      "173.20.233.125,127.0.0.1 - - [22/Oct/2023 18:44:51] \"POST /add_step HTTP/1.1\" 200 166 0.000783\n"
     ]
    },
    {
     "name": "stdout",
     "output_type": "stream",
     "text": [
      "<Response [200]>\n"
     ]
    },
    {
     "name": "stderr",
     "output_type": "stream",
     "text": [
      "(41821) accepted ('127.0.0.1', 64834)\n",
      "173.20.233.125,127.0.0.1 - - [22/Oct/2023 18:44:51] \"POST /add_step HTTP/1.1\" 200 166 0.001083\n"
     ]
    },
    {
     "name": "stdout",
     "output_type": "stream",
     "text": [
      "<Response [200]>\n"
     ]
    },
    {
     "name": "stderr",
     "output_type": "stream",
     "text": [
      "(41821) accepted ('127.0.0.1', 49590)\n",
      "173.20.233.125,127.0.0.1 - - [22/Oct/2023 18:44:52] \"POST /add_step HTTP/1.1\" 200 166 0.000972\n"
     ]
    },
    {
     "name": "stdout",
     "output_type": "stream",
     "text": [
      "<Response [200]>\n"
     ]
    },
    {
     "name": "stderr",
     "output_type": "stream",
     "text": [
      "(41821) accepted ('127.0.0.1', 50736)\n",
      "173.20.233.125,127.0.0.1 - - [22/Oct/2023 18:44:52] \"POST /add_step HTTP/1.1\" 200 166 0.000749\n"
     ]
    },
    {
     "name": "stdout",
     "output_type": "stream",
     "text": [
      "<Response [200]>\n"
     ]
    },
    {
     "name": "stderr",
     "output_type": "stream",
     "text": [
      "(41821) accepted ('127.0.0.1', 51844)\n",
      "173.20.233.125,127.0.0.1 - - [22/Oct/2023 18:44:53] \"POST /add_step HTTP/1.1\" 200 166 0.000819\n"
     ]
    },
    {
     "name": "stdout",
     "output_type": "stream",
     "text": [
      "<Response [200]>\n"
     ]
    },
    {
     "name": "stderr",
     "output_type": "stream",
     "text": [
      "(41821) accepted ('127.0.0.1', 53005)\n",
      "173.20.233.125,127.0.0.1 - - [22/Oct/2023 18:44:54] \"POST /add_step HTTP/1.1\" 200 166 0.000674\n"
     ]
    },
    {
     "name": "stdout",
     "output_type": "stream",
     "text": [
      "<Response [200]>\n"
     ]
    },
    {
     "name": "stderr",
     "output_type": "stream",
     "text": [
      "(41821) accepted ('127.0.0.1', 54159)\n",
      "173.20.233.125,127.0.0.1 - - [22/Oct/2023 18:44:54] \"POST /add_step HTTP/1.1\" 200 166 0.000626\n"
     ]
    },
    {
     "name": "stdout",
     "output_type": "stream",
     "text": [
      "<Response [200]>\n"
     ]
    },
    {
     "name": "stderr",
     "output_type": "stream",
     "text": [
      "(41821) accepted ('127.0.0.1', 55297)\n",
      "173.20.233.125,127.0.0.1 - - [22/Oct/2023 18:44:55] \"POST /add_step HTTP/1.1\" 200 166 0.000634\n"
     ]
    },
    {
     "name": "stdout",
     "output_type": "stream",
     "text": [
      "<Response [200]>\n"
     ]
    },
    {
     "name": "stderr",
     "output_type": "stream",
     "text": [
      "(41821) accepted ('127.0.0.1', 56469)\n",
      "173.20.233.125,127.0.0.1 - - [22/Oct/2023 18:44:56] \"POST /add_step HTTP/1.1\" 200 166 0.000667\n"
     ]
    },
    {
     "name": "stdout",
     "output_type": "stream",
     "text": [
      "<Response [200]>\n"
     ]
    },
    {
     "name": "stderr",
     "output_type": "stream",
     "text": [
      "(41821) accepted ('127.0.0.1', 57594)\n",
      "173.20.233.125,127.0.0.1 - - [22/Oct/2023 18:44:56] \"POST /add_step HTTP/1.1\" 200 166 0.000624\n"
     ]
    },
    {
     "name": "stdout",
     "output_type": "stream",
     "text": [
      "<Response [200]>\n"
     ]
    },
    {
     "name": "stderr",
     "output_type": "stream",
     "text": [
      "(41821) accepted ('127.0.0.1', 58738)\n",
      "173.20.233.125,127.0.0.1 - - [22/Oct/2023 18:44:57] \"POST /add_step HTTP/1.1\" 200 166 0.001033\n"
     ]
    },
    {
     "name": "stdout",
     "output_type": "stream",
     "text": [
      "<Response [200]>\n"
     ]
    },
    {
     "name": "stderr",
     "output_type": "stream",
     "text": [
      "(41821) accepted ('127.0.0.1', 59826)\n",
      "173.20.233.125,127.0.0.1 - - [22/Oct/2023 18:44:57] \"POST /add_step HTTP/1.1\" 200 166 0.000763\n"
     ]
    },
    {
     "name": "stdout",
     "output_type": "stream",
     "text": [
      "<Response [200]>\n"
     ]
    },
    {
     "name": "stderr",
     "output_type": "stream",
     "text": [
      "(41821) accepted ('127.0.0.1', 60954)\n",
      "173.20.233.125,127.0.0.1 - - [22/Oct/2023 18:44:58] \"POST /add_step HTTP/1.1\" 200 166 0.000813\n"
     ]
    },
    {
     "name": "stdout",
     "output_type": "stream",
     "text": [
      "<Response [200]>\n"
     ]
    },
    {
     "name": "stderr",
     "output_type": "stream",
     "text": [
      "(41821) accepted ('127.0.0.1', 62076)\n",
      "173.20.233.125,127.0.0.1 - - [22/Oct/2023 18:44:59] \"POST /add_step HTTP/1.1\" 200 166 0.000774\n"
     ]
    },
    {
     "name": "stdout",
     "output_type": "stream",
     "text": [
      "<Response [200]>\n"
     ]
    },
    {
     "name": "stderr",
     "output_type": "stream",
     "text": [
      "(41821) accepted ('127.0.0.1', 63216)\n",
      "173.20.233.125,127.0.0.1 - - [22/Oct/2023 18:44:59] \"POST /add_step HTTP/1.1\" 200 166 0.000758\n"
     ]
    },
    {
     "name": "stdout",
     "output_type": "stream",
     "text": [
      "<Response [200]>\n"
     ]
    },
    {
     "name": "stderr",
     "output_type": "stream",
     "text": [
      "(41821) accepted ('127.0.0.1', 64351)\n",
      "173.20.233.125,127.0.0.1 - - [22/Oct/2023 18:45:00] \"POST /add_step HTTP/1.1\" 200 166 0.000728\n"
     ]
    },
    {
     "name": "stdout",
     "output_type": "stream",
     "text": [
      "<Response [200]>\n"
     ]
    },
    {
     "name": "stderr",
     "output_type": "stream",
     "text": [
      "(41821) accepted ('127.0.0.1', 65470)\n",
      "173.20.233.125,127.0.0.1 - - [22/Oct/2023 18:45:00] \"POST /add_step HTTP/1.1\" 200 166 0.000627\n"
     ]
    },
    {
     "name": "stdout",
     "output_type": "stream",
     "text": [
      "<Response [200]>\n"
     ]
    },
    {
     "name": "stderr",
     "output_type": "stream",
     "text": [
      "(41821) accepted ('127.0.0.1', 50228)\n",
      "173.20.233.125,127.0.0.1 - - [22/Oct/2023 18:45:01] \"POST /add_step HTTP/1.1\" 200 166 0.000528\n"
     ]
    },
    {
     "name": "stdout",
     "output_type": "stream",
     "text": [
      "<Response [200]>\n"
     ]
    },
    {
     "name": "stderr",
     "output_type": "stream",
     "text": [
      "(41821) accepted ('127.0.0.1', 51376)\n",
      "173.20.233.125,127.0.0.1 - - [22/Oct/2023 18:45:02] \"POST /add_step HTTP/1.1\" 200 166 0.001032\n"
     ]
    },
    {
     "name": "stdout",
     "output_type": "stream",
     "text": [
      "<Response [200]>\n"
     ]
    },
    {
     "name": "stderr",
     "output_type": "stream",
     "text": [
      "(41821) accepted ('127.0.0.1', 52530)\n",
      "173.20.233.125,127.0.0.1 - - [22/Oct/2023 18:45:02] \"POST /add_step HTTP/1.1\" 200 166 0.000532\n"
     ]
    },
    {
     "name": "stdout",
     "output_type": "stream",
     "text": [
      "<Response [200]>\n"
     ]
    },
    {
     "name": "stderr",
     "output_type": "stream",
     "text": [
      "(41821) accepted ('127.0.0.1', 53645)\n",
      "173.20.233.125,127.0.0.1 - - [22/Oct/2023 18:45:03] \"POST /add_step HTTP/1.1\" 200 166 0.000869\n"
     ]
    },
    {
     "name": "stdout",
     "output_type": "stream",
     "text": [
      "<Response [200]>\n"
     ]
    },
    {
     "name": "stderr",
     "output_type": "stream",
     "text": [
      "(41821) accepted ('127.0.0.1', 54805)\n",
      "173.20.233.125,127.0.0.1 - - [22/Oct/2023 18:45:03] \"POST /add_step HTTP/1.1\" 200 166 0.001066\n"
     ]
    },
    {
     "name": "stdout",
     "output_type": "stream",
     "text": [
      "<Response [200]>\n"
     ]
    },
    {
     "name": "stderr",
     "output_type": "stream",
     "text": [
      "(41821) accepted ('127.0.0.1', 55970)\n",
      "173.20.233.125,127.0.0.1 - - [22/Oct/2023 18:45:04] \"POST /add_step HTTP/1.1\" 200 166 0.000754\n"
     ]
    },
    {
     "name": "stdout",
     "output_type": "stream",
     "text": [
      "<Response [200]>\n"
     ]
    },
    {
     "name": "stderr",
     "output_type": "stream",
     "text": [
      "(41821) accepted ('127.0.0.1', 57131)\n",
      "173.20.233.125,127.0.0.1 - - [22/Oct/2023 18:45:05] \"POST /add_step HTTP/1.1\" 200 166 0.000628\n"
     ]
    },
    {
     "name": "stdout",
     "output_type": "stream",
     "text": [
      "<Response [200]>\n"
     ]
    },
    {
     "name": "stderr",
     "output_type": "stream",
     "text": [
      "(41821) accepted ('127.0.0.1', 58250)\n",
      "173.20.233.125,127.0.0.1 - - [22/Oct/2023 18:45:05] \"POST /add_step HTTP/1.1\" 200 166 0.001022\n"
     ]
    },
    {
     "name": "stdout",
     "output_type": "stream",
     "text": [
      "<Response [200]>\n"
     ]
    },
    {
     "name": "stderr",
     "output_type": "stream",
     "text": [
      "(41821) accepted ('127.0.0.1', 59355)\n",
      "173.20.233.125,127.0.0.1 - - [22/Oct/2023 18:45:06] \"POST /add_step HTTP/1.1\" 200 166 0.000750\n"
     ]
    },
    {
     "name": "stdout",
     "output_type": "stream",
     "text": [
      "<Response [200]>\n"
     ]
    },
    {
     "name": "stderr",
     "output_type": "stream",
     "text": [
      "(41821) accepted ('127.0.0.1', 60492)\n",
      "173.20.233.125,127.0.0.1 - - [22/Oct/2023 18:45:07] \"POST /add_step HTTP/1.1\" 200 166 0.000755\n"
     ]
    },
    {
     "name": "stdout",
     "output_type": "stream",
     "text": [
      "<Response [200]>\n"
     ]
    },
    {
     "name": "stderr",
     "output_type": "stream",
     "text": [
      "(41821) accepted ('127.0.0.1', 61598)\n",
      "173.20.233.125,127.0.0.1 - - [22/Oct/2023 18:45:07] \"POST /add_step HTTP/1.1\" 200 166 0.000875\n"
     ]
    },
    {
     "name": "stdout",
     "output_type": "stream",
     "text": [
      "<Response [200]>\n"
     ]
    },
    {
     "name": "stderr",
     "output_type": "stream",
     "text": [
      "(41821) accepted ('127.0.0.1', 62729)\n",
      "173.20.233.125,127.0.0.1 - - [22/Oct/2023 18:45:08] \"POST /add_step HTTP/1.1\" 200 166 0.000941\n"
     ]
    },
    {
     "name": "stdout",
     "output_type": "stream",
     "text": [
      "<Response [200]>\n"
     ]
    },
    {
     "name": "stderr",
     "output_type": "stream",
     "text": [
      "(41821) accepted ('127.0.0.1', 63866)\n",
      "173.20.233.125,127.0.0.1 - - [22/Oct/2023 18:45:08] \"POST /add_step HTTP/1.1\" 200 166 0.000779\n"
     ]
    },
    {
     "name": "stdout",
     "output_type": "stream",
     "text": [
      "<Response [200]>\n"
     ]
    },
    {
     "name": "stderr",
     "output_type": "stream",
     "text": [
      "(41821) accepted ('127.0.0.1', 65009)\n",
      "173.20.233.125,127.0.0.1 - - [22/Oct/2023 18:45:09] \"POST /add_step HTTP/1.1\" 200 166 0.000525\n"
     ]
    },
    {
     "name": "stdout",
     "output_type": "stream",
     "text": [
      "<Response [200]>\n"
     ]
    },
    {
     "name": "stderr",
     "output_type": "stream",
     "text": [
      "(41821) accepted ('127.0.0.1', 49758)\n",
      "173.20.233.125,127.0.0.1 - - [22/Oct/2023 18:45:10] \"POST /add_step HTTP/1.1\" 200 166 0.000652\n"
     ]
    },
    {
     "name": "stdout",
     "output_type": "stream",
     "text": [
      "<Response [200]>\n"
     ]
    },
    {
     "name": "stderr",
     "output_type": "stream",
     "text": [
      "(41821) accepted ('127.0.0.1', 50909)\n",
      "173.20.233.125,127.0.0.1 - - [22/Oct/2023 18:45:10] \"POST /add_step HTTP/1.1\" 200 166 0.000850\n"
     ]
    },
    {
     "name": "stdout",
     "output_type": "stream",
     "text": [
      "<Response [200]>\n"
     ]
    },
    {
     "name": "stderr",
     "output_type": "stream",
     "text": [
      "(41821) accepted ('127.0.0.1', 52008)\n",
      "173.20.233.125,127.0.0.1 - - [22/Oct/2023 18:45:11] \"POST /add_step HTTP/1.1\" 200 166 0.000901\n"
     ]
    },
    {
     "name": "stdout",
     "output_type": "stream",
     "text": [
      "<Response [200]>\n"
     ]
    },
    {
     "name": "stderr",
     "output_type": "stream",
     "text": [
      "(41821) accepted ('127.0.0.1', 53130)\n",
      "173.20.233.125,127.0.0.1 - - [22/Oct/2023 18:45:12] \"POST /add_step HTTP/1.1\" 200 166 0.000530\n"
     ]
    },
    {
     "name": "stdout",
     "output_type": "stream",
     "text": [
      "<Response [200]>\n"
     ]
    },
    {
     "name": "stderr",
     "output_type": "stream",
     "text": [
      "(41821) accepted ('127.0.0.1', 54278)\n",
      "173.20.233.125,127.0.0.1 - - [22/Oct/2023 18:45:12] \"POST /add_step HTTP/1.1\" 200 166 0.000635\n"
     ]
    },
    {
     "name": "stdout",
     "output_type": "stream",
     "text": [
      "<Response [200]>\n"
     ]
    },
    {
     "name": "stderr",
     "output_type": "stream",
     "text": [
      "(41821) accepted ('127.0.0.1', 55425)\n",
      "173.20.233.125,127.0.0.1 - - [22/Oct/2023 18:45:13] \"POST /add_step HTTP/1.1\" 200 166 0.000753\n"
     ]
    },
    {
     "name": "stdout",
     "output_type": "stream",
     "text": [
      "<Response [200]>\n"
     ]
    },
    {
     "name": "stderr",
     "output_type": "stream",
     "text": [
      "(41821) accepted ('127.0.0.1', 56545)\n",
      "173.20.233.125,127.0.0.1 - - [22/Oct/2023 18:45:13] \"POST /add_step HTTP/1.1\" 200 166 0.000897\n"
     ]
    },
    {
     "name": "stdout",
     "output_type": "stream",
     "text": [
      "<Response [200]>\n"
     ]
    },
    {
     "name": "stderr",
     "output_type": "stream",
     "text": [
      "(41821) accepted ('127.0.0.1', 57683)\n",
      "173.20.233.125,127.0.0.1 - - [22/Oct/2023 18:45:14] \"POST /add_step HTTP/1.1\" 200 166 0.000716\n"
     ]
    },
    {
     "name": "stdout",
     "output_type": "stream",
     "text": [
      "<Response [200]>\n"
     ]
    },
    {
     "name": "stderr",
     "output_type": "stream",
     "text": [
      "(41821) accepted ('127.0.0.1', 58826)\n",
      "173.20.233.125,127.0.0.1 - - [22/Oct/2023 18:45:15] \"POST /add_step HTTP/1.1\" 200 166 0.000626\n"
     ]
    },
    {
     "name": "stdout",
     "output_type": "stream",
     "text": [
      "<Response [200]>\n"
     ]
    },
    {
     "name": "stderr",
     "output_type": "stream",
     "text": [
      "(41821) accepted ('127.0.0.1', 59919)\n",
      "173.20.233.125,127.0.0.1 - - [22/Oct/2023 18:45:15] \"POST /add_step HTTP/1.1\" 200 166 0.001035\n"
     ]
    },
    {
     "name": "stdout",
     "output_type": "stream",
     "text": [
      "<Response [200]>\n"
     ]
    },
    {
     "name": "stderr",
     "output_type": "stream",
     "text": [
      "(41821) accepted ('127.0.0.1', 61056)\n",
      "173.20.233.125,127.0.0.1 - - [22/Oct/2023 18:45:16] \"POST /add_step HTTP/1.1\" 200 166 0.000750\n"
     ]
    },
    {
     "name": "stdout",
     "output_type": "stream",
     "text": [
      "<Response [200]>\n"
     ]
    },
    {
     "name": "stderr",
     "output_type": "stream",
     "text": [
      "(41821) accepted ('127.0.0.1', 62149)\n",
      "173.20.233.125,127.0.0.1 - - [22/Oct/2023 18:45:16] \"POST /add_step HTTP/1.1\" 200 166 0.000657\n"
     ]
    },
    {
     "name": "stdout",
     "output_type": "stream",
     "text": [
      "<Response [200]>\n"
     ]
    },
    {
     "name": "stderr",
     "output_type": "stream",
     "text": [
      "(41821) accepted ('127.0.0.1', 63241)\n",
      "173.20.233.125,127.0.0.1 - - [22/Oct/2023 18:45:17] \"POST /add_step HTTP/1.1\" 200 166 0.000824\n"
     ]
    },
    {
     "name": "stdout",
     "output_type": "stream",
     "text": [
      "<Response [200]>\n"
     ]
    },
    {
     "name": "stderr",
     "output_type": "stream",
     "text": [
      "(41821) accepted ('127.0.0.1', 64372)\n",
      "173.20.233.125,127.0.0.1 - - [22/Oct/2023 18:45:18] \"POST /add_step HTTP/1.1\" 200 166 0.000781\n"
     ]
    },
    {
     "name": "stdout",
     "output_type": "stream",
     "text": [
      "<Response [200]>\n"
     ]
    },
    {
     "name": "stderr",
     "output_type": "stream",
     "text": [
      "(41821) accepted ('127.0.0.1', 65518)\n",
      "173.20.233.125,127.0.0.1 - - [22/Oct/2023 18:45:18] \"POST /add_step HTTP/1.1\" 200 166 0.000800\n"
     ]
    },
    {
     "name": "stdout",
     "output_type": "stream",
     "text": [
      "<Response [200]>\n"
     ]
    },
    {
     "name": "stderr",
     "output_type": "stream",
     "text": [
      "(41821) accepted ('127.0.0.1', 50276)\n",
      "173.20.233.125,127.0.0.1 - - [22/Oct/2023 18:45:19] \"POST /add_step HTTP/1.1\" 200 166 0.000815\n"
     ]
    },
    {
     "name": "stdout",
     "output_type": "stream",
     "text": [
      "<Response [200]>\n"
     ]
    },
    {
     "name": "stderr",
     "output_type": "stream",
     "text": [
      "(41821) accepted ('127.0.0.1', 51411)\n",
      "173.20.233.125,127.0.0.1 - - [22/Oct/2023 18:45:19] \"POST /add_step HTTP/1.1\" 200 166 0.000624\n"
     ]
    },
    {
     "name": "stdout",
     "output_type": "stream",
     "text": [
      "<Response [200]>\n"
     ]
    },
    {
     "name": "stderr",
     "output_type": "stream",
     "text": [
      "(41821) accepted ('127.0.0.1', 52544)\n",
      "173.20.233.125,127.0.0.1 - - [22/Oct/2023 18:45:20] \"POST /add_step HTTP/1.1\" 200 166 0.000956\n"
     ]
    },
    {
     "name": "stdout",
     "output_type": "stream",
     "text": [
      "<Response [200]>\n"
     ]
    },
    {
     "name": "stderr",
     "output_type": "stream",
     "text": [
      "(41821) accepted ('127.0.0.1', 53701)\n",
      "173.20.233.125,127.0.0.1 - - [22/Oct/2023 18:45:21] \"POST /add_step HTTP/1.1\" 200 166 0.000765\n"
     ]
    },
    {
     "name": "stdout",
     "output_type": "stream",
     "text": [
      "<Response [200]>\n"
     ]
    },
    {
     "name": "stderr",
     "output_type": "stream",
     "text": [
      "(41821) accepted ('127.0.0.1', 54842)\n",
      "173.20.233.125,127.0.0.1 - - [22/Oct/2023 18:45:21] \"POST /add_step HTTP/1.1\" 200 166 0.000747\n"
     ]
    },
    {
     "name": "stdout",
     "output_type": "stream",
     "text": [
      "<Response [200]>\n"
     ]
    },
    {
     "name": "stderr",
     "output_type": "stream",
     "text": [
      "(41821) accepted ('127.0.0.1', 55957)\n",
      "173.20.233.125,127.0.0.1 - - [22/Oct/2023 18:45:22] \"POST /add_step HTTP/1.1\" 200 166 0.000989\n"
     ]
    },
    {
     "name": "stdout",
     "output_type": "stream",
     "text": [
      "<Response [200]>\n"
     ]
    },
    {
     "name": "stderr",
     "output_type": "stream",
     "text": [
      "(41821) accepted ('127.0.0.1', 57156)\n",
      "173.20.233.125,127.0.0.1 - - [22/Oct/2023 18:45:23] \"POST /add_step HTTP/1.1\" 200 166 0.000886\n"
     ]
    },
    {
     "name": "stdout",
     "output_type": "stream",
     "text": [
      "<Response [200]>\n"
     ]
    },
    {
     "name": "stderr",
     "output_type": "stream",
     "text": [
      "(41821) accepted ('127.0.0.1', 58666)\n",
      "173.20.233.125,127.0.0.1 - - [22/Oct/2023 18:45:23] \"POST /add_step HTTP/1.1\" 200 166 0.000896\n"
     ]
    },
    {
     "name": "stdout",
     "output_type": "stream",
     "text": [
      "<Response [200]>\n"
     ]
    },
    {
     "name": "stderr",
     "output_type": "stream",
     "text": [
      "(41821) accepted ('127.0.0.1', 59800)\n",
      "173.20.233.125,127.0.0.1 - - [22/Oct/2023 18:45:24] \"POST /add_step HTTP/1.1\" 200 166 0.000659\n"
     ]
    },
    {
     "name": "stdout",
     "output_type": "stream",
     "text": [
      "<Response [200]>\n"
     ]
    },
    {
     "name": "stderr",
     "output_type": "stream",
     "text": [
      "(41821) accepted ('127.0.0.1', 60990)\n",
      "173.20.233.125,127.0.0.1 - - [22/Oct/2023 18:45:25] \"POST /add_step HTTP/1.1\" 200 166 0.000769\n"
     ]
    },
    {
     "name": "stdout",
     "output_type": "stream",
     "text": [
      "<Response [200]>\n"
     ]
    },
    {
     "name": "stderr",
     "output_type": "stream",
     "text": [
      "(41821) accepted ('127.0.0.1', 62186)\n",
      "173.20.233.125,127.0.0.1 - - [22/Oct/2023 18:45:25] \"POST /add_step HTTP/1.1\" 200 166 0.000780\n"
     ]
    },
    {
     "name": "stdout",
     "output_type": "stream",
     "text": [
      "<Response [200]>\n"
     ]
    },
    {
     "name": "stderr",
     "output_type": "stream",
     "text": [
      "(41821) accepted ('127.0.0.1', 63353)\n",
      "173.20.233.125,127.0.0.1 - - [22/Oct/2023 18:45:26] \"POST /add_step HTTP/1.1\" 200 166 0.000646\n"
     ]
    },
    {
     "name": "stdout",
     "output_type": "stream",
     "text": [
      "<Response [200]>\n"
     ]
    },
    {
     "name": "stderr",
     "output_type": "stream",
     "text": [
      "(41821) accepted ('127.0.0.1', 64525)\n",
      "173.20.233.125,127.0.0.1 - - [22/Oct/2023 18:45:27] \"POST /add_step HTTP/1.1\" 200 166 0.000621\n"
     ]
    },
    {
     "name": "stdout",
     "output_type": "stream",
     "text": [
      "<Response [200]>\n"
     ]
    },
    {
     "name": "stderr",
     "output_type": "stream",
     "text": [
      "(41821) accepted ('127.0.0.1', 49300)\n",
      "173.20.233.125,127.0.0.1 - - [22/Oct/2023 18:45:27] \"POST /add_step HTTP/1.1\" 200 166 0.001044\n"
     ]
    },
    {
     "name": "stdout",
     "output_type": "stream",
     "text": [
      "<Response [200]>\n"
     ]
    },
    {
     "name": "stderr",
     "output_type": "stream",
     "text": [
      "(41821) accepted ('127.0.0.1', 50480)\n",
      "173.20.233.125,127.0.0.1 - - [22/Oct/2023 18:45:28] \"POST /add_step HTTP/1.1\" 200 166 0.000942\n"
     ]
    },
    {
     "name": "stdout",
     "output_type": "stream",
     "text": [
      "<Response [200]>\n"
     ]
    },
    {
     "name": "stderr",
     "output_type": "stream",
     "text": [
      "(41821) accepted ('127.0.0.1', 51625)\n",
      "173.20.233.125,127.0.0.1 - - [22/Oct/2023 18:45:29] \"POST /add_step HTTP/1.1\" 200 166 0.000649\n"
     ]
    },
    {
     "name": "stdout",
     "output_type": "stream",
     "text": [
      "<Response [200]>\n"
     ]
    },
    {
     "name": "stderr",
     "output_type": "stream",
     "text": [
      "(41821) accepted ('127.0.0.1', 52810)\n",
      "173.20.233.125,127.0.0.1 - - [22/Oct/2023 18:45:29] \"POST /add_step HTTP/1.1\" 200 166 0.000832\n"
     ]
    },
    {
     "name": "stdout",
     "output_type": "stream",
     "text": [
      "<Response [200]>\n"
     ]
    },
    {
     "name": "stderr",
     "output_type": "stream",
     "text": [
      "(41821) accepted ('127.0.0.1', 53960)\n",
      "173.20.233.125,127.0.0.1 - - [22/Oct/2023 18:45:30] \"POST /add_step HTTP/1.1\" 200 166 0.000952\n"
     ]
    },
    {
     "name": "stdout",
     "output_type": "stream",
     "text": [
      "<Response [200]>\n"
     ]
    },
    {
     "name": "stderr",
     "output_type": "stream",
     "text": [
      "(41821) accepted ('127.0.0.1', 55156)\n",
      "173.20.233.125,127.0.0.1 - - [22/Oct/2023 18:45:30] \"POST /add_step HTTP/1.1\" 200 166 0.001191\n"
     ]
    },
    {
     "name": "stdout",
     "output_type": "stream",
     "text": [
      "<Response [200]>\n"
     ]
    },
    {
     "name": "stderr",
     "output_type": "stream",
     "text": [
      "(41821) accepted ('127.0.0.1', 56511)\n",
      "173.20.233.125,127.0.0.1 - - [22/Oct/2023 18:45:31] \"POST /add_step HTTP/1.1\" 200 166 0.000783\n"
     ]
    },
    {
     "name": "stdout",
     "output_type": "stream",
     "text": [
      "<Response [200]>\n"
     ]
    },
    {
     "name": "stderr",
     "output_type": "stream",
     "text": [
      "(41821) accepted ('127.0.0.1', 58000)\n",
      "173.20.233.125,127.0.0.1 - - [22/Oct/2023 18:45:32] \"POST /add_step HTTP/1.1\" 200 166 0.001071\n"
     ]
    },
    {
     "name": "stdout",
     "output_type": "stream",
     "text": [
      "<Response [200]>\n"
     ]
    },
    {
     "name": "stderr",
     "output_type": "stream",
     "text": [
      "(41821) accepted ('127.0.0.1', 59139)\n",
      "173.20.233.125,127.0.0.1 - - [22/Oct/2023 18:45:33] \"POST /add_step HTTP/1.1\" 200 166 0.001134\n"
     ]
    },
    {
     "name": "stdout",
     "output_type": "stream",
     "text": [
      "<Response [200]>\n"
     ]
    },
    {
     "name": "stderr",
     "output_type": "stream",
     "text": [
      "(41821) accepted ('127.0.0.1', 60263)\n",
      "173.20.233.125,127.0.0.1 - - [22/Oct/2023 18:45:33] \"POST /add_step HTTP/1.1\" 200 166 0.000665\n"
     ]
    },
    {
     "name": "stdout",
     "output_type": "stream",
     "text": [
      "<Response [200]>\n"
     ]
    },
    {
     "name": "stderr",
     "output_type": "stream",
     "text": [
      "(41821) accepted ('127.0.0.1', 61425)\n",
      "173.20.233.125,127.0.0.1 - - [22/Oct/2023 18:45:34] \"POST /add_step HTTP/1.1\" 200 166 0.000749\n"
     ]
    },
    {
     "name": "stdout",
     "output_type": "stream",
     "text": [
      "<Response [200]>\n"
     ]
    },
    {
     "name": "stderr",
     "output_type": "stream",
     "text": [
      "(41821) accepted ('127.0.0.1', 62551)\n",
      "173.20.233.125,127.0.0.1 - - [22/Oct/2023 18:45:34] \"POST /add_step HTTP/1.1\" 200 166 0.000637\n"
     ]
    },
    {
     "name": "stdout",
     "output_type": "stream",
     "text": [
      "<Response [200]>\n"
     ]
    },
    {
     "name": "stderr",
     "output_type": "stream",
     "text": [
      "(41821) accepted ('127.0.0.1', 63669)\n",
      "173.20.233.125,127.0.0.1 - - [22/Oct/2023 18:45:35] \"POST /add_step HTTP/1.1\" 200 166 0.000750\n"
     ]
    },
    {
     "name": "stdout",
     "output_type": "stream",
     "text": [
      "<Response [200]>\n"
     ]
    },
    {
     "name": "stderr",
     "output_type": "stream",
     "text": [
      "(41821) accepted ('127.0.0.1', 64838)\n",
      "173.20.233.125,127.0.0.1 - - [22/Oct/2023 18:45:36] \"POST /add_step HTTP/1.1\" 200 166 0.000843\n"
     ]
    },
    {
     "name": "stdout",
     "output_type": "stream",
     "text": [
      "<Response [200]>\n"
     ]
    },
    {
     "name": "stderr",
     "output_type": "stream",
     "text": [
      "(41821) accepted ('127.0.0.1', 49601)\n",
      "173.20.233.125,127.0.0.1 - - [22/Oct/2023 18:45:36] \"POST /add_step HTTP/1.1\" 200 166 0.000867\n"
     ]
    },
    {
     "name": "stdout",
     "output_type": "stream",
     "text": [
      "<Response [200]>\n"
     ]
    },
    {
     "name": "stderr",
     "output_type": "stream",
     "text": [
      "(41821) accepted ('127.0.0.1', 50758)\n",
      "173.20.233.125,127.0.0.1 - - [22/Oct/2023 18:45:37] \"POST /add_step HTTP/1.1\" 200 166 0.000708\n"
     ]
    },
    {
     "name": "stdout",
     "output_type": "stream",
     "text": [
      "<Response [200]>\n"
     ]
    },
    {
     "name": "stderr",
     "output_type": "stream",
     "text": [
      "(41821) accepted ('127.0.0.1', 51898)\n",
      "173.20.233.125,127.0.0.1 - - [22/Oct/2023 18:45:38] \"POST /add_step HTTP/1.1\" 200 166 0.000917\n"
     ]
    },
    {
     "name": "stdout",
     "output_type": "stream",
     "text": [
      "<Response [200]>\n"
     ]
    },
    {
     "name": "stderr",
     "output_type": "stream",
     "text": [
      "(41821) accepted ('127.0.0.1', 53075)\n",
      "173.20.233.125,127.0.0.1 - - [22/Oct/2023 18:45:38] \"POST /add_step HTTP/1.1\" 200 166 0.000489\n"
     ]
    },
    {
     "name": "stdout",
     "output_type": "stream",
     "text": [
      "<Response [200]>\n"
     ]
    },
    {
     "name": "stderr",
     "output_type": "stream",
     "text": [
      "(41821) accepted ('127.0.0.1', 54306)\n",
      "173.20.233.125,127.0.0.1 - - [22/Oct/2023 18:45:39] \"POST /add_step HTTP/1.1\" 200 166 0.000638\n"
     ]
    },
    {
     "name": "stdout",
     "output_type": "stream",
     "text": [
      "<Response [200]>\n"
     ]
    },
    {
     "name": "stderr",
     "output_type": "stream",
     "text": [
      "(41821) accepted ('127.0.0.1', 55493)\n",
      "173.20.233.125,127.0.0.1 - - [22/Oct/2023 18:45:40] \"POST /add_step HTTP/1.1\" 200 166 0.001283\n"
     ]
    },
    {
     "name": "stdout",
     "output_type": "stream",
     "text": [
      "<Response [200]>\n"
     ]
    },
    {
     "name": "stderr",
     "output_type": "stream",
     "text": [
      "(41821) accepted ('127.0.0.1', 56886)\n",
      "173.20.233.125,127.0.0.1 - - [22/Oct/2023 18:45:40] \"POST /add_step HTTP/1.1\" 200 166 0.000784\n"
     ]
    },
    {
     "name": "stdout",
     "output_type": "stream",
     "text": [
      "<Response [200]>\n"
     ]
    },
    {
     "name": "stderr",
     "output_type": "stream",
     "text": [
      "(41821) accepted ('127.0.0.1', 58241)\n",
      "173.20.233.125,127.0.0.1 - - [22/Oct/2023 18:45:41] \"POST /add_step HTTP/1.1\" 200 166 0.000688\n"
     ]
    },
    {
     "name": "stdout",
     "output_type": "stream",
     "text": [
      "<Response [200]>\n"
     ]
    },
    {
     "name": "stderr",
     "output_type": "stream",
     "text": [
      "(41821) accepted ('127.0.0.1', 59483)\n",
      "173.20.233.125,127.0.0.1 - - [22/Oct/2023 18:45:42] \"POST /add_step HTTP/1.1\" 200 166 0.000539\n"
     ]
    },
    {
     "name": "stdout",
     "output_type": "stream",
     "text": [
      "<Response [200]>\n"
     ]
    },
    {
     "name": "stderr",
     "output_type": "stream",
     "text": [
      "(41821) accepted ('127.0.0.1', 60725)\n",
      "173.20.233.125,127.0.0.1 - - [22/Oct/2023 18:45:42] \"POST /add_step HTTP/1.1\" 200 166 0.000806\n"
     ]
    },
    {
     "name": "stdout",
     "output_type": "stream",
     "text": [
      "<Response [200]>\n"
     ]
    },
    {
     "name": "stderr",
     "output_type": "stream",
     "text": [
      "(41821) accepted ('127.0.0.1', 61976)\n",
      "173.20.233.125,127.0.0.1 - - [22/Oct/2023 18:45:43] \"POST /add_step HTTP/1.1\" 200 166 0.000653\n"
     ]
    },
    {
     "name": "stdout",
     "output_type": "stream",
     "text": [
      "<Response [200]>\n"
     ]
    },
    {
     "name": "stderr",
     "output_type": "stream",
     "text": [
      "(41821) accepted ('127.0.0.1', 63248)\n",
      "173.20.233.125,127.0.0.1 - - [22/Oct/2023 18:45:44] \"POST /add_step HTTP/1.1\" 200 166 0.000674\n"
     ]
    },
    {
     "name": "stdout",
     "output_type": "stream",
     "text": [
      "<Response [200]>\n"
     ]
    },
    {
     "name": "stderr",
     "output_type": "stream",
     "text": [
      "(41821) accepted ('127.0.0.1', 64511)\n",
      "173.20.233.125,127.0.0.1 - - [22/Oct/2023 18:45:44] \"POST /add_step HTTP/1.1\" 200 166 0.000694\n"
     ]
    },
    {
     "name": "stdout",
     "output_type": "stream",
     "text": [
      "<Response [200]>\n"
     ]
    },
    {
     "name": "stderr",
     "output_type": "stream",
     "text": [
      "(41821) accepted ('127.0.0.1', 49362)\n",
      "173.20.233.125,127.0.0.1 - - [22/Oct/2023 18:45:45] \"POST /add_step HTTP/1.1\" 200 166 0.000677\n"
     ]
    },
    {
     "name": "stdout",
     "output_type": "stream",
     "text": [
      "<Response [200]>\n"
     ]
    },
    {
     "name": "stderr",
     "output_type": "stream",
     "text": [
      "(41821) accepted ('127.0.0.1', 50651)\n",
      "173.20.233.125,127.0.0.1 - - [22/Oct/2023 18:45:46] \"POST /add_step HTTP/1.1\" 200 166 0.000757\n"
     ]
    },
    {
     "name": "stdout",
     "output_type": "stream",
     "text": [
      "<Response [200]>\n"
     ]
    },
    {
     "name": "stderr",
     "output_type": "stream",
     "text": [
      "(41821) accepted ('127.0.0.1', 51896)\n",
      "173.20.233.125,127.0.0.1 - - [22/Oct/2023 18:45:46] \"POST /add_step HTTP/1.1\" 200 166 0.000706\n"
     ]
    },
    {
     "name": "stdout",
     "output_type": "stream",
     "text": [
      "<Response [200]>\n"
     ]
    },
    {
     "name": "stderr",
     "output_type": "stream",
     "text": [
      "(41821) accepted ('127.0.0.1', 53441)\n",
      "173.20.233.125,127.0.0.1 - - [22/Oct/2023 18:45:47] \"POST /add_step HTTP/1.1\" 200 166 0.000689\n"
     ]
    },
    {
     "name": "stdout",
     "output_type": "stream",
     "text": [
      "<Response [200]>\n"
     ]
    },
    {
     "name": "stderr",
     "output_type": "stream",
     "text": [
      "(41821) accepted ('127.0.0.1', 54701)\n",
      "173.20.233.125,127.0.0.1 - - [22/Oct/2023 18:45:48] \"POST /add_step HTTP/1.1\" 200 166 0.000674\n"
     ]
    },
    {
     "name": "stdout",
     "output_type": "stream",
     "text": [
      "<Response [200]>\n"
     ]
    },
    {
     "name": "stderr",
     "output_type": "stream",
     "text": [
      "(41821) accepted ('127.0.0.1', 55958)\n",
      "173.20.233.125,127.0.0.1 - - [22/Oct/2023 18:45:49] \"POST /add_step HTTP/1.1\" 200 166 0.000909\n"
     ]
    },
    {
     "name": "stdout",
     "output_type": "stream",
     "text": [
      "<Response [200]>\n"
     ]
    },
    {
     "name": "stderr",
     "output_type": "stream",
     "text": [
      "(41821) accepted ('127.0.0.1', 57221)\n",
      "173.20.233.125,127.0.0.1 - - [22/Oct/2023 18:45:49] \"POST /add_step HTTP/1.1\" 200 166 0.000634\n"
     ]
    },
    {
     "name": "stdout",
     "output_type": "stream",
     "text": [
      "<Response [200]>\n"
     ]
    },
    {
     "name": "stderr",
     "output_type": "stream",
     "text": [
      "(41821) accepted ('127.0.0.1', 58531)\n",
      "173.20.233.125,127.0.0.1 - - [22/Oct/2023 18:45:50] \"POST /add_step HTTP/1.1\" 200 166 0.000720\n"
     ]
    },
    {
     "name": "stdout",
     "output_type": "stream",
     "text": [
      "<Response [200]>\n"
     ]
    },
    {
     "name": "stderr",
     "output_type": "stream",
     "text": [
      "(41821) accepted ('127.0.0.1', 59784)\n",
      "173.20.233.125,127.0.0.1 - - [22/Oct/2023 18:45:51] \"POST /add_step HTTP/1.1\" 200 166 0.000661\n"
     ]
    },
    {
     "name": "stdout",
     "output_type": "stream",
     "text": [
      "<Response [200]>\n"
     ]
    },
    {
     "name": "stderr",
     "output_type": "stream",
     "text": [
      "(41821) accepted ('127.0.0.1', 61005)\n",
      "173.20.233.125,127.0.0.1 - - [22/Oct/2023 18:45:51] \"POST /add_step HTTP/1.1\" 200 166 0.000645\n"
     ]
    },
    {
     "name": "stdout",
     "output_type": "stream",
     "text": [
      "<Response [200]>\n"
     ]
    },
    {
     "name": "stderr",
     "output_type": "stream",
     "text": [
      "(41821) accepted ('127.0.0.1', 62227)\n",
      "173.20.233.125,127.0.0.1 - - [22/Oct/2023 18:45:52] \"POST /add_step HTTP/1.1\" 200 166 0.000779\n"
     ]
    },
    {
     "name": "stdout",
     "output_type": "stream",
     "text": [
      "<Response [200]>\n"
     ]
    },
    {
     "name": "stderr",
     "output_type": "stream",
     "text": [
      "(41821) accepted ('127.0.0.1', 63465)\n",
      "173.20.233.125,127.0.0.1 - - [22/Oct/2023 18:45:53] \"POST /add_step HTTP/1.1\" 200 166 0.000606\n"
     ]
    },
    {
     "name": "stdout",
     "output_type": "stream",
     "text": [
      "<Response [200]>\n"
     ]
    },
    {
     "name": "stderr",
     "output_type": "stream",
     "text": [
      "(41821) accepted ('127.0.0.1', 64704)\n",
      "173.20.233.125,127.0.0.1 - - [22/Oct/2023 18:45:53] \"POST /add_step HTTP/1.1\" 200 166 0.000911\n"
     ]
    },
    {
     "name": "stdout",
     "output_type": "stream",
     "text": [
      "<Response [200]>\n"
     ]
    },
    {
     "name": "stderr",
     "output_type": "stream",
     "text": [
      "(41821) accepted ('127.0.0.1', 49528)\n",
      "173.20.233.125,127.0.0.1 - - [22/Oct/2023 18:45:54] \"POST /add_step HTTP/1.1\" 200 166 0.000639\n"
     ]
    },
    {
     "name": "stdout",
     "output_type": "stream",
     "text": [
      "<Response [200]>\n"
     ]
    },
    {
     "name": "stderr",
     "output_type": "stream",
     "text": [
      "(41821) accepted ('127.0.0.1', 50829)\n",
      "173.20.233.125,127.0.0.1 - - [22/Oct/2023 18:45:55] \"POST /add_step HTTP/1.1\" 200 166 0.000630\n"
     ]
    },
    {
     "name": "stdout",
     "output_type": "stream",
     "text": [
      "<Response [200]>\n"
     ]
    },
    {
     "name": "stderr",
     "output_type": "stream",
     "text": [
      "(41821) accepted ('127.0.0.1', 52080)\n",
      "173.20.233.125,127.0.0.1 - - [22/Oct/2023 18:45:55] \"POST /add_step HTTP/1.1\" 200 166 0.000933\n"
     ]
    },
    {
     "name": "stdout",
     "output_type": "stream",
     "text": [
      "<Response [200]>\n"
     ]
    },
    {
     "name": "stderr",
     "output_type": "stream",
     "text": [
      "(41821) accepted ('127.0.0.1', 53300)\n",
      "173.20.233.125,127.0.0.1 - - [22/Oct/2023 18:45:56] \"POST /add_step HTTP/1.1\" 200 166 0.000901\n"
     ]
    },
    {
     "name": "stdout",
     "output_type": "stream",
     "text": [
      "<Response [200]>\n"
     ]
    },
    {
     "name": "stderr",
     "output_type": "stream",
     "text": [
      "(41821) accepted ('127.0.0.1', 54558)\n",
      "173.20.233.125,127.0.0.1 - - [22/Oct/2023 18:45:57] \"POST /add_step HTTP/1.1\" 200 166 0.000643\n"
     ]
    },
    {
     "name": "stdout",
     "output_type": "stream",
     "text": [
      "<Response [200]>\n"
     ]
    },
    {
     "name": "stderr",
     "output_type": "stream",
     "text": [
      "(41821) accepted ('127.0.0.1', 55784)\n",
      "173.20.233.125,127.0.0.1 - - [22/Oct/2023 18:45:57] \"POST /add_step HTTP/1.1\" 200 166 0.001223\n"
     ]
    },
    {
     "name": "stdout",
     "output_type": "stream",
     "text": [
      "<Response [200]>\n"
     ]
    },
    {
     "name": "stderr",
     "output_type": "stream",
     "text": [
      "(41821) accepted ('127.0.0.1', 57055)\n",
      "173.20.233.125,127.0.0.1 - - [22/Oct/2023 18:45:58] \"POST /add_step HTTP/1.1\" 200 166 0.000648\n"
     ]
    },
    {
     "name": "stdout",
     "output_type": "stream",
     "text": [
      "<Response [200]>\n"
     ]
    },
    {
     "name": "stderr",
     "output_type": "stream",
     "text": [
      "(41821) accepted ('127.0.0.1', 58366)\n",
      "173.20.233.125,127.0.0.1 - - [22/Oct/2023 18:45:59] \"POST /add_step HTTP/1.1\" 200 166 0.000809\n"
     ]
    },
    {
     "name": "stdout",
     "output_type": "stream",
     "text": [
      "<Response [200]>\n"
     ]
    },
    {
     "name": "stderr",
     "output_type": "stream",
     "text": [
      "(41821) accepted ('127.0.0.1', 59616)\n",
      "173.20.233.125,127.0.0.1 - - [22/Oct/2023 18:46:00] \"POST /add_step HTTP/1.1\" 200 166 0.000634\n"
     ]
    },
    {
     "name": "stdout",
     "output_type": "stream",
     "text": [
      "<Response [200]>\n"
     ]
    },
    {
     "name": "stderr",
     "output_type": "stream",
     "text": [
      "(41821) accepted ('127.0.0.1', 60945)\n",
      "173.20.233.125,127.0.0.1 - - [22/Oct/2023 18:46:00] \"POST /add_step HTTP/1.1\" 200 166 0.000826\n"
     ]
    },
    {
     "name": "stdout",
     "output_type": "stream",
     "text": [
      "<Response [200]>\n"
     ]
    },
    {
     "name": "stderr",
     "output_type": "stream",
     "text": [
      "(41821) accepted ('127.0.0.1', 62169)\n",
      "173.20.233.125,127.0.0.1 - - [22/Oct/2023 18:46:01] \"POST /add_step HTTP/1.1\" 200 166 0.000548\n"
     ]
    },
    {
     "name": "stdout",
     "output_type": "stream",
     "text": [
      "<Response [200]>\n"
     ]
    },
    {
     "name": "stderr",
     "output_type": "stream",
     "text": [
      "(41821) accepted ('127.0.0.1', 63347)\n",
      "173.20.233.125,127.0.0.1 - - [22/Oct/2023 18:46:02] \"POST /add_step HTTP/1.1\" 200 166 0.000685\n"
     ]
    },
    {
     "name": "stdout",
     "output_type": "stream",
     "text": [
      "<Response [200]>\n"
     ]
    },
    {
     "name": "stderr",
     "output_type": "stream",
     "text": [
      "(41821) accepted ('127.0.0.1', 64601)\n",
      "173.20.233.125,127.0.0.1 - - [22/Oct/2023 18:46:02] \"POST /add_step HTTP/1.1\" 200 166 0.000508\n"
     ]
    },
    {
     "name": "stdout",
     "output_type": "stream",
     "text": [
      "<Response [200]>\n"
     ]
    },
    {
     "name": "stderr",
     "output_type": "stream",
     "text": [
      "(41821) accepted ('127.0.0.1', 49455)\n",
      "173.20.233.125,127.0.0.1 - - [22/Oct/2023 18:46:03] \"POST /add_step HTTP/1.1\" 200 166 0.000539\n"
     ]
    },
    {
     "name": "stdout",
     "output_type": "stream",
     "text": [
      "<Response [200]>\n"
     ]
    },
    {
     "name": "stderr",
     "output_type": "stream",
     "text": [
      "(41821) accepted ('127.0.0.1', 50668)\n",
      "173.20.233.125,127.0.0.1 - - [22/Oct/2023 18:46:04] \"POST /add_step HTTP/1.1\" 200 166 0.000675\n"
     ]
    },
    {
     "name": "stdout",
     "output_type": "stream",
     "text": [
      "<Response [200]>\n"
     ]
    },
    {
     "name": "stderr",
     "output_type": "stream",
     "text": [
      "(41821) accepted ('127.0.0.1', 51865)\n",
      "173.20.233.125,127.0.0.1 - - [22/Oct/2023 18:46:04] \"POST /add_step HTTP/1.1\" 200 166 0.000666\n"
     ]
    },
    {
     "name": "stdout",
     "output_type": "stream",
     "text": [
      "<Response [200]>\n"
     ]
    },
    {
     "name": "stderr",
     "output_type": "stream",
     "text": [
      "(41821) accepted ('127.0.0.1', 53051)\n",
      "173.20.233.125,127.0.0.1 - - [22/Oct/2023 18:46:05] \"POST /add_step HTTP/1.1\" 200 166 0.000996\n"
     ]
    },
    {
     "name": "stdout",
     "output_type": "stream",
     "text": [
      "<Response [200]>\n"
     ]
    },
    {
     "name": "stderr",
     "output_type": "stream",
     "text": [
      "(41821) accepted ('127.0.0.1', 54270)\n",
      "173.20.233.125,127.0.0.1 - - [22/Oct/2023 18:46:06] \"POST /add_step HTTP/1.1\" 200 166 0.000688\n"
     ]
    },
    {
     "name": "stdout",
     "output_type": "stream",
     "text": [
      "<Response [200]>\n"
     ]
    },
    {
     "name": "stderr",
     "output_type": "stream",
     "text": [
      "(41821) accepted ('127.0.0.1', 55503)\n",
      "173.20.233.125,127.0.0.1 - - [22/Oct/2023 18:46:06] \"POST /add_step HTTP/1.1\" 200 166 0.000906\n"
     ]
    },
    {
     "name": "stdout",
     "output_type": "stream",
     "text": [
      "<Response [200]>\n"
     ]
    },
    {
     "name": "stderr",
     "output_type": "stream",
     "text": [
      "(41821) accepted ('127.0.0.1', 56705)\n",
      "173.20.233.125,127.0.0.1 - - [22/Oct/2023 18:46:07] \"POST /add_step HTTP/1.1\" 200 166 0.000551\n"
     ]
    },
    {
     "name": "stdout",
     "output_type": "stream",
     "text": [
      "<Response [200]>\n"
     ]
    },
    {
     "name": "stderr",
     "output_type": "stream",
     "text": [
      "(41821) accepted ('127.0.0.1', 57979)\n",
      "173.20.233.125,127.0.0.1 - - [22/Oct/2023 18:46:08] \"POST /add_step HTTP/1.1\" 200 166 0.003146\n"
     ]
    },
    {
     "name": "stdout",
     "output_type": "stream",
     "text": [
      "<Response [200]>\n"
     ]
    },
    {
     "name": "stderr",
     "output_type": "stream",
     "text": [
      "(41821) accepted ('127.0.0.1', 59262)\n",
      "173.20.233.125,127.0.0.1 - - [22/Oct/2023 18:46:08] \"POST /add_step HTTP/1.1\" 200 166 0.000669\n"
     ]
    },
    {
     "name": "stdout",
     "output_type": "stream",
     "text": [
      "<Response [200]>\n"
     ]
    },
    {
     "name": "stderr",
     "output_type": "stream",
     "text": [
      "(41821) accepted ('127.0.0.1', 60517)\n",
      "173.20.233.125,127.0.0.1 - - [22/Oct/2023 18:46:09] \"POST /add_step HTTP/1.1\" 200 166 0.000660\n"
     ]
    },
    {
     "name": "stdout",
     "output_type": "stream",
     "text": [
      "<Response [200]>\n"
     ]
    },
    {
     "name": "stderr",
     "output_type": "stream",
     "text": [
      "(41821) accepted ('127.0.0.1', 61743)\n",
      "173.20.233.125,127.0.0.1 - - [22/Oct/2023 18:46:10] \"POST /add_step HTTP/1.1\" 200 166 0.000644\n"
     ]
    },
    {
     "name": "stdout",
     "output_type": "stream",
     "text": [
      "<Response [200]>\n"
     ]
    },
    {
     "name": "stderr",
     "output_type": "stream",
     "text": [
      "(41821) accepted ('127.0.0.1', 62957)\n",
      "173.20.233.125,127.0.0.1 - - [22/Oct/2023 18:46:10] \"POST /add_step HTTP/1.1\" 200 166 0.000656\n"
     ]
    },
    {
     "name": "stdout",
     "output_type": "stream",
     "text": [
      "<Response [200]>\n"
     ]
    },
    {
     "name": "stderr",
     "output_type": "stream",
     "text": [
      "(41821) accepted ('127.0.0.1', 64249)\n",
      "173.20.233.125,127.0.0.1 - - [22/Oct/2023 18:46:11] \"POST /add_step HTTP/1.1\" 200 166 0.000561\n"
     ]
    },
    {
     "name": "stdout",
     "output_type": "stream",
     "text": [
      "<Response [200]>\n"
     ]
    },
    {
     "name": "stderr",
     "output_type": "stream",
     "text": [
      "(41821) accepted ('127.0.0.1', 65459)\n",
      "173.20.233.125,127.0.0.1 - - [22/Oct/2023 18:46:12] \"POST /add_step HTTP/1.1\" 200 166 0.000629\n"
     ]
    },
    {
     "name": "stdout",
     "output_type": "stream",
     "text": [
      "<Response [200]>\n"
     ]
    },
    {
     "name": "stderr",
     "output_type": "stream",
     "text": [
      "(41821) accepted ('127.0.0.1', 50332)\n",
      "173.20.233.125,127.0.0.1 - - [22/Oct/2023 18:46:12] \"POST /add_step HTTP/1.1\" 200 166 0.000564\n"
     ]
    },
    {
     "name": "stdout",
     "output_type": "stream",
     "text": [
      "<Response [200]>\n"
     ]
    },
    {
     "name": "stderr",
     "output_type": "stream",
     "text": [
      "(41821) accepted ('127.0.0.1', 51597)\n",
      "173.20.233.125,127.0.0.1 - - [22/Oct/2023 18:46:13] \"POST /add_step HTTP/1.1\" 200 166 0.000563\n"
     ]
    },
    {
     "name": "stdout",
     "output_type": "stream",
     "text": [
      "<Response [200]>\n"
     ]
    },
    {
     "name": "stderr",
     "output_type": "stream",
     "text": [
      "(41821) accepted ('127.0.0.1', 52817)\n",
      "173.20.233.125,127.0.0.1 - - [22/Oct/2023 18:46:14] \"POST /add_step HTTP/1.1\" 200 166 0.000930\n"
     ]
    },
    {
     "name": "stdout",
     "output_type": "stream",
     "text": [
      "<Response [200]>\n"
     ]
    },
    {
     "name": "stderr",
     "output_type": "stream",
     "text": [
      "(41821) accepted ('127.0.0.1', 54136)\n",
      "173.20.233.125,127.0.0.1 - - [22/Oct/2023 18:46:14] \"POST /add_step HTTP/1.1\" 200 166 0.000685\n"
     ]
    },
    {
     "name": "stdout",
     "output_type": "stream",
     "text": [
      "<Response [200]>\n"
     ]
    },
    {
     "name": "stderr",
     "output_type": "stream",
     "text": [
      "(41821) accepted ('127.0.0.1', 55514)\n",
      "173.20.233.125,127.0.0.1 - - [22/Oct/2023 18:46:15] \"POST /add_step HTTP/1.1\" 200 166 0.000552\n"
     ]
    },
    {
     "name": "stdout",
     "output_type": "stream",
     "text": [
      "<Response [200]>\n"
     ]
    },
    {
     "name": "stderr",
     "output_type": "stream",
     "text": [
      "(41821) accepted ('127.0.0.1', 56824)\n",
      "173.20.233.125,127.0.0.1 - - [22/Oct/2023 18:46:16] \"POST /add_step HTTP/1.1\" 200 166 0.000611\n"
     ]
    },
    {
     "name": "stdout",
     "output_type": "stream",
     "text": [
      "<Response [200]>\n"
     ]
    },
    {
     "name": "stderr",
     "output_type": "stream",
     "text": [
      "(41821) accepted ('127.0.0.1', 58785)\n",
      "173.20.233.125,127.0.0.1 - - [22/Oct/2023 18:46:17] \"POST /add_step HTTP/1.1\" 200 166 0.002564\n"
     ]
    },
    {
     "name": "stdout",
     "output_type": "stream",
     "text": [
      "<Response [200]>\n"
     ]
    },
    {
     "name": "stderr",
     "output_type": "stream",
     "text": [
      "(41821) accepted ('127.0.0.1', 60052)\n",
      "173.20.233.125,127.0.0.1 - - [22/Oct/2023 18:46:18] \"POST /add_step HTTP/1.1\" 200 166 0.000767\n"
     ]
    },
    {
     "name": "stdout",
     "output_type": "stream",
     "text": [
      "<Response [200]>\n"
     ]
    },
    {
     "name": "stderr",
     "output_type": "stream",
     "text": [
      "(41821) accepted ('127.0.0.1', 61319)\n",
      "173.20.233.125,127.0.0.1 - - [22/Oct/2023 18:46:18] \"POST /add_step HTTP/1.1\" 200 166 0.000642\n"
     ]
    },
    {
     "name": "stdout",
     "output_type": "stream",
     "text": [
      "<Response [200]>\n"
     ]
    },
    {
     "name": "stderr",
     "output_type": "stream",
     "text": [
      "(41821) accepted ('127.0.0.1', 62540)\n",
      "173.20.233.125,127.0.0.1 - - [22/Oct/2023 18:46:19] \"POST /add_step HTTP/1.1\" 200 166 0.000647\n"
     ]
    },
    {
     "name": "stdout",
     "output_type": "stream",
     "text": [
      "<Response [200]>\n"
     ]
    },
    {
     "name": "stderr",
     "output_type": "stream",
     "text": [
      "(41821) accepted ('127.0.0.1', 63792)\n",
      "173.20.233.125,127.0.0.1 - - [22/Oct/2023 18:46:20] \"POST /add_step HTTP/1.1\" 200 166 0.000662\n"
     ]
    },
    {
     "name": "stdout",
     "output_type": "stream",
     "text": [
      "<Response [200]>\n"
     ]
    },
    {
     "name": "stderr",
     "output_type": "stream",
     "text": [
      "(41821) accepted ('127.0.0.1', 65076)\n",
      "173.20.233.125,127.0.0.1 - - [22/Oct/2023 18:46:20] \"POST /add_step HTTP/1.1\" 200 166 0.000544\n"
     ]
    },
    {
     "name": "stdout",
     "output_type": "stream",
     "text": [
      "<Response [200]>\n"
     ]
    },
    {
     "name": "stderr",
     "output_type": "stream",
     "text": [
      "(41821) accepted ('127.0.0.1', 51686)\n",
      "173.20.233.125,127.0.0.1 - - [22/Oct/2023 18:46:22] \"POST /add_step HTTP/1.1\" 200 166 0.000708\n"
     ]
    },
    {
     "name": "stdout",
     "output_type": "stream",
     "text": [
      "<Response [200]>\n"
     ]
    },
    {
     "name": "stderr",
     "output_type": "stream",
     "text": [
      "(41821) accepted ('127.0.0.1', 52868)\n",
      "173.20.233.125,127.0.0.1 - - [22/Oct/2023 18:46:23] \"POST /add_step HTTP/1.1\" 200 166 0.000931\n"
     ]
    },
    {
     "name": "stdout",
     "output_type": "stream",
     "text": [
      "<Response [200]>\n"
     ]
    },
    {
     "name": "stderr",
     "output_type": "stream",
     "text": [
      "(41821) accepted ('127.0.0.1', 54154)\n",
      "173.20.233.125,127.0.0.1 - - [22/Oct/2023 18:46:23] \"POST /add_step HTTP/1.1\" 200 166 0.000662\n"
     ]
    },
    {
     "name": "stdout",
     "output_type": "stream",
     "text": [
      "<Response [200]>\n"
     ]
    },
    {
     "name": "stderr",
     "output_type": "stream",
     "text": [
      "(41821) accepted ('127.0.0.1', 55411)\n",
      "173.20.233.125,127.0.0.1 - - [22/Oct/2023 18:46:24] \"POST /add_step HTTP/1.1\" 200 166 0.000549\n"
     ]
    },
    {
     "name": "stdout",
     "output_type": "stream",
     "text": [
      "<Response [200]>\n"
     ]
    },
    {
     "name": "stderr",
     "output_type": "stream",
     "text": [
      "(41821) accepted ('127.0.0.1', 56601)\n",
      "173.20.233.125,127.0.0.1 - - [22/Oct/2023 18:46:25] \"POST /add_step HTTP/1.1\" 200 166 0.000645\n"
     ]
    },
    {
     "name": "stdout",
     "output_type": "stream",
     "text": [
      "<Response [200]>\n"
     ]
    },
    {
     "name": "stderr",
     "output_type": "stream",
     "text": [
      "(41821) accepted ('127.0.0.1', 57835)\n",
      "173.20.233.125,127.0.0.1 - - [22/Oct/2023 18:46:25] \"POST /add_step HTTP/1.1\" 200 166 0.000664\n"
     ]
    },
    {
     "name": "stdout",
     "output_type": "stream",
     "text": [
      "<Response [200]>\n"
     ]
    },
    {
     "name": "stderr",
     "output_type": "stream",
     "text": [
      "(41821) accepted ('127.0.0.1', 59063)\n",
      "173.20.233.125,127.0.0.1 - - [22/Oct/2023 18:46:26] \"POST /add_step HTTP/1.1\" 200 166 0.000558\n"
     ]
    },
    {
     "name": "stdout",
     "output_type": "stream",
     "text": [
      "<Response [200]>\n"
     ]
    },
    {
     "name": "stderr",
     "output_type": "stream",
     "text": [
      "(41821) accepted ('127.0.0.1', 60298)\n",
      "173.20.233.125,127.0.0.1 - - [22/Oct/2023 18:46:27] \"POST /add_step HTTP/1.1\" 200 166 0.000640\n"
     ]
    },
    {
     "name": "stdout",
     "output_type": "stream",
     "text": [
      "<Response [200]>\n"
     ]
    },
    {
     "name": "stderr",
     "output_type": "stream",
     "text": [
      "(41821) accepted ('127.0.0.1', 61534)\n",
      "173.20.233.125,127.0.0.1 - - [22/Oct/2023 18:46:27] \"POST /add_step HTTP/1.1\" 200 166 0.000527\n"
     ]
    },
    {
     "name": "stdout",
     "output_type": "stream",
     "text": [
      "<Response [200]>\n"
     ]
    },
    {
     "name": "stderr",
     "output_type": "stream",
     "text": [
      "(41821) accepted ('127.0.0.1', 62771)\n",
      "173.20.233.125,127.0.0.1 - - [22/Oct/2023 18:46:28] \"POST /add_step HTTP/1.1\" 200 166 0.000633\n"
     ]
    },
    {
     "name": "stdout",
     "output_type": "stream",
     "text": [
      "<Response [200]>\n"
     ]
    },
    {
     "name": "stderr",
     "output_type": "stream",
     "text": [
      "(41821) accepted ('127.0.0.1', 64138)\n",
      "173.20.233.125,127.0.0.1 - - [22/Oct/2023 18:46:29] \"POST /add_step HTTP/1.1\" 200 166 0.000633\n"
     ]
    },
    {
     "name": "stdout",
     "output_type": "stream",
     "text": [
      "<Response [200]>\n"
     ]
    },
    {
     "name": "stderr",
     "output_type": "stream",
     "text": [
      "(41821) accepted ('127.0.0.1', 65362)\n",
      "173.20.233.125,127.0.0.1 - - [22/Oct/2023 18:46:29] \"POST /add_step HTTP/1.1\" 200 166 0.000504\n"
     ]
    },
    {
     "name": "stdout",
     "output_type": "stream",
     "text": [
      "<Response [200]>\n"
     ]
    },
    {
     "name": "stderr",
     "output_type": "stream",
     "text": [
      "(41821) accepted ('127.0.0.1', 50243)\n",
      "173.20.233.125,127.0.0.1 - - [22/Oct/2023 18:46:30] \"POST /add_step HTTP/1.1\" 200 166 0.000933\n"
     ]
    },
    {
     "name": "stdout",
     "output_type": "stream",
     "text": [
      "<Response [200]>\n"
     ]
    },
    {
     "name": "stderr",
     "output_type": "stream",
     "text": [
      "(41821) accepted ('127.0.0.1', 51487)\n",
      "173.20.233.125,127.0.0.1 - - [22/Oct/2023 18:46:31] \"POST /add_step HTTP/1.1\" 200 166 0.000708\n"
     ]
    },
    {
     "name": "stdout",
     "output_type": "stream",
     "text": [
      "<Response [200]>\n"
     ]
    },
    {
     "name": "stderr",
     "output_type": "stream",
     "text": [
      "(41821) accepted ('127.0.0.1', 52689)\n",
      "173.20.233.125,127.0.0.1 - - [22/Oct/2023 18:46:31] \"POST /add_step HTTP/1.1\" 200 166 0.000557\n"
     ]
    },
    {
     "name": "stdout",
     "output_type": "stream",
     "text": [
      "<Response [200]>\n"
     ]
    },
    {
     "name": "stderr",
     "output_type": "stream",
     "text": [
      "(41821) accepted ('127.0.0.1', 53911)\n",
      "173.20.233.125,127.0.0.1 - - [22/Oct/2023 18:46:32] \"POST /add_step HTTP/1.1\" 200 166 0.000651\n"
     ]
    },
    {
     "name": "stdout",
     "output_type": "stream",
     "text": [
      "<Response [200]>\n"
     ]
    },
    {
     "name": "stderr",
     "output_type": "stream",
     "text": [
      "(41821) accepted ('127.0.0.1', 55141)\n",
      "173.20.233.125,127.0.0.1 - - [22/Oct/2023 18:46:33] \"POST /add_step HTTP/1.1\" 200 166 0.000634\n"
     ]
    },
    {
     "name": "stdout",
     "output_type": "stream",
     "text": [
      "<Response [200]>\n"
     ]
    },
    {
     "name": "stderr",
     "output_type": "stream",
     "text": [
      "(41821) accepted ('127.0.0.1', 56353)\n",
      "173.20.233.125,127.0.0.1 - - [22/Oct/2023 18:46:33] \"POST /add_step HTTP/1.1\" 200 166 0.000908\n"
     ]
    },
    {
     "name": "stdout",
     "output_type": "stream",
     "text": [
      "<Response [200]>\n"
     ]
    },
    {
     "name": "stderr",
     "output_type": "stream",
     "text": [
      "(41821) accepted ('127.0.0.1', 57589)\n",
      "173.20.233.125,127.0.0.1 - - [22/Oct/2023 18:46:34] \"POST /add_step HTTP/1.1\" 200 166 0.000878\n"
     ]
    },
    {
     "name": "stdout",
     "output_type": "stream",
     "text": [
      "<Response [200]>\n"
     ]
    },
    {
     "name": "stderr",
     "output_type": "stream",
     "text": [
      "(41821) accepted ('127.0.0.1', 58832)\n",
      "173.20.233.125,127.0.0.1 - - [22/Oct/2023 18:46:35] \"POST /add_step HTTP/1.1\" 200 166 0.001029\n"
     ]
    },
    {
     "name": "stdout",
     "output_type": "stream",
     "text": [
      "<Response [200]>\n"
     ]
    },
    {
     "name": "stderr",
     "output_type": "stream",
     "text": [
      "(41821) accepted ('127.0.0.1', 60042)\n",
      "173.20.233.125,127.0.0.1 - - [22/Oct/2023 18:46:35] \"POST /add_step HTTP/1.1\" 200 166 0.000646\n"
     ]
    },
    {
     "name": "stdout",
     "output_type": "stream",
     "text": [
      "<Response [200]>\n"
     ]
    },
    {
     "name": "stderr",
     "output_type": "stream",
     "text": [
      "(41821) accepted ('127.0.0.1', 61287)\n",
      "173.20.233.125,127.0.0.1 - - [22/Oct/2023 18:46:36] \"POST /add_step HTTP/1.1\" 200 166 0.000673\n"
     ]
    },
    {
     "name": "stdout",
     "output_type": "stream",
     "text": [
      "<Response [200]>\n"
     ]
    },
    {
     "name": "stderr",
     "output_type": "stream",
     "text": [
      "(41821) accepted ('127.0.0.1', 62485)\n",
      "173.20.233.125,127.0.0.1 - - [22/Oct/2023 18:46:37] \"POST /add_step HTTP/1.1\" 200 166 0.000666\n"
     ]
    },
    {
     "name": "stdout",
     "output_type": "stream",
     "text": [
      "<Response [200]>\n"
     ]
    },
    {
     "name": "stderr",
     "output_type": "stream",
     "text": [
      "(41821) accepted ('127.0.0.1', 63687)\n",
      "173.20.233.125,127.0.0.1 - - [22/Oct/2023 18:46:37] \"POST /add_step HTTP/1.1\" 200 166 0.000637\n"
     ]
    },
    {
     "name": "stdout",
     "output_type": "stream",
     "text": [
      "<Response [200]>\n"
     ]
    },
    {
     "name": "stderr",
     "output_type": "stream",
     "text": [
      "(41821) accepted ('127.0.0.1', 64960)\n",
      "173.20.233.125,127.0.0.1 - - [22/Oct/2023 18:46:38] \"POST /add_step HTTP/1.1\" 200 166 0.000664\n"
     ]
    },
    {
     "name": "stdout",
     "output_type": "stream",
     "text": [
      "<Response [200]>\n"
     ]
    },
    {
     "name": "stderr",
     "output_type": "stream",
     "text": [
      "(41821) accepted ('127.0.0.1', 49809)\n",
      "173.20.233.125,127.0.0.1 - - [22/Oct/2023 18:46:39] \"POST /add_step HTTP/1.1\" 200 166 0.000556\n"
     ]
    },
    {
     "name": "stdout",
     "output_type": "stream",
     "text": [
      "<Response [200]>\n"
     ]
    },
    {
     "name": "stderr",
     "output_type": "stream",
     "text": [
      "(41821) accepted ('127.0.0.1', 51053)\n",
      "173.20.233.125,127.0.0.1 - - [22/Oct/2023 18:46:39] \"POST /add_step HTTP/1.1\" 200 166 0.000884\n"
     ]
    },
    {
     "name": "stdout",
     "output_type": "stream",
     "text": [
      "<Response [200]>\n"
     ]
    },
    {
     "name": "stderr",
     "output_type": "stream",
     "text": [
      "(41821) accepted ('127.0.0.1', 52304)\n",
      "173.20.233.125,127.0.0.1 - - [22/Oct/2023 18:46:40] \"POST /add_step HTTP/1.1\" 200 166 0.000840\n"
     ]
    },
    {
     "name": "stdout",
     "output_type": "stream",
     "text": [
      "<Response [200]>\n"
     ]
    },
    {
     "name": "stderr",
     "output_type": "stream",
     "text": [
      "(41821) accepted ('127.0.0.1', 53881)\n",
      "173.20.233.125,127.0.0.1 - - [22/Oct/2023 18:46:41] \"POST /add_step HTTP/1.1\" 200 166 0.000754\n"
     ]
    },
    {
     "name": "stdout",
     "output_type": "stream",
     "text": [
      "<Response [200]>\n"
     ]
    },
    {
     "name": "stderr",
     "output_type": "stream",
     "text": [
      "(41821) accepted ('127.0.0.1', 55336)\n",
      "173.20.233.125,127.0.0.1 - - [22/Oct/2023 18:46:42] \"POST /add_step HTTP/1.1\" 200 166 0.000799\n"
     ]
    },
    {
     "name": "stdout",
     "output_type": "stream",
     "text": [
      "<Response [200]>\n"
     ]
    },
    {
     "name": "stderr",
     "output_type": "stream",
     "text": [
      "(41821) accepted ('127.0.0.1', 56679)\n",
      "173.20.233.125,127.0.0.1 - - [22/Oct/2023 18:46:43] \"POST /add_step HTTP/1.1\" 200 166 0.000671\n"
     ]
    },
    {
     "name": "stdout",
     "output_type": "stream",
     "text": [
      "<Response [200]>\n"
     ]
    },
    {
     "name": "stderr",
     "output_type": "stream",
     "text": [
      "(41821) accepted ('127.0.0.1', 58150)\n",
      "173.20.233.125,127.0.0.1 - - [22/Oct/2023 18:46:43] \"POST /add_step HTTP/1.1\" 200 166 0.000507\n"
     ]
    },
    {
     "name": "stdout",
     "output_type": "stream",
     "text": [
      "<Response [200]>\n"
     ]
    },
    {
     "name": "stderr",
     "output_type": "stream",
     "text": [
      "(41821) accepted ('127.0.0.1', 59416)\n",
      "173.20.233.125,127.0.0.1 - - [22/Oct/2023 18:46:44] \"POST /add_step HTTP/1.1\" 200 166 0.000559\n"
     ]
    },
    {
     "name": "stdout",
     "output_type": "stream",
     "text": [
      "<Response [200]>\n"
     ]
    },
    {
     "name": "stderr",
     "output_type": "stream",
     "text": [
      "(41821) accepted ('127.0.0.1', 60723)\n",
      "173.20.233.125,127.0.0.1 - - [22/Oct/2023 18:46:45] \"POST /add_step HTTP/1.1\" 200 166 0.001480\n"
     ]
    },
    {
     "name": "stdout",
     "output_type": "stream",
     "text": [
      "<Response [200]>\n"
     ]
    },
    {
     "name": "stderr",
     "output_type": "stream",
     "text": [
      "(41821) accepted ('127.0.0.1', 62077)\n",
      "173.20.233.125,127.0.0.1 - - [22/Oct/2023 18:46:45] \"POST /add_step HTTP/1.1\" 200 166 0.000449\n"
     ]
    },
    {
     "name": "stdout",
     "output_type": "stream",
     "text": [
      "<Response [200]>\n"
     ]
    },
    {
     "name": "stderr",
     "output_type": "stream",
     "text": [
      "(41821) accepted ('127.0.0.1', 63291)\n",
      "173.20.233.125,127.0.0.1 - - [22/Oct/2023 18:46:46] \"POST /add_step HTTP/1.1\" 200 166 0.000674\n"
     ]
    },
    {
     "name": "stdout",
     "output_type": "stream",
     "text": [
      "<Response [200]>\n"
     ]
    },
    {
     "name": "stderr",
     "output_type": "stream",
     "text": [
      "(41821) accepted ('127.0.0.1', 64471)\n",
      "173.20.233.125,127.0.0.1 - - [22/Oct/2023 18:46:47] \"POST /add_step HTTP/1.1\" 200 166 0.000956\n"
     ]
    },
    {
     "name": "stdout",
     "output_type": "stream",
     "text": [
      "<Response [200]>\n"
     ]
    },
    {
     "name": "stderr",
     "output_type": "stream",
     "text": [
      "(41821) accepted ('127.0.0.1', 49310)\n",
      "173.20.233.125,127.0.0.1 - - [22/Oct/2023 18:46:47] \"POST /add_step HTTP/1.1\" 200 166 0.000701\n"
     ]
    },
    {
     "name": "stdout",
     "output_type": "stream",
     "text": [
      "<Response [200]>\n"
     ]
    },
    {
     "name": "stderr",
     "output_type": "stream",
     "text": [
      "(41821) accepted ('127.0.0.1', 50609)\n",
      "173.20.233.125,127.0.0.1 - - [22/Oct/2023 18:46:48] \"POST /add_step HTTP/1.1\" 200 166 0.000639\n"
     ]
    },
    {
     "name": "stdout",
     "output_type": "stream",
     "text": [
      "<Response [200]>\n"
     ]
    },
    {
     "name": "stderr",
     "output_type": "stream",
     "text": [
      "(41821) accepted ('127.0.0.1', 51986)\n",
      "173.20.233.125,127.0.0.1 - - [22/Oct/2023 18:46:49] \"POST /add_step HTTP/1.1\" 200 166 0.000611\n"
     ]
    },
    {
     "name": "stdout",
     "output_type": "stream",
     "text": [
      "<Response [200]>\n"
     ]
    },
    {
     "name": "stderr",
     "output_type": "stream",
     "text": [
      "(41821) accepted ('127.0.0.1', 53282)\n",
      "173.20.233.125,127.0.0.1 - - [22/Oct/2023 18:46:50] \"POST /add_step HTTP/1.1\" 200 166 0.000874\n"
     ]
    },
    {
     "name": "stdout",
     "output_type": "stream",
     "text": [
      "<Response [200]>\n"
     ]
    },
    {
     "name": "stderr",
     "output_type": "stream",
     "text": [
      "(41821) accepted ('127.0.0.1', 55035)\n",
      "173.20.233.125,127.0.0.1 - - [22/Oct/2023 18:46:51] \"POST /add_step HTTP/1.1\" 200 166 0.000667\n"
     ]
    },
    {
     "name": "stdout",
     "output_type": "stream",
     "text": [
      "<Response [200]>\n"
     ]
    },
    {
     "name": "stderr",
     "output_type": "stream",
     "text": [
      "(41821) accepted ('127.0.0.1', 56262)\n",
      "173.20.233.125,127.0.0.1 - - [22/Oct/2023 18:46:51] \"POST /add_step HTTP/1.1\" 200 166 0.000768\n"
     ]
    },
    {
     "name": "stdout",
     "output_type": "stream",
     "text": [
      "<Response [200]>\n"
     ]
    },
    {
     "name": "stderr",
     "output_type": "stream",
     "text": [
      "(41821) accepted ('127.0.0.1', 57549)\n",
      "173.20.233.125,127.0.0.1 - - [22/Oct/2023 18:46:52] \"POST /add_step HTTP/1.1\" 200 166 0.000616\n"
     ]
    },
    {
     "name": "stdout",
     "output_type": "stream",
     "text": [
      "<Response [200]>\n"
     ]
    },
    {
     "name": "stderr",
     "output_type": "stream",
     "text": [
      "(41821) accepted ('127.0.0.1', 58880)\n",
      "173.20.233.125,127.0.0.1 - - [22/Oct/2023 18:46:53] \"POST /add_step HTTP/1.1\" 200 166 0.000942\n"
     ]
    },
    {
     "name": "stdout",
     "output_type": "stream",
     "text": [
      "<Response [200]>\n"
     ]
    },
    {
     "name": "stderr",
     "output_type": "stream",
     "text": [
      "(41821) accepted ('127.0.0.1', 60126)\n",
      "173.20.233.125,127.0.0.1 - - [22/Oct/2023 18:46:53] \"POST /add_step HTTP/1.1\" 200 166 0.000687\n"
     ]
    },
    {
     "name": "stdout",
     "output_type": "stream",
     "text": [
      "<Response [200]>\n"
     ]
    },
    {
     "name": "stderr",
     "output_type": "stream",
     "text": [
      "(41821) accepted ('127.0.0.1', 61720)\n",
      "173.20.233.125,127.0.0.1 - - [22/Oct/2023 18:46:54] \"POST /add_step HTTP/1.1\" 200 166 0.000989\n"
     ]
    },
    {
     "name": "stdout",
     "output_type": "stream",
     "text": [
      "<Response [200]>\n"
     ]
    },
    {
     "name": "stderr",
     "output_type": "stream",
     "text": [
      "(41821) accepted ('127.0.0.1', 63004)\n",
      "173.20.233.125,127.0.0.1 - - [22/Oct/2023 18:46:55] \"POST /add_step HTTP/1.1\" 200 166 0.000640\n"
     ]
    },
    {
     "name": "stdout",
     "output_type": "stream",
     "text": [
      "<Response [200]>\n"
     ]
    },
    {
     "name": "stderr",
     "output_type": "stream",
     "text": [
      "(41821) accepted ('127.0.0.1', 64440)\n",
      "173.20.233.125,127.0.0.1 - - [22/Oct/2023 18:46:56] \"POST /add_step HTTP/1.1\" 200 166 0.000825\n"
     ]
    },
    {
     "name": "stdout",
     "output_type": "stream",
     "text": [
      "<Response [200]>\n"
     ]
    },
    {
     "name": "stderr",
     "output_type": "stream",
     "text": [
      "(41821) accepted ('127.0.0.1', 49620)\n",
      "173.20.233.125,127.0.0.1 - - [22/Oct/2023 18:46:57] \"POST /add_step HTTP/1.1\" 200 166 0.000546\n"
     ]
    },
    {
     "name": "stdout",
     "output_type": "stream",
     "text": [
      "<Response [200]>\n"
     ]
    },
    {
     "name": "stderr",
     "output_type": "stream",
     "text": [
      "(41821) accepted ('127.0.0.1', 51037)\n",
      "173.20.233.125,127.0.0.1 - - [22/Oct/2023 18:46:57] \"POST /add_step HTTP/1.1\" 200 166 0.000544\n"
     ]
    },
    {
     "name": "stdout",
     "output_type": "stream",
     "text": [
      "<Response [200]>\n"
     ]
    },
    {
     "name": "stderr",
     "output_type": "stream",
     "text": [
      "(41821) accepted ('127.0.0.1', 52476)\n",
      "173.20.233.125,127.0.0.1 - - [22/Oct/2023 18:46:58] \"POST /add_step HTTP/1.1\" 200 166 0.000637\n"
     ]
    },
    {
     "name": "stdout",
     "output_type": "stream",
     "text": [
      "<Response [200]>\n"
     ]
    },
    {
     "name": "stderr",
     "output_type": "stream",
     "text": [
      "(41821) accepted ('127.0.0.1', 54082)\n",
      "173.20.233.125,127.0.0.1 - - [22/Oct/2023 18:46:59] \"POST /add_step HTTP/1.1\" 200 166 0.000675\n"
     ]
    },
    {
     "name": "stdout",
     "output_type": "stream",
     "text": [
      "<Response [200]>\n"
     ]
    },
    {
     "name": "stderr",
     "output_type": "stream",
     "text": [
      "(41821) accepted ('127.0.0.1', 55574)\n",
      "173.20.233.125,127.0.0.1 - - [22/Oct/2023 18:47:00] \"POST /add_step HTTP/1.1\" 200 166 0.000600\n"
     ]
    },
    {
     "name": "stdout",
     "output_type": "stream",
     "text": [
      "<Response [200]>\n"
     ]
    },
    {
     "name": "stderr",
     "output_type": "stream",
     "text": [
      "(41821) accepted ('127.0.0.1', 57007)\n",
      "173.20.233.125,127.0.0.1 - - [22/Oct/2023 18:47:01] \"POST /add_step HTTP/1.1\" 200 166 0.000799\n"
     ]
    },
    {
     "name": "stdout",
     "output_type": "stream",
     "text": [
      "<Response [200]>\n"
     ]
    },
    {
     "name": "stderr",
     "output_type": "stream",
     "text": [
      "(41821) accepted ('127.0.0.1', 58637)\n",
      "173.20.233.125,127.0.0.1 - - [22/Oct/2023 18:47:01] \"POST /add_step HTTP/1.1\" 200 166 0.001134\n"
     ]
    },
    {
     "name": "stdout",
     "output_type": "stream",
     "text": [
      "<Response [200]>\n"
     ]
    },
    {
     "name": "stderr",
     "output_type": "stream",
     "text": [
      "(41821) accepted ('127.0.0.1', 59963)\n",
      "173.20.233.125,127.0.0.1 - - [22/Oct/2023 18:47:02] \"POST /add_step HTTP/1.1\" 200 166 0.000502\n"
     ]
    },
    {
     "name": "stdout",
     "output_type": "stream",
     "text": [
      "<Response [200]>\n"
     ]
    },
    {
     "name": "stderr",
     "output_type": "stream",
     "text": [
      "(41821) accepted ('127.0.0.1', 61252)\n",
      "173.20.233.125,127.0.0.1 - - [22/Oct/2023 18:47:03] \"POST /add_step HTTP/1.1\" 200 166 0.000635\n"
     ]
    },
    {
     "name": "stdout",
     "output_type": "stream",
     "text": [
      "<Response [200]>\n"
     ]
    },
    {
     "name": "stderr",
     "output_type": "stream",
     "text": [
      "(41821) accepted ('127.0.0.1', 62500)\n",
      "173.20.233.125,127.0.0.1 - - [22/Oct/2023 18:47:04] \"POST /add_step HTTP/1.1\" 200 166 0.000651\n"
     ]
    },
    {
     "name": "stdout",
     "output_type": "stream",
     "text": [
      "<Response [200]>\n"
     ]
    },
    {
     "name": "stderr",
     "output_type": "stream",
     "text": [
      "(41821) accepted ('127.0.0.1', 63723)\n",
      "173.20.233.125,127.0.0.1 - - [22/Oct/2023 18:47:04] \"POST /add_step HTTP/1.1\" 200 166 0.000637\n"
     ]
    },
    {
     "name": "stdout",
     "output_type": "stream",
     "text": [
      "<Response [200]>\n"
     ]
    },
    {
     "name": "stderr",
     "output_type": "stream",
     "text": [
      "(41821) accepted ('127.0.0.1', 65047)\n",
      "173.20.233.125,127.0.0.1 - - [22/Oct/2023 18:47:05] \"POST /add_step HTTP/1.1\" 200 166 0.000773\n"
     ]
    },
    {
     "name": "stdout",
     "output_type": "stream",
     "text": [
      "<Response [200]>\n"
     ]
    },
    {
     "name": "stderr",
     "output_type": "stream",
     "text": [
      "(41821) accepted ('127.0.0.1', 49875)\n",
      "173.20.233.125,127.0.0.1 - - [22/Oct/2023 18:47:06] \"POST /add_step HTTP/1.1\" 200 166 0.000672\n"
     ]
    },
    {
     "name": "stdout",
     "output_type": "stream",
     "text": [
      "<Response [200]>\n"
     ]
    },
    {
     "name": "stderr",
     "output_type": "stream",
     "text": [
      "(41821) accepted ('127.0.0.1', 51177)\n",
      "173.20.233.125,127.0.0.1 - - [22/Oct/2023 18:47:06] \"POST /add_step HTTP/1.1\" 200 166 0.000921\n"
     ]
    },
    {
     "name": "stdout",
     "output_type": "stream",
     "text": [
      "<Response [200]>\n"
     ]
    },
    {
     "name": "stderr",
     "output_type": "stream",
     "text": [
      "(41821) accepted ('127.0.0.1', 52441)\n",
      "173.20.233.125,127.0.0.1 - - [22/Oct/2023 18:47:07] \"POST /add_step HTTP/1.1\" 200 166 0.000532\n"
     ]
    },
    {
     "name": "stdout",
     "output_type": "stream",
     "text": [
      "<Response [200]>\n"
     ]
    },
    {
     "name": "stderr",
     "output_type": "stream",
     "text": [
      "(41821) accepted ('127.0.0.1', 53705)\n",
      "173.20.233.125,127.0.0.1 - - [22/Oct/2023 18:47:08] \"POST /add_step HTTP/1.1\" 200 166 0.000525\n"
     ]
    },
    {
     "name": "stdout",
     "output_type": "stream",
     "text": [
      "<Response [200]>\n"
     ]
    },
    {
     "name": "stderr",
     "output_type": "stream",
     "text": [
      "127.0.0.1 - - [22/Oct/2023 18:47:08] \"GET /all HTTP/1.1\" 200 519672 0.099615\n",
      "(41821) accepted ('127.0.0.1', 55804)\n",
      "173.20.233.125,127.0.0.1 - - [22/Oct/2023 18:47:09] \"POST /add_step HTTP/1.1\" 200 166 0.000654\n"
     ]
    },
    {
     "name": "stdout",
     "output_type": "stream",
     "text": [
      "<Response [200]>\n"
     ]
    },
    {
     "name": "stderr",
     "output_type": "stream",
     "text": [
      "(41821) accepted ('127.0.0.1', 57412)\n",
      "173.20.233.125,127.0.0.1 - - [22/Oct/2023 18:47:10] \"POST /add_step HTTP/1.1\" 200 166 0.001053\n"
     ]
    },
    {
     "name": "stdout",
     "output_type": "stream",
     "text": [
      "<Response [200]>\n"
     ]
    },
    {
     "name": "stderr",
     "output_type": "stream",
     "text": [
      "(41821) accepted ('127.0.0.1', 58722)\n",
      "173.20.233.125,127.0.0.1 - - [22/Oct/2023 18:47:10] \"POST /add_step HTTP/1.1\" 200 166 0.000469\n"
     ]
    },
    {
     "name": "stdout",
     "output_type": "stream",
     "text": [
      "<Response [200]>\n"
     ]
    },
    {
     "name": "stderr",
     "output_type": "stream",
     "text": [
      "(41821) accepted ('127.0.0.1', 59871)\n",
      "173.20.233.125,127.0.0.1 - - [22/Oct/2023 18:47:11] \"POST /add_step HTTP/1.1\" 200 166 0.000764\n"
     ]
    },
    {
     "name": "stdout",
     "output_type": "stream",
     "text": [
      "<Response [200]>\n"
     ]
    },
    {
     "name": "stderr",
     "output_type": "stream",
     "text": [
      "(41821) accepted ('127.0.0.1', 61163)\n",
      "173.20.233.125,127.0.0.1 - - [22/Oct/2023 18:47:12] \"POST /add_step HTTP/1.1\" 200 166 0.000441\n"
     ]
    },
    {
     "name": "stdout",
     "output_type": "stream",
     "text": [
      "<Response [200]>\n"
     ]
    },
    {
     "name": "stderr",
     "output_type": "stream",
     "text": [
      "(41821) accepted ('127.0.0.1', 62333)\n",
      "173.20.233.125,127.0.0.1 - - [22/Oct/2023 18:47:12] \"POST /add_step HTTP/1.1\" 200 166 0.000978\n"
     ]
    },
    {
     "name": "stdout",
     "output_type": "stream",
     "text": [
      "<Response [200]>\n"
     ]
    },
    {
     "name": "stderr",
     "output_type": "stream",
     "text": [
      "(41821) accepted ('127.0.0.1', 63462)\n",
      "173.20.233.125,127.0.0.1 - - [22/Oct/2023 18:47:13] \"POST /add_step HTTP/1.1\" 200 166 0.000594\n"
     ]
    },
    {
     "name": "stdout",
     "output_type": "stream",
     "text": [
      "<Response [200]>\n"
     ]
    },
    {
     "name": "stderr",
     "output_type": "stream",
     "text": [
      "(41821) accepted ('127.0.0.1', 64565)\n",
      "173.20.233.125,127.0.0.1 - - [22/Oct/2023 18:47:14] \"POST /add_step HTTP/1.1\" 200 166 0.000675\n"
     ]
    },
    {
     "name": "stdout",
     "output_type": "stream",
     "text": [
      "<Response [200]>\n"
     ]
    },
    {
     "name": "stderr",
     "output_type": "stream",
     "text": [
      "(41821) accepted ('127.0.0.1', 49264)\n",
      "173.20.233.125,127.0.0.1 - - [22/Oct/2023 18:47:14] \"POST /add_step HTTP/1.1\" 200 166 0.000475\n"
     ]
    },
    {
     "name": "stdout",
     "output_type": "stream",
     "text": [
      "<Response [200]>\n"
     ]
    },
    {
     "name": "stderr",
     "output_type": "stream",
     "text": [
      "(41821) accepted ('127.0.0.1', 50381)\n",
      "173.20.233.125,127.0.0.1 - - [22/Oct/2023 18:47:15] \"POST /add_step HTTP/1.1\" 200 166 0.000955\n"
     ]
    },
    {
     "name": "stdout",
     "output_type": "stream",
     "text": [
      "<Response [200]>\n"
     ]
    },
    {
     "name": "stderr",
     "output_type": "stream",
     "text": [
      "(41821) accepted ('127.0.0.1', 51523)\n",
      "173.20.233.125,127.0.0.1 - - [22/Oct/2023 18:47:15] \"POST /add_step HTTP/1.1\" 200 166 0.000602\n"
     ]
    },
    {
     "name": "stdout",
     "output_type": "stream",
     "text": [
      "<Response [200]>\n"
     ]
    },
    {
     "name": "stderr",
     "output_type": "stream",
     "text": [
      "127.0.0.1 - - [22/Oct/2023 18:47:16] \"GET /socket.io/?EIO=4&transport=websocket&sid=xo73Wp11x0Pr2TxNAAAc HTTP/1.1\" 200 0 214.007031\n",
      "127.0.0.1 - - [22/Oct/2023 18:47:16] \"GET /socket.io/?EIO=4&transport=websocket&sid=10niILGO0t8Q6wtPAAAd HTTP/1.1\" 200 0 213.995815\n",
      "127.0.0.1 - - [22/Oct/2023 18:47:16] \"GET /socket.io/?EIO=4&transport=polling&t=OjPoIJp HTTP/1.1\" 200 330 0.001423\n",
      "127.0.0.1 - - [22/Oct/2023 18:47:16] \"GET /socket.io/?EIO=4&transport=polling&t=OjPoIJr HTTP/1.1\" 200 330 0.001339\n",
      "127.0.0.1 - - [22/Oct/2023 18:47:16] \"POST /socket.io/?EIO=4&transport=polling&t=OjPoIJz&sid=piK97AWL-BdkctakAAAg HTTP/1.1\" 200 219 0.000583\n",
      "127.0.0.1 - - [22/Oct/2023 18:47:16] \"GET /socket.io/?EIO=4&transport=polling&t=OjPoIJ-&sid=piK97AWL-BdkctakAAAg HTTP/1.1\" 200 265 0.000367\n",
      "(41821) accepted ('127.0.0.1', 52371)\n",
      "127.0.0.1 - - [22/Oct/2023 18:47:16] \"POST /socket.io/?EIO=4&transport=polling&t=OjPoIK1&sid=DfjVYP127hvc5j6kAAAh HTTP/1.1\" 200 219 0.000399\n",
      "(41821) accepted ('127.0.0.1', 52372)\n",
      "127.0.0.1 - - [22/Oct/2023 18:47:16] \"GET /socket.io/?EIO=4&transport=polling&t=OjPoIK2&sid=DfjVYP127hvc5j6kAAAh HTTP/1.1\" 200 265 0.000257\n",
      "127.0.0.1 - - [22/Oct/2023 18:47:16] \"GET /socket.io/?EIO=4&transport=polling&t=OjPoIK9&sid=piK97AWL-BdkctakAAAg HTTP/1.1\" 200 233 0.000192\n",
      "(41821) accepted ('127.0.0.1', 52396)\n",
      "127.0.0.1 - - [22/Oct/2023 18:47:16] \"GET /all HTTP/1.1\" 200 523446 0.048986\n",
      "127.0.0.1 - - [22/Oct/2023 18:47:16] \"GET /socket.io/?EIO=4&transport=polling&t=OjPoIKB&sid=DfjVYP127hvc5j6kAAAh HTTP/1.1\" 200 233 0.076443\n",
      "(41821) accepted ('127.0.0.1', 52757)\n",
      "173.20.233.125,127.0.0.1 - - [22/Oct/2023 18:47:16] \"POST /add_step HTTP/1.1\" 200 166 0.000536\n"
     ]
    },
    {
     "name": "stdout",
     "output_type": "stream",
     "text": [
      "<Response [200]>\n"
     ]
    },
    {
     "name": "stderr",
     "output_type": "stream",
     "text": [
      "(41821) accepted ('127.0.0.1', 53953)\n",
      "173.20.233.125,127.0.0.1 - - [22/Oct/2023 18:47:17] \"POST /add_step HTTP/1.1\" 200 166 0.000600\n"
     ]
    },
    {
     "name": "stdout",
     "output_type": "stream",
     "text": [
      "<Response [200]>\n"
     ]
    },
    {
     "name": "stderr",
     "output_type": "stream",
     "text": [
      "(41821) accepted ('127.0.0.1', 55082)\n",
      "173.20.233.125,127.0.0.1 - - [22/Oct/2023 18:47:17] \"POST /add_step HTTP/1.1\" 200 166 0.000453\n"
     ]
    },
    {
     "name": "stdout",
     "output_type": "stream",
     "text": [
      "<Response [200]>\n"
     ]
    },
    {
     "name": "stderr",
     "output_type": "stream",
     "text": [
      "(41821) accepted ('127.0.0.1', 56183)\n",
      "173.20.233.125,127.0.0.1 - - [22/Oct/2023 18:47:18] \"POST /add_step HTTP/1.1\" 200 166 0.000439\n"
     ]
    },
    {
     "name": "stdout",
     "output_type": "stream",
     "text": [
      "<Response [200]>\n"
     ]
    },
    {
     "name": "stderr",
     "output_type": "stream",
     "text": [
      "(41821) accepted ('127.0.0.1', 57372)\n",
      "173.20.233.125,127.0.0.1 - - [22/Oct/2023 18:47:19] \"POST /add_step HTTP/1.1\" 200 166 0.000978\n"
     ]
    },
    {
     "name": "stdout",
     "output_type": "stream",
     "text": [
      "<Response [200]>\n"
     ]
    },
    {
     "name": "stderr",
     "output_type": "stream",
     "text": [
      "(41821) accepted ('127.0.0.1', 58523)\n",
      "173.20.233.125,127.0.0.1 - - [22/Oct/2023 18:47:19] \"POST /add_step HTTP/1.1\" 200 166 0.000527\n"
     ]
    },
    {
     "name": "stdout",
     "output_type": "stream",
     "text": [
      "<Response [200]>\n"
     ]
    },
    {
     "name": "stderr",
     "output_type": "stream",
     "text": [
      "(41821) accepted ('127.0.0.1', 59717)\n",
      "173.20.233.125,127.0.0.1 - - [22/Oct/2023 18:47:20] \"POST /add_step HTTP/1.1\" 200 166 0.000834\n"
     ]
    },
    {
     "name": "stdout",
     "output_type": "stream",
     "text": [
      "<Response [200]>\n"
     ]
    },
    {
     "name": "stderr",
     "output_type": "stream",
     "text": [
      "(41821) accepted ('127.0.0.1', 60862)\n",
      "173.20.233.125,127.0.0.1 - - [22/Oct/2023 18:47:20] \"POST /add_step HTTP/1.1\" 200 166 0.001478\n"
     ]
    },
    {
     "name": "stdout",
     "output_type": "stream",
     "text": [
      "<Response [200]>\n"
     ]
    },
    {
     "name": "stderr",
     "output_type": "stream",
     "text": [
      "(41821) accepted ('127.0.0.1', 62014)\n",
      "173.20.233.125,127.0.0.1 - - [22/Oct/2023 18:47:21] \"POST /add_step HTTP/1.1\" 200 166 0.000624\n"
     ]
    },
    {
     "name": "stdout",
     "output_type": "stream",
     "text": [
      "<Response [200]>\n"
     ]
    },
    {
     "name": "stderr",
     "output_type": "stream",
     "text": [
      "(41821) accepted ('127.0.0.1', 63167)\n",
      "173.20.233.125,127.0.0.1 - - [22/Oct/2023 18:47:22] \"POST /add_step HTTP/1.1\" 200 166 0.000618\n"
     ]
    },
    {
     "name": "stdout",
     "output_type": "stream",
     "text": [
      "<Response [200]>\n"
     ]
    },
    {
     "name": "stderr",
     "output_type": "stream",
     "text": [
      "(41821) accepted ('127.0.0.1', 64297)\n",
      "173.20.233.125,127.0.0.1 - - [22/Oct/2023 18:47:22] \"POST /add_step HTTP/1.1\" 200 166 0.000766\n"
     ]
    },
    {
     "name": "stdout",
     "output_type": "stream",
     "text": [
      "<Response [200]>\n"
     ]
    },
    {
     "name": "stderr",
     "output_type": "stream",
     "text": [
      "(41821) accepted ('127.0.0.1', 65481)\n",
      "173.20.233.125,127.0.0.1 - - [22/Oct/2023 18:47:23] \"POST /add_step HTTP/1.1\" 200 166 0.000632\n"
     ]
    },
    {
     "name": "stdout",
     "output_type": "stream",
     "text": [
      "<Response [200]>\n"
     ]
    },
    {
     "name": "stderr",
     "output_type": "stream",
     "text": [
      "(41821) accepted ('127.0.0.1', 50313)\n",
      "173.20.233.125,127.0.0.1 - - [22/Oct/2023 18:47:24] \"POST /add_step HTTP/1.1\" 200 166 0.000632\n"
     ]
    },
    {
     "name": "stdout",
     "output_type": "stream",
     "text": [
      "<Response [200]>\n"
     ]
    },
    {
     "name": "stderr",
     "output_type": "stream",
     "text": [
      "(41821) accepted ('127.0.0.1', 51450)\n",
      "173.20.233.125,127.0.0.1 - - [22/Oct/2023 18:47:24] \"POST /add_step HTTP/1.1\" 200 166 0.001001\n"
     ]
    },
    {
     "name": "stdout",
     "output_type": "stream",
     "text": [
      "<Response [200]>\n"
     ]
    },
    {
     "name": "stderr",
     "output_type": "stream",
     "text": [
      "(41821) accepted ('127.0.0.1', 52603)\n",
      "173.20.233.125,127.0.0.1 - - [22/Oct/2023 18:47:25] \"POST /add_step HTTP/1.1\" 200 166 0.000793\n"
     ]
    },
    {
     "name": "stdout",
     "output_type": "stream",
     "text": [
      "<Response [200]>\n"
     ]
    },
    {
     "name": "stderr",
     "output_type": "stream",
     "text": [
      "(41821) accepted ('127.0.0.1', 53743)\n",
      "173.20.233.125,127.0.0.1 - - [22/Oct/2023 18:47:25] \"POST /add_step HTTP/1.1\" 200 166 0.000954\n"
     ]
    },
    {
     "name": "stdout",
     "output_type": "stream",
     "text": [
      "<Response [200]>\n"
     ]
    },
    {
     "name": "stderr",
     "output_type": "stream",
     "text": [
      "(41821) accepted ('127.0.0.1', 54947)\n",
      "173.20.233.125,127.0.0.1 - - [22/Oct/2023 18:47:26] \"POST /add_step HTTP/1.1\" 200 166 0.000766\n"
     ]
    },
    {
     "name": "stdout",
     "output_type": "stream",
     "text": [
      "<Response [200]>\n"
     ]
    },
    {
     "name": "stderr",
     "output_type": "stream",
     "text": [
      "(41821) accepted ('127.0.0.1', 56082)\n",
      "173.20.233.125,127.0.0.1 - - [22/Oct/2023 18:47:27] \"POST /add_step HTTP/1.1\" 200 166 0.000939\n"
     ]
    },
    {
     "name": "stdout",
     "output_type": "stream",
     "text": [
      "<Response [200]>\n"
     ]
    },
    {
     "name": "stderr",
     "output_type": "stream",
     "text": [
      "(41821) accepted ('127.0.0.1', 57231)\n",
      "173.20.233.125,127.0.0.1 - - [22/Oct/2023 18:47:27] \"POST /add_step HTTP/1.1\" 200 166 0.000975\n"
     ]
    },
    {
     "name": "stdout",
     "output_type": "stream",
     "text": [
      "<Response [200]>\n"
     ]
    },
    {
     "name": "stderr",
     "output_type": "stream",
     "text": [
      "(41821) accepted ('127.0.0.1', 58371)\n",
      "173.20.233.125,127.0.0.1 - - [22/Oct/2023 18:47:28] \"POST /add_step HTTP/1.1\" 200 166 0.000636\n"
     ]
    },
    {
     "name": "stdout",
     "output_type": "stream",
     "text": [
      "<Response [200]>\n"
     ]
    },
    {
     "name": "stderr",
     "output_type": "stream",
     "text": [
      "(41821) accepted ('127.0.0.1', 60027)\n",
      "173.20.233.125,127.0.0.1 - - [22/Oct/2023 18:47:29] \"POST /add_step HTTP/1.1\" 200 166 0.000656\n"
     ]
    },
    {
     "name": "stdout",
     "output_type": "stream",
     "text": [
      "<Response [200]>\n"
     ]
    },
    {
     "name": "stderr",
     "output_type": "stream",
     "text": [
      "(41821) accepted ('127.0.0.1', 61220)\n",
      "173.20.233.125,127.0.0.1 - - [22/Oct/2023 18:47:30] \"POST /add_step HTTP/1.1\" 200 166 0.000671\n"
     ]
    },
    {
     "name": "stdout",
     "output_type": "stream",
     "text": [
      "<Response [200]>\n"
     ]
    },
    {
     "name": "stderr",
     "output_type": "stream",
     "text": [
      "(41821) accepted ('127.0.0.1', 62411)\n",
      "173.20.233.125,127.0.0.1 - - [22/Oct/2023 18:47:30] \"POST /add_step HTTP/1.1\" 200 166 0.000796\n"
     ]
    },
    {
     "name": "stdout",
     "output_type": "stream",
     "text": [
      "<Response [200]>\n"
     ]
    },
    {
     "name": "stderr",
     "output_type": "stream",
     "text": [
      "(41821) accepted ('127.0.0.1', 63518)\n",
      "173.20.233.125,127.0.0.1 - - [22/Oct/2023 18:47:31] \"POST /add_step HTTP/1.1\" 200 166 0.000794\n"
     ]
    },
    {
     "name": "stdout",
     "output_type": "stream",
     "text": [
      "<Response [200]>\n"
     ]
    },
    {
     "name": "stderr",
     "output_type": "stream",
     "text": [
      "(41821) accepted ('127.0.0.1', 64653)\n",
      "173.20.233.125,127.0.0.1 - - [22/Oct/2023 18:47:31] \"POST /add_step HTTP/1.1\" 200 166 0.000715\n"
     ]
    },
    {
     "name": "stdout",
     "output_type": "stream",
     "text": [
      "<Response [200]>\n"
     ]
    },
    {
     "name": "stderr",
     "output_type": "stream",
     "text": [
      "(41821) accepted ('127.0.0.1', 49426)\n",
      "173.20.233.125,127.0.0.1 - - [22/Oct/2023 18:47:32] \"POST /add_step HTTP/1.1\" 200 166 0.000500\n"
     ]
    },
    {
     "name": "stdout",
     "output_type": "stream",
     "text": [
      "<Response [200]>\n"
     ]
    },
    {
     "name": "stderr",
     "output_type": "stream",
     "text": [
      "(41821) accepted ('127.0.0.1', 50578)\n",
      "173.20.233.125,127.0.0.1 - - [22/Oct/2023 18:47:33] \"POST /add_step HTTP/1.1\" 200 166 0.000648\n"
     ]
    },
    {
     "name": "stdout",
     "output_type": "stream",
     "text": [
      "<Response [200]>\n"
     ]
    },
    {
     "name": "stderr",
     "output_type": "stream",
     "text": [
      "(41821) accepted ('127.0.0.1', 51768)\n",
      "173.20.233.125,127.0.0.1 - - [22/Oct/2023 18:47:33] \"POST /add_step HTTP/1.1\" 200 166 0.001058\n"
     ]
    },
    {
     "name": "stdout",
     "output_type": "stream",
     "text": [
      "<Response [200]>\n"
     ]
    },
    {
     "name": "stderr",
     "output_type": "stream",
     "text": [
      "(41821) accepted ('127.0.0.1', 52888)\n",
      "173.20.233.125,127.0.0.1 - - [22/Oct/2023 18:47:34] \"POST /add_step HTTP/1.1\" 200 166 0.000795\n"
     ]
    },
    {
     "name": "stdout",
     "output_type": "stream",
     "text": [
      "<Response [200]>\n"
     ]
    },
    {
     "name": "stderr",
     "output_type": "stream",
     "text": [
      "(41821) accepted ('127.0.0.1', 53966)\n",
      "173.20.233.125,127.0.0.1 - - [22/Oct/2023 18:47:35] \"POST /add_step HTTP/1.1\" 200 166 0.000707\n"
     ]
    },
    {
     "name": "stdout",
     "output_type": "stream",
     "text": [
      "<Response [200]>\n",
      "49/49 [==============================] - 1s 10ms/step - loss: 0.8015 - value_head_loss: 0.0630 - policy_head_loss: 0.7385 - policy_head_accuracy: 0.8003\n"
     ]
    },
    {
     "name": "stderr",
     "output_type": "stream",
     "text": [
      "(41821) accepted ('127.0.0.1', 58127)\n",
      "173.20.233.125,127.0.0.1 - - [22/Oct/2023 18:47:37] \"POST /add_step HTTP/1.1\" 200 166 0.001393\n"
     ]
    },
    {
     "name": "stdout",
     "output_type": "stream",
     "text": [
      "<Response [200]>\n"
     ]
    },
    {
     "name": "stderr",
     "output_type": "stream",
     "text": [
      "(41821) accepted ('127.0.0.1', 59284)\n",
      "173.20.233.125,127.0.0.1 - - [22/Oct/2023 18:47:37] \"POST /add_step HTTP/1.1\" 200 166 0.000654\n"
     ]
    },
    {
     "name": "stdout",
     "output_type": "stream",
     "text": [
      "<Response [200]>\n"
     ]
    },
    {
     "name": "stderr",
     "output_type": "stream",
     "text": [
      "(41821) accepted ('127.0.0.1', 60427)\n",
      "173.20.233.125,127.0.0.1 - - [22/Oct/2023 18:47:38] \"POST /add_step HTTP/1.1\" 200 166 0.001313\n"
     ]
    },
    {
     "name": "stdout",
     "output_type": "stream",
     "text": [
      "<Response [200]>\n"
     ]
    },
    {
     "name": "stderr",
     "output_type": "stream",
     "text": [
      "(41821) accepted ('127.0.0.1', 61768)\n",
      "173.20.233.125,127.0.0.1 - - [22/Oct/2023 18:47:39] \"POST /add_step HTTP/1.1\" 200 166 0.001090\n"
     ]
    },
    {
     "name": "stdout",
     "output_type": "stream",
     "text": [
      "<Response [200]>\n"
     ]
    },
    {
     "name": "stderr",
     "output_type": "stream",
     "text": [
      "(41821) accepted ('127.0.0.1', 63563)\n",
      "173.20.233.125,127.0.0.1 - - [22/Oct/2023 18:47:40] \"POST /add_step HTTP/1.1\" 200 166 0.000754\n"
     ]
    },
    {
     "name": "stdout",
     "output_type": "stream",
     "text": [
      "<Response [200]>\n"
     ]
    },
    {
     "name": "stderr",
     "output_type": "stream",
     "text": [
      "(41821) accepted ('127.0.0.1', 65013)\n",
      "173.20.233.125,127.0.0.1 - - [22/Oct/2023 18:47:41] \"POST /add_step HTTP/1.1\" 200 166 0.001247\n"
     ]
    },
    {
     "name": "stdout",
     "output_type": "stream",
     "text": [
      "<Response [200]>\n"
     ]
    },
    {
     "name": "stderr",
     "output_type": "stream",
     "text": [
      "(41821) accepted ('127.0.0.1', 50120)\n",
      "173.20.233.125,127.0.0.1 - - [22/Oct/2023 18:47:41] \"POST /add_step HTTP/1.1\" 200 166 0.000663\n"
     ]
    },
    {
     "name": "stdout",
     "output_type": "stream",
     "text": [
      "<Response [200]>\n"
     ]
    },
    {
     "name": "stderr",
     "output_type": "stream",
     "text": [
      "(41821) accepted ('127.0.0.1', 51726)\n",
      "173.20.233.125,127.0.0.1 - - [22/Oct/2023 18:47:42] \"POST /add_step HTTP/1.1\" 200 166 0.001172\n"
     ]
    },
    {
     "name": "stdout",
     "output_type": "stream",
     "text": [
      "<Response [200]>\n"
     ]
    },
    {
     "name": "stderr",
     "output_type": "stream",
     "text": [
      "(41821) accepted ('127.0.0.1', 52949)\n",
      "173.20.233.125,127.0.0.1 - - [22/Oct/2023 18:47:43] \"POST /add_step HTTP/1.1\" 200 166 0.000877\n"
     ]
    },
    {
     "name": "stdout",
     "output_type": "stream",
     "text": [
      "<Response [200]>\n"
     ]
    },
    {
     "name": "stderr",
     "output_type": "stream",
     "text": [
      "(41821) accepted ('127.0.0.1', 54127)\n",
      "173.20.233.125,127.0.0.1 - - [22/Oct/2023 18:47:43] \"POST /add_step HTTP/1.1\" 200 166 0.000692\n"
     ]
    },
    {
     "name": "stdout",
     "output_type": "stream",
     "text": [
      "<Response [200]>\n"
     ]
    },
    {
     "name": "stderr",
     "output_type": "stream",
     "text": [
      "(41821) accepted ('127.0.0.1', 55339)\n",
      "173.20.233.125,127.0.0.1 - - [22/Oct/2023 18:47:44] \"POST /add_step HTTP/1.1\" 200 166 0.000540\n"
     ]
    },
    {
     "name": "stdout",
     "output_type": "stream",
     "text": [
      "<Response [200]>\n"
     ]
    },
    {
     "name": "stderr",
     "output_type": "stream",
     "text": [
      "(41821) accepted ('127.0.0.1', 56747)\n",
      "173.20.233.125,127.0.0.1 - - [22/Oct/2023 18:47:45] \"POST /add_step HTTP/1.1\" 200 166 0.000563\n"
     ]
    },
    {
     "name": "stdout",
     "output_type": "stream",
     "text": [
      "<Response [200]>\n"
     ]
    },
    {
     "name": "stderr",
     "output_type": "stream",
     "text": [
      "(41821) accepted ('127.0.0.1', 58428)\n",
      "173.20.233.125,127.0.0.1 - - [22/Oct/2023 18:47:46] \"POST /add_step HTTP/1.1\" 200 166 0.000565\n"
     ]
    },
    {
     "name": "stdout",
     "output_type": "stream",
     "text": [
      "<Response [200]>\n"
     ]
    },
    {
     "name": "stderr",
     "output_type": "stream",
     "text": [
      "(41821) accepted ('127.0.0.1', 59807)\n",
      "173.20.233.125,127.0.0.1 - - [22/Oct/2023 18:47:47] \"POST /add_step HTTP/1.1\" 200 166 0.000523\n"
     ]
    },
    {
     "name": "stdout",
     "output_type": "stream",
     "text": [
      "<Response [200]>\n"
     ]
    },
    {
     "name": "stderr",
     "output_type": "stream",
     "text": [
      "(41821) accepted ('127.0.0.1', 61353)\n",
      "173.20.233.125,127.0.0.1 - - [22/Oct/2023 18:47:47] \"POST /add_step HTTP/1.1\" 200 166 0.001046\n"
     ]
    },
    {
     "name": "stdout",
     "output_type": "stream",
     "text": [
      "<Response [200]>\n"
     ]
    },
    {
     "name": "stderr",
     "output_type": "stream",
     "text": [
      "(41821) accepted ('127.0.0.1', 62501)\n",
      "173.20.233.125,127.0.0.1 - - [22/Oct/2023 18:47:48] \"POST /add_step HTTP/1.1\" 200 166 0.000676\n"
     ]
    },
    {
     "name": "stdout",
     "output_type": "stream",
     "text": [
      "<Response [200]>\n"
     ]
    },
    {
     "name": "stderr",
     "output_type": "stream",
     "text": [
      "(41821) accepted ('127.0.0.1', 63661)\n",
      "173.20.233.125,127.0.0.1 - - [22/Oct/2023 18:47:49] \"POST /add_step HTTP/1.1\" 200 166 0.000871\n"
     ]
    },
    {
     "name": "stdout",
     "output_type": "stream",
     "text": [
      "<Response [200]>\n"
     ]
    },
    {
     "name": "stderr",
     "output_type": "stream",
     "text": [
      "(41821) accepted ('127.0.0.1', 64881)\n",
      "173.20.233.125,127.0.0.1 - - [22/Oct/2023 18:47:49] \"POST /add_step HTTP/1.1\" 200 166 0.000634\n"
     ]
    },
    {
     "name": "stdout",
     "output_type": "stream",
     "text": [
      "<Response [200]>\n"
     ]
    },
    {
     "name": "stderr",
     "output_type": "stream",
     "text": [
      "(41821) accepted ('127.0.0.1', 49841)\n",
      "173.20.233.125,127.0.0.1 - - [22/Oct/2023 18:47:50] \"POST /add_step HTTP/1.1\" 200 166 0.000503\n"
     ]
    },
    {
     "name": "stdout",
     "output_type": "stream",
     "text": [
      "<Response [200]>\n"
     ]
    },
    {
     "name": "stderr",
     "output_type": "stream",
     "text": [
      "(41821) accepted ('127.0.0.1', 51140)\n",
      "173.20.233.125,127.0.0.1 - - [22/Oct/2023 18:47:51] \"POST /add_step HTTP/1.1\" 200 166 0.000727\n"
     ]
    },
    {
     "name": "stdout",
     "output_type": "stream",
     "text": [
      "<Response [200]>\n"
     ]
    },
    {
     "name": "stderr",
     "output_type": "stream",
     "text": [
      "(41821) accepted ('127.0.0.1', 52380)\n",
      "173.20.233.125,127.0.0.1 - - [22/Oct/2023 18:47:51] \"POST /add_step HTTP/1.1\" 200 166 0.000665\n"
     ]
    },
    {
     "name": "stdout",
     "output_type": "stream",
     "text": [
      "<Response [200]>\n"
     ]
    },
    {
     "name": "stderr",
     "output_type": "stream",
     "text": [
      "(41821) accepted ('127.0.0.1', 53646)\n",
      "173.20.233.125,127.0.0.1 - - [22/Oct/2023 18:47:52] \"POST /add_step HTTP/1.1\" 200 166 0.000781\n"
     ]
    },
    {
     "name": "stdout",
     "output_type": "stream",
     "text": [
      "<Response [200]>\n"
     ]
    },
    {
     "name": "stderr",
     "output_type": "stream",
     "text": [
      "(41821) accepted ('127.0.0.1', 54813)\n",
      "173.20.233.125,127.0.0.1 - - [22/Oct/2023 18:47:53] \"POST /add_step HTTP/1.1\" 200 166 0.000792\n"
     ]
    },
    {
     "name": "stdout",
     "output_type": "stream",
     "text": [
      "<Response [200]>\n"
     ]
    },
    {
     "name": "stderr",
     "output_type": "stream",
     "text": [
      "(41821) accepted ('127.0.0.1', 55956)\n",
      "173.20.233.125,127.0.0.1 - - [22/Oct/2023 18:47:53] \"POST /add_step HTTP/1.1\" 200 166 0.007989\n"
     ]
    },
    {
     "name": "stdout",
     "output_type": "stream",
     "text": [
      "<Response [200]>\n"
     ]
    },
    {
     "name": "stderr",
     "output_type": "stream",
     "text": [
      "(41821) accepted ('127.0.0.1', 57235)\n",
      "173.20.233.125,127.0.0.1 - - [22/Oct/2023 18:47:54] \"POST /add_step HTTP/1.1\" 200 166 0.000659\n"
     ]
    },
    {
     "name": "stdout",
     "output_type": "stream",
     "text": [
      "<Response [200]>\n"
     ]
    },
    {
     "name": "stderr",
     "output_type": "stream",
     "text": [
      "(41821) accepted ('127.0.0.1', 59312)\n",
      "173.20.233.125,127.0.0.1 - - [22/Oct/2023 18:47:55] \"POST /add_step HTTP/1.1\" 200 166 0.000518\n"
     ]
    },
    {
     "name": "stdout",
     "output_type": "stream",
     "text": [
      "<Response [200]>\n"
     ]
    },
    {
     "name": "stderr",
     "output_type": "stream",
     "text": [
      "(41821) accepted ('127.0.0.1', 60499)\n",
      "173.20.233.125,127.0.0.1 - - [22/Oct/2023 18:47:56] \"POST /add_step HTTP/1.1\" 200 166 0.000592\n"
     ]
    },
    {
     "name": "stdout",
     "output_type": "stream",
     "text": [
      "<Response [200]>\n"
     ]
    },
    {
     "name": "stderr",
     "output_type": "stream",
     "text": [
      "(41821) accepted ('127.0.0.1', 61931)\n",
      "173.20.233.125,127.0.0.1 - - [22/Oct/2023 18:47:57] \"POST /add_step HTTP/1.1\" 200 166 0.000638\n"
     ]
    },
    {
     "name": "stdout",
     "output_type": "stream",
     "text": [
      "<Response [200]>\n"
     ]
    },
    {
     "name": "stderr",
     "output_type": "stream",
     "text": [
      "(41821) accepted ('127.0.0.1', 63087)\n",
      "173.20.233.125,127.0.0.1 - - [22/Oct/2023 18:47:57] \"POST /add_step HTTP/1.1\" 200 166 0.000787\n"
     ]
    },
    {
     "name": "stdout",
     "output_type": "stream",
     "text": [
      "<Response [200]>\n"
     ]
    },
    {
     "name": "stderr",
     "output_type": "stream",
     "text": [
      "(41821) accepted ('127.0.0.1', 64459)\n",
      "173.20.233.125,127.0.0.1 - - [22/Oct/2023 18:47:58] \"POST /add_step HTTP/1.1\" 200 166 0.000447\n"
     ]
    },
    {
     "name": "stdout",
     "output_type": "stream",
     "text": [
      "<Response [200]>\n"
     ]
    },
    {
     "name": "stderr",
     "output_type": "stream",
     "text": [
      "(41821) accepted ('127.0.0.1', 49227)\n",
      "173.20.233.125,127.0.0.1 - - [22/Oct/2023 18:47:59] \"POST /add_step HTTP/1.1\" 200 166 0.000658\n"
     ]
    },
    {
     "name": "stdout",
     "output_type": "stream",
     "text": [
      "<Response [200]>\n"
     ]
    },
    {
     "name": "stderr",
     "output_type": "stream",
     "text": [
      "(41821) accepted ('127.0.0.1', 50396)\n",
      "173.20.233.125,127.0.0.1 - - [22/Oct/2023 18:47:59] \"POST /add_step HTTP/1.1\" 200 166 0.000646\n"
     ]
    },
    {
     "name": "stdout",
     "output_type": "stream",
     "text": [
      "<Response [200]>\n"
     ]
    },
    {
     "name": "stderr",
     "output_type": "stream",
     "text": [
      "(41821) accepted ('127.0.0.1', 51709)\n",
      "173.20.233.125,127.0.0.1 - - [22/Oct/2023 18:48:00] \"POST /add_step HTTP/1.1\" 200 166 0.000702\n"
     ]
    },
    {
     "name": "stdout",
     "output_type": "stream",
     "text": [
      "<Response [200]>\n"
     ]
    },
    {
     "name": "stderr",
     "output_type": "stream",
     "text": [
      "(41821) accepted ('127.0.0.1', 52906)\n",
      "173.20.233.125,127.0.0.1 - - [22/Oct/2023 18:48:01] \"POST /add_step HTTP/1.1\" 200 166 0.000640\n"
     ]
    },
    {
     "name": "stdout",
     "output_type": "stream",
     "text": [
      "<Response [200]>\n"
     ]
    },
    {
     "name": "stderr",
     "output_type": "stream",
     "text": [
      "(41821) accepted ('127.0.0.1', 54210)\n",
      "173.20.233.125,127.0.0.1 - - [22/Oct/2023 18:48:01] \"POST /add_step HTTP/1.1\" 200 166 0.000646\n"
     ]
    },
    {
     "name": "stdout",
     "output_type": "stream",
     "text": [
      "<Response [200]>\n"
     ]
    },
    {
     "name": "stderr",
     "output_type": "stream",
     "text": [
      "(41821) accepted ('127.0.0.1', 55471)\n",
      "173.20.233.125,127.0.0.1 - - [22/Oct/2023 18:48:02] \"POST /add_step HTTP/1.1\" 200 166 0.000564\n"
     ]
    },
    {
     "name": "stdout",
     "output_type": "stream",
     "text": [
      "<Response [200]>\n"
     ]
    },
    {
     "name": "stderr",
     "output_type": "stream",
     "text": [
      "(41821) accepted ('127.0.0.1', 56728)\n",
      "173.20.233.125,127.0.0.1 - - [22/Oct/2023 18:48:03] \"POST /add_step HTTP/1.1\" 200 166 0.000762\n"
     ]
    },
    {
     "name": "stdout",
     "output_type": "stream",
     "text": [
      "<Response [200]>\n"
     ]
    },
    {
     "name": "stderr",
     "output_type": "stream",
     "text": [
      "(41821) accepted ('127.0.0.1', 58000)\n",
      "173.20.233.125,127.0.0.1 - - [22/Oct/2023 18:48:03] \"POST /add_step HTTP/1.1\" 200 166 0.000841\n"
     ]
    },
    {
     "name": "stdout",
     "output_type": "stream",
     "text": [
      "<Response [200]>\n"
     ]
    },
    {
     "name": "stderr",
     "output_type": "stream",
     "text": [
      "(41821) accepted ('127.0.0.1', 59176)\n",
      "173.20.233.125,127.0.0.1 - - [22/Oct/2023 18:48:04] \"POST /add_step HTTP/1.1\" 200 166 0.000617\n"
     ]
    },
    {
     "name": "stdout",
     "output_type": "stream",
     "text": [
      "<Response [200]>\n"
     ]
    },
    {
     "name": "stderr",
     "output_type": "stream",
     "text": [
      "(41821) accepted ('127.0.0.1', 60346)\n",
      "173.20.233.125,127.0.0.1 - - [22/Oct/2023 18:48:05] \"POST /add_step HTTP/1.1\" 200 166 0.000886\n"
     ]
    },
    {
     "name": "stdout",
     "output_type": "stream",
     "text": [
      "<Response [200]>\n"
     ]
    },
    {
     "name": "stderr",
     "output_type": "stream",
     "text": [
      "(41821) accepted ('127.0.0.1', 61514)\n",
      "173.20.233.125,127.0.0.1 - - [22/Oct/2023 18:48:05] \"POST /add_step HTTP/1.1\" 200 166 0.000650\n"
     ]
    },
    {
     "name": "stdout",
     "output_type": "stream",
     "text": [
      "<Response [200]>\n"
     ]
    },
    {
     "name": "stderr",
     "output_type": "stream",
     "text": [
      "(41821) accepted ('127.0.0.1', 62716)\n",
      "173.20.233.125,127.0.0.1 - - [22/Oct/2023 18:48:06] \"POST /add_step HTTP/1.1\" 200 166 0.009536\n"
     ]
    },
    {
     "name": "stdout",
     "output_type": "stream",
     "text": [
      "<Response [200]>\n"
     ]
    },
    {
     "name": "stderr",
     "output_type": "stream",
     "text": [
      "(41821) accepted ('127.0.0.1', 63948)\n",
      "173.20.233.125,127.0.0.1 - - [22/Oct/2023 18:48:07] \"POST /add_step HTTP/1.1\" 200 166 0.000675\n"
     ]
    },
    {
     "name": "stdout",
     "output_type": "stream",
     "text": [
      "<Response [200]>\n"
     ]
    },
    {
     "name": "stderr",
     "output_type": "stream",
     "text": [
      "(41821) accepted ('127.0.0.1', 65162)\n",
      "173.20.233.125,127.0.0.1 - - [22/Oct/2023 18:48:07] \"POST /add_step HTTP/1.1\" 200 166 0.000543\n"
     ]
    },
    {
     "name": "stdout",
     "output_type": "stream",
     "text": [
      "<Response [200]>\n"
     ]
    },
    {
     "name": "stderr",
     "output_type": "stream",
     "text": [
      "(41821) accepted ('127.0.0.1', 49917)\n",
      "173.20.233.125,127.0.0.1 - - [22/Oct/2023 18:48:08] \"POST /add_step HTTP/1.1\" 200 166 0.000662\n"
     ]
    },
    {
     "name": "stdout",
     "output_type": "stream",
     "text": [
      "<Response [200]>\n"
     ]
    },
    {
     "name": "stderr",
     "output_type": "stream",
     "text": [
      "(41821) accepted ('127.0.0.1', 51116)\n",
      "173.20.233.125,127.0.0.1 - - [22/Oct/2023 18:48:09] \"POST /add_step HTTP/1.1\" 200 166 0.000619\n"
     ]
    },
    {
     "name": "stdout",
     "output_type": "stream",
     "text": [
      "<Response [200]>\n"
     ]
    },
    {
     "name": "stderr",
     "output_type": "stream",
     "text": [
      "(41821) accepted ('127.0.0.1', 52236)\n",
      "173.20.233.125,127.0.0.1 - - [22/Oct/2023 18:48:09] \"POST /add_step HTTP/1.1\" 200 166 0.000765\n"
     ]
    },
    {
     "name": "stdout",
     "output_type": "stream",
     "text": [
      "<Response [200]>\n"
     ]
    },
    {
     "name": "stderr",
     "output_type": "stream",
     "text": [
      "(41821) accepted ('127.0.0.1', 53409)\n",
      "173.20.233.125,127.0.0.1 - - [22/Oct/2023 18:48:10] \"POST /add_step HTTP/1.1\" 200 166 0.000632\n"
     ]
    },
    {
     "name": "stdout",
     "output_type": "stream",
     "text": [
      "<Response [200]>\n"
     ]
    },
    {
     "name": "stderr",
     "output_type": "stream",
     "text": [
      "(41821) accepted ('127.0.0.1', 54657)\n",
      "173.20.233.125,127.0.0.1 - - [22/Oct/2023 18:48:10] \"POST /add_step HTTP/1.1\" 200 166 0.000773\n"
     ]
    },
    {
     "name": "stdout",
     "output_type": "stream",
     "text": [
      "<Response [200]>\n"
     ]
    },
    {
     "name": "stderr",
     "output_type": "stream",
     "text": [
      "(41821) accepted ('127.0.0.1', 55932)\n",
      "173.20.233.125,127.0.0.1 - - [22/Oct/2023 18:48:11] \"POST /add_step HTTP/1.1\" 200 166 0.000803\n"
     ]
    },
    {
     "name": "stdout",
     "output_type": "stream",
     "text": [
      "<Response [200]>\n"
     ]
    },
    {
     "name": "stderr",
     "output_type": "stream",
     "text": [
      "(41821) accepted ('127.0.0.1', 57150)\n",
      "173.20.233.125,127.0.0.1 - - [22/Oct/2023 18:48:12] \"POST /add_step HTTP/1.1\" 200 166 0.000766\n"
     ]
    },
    {
     "name": "stdout",
     "output_type": "stream",
     "text": [
      "<Response [200]>\n"
     ]
    },
    {
     "name": "stderr",
     "output_type": "stream",
     "text": [
      "(41821) accepted ('127.0.0.1', 58449)\n",
      "173.20.233.125,127.0.0.1 - - [22/Oct/2023 18:48:13] \"POST /add_step HTTP/1.1\" 200 166 0.000435\n"
     ]
    },
    {
     "name": "stdout",
     "output_type": "stream",
     "text": [
      "<Response [200]>\n"
     ]
    },
    {
     "name": "stderr",
     "output_type": "stream",
     "text": [
      "(41821) accepted ('127.0.0.1', 59702)\n",
      "173.20.233.125,127.0.0.1 - - [22/Oct/2023 18:48:13] \"POST /add_step HTTP/1.1\" 200 166 0.000769\n"
     ]
    },
    {
     "name": "stdout",
     "output_type": "stream",
     "text": [
      "<Response [200]>\n"
     ]
    },
    {
     "name": "stderr",
     "output_type": "stream",
     "text": [
      "(41821) accepted ('127.0.0.1', 61041)\n",
      "173.20.233.125,127.0.0.1 - - [22/Oct/2023 18:48:14] \"POST /add_step HTTP/1.1\" 200 166 0.000976\n"
     ]
    },
    {
     "name": "stdout",
     "output_type": "stream",
     "text": [
      "<Response [200]>\n"
     ]
    },
    {
     "name": "stderr",
     "output_type": "stream",
     "text": [
      "(41821) accepted ('127.0.0.1', 62263)\n",
      "173.20.233.125,127.0.0.1 - - [22/Oct/2023 18:48:15] \"POST /add_step HTTP/1.1\" 200 166 0.000628\n"
     ]
    },
    {
     "name": "stdout",
     "output_type": "stream",
     "text": [
      "<Response [200]>\n"
     ]
    },
    {
     "name": "stderr",
     "output_type": "stream",
     "text": [
      "(41821) accepted ('127.0.0.1', 63467)\n",
      "173.20.233.125,127.0.0.1 - - [22/Oct/2023 18:48:15] \"POST /add_step HTTP/1.1\" 200 166 0.000642\n"
     ]
    },
    {
     "name": "stdout",
     "output_type": "stream",
     "text": [
      "<Response [200]>\n"
     ]
    },
    {
     "name": "stderr",
     "output_type": "stream",
     "text": [
      "(41821) accepted ('127.0.0.1', 64634)\n",
      "173.20.233.125,127.0.0.1 - - [22/Oct/2023 18:48:16] \"POST /add_step HTTP/1.1\" 200 166 0.000645\n"
     ]
    },
    {
     "name": "stdout",
     "output_type": "stream",
     "text": [
      "<Response [200]>\n"
     ]
    },
    {
     "name": "stderr",
     "output_type": "stream",
     "text": [
      "(41821) accepted ('127.0.0.1', 49424)\n",
      "173.20.233.125,127.0.0.1 - - [22/Oct/2023 18:48:17] \"POST /add_step HTTP/1.1\" 200 166 0.000704\n"
     ]
    },
    {
     "name": "stdout",
     "output_type": "stream",
     "text": [
      "<Response [200]>\n"
     ]
    },
    {
     "name": "stderr",
     "output_type": "stream",
     "text": [
      "(41821) accepted ('127.0.0.1', 50618)\n",
      "173.20.233.125,127.0.0.1 - - [22/Oct/2023 18:48:17] \"POST /add_step HTTP/1.1\" 200 166 0.000903\n"
     ]
    },
    {
     "name": "stdout",
     "output_type": "stream",
     "text": [
      "<Response [200]>\n"
     ]
    },
    {
     "name": "stderr",
     "output_type": "stream",
     "text": [
      "(41821) accepted ('127.0.0.1', 51841)\n",
      "173.20.233.125,127.0.0.1 - - [22/Oct/2023 18:48:18] \"POST /add_step HTTP/1.1\" 200 166 0.000663\n"
     ]
    },
    {
     "name": "stdout",
     "output_type": "stream",
     "text": [
      "<Response [200]>\n"
     ]
    },
    {
     "name": "stderr",
     "output_type": "stream",
     "text": [
      "(41821) accepted ('127.0.0.1', 53051)\n",
      "173.20.233.125,127.0.0.1 - - [22/Oct/2023 18:48:19] \"POST /add_step HTTP/1.1\" 200 166 0.000643\n"
     ]
    },
    {
     "name": "stdout",
     "output_type": "stream",
     "text": [
      "<Response [200]>\n"
     ]
    },
    {
     "name": "stderr",
     "output_type": "stream",
     "text": [
      "(41821) accepted ('127.0.0.1', 54306)\n",
      "173.20.233.125,127.0.0.1 - - [22/Oct/2023 18:48:19] \"POST /add_step HTTP/1.1\" 200 166 0.000699\n"
     ]
    },
    {
     "name": "stdout",
     "output_type": "stream",
     "text": [
      "<Response [200]>\n"
     ]
    },
    {
     "name": "stderr",
     "output_type": "stream",
     "text": [
      "(41821) accepted ('127.0.0.1', 55488)\n",
      "173.20.233.125,127.0.0.1 - - [22/Oct/2023 18:48:20] \"POST /add_step HTTP/1.1\" 200 166 0.000476\n"
     ]
    },
    {
     "name": "stdout",
     "output_type": "stream",
     "text": [
      "<Response [200]>\n"
     ]
    },
    {
     "name": "stderr",
     "output_type": "stream",
     "text": [
      "(41821) accepted ('127.0.0.1', 56669)\n",
      "173.20.233.125,127.0.0.1 - - [22/Oct/2023 18:48:20] \"POST /add_step HTTP/1.1\" 200 166 0.001030\n"
     ]
    },
    {
     "name": "stdout",
     "output_type": "stream",
     "text": [
      "<Response [200]>\n"
     ]
    },
    {
     "name": "stderr",
     "output_type": "stream",
     "text": [
      "(41821) accepted ('127.0.0.1', 57918)\n",
      "173.20.233.125,127.0.0.1 - - [22/Oct/2023 18:48:21] \"POST /add_step HTTP/1.1\" 200 166 0.000635\n"
     ]
    },
    {
     "name": "stdout",
     "output_type": "stream",
     "text": [
      "<Response [200]>\n"
     ]
    },
    {
     "name": "stderr",
     "output_type": "stream",
     "text": [
      "(41821) accepted ('127.0.0.1', 59172)\n",
      "173.20.233.125,127.0.0.1 - - [22/Oct/2023 18:48:22] \"POST /add_step HTTP/1.1\" 200 166 0.000756\n"
     ]
    },
    {
     "name": "stdout",
     "output_type": "stream",
     "text": [
      "<Response [200]>\n"
     ]
    },
    {
     "name": "stderr",
     "output_type": "stream",
     "text": [
      "(41821) accepted ('127.0.0.1', 60357)\n",
      "173.20.233.125,127.0.0.1 - - [22/Oct/2023 18:48:22] \"POST /add_step HTTP/1.1\" 200 166 0.000916\n"
     ]
    },
    {
     "name": "stdout",
     "output_type": "stream",
     "text": [
      "<Response [200]>\n"
     ]
    },
    {
     "name": "stderr",
     "output_type": "stream",
     "text": [
      "(41821) accepted ('127.0.0.1', 61594)\n",
      "173.20.233.125,127.0.0.1 - - [22/Oct/2023 18:48:23] \"POST /add_step HTTP/1.1\" 200 166 0.000643\n"
     ]
    },
    {
     "name": "stdout",
     "output_type": "stream",
     "text": [
      "<Response [200]>\n"
     ]
    },
    {
     "name": "stderr",
     "output_type": "stream",
     "text": [
      "(41821) accepted ('127.0.0.1', 62909)\n",
      "173.20.233.125,127.0.0.1 - - [22/Oct/2023 18:48:24] \"POST /add_step HTTP/1.1\" 200 166 0.000634\n"
     ]
    },
    {
     "name": "stdout",
     "output_type": "stream",
     "text": [
      "<Response [200]>\n"
     ]
    },
    {
     "name": "stderr",
     "output_type": "stream",
     "text": [
      "(41821) accepted ('127.0.0.1', 64238)\n",
      "173.20.233.125,127.0.0.1 - - [22/Oct/2023 18:48:25] \"POST /add_step HTTP/1.1\" 200 166 0.000675\n"
     ]
    },
    {
     "name": "stdout",
     "output_type": "stream",
     "text": [
      "<Response [200]>\n"
     ]
    },
    {
     "name": "stderr",
     "output_type": "stream",
     "text": [
      "(41821) accepted ('127.0.0.1', 49549)\n",
      "173.20.233.125,127.0.0.1 - - [22/Oct/2023 18:48:26] \"POST /add_step HTTP/1.1\" 200 166 0.000754\n"
     ]
    },
    {
     "name": "stdout",
     "output_type": "stream",
     "text": [
      "<Response [200]>\n"
     ]
    },
    {
     "name": "stderr",
     "output_type": "stream",
     "text": [
      "(41821) accepted ('127.0.0.1', 50994)\n",
      "173.20.233.125,127.0.0.1 - - [22/Oct/2023 18:48:26] \"POST /add_step HTTP/1.1\" 200 166 0.000548\n"
     ]
    },
    {
     "name": "stdout",
     "output_type": "stream",
     "text": [
      "<Response [200]>\n"
     ]
    },
    {
     "name": "stderr",
     "output_type": "stream",
     "text": [
      "(41821) accepted ('127.0.0.1', 52427)\n",
      "173.20.233.125,127.0.0.1 - - [22/Oct/2023 18:48:27] \"POST /add_step HTTP/1.1\" 200 166 0.000530\n"
     ]
    },
    {
     "name": "stdout",
     "output_type": "stream",
     "text": [
      "<Response [200]>\n"
     ]
    },
    {
     "name": "stderr",
     "output_type": "stream",
     "text": [
      "(41821) accepted ('127.0.0.1', 53658)\n",
      "173.20.233.125,127.0.0.1 - - [22/Oct/2023 18:48:28] \"POST /add_step HTTP/1.1\" 200 166 0.000544\n"
     ]
    },
    {
     "name": "stdout",
     "output_type": "stream",
     "text": [
      "<Response [200]>\n"
     ]
    },
    {
     "name": "stderr",
     "output_type": "stream",
     "text": [
      "(41821) accepted ('127.0.0.1', 54890)\n",
      "173.20.233.125,127.0.0.1 - - [22/Oct/2023 18:48:28] \"POST /add_step HTTP/1.1\" 200 166 0.000661\n"
     ]
    },
    {
     "name": "stdout",
     "output_type": "stream",
     "text": [
      "<Response [200]>\n"
     ]
    },
    {
     "name": "stderr",
     "output_type": "stream",
     "text": [
      "(41821) accepted ('127.0.0.1', 56085)\n",
      "173.20.233.125,127.0.0.1 - - [22/Oct/2023 18:48:29] \"POST /add_step HTTP/1.1\" 200 166 0.000672\n"
     ]
    },
    {
     "name": "stdout",
     "output_type": "stream",
     "text": [
      "<Response [200]>\n"
     ]
    },
    {
     "name": "stderr",
     "output_type": "stream",
     "text": [
      "(41821) accepted ('127.0.0.1', 57309)\n",
      "173.20.233.125,127.0.0.1 - - [22/Oct/2023 18:48:30] \"POST /add_step HTTP/1.1\" 200 166 0.000784\n"
     ]
    },
    {
     "name": "stdout",
     "output_type": "stream",
     "text": [
      "<Response [200]>\n"
     ]
    },
    {
     "name": "stderr",
     "output_type": "stream",
     "text": [
      "(41821) accepted ('127.0.0.1', 58553)\n",
      "173.20.233.125,127.0.0.1 - - [22/Oct/2023 18:48:30] \"POST /add_step HTTP/1.1\" 200 166 0.000579\n"
     ]
    },
    {
     "name": "stdout",
     "output_type": "stream",
     "text": [
      "<Response [200]>\n"
     ]
    },
    {
     "name": "stderr",
     "output_type": "stream",
     "text": [
      "(41821) accepted ('127.0.0.1', 59837)\n",
      "173.20.233.125,127.0.0.1 - - [22/Oct/2023 18:48:31] \"POST /add_step HTTP/1.1\" 200 166 0.000560\n"
     ]
    },
    {
     "name": "stdout",
     "output_type": "stream",
     "text": [
      "<Response [200]>\n"
     ]
    },
    {
     "name": "stderr",
     "output_type": "stream",
     "text": [
      "(41821) accepted ('127.0.0.1', 61458)\n",
      "173.20.233.125,127.0.0.1 - - [22/Oct/2023 18:48:32] \"POST /add_step HTTP/1.1\" 200 166 0.000939\n"
     ]
    },
    {
     "name": "stdout",
     "output_type": "stream",
     "text": [
      "<Response [200]>\n"
     ]
    },
    {
     "name": "stderr",
     "output_type": "stream",
     "text": [
      "(41821) accepted ('127.0.0.1', 63818)\n",
      "173.20.233.125,127.0.0.1 - - [22/Oct/2023 18:48:33] \"POST /add_step HTTP/1.1\" 200 166 0.000506\n"
     ]
    },
    {
     "name": "stdout",
     "output_type": "stream",
     "text": [
      "<Response [200]>\n"
     ]
    },
    {
     "name": "stderr",
     "output_type": "stream",
     "text": [
      "(41821) accepted ('127.0.0.1', 65158)\n",
      "173.20.233.125,127.0.0.1 - - [22/Oct/2023 18:48:34] \"POST /add_step HTTP/1.1\" 200 166 0.000939\n"
     ]
    },
    {
     "name": "stdout",
     "output_type": "stream",
     "text": [
      "<Response [200]>\n"
     ]
    },
    {
     "name": "stderr",
     "output_type": "stream",
     "text": [
      "(41821) accepted ('127.0.0.1', 50045)\n",
      "173.20.233.125,127.0.0.1 - - [22/Oct/2023 18:48:35] \"POST /add_step HTTP/1.1\" 200 166 0.000659\n"
     ]
    },
    {
     "name": "stdout",
     "output_type": "stream",
     "text": [
      "<Response [200]>\n"
     ]
    },
    {
     "name": "stderr",
     "output_type": "stream",
     "text": [
      "(41821) accepted ('127.0.0.1', 51278)\n",
      "173.20.233.125,127.0.0.1 - - [22/Oct/2023 18:48:35] \"POST /add_step HTTP/1.1\" 200 166 0.000637\n"
     ]
    },
    {
     "name": "stdout",
     "output_type": "stream",
     "text": [
      "<Response [200]>\n"
     ]
    },
    {
     "name": "stderr",
     "output_type": "stream",
     "text": [
      "(41821) accepted ('127.0.0.1', 52519)\n",
      "173.20.233.125,127.0.0.1 - - [22/Oct/2023 18:48:36] \"POST /add_step HTTP/1.1\" 200 166 0.000710\n"
     ]
    },
    {
     "name": "stdout",
     "output_type": "stream",
     "text": [
      "<Response [200]>\n"
     ]
    },
    {
     "name": "stderr",
     "output_type": "stream",
     "text": [
      "(41821) accepted ('127.0.0.1', 53892)\n",
      "173.20.233.125,127.0.0.1 - - [22/Oct/2023 18:48:37] \"POST /add_step HTTP/1.1\" 200 166 0.000729\n"
     ]
    },
    {
     "name": "stdout",
     "output_type": "stream",
     "text": [
      "<Response [200]>\n"
     ]
    },
    {
     "name": "stderr",
     "output_type": "stream",
     "text": [
      "(41821) accepted ('127.0.0.1', 55217)\n",
      "173.20.233.125,127.0.0.1 - - [22/Oct/2023 18:48:37] \"POST /add_step HTTP/1.1\" 200 166 0.001241\n"
     ]
    },
    {
     "name": "stdout",
     "output_type": "stream",
     "text": [
      "<Response [200]>\n"
     ]
    },
    {
     "name": "stderr",
     "output_type": "stream",
     "text": [
      "(41821) accepted ('127.0.0.1', 56528)\n",
      "173.20.233.125,127.0.0.1 - - [22/Oct/2023 18:48:38] \"POST /add_step HTTP/1.1\" 200 166 0.000981\n"
     ]
    },
    {
     "name": "stdout",
     "output_type": "stream",
     "text": [
      "<Response [200]>\n"
     ]
    },
    {
     "name": "stderr",
     "output_type": "stream",
     "text": [
      "(41821) accepted ('127.0.0.1', 57767)\n",
      "173.20.233.125,127.0.0.1 - - [22/Oct/2023 18:48:39] \"POST /add_step HTTP/1.1\" 200 166 0.001438\n"
     ]
    },
    {
     "name": "stdout",
     "output_type": "stream",
     "text": [
      "<Response [200]>\n"
     ]
    },
    {
     "name": "stderr",
     "output_type": "stream",
     "text": [
      "(41821) accepted ('127.0.0.1', 59011)\n",
      "173.20.233.125,127.0.0.1 - - [22/Oct/2023 18:48:40] \"POST /add_step HTTP/1.1\" 200 166 0.000648\n"
     ]
    },
    {
     "name": "stdout",
     "output_type": "stream",
     "text": [
      "<Response [200]>\n"
     ]
    },
    {
     "name": "stderr",
     "output_type": "stream",
     "text": [
      "(41821) accepted ('127.0.0.1', 60344)\n",
      "173.20.233.125,127.0.0.1 - - [22/Oct/2023 18:48:40] \"POST /add_step HTTP/1.1\" 200 166 0.000674\n"
     ]
    },
    {
     "name": "stdout",
     "output_type": "stream",
     "text": [
      "<Response [200]>\n"
     ]
    },
    {
     "name": "stderr",
     "output_type": "stream",
     "text": [
      "(41821) accepted ('127.0.0.1', 61651)\n",
      "173.20.233.125,127.0.0.1 - - [22/Oct/2023 18:48:41] \"POST /add_step HTTP/1.1\" 200 166 0.000667\n"
     ]
    },
    {
     "name": "stdout",
     "output_type": "stream",
     "text": [
      "<Response [200]>\n"
     ]
    },
    {
     "name": "stderr",
     "output_type": "stream",
     "text": [
      "(41821) accepted ('127.0.0.1', 62925)\n",
      "173.20.233.125,127.0.0.1 - - [22/Oct/2023 18:48:42] \"POST /add_step HTTP/1.1\" 200 166 0.000709\n"
     ]
    },
    {
     "name": "stdout",
     "output_type": "stream",
     "text": [
      "<Response [200]>\n"
     ]
    },
    {
     "name": "stderr",
     "output_type": "stream",
     "text": [
      "(41821) accepted ('127.0.0.1', 64126)\n",
      "173.20.233.125,127.0.0.1 - - [22/Oct/2023 18:48:42] \"POST /add_step HTTP/1.1\" 200 166 0.000626\n"
     ]
    },
    {
     "name": "stdout",
     "output_type": "stream",
     "text": [
      "<Response [200]>\n"
     ]
    },
    {
     "name": "stderr",
     "output_type": "stream",
     "text": [
      "(41821) accepted ('127.0.0.1', 65307)\n",
      "173.20.233.125,127.0.0.1 - - [22/Oct/2023 18:48:43] \"POST /add_step HTTP/1.1\" 200 166 0.000926\n"
     ]
    },
    {
     "name": "stdout",
     "output_type": "stream",
     "text": [
      "<Response [200]>\n"
     ]
    },
    {
     "name": "stderr",
     "output_type": "stream",
     "text": [
      "(41821) accepted ('127.0.0.1', 50141)\n",
      "173.20.233.125,127.0.0.1 - - [22/Oct/2023 18:48:44] \"POST /add_step HTTP/1.1\" 200 166 0.000628\n"
     ]
    },
    {
     "name": "stdout",
     "output_type": "stream",
     "text": [
      "<Response [200]>\n"
     ]
    },
    {
     "name": "stderr",
     "output_type": "stream",
     "text": [
      "(41821) accepted ('127.0.0.1', 51343)\n",
      "173.20.233.125,127.0.0.1 - - [22/Oct/2023 18:48:44] \"POST /add_step HTTP/1.1\" 200 166 0.000686\n"
     ]
    },
    {
     "name": "stdout",
     "output_type": "stream",
     "text": [
      "<Response [200]>\n"
     ]
    },
    {
     "name": "stderr",
     "output_type": "stream",
     "text": [
      "(41821) accepted ('127.0.0.1', 52543)\n",
      "173.20.233.125,127.0.0.1 - - [22/Oct/2023 18:48:45] \"POST /add_step HTTP/1.1\" 200 166 0.000655\n"
     ]
    },
    {
     "name": "stdout",
     "output_type": "stream",
     "text": [
      "<Response [200]>\n"
     ]
    },
    {
     "name": "stderr",
     "output_type": "stream",
     "text": [
      "(41821) accepted ('127.0.0.1', 53753)\n",
      "173.20.233.125,127.0.0.1 - - [22/Oct/2023 18:48:46] \"POST /add_step HTTP/1.1\" 200 166 0.000878\n"
     ]
    },
    {
     "name": "stdout",
     "output_type": "stream",
     "text": [
      "<Response [200]>\n"
     ]
    },
    {
     "name": "stderr",
     "output_type": "stream",
     "text": [
      "(41821) accepted ('127.0.0.1', 55008)\n",
      "173.20.233.125,127.0.0.1 - - [22/Oct/2023 18:48:46] \"POST /add_step HTTP/1.1\" 200 166 0.000748\n"
     ]
    },
    {
     "name": "stdout",
     "output_type": "stream",
     "text": [
      "<Response [200]>\n"
     ]
    },
    {
     "name": "stderr",
     "output_type": "stream",
     "text": [
      "(41821) accepted ('127.0.0.1', 56272)\n",
      "173.20.233.125,127.0.0.1 - - [22/Oct/2023 18:48:47] \"POST /add_step HTTP/1.1\" 200 166 0.000896\n"
     ]
    },
    {
     "name": "stdout",
     "output_type": "stream",
     "text": [
      "<Response [200]>\n"
     ]
    },
    {
     "name": "stderr",
     "output_type": "stream",
     "text": [
      "(41821) accepted ('127.0.0.1', 57499)\n",
      "173.20.233.125,127.0.0.1 - - [22/Oct/2023 18:48:48] \"POST /add_step HTTP/1.1\" 200 166 0.000809\n"
     ]
    },
    {
     "name": "stdout",
     "output_type": "stream",
     "text": [
      "<Response [200]>\n"
     ]
    },
    {
     "name": "stderr",
     "output_type": "stream",
     "text": [
      "(41821) accepted ('127.0.0.1', 58740)\n",
      "173.20.233.125,127.0.0.1 - - [22/Oct/2023 18:48:48] \"POST /add_step HTTP/1.1\" 200 166 0.000907\n"
     ]
    },
    {
     "name": "stdout",
     "output_type": "stream",
     "text": [
      "<Response [200]>\n"
     ]
    },
    {
     "name": "stderr",
     "output_type": "stream",
     "text": [
      "(41821) accepted ('127.0.0.1', 60044)\n",
      "173.20.233.125,127.0.0.1 - - [22/Oct/2023 18:48:49] \"POST /add_step HTTP/1.1\" 200 166 0.000647\n"
     ]
    },
    {
     "name": "stdout",
     "output_type": "stream",
     "text": [
      "<Response [200]>\n"
     ]
    },
    {
     "name": "stderr",
     "output_type": "stream",
     "text": [
      "(41821) accepted ('127.0.0.1', 61604)\n",
      "173.20.233.125,127.0.0.1 - - [22/Oct/2023 18:48:50] \"POST /add_step HTTP/1.1\" 200 166 0.000633\n"
     ]
    },
    {
     "name": "stdout",
     "output_type": "stream",
     "text": [
      "<Response [200]>\n"
     ]
    },
    {
     "name": "stderr",
     "output_type": "stream",
     "text": [
      "(41821) accepted ('127.0.0.1', 63071)\n",
      "173.20.233.125,127.0.0.1 - - [22/Oct/2023 18:48:51] \"POST /add_step HTTP/1.1\" 200 166 0.001271\n"
     ]
    },
    {
     "name": "stdout",
     "output_type": "stream",
     "text": [
      "<Response [200]>\n"
     ]
    },
    {
     "name": "stderr",
     "output_type": "stream",
     "text": [
      "(41821) accepted ('127.0.0.1', 64232)\n",
      "173.20.233.125,127.0.0.1 - - [22/Oct/2023 18:48:51] \"POST /add_step HTTP/1.1\" 200 166 0.001466\n"
     ]
    },
    {
     "name": "stdout",
     "output_type": "stream",
     "text": [
      "<Response [200]>\n"
     ]
    },
    {
     "name": "stderr",
     "output_type": "stream",
     "text": [
      "(41821) accepted ('127.0.0.1', 65479)\n",
      "173.20.233.125,127.0.0.1 - - [22/Oct/2023 18:48:52] \"POST /add_step HTTP/1.1\" 200 166 0.000632\n"
     ]
    },
    {
     "name": "stdout",
     "output_type": "stream",
     "text": [
      "<Response [200]>\n"
     ]
    },
    {
     "name": "stderr",
     "output_type": "stream",
     "text": [
      "(41821) accepted ('127.0.0.1', 50311)\n",
      "173.20.233.125,127.0.0.1 - - [22/Oct/2023 18:48:53] \"POST /add_step HTTP/1.1\" 200 166 0.000894\n"
     ]
    },
    {
     "name": "stdout",
     "output_type": "stream",
     "text": [
      "<Response [200]>\n"
     ]
    },
    {
     "name": "stderr",
     "output_type": "stream",
     "text": [
      "(41821) accepted ('127.0.0.1', 51496)\n",
      "173.20.233.125,127.0.0.1 - - [22/Oct/2023 18:48:53] \"POST /add_step HTTP/1.1\" 200 166 0.000748\n"
     ]
    },
    {
     "name": "stdout",
     "output_type": "stream",
     "text": [
      "<Response [200]>\n"
     ]
    },
    {
     "name": "stderr",
     "output_type": "stream",
     "text": [
      "(41821) accepted ('127.0.0.1', 52699)\n",
      "173.20.233.125,127.0.0.1 - - [22/Oct/2023 18:48:54] \"POST /add_step HTTP/1.1\" 200 166 0.000862\n"
     ]
    },
    {
     "name": "stdout",
     "output_type": "stream",
     "text": [
      "<Response [200]>\n"
     ]
    },
    {
     "name": "stderr",
     "output_type": "stream",
     "text": [
      "(41821) accepted ('127.0.0.1', 53996)\n",
      "173.20.233.125,127.0.0.1 - - [22/Oct/2023 18:48:55] \"POST /add_step HTTP/1.1\" 200 166 0.000698\n"
     ]
    },
    {
     "name": "stdout",
     "output_type": "stream",
     "text": [
      "<Response [200]>\n"
     ]
    },
    {
     "name": "stderr",
     "output_type": "stream",
     "text": [
      "(41821) accepted ('127.0.0.1', 55230)\n",
      "173.20.233.125,127.0.0.1 - - [22/Oct/2023 18:48:55] \"POST /add_step HTTP/1.1\" 200 166 0.000906\n"
     ]
    },
    {
     "name": "stdout",
     "output_type": "stream",
     "text": [
      "<Response [200]>\n"
     ]
    },
    {
     "name": "stderr",
     "output_type": "stream",
     "text": [
      "(41821) accepted ('127.0.0.1', 56562)\n",
      "173.20.233.125,127.0.0.1 - - [22/Oct/2023 18:48:56] \"POST /add_step HTTP/1.1\" 200 166 0.000694\n"
     ]
    },
    {
     "name": "stdout",
     "output_type": "stream",
     "text": [
      "<Response [200]>\n"
     ]
    },
    {
     "name": "stderr",
     "output_type": "stream",
     "text": [
      "(41821) accepted ('127.0.0.1', 57934)\n",
      "173.20.233.125,127.0.0.1 - - [22/Oct/2023 18:48:57] \"POST /add_step HTTP/1.1\" 200 166 0.000745\n"
     ]
    },
    {
     "name": "stdout",
     "output_type": "stream",
     "text": [
      "<Response [200]>\n"
     ]
    },
    {
     "name": "stderr",
     "output_type": "stream",
     "text": [
      "(41821) accepted ('127.0.0.1', 59112)\n",
      "173.20.233.125,127.0.0.1 - - [22/Oct/2023 18:48:57] \"POST /add_step HTTP/1.1\" 200 166 0.000622\n"
     ]
    },
    {
     "name": "stdout",
     "output_type": "stream",
     "text": [
      "<Response [200]>\n"
     ]
    },
    {
     "name": "stderr",
     "output_type": "stream",
     "text": [
      "(41821) accepted ('127.0.0.1', 60249)\n",
      "173.20.233.125,127.0.0.1 - - [22/Oct/2023 18:48:58] \"POST /add_step HTTP/1.1\" 200 166 0.000640\n"
     ]
    },
    {
     "name": "stdout",
     "output_type": "stream",
     "text": [
      "<Response [200]>\n"
     ]
    },
    {
     "name": "stderr",
     "output_type": "stream",
     "text": [
      "(41821) accepted ('127.0.0.1', 61425)\n",
      "173.20.233.125,127.0.0.1 - - [22/Oct/2023 18:48:59] \"POST /add_step HTTP/1.1\" 200 166 0.000712\n"
     ]
    },
    {
     "name": "stdout",
     "output_type": "stream",
     "text": [
      "<Response [200]>\n"
     ]
    },
    {
     "name": "stderr",
     "output_type": "stream",
     "text": [
      "(41821) accepted ('127.0.0.1', 62651)\n",
      "173.20.233.125,127.0.0.1 - - [22/Oct/2023 18:48:59] \"POST /add_step HTTP/1.1\" 200 166 0.001189\n"
     ]
    },
    {
     "name": "stdout",
     "output_type": "stream",
     "text": [
      "<Response [200]>\n"
     ]
    },
    {
     "name": "stderr",
     "output_type": "stream",
     "text": [
      "(41821) accepted ('127.0.0.1', 63872)\n",
      "173.20.233.125,127.0.0.1 - - [22/Oct/2023 18:49:00] \"POST /add_step HTTP/1.1\" 200 166 0.001103\n"
     ]
    },
    {
     "name": "stdout",
     "output_type": "stream",
     "text": [
      "<Response [200]>\n"
     ]
    },
    {
     "name": "stderr",
     "output_type": "stream",
     "text": [
      "(41821) accepted ('127.0.0.1', 65092)\n",
      "173.20.233.125,127.0.0.1 - - [22/Oct/2023 18:49:01] \"POST /add_step HTTP/1.1\" 200 166 0.000809\n"
     ]
    },
    {
     "name": "stdout",
     "output_type": "stream",
     "text": [
      "<Response [200]>\n"
     ]
    },
    {
     "name": "stderr",
     "output_type": "stream",
     "text": [
      "(41821) accepted ('127.0.0.1', 49978)\n",
      "173.20.233.125,127.0.0.1 - - [22/Oct/2023 18:49:01] \"POST /add_step HTTP/1.1\" 200 166 0.000662\n"
     ]
    },
    {
     "name": "stdout",
     "output_type": "stream",
     "text": [
      "<Response [200]>\n"
     ]
    },
    {
     "name": "stderr",
     "output_type": "stream",
     "text": [
      "(41821) accepted ('127.0.0.1', 51247)\n",
      "173.20.233.125,127.0.0.1 - - [22/Oct/2023 18:49:02] \"POST /add_step HTTP/1.1\" 200 166 0.000782\n"
     ]
    },
    {
     "name": "stdout",
     "output_type": "stream",
     "text": [
      "<Response [200]>\n"
     ]
    },
    {
     "name": "stderr",
     "output_type": "stream",
     "text": [
      "(41821) accepted ('127.0.0.1', 52409)\n",
      "173.20.233.125,127.0.0.1 - - [22/Oct/2023 18:49:03] \"POST /add_step HTTP/1.1\" 200 166 0.000638\n"
     ]
    },
    {
     "name": "stdout",
     "output_type": "stream",
     "text": [
      "<Response [200]>\n"
     ]
    },
    {
     "name": "stderr",
     "output_type": "stream",
     "text": [
      "(41821) accepted ('127.0.0.1', 54198)\n",
      "173.20.233.125,127.0.0.1 - - [22/Oct/2023 18:49:04] \"POST /add_step HTTP/1.1\" 200 166 0.000493\n"
     ]
    },
    {
     "name": "stdout",
     "output_type": "stream",
     "text": [
      "<Response [200]>\n"
     ]
    },
    {
     "name": "stderr",
     "output_type": "stream",
     "text": [
      "(41821) accepted ('127.0.0.1', 55513)\n",
      "173.20.233.125,127.0.0.1 - - [22/Oct/2023 18:49:04] \"POST /add_step HTTP/1.1\" 200 166 0.000670\n"
     ]
    },
    {
     "name": "stdout",
     "output_type": "stream",
     "text": [
      "<Response [200]>\n"
     ]
    },
    {
     "name": "stderr",
     "output_type": "stream",
     "text": [
      "(41821) accepted ('127.0.0.1', 56859)\n",
      "173.20.233.125,127.0.0.1 - - [22/Oct/2023 18:49:05] \"POST /add_step HTTP/1.1\" 200 166 0.000652\n"
     ]
    },
    {
     "name": "stdout",
     "output_type": "stream",
     "text": [
      "<Response [200]>\n"
     ]
    },
    {
     "name": "stderr",
     "output_type": "stream",
     "text": [
      "(41821) accepted ('127.0.0.1', 58088)\n",
      "173.20.233.125,127.0.0.1 - - [22/Oct/2023 18:49:06] \"POST /add_step HTTP/1.1\" 200 166 0.000690\n"
     ]
    },
    {
     "name": "stdout",
     "output_type": "stream",
     "text": [
      "<Response [200]>\n"
     ]
    },
    {
     "name": "stderr",
     "output_type": "stream",
     "text": [
      "(41821) accepted ('127.0.0.1', 59322)\n",
      "173.20.233.125,127.0.0.1 - - [22/Oct/2023 18:49:06] \"POST /add_step HTTP/1.1\" 200 166 0.001838\n"
     ]
    },
    {
     "name": "stdout",
     "output_type": "stream",
     "text": [
      "<Response [200]>\n"
     ]
    },
    {
     "name": "stderr",
     "output_type": "stream",
     "text": [
      "(41821) accepted ('127.0.0.1', 60756)\n",
      "173.20.233.125,127.0.0.1 - - [22/Oct/2023 18:49:07] \"POST /add_step HTTP/1.1\" 200 166 0.000671\n"
     ]
    },
    {
     "name": "stdout",
     "output_type": "stream",
     "text": [
      "<Response [200]>\n"
     ]
    },
    {
     "name": "stderr",
     "output_type": "stream",
     "text": [
      "(41821) accepted ('127.0.0.1', 61956)\n",
      "173.20.233.125,127.0.0.1 - - [22/Oct/2023 18:49:08] \"POST /add_step HTTP/1.1\" 200 166 0.000780\n"
     ]
    },
    {
     "name": "stdout",
     "output_type": "stream",
     "text": [
      "<Response [200]>\n"
     ]
    },
    {
     "name": "stderr",
     "output_type": "stream",
     "text": [
      "(41821) accepted ('127.0.0.1', 63199)\n",
      "173.20.233.125,127.0.0.1 - - [22/Oct/2023 18:49:09] \"POST /add_step HTTP/1.1\" 200 166 0.000728\n"
     ]
    },
    {
     "name": "stdout",
     "output_type": "stream",
     "text": [
      "<Response [200]>\n"
     ]
    },
    {
     "name": "stderr",
     "output_type": "stream",
     "text": [
      "(41821) accepted ('127.0.0.1', 64356)\n",
      "173.20.233.125,127.0.0.1 - - [22/Oct/2023 18:49:09] \"POST /add_step HTTP/1.1\" 200 166 0.000847\n"
     ]
    },
    {
     "name": "stdout",
     "output_type": "stream",
     "text": [
      "<Response [200]>\n"
     ]
    },
    {
     "name": "stderr",
     "output_type": "stream",
     "text": [
      "(41821) accepted ('127.0.0.1', 49170)\n",
      "173.20.233.125,127.0.0.1 - - [22/Oct/2023 18:49:10] \"POST /add_step HTTP/1.1\" 200 166 0.000711\n"
     ]
    },
    {
     "name": "stdout",
     "output_type": "stream",
     "text": [
      "<Response [200]>\n"
     ]
    },
    {
     "name": "stderr",
     "output_type": "stream",
     "text": [
      "(41821) accepted ('127.0.0.1', 50391)\n",
      "173.20.233.125,127.0.0.1 - - [22/Oct/2023 18:49:10] \"POST /add_step HTTP/1.1\" 200 166 0.000813\n"
     ]
    },
    {
     "name": "stdout",
     "output_type": "stream",
     "text": [
      "<Response [200]>\n"
     ]
    },
    {
     "name": "stderr",
     "output_type": "stream",
     "text": [
      "(41821) accepted ('127.0.0.1', 51611)\n",
      "173.20.233.125,127.0.0.1 - - [22/Oct/2023 18:49:11] \"POST /add_step HTTP/1.1\" 200 166 0.002169\n"
     ]
    },
    {
     "name": "stdout",
     "output_type": "stream",
     "text": [
      "<Response [200]>\n"
     ]
    },
    {
     "name": "stderr",
     "output_type": "stream",
     "text": [
      "(41821) accepted ('127.0.0.1', 53323)\n",
      "173.20.233.125,127.0.0.1 - - [22/Oct/2023 18:49:12] \"POST /add_step HTTP/1.1\" 200 166 0.000565\n"
     ]
    },
    {
     "name": "stdout",
     "output_type": "stream",
     "text": [
      "<Response [200]>\n"
     ]
    },
    {
     "name": "stderr",
     "output_type": "stream",
     "text": [
      "(41821) accepted ('127.0.0.1', 54578)\n",
      "173.20.233.125,127.0.0.1 - - [22/Oct/2023 18:49:13] \"POST /add_step HTTP/1.1\" 200 166 0.000752\n"
     ]
    },
    {
     "name": "stdout",
     "output_type": "stream",
     "text": [
      "<Response [200]>\n"
     ]
    },
    {
     "name": "stderr",
     "output_type": "stream",
     "text": [
      "(41821) accepted ('127.0.0.1', 55795)\n",
      "173.20.233.125,127.0.0.1 - - [22/Oct/2023 18:49:13] \"POST /add_step HTTP/1.1\" 200 166 0.000969\n"
     ]
    },
    {
     "name": "stdout",
     "output_type": "stream",
     "text": [
      "<Response [200]>\n"
     ]
    },
    {
     "name": "stderr",
     "output_type": "stream",
     "text": [
      "(41821) accepted ('127.0.0.1', 57027)\n",
      "173.20.233.125,127.0.0.1 - - [22/Oct/2023 18:49:14] \"POST /add_step HTTP/1.1\" 200 166 0.000761\n"
     ]
    },
    {
     "name": "stdout",
     "output_type": "stream",
     "text": [
      "<Response [200]>\n"
     ]
    },
    {
     "name": "stderr",
     "output_type": "stream",
     "text": [
      "(41821) accepted ('127.0.0.1', 58194)\n",
      "173.20.233.125,127.0.0.1 - - [22/Oct/2023 18:49:15] \"POST /add_step HTTP/1.1\" 200 166 0.000787\n"
     ]
    },
    {
     "name": "stdout",
     "output_type": "stream",
     "text": [
      "<Response [200]>\n"
     ]
    },
    {
     "name": "stderr",
     "output_type": "stream",
     "text": [
      "(41821) accepted ('127.0.0.1', 59655)\n",
      "173.20.233.125,127.0.0.1 - - [22/Oct/2023 18:49:15] \"POST /add_step HTTP/1.1\" 200 166 0.000514\n"
     ]
    },
    {
     "name": "stdout",
     "output_type": "stream",
     "text": [
      "<Response [200]>\n"
     ]
    },
    {
     "name": "stderr",
     "output_type": "stream",
     "text": [
      "(41821) accepted ('127.0.0.1', 60963)\n",
      "173.20.233.125,127.0.0.1 - - [22/Oct/2023 18:49:16] \"POST /add_step HTTP/1.1\" 200 166 0.000698\n"
     ]
    },
    {
     "name": "stdout",
     "output_type": "stream",
     "text": [
      "<Response [200]>\n"
     ]
    },
    {
     "name": "stderr",
     "output_type": "stream",
     "text": [
      "(41821) accepted ('127.0.0.1', 62173)\n",
      "173.20.233.125,127.0.0.1 - - [22/Oct/2023 18:49:17] \"POST /add_step HTTP/1.1\" 200 166 0.001005\n"
     ]
    },
    {
     "name": "stdout",
     "output_type": "stream",
     "text": [
      "<Response [200]>\n"
     ]
    },
    {
     "name": "stderr",
     "output_type": "stream",
     "text": [
      "(41821) accepted ('127.0.0.1', 63429)\n",
      "173.20.233.125,127.0.0.1 - - [22/Oct/2023 18:49:18] \"POST /add_step HTTP/1.1\" 200 166 0.000779\n"
     ]
    },
    {
     "name": "stdout",
     "output_type": "stream",
     "text": [
      "<Response [200]>\n"
     ]
    },
    {
     "name": "stderr",
     "output_type": "stream",
     "text": [
      "(41821) accepted ('127.0.0.1', 50671)\n",
      "173.20.233.125,127.0.0.1 - - [22/Oct/2023 18:49:20] \"POST /add_step HTTP/1.1\" 200 166 0.000722\n"
     ]
    },
    {
     "name": "stdout",
     "output_type": "stream",
     "text": [
      "<Response [200]>\n"
     ]
    },
    {
     "name": "stderr",
     "output_type": "stream",
     "text": [
      "(41821) accepted ('127.0.0.1', 51892)\n",
      "173.20.233.125,127.0.0.1 - - [22/Oct/2023 18:49:20] \"POST /add_step HTTP/1.1\" 200 166 0.001079\n"
     ]
    },
    {
     "name": "stdout",
     "output_type": "stream",
     "text": [
      "<Response [200]>\n"
     ]
    },
    {
     "name": "stderr",
     "output_type": "stream",
     "text": [
      "(41821) accepted ('127.0.0.1', 53203)\n",
      "173.20.233.125,127.0.0.1 - - [22/Oct/2023 18:49:21] \"POST /add_step HTTP/1.1\" 200 166 0.000892\n"
     ]
    },
    {
     "name": "stdout",
     "output_type": "stream",
     "text": [
      "<Response [200]>\n"
     ]
    },
    {
     "name": "stderr",
     "output_type": "stream",
     "text": [
      "(41821) accepted ('127.0.0.1', 54496)\n",
      "173.20.233.125,127.0.0.1 - - [22/Oct/2023 18:49:22] \"POST /add_step HTTP/1.1\" 200 166 0.000680\n"
     ]
    },
    {
     "name": "stdout",
     "output_type": "stream",
     "text": [
      "<Response [200]>\n"
     ]
    },
    {
     "name": "stderr",
     "output_type": "stream",
     "text": [
      "(41821) accepted ('127.0.0.1', 55817)\n",
      "173.20.233.125,127.0.0.1 - - [22/Oct/2023 18:49:22] \"POST /add_step HTTP/1.1\" 200 166 0.000652\n"
     ]
    },
    {
     "name": "stdout",
     "output_type": "stream",
     "text": [
      "<Response [200]>\n"
     ]
    },
    {
     "name": "stderr",
     "output_type": "stream",
     "text": [
      "(41821) accepted ('127.0.0.1', 57096)\n",
      "173.20.233.125,127.0.0.1 - - [22/Oct/2023 18:49:23] \"POST /add_step HTTP/1.1\" 200 166 0.000643\n"
     ]
    },
    {
     "name": "stdout",
     "output_type": "stream",
     "text": [
      "<Response [200]>\n"
     ]
    },
    {
     "name": "stderr",
     "output_type": "stream",
     "text": [
      "(41821) accepted ('127.0.0.1', 58304)\n",
      "173.20.233.125,127.0.0.1 - - [22/Oct/2023 18:49:24] \"POST /add_step HTTP/1.1\" 200 166 0.000805\n"
     ]
    },
    {
     "name": "stdout",
     "output_type": "stream",
     "text": [
      "<Response [200]>\n"
     ]
    },
    {
     "name": "stderr",
     "output_type": "stream",
     "text": [
      "(41821) accepted ('127.0.0.1', 59532)\n",
      "173.20.233.125,127.0.0.1 - - [22/Oct/2023 18:49:24] \"POST /add_step HTTP/1.1\" 200 166 0.000869\n"
     ]
    },
    {
     "name": "stdout",
     "output_type": "stream",
     "text": [
      "<Response [200]>\n"
     ]
    },
    {
     "name": "stderr",
     "output_type": "stream",
     "text": [
      "(41821) accepted ('127.0.0.1', 60732)\n",
      "173.20.233.125,127.0.0.1 - - [22/Oct/2023 18:49:25] \"POST /add_step HTTP/1.1\" 200 166 0.000878\n"
     ]
    },
    {
     "name": "stdout",
     "output_type": "stream",
     "text": [
      "<Response [200]>\n"
     ]
    },
    {
     "name": "stderr",
     "output_type": "stream",
     "text": [
      "(41821) accepted ('127.0.0.1', 61909)\n",
      "173.20.233.125,127.0.0.1 - - [22/Oct/2023 18:49:26] \"POST /add_step HTTP/1.1\" 200 166 0.000644\n"
     ]
    },
    {
     "name": "stdout",
     "output_type": "stream",
     "text": [
      "<Response [200]>\n"
     ]
    },
    {
     "name": "stderr",
     "output_type": "stream",
     "text": [
      "(41821) accepted ('127.0.0.1', 63095)\n",
      "173.20.233.125,127.0.0.1 - - [22/Oct/2023 18:49:26] \"POST /add_step HTTP/1.1\" 200 166 0.000628\n"
     ]
    },
    {
     "name": "stdout",
     "output_type": "stream",
     "text": [
      "<Response [200]>\n"
     ]
    },
    {
     "name": "stderr",
     "output_type": "stream",
     "text": [
      "(41821) accepted ('127.0.0.1', 64308)\n",
      "173.20.233.125,127.0.0.1 - - [22/Oct/2023 18:49:27] \"POST /add_step HTTP/1.1\" 200 166 0.000784\n"
     ]
    },
    {
     "name": "stdout",
     "output_type": "stream",
     "text": [
      "<Response [200]>\n"
     ]
    },
    {
     "name": "stderr",
     "output_type": "stream",
     "text": [
      "(41821) accepted ('127.0.0.1', 65531)\n",
      "173.20.233.125,127.0.0.1 - - [22/Oct/2023 18:49:28] \"POST /add_step HTTP/1.1\" 200 166 0.000553\n"
     ]
    },
    {
     "name": "stdout",
     "output_type": "stream",
     "text": [
      "<Response [200]>\n"
     ]
    },
    {
     "name": "stderr",
     "output_type": "stream",
     "text": [
      "(41821) accepted ('127.0.0.1', 50441)\n",
      "173.20.233.125,127.0.0.1 - - [22/Oct/2023 18:49:28] \"POST /add_step HTTP/1.1\" 200 166 0.000688\n"
     ]
    },
    {
     "name": "stdout",
     "output_type": "stream",
     "text": [
      "<Response [200]>\n"
     ]
    },
    {
     "name": "stderr",
     "output_type": "stream",
     "text": [
      "(41821) accepted ('127.0.0.1', 51796)\n",
      "173.20.233.125,127.0.0.1 - - [22/Oct/2023 18:49:29] \"POST /add_step HTTP/1.1\" 200 166 0.000647\n"
     ]
    },
    {
     "name": "stdout",
     "output_type": "stream",
     "text": [
      "<Response [200]>\n"
     ]
    },
    {
     "name": "stderr",
     "output_type": "stream",
     "text": [
      "(41821) accepted ('127.0.0.1', 53044)\n",
      "173.20.233.125,127.0.0.1 - - [22/Oct/2023 18:49:30] \"POST /add_step HTTP/1.1\" 200 166 0.000689\n"
     ]
    },
    {
     "name": "stdout",
     "output_type": "stream",
     "text": [
      "<Response [200]>\n"
     ]
    },
    {
     "name": "stderr",
     "output_type": "stream",
     "text": [
      "(41821) accepted ('127.0.0.1', 54302)\n",
      "173.20.233.125,127.0.0.1 - - [22/Oct/2023 18:49:30] \"POST /add_step HTTP/1.1\" 200 166 0.000951\n"
     ]
    },
    {
     "name": "stdout",
     "output_type": "stream",
     "text": [
      "<Response [200]>\n"
     ]
    },
    {
     "name": "stderr",
     "output_type": "stream",
     "text": [
      "(41821) accepted ('127.0.0.1', 55532)\n",
      "173.20.233.125,127.0.0.1 - - [22/Oct/2023 18:49:31] \"POST /add_step HTTP/1.1\" 200 166 0.000665\n"
     ]
    },
    {
     "name": "stdout",
     "output_type": "stream",
     "text": [
      "<Response [200]>\n"
     ]
    },
    {
     "name": "stderr",
     "output_type": "stream",
     "text": [
      "(41821) accepted ('127.0.0.1', 56897)\n",
      "173.20.233.125,127.0.0.1 - - [22/Oct/2023 18:49:32] \"POST /add_step HTTP/1.1\" 200 166 0.001024\n"
     ]
    },
    {
     "name": "stdout",
     "output_type": "stream",
     "text": [
      "<Response [200]>\n"
     ]
    },
    {
     "name": "stderr",
     "output_type": "stream",
     "text": [
      "(41821) accepted ('127.0.0.1', 58094)\n",
      "173.20.233.125,127.0.0.1 - - [22/Oct/2023 18:49:32] \"POST /add_step HTTP/1.1\" 200 166 0.000955\n"
     ]
    },
    {
     "name": "stdout",
     "output_type": "stream",
     "text": [
      "<Response [200]>\n"
     ]
    },
    {
     "name": "stderr",
     "output_type": "stream",
     "text": [
      "(41821) accepted ('127.0.0.1', 59268)\n",
      "173.20.233.125,127.0.0.1 - - [22/Oct/2023 18:49:33] \"POST /add_step HTTP/1.1\" 200 166 0.001118\n"
     ]
    },
    {
     "name": "stdout",
     "output_type": "stream",
     "text": [
      "<Response [200]>\n"
     ]
    },
    {
     "name": "stderr",
     "output_type": "stream",
     "text": [
      "(41821) accepted ('127.0.0.1', 60458)\n",
      "173.20.233.125,127.0.0.1 - - [22/Oct/2023 18:49:34] \"POST /add_step HTTP/1.1\" 200 166 0.000648\n"
     ]
    },
    {
     "name": "stdout",
     "output_type": "stream",
     "text": [
      "<Response [200]>\n"
     ]
    },
    {
     "name": "stderr",
     "output_type": "stream",
     "text": [
      "(41821) accepted ('127.0.0.1', 61654)\n",
      "173.20.233.125,127.0.0.1 - - [22/Oct/2023 18:49:34] \"POST /add_step HTTP/1.1\" 200 166 0.000555\n"
     ]
    },
    {
     "name": "stdout",
     "output_type": "stream",
     "text": [
      "<Response [200]>\n"
     ]
    },
    {
     "name": "stderr",
     "output_type": "stream",
     "text": [
      "(41821) accepted ('127.0.0.1', 62840)\n",
      "173.20.233.125,127.0.0.1 - - [22/Oct/2023 18:49:35] \"POST /add_step HTTP/1.1\" 200 166 0.000917\n"
     ]
    },
    {
     "name": "stdout",
     "output_type": "stream",
     "text": [
      "<Response [200]>\n"
     ]
    },
    {
     "name": "stderr",
     "output_type": "stream",
     "text": [
      "(41821) accepted ('127.0.0.1', 64018)\n",
      "173.20.233.125,127.0.0.1 - - [22/Oct/2023 18:49:36] \"POST /add_step HTTP/1.1\" 200 166 0.000653\n"
     ]
    },
    {
     "name": "stdout",
     "output_type": "stream",
     "text": [
      "<Response [200]>\n"
     ]
    },
    {
     "name": "stderr",
     "output_type": "stream",
     "text": [
      "(41821) accepted ('127.0.0.1', 65205)\n",
      "173.20.233.125,127.0.0.1 - - [22/Oct/2023 18:49:36] \"POST /add_step HTTP/1.1\" 200 166 0.001029\n"
     ]
    },
    {
     "name": "stdout",
     "output_type": "stream",
     "text": [
      "<Response [200]>\n"
     ]
    },
    {
     "name": "stderr",
     "output_type": "stream",
     "text": [
      "(41821) accepted ('127.0.0.1', 50140)\n",
      "173.20.233.125,127.0.0.1 - - [22/Oct/2023 18:49:37] \"POST /add_step HTTP/1.1\" 200 166 0.000672\n"
     ]
    },
    {
     "name": "stdout",
     "output_type": "stream",
     "text": [
      "<Response [200]>\n"
     ]
    },
    {
     "name": "stderr",
     "output_type": "stream",
     "text": [
      "(41821) accepted ('127.0.0.1', 51385)\n",
      "173.20.233.125,127.0.0.1 - - [22/Oct/2023 18:49:38] \"POST /add_step HTTP/1.1\" 200 166 0.000636\n"
     ]
    },
    {
     "name": "stdout",
     "output_type": "stream",
     "text": [
      "<Response [200]>\n"
     ]
    },
    {
     "name": "stderr",
     "output_type": "stream",
     "text": [
      "(41821) accepted ('127.0.0.1', 52571)\n",
      "173.20.233.125,127.0.0.1 - - [22/Oct/2023 18:49:38] \"POST /add_step HTTP/1.1\" 200 166 0.000622\n"
     ]
    },
    {
     "name": "stdout",
     "output_type": "stream",
     "text": [
      "<Response [200]>\n"
     ]
    },
    {
     "name": "stderr",
     "output_type": "stream",
     "text": [
      "(41821) accepted ('127.0.0.1', 53769)\n",
      "173.20.233.125,127.0.0.1 - - [22/Oct/2023 18:49:39] \"POST /add_step HTTP/1.1\" 200 166 0.000622\n"
     ]
    },
    {
     "name": "stdout",
     "output_type": "stream",
     "text": [
      "<Response [200]>\n"
     ]
    },
    {
     "name": "stderr",
     "output_type": "stream",
     "text": [
      "(41821) accepted ('127.0.0.1', 55237)\n",
      "173.20.233.125,127.0.0.1 - - [22/Oct/2023 18:49:40] \"POST /add_step HTTP/1.1\" 200 166 0.000926\n"
     ]
    },
    {
     "name": "stdout",
     "output_type": "stream",
     "text": [
      "<Response [200]>\n"
     ]
    },
    {
     "name": "stderr",
     "output_type": "stream",
     "text": [
      "(41821) accepted ('127.0.0.1', 57413)\n",
      "173.20.233.125,127.0.0.1 - - [22/Oct/2023 18:49:41] \"POST /add_step HTTP/1.1\" 200 166 0.000494\n"
     ]
    },
    {
     "name": "stdout",
     "output_type": "stream",
     "text": [
      "<Response [200]>\n"
     ]
    },
    {
     "name": "stderr",
     "output_type": "stream",
     "text": [
      "(41821) accepted ('127.0.0.1', 58601)\n",
      "173.20.233.125,127.0.0.1 - - [22/Oct/2023 18:49:42] \"POST /add_step HTTP/1.1\" 200 166 0.000685\n"
     ]
    },
    {
     "name": "stdout",
     "output_type": "stream",
     "text": [
      "<Response [200]>\n"
     ]
    },
    {
     "name": "stderr",
     "output_type": "stream",
     "text": [
      "(41821) accepted ('127.0.0.1', 59804)\n",
      "173.20.233.125,127.0.0.1 - - [22/Oct/2023 18:49:42] \"POST /add_step HTTP/1.1\" 200 166 0.000763\n"
     ]
    },
    {
     "name": "stdout",
     "output_type": "stream",
     "text": [
      "<Response [200]>\n"
     ]
    },
    {
     "name": "stderr",
     "output_type": "stream",
     "text": [
      "(41821) accepted ('127.0.0.1', 61189)\n",
      "173.20.233.125,127.0.0.1 - - [22/Oct/2023 18:49:43] \"POST /add_step HTTP/1.1\" 200 166 0.000658\n"
     ]
    },
    {
     "name": "stdout",
     "output_type": "stream",
     "text": [
      "<Response [200]>\n"
     ]
    },
    {
     "name": "stderr",
     "output_type": "stream",
     "text": [
      "(41821) accepted ('127.0.0.1', 62527)\n",
      "173.20.233.125,127.0.0.1 - - [22/Oct/2023 18:49:44] \"POST /add_step HTTP/1.1\" 200 166 0.000780\n"
     ]
    },
    {
     "name": "stdout",
     "output_type": "stream",
     "text": [
      "<Response [200]>\n"
     ]
    },
    {
     "name": "stderr",
     "output_type": "stream",
     "text": [
      "(41821) accepted ('127.0.0.1', 63682)\n",
      "173.20.233.125,127.0.0.1 - - [22/Oct/2023 18:49:44] \"POST /add_step HTTP/1.1\" 200 166 0.000908\n"
     ]
    },
    {
     "name": "stdout",
     "output_type": "stream",
     "text": [
      "<Response [200]>\n"
     ]
    },
    {
     "name": "stderr",
     "output_type": "stream",
     "text": [
      "(41821) accepted ('127.0.0.1', 64839)\n",
      "173.20.233.125,127.0.0.1 - - [22/Oct/2023 18:49:45] \"POST /add_step HTTP/1.1\" 200 166 0.001140\n"
     ]
    },
    {
     "name": "stdout",
     "output_type": "stream",
     "text": [
      "<Response [200]>\n"
     ]
    },
    {
     "name": "stderr",
     "output_type": "stream",
     "text": [
      "(41821) accepted ('127.0.0.1', 49618)\n",
      "173.20.233.125,127.0.0.1 - - [22/Oct/2023 18:49:46] \"POST /add_step HTTP/1.1\" 200 166 0.004810\n"
     ]
    },
    {
     "name": "stdout",
     "output_type": "stream",
     "text": [
      "<Response [200]>\n"
     ]
    },
    {
     "name": "stderr",
     "output_type": "stream",
     "text": [
      "(41821) accepted ('127.0.0.1', 50850)\n",
      "173.20.233.125,127.0.0.1 - - [22/Oct/2023 18:49:46] \"POST /add_step HTTP/1.1\" 200 166 0.000982\n"
     ]
    },
    {
     "name": "stdout",
     "output_type": "stream",
     "text": [
      "<Response [200]>\n"
     ]
    },
    {
     "name": "stderr",
     "output_type": "stream",
     "text": [
      "(41821) accepted ('127.0.0.1', 52157)\n",
      "173.20.233.125,127.0.0.1 - - [22/Oct/2023 18:49:47] \"POST /add_step HTTP/1.1\" 200 166 0.000650\n"
     ]
    },
    {
     "name": "stdout",
     "output_type": "stream",
     "text": [
      "<Response [200]>\n"
     ]
    },
    {
     "name": "stderr",
     "output_type": "stream",
     "text": [
      "(41821) accepted ('127.0.0.1', 53335)\n",
      "173.20.233.125,127.0.0.1 - - [22/Oct/2023 18:49:48] \"POST /add_step HTTP/1.1\" 200 166 0.000646\n"
     ]
    },
    {
     "name": "stdout",
     "output_type": "stream",
     "text": [
      "<Response [200]>\n"
     ]
    },
    {
     "name": "stderr",
     "output_type": "stream",
     "text": [
      "(41821) accepted ('127.0.0.1', 54592)\n",
      "173.20.233.125,127.0.0.1 - - [22/Oct/2023 18:49:48] \"POST /add_step HTTP/1.1\" 200 166 0.000669\n"
     ]
    },
    {
     "name": "stdout",
     "output_type": "stream",
     "text": [
      "<Response [200]>\n"
     ]
    },
    {
     "name": "stderr",
     "output_type": "stream",
     "text": [
      "(41821) accepted ('127.0.0.1', 55977)\n",
      "173.20.233.125,127.0.0.1 - - [22/Oct/2023 18:49:49] \"POST /add_step HTTP/1.1\" 200 166 0.000661\n"
     ]
    },
    {
     "name": "stdout",
     "output_type": "stream",
     "text": [
      "<Response [200]>\n"
     ]
    },
    {
     "name": "stderr",
     "output_type": "stream",
     "text": [
      "(41821) accepted ('127.0.0.1', 57158)\n",
      "173.20.233.125,127.0.0.1 - - [22/Oct/2023 18:49:50] \"POST /add_step HTTP/1.1\" 200 166 0.000522\n"
     ]
    },
    {
     "name": "stdout",
     "output_type": "stream",
     "text": [
      "<Response [200]>\n"
     ]
    },
    {
     "name": "stderr",
     "output_type": "stream",
     "text": [
      "(41821) accepted ('127.0.0.1', 58333)\n",
      "173.20.233.125,127.0.0.1 - - [22/Oct/2023 18:49:50] \"POST /add_step HTTP/1.1\" 200 166 0.000629\n"
     ]
    },
    {
     "name": "stdout",
     "output_type": "stream",
     "text": [
      "<Response [200]>\n"
     ]
    },
    {
     "name": "stderr",
     "output_type": "stream",
     "text": [
      "(41821) accepted ('127.0.0.1', 59551)\n",
      "173.20.233.125,127.0.0.1 - - [22/Oct/2023 18:49:51] \"POST /add_step HTTP/1.1\" 200 166 0.000771\n"
     ]
    },
    {
     "name": "stdout",
     "output_type": "stream",
     "text": [
      "<Response [200]>\n"
     ]
    },
    {
     "name": "stderr",
     "output_type": "stream",
     "text": [
      "(41821) accepted ('127.0.0.1', 60776)\n",
      "173.20.233.125,127.0.0.1 - - [22/Oct/2023 18:49:52] \"POST /add_step HTTP/1.1\" 200 166 0.000822\n"
     ]
    },
    {
     "name": "stdout",
     "output_type": "stream",
     "text": [
      "<Response [200]>\n"
     ]
    },
    {
     "name": "stderr",
     "output_type": "stream",
     "text": [
      "(41821) accepted ('127.0.0.1', 62018)\n",
      "173.20.233.125,127.0.0.1 - - [22/Oct/2023 18:49:52] \"POST /add_step HTTP/1.1\" 200 166 0.000627\n"
     ]
    },
    {
     "name": "stdout",
     "output_type": "stream",
     "text": [
      "<Response [200]>\n"
     ]
    },
    {
     "name": "stderr",
     "output_type": "stream",
     "text": [
      "(41821) accepted ('127.0.0.1', 63244)\n",
      "173.20.233.125,127.0.0.1 - - [22/Oct/2023 18:49:53] \"POST /add_step HTTP/1.1\" 200 166 0.000664\n"
     ]
    },
    {
     "name": "stdout",
     "output_type": "stream",
     "text": [
      "<Response [200]>\n"
     ]
    },
    {
     "name": "stderr",
     "output_type": "stream",
     "text": [
      "(41821) accepted ('127.0.0.1', 64401)\n",
      "173.20.233.125,127.0.0.1 - - [22/Oct/2023 18:49:54] \"POST /add_step HTTP/1.1\" 200 166 0.000946\n"
     ]
    },
    {
     "name": "stdout",
     "output_type": "stream",
     "text": [
      "<Response [200]>\n"
     ]
    },
    {
     "name": "stderr",
     "output_type": "stream",
     "text": [
      "(41821) accepted ('127.0.0.1', 49315)\n",
      "173.20.233.125,127.0.0.1 - - [22/Oct/2023 18:49:54] \"POST /add_step HTTP/1.1\" 200 166 0.000962\n"
     ]
    },
    {
     "name": "stdout",
     "output_type": "stream",
     "text": [
      "<Response [200]>\n"
     ]
    },
    {
     "name": "stderr",
     "output_type": "stream",
     "text": [
      "(41821) accepted ('127.0.0.1', 50519)\n",
      "173.20.233.125,127.0.0.1 - - [22/Oct/2023 18:49:55] \"POST /add_step HTTP/1.1\" 200 166 0.000630\n"
     ]
    },
    {
     "name": "stdout",
     "output_type": "stream",
     "text": [
      "<Response [200]>\n"
     ]
    },
    {
     "name": "stderr",
     "output_type": "stream",
     "text": [
      "(41821) accepted ('127.0.0.1', 51771)\n",
      "173.20.233.125,127.0.0.1 - - [22/Oct/2023 18:49:56] \"POST /add_step HTTP/1.1\" 200 166 0.000633\n"
     ]
    },
    {
     "name": "stdout",
     "output_type": "stream",
     "text": [
      "<Response [200]>\n"
     ]
    },
    {
     "name": "stderr",
     "output_type": "stream",
     "text": [
      "(41821) accepted ('127.0.0.1', 52924)\n",
      "173.20.233.125,127.0.0.1 - - [22/Oct/2023 18:49:56] \"POST /add_step HTTP/1.1\" 200 166 0.000896\n"
     ]
    },
    {
     "name": "stdout",
     "output_type": "stream",
     "text": [
      "<Response [200]>\n"
     ]
    },
    {
     "name": "stderr",
     "output_type": "stream",
     "text": [
      "(41821) accepted ('127.0.0.1', 54128)\n",
      "173.20.233.125,127.0.0.1 - - [22/Oct/2023 18:49:57] \"POST /add_step HTTP/1.1\" 200 166 0.000643\n"
     ]
    },
    {
     "name": "stdout",
     "output_type": "stream",
     "text": [
      "<Response [200]>\n"
     ]
    },
    {
     "name": "stderr",
     "output_type": "stream",
     "text": [
      "(41821) accepted ('127.0.0.1', 55305)\n",
      "173.20.233.125,127.0.0.1 - - [22/Oct/2023 18:49:58] \"POST /add_step HTTP/1.1\" 200 166 0.000619\n"
     ]
    },
    {
     "name": "stdout",
     "output_type": "stream",
     "text": [
      "<Response [200]>\n"
     ]
    },
    {
     "name": "stderr",
     "output_type": "stream",
     "text": [
      "(41821) accepted ('127.0.0.1', 56507)\n",
      "173.20.233.125,127.0.0.1 - - [22/Oct/2023 18:49:58] \"POST /add_step HTTP/1.1\" 200 166 0.000816\n"
     ]
    },
    {
     "name": "stdout",
     "output_type": "stream",
     "text": [
      "<Response [200]>\n"
     ]
    },
    {
     "name": "stderr",
     "output_type": "stream",
     "text": [
      "(41821) accepted ('127.0.0.1', 57776)\n",
      "173.20.233.125,127.0.0.1 - - [22/Oct/2023 18:49:59] \"POST /add_step HTTP/1.1\" 200 166 0.000659\n"
     ]
    },
    {
     "name": "stdout",
     "output_type": "stream",
     "text": [
      "<Response [200]>\n"
     ]
    },
    {
     "name": "stderr",
     "output_type": "stream",
     "text": [
      "(41821) accepted ('127.0.0.1', 58986)\n",
      "173.20.233.125,127.0.0.1 - - [22/Oct/2023 18:50:00] \"POST /add_step HTTP/1.1\" 200 166 0.000640\n"
     ]
    },
    {
     "name": "stdout",
     "output_type": "stream",
     "text": [
      "<Response [200]>\n"
     ]
    },
    {
     "name": "stderr",
     "output_type": "stream",
     "text": [
      "(41821) accepted ('127.0.0.1', 60223)\n",
      "173.20.233.125,127.0.0.1 - - [22/Oct/2023 18:50:00] \"POST /add_step HTTP/1.1\" 200 166 0.000629\n"
     ]
    },
    {
     "name": "stdout",
     "output_type": "stream",
     "text": [
      "<Response [200]>\n"
     ]
    },
    {
     "name": "stderr",
     "output_type": "stream",
     "text": [
      "(41821) accepted ('127.0.0.1', 63261)\n",
      "173.20.233.125,127.0.0.1 - - [22/Oct/2023 18:50:02] \"POST /add_step HTTP/1.1\" 200 166 0.001098\n"
     ]
    },
    {
     "name": "stdout",
     "output_type": "stream",
     "text": [
      "<Response [200]>\n"
     ]
    },
    {
     "name": "stderr",
     "output_type": "stream",
     "text": [
      "(41821) accepted ('127.0.0.1', 64486)\n",
      "173.20.233.125,127.0.0.1 - - [22/Oct/2023 18:50:03] \"POST /add_step HTTP/1.1\" 200 166 0.000646\n"
     ]
    },
    {
     "name": "stdout",
     "output_type": "stream",
     "text": [
      "<Response [200]>\n"
     ]
    },
    {
     "name": "stderr",
     "output_type": "stream",
     "text": [
      "(41821) accepted ('127.0.0.1', 49298)\n",
      "173.20.233.125,127.0.0.1 - - [22/Oct/2023 18:50:03] \"POST /add_step HTTP/1.1\" 200 166 0.001014\n"
     ]
    },
    {
     "name": "stdout",
     "output_type": "stream",
     "text": [
      "<Response [200]>\n"
     ]
    },
    {
     "name": "stderr",
     "output_type": "stream",
     "text": [
      "(41821) accepted ('127.0.0.1', 50510)\n",
      "173.20.233.125,127.0.0.1 - - [22/Oct/2023 18:50:04] \"POST /add_step HTTP/1.1\" 200 166 0.001038\n"
     ]
    },
    {
     "name": "stdout",
     "output_type": "stream",
     "text": [
      "<Response [200]>\n"
     ]
    },
    {
     "name": "stderr",
     "output_type": "stream",
     "text": [
      "(41821) accepted ('127.0.0.1', 51704)\n",
      "173.20.233.125,127.0.0.1 - - [22/Oct/2023 18:50:05] \"POST /add_step HTTP/1.1\" 200 166 0.000620\n"
     ]
    },
    {
     "name": "stdout",
     "output_type": "stream",
     "text": [
      "<Response [200]>\n"
     ]
    },
    {
     "name": "stderr",
     "output_type": "stream",
     "text": [
      "(41821) accepted ('127.0.0.1', 52932)\n",
      "173.20.233.125,127.0.0.1 - - [22/Oct/2023 18:50:05] \"POST /add_step HTTP/1.1\" 200 166 0.000752\n"
     ]
    },
    {
     "name": "stdout",
     "output_type": "stream",
     "text": [
      "<Response [200]>\n"
     ]
    },
    {
     "name": "stderr",
     "output_type": "stream",
     "text": [
      "(41821) accepted ('127.0.0.1', 54100)\n",
      "173.20.233.125,127.0.0.1 - - [22/Oct/2023 18:50:06] \"POST /add_step HTTP/1.1\" 200 166 0.000656\n"
     ]
    },
    {
     "name": "stdout",
     "output_type": "stream",
     "text": [
      "<Response [200]>\n"
     ]
    },
    {
     "name": "stderr",
     "output_type": "stream",
     "text": [
      "(41821) accepted ('127.0.0.1', 55268)\n",
      "173.20.233.125,127.0.0.1 - - [22/Oct/2023 18:50:07] \"POST /add_step HTTP/1.1\" 200 166 0.000642\n"
     ]
    },
    {
     "name": "stdout",
     "output_type": "stream",
     "text": [
      "<Response [200]>\n"
     ]
    },
    {
     "name": "stderr",
     "output_type": "stream",
     "text": [
      "(41821) accepted ('127.0.0.1', 56417)\n",
      "173.20.233.125,127.0.0.1 - - [22/Oct/2023 18:50:07] \"POST /add_step HTTP/1.1\" 200 166 0.000754\n"
     ]
    },
    {
     "name": "stdout",
     "output_type": "stream",
     "text": [
      "<Response [200]>\n"
     ]
    },
    {
     "name": "stderr",
     "output_type": "stream",
     "text": [
      "(41821) accepted ('127.0.0.1', 57557)\n",
      "173.20.233.125,127.0.0.1 - - [22/Oct/2023 18:50:08] \"POST /add_step HTTP/1.1\" 200 166 0.000767\n"
     ]
    },
    {
     "name": "stdout",
     "output_type": "stream",
     "text": [
      "<Response [200]>\n"
     ]
    },
    {
     "name": "stderr",
     "output_type": "stream",
     "text": [
      "(41821) accepted ('127.0.0.1', 58804)\n",
      "173.20.233.125,127.0.0.1 - - [22/Oct/2023 18:50:08] \"POST /add_step HTTP/1.1\" 200 166 0.000649\n"
     ]
    },
    {
     "name": "stdout",
     "output_type": "stream",
     "text": [
      "<Response [200]>\n"
     ]
    },
    {
     "name": "stderr",
     "output_type": "stream",
     "text": [
      "(41821) accepted ('127.0.0.1', 59991)\n",
      "173.20.233.125,127.0.0.1 - - [22/Oct/2023 18:50:09] \"POST /add_step HTTP/1.1\" 200 166 0.000764\n"
     ]
    },
    {
     "name": "stdout",
     "output_type": "stream",
     "text": [
      "<Response [200]>\n"
     ]
    },
    {
     "name": "stderr",
     "output_type": "stream",
     "text": [
      "(41821) accepted ('127.0.0.1', 61269)\n",
      "173.20.233.125,127.0.0.1 - - [22/Oct/2023 18:50:10] \"POST /add_step HTTP/1.1\" 200 166 0.000707\n"
     ]
    },
    {
     "name": "stdout",
     "output_type": "stream",
     "text": [
      "<Response [200]>\n"
     ]
    },
    {
     "name": "stderr",
     "output_type": "stream",
     "text": [
      "(41821) accepted ('127.0.0.1', 62594)\n",
      "173.20.233.125,127.0.0.1 - - [22/Oct/2023 18:50:11] \"POST /add_step HTTP/1.1\" 200 166 0.003136\n"
     ]
    },
    {
     "name": "stdout",
     "output_type": "stream",
     "text": [
      "<Response [200]>\n"
     ]
    },
    {
     "name": "stderr",
     "output_type": "stream",
     "text": [
      "(41821) accepted ('127.0.0.1', 63766)\n",
      "173.20.233.125,127.0.0.1 - - [22/Oct/2023 18:50:11] \"POST /add_step HTTP/1.1\" 200 166 0.000698\n"
     ]
    },
    {
     "name": "stdout",
     "output_type": "stream",
     "text": [
      "<Response [200]>\n"
     ]
    },
    {
     "name": "stderr",
     "output_type": "stream",
     "text": [
      "(41821) accepted ('127.0.0.1', 65059)\n",
      "173.20.233.125,127.0.0.1 - - [22/Oct/2023 18:50:12] \"POST /add_step HTTP/1.1\" 200 166 0.000707\n"
     ]
    },
    {
     "name": "stdout",
     "output_type": "stream",
     "text": [
      "<Response [200]>\n"
     ]
    },
    {
     "name": "stderr",
     "output_type": "stream",
     "text": [
      "(41821) accepted ('127.0.0.1', 50022)\n",
      "173.20.233.125,127.0.0.1 - - [22/Oct/2023 18:50:13] \"POST /add_step HTTP/1.1\" 200 166 0.000989\n"
     ]
    },
    {
     "name": "stdout",
     "output_type": "stream",
     "text": [
      "<Response [200]>\n"
     ]
    },
    {
     "name": "stderr",
     "output_type": "stream",
     "text": [
      "(41821) accepted ('127.0.0.1', 51360)\n",
      "173.20.233.125,127.0.0.1 - - [22/Oct/2023 18:50:13] \"POST /add_step HTTP/1.1\" 200 166 0.000576\n"
     ]
    },
    {
     "name": "stdout",
     "output_type": "stream",
     "text": [
      "<Response [200]>\n"
     ]
    },
    {
     "name": "stderr",
     "output_type": "stream",
     "text": [
      "(41821) accepted ('127.0.0.1', 52667)\n",
      "173.20.233.125,127.0.0.1 - - [22/Oct/2023 18:50:14] \"POST /add_step HTTP/1.1\" 200 166 0.000638\n"
     ]
    },
    {
     "name": "stdout",
     "output_type": "stream",
     "text": [
      "<Response [200]>\n"
     ]
    },
    {
     "name": "stderr",
     "output_type": "stream",
     "text": [
      "(41821) accepted ('127.0.0.1', 53829)\n",
      "173.20.233.125,127.0.0.1 - - [22/Oct/2023 18:50:15] \"POST /add_step HTTP/1.1\" 200 166 0.000629\n"
     ]
    },
    {
     "name": "stdout",
     "output_type": "stream",
     "text": [
      "<Response [200]>\n"
     ]
    },
    {
     "name": "stderr",
     "output_type": "stream",
     "text": [
      "(41821) accepted ('127.0.0.1', 55052)\n",
      "173.20.233.125,127.0.0.1 - - [22/Oct/2023 18:50:15] \"POST /add_step HTTP/1.1\" 200 166 0.000728\n"
     ]
    },
    {
     "name": "stdout",
     "output_type": "stream",
     "text": [
      "<Response [200]>\n"
     ]
    },
    {
     "name": "stderr",
     "output_type": "stream",
     "text": [
      "(41821) accepted ('127.0.0.1', 56471)\n",
      "173.20.233.125,127.0.0.1 - - [22/Oct/2023 18:50:16] \"POST /add_step HTTP/1.1\" 200 166 0.001026\n"
     ]
    },
    {
     "name": "stdout",
     "output_type": "stream",
     "text": [
      "<Response [200]>\n"
     ]
    },
    {
     "name": "stderr",
     "output_type": "stream",
     "text": [
      "(41821) accepted ('127.0.0.1', 58116)\n",
      "173.20.233.125,127.0.0.1 - - [22/Oct/2023 18:50:17] \"POST /add_step HTTP/1.1\" 200 166 0.000657\n"
     ]
    },
    {
     "name": "stdout",
     "output_type": "stream",
     "text": [
      "<Response [200]>\n"
     ]
    },
    {
     "name": "stderr",
     "output_type": "stream",
     "text": [
      "(41821) accepted ('127.0.0.1', 59309)\n",
      "173.20.233.125,127.0.0.1 - - [22/Oct/2023 18:50:18] \"POST /add_step HTTP/1.1\" 200 166 0.001009\n"
     ]
    },
    {
     "name": "stdout",
     "output_type": "stream",
     "text": [
      "<Response [200]>\n"
     ]
    },
    {
     "name": "stderr",
     "output_type": "stream",
     "text": [
      "(41821) accepted ('127.0.0.1', 60560)\n",
      "173.20.233.125,127.0.0.1 - - [22/Oct/2023 18:50:18] \"POST /add_step HTTP/1.1\" 200 166 0.000614\n"
     ]
    },
    {
     "name": "stdout",
     "output_type": "stream",
     "text": [
      "<Response [200]>\n"
     ]
    },
    {
     "name": "stderr",
     "output_type": "stream",
     "text": [
      "(41821) accepted ('127.0.0.1', 61709)\n",
      "173.20.233.125,127.0.0.1 - - [22/Oct/2023 18:50:19] \"POST /add_step HTTP/1.1\" 200 166 0.004061\n"
     ]
    },
    {
     "name": "stdout",
     "output_type": "stream",
     "text": [
      "<Response [200]>\n"
     ]
    },
    {
     "name": "stderr",
     "output_type": "stream",
     "text": [
      "(41821) accepted ('127.0.0.1', 63049)\n",
      "173.20.233.125,127.0.0.1 - - [22/Oct/2023 18:50:20] \"POST /add_step HTTP/1.1\" 200 166 0.001872\n"
     ]
    },
    {
     "name": "stdout",
     "output_type": "stream",
     "text": [
      "<Response [200]>\n"
     ]
    },
    {
     "name": "stderr",
     "output_type": "stream",
     "text": [
      "(41821) accepted ('127.0.0.1', 64344)\n",
      "173.20.233.125,127.0.0.1 - - [22/Oct/2023 18:50:20] \"POST /add_step HTTP/1.1\" 200 166 0.000833\n"
     ]
    },
    {
     "name": "stdout",
     "output_type": "stream",
     "text": [
      "<Response [200]>\n"
     ]
    },
    {
     "name": "stderr",
     "output_type": "stream",
     "text": [
      "(41821) accepted ('127.0.0.1', 49434)\n",
      "173.20.233.125,127.0.0.1 - - [22/Oct/2023 18:50:21] \"POST /add_step HTTP/1.1\" 200 166 0.000454\n"
     ]
    },
    {
     "name": "stdout",
     "output_type": "stream",
     "text": [
      "<Response [200]>\n"
     ]
    },
    {
     "name": "stderr",
     "output_type": "stream",
     "text": [
      "(41821) accepted ('127.0.0.1', 50657)\n",
      "173.20.233.125,127.0.0.1 - - [22/Oct/2023 18:50:22] \"POST /add_step HTTP/1.1\" 200 166 0.000640\n"
     ]
    },
    {
     "name": "stdout",
     "output_type": "stream",
     "text": [
      "<Response [200]>\n"
     ]
    },
    {
     "name": "stderr",
     "output_type": "stream",
     "text": [
      "(41821) accepted ('127.0.0.1', 51789)\n",
      "173.20.233.125,127.0.0.1 - - [22/Oct/2023 18:50:22] \"POST /add_step HTTP/1.1\" 200 166 0.000648\n"
     ]
    },
    {
     "name": "stdout",
     "output_type": "stream",
     "text": [
      "<Response [200]>\n"
     ]
    },
    {
     "name": "stderr",
     "output_type": "stream",
     "text": [
      "(41821) accepted ('127.0.0.1', 52978)\n",
      "173.20.233.125,127.0.0.1 - - [22/Oct/2023 18:50:23] \"POST /add_step HTTP/1.1\" 200 166 0.000760\n"
     ]
    },
    {
     "name": "stdout",
     "output_type": "stream",
     "text": [
      "<Response [200]>\n"
     ]
    },
    {
     "name": "stderr",
     "output_type": "stream",
     "text": [
      "(41821) accepted ('127.0.0.1', 54210)\n",
      "173.20.233.125,127.0.0.1 - - [22/Oct/2023 18:50:24] \"POST /add_step HTTP/1.1\" 200 166 0.000780\n"
     ]
    },
    {
     "name": "stdout",
     "output_type": "stream",
     "text": [
      "<Response [200]>\n"
     ]
    },
    {
     "name": "stderr",
     "output_type": "stream",
     "text": [
      "(41821) accepted ('127.0.0.1', 55418)\n",
      "173.20.233.125,127.0.0.1 - - [22/Oct/2023 18:50:24] \"POST /add_step HTTP/1.1\" 200 166 0.000567\n"
     ]
    },
    {
     "name": "stdout",
     "output_type": "stream",
     "text": [
      "<Response [200]>\n"
     ]
    },
    {
     "name": "stderr",
     "output_type": "stream",
     "text": [
      "(41821) accepted ('127.0.0.1', 56613)\n",
      "173.20.233.125,127.0.0.1 - - [22/Oct/2023 18:50:25] \"POST /add_step HTTP/1.1\" 200 166 0.000712\n"
     ]
    },
    {
     "name": "stdout",
     "output_type": "stream",
     "text": [
      "<Response [200]>\n"
     ]
    },
    {
     "name": "stderr",
     "output_type": "stream",
     "text": [
      "(41821) accepted ('127.0.0.1', 57820)\n",
      "173.20.233.125,127.0.0.1 - - [22/Oct/2023 18:50:26] \"POST /add_step HTTP/1.1\" 200 166 0.000839\n"
     ]
    },
    {
     "name": "stdout",
     "output_type": "stream",
     "text": [
      "<Response [200]>\n"
     ]
    },
    {
     "name": "stderr",
     "output_type": "stream",
     "text": [
      "(41821) accepted ('127.0.0.1', 59046)\n",
      "173.20.233.125,127.0.0.1 - - [22/Oct/2023 18:50:26] \"POST /add_step HTTP/1.1\" 200 166 0.000644\n"
     ]
    },
    {
     "name": "stdout",
     "output_type": "stream",
     "text": [
      "<Response [200]>\n"
     ]
    },
    {
     "name": "stderr",
     "output_type": "stream",
     "text": [
      "(41821) accepted ('127.0.0.1', 60232)\n",
      "173.20.233.125,127.0.0.1 - - [22/Oct/2023 18:50:27] \"POST /add_step HTTP/1.1\" 200 166 0.000665\n"
     ]
    },
    {
     "name": "stdout",
     "output_type": "stream",
     "text": [
      "<Response [200]>\n"
     ]
    },
    {
     "name": "stderr",
     "output_type": "stream",
     "text": [
      "(41821) accepted ('127.0.0.1', 61393)\n",
      "173.20.233.125,127.0.0.1 - - [22/Oct/2023 18:50:28] \"POST /add_step HTTP/1.1\" 200 166 0.000949\n"
     ]
    },
    {
     "name": "stdout",
     "output_type": "stream",
     "text": [
      "<Response [200]>\n"
     ]
    },
    {
     "name": "stderr",
     "output_type": "stream",
     "text": [
      "(41821) accepted ('127.0.0.1', 62579)\n",
      "173.20.233.125,127.0.0.1 - - [22/Oct/2023 18:50:28] \"POST /add_step HTTP/1.1\" 200 166 0.000647\n"
     ]
    },
    {
     "name": "stdout",
     "output_type": "stream",
     "text": [
      "<Response [200]>\n"
     ]
    },
    {
     "name": "stderr",
     "output_type": "stream",
     "text": [
      "(41821) accepted ('127.0.0.1', 63788)\n",
      "173.20.233.125,127.0.0.1 - - [22/Oct/2023 18:50:29] \"POST /add_step HTTP/1.1\" 200 166 0.000738\n"
     ]
    },
    {
     "name": "stdout",
     "output_type": "stream",
     "text": [
      "<Response [200]>\n"
     ]
    },
    {
     "name": "stderr",
     "output_type": "stream",
     "text": [
      "(41821) accepted ('127.0.0.1', 64948)\n",
      "173.20.233.125,127.0.0.1 - - [22/Oct/2023 18:50:30] \"POST /add_step HTTP/1.1\" 200 166 0.000642\n"
     ]
    },
    {
     "name": "stdout",
     "output_type": "stream",
     "text": [
      "<Response [200]>\n"
     ]
    },
    {
     "name": "stderr",
     "output_type": "stream",
     "text": [
      "(41821) accepted ('127.0.0.1', 49832)\n",
      "173.20.233.125,127.0.0.1 - - [22/Oct/2023 18:50:30] \"POST /add_step HTTP/1.1\" 200 166 0.000618\n"
     ]
    },
    {
     "name": "stdout",
     "output_type": "stream",
     "text": [
      "<Response [200]>\n"
     ]
    },
    {
     "name": "stderr",
     "output_type": "stream",
     "text": [
      "(41821) accepted ('127.0.0.1', 51064)\n",
      "173.20.233.125,127.0.0.1 - - [22/Oct/2023 18:50:31] \"POST /add_step HTTP/1.1\" 200 166 0.000760\n"
     ]
    },
    {
     "name": "stdout",
     "output_type": "stream",
     "text": [
      "<Response [200]>\n"
     ]
    },
    {
     "name": "stderr",
     "output_type": "stream",
     "text": [
      "(41821) accepted ('127.0.0.1', 52563)\n",
      "173.20.233.125,127.0.0.1 - - [22/Oct/2023 18:50:32] \"POST /add_step HTTP/1.1\" 200 166 0.000655\n"
     ]
    },
    {
     "name": "stdout",
     "output_type": "stream",
     "text": [
      "<Response [200]>\n"
     ]
    },
    {
     "name": "stderr",
     "output_type": "stream",
     "text": [
      "(41821) accepted ('127.0.0.1', 54220)\n",
      "173.20.233.125,127.0.0.1 - - [22/Oct/2023 18:50:33] \"POST /add_step HTTP/1.1\" 200 166 0.000975\n"
     ]
    },
    {
     "name": "stdout",
     "output_type": "stream",
     "text": [
      "<Response [200]>\n"
     ]
    },
    {
     "name": "stderr",
     "output_type": "stream",
     "text": [
      "(41821) accepted ('127.0.0.1', 56228)\n",
      "173.20.233.125,127.0.0.1 - - [22/Oct/2023 18:50:34] \"POST /add_step HTTP/1.1\" 200 166 0.000691\n"
     ]
    },
    {
     "name": "stdout",
     "output_type": "stream",
     "text": [
      "<Response [200]>\n"
     ]
    },
    {
     "name": "stderr",
     "output_type": "stream",
     "text": [
      "(41821) accepted ('127.0.0.1', 57422)\n",
      "173.20.233.125,127.0.0.1 - - [22/Oct/2023 18:50:34] \"POST /add_step HTTP/1.1\" 200 166 0.000555\n"
     ]
    },
    {
     "name": "stdout",
     "output_type": "stream",
     "text": [
      "<Response [200]>\n"
     ]
    },
    {
     "name": "stderr",
     "output_type": "stream",
     "text": [
      "(41821) accepted ('127.0.0.1', 58602)\n",
      "173.20.233.125,127.0.0.1 - - [22/Oct/2023 18:50:35] \"POST /add_step HTTP/1.1\" 200 166 0.000715\n"
     ]
    },
    {
     "name": "stdout",
     "output_type": "stream",
     "text": [
      "<Response [200]>\n"
     ]
    },
    {
     "name": "stderr",
     "output_type": "stream",
     "text": [
      "(41821) accepted ('127.0.0.1', 59847)\n",
      "173.20.233.125,127.0.0.1 - - [22/Oct/2023 18:50:36] \"POST /add_step HTTP/1.1\" 200 166 0.000549\n"
     ]
    },
    {
     "name": "stdout",
     "output_type": "stream",
     "text": [
      "<Response [200]>\n"
     ]
    },
    {
     "name": "stderr",
     "output_type": "stream",
     "text": [
      "(41821) accepted ('127.0.0.1', 61050)\n",
      "173.20.233.125,127.0.0.1 - - [22/Oct/2023 18:50:36] \"POST /add_step HTTP/1.1\" 200 166 0.000702\n"
     ]
    },
    {
     "name": "stdout",
     "output_type": "stream",
     "text": [
      "<Response [200]>\n"
     ]
    },
    {
     "name": "stderr",
     "output_type": "stream",
     "text": [
      "(41821) accepted ('127.0.0.1', 62427)\n",
      "173.20.233.125,127.0.0.1 - - [22/Oct/2023 18:50:37] \"POST /add_step HTTP/1.1\" 200 166 0.000767\n"
     ]
    },
    {
     "name": "stdout",
     "output_type": "stream",
     "text": [
      "<Response [200]>\n"
     ]
    },
    {
     "name": "stderr",
     "output_type": "stream",
     "text": [
      "(41821) accepted ('127.0.0.1', 63910)\n",
      "173.20.233.125,127.0.0.1 - - [22/Oct/2023 18:50:38] \"POST /add_step HTTP/1.1\" 200 166 0.001447\n"
     ]
    },
    {
     "name": "stdout",
     "output_type": "stream",
     "text": [
      "<Response [200]>\n"
     ]
    },
    {
     "name": "stderr",
     "output_type": "stream",
     "text": [
      "(41821) accepted ('127.0.0.1', 65178)\n",
      "173.20.233.125,127.0.0.1 - - [22/Oct/2023 18:50:39] \"POST /add_step HTTP/1.1\" 200 166 0.001150\n"
     ]
    },
    {
     "name": "stdout",
     "output_type": "stream",
     "text": [
      "<Response [200]>\n"
     ]
    },
    {
     "name": "stderr",
     "output_type": "stream",
     "text": [
      "(41821) accepted ('127.0.0.1', 50199)\n",
      "173.20.233.125,127.0.0.1 - - [22/Oct/2023 18:50:39] \"POST /add_step HTTP/1.1\" 200 166 0.000633\n"
     ]
    },
    {
     "name": "stdout",
     "output_type": "stream",
     "text": [
      "<Response [200]>\n"
     ]
    },
    {
     "name": "stderr",
     "output_type": "stream",
     "text": [
      "(41821) accepted ('127.0.0.1', 51443)\n",
      "173.20.233.125,127.0.0.1 - - [22/Oct/2023 18:50:40] \"POST /add_step HTTP/1.1\" 200 166 0.000651\n"
     ]
    },
    {
     "name": "stdout",
     "output_type": "stream",
     "text": [
      "<Response [200]>\n"
     ]
    },
    {
     "name": "stderr",
     "output_type": "stream",
     "text": [
      "(41821) accepted ('127.0.0.1', 52815)\n",
      "173.20.233.125,127.0.0.1 - - [22/Oct/2023 18:50:41] \"POST /add_step HTTP/1.1\" 200 166 0.000825\n"
     ]
    },
    {
     "name": "stdout",
     "output_type": "stream",
     "text": [
      "<Response [200]>\n"
     ]
    },
    {
     "name": "stderr",
     "output_type": "stream",
     "text": [
      "(41821) accepted ('127.0.0.1', 54154)\n",
      "173.20.233.125,127.0.0.1 - - [22/Oct/2023 18:50:42] \"POST /add_step HTTP/1.1\" 200 166 0.000692\n"
     ]
    },
    {
     "name": "stdout",
     "output_type": "stream",
     "text": [
      "<Response [200]>\n"
     ]
    },
    {
     "name": "stderr",
     "output_type": "stream",
     "text": [
      "(41821) accepted ('127.0.0.1', 55395)\n",
      "173.20.233.125,127.0.0.1 - - [22/Oct/2023 18:50:42] \"POST /add_step HTTP/1.1\" 200 166 0.000700\n"
     ]
    },
    {
     "name": "stdout",
     "output_type": "stream",
     "text": [
      "<Response [200]>\n"
     ]
    },
    {
     "name": "stderr",
     "output_type": "stream",
     "text": [
      "(41821) accepted ('127.0.0.1', 56655)\n",
      "173.20.233.125,127.0.0.1 - - [22/Oct/2023 18:50:43] \"POST /add_step HTTP/1.1\" 200 166 0.000823\n"
     ]
    },
    {
     "name": "stdout",
     "output_type": "stream",
     "text": [
      "<Response [200]>\n"
     ]
    },
    {
     "name": "stderr",
     "output_type": "stream",
     "text": [
      "(41821) accepted ('127.0.0.1', 57855)\n",
      "173.20.233.125,127.0.0.1 - - [22/Oct/2023 18:50:44] \"POST /add_step HTTP/1.1\" 200 166 0.000656\n"
     ]
    },
    {
     "name": "stdout",
     "output_type": "stream",
     "text": [
      "<Response [200]>\n"
     ]
    },
    {
     "name": "stderr",
     "output_type": "stream",
     "text": [
      "(41821) accepted ('127.0.0.1', 59004)\n",
      "173.20.233.125,127.0.0.1 - - [22/Oct/2023 18:50:44] \"POST /add_step HTTP/1.1\" 200 166 0.005865\n"
     ]
    },
    {
     "name": "stdout",
     "output_type": "stream",
     "text": [
      "<Response [200]>\n"
     ]
    },
    {
     "name": "stderr",
     "output_type": "stream",
     "text": [
      "(41821) accepted ('127.0.0.1', 60102)\n",
      "173.20.233.125,127.0.0.1 - - [22/Oct/2023 18:50:45] \"POST /add_step HTTP/1.1\" 200 166 0.000648\n"
     ]
    },
    {
     "name": "stdout",
     "output_type": "stream",
     "text": [
      "<Response [200]>\n"
     ]
    },
    {
     "name": "stderr",
     "output_type": "stream",
     "text": [
      "(41821) accepted ('127.0.0.1', 61399)\n",
      "173.20.233.125,127.0.0.1 - - [22/Oct/2023 18:50:45] \"POST /add_step HTTP/1.1\" 200 166 0.000709\n"
     ]
    },
    {
     "name": "stdout",
     "output_type": "stream",
     "text": [
      "<Response [200]>\n"
     ]
    },
    {
     "name": "stderr",
     "output_type": "stream",
     "text": [
      "(41821) accepted ('127.0.0.1', 62692)\n",
      "173.20.233.125,127.0.0.1 - - [22/Oct/2023 18:50:46] \"POST /add_step HTTP/1.1\" 200 166 0.000760\n"
     ]
    },
    {
     "name": "stdout",
     "output_type": "stream",
     "text": [
      "<Response [200]>\n"
     ]
    },
    {
     "name": "stderr",
     "output_type": "stream",
     "text": [
      "(41821) accepted ('127.0.0.1', 63998)\n",
      "173.20.233.125,127.0.0.1 - - [22/Oct/2023 18:50:47] \"POST /add_step HTTP/1.1\" 200 166 0.000683\n"
     ]
    },
    {
     "name": "stdout",
     "output_type": "stream",
     "text": [
      "<Response [200]>\n"
     ]
    },
    {
     "name": "stderr",
     "output_type": "stream",
     "text": [
      "(41821) accepted ('127.0.0.1', 65206)\n",
      "173.20.233.125,127.0.0.1 - - [22/Oct/2023 18:50:48] \"POST /add_step HTTP/1.1\" 200 166 0.000883\n"
     ]
    },
    {
     "name": "stdout",
     "output_type": "stream",
     "text": [
      "<Response [200]>\n"
     ]
    },
    {
     "name": "stderr",
     "output_type": "stream",
     "text": [
      "(41821) accepted ('127.0.0.1', 50120)\n",
      "173.20.233.125,127.0.0.1 - - [22/Oct/2023 18:50:48] \"POST /add_step HTTP/1.1\" 200 166 0.000943\n"
     ]
    },
    {
     "name": "stdout",
     "output_type": "stream",
     "text": [
      "<Response [200]>\n"
     ]
    },
    {
     "name": "stderr",
     "output_type": "stream",
     "text": [
      "(41821) accepted ('127.0.0.1', 51340)\n",
      "173.20.233.125,127.0.0.1 - - [22/Oct/2023 18:50:49] \"POST /add_step HTTP/1.1\" 200 166 0.000703\n"
     ]
    },
    {
     "name": "stdout",
     "output_type": "stream",
     "text": [
      "<Response [200]>\n"
     ]
    },
    {
     "name": "stderr",
     "output_type": "stream",
     "text": [
      "(41821) accepted ('127.0.0.1', 52585)\n",
      "173.20.233.125,127.0.0.1 - - [22/Oct/2023 18:50:50] \"POST /add_step HTTP/1.1\" 200 166 0.000622\n"
     ]
    },
    {
     "name": "stdout",
     "output_type": "stream",
     "text": [
      "<Response [200]>\n"
     ]
    },
    {
     "name": "stderr",
     "output_type": "stream",
     "text": [
      "(41821) accepted ('127.0.0.1', 53774)\n",
      "173.20.233.125,127.0.0.1 - - [22/Oct/2023 18:50:50] \"POST /add_step HTTP/1.1\" 200 166 0.000879\n"
     ]
    },
    {
     "name": "stdout",
     "output_type": "stream",
     "text": [
      "<Response [200]>\n"
     ]
    },
    {
     "name": "stderr",
     "output_type": "stream",
     "text": [
      "(41821) accepted ('127.0.0.1', 55112)\n",
      "173.20.233.125,127.0.0.1 - - [22/Oct/2023 18:50:51] \"POST /add_step HTTP/1.1\" 200 166 0.000644\n"
     ]
    },
    {
     "name": "stdout",
     "output_type": "stream",
     "text": [
      "<Response [200]>\n"
     ]
    },
    {
     "name": "stderr",
     "output_type": "stream",
     "text": [
      "(41821) accepted ('127.0.0.1', 56494)\n",
      "173.20.233.125,127.0.0.1 - - [22/Oct/2023 18:50:52] \"POST /add_step HTTP/1.1\" 200 166 0.001202\n"
     ]
    },
    {
     "name": "stdout",
     "output_type": "stream",
     "text": [
      "<Response [200]>\n"
     ]
    },
    {
     "name": "stderr",
     "output_type": "stream",
     "text": [
      "(41821) accepted ('127.0.0.1', 57695)\n",
      "173.20.233.125,127.0.0.1 - - [22/Oct/2023 18:50:52] \"POST /add_step HTTP/1.1\" 200 166 0.000646\n"
     ]
    },
    {
     "name": "stdout",
     "output_type": "stream",
     "text": [
      "<Response [200]>\n"
     ]
    },
    {
     "name": "stderr",
     "output_type": "stream",
     "text": [
      "(41821) accepted ('127.0.0.1', 58922)\n",
      "173.20.233.125,127.0.0.1 - - [22/Oct/2023 18:50:53] \"POST /add_step HTTP/1.1\" 200 166 0.000920\n"
     ]
    },
    {
     "name": "stdout",
     "output_type": "stream",
     "text": [
      "<Response [200]>\n"
     ]
    },
    {
     "name": "stderr",
     "output_type": "stream",
     "text": [
      "(41821) accepted ('127.0.0.1', 60212)\n",
      "173.20.233.125,127.0.0.1 - - [22/Oct/2023 18:50:54] \"POST /add_step HTTP/1.1\" 200 166 0.000551\n"
     ]
    },
    {
     "name": "stdout",
     "output_type": "stream",
     "text": [
      "<Response [200]>\n"
     ]
    },
    {
     "name": "stderr",
     "output_type": "stream",
     "text": [
      "(41821) accepted ('127.0.0.1', 61456)\n",
      "173.20.233.125,127.0.0.1 - - [22/Oct/2023 18:50:54] \"POST /add_step HTTP/1.1\" 200 166 0.000761\n"
     ]
    },
    {
     "name": "stdout",
     "output_type": "stream",
     "text": [
      "<Response [200]>\n"
     ]
    },
    {
     "name": "stderr",
     "output_type": "stream",
     "text": [
      "(41821) accepted ('127.0.0.1', 62578)\n",
      "173.20.233.125,127.0.0.1 - - [22/Oct/2023 18:50:55] \"POST /add_step HTTP/1.1\" 200 166 0.000616\n"
     ]
    },
    {
     "name": "stdout",
     "output_type": "stream",
     "text": [
      "<Response [200]>\n"
     ]
    },
    {
     "name": "stderr",
     "output_type": "stream",
     "text": [
      "(41821) accepted ('127.0.0.1', 63881)\n",
      "173.20.233.125,127.0.0.1 - - [22/Oct/2023 18:50:56] \"POST /add_step HTTP/1.1\" 200 166 0.000862\n"
     ]
    },
    {
     "name": "stdout",
     "output_type": "stream",
     "text": [
      "<Response [200]>\n"
     ]
    },
    {
     "name": "stderr",
     "output_type": "stream",
     "text": [
      "(41821) accepted ('127.0.0.1', 65427)\n",
      "173.20.233.125,127.0.0.1 - - [22/Oct/2023 18:50:57] \"POST /add_step HTTP/1.1\" 200 166 0.000636\n"
     ]
    },
    {
     "name": "stdout",
     "output_type": "stream",
     "text": [
      "<Response [200]>\n"
     ]
    },
    {
     "name": "stderr",
     "output_type": "stream",
     "text": [
      "(41821) accepted ('127.0.0.1', 50280)\n",
      "173.20.233.125,127.0.0.1 - - [22/Oct/2023 18:50:57] \"POST /add_step HTTP/1.1\" 200 166 0.000887\n"
     ]
    },
    {
     "name": "stdout",
     "output_type": "stream",
     "text": [
      "<Response [200]>\n"
     ]
    },
    {
     "name": "stderr",
     "output_type": "stream",
     "text": [
      "(41821) accepted ('127.0.0.1', 51484)\n",
      "173.20.233.125,127.0.0.1 - - [22/Oct/2023 18:50:58] \"POST /add_step HTTP/1.1\" 200 166 0.000866\n"
     ]
    },
    {
     "name": "stdout",
     "output_type": "stream",
     "text": [
      "<Response [200]>\n"
     ]
    },
    {
     "name": "stderr",
     "output_type": "stream",
     "text": [
      "(41821) accepted ('127.0.0.1', 52713)\n",
      "173.20.233.125,127.0.0.1 - - [22/Oct/2023 18:50:59] \"POST /add_step HTTP/1.1\" 200 166 0.000745\n"
     ]
    },
    {
     "name": "stdout",
     "output_type": "stream",
     "text": [
      "<Response [200]>\n"
     ]
    },
    {
     "name": "stderr",
     "output_type": "stream",
     "text": [
      "(41821) accepted ('127.0.0.1', 53959)\n",
      "173.20.233.125,127.0.0.1 - - [22/Oct/2023 18:50:59] \"POST /add_step HTTP/1.1\" 200 166 0.000796\n"
     ]
    },
    {
     "name": "stdout",
     "output_type": "stream",
     "text": [
      "<Response [200]>\n"
     ]
    },
    {
     "name": "stderr",
     "output_type": "stream",
     "text": [
      "(41821) accepted ('127.0.0.1', 55251)\n",
      "173.20.233.125,127.0.0.1 - - [22/Oct/2023 18:51:00] \"POST /add_step HTTP/1.1\" 200 166 0.000520\n"
     ]
    },
    {
     "name": "stdout",
     "output_type": "stream",
     "text": [
      "<Response [200]>\n"
     ]
    },
    {
     "name": "stderr",
     "output_type": "stream",
     "text": [
      "(41821) accepted ('127.0.0.1', 56495)\n",
      "173.20.233.125,127.0.0.1 - - [22/Oct/2023 18:51:01] \"POST /add_step HTTP/1.1\" 200 166 0.000673\n"
     ]
    },
    {
     "name": "stdout",
     "output_type": "stream",
     "text": [
      "<Response [200]>\n"
     ]
    },
    {
     "name": "stderr",
     "output_type": "stream",
     "text": [
      "(41821) accepted ('127.0.0.1', 57746)\n",
      "173.20.233.125,127.0.0.1 - - [22/Oct/2023 18:51:01] \"POST /add_step HTTP/1.1\" 200 166 0.000634\n"
     ]
    },
    {
     "name": "stdout",
     "output_type": "stream",
     "text": [
      "<Response [200]>\n"
     ]
    },
    {
     "name": "stderr",
     "output_type": "stream",
     "text": [
      "(41821) accepted ('127.0.0.1', 58987)\n",
      "173.20.233.125,127.0.0.1 - - [22/Oct/2023 18:51:02] \"POST /add_step HTTP/1.1\" 200 166 0.000636\n"
     ]
    },
    {
     "name": "stdout",
     "output_type": "stream",
     "text": [
      "<Response [200]>\n"
     ]
    },
    {
     "name": "stderr",
     "output_type": "stream",
     "text": [
      "(41821) accepted ('127.0.0.1', 60449)\n",
      "173.20.233.125,127.0.0.1 - - [22/Oct/2023 18:51:03] \"POST /add_step HTTP/1.1\" 200 166 0.001091\n"
     ]
    },
    {
     "name": "stdout",
     "output_type": "stream",
     "text": [
      "<Response [200]>\n"
     ]
    },
    {
     "name": "stderr",
     "output_type": "stream",
     "text": [
      "(41821) accepted ('127.0.0.1', 61871)\n",
      "173.20.233.125,127.0.0.1 - - [22/Oct/2023 18:51:04] \"POST /add_step HTTP/1.1\" 200 166 0.000751\n"
     ]
    },
    {
     "name": "stdout",
     "output_type": "stream",
     "text": [
      "<Response [200]>\n"
     ]
    },
    {
     "name": "stderr",
     "output_type": "stream",
     "text": [
      "(41821) accepted ('127.0.0.1', 63207)\n",
      "173.20.233.125,127.0.0.1 - - [22/Oct/2023 18:51:04] \"POST /add_step HTTP/1.1\" 200 166 0.000773\n"
     ]
    },
    {
     "name": "stdout",
     "output_type": "stream",
     "text": [
      "<Response [200]>\n"
     ]
    },
    {
     "name": "stderr",
     "output_type": "stream",
     "text": [
      "(41821) accepted ('127.0.0.1', 64395)\n",
      "173.20.233.125,127.0.0.1 - - [22/Oct/2023 18:51:05] \"POST /add_step HTTP/1.1\" 200 166 0.000816\n"
     ]
    },
    {
     "name": "stdout",
     "output_type": "stream",
     "text": [
      "<Response [200]>\n"
     ]
    },
    {
     "name": "stderr",
     "output_type": "stream",
     "text": [
      "(41821) accepted ('127.0.0.1', 49242)\n",
      "173.20.233.125,127.0.0.1 - - [22/Oct/2023 18:51:06] \"POST /add_step HTTP/1.1\" 200 166 0.000655\n"
     ]
    },
    {
     "name": "stdout",
     "output_type": "stream",
     "text": [
      "<Response [200]>\n"
     ]
    },
    {
     "name": "stderr",
     "output_type": "stream",
     "text": [
      "(41821) accepted ('127.0.0.1', 50582)\n",
      "173.20.233.125,127.0.0.1 - - [22/Oct/2023 18:51:06] \"POST /add_step HTTP/1.1\" 200 166 0.000969\n"
     ]
    },
    {
     "name": "stdout",
     "output_type": "stream",
     "text": [
      "<Response [200]>\n"
     ]
    },
    {
     "name": "stderr",
     "output_type": "stream",
     "text": [
      "(41821) accepted ('127.0.0.1', 51907)\n",
      "173.20.233.125,127.0.0.1 - - [22/Oct/2023 18:51:07] \"POST /add_step HTTP/1.1\" 200 166 0.003091\n"
     ]
    },
    {
     "name": "stdout",
     "output_type": "stream",
     "text": [
      "<Response [200]>\n"
     ]
    },
    {
     "name": "stderr",
     "output_type": "stream",
     "text": [
      "(41821) accepted ('127.0.0.1', 53353)\n",
      "173.20.233.125,127.0.0.1 - - [22/Oct/2023 18:51:08] \"POST /add_step HTTP/1.1\" 200 166 0.000438\n"
     ]
    },
    {
     "name": "stdout",
     "output_type": "stream",
     "text": [
      "<Response [200]>\n"
     ]
    },
    {
     "name": "stderr",
     "output_type": "stream",
     "text": [
      "(41821) accepted ('127.0.0.1', 54554)\n",
      "173.20.233.125,127.0.0.1 - - [22/Oct/2023 18:51:08] \"POST /add_step HTTP/1.1\" 200 166 0.000524\n"
     ]
    },
    {
     "name": "stdout",
     "output_type": "stream",
     "text": [
      "<Response [200]>\n"
     ]
    },
    {
     "name": "stderr",
     "output_type": "stream",
     "text": [
      "(41821) accepted ('127.0.0.1', 55990)\n",
      "173.20.233.125,127.0.0.1 - - [22/Oct/2023 18:51:09] \"POST /add_step HTTP/1.1\" 200 166 0.000995\n"
     ]
    },
    {
     "name": "stdout",
     "output_type": "stream",
     "text": [
      "<Response [200]>\n"
     ]
    },
    {
     "name": "stderr",
     "output_type": "stream",
     "text": [
      "(41821) accepted ('127.0.0.1', 57388)\n",
      "173.20.233.125,127.0.0.1 - - [22/Oct/2023 18:51:10] \"POST /add_step HTTP/1.1\" 200 166 0.000800\n"
     ]
    },
    {
     "name": "stdout",
     "output_type": "stream",
     "text": [
      "<Response [200]>\n"
     ]
    },
    {
     "name": "stderr",
     "output_type": "stream",
     "text": [
      "(41821) accepted ('127.0.0.1', 58733)\n",
      "173.20.233.125,127.0.0.1 - - [22/Oct/2023 18:51:11] \"POST /add_step HTTP/1.1\" 200 166 0.000587\n"
     ]
    },
    {
     "name": "stdout",
     "output_type": "stream",
     "text": [
      "<Response [200]>\n"
     ]
    },
    {
     "name": "stderr",
     "output_type": "stream",
     "text": [
      "(41821) accepted ('127.0.0.1', 60002)\n",
      "173.20.233.125,127.0.0.1 - - [22/Oct/2023 18:51:11] \"POST /add_step HTTP/1.1\" 200 166 0.000651\n"
     ]
    },
    {
     "name": "stdout",
     "output_type": "stream",
     "text": [
      "<Response [200]>\n"
     ]
    },
    {
     "name": "stderr",
     "output_type": "stream",
     "text": [
      "(41821) accepted ('127.0.0.1', 61181)\n",
      "173.20.233.125,127.0.0.1 - - [22/Oct/2023 18:51:12] \"POST /add_step HTTP/1.1\" 200 166 0.001096\n"
     ]
    },
    {
     "name": "stdout",
     "output_type": "stream",
     "text": [
      "<Response [200]>\n"
     ]
    },
    {
     "name": "stderr",
     "output_type": "stream",
     "text": [
      "(41821) accepted ('127.0.0.1', 62391)\n",
      "173.20.233.125,127.0.0.1 - - [22/Oct/2023 18:51:13] \"POST /add_step HTTP/1.1\" 200 166 0.000889\n"
     ]
    },
    {
     "name": "stdout",
     "output_type": "stream",
     "text": [
      "<Response [200]>\n"
     ]
    },
    {
     "name": "stderr",
     "output_type": "stream",
     "text": [
      "(41821) accepted ('127.0.0.1', 63595)\n",
      "173.20.233.125,127.0.0.1 - - [22/Oct/2023 18:51:13] \"POST /add_step HTTP/1.1\" 200 166 0.000547\n"
     ]
    },
    {
     "name": "stdout",
     "output_type": "stream",
     "text": [
      "<Response [200]>\n"
     ]
    },
    {
     "name": "stderr",
     "output_type": "stream",
     "text": [
      "(41821) accepted ('127.0.0.1', 64810)\n",
      "173.20.233.125,127.0.0.1 - - [22/Oct/2023 18:51:14] \"POST /add_step HTTP/1.1\" 200 166 0.000770\n"
     ]
    },
    {
     "name": "stdout",
     "output_type": "stream",
     "text": [
      "<Response [200]>\n"
     ]
    },
    {
     "name": "stderr",
     "output_type": "stream",
     "text": [
      "(41821) accepted ('127.0.0.1', 49668)\n",
      "173.20.233.125,127.0.0.1 - - [22/Oct/2023 18:51:15] \"POST /add_step HTTP/1.1\" 200 166 0.000938\n"
     ]
    },
    {
     "name": "stdout",
     "output_type": "stream",
     "text": [
      "<Response [200]>\n"
     ]
    },
    {
     "name": "stderr",
     "output_type": "stream",
     "text": [
      "(41821) accepted ('127.0.0.1', 50866)\n",
      "173.20.233.125,127.0.0.1 - - [22/Oct/2023 18:51:15] \"POST /add_step HTTP/1.1\" 200 166 0.000455\n"
     ]
    },
    {
     "name": "stdout",
     "output_type": "stream",
     "text": [
      "<Response [200]>\n"
     ]
    },
    {
     "name": "stderr",
     "output_type": "stream",
     "text": [
      "(41821) accepted ('127.0.0.1', 52044)\n",
      "173.20.233.125,127.0.0.1 - - [22/Oct/2023 18:51:16] \"POST /add_step HTTP/1.1\" 200 166 0.001149\n"
     ]
    },
    {
     "name": "stdout",
     "output_type": "stream",
     "text": [
      "<Response [200]>\n"
     ]
    },
    {
     "name": "stderr",
     "output_type": "stream",
     "text": [
      "(41821) accepted ('127.0.0.1', 53251)\n",
      "173.20.233.125,127.0.0.1 - - [22/Oct/2023 18:51:17] \"POST /add_step HTTP/1.1\" 200 166 0.000433\n"
     ]
    },
    {
     "name": "stdout",
     "output_type": "stream",
     "text": [
      "<Response [200]>\n"
     ]
    },
    {
     "name": "stderr",
     "output_type": "stream",
     "text": [
      "(41821) accepted ('127.0.0.1', 54410)\n",
      "173.20.233.125,127.0.0.1 - - [22/Oct/2023 18:51:17] \"POST /add_step HTTP/1.1\" 200 166 0.000693\n"
     ]
    },
    {
     "name": "stdout",
     "output_type": "stream",
     "text": [
      "<Response [200]>\n"
     ]
    },
    {
     "name": "stderr",
     "output_type": "stream",
     "text": [
      "(41821) accepted ('127.0.0.1', 55610)\n",
      "173.20.233.125,127.0.0.1 - - [22/Oct/2023 18:51:18] \"POST /add_step HTTP/1.1\" 200 166 0.001009\n"
     ]
    },
    {
     "name": "stdout",
     "output_type": "stream",
     "text": [
      "<Response [200]>\n"
     ]
    },
    {
     "name": "stderr",
     "output_type": "stream",
     "text": [
      "(41821) accepted ('127.0.0.1', 56810)\n",
      "173.20.233.125,127.0.0.1 - - [22/Oct/2023 18:51:19] \"POST /add_step HTTP/1.1\" 200 166 0.000702\n"
     ]
    },
    {
     "name": "stdout",
     "output_type": "stream",
     "text": [
      "<Response [200]>\n"
     ]
    },
    {
     "name": "stderr",
     "output_type": "stream",
     "text": [
      "(41821) accepted ('127.0.0.1', 58125)\n",
      "173.20.233.125,127.0.0.1 - - [22/Oct/2023 18:51:19] \"POST /add_step HTTP/1.1\" 200 166 0.000652\n"
     ]
    },
    {
     "name": "stdout",
     "output_type": "stream",
     "text": [
      "<Response [200]>\n"
     ]
    },
    {
     "name": "stderr",
     "output_type": "stream",
     "text": [
      "(41821) accepted ('127.0.0.1', 59500)\n",
      "173.20.233.125,127.0.0.1 - - [22/Oct/2023 18:51:20] \"POST /add_step HTTP/1.1\" 200 166 0.000633\n"
     ]
    },
    {
     "name": "stdout",
     "output_type": "stream",
     "text": [
      "<Response [200]>\n"
     ]
    },
    {
     "name": "stderr",
     "output_type": "stream",
     "text": [
      "(41821) accepted ('127.0.0.1', 61347)\n",
      "173.20.233.125,127.0.0.1 - - [22/Oct/2023 18:51:21] \"POST /add_step HTTP/1.1\" 200 166 0.000912\n"
     ]
    },
    {
     "name": "stdout",
     "output_type": "stream",
     "text": [
      "<Response [200]>\n"
     ]
    },
    {
     "name": "stderr",
     "output_type": "stream",
     "text": [
      "(41821) accepted ('127.0.0.1', 63202)\n",
      "173.20.233.125,127.0.0.1 - - [22/Oct/2023 18:51:22] \"POST /add_step HTTP/1.1\" 200 166 0.000977\n"
     ]
    },
    {
     "name": "stdout",
     "output_type": "stream",
     "text": [
      "<Response [200]>\n"
     ]
    },
    {
     "name": "stderr",
     "output_type": "stream",
     "text": [
      "(41821) accepted ('127.0.0.1', 64973)\n",
      "173.20.233.125,127.0.0.1 - - [22/Oct/2023 18:51:23] \"POST /add_step HTTP/1.1\" 200 166 0.000683\n"
     ]
    },
    {
     "name": "stdout",
     "output_type": "stream",
     "text": [
      "<Response [200]>\n"
     ]
    },
    {
     "name": "stderr",
     "output_type": "stream",
     "text": [
      "(41821) accepted ('127.0.0.1', 50080)\n",
      "173.20.233.125,127.0.0.1 - - [22/Oct/2023 18:51:24] \"POST /add_step HTTP/1.1\" 200 166 0.000772\n"
     ]
    },
    {
     "name": "stdout",
     "output_type": "stream",
     "text": [
      "<Response [200]>\n"
     ]
    },
    {
     "name": "stderr",
     "output_type": "stream",
     "text": [
      "(41821) accepted ('127.0.0.1', 51923)\n",
      "173.20.233.125,127.0.0.1 - - [22/Oct/2023 18:51:25] \"POST /add_step HTTP/1.1\" 200 166 0.000446\n"
     ]
    },
    {
     "name": "stdout",
     "output_type": "stream",
     "text": [
      "<Response [200]>\n"
     ]
    },
    {
     "name": "stderr",
     "output_type": "stream",
     "text": [
      "(41821) accepted ('127.0.0.1', 53086)\n",
      "173.20.233.125,127.0.0.1 - - [22/Oct/2023 18:51:25] \"POST /add_step HTTP/1.1\" 200 166 0.000446\n"
     ]
    },
    {
     "name": "stdout",
     "output_type": "stream",
     "text": [
      "<Response [200]>\n"
     ]
    },
    {
     "name": "stderr",
     "output_type": "stream",
     "text": [
      "(41821) accepted ('127.0.0.1', 54264)\n",
      "173.20.233.125,127.0.0.1 - - [22/Oct/2023 18:51:26] \"POST /add_step HTTP/1.1\" 200 166 0.000488\n"
     ]
    },
    {
     "name": "stdout",
     "output_type": "stream",
     "text": [
      "<Response [200]>\n"
     ]
    },
    {
     "name": "stderr",
     "output_type": "stream",
     "text": [
      "(41821) accepted ('127.0.0.1', 55411)\n",
      "173.20.233.125,127.0.0.1 - - [22/Oct/2023 18:51:27] \"POST /add_step HTTP/1.1\" 200 166 0.000566\n"
     ]
    },
    {
     "name": "stdout",
     "output_type": "stream",
     "text": [
      "<Response [200]>\n"
     ]
    },
    {
     "name": "stderr",
     "output_type": "stream",
     "text": [
      "(41821) accepted ('127.0.0.1', 56693)\n",
      "173.20.233.125,127.0.0.1 - - [22/Oct/2023 18:51:27] \"POST /add_step HTTP/1.1\" 200 166 0.000667\n"
     ]
    },
    {
     "name": "stdout",
     "output_type": "stream",
     "text": [
      "<Response [200]>\n"
     ]
    },
    {
     "name": "stderr",
     "output_type": "stream",
     "text": [
      "(41821) accepted ('127.0.0.1', 58090)\n",
      "173.20.233.125,127.0.0.1 - - [22/Oct/2023 18:51:28] \"POST /add_step HTTP/1.1\" 200 166 0.000494\n"
     ]
    },
    {
     "name": "stdout",
     "output_type": "stream",
     "text": [
      "<Response [200]>\n"
     ]
    },
    {
     "name": "stderr",
     "output_type": "stream",
     "text": [
      "(41821) accepted ('127.0.0.1', 59493)\n",
      "173.20.233.125,127.0.0.1 - - [22/Oct/2023 18:51:29] \"POST /add_step HTTP/1.1\" 200 166 0.004943\n"
     ]
    },
    {
     "name": "stdout",
     "output_type": "stream",
     "text": [
      "<Response [200]>\n"
     ]
    },
    {
     "name": "stderr",
     "output_type": "stream",
     "text": [
      "(41821) accepted ('127.0.0.1', 60853)\n",
      "173.20.233.125,127.0.0.1 - - [22/Oct/2023 18:51:30] \"POST /add_step HTTP/1.1\" 200 166 0.000638\n"
     ]
    },
    {
     "name": "stdout",
     "output_type": "stream",
     "text": [
      "<Response [200]>\n"
     ]
    },
    {
     "name": "stderr",
     "output_type": "stream",
     "text": [
      "(41821) accepted ('127.0.0.1', 62177)\n",
      "173.20.233.125,127.0.0.1 - - [22/Oct/2023 18:51:30] \"POST /add_step HTTP/1.1\" 200 166 0.000734\n"
     ]
    },
    {
     "name": "stdout",
     "output_type": "stream",
     "text": [
      "<Response [200]>\n"
     ]
    },
    {
     "name": "stderr",
     "output_type": "stream",
     "text": [
      "(41821) accepted ('127.0.0.1', 63337)\n",
      "173.20.233.125,127.0.0.1 - - [22/Oct/2023 18:51:31] \"POST /add_step HTTP/1.1\" 200 166 0.000672\n"
     ]
    },
    {
     "name": "stdout",
     "output_type": "stream",
     "text": [
      "<Response [200]>\n"
     ]
    },
    {
     "name": "stderr",
     "output_type": "stream",
     "text": [
      "(41821) accepted ('127.0.0.1', 64467)\n",
      "173.20.233.125,127.0.0.1 - - [22/Oct/2023 18:51:32] \"POST /add_step HTTP/1.1\" 200 166 0.000890\n"
     ]
    },
    {
     "name": "stdout",
     "output_type": "stream",
     "text": [
      "<Response [200]>\n"
     ]
    },
    {
     "name": "stderr",
     "output_type": "stream",
     "text": [
      "(41821) accepted ('127.0.0.1', 49295)\n",
      "173.20.233.125,127.0.0.1 - - [22/Oct/2023 18:51:32] \"POST /add_step HTTP/1.1\" 200 166 0.000574\n"
     ]
    },
    {
     "name": "stdout",
     "output_type": "stream",
     "text": [
      "<Response [200]>\n"
     ]
    },
    {
     "name": "stderr",
     "output_type": "stream",
     "text": [
      "(41821) accepted ('127.0.0.1', 50473)\n",
      "173.20.233.125,127.0.0.1 - - [22/Oct/2023 18:51:33] \"POST /add_step HTTP/1.1\" 200 166 0.000716\n"
     ]
    },
    {
     "name": "stdout",
     "output_type": "stream",
     "text": [
      "<Response [200]>\n"
     ]
    },
    {
     "name": "stderr",
     "output_type": "stream",
     "text": [
      "(41821) accepted ('127.0.0.1', 51653)\n",
      "173.20.233.125,127.0.0.1 - - [22/Oct/2023 18:51:33] \"POST /add_step HTTP/1.1\" 200 166 0.000708\n"
     ]
    },
    {
     "name": "stdout",
     "output_type": "stream",
     "text": [
      "<Response [200]>\n"
     ]
    },
    {
     "name": "stderr",
     "output_type": "stream",
     "text": [
      "(41821) accepted ('127.0.0.1', 53027)\n",
      "173.20.233.125,127.0.0.1 - - [22/Oct/2023 18:51:34] \"POST /add_step HTTP/1.1\" 200 166 0.000647\n"
     ]
    },
    {
     "name": "stdout",
     "output_type": "stream",
     "text": [
      "<Response [200]>\n"
     ]
    },
    {
     "name": "stderr",
     "output_type": "stream",
     "text": [
      "(41821) accepted ('127.0.0.1', 54209)\n",
      "173.20.233.125,127.0.0.1 - - [22/Oct/2023 18:51:35] \"POST /add_step HTTP/1.1\" 200 166 0.000666\n"
     ]
    },
    {
     "name": "stdout",
     "output_type": "stream",
     "text": [
      "<Response [200]>\n"
     ]
    },
    {
     "name": "stderr",
     "output_type": "stream",
     "text": [
      "(41821) accepted ('127.0.0.1', 55385)\n",
      "173.20.233.125,127.0.0.1 - - [22/Oct/2023 18:51:36] \"POST /add_step HTTP/1.1\" 200 166 0.000621\n"
     ]
    },
    {
     "name": "stdout",
     "output_type": "stream",
     "text": [
      "<Response [200]>\n"
     ]
    },
    {
     "name": "stderr",
     "output_type": "stream",
     "text": [
      "(41821) accepted ('127.0.0.1', 56548)\n",
      "173.20.233.125,127.0.0.1 - - [22/Oct/2023 18:51:36] \"POST /add_step HTTP/1.1\" 200 166 0.001015\n"
     ]
    },
    {
     "name": "stdout",
     "output_type": "stream",
     "text": [
      "<Response [200]>\n"
     ]
    },
    {
     "name": "stderr",
     "output_type": "stream",
     "text": [
      "(41821) accepted ('127.0.0.1', 57796)\n",
      "173.20.233.125,127.0.0.1 - - [22/Oct/2023 18:51:37] \"POST /add_step HTTP/1.1\" 200 166 0.001130\n"
     ]
    },
    {
     "name": "stdout",
     "output_type": "stream",
     "text": [
      "<Response [200]>\n"
     ]
    },
    {
     "name": "stderr",
     "output_type": "stream",
     "text": [
      "(41821) accepted ('127.0.0.1', 58934)\n",
      "173.20.233.125,127.0.0.1 - - [22/Oct/2023 18:51:37] \"POST /add_step HTTP/1.1\" 200 166 0.000856\n"
     ]
    },
    {
     "name": "stdout",
     "output_type": "stream",
     "text": [
      "<Response [200]>\n"
     ]
    },
    {
     "name": "stderr",
     "output_type": "stream",
     "text": [
      "(41821) accepted ('127.0.0.1', 60112)\n",
      "173.20.233.125,127.0.0.1 - - [22/Oct/2023 18:51:38] \"POST /add_step HTTP/1.1\" 200 166 0.000762\n"
     ]
    },
    {
     "name": "stdout",
     "output_type": "stream",
     "text": [
      "<Response [200]>\n"
     ]
    },
    {
     "name": "stderr",
     "output_type": "stream",
     "text": [
      "(41821) accepted ('127.0.0.1', 61308)\n",
      "173.20.233.125,127.0.0.1 - - [22/Oct/2023 18:51:39] \"POST /add_step HTTP/1.1\" 200 166 0.000628\n"
     ]
    },
    {
     "name": "stdout",
     "output_type": "stream",
     "text": [
      "<Response [200]>\n"
     ]
    },
    {
     "name": "stderr",
     "output_type": "stream",
     "text": [
      "(41821) accepted ('127.0.0.1', 62549)\n",
      "173.20.233.125,127.0.0.1 - - [22/Oct/2023 18:51:39] \"POST /add_step HTTP/1.1\" 200 166 0.000696\n"
     ]
    },
    {
     "name": "stdout",
     "output_type": "stream",
     "text": [
      "<Response [200]>\n"
     ]
    },
    {
     "name": "stderr",
     "output_type": "stream",
     "text": [
      "(41821) accepted ('127.0.0.1', 63728)\n",
      "173.20.233.125,127.0.0.1 - - [22/Oct/2023 18:51:40] \"POST /add_step HTTP/1.1\" 200 166 0.000669\n"
     ]
    },
    {
     "name": "stdout",
     "output_type": "stream",
     "text": [
      "<Response [200]>\n"
     ]
    },
    {
     "name": "stderr",
     "output_type": "stream",
     "text": [
      "(41821) accepted ('127.0.0.1', 64903)\n",
      "173.20.233.125,127.0.0.1 - - [22/Oct/2023 18:51:41] \"POST /add_step HTTP/1.1\" 200 166 0.000758\n"
     ]
    },
    {
     "name": "stdout",
     "output_type": "stream",
     "text": [
      "<Response [200]>\n"
     ]
    },
    {
     "name": "stderr",
     "output_type": "stream",
     "text": [
      "(41821) accepted ('127.0.0.1', 49747)\n",
      "173.20.233.125,127.0.0.1 - - [22/Oct/2023 18:51:41] \"POST /add_step HTTP/1.1\" 200 166 0.000598\n"
     ]
    },
    {
     "name": "stdout",
     "output_type": "stream",
     "text": [
      "<Response [200]>\n"
     ]
    },
    {
     "name": "stderr",
     "output_type": "stream",
     "text": [
      "(41821) accepted ('127.0.0.1', 50952)\n",
      "173.20.233.125,127.0.0.1 - - [22/Oct/2023 18:51:42] \"POST /add_step HTTP/1.1\" 200 166 0.000500\n"
     ]
    },
    {
     "name": "stdout",
     "output_type": "stream",
     "text": [
      "<Response [200]>\n"
     ]
    },
    {
     "name": "stderr",
     "output_type": "stream",
     "text": [
      "(41821) accepted ('127.0.0.1', 52199)\n",
      "173.20.233.125,127.0.0.1 - - [22/Oct/2023 18:51:43] \"POST /add_step HTTP/1.1\" 200 166 0.000626\n"
     ]
    },
    {
     "name": "stdout",
     "output_type": "stream",
     "text": [
      "<Response [200]>\n"
     ]
    },
    {
     "name": "stderr",
     "output_type": "stream",
     "text": [
      "(41821) accepted ('127.0.0.1', 53372)\n",
      "173.20.233.125,127.0.0.1 - - [22/Oct/2023 18:51:43] \"POST /add_step HTTP/1.1\" 200 166 0.000566\n"
     ]
    },
    {
     "name": "stdout",
     "output_type": "stream",
     "text": [
      "<Response [200]>\n"
     ]
    },
    {
     "name": "stderr",
     "output_type": "stream",
     "text": [
      "(41821) accepted ('127.0.0.1', 54564)\n",
      "173.20.233.125,127.0.0.1 - - [22/Oct/2023 18:51:44] \"POST /add_step HTTP/1.1\" 200 166 0.000641\n"
     ]
    },
    {
     "name": "stdout",
     "output_type": "stream",
     "text": [
      "<Response [200]>\n"
     ]
    },
    {
     "name": "stderr",
     "output_type": "stream",
     "text": [
      "(41821) accepted ('127.0.0.1', 55831)\n",
      "173.20.233.125,127.0.0.1 - - [22/Oct/2023 18:51:45] \"POST /add_step HTTP/1.1\" 200 166 0.001053\n"
     ]
    },
    {
     "name": "stdout",
     "output_type": "stream",
     "text": [
      "<Response [200]>\n"
     ]
    },
    {
     "name": "stderr",
     "output_type": "stream",
     "text": [
      "(41821) accepted ('127.0.0.1', 57082)\n",
      "173.20.233.125,127.0.0.1 - - [22/Oct/2023 18:51:45] \"POST /add_step HTTP/1.1\" 200 166 0.000488\n"
     ]
    },
    {
     "name": "stdout",
     "output_type": "stream",
     "text": [
      "<Response [200]>\n"
     ]
    },
    {
     "name": "stderr",
     "output_type": "stream",
     "text": [
      "(41821) accepted ('127.0.0.1', 58295)\n",
      "173.20.233.125,127.0.0.1 - - [22/Oct/2023 18:51:46] \"POST /add_step HTTP/1.1\" 200 166 0.000647\n"
     ]
    },
    {
     "name": "stdout",
     "output_type": "stream",
     "text": [
      "<Response [200]>\n"
     ]
    },
    {
     "name": "stderr",
     "output_type": "stream",
     "text": [
      "(41821) accepted ('127.0.0.1', 59520)\n",
      "173.20.233.125,127.0.0.1 - - [22/Oct/2023 18:51:47] \"POST /add_step HTTP/1.1\" 200 166 0.000654\n"
     ]
    },
    {
     "name": "stdout",
     "output_type": "stream",
     "text": [
      "<Response [200]>\n"
     ]
    },
    {
     "name": "stderr",
     "output_type": "stream",
     "text": [
      "(41821) accepted ('127.0.0.1', 60760)\n",
      "173.20.233.125,127.0.0.1 - - [22/Oct/2023 18:51:47] \"POST /add_step HTTP/1.1\" 200 166 0.000791\n"
     ]
    },
    {
     "name": "stdout",
     "output_type": "stream",
     "text": [
      "<Response [200]>\n"
     ]
    },
    {
     "name": "stderr",
     "output_type": "stream",
     "text": [
      "(41821) accepted ('127.0.0.1', 61972)\n",
      "173.20.233.125,127.0.0.1 - - [22/Oct/2023 18:51:48] \"POST /add_step HTTP/1.1\" 200 166 0.000677\n"
     ]
    },
    {
     "name": "stdout",
     "output_type": "stream",
     "text": [
      "<Response [200]>\n"
     ]
    },
    {
     "name": "stderr",
     "output_type": "stream",
     "text": [
      "(41821) accepted ('127.0.0.1', 63133)\n",
      "173.20.233.125,127.0.0.1 - - [22/Oct/2023 18:51:49] \"POST /add_step HTTP/1.1\" 200 166 0.000783\n"
     ]
    },
    {
     "name": "stdout",
     "output_type": "stream",
     "text": [
      "<Response [200]>\n"
     ]
    },
    {
     "name": "stderr",
     "output_type": "stream",
     "text": [
      "(41821) accepted ('127.0.0.1', 64329)\n",
      "173.20.233.125,127.0.0.1 - - [22/Oct/2023 18:51:49] \"POST /add_step HTTP/1.1\" 200 166 0.000740\n"
     ]
    },
    {
     "name": "stdout",
     "output_type": "stream",
     "text": [
      "<Response [200]>\n"
     ]
    },
    {
     "name": "stderr",
     "output_type": "stream",
     "text": [
      "(41821) accepted ('127.0.0.1', 49247)\n",
      "173.20.233.125,127.0.0.1 - - [22/Oct/2023 18:51:50] \"POST /add_step HTTP/1.1\" 200 166 0.000738\n"
     ]
    },
    {
     "name": "stdout",
     "output_type": "stream",
     "text": [
      "<Response [200]>\n"
     ]
    },
    {
     "name": "stderr",
     "output_type": "stream",
     "text": [
      "(41821) accepted ('127.0.0.1', 50875)\n",
      "173.20.233.125,127.0.0.1 - - [22/Oct/2023 18:51:51] \"POST /add_step HTTP/1.1\" 200 166 0.000505\n"
     ]
    },
    {
     "name": "stdout",
     "output_type": "stream",
     "text": [
      "<Response [200]>\n"
     ]
    },
    {
     "name": "stderr",
     "output_type": "stream",
     "text": [
      "(41821) accepted ('127.0.0.1', 52514)\n",
      "173.20.233.125,127.0.0.1 - - [22/Oct/2023 18:51:52] \"POST /add_step HTTP/1.1\" 200 166 0.000646\n"
     ]
    },
    {
     "name": "stdout",
     "output_type": "stream",
     "text": [
      "<Response [200]>\n"
     ]
    },
    {
     "name": "stderr",
     "output_type": "stream",
     "text": [
      "(41821) accepted ('127.0.0.1', 53843)\n",
      "173.20.233.125,127.0.0.1 - - [22/Oct/2023 18:51:52] \"POST /add_step HTTP/1.1\" 200 166 0.001340\n"
     ]
    },
    {
     "name": "stdout",
     "output_type": "stream",
     "text": [
      "<Response [200]>\n"
     ]
    },
    {
     "name": "stderr",
     "output_type": "stream",
     "text": [
      "(41821) accepted ('127.0.0.1', 55185)\n",
      "173.20.233.125,127.0.0.1 - - [22/Oct/2023 18:51:53] \"POST /add_step HTTP/1.1\" 200 166 0.000627\n"
     ]
    },
    {
     "name": "stdout",
     "output_type": "stream",
     "text": [
      "<Response [200]>\n"
     ]
    },
    {
     "name": "stderr",
     "output_type": "stream",
     "text": [
      "(41821) accepted ('127.0.0.1', 56333)\n",
      "173.20.233.125,127.0.0.1 - - [22/Oct/2023 18:51:54] \"POST /add_step HTTP/1.1\" 200 166 0.000614\n"
     ]
    },
    {
     "name": "stdout",
     "output_type": "stream",
     "text": [
      "<Response [200]>\n"
     ]
    },
    {
     "name": "stderr",
     "output_type": "stream",
     "text": [
      "(41821) accepted ('127.0.0.1', 57568)\n",
      "173.20.233.125,127.0.0.1 - - [22/Oct/2023 18:51:54] \"POST /add_step HTTP/1.1\" 200 166 0.000652\n"
     ]
    },
    {
     "name": "stdout",
     "output_type": "stream",
     "text": [
      "<Response [200]>\n"
     ]
    },
    {
     "name": "stderr",
     "output_type": "stream",
     "text": [
      "(41821) accepted ('127.0.0.1', 58841)\n",
      "173.20.233.125,127.0.0.1 - - [22/Oct/2023 18:51:55] \"POST /add_step HTTP/1.1\" 200 166 0.000638\n"
     ]
    },
    {
     "name": "stdout",
     "output_type": "stream",
     "text": [
      "<Response [200]>\n"
     ]
    },
    {
     "name": "stderr",
     "output_type": "stream",
     "text": [
      "(41821) accepted ('127.0.0.1', 59983)\n",
      "173.20.233.125,127.0.0.1 - - [22/Oct/2023 18:51:56] \"POST /add_step HTTP/1.1\" 200 166 0.000785\n"
     ]
    },
    {
     "name": "stdout",
     "output_type": "stream",
     "text": [
      "<Response [200]>\n"
     ]
    },
    {
     "name": "stderr",
     "output_type": "stream",
     "text": [
      "(41821) accepted ('127.0.0.1', 61097)\n",
      "173.20.233.125,127.0.0.1 - - [22/Oct/2023 18:51:56] \"POST /add_step HTTP/1.1\" 200 166 0.000665\n"
     ]
    },
    {
     "name": "stdout",
     "output_type": "stream",
     "text": [
      "<Response [200]>\n"
     ]
    },
    {
     "name": "stderr",
     "output_type": "stream",
     "text": [
      "(41821) accepted ('127.0.0.1', 62212)\n",
      "173.20.233.125,127.0.0.1 - - [22/Oct/2023 18:51:57] \"POST /add_step HTTP/1.1\" 200 166 0.000968\n"
     ]
    },
    {
     "name": "stdout",
     "output_type": "stream",
     "text": [
      "<Response [200]>\n"
     ]
    },
    {
     "name": "stderr",
     "output_type": "stream",
     "text": [
      "(41821) accepted ('127.0.0.1', 63378)\n",
      "173.20.233.125,127.0.0.1 - - [22/Oct/2023 18:51:58] \"POST /add_step HTTP/1.1\" 200 166 0.001069\n"
     ]
    },
    {
     "name": "stdout",
     "output_type": "stream",
     "text": [
      "<Response [200]>\n"
     ]
    },
    {
     "name": "stderr",
     "output_type": "stream",
     "text": [
      "(41821) accepted ('127.0.0.1', 64528)\n",
      "173.20.233.125,127.0.0.1 - - [22/Oct/2023 18:51:58] \"POST /add_step HTTP/1.1\" 200 166 0.000626\n"
     ]
    },
    {
     "name": "stdout",
     "output_type": "stream",
     "text": [
      "<Response [200]>\n"
     ]
    },
    {
     "name": "stderr",
     "output_type": "stream",
     "text": [
      "(41821) accepted ('127.0.0.1', 49444)\n",
      "173.20.233.125,127.0.0.1 - - [22/Oct/2023 18:51:59] \"POST /add_step HTTP/1.1\" 200 166 0.000595\n"
     ]
    },
    {
     "name": "stdout",
     "output_type": "stream",
     "text": [
      "<Response [200]>\n"
     ]
    },
    {
     "name": "stderr",
     "output_type": "stream",
     "text": [
      "(41821) accepted ('127.0.0.1', 50730)\n",
      "173.20.233.125,127.0.0.1 - - [22/Oct/2023 18:52:00] \"POST /add_step HTTP/1.1\" 200 166 0.000594\n"
     ]
    },
    {
     "name": "stdout",
     "output_type": "stream",
     "text": [
      "<Response [200]>\n"
     ]
    },
    {
     "name": "stderr",
     "output_type": "stream",
     "text": [
      "(41821) accepted ('127.0.0.1', 52060)\n",
      "173.20.233.125,127.0.0.1 - - [22/Oct/2023 18:52:00] \"POST /add_step HTTP/1.1\" 200 166 0.000572\n"
     ]
    },
    {
     "name": "stdout",
     "output_type": "stream",
     "text": [
      "<Response [200]>\n"
     ]
    },
    {
     "name": "stderr",
     "output_type": "stream",
     "text": [
      "(41821) accepted ('127.0.0.1', 53779)\n",
      "173.20.233.125,127.0.0.1 - - [22/Oct/2023 18:52:01] \"POST /add_step HTTP/1.1\" 200 166 0.000654\n"
     ]
    },
    {
     "name": "stdout",
     "output_type": "stream",
     "text": [
      "<Response [200]>\n"
     ]
    },
    {
     "name": "stderr",
     "output_type": "stream",
     "text": [
      "(41821) accepted ('127.0.0.1', 55053)\n",
      "173.20.233.125,127.0.0.1 - - [22/Oct/2023 18:52:02] \"POST /add_step HTTP/1.1\" 200 166 0.000622\n"
     ]
    },
    {
     "name": "stdout",
     "output_type": "stream",
     "text": [
      "<Response [200]>\n"
     ]
    },
    {
     "name": "stderr",
     "output_type": "stream",
     "text": [
      "(41821) accepted ('127.0.0.1', 56401)\n",
      "173.20.233.125,127.0.0.1 - - [22/Oct/2023 18:52:03] \"POST /add_step HTTP/1.1\" 200 166 0.000663\n"
     ]
    },
    {
     "name": "stdout",
     "output_type": "stream",
     "text": [
      "<Response [200]>\n"
     ]
    },
    {
     "name": "stderr",
     "output_type": "stream",
     "text": [
      "(41821) accepted ('127.0.0.1', 57641)\n",
      "173.20.233.125,127.0.0.1 - - [22/Oct/2023 18:52:03] \"POST /add_step HTTP/1.1\" 200 166 0.000665\n"
     ]
    },
    {
     "name": "stdout",
     "output_type": "stream",
     "text": [
      "<Response [200]>\n"
     ]
    },
    {
     "name": "stderr",
     "output_type": "stream",
     "text": [
      "(41821) accepted ('127.0.0.1', 58963)\n",
      "173.20.233.125,127.0.0.1 - - [22/Oct/2023 18:52:04] \"POST /add_step HTTP/1.1\" 200 166 0.000625\n"
     ]
    },
    {
     "name": "stdout",
     "output_type": "stream",
     "text": [
      "<Response [200]>\n"
     ]
    },
    {
     "name": "stderr",
     "output_type": "stream",
     "text": [
      "(41821) accepted ('127.0.0.1', 60356)\n",
      "173.20.233.125,127.0.0.1 - - [22/Oct/2023 18:52:05] \"POST /add_step HTTP/1.1\" 200 166 0.000784\n"
     ]
    },
    {
     "name": "stdout",
     "output_type": "stream",
     "text": [
      "<Response [200]>\n"
     ]
    },
    {
     "name": "stderr",
     "output_type": "stream",
     "text": [
      "(41821) accepted ('127.0.0.1', 61725)\n",
      "173.20.233.125,127.0.0.1 - - [22/Oct/2023 18:52:06] \"POST /add_step HTTP/1.1\" 200 166 0.000667\n"
     ]
    },
    {
     "name": "stdout",
     "output_type": "stream",
     "text": [
      "<Response [200]>\n"
     ]
    },
    {
     "name": "stderr",
     "output_type": "stream",
     "text": [
      "(41821) accepted ('127.0.0.1', 63101)\n",
      "173.20.233.125,127.0.0.1 - - [22/Oct/2023 18:52:06] \"POST /add_step HTTP/1.1\" 200 166 0.000526\n"
     ]
    },
    {
     "name": "stdout",
     "output_type": "stream",
     "text": [
      "<Response [200]>\n"
     ]
    },
    {
     "name": "stderr",
     "output_type": "stream",
     "text": [
      "(41821) accepted ('127.0.0.1', 64338)\n",
      "173.20.233.125,127.0.0.1 - - [22/Oct/2023 18:52:07] \"POST /add_step HTTP/1.1\" 200 166 0.001062\n"
     ]
    },
    {
     "name": "stdout",
     "output_type": "stream",
     "text": [
      "<Response [200]>\n"
     ]
    },
    {
     "name": "stderr",
     "output_type": "stream",
     "text": [
      "(41821) accepted ('127.0.0.1', 49202)\n",
      "173.20.233.125,127.0.0.1 - - [22/Oct/2023 18:52:08] \"POST /add_step HTTP/1.1\" 200 166 0.000644\n"
     ]
    },
    {
     "name": "stdout",
     "output_type": "stream",
     "text": [
      "<Response [200]>\n"
     ]
    },
    {
     "name": "stderr",
     "output_type": "stream",
     "text": [
      "(41821) accepted ('127.0.0.1', 50965)\n",
      "173.20.233.125,127.0.0.1 - - [22/Oct/2023 18:52:09] \"POST /add_step HTTP/1.1\" 200 166 0.000761\n"
     ]
    },
    {
     "name": "stdout",
     "output_type": "stream",
     "text": [
      "<Response [200]>\n"
     ]
    },
    {
     "name": "stderr",
     "output_type": "stream",
     "text": [
      "(41821) accepted ('127.0.0.1', 52289)\n",
      "173.20.233.125,127.0.0.1 - - [22/Oct/2023 18:52:09] \"POST /add_step HTTP/1.1\" 200 166 0.000681\n"
     ]
    },
    {
     "name": "stdout",
     "output_type": "stream",
     "text": [
      "<Response [200]>\n"
     ]
    },
    {
     "name": "stderr",
     "output_type": "stream",
     "text": [
      "(41821) accepted ('127.0.0.1', 53531)\n",
      "173.20.233.125,127.0.0.1 - - [22/Oct/2023 18:52:10] \"POST /add_step HTTP/1.1\" 200 166 0.000669\n"
     ]
    },
    {
     "name": "stdout",
     "output_type": "stream",
     "text": [
      "<Response [200]>\n"
     ]
    },
    {
     "name": "stderr",
     "output_type": "stream",
     "text": [
      "(41821) accepted ('127.0.0.1', 55004)\n",
      "173.20.233.125,127.0.0.1 - - [22/Oct/2023 18:52:11] \"POST /add_step HTTP/1.1\" 200 166 0.000640\n"
     ]
    },
    {
     "name": "stdout",
     "output_type": "stream",
     "text": [
      "<Response [200]>\n"
     ]
    },
    {
     "name": "stderr",
     "output_type": "stream",
     "text": [
      "(41821) accepted ('127.0.0.1', 56386)\n",
      "173.20.233.125,127.0.0.1 - - [22/Oct/2023 18:52:12] \"POST /add_step HTTP/1.1\" 200 166 0.000633\n"
     ]
    },
    {
     "name": "stdout",
     "output_type": "stream",
     "text": [
      "<Response [200]>\n"
     ]
    },
    {
     "name": "stderr",
     "output_type": "stream",
     "text": [
      "(41821) accepted ('127.0.0.1', 57534)\n",
      "173.20.233.125,127.0.0.1 - - [22/Oct/2023 18:52:12] \"POST /add_step HTTP/1.1\" 200 166 0.000460\n"
     ]
    },
    {
     "name": "stdout",
     "output_type": "stream",
     "text": [
      "<Response [200]>\n"
     ]
    },
    {
     "name": "stderr",
     "output_type": "stream",
     "text": [
      "(41821) accepted ('127.0.0.1', 58730)\n",
      "173.20.233.125,127.0.0.1 - - [22/Oct/2023 18:52:13] \"POST /add_step HTTP/1.1\" 200 166 0.000656\n"
     ]
    },
    {
     "name": "stdout",
     "output_type": "stream",
     "text": [
      "<Response [200]>\n"
     ]
    },
    {
     "name": "stderr",
     "output_type": "stream",
     "text": [
      "(41821) accepted ('127.0.0.1', 59912)\n",
      "173.20.233.125,127.0.0.1 - - [22/Oct/2023 18:52:14] \"POST /add_step HTTP/1.1\" 200 166 0.000598\n"
     ]
    },
    {
     "name": "stdout",
     "output_type": "stream",
     "text": [
      "<Response [200]>\n"
     ]
    },
    {
     "name": "stderr",
     "output_type": "stream",
     "text": [
      "(41821) accepted ('127.0.0.1', 61176)\n",
      "173.20.233.125,127.0.0.1 - - [22/Oct/2023 18:52:14] \"POST /add_step HTTP/1.1\" 200 166 0.000489\n"
     ]
    },
    {
     "name": "stdout",
     "output_type": "stream",
     "text": [
      "<Response [200]>\n"
     ]
    },
    {
     "name": "stderr",
     "output_type": "stream",
     "text": [
      "(41821) accepted ('127.0.0.1', 62377)\n",
      "173.20.233.125,127.0.0.1 - - [22/Oct/2023 18:52:15] \"POST /add_step HTTP/1.1\" 200 166 0.000641\n"
     ]
    },
    {
     "name": "stdout",
     "output_type": "stream",
     "text": [
      "<Response [200]>\n"
     ]
    },
    {
     "name": "stderr",
     "output_type": "stream",
     "text": [
      "(41821) accepted ('127.0.0.1', 63580)\n",
      "173.20.233.125,127.0.0.1 - - [22/Oct/2023 18:52:16] \"POST /add_step HTTP/1.1\" 200 166 0.000715\n"
     ]
    },
    {
     "name": "stdout",
     "output_type": "stream",
     "text": [
      "<Response [200]>\n"
     ]
    },
    {
     "name": "stderr",
     "output_type": "stream",
     "text": [
      "(41821) accepted ('127.0.0.1', 64728)\n",
      "173.20.233.125,127.0.0.1 - - [22/Oct/2023 18:52:16] \"POST /add_step HTTP/1.1\" 200 166 0.000961\n"
     ]
    },
    {
     "name": "stdout",
     "output_type": "stream",
     "text": [
      "<Response [200]>\n"
     ]
    },
    {
     "name": "stderr",
     "output_type": "stream",
     "text": [
      "(41821) accepted ('127.0.0.1', 49548)\n",
      "173.20.233.125,127.0.0.1 - - [22/Oct/2023 18:52:17] \"POST /add_step HTTP/1.1\" 200 166 0.000626\n"
     ]
    },
    {
     "name": "stdout",
     "output_type": "stream",
     "text": [
      "<Response [200]>\n"
     ]
    },
    {
     "name": "stderr",
     "output_type": "stream",
     "text": [
      "(41821) accepted ('127.0.0.1', 50773)\n",
      "173.20.233.125,127.0.0.1 - - [22/Oct/2023 18:52:17] \"POST /add_step HTTP/1.1\" 200 166 0.000746\n"
     ]
    },
    {
     "name": "stdout",
     "output_type": "stream",
     "text": [
      "<Response [200]>\n"
     ]
    },
    {
     "name": "stderr",
     "output_type": "stream",
     "text": [
      "(41821) accepted ('127.0.0.1', 51931)\n",
      "173.20.233.125,127.0.0.1 - - [22/Oct/2023 18:52:18] \"POST /add_step HTTP/1.1\" 200 166 0.000620\n"
     ]
    },
    {
     "name": "stdout",
     "output_type": "stream",
     "text": [
      "<Response [200]>\n"
     ]
    },
    {
     "name": "stderr",
     "output_type": "stream",
     "text": [
      "(41821) accepted ('127.0.0.1', 53070)\n",
      "173.20.233.125,127.0.0.1 - - [22/Oct/2023 18:52:19] \"POST /add_step HTTP/1.1\" 200 166 0.000638\n"
     ]
    },
    {
     "name": "stdout",
     "output_type": "stream",
     "text": [
      "<Response [200]>\n"
     ]
    },
    {
     "name": "stderr",
     "output_type": "stream",
     "text": [
      "(41821) accepted ('127.0.0.1', 54228)\n",
      "173.20.233.125,127.0.0.1 - - [22/Oct/2023 18:52:19] \"POST /add_step HTTP/1.1\" 200 166 0.000925\n"
     ]
    },
    {
     "name": "stdout",
     "output_type": "stream",
     "text": [
      "<Response [200]>\n"
     ]
    },
    {
     "name": "stderr",
     "output_type": "stream",
     "text": [
      "(41821) accepted ('127.0.0.1', 55410)\n",
      "173.20.233.125,127.0.0.1 - - [22/Oct/2023 18:52:20] \"POST /add_step HTTP/1.1\" 200 166 0.001126\n"
     ]
    },
    {
     "name": "stdout",
     "output_type": "stream",
     "text": [
      "<Response [200]>\n"
     ]
    },
    {
     "name": "stderr",
     "output_type": "stream",
     "text": [
      "(41821) accepted ('127.0.0.1', 56561)\n",
      "173.20.233.125,127.0.0.1 - - [22/Oct/2023 18:52:21] \"POST /add_step HTTP/1.1\" 200 166 0.000923\n"
     ]
    },
    {
     "name": "stdout",
     "output_type": "stream",
     "text": [
      "<Response [200]>\n"
     ]
    },
    {
     "name": "stderr",
     "output_type": "stream",
     "text": [
      "(41821) accepted ('127.0.0.1', 57699)\n",
      "173.20.233.125,127.0.0.1 - - [22/Oct/2023 18:52:21] \"POST /add_step HTTP/1.1\" 200 166 0.000761\n"
     ]
    },
    {
     "name": "stdout",
     "output_type": "stream",
     "text": [
      "<Response [200]>\n"
     ]
    },
    {
     "name": "stderr",
     "output_type": "stream",
     "text": [
      "(41821) accepted ('127.0.0.1', 58884)\n",
      "173.20.233.125,127.0.0.1 - - [22/Oct/2023 18:52:22] \"POST /add_step HTTP/1.1\" 200 166 0.000784\n"
     ]
    },
    {
     "name": "stdout",
     "output_type": "stream",
     "text": [
      "<Response [200]>\n"
     ]
    },
    {
     "name": "stderr",
     "output_type": "stream",
     "text": [
      "(41821) accepted ('127.0.0.1', 60024)\n",
      "173.20.233.125,127.0.0.1 - - [22/Oct/2023 18:52:22] \"POST /add_step HTTP/1.1\" 200 166 0.000631\n"
     ]
    },
    {
     "name": "stdout",
     "output_type": "stream",
     "text": [
      "<Response [200]>\n"
     ]
    },
    {
     "name": "stderr",
     "output_type": "stream",
     "text": [
      "(41821) accepted ('127.0.0.1', 61196)\n",
      "173.20.233.125,127.0.0.1 - - [22/Oct/2023 18:52:23] \"POST /add_step HTTP/1.1\" 200 166 0.000833\n"
     ]
    },
    {
     "name": "stdout",
     "output_type": "stream",
     "text": [
      "<Response [200]>\n"
     ]
    },
    {
     "name": "stderr",
     "output_type": "stream",
     "text": [
      "(41821) accepted ('127.0.0.1', 62389)\n",
      "173.20.233.125,127.0.0.1 - - [22/Oct/2023 18:52:24] \"POST /add_step HTTP/1.1\" 200 166 0.000646\n"
     ]
    },
    {
     "name": "stdout",
     "output_type": "stream",
     "text": [
      "<Response [200]>\n"
     ]
    },
    {
     "name": "stderr",
     "output_type": "stream",
     "text": [
      "(41821) accepted ('127.0.0.1', 63550)\n",
      "173.20.233.125,127.0.0.1 - - [22/Oct/2023 18:52:24] \"POST /add_step HTTP/1.1\" 200 166 0.000661\n"
     ]
    },
    {
     "name": "stdout",
     "output_type": "stream",
     "text": [
      "<Response [200]>\n"
     ]
    },
    {
     "name": "stderr",
     "output_type": "stream",
     "text": [
      "(41821) accepted ('127.0.0.1', 64748)\n",
      "173.20.233.125,127.0.0.1 - - [22/Oct/2023 18:52:25] \"POST /add_step HTTP/1.1\" 200 166 0.000655\n"
     ]
    },
    {
     "name": "stdout",
     "output_type": "stream",
     "text": [
      "<Response [200]>\n"
     ]
    },
    {
     "name": "stderr",
     "output_type": "stream",
     "text": [
      "(41821) accepted ('127.0.0.1', 49564)\n",
      "173.20.233.125,127.0.0.1 - - [22/Oct/2023 18:52:26] \"POST /add_step HTTP/1.1\" 200 166 0.000628\n"
     ]
    },
    {
     "name": "stdout",
     "output_type": "stream",
     "text": [
      "<Response [200]>\n"
     ]
    },
    {
     "name": "stderr",
     "output_type": "stream",
     "text": [
      "(41821) accepted ('127.0.0.1', 50735)\n",
      "173.20.233.125,127.0.0.1 - - [22/Oct/2023 18:52:26] \"POST /add_step HTTP/1.1\" 200 166 0.000647\n"
     ]
    },
    {
     "name": "stdout",
     "output_type": "stream",
     "text": [
      "<Response [200]>\n"
     ]
    },
    {
     "name": "stderr",
     "output_type": "stream",
     "text": [
      "(41821) accepted ('127.0.0.1', 51890)\n",
      "173.20.233.125,127.0.0.1 - - [22/Oct/2023 18:52:27] \"POST /add_step HTTP/1.1\" 200 166 0.000763\n"
     ]
    },
    {
     "name": "stdout",
     "output_type": "stream",
     "text": [
      "<Response [200]>\n"
     ]
    },
    {
     "name": "stderr",
     "output_type": "stream",
     "text": [
      "(41821) accepted ('127.0.0.1', 53026)\n",
      "173.20.233.125,127.0.0.1 - - [22/Oct/2023 18:52:28] \"POST /add_step HTTP/1.1\" 200 166 0.000637\n"
     ]
    },
    {
     "name": "stdout",
     "output_type": "stream",
     "text": [
      "<Response [200]>\n"
     ]
    },
    {
     "name": "stderr",
     "output_type": "stream",
     "text": [
      "(41821) accepted ('127.0.0.1', 54279)\n",
      "173.20.233.125,127.0.0.1 - - [22/Oct/2023 18:52:28] \"POST /add_step HTTP/1.1\" 200 166 0.000680\n"
     ]
    },
    {
     "name": "stdout",
     "output_type": "stream",
     "text": [
      "<Response [200]>\n"
     ]
    },
    {
     "name": "stderr",
     "output_type": "stream",
     "text": [
      "(41821) accepted ('127.0.0.1', 55921)\n",
      "173.20.233.125,127.0.0.1 - - [22/Oct/2023 18:52:29] \"POST /add_step HTTP/1.1\" 200 166 0.000645\n"
     ]
    },
    {
     "name": "stdout",
     "output_type": "stream",
     "text": [
      "<Response [200]>\n"
     ]
    },
    {
     "name": "stderr",
     "output_type": "stream",
     "text": [
      "(41821) accepted ('127.0.0.1', 57097)\n",
      "173.20.233.125,127.0.0.1 - - [22/Oct/2023 18:52:30] \"POST /add_step HTTP/1.1\" 200 166 0.000647\n"
     ]
    },
    {
     "name": "stdout",
     "output_type": "stream",
     "text": [
      "<Response [200]>\n"
     ]
    },
    {
     "name": "stderr",
     "output_type": "stream",
     "text": [
      "(41821) accepted ('127.0.0.1', 58354)\n",
      "173.20.233.125,127.0.0.1 - - [22/Oct/2023 18:52:30] \"POST /add_step HTTP/1.1\" 200 166 0.000497\n"
     ]
    },
    {
     "name": "stdout",
     "output_type": "stream",
     "text": [
      "<Response [200]>\n"
     ]
    },
    {
     "name": "stderr",
     "output_type": "stream",
     "text": [
      "(41821) accepted ('127.0.0.1', 59590)\n",
      "173.20.233.125,127.0.0.1 - - [22/Oct/2023 18:52:31] \"POST /add_step HTTP/1.1\" 200 166 0.000789\n"
     ]
    },
    {
     "name": "stdout",
     "output_type": "stream",
     "text": [
      "<Response [200]>\n"
     ]
    },
    {
     "name": "stderr",
     "output_type": "stream",
     "text": [
      "(41821) accepted ('127.0.0.1', 61221)\n",
      "173.20.233.125,127.0.0.1 - - [22/Oct/2023 18:52:32] \"POST /add_step HTTP/1.1\" 200 166 0.000492\n"
     ]
    },
    {
     "name": "stdout",
     "output_type": "stream",
     "text": [
      "<Response [200]>\n"
     ]
    },
    {
     "name": "stderr",
     "output_type": "stream",
     "text": [
      "(41821) accepted ('127.0.0.1', 62441)\n",
      "173.20.233.125,127.0.0.1 - - [22/Oct/2023 18:52:33] \"POST /add_step HTTP/1.1\" 200 166 0.000878\n"
     ]
    },
    {
     "name": "stdout",
     "output_type": "stream",
     "text": [
      "<Response [200]>\n"
     ]
    },
    {
     "name": "stderr",
     "output_type": "stream",
     "text": [
      "(41821) accepted ('127.0.0.1', 63662)\n",
      "173.20.233.125,127.0.0.1 - - [22/Oct/2023 18:52:33] \"POST /add_step HTTP/1.1\" 200 166 0.000498\n"
     ]
    },
    {
     "name": "stdout",
     "output_type": "stream",
     "text": [
      "<Response [200]>\n"
     ]
    },
    {
     "name": "stderr",
     "output_type": "stream",
     "text": [
      "(41821) accepted ('127.0.0.1', 64981)\n",
      "173.20.233.125,127.0.0.1 - - [22/Oct/2023 18:52:34] \"POST /add_step HTTP/1.1\" 200 166 0.000755\n"
     ]
    },
    {
     "name": "stdout",
     "output_type": "stream",
     "text": [
      "<Response [200]>\n"
     ]
    },
    {
     "name": "stderr",
     "output_type": "stream",
     "text": [
      "(41821) accepted ('127.0.0.1', 49803)\n",
      "173.20.233.125,127.0.0.1 - - [22/Oct/2023 18:52:35] \"POST /add_step HTTP/1.1\" 200 166 0.000714\n"
     ]
    },
    {
     "name": "stdout",
     "output_type": "stream",
     "text": [
      "<Response [200]>\n"
     ]
    },
    {
     "name": "stderr",
     "output_type": "stream",
     "text": [
      "(41821) accepted ('127.0.0.1', 50958)\n",
      "173.20.233.125,127.0.0.1 - - [22/Oct/2023 18:52:35] \"POST /add_step HTTP/1.1\" 200 166 0.000628\n"
     ]
    },
    {
     "name": "stdout",
     "output_type": "stream",
     "text": [
      "<Response [200]>\n"
     ]
    },
    {
     "name": "stderr",
     "output_type": "stream",
     "text": [
      "(41821) accepted ('127.0.0.1', 52119)\n",
      "173.20.233.125,127.0.0.1 - - [22/Oct/2023 18:52:36] \"POST /add_step HTTP/1.1\" 200 166 0.000643\n"
     ]
    },
    {
     "name": "stdout",
     "output_type": "stream",
     "text": [
      "<Response [200]>\n"
     ]
    },
    {
     "name": "stderr",
     "output_type": "stream",
     "text": [
      "(41821) accepted ('127.0.0.1', 53382)\n",
      "173.20.233.125,127.0.0.1 - - [22/Oct/2023 18:52:37] \"POST /add_step HTTP/1.1\" 200 166 0.001037\n"
     ]
    },
    {
     "name": "stdout",
     "output_type": "stream",
     "text": [
      "<Response [200]>\n"
     ]
    },
    {
     "name": "stderr",
     "output_type": "stream",
     "text": [
      "(41821) accepted ('127.0.0.1', 54708)\n",
      "173.20.233.125,127.0.0.1 - - [22/Oct/2023 18:52:37] \"POST /add_step HTTP/1.1\" 200 166 0.000808\n"
     ]
    },
    {
     "name": "stdout",
     "output_type": "stream",
     "text": [
      "<Response [200]>\n"
     ]
    },
    {
     "name": "stderr",
     "output_type": "stream",
     "text": [
      "(41821) accepted ('127.0.0.1', 55963)\n",
      "173.20.233.125,127.0.0.1 - - [22/Oct/2023 18:52:38] \"POST /add_step HTTP/1.1\" 200 166 0.000644\n"
     ]
    },
    {
     "name": "stdout",
     "output_type": "stream",
     "text": [
      "<Response [200]>\n"
     ]
    },
    {
     "name": "stderr",
     "output_type": "stream",
     "text": [
      "(41821) accepted ('127.0.0.1', 57195)\n",
      "173.20.233.125,127.0.0.1 - - [22/Oct/2023 18:52:39] \"POST /add_step HTTP/1.1\" 200 166 0.000873\n"
     ]
    },
    {
     "name": "stdout",
     "output_type": "stream",
     "text": [
      "<Response [200]>\n"
     ]
    },
    {
     "name": "stderr",
     "output_type": "stream",
     "text": [
      "(41821) accepted ('127.0.0.1', 58363)\n",
      "173.20.233.125,127.0.0.1 - - [22/Oct/2023 18:52:39] \"POST /add_step HTTP/1.1\" 200 166 0.001044\n"
     ]
    },
    {
     "name": "stdout",
     "output_type": "stream",
     "text": [
      "<Response [200]>\n"
     ]
    },
    {
     "name": "stderr",
     "output_type": "stream",
     "text": [
      "(41821) accepted ('127.0.0.1', 59557)\n",
      "173.20.233.125,127.0.0.1 - - [22/Oct/2023 18:52:40] \"POST /add_step HTTP/1.1\" 200 166 0.000792\n"
     ]
    },
    {
     "name": "stdout",
     "output_type": "stream",
     "text": [
      "<Response [200]>\n"
     ]
    },
    {
     "name": "stderr",
     "output_type": "stream",
     "text": [
      "(41821) accepted ('127.0.0.1', 60734)\n",
      "173.20.233.125,127.0.0.1 - - [22/Oct/2023 18:52:41] \"POST /add_step HTTP/1.1\" 200 166 0.000840\n"
     ]
    },
    {
     "name": "stdout",
     "output_type": "stream",
     "text": [
      "<Response [200]>\n"
     ]
    },
    {
     "name": "stderr",
     "output_type": "stream",
     "text": [
      "(41821) accepted ('127.0.0.1', 61927)\n",
      "173.20.233.125,127.0.0.1 - - [22/Oct/2023 18:52:41] \"POST /add_step HTTP/1.1\" 200 166 0.000756\n"
     ]
    },
    {
     "name": "stdout",
     "output_type": "stream",
     "text": [
      "<Response [200]>\n"
     ]
    },
    {
     "name": "stderr",
     "output_type": "stream",
     "text": [
      "(41821) accepted ('127.0.0.1', 63111)\n",
      "173.20.233.125,127.0.0.1 - - [22/Oct/2023 18:52:42] \"POST /add_step HTTP/1.1\" 200 166 0.000762\n"
     ]
    },
    {
     "name": "stdout",
     "output_type": "stream",
     "text": [
      "<Response [200]>\n"
     ]
    },
    {
     "name": "stderr",
     "output_type": "stream",
     "text": [
      "(41821) accepted ('127.0.0.1', 64277)\n",
      "173.20.233.125,127.0.0.1 - - [22/Oct/2023 18:52:43] \"POST /add_step HTTP/1.1\" 200 166 0.000583\n"
     ]
    },
    {
     "name": "stdout",
     "output_type": "stream",
     "text": [
      "<Response [200]>\n"
     ]
    },
    {
     "name": "stderr",
     "output_type": "stream",
     "text": [
      "(41821) accepted ('127.0.0.1', 65446)\n",
      "173.20.233.125,127.0.0.1 - - [22/Oct/2023 18:52:43] \"POST /add_step HTTP/1.1\" 200 166 0.000687\n"
     ]
    },
    {
     "name": "stdout",
     "output_type": "stream",
     "text": [
      "<Response [200]>\n"
     ]
    },
    {
     "name": "stderr",
     "output_type": "stream",
     "text": [
      "(41821) accepted ('127.0.0.1', 50238)\n",
      "173.20.233.125,127.0.0.1 - - [22/Oct/2023 18:52:44] \"POST /add_step HTTP/1.1\" 200 166 0.001002\n"
     ]
    },
    {
     "name": "stdout",
     "output_type": "stream",
     "text": [
      "<Response [200]>\n"
     ]
    },
    {
     "name": "stderr",
     "output_type": "stream",
     "text": [
      "(41821) accepted ('127.0.0.1', 51540)\n",
      "173.20.233.125,127.0.0.1 - - [22/Oct/2023 18:52:45] \"POST /add_step HTTP/1.1\" 200 166 0.000738\n"
     ]
    },
    {
     "name": "stdout",
     "output_type": "stream",
     "text": [
      "<Response [200]>\n"
     ]
    },
    {
     "name": "stderr",
     "output_type": "stream",
     "text": [
      "(41821) accepted ('127.0.0.1', 52685)\n",
      "173.20.233.125,127.0.0.1 - - [22/Oct/2023 18:52:45] \"POST /add_step HTTP/1.1\" 200 166 0.000636\n"
     ]
    },
    {
     "name": "stdout",
     "output_type": "stream",
     "text": [
      "<Response [200]>\n"
     ]
    },
    {
     "name": "stderr",
     "output_type": "stream",
     "text": [
      "(41821) accepted ('127.0.0.1', 53913)\n",
      "173.20.233.125,127.0.0.1 - - [22/Oct/2023 18:52:46] \"POST /add_step HTTP/1.1\" 200 166 0.000680\n"
     ]
    },
    {
     "name": "stdout",
     "output_type": "stream",
     "text": [
      "<Response [200]>\n"
     ]
    },
    {
     "name": "stderr",
     "output_type": "stream",
     "text": [
      "(41821) accepted ('127.0.0.1', 55157)\n",
      "173.20.233.125,127.0.0.1 - - [22/Oct/2023 18:52:46] \"POST /add_step HTTP/1.1\" 200 166 0.000534\n"
     ]
    },
    {
     "name": "stdout",
     "output_type": "stream",
     "text": [
      "<Response [200]>\n"
     ]
    },
    {
     "name": "stderr",
     "output_type": "stream",
     "text": [
      "(41821) accepted ('127.0.0.1', 56600)\n",
      "173.20.233.125,127.0.0.1 - - [22/Oct/2023 18:52:47] \"POST /add_step HTTP/1.1\" 200 166 0.000712\n"
     ]
    },
    {
     "name": "stdout",
     "output_type": "stream",
     "text": [
      "<Response [200]>\n"
     ]
    },
    {
     "name": "stderr",
     "output_type": "stream",
     "text": [
      "(41821) accepted ('127.0.0.1', 57912)\n",
      "173.20.233.125,127.0.0.1 - - [22/Oct/2023 18:52:48] \"POST /add_step HTTP/1.1\" 200 166 0.000682\n"
     ]
    },
    {
     "name": "stdout",
     "output_type": "stream",
     "text": [
      "<Response [200]>\n"
     ]
    },
    {
     "name": "stderr",
     "output_type": "stream",
     "text": [
      "(41821) accepted ('127.0.0.1', 59132)\n",
      "173.20.233.125,127.0.0.1 - - [22/Oct/2023 18:52:49] \"POST /add_step HTTP/1.1\" 200 166 0.003536\n"
     ]
    },
    {
     "name": "stdout",
     "output_type": "stream",
     "text": [
      "<Response [200]>\n"
     ]
    },
    {
     "name": "stderr",
     "output_type": "stream",
     "text": [
      "(41821) accepted ('127.0.0.1', 60335)\n",
      "173.20.233.125,127.0.0.1 - - [22/Oct/2023 18:52:49] \"POST /add_step HTTP/1.1\" 200 166 0.000639\n"
     ]
    },
    {
     "name": "stdout",
     "output_type": "stream",
     "text": [
      "<Response [200]>\n"
     ]
    },
    {
     "name": "stderr",
     "output_type": "stream",
     "text": [
      "(41821) accepted ('127.0.0.1', 61606)\n",
      "173.20.233.125,127.0.0.1 - - [22/Oct/2023 18:52:50] \"POST /add_step HTTP/1.1\" 200 166 0.000891\n"
     ]
    },
    {
     "name": "stdout",
     "output_type": "stream",
     "text": [
      "<Response [200]>\n"
     ]
    },
    {
     "name": "stderr",
     "output_type": "stream",
     "text": [
      "(41821) accepted ('127.0.0.1', 63411)\n",
      "173.20.233.125,127.0.0.1 - - [22/Oct/2023 18:52:51] \"POST /add_step HTTP/1.1\" 200 166 0.000859\n"
     ]
    },
    {
     "name": "stdout",
     "output_type": "stream",
     "text": [
      "<Response [200]>\n"
     ]
    },
    {
     "name": "stderr",
     "output_type": "stream",
     "text": [
      "(41821) accepted ('127.0.0.1', 64833)\n",
      "173.20.233.125,127.0.0.1 - - [22/Oct/2023 18:52:52] \"POST /add_step HTTP/1.1\" 200 166 0.000793\n"
     ]
    },
    {
     "name": "stdout",
     "output_type": "stream",
     "text": [
      "<Response [200]>\n"
     ]
    },
    {
     "name": "stderr",
     "output_type": "stream",
     "text": [
      "(41821) accepted ('127.0.0.1', 49811)\n",
      "173.20.233.125,127.0.0.1 - - [22/Oct/2023 18:52:52] \"POST /add_step HTTP/1.1\" 200 166 0.001042\n"
     ]
    },
    {
     "name": "stdout",
     "output_type": "stream",
     "text": [
      "<Response [200]>\n"
     ]
    },
    {
     "name": "stderr",
     "output_type": "stream",
     "text": [
      "(41821) accepted ('127.0.0.1', 51175)\n",
      "173.20.233.125,127.0.0.1 - - [22/Oct/2023 18:52:53] \"POST /add_step HTTP/1.1\" 200 166 0.000718\n"
     ]
    },
    {
     "name": "stdout",
     "output_type": "stream",
     "text": [
      "<Response [200]>\n"
     ]
    },
    {
     "name": "stderr",
     "output_type": "stream",
     "text": [
      "(41821) accepted ('127.0.0.1', 52585)\n",
      "173.20.233.125,127.0.0.1 - - [22/Oct/2023 18:52:54] \"POST /add_step HTTP/1.1\" 200 166 0.000879\n"
     ]
    },
    {
     "name": "stdout",
     "output_type": "stream",
     "text": [
      "<Response [200]>\n"
     ]
    },
    {
     "name": "stderr",
     "output_type": "stream",
     "text": [
      "(41821) accepted ('127.0.0.1', 54211)\n",
      "173.20.233.125,127.0.0.1 - - [22/Oct/2023 18:52:55] \"POST /add_step HTTP/1.1\" 200 166 0.001447\n"
     ]
    },
    {
     "name": "stdout",
     "output_type": "stream",
     "text": [
      "<Response [200]>\n"
     ]
    },
    {
     "name": "stderr",
     "output_type": "stream",
     "text": [
      "(41821) accepted ('127.0.0.1', 55881)\n",
      "173.20.233.125,127.0.0.1 - - [22/Oct/2023 18:52:56] \"POST /add_step HTTP/1.1\" 200 166 0.000530\n"
     ]
    },
    {
     "name": "stdout",
     "output_type": "stream",
     "text": [
      "<Response [200]>\n"
     ]
    },
    {
     "name": "stderr",
     "output_type": "stream",
     "text": [
      "(41821) accepted ('127.0.0.1', 57309)\n",
      "173.20.233.125,127.0.0.1 - - [22/Oct/2023 18:52:57] \"POST /add_step HTTP/1.1\" 200 166 0.000569\n"
     ]
    },
    {
     "name": "stdout",
     "output_type": "stream",
     "text": [
      "<Response [200]>\n"
     ]
    },
    {
     "name": "stderr",
     "output_type": "stream",
     "text": [
      "(41821) accepted ('127.0.0.1', 58589)\n",
      "173.20.233.125,127.0.0.1 - - [22/Oct/2023 18:52:57] \"POST /add_step HTTP/1.1\" 200 166 0.000622\n"
     ]
    },
    {
     "name": "stdout",
     "output_type": "stream",
     "text": [
      "<Response [200]>\n"
     ]
    },
    {
     "name": "stderr",
     "output_type": "stream",
     "text": [
      "(41821) accepted ('127.0.0.1', 59929)\n",
      "173.20.233.125,127.0.0.1 - - [22/Oct/2023 18:52:58] \"POST /add_step HTTP/1.1\" 200 166 0.000856\n"
     ]
    },
    {
     "name": "stdout",
     "output_type": "stream",
     "text": [
      "<Response [200]>\n"
     ]
    },
    {
     "name": "stderr",
     "output_type": "stream",
     "text": [
      "(41821) accepted ('127.0.0.1', 61149)\n",
      "173.20.233.125,127.0.0.1 - - [22/Oct/2023 18:52:59] \"POST /add_step HTTP/1.1\" 200 166 0.000567\n"
     ]
    },
    {
     "name": "stdout",
     "output_type": "stream",
     "text": [
      "<Response [200]>\n"
     ]
    },
    {
     "name": "stderr",
     "output_type": "stream",
     "text": [
      "(41821) accepted ('127.0.0.1', 62289)\n",
      "173.20.233.125,127.0.0.1 - - [22/Oct/2023 18:52:59] \"POST /add_step HTTP/1.1\" 200 166 0.000839\n"
     ]
    },
    {
     "name": "stdout",
     "output_type": "stream",
     "text": [
      "<Response [200]>\n"
     ]
    },
    {
     "name": "stderr",
     "output_type": "stream",
     "text": [
      "(41821) accepted ('127.0.0.1', 63592)\n",
      "173.20.233.125,127.0.0.1 - - [22/Oct/2023 18:53:00] \"POST /add_step HTTP/1.1\" 200 166 0.000658\n"
     ]
    },
    {
     "name": "stdout",
     "output_type": "stream",
     "text": [
      "<Response [200]>\n"
     ]
    },
    {
     "name": "stderr",
     "output_type": "stream",
     "text": [
      "(41821) accepted ('127.0.0.1', 64820)\n",
      "173.20.233.125,127.0.0.1 - - [22/Oct/2023 18:53:01] \"POST /add_step HTTP/1.1\" 200 166 0.000532\n"
     ]
    },
    {
     "name": "stdout",
     "output_type": "stream",
     "text": [
      "<Response [200]>\n"
     ]
    },
    {
     "name": "stderr",
     "output_type": "stream",
     "text": [
      "(41821) accepted ('127.0.0.1', 50030)\n",
      "173.20.233.125,127.0.0.1 - - [22/Oct/2023 18:53:02] \"POST /add_step HTTP/1.1\" 200 166 0.000769\n"
     ]
    },
    {
     "name": "stdout",
     "output_type": "stream",
     "text": [
      "<Response [200]>\n"
     ]
    },
    {
     "name": "stderr",
     "output_type": "stream",
     "text": [
      "(41821) accepted ('127.0.0.1', 51277)\n",
      "173.20.233.125,127.0.0.1 - - [22/Oct/2023 18:53:02] \"POST /add_step HTTP/1.1\" 200 166 0.000945\n"
     ]
    },
    {
     "name": "stdout",
     "output_type": "stream",
     "text": [
      "<Response [200]>\n"
     ]
    },
    {
     "name": "stderr",
     "output_type": "stream",
     "text": [
      "(41821) accepted ('127.0.0.1', 52508)\n",
      "173.20.233.125,127.0.0.1 - - [22/Oct/2023 18:53:03] \"POST /add_step HTTP/1.1\" 200 166 0.000641\n"
     ]
    },
    {
     "name": "stdout",
     "output_type": "stream",
     "text": [
      "<Response [200]>\n"
     ]
    },
    {
     "name": "stderr",
     "output_type": "stream",
     "text": [
      "(41821) accepted ('127.0.0.1', 53751)\n",
      "173.20.233.125,127.0.0.1 - - [22/Oct/2023 18:53:04] \"POST /add_step HTTP/1.1\" 200 166 0.000903\n"
     ]
    },
    {
     "name": "stdout",
     "output_type": "stream",
     "text": [
      "<Response [200]>\n"
     ]
    },
    {
     "name": "stderr",
     "output_type": "stream",
     "text": [
      "(41821) accepted ('127.0.0.1', 55005)\n",
      "173.20.233.125,127.0.0.1 - - [22/Oct/2023 18:53:04] \"POST /add_step HTTP/1.1\" 200 166 0.000647\n"
     ]
    },
    {
     "name": "stdout",
     "output_type": "stream",
     "text": [
      "<Response [200]>\n"
     ]
    },
    {
     "name": "stderr",
     "output_type": "stream",
     "text": [
      "(41821) accepted ('127.0.0.1', 56257)\n",
      "173.20.233.125,127.0.0.1 - - [22/Oct/2023 18:53:05] \"POST /add_step HTTP/1.1\" 200 166 0.000501\n"
     ]
    },
    {
     "name": "stdout",
     "output_type": "stream",
     "text": [
      "<Response [200]>\n"
     ]
    },
    {
     "name": "stderr",
     "output_type": "stream",
     "text": [
      "(41821) accepted ('127.0.0.1', 57549)\n",
      "173.20.233.125,127.0.0.1 - - [22/Oct/2023 18:53:06] \"POST /add_step HTTP/1.1\" 200 166 0.000796\n"
     ]
    },
    {
     "name": "stdout",
     "output_type": "stream",
     "text": [
      "<Response [200]>\n"
     ]
    },
    {
     "name": "stderr",
     "output_type": "stream",
     "text": [
      "(41821) accepted ('127.0.0.1', 58923)\n",
      "173.20.233.125,127.0.0.1 - - [22/Oct/2023 18:53:06] \"POST /add_step HTTP/1.1\" 200 166 0.000591\n"
     ]
    },
    {
     "name": "stdout",
     "output_type": "stream",
     "text": [
      "<Response [200]>\n"
     ]
    },
    {
     "name": "stderr",
     "output_type": "stream",
     "text": [
      "(41821) accepted ('127.0.0.1', 60368)\n",
      "173.20.233.125,127.0.0.1 - - [22/Oct/2023 18:53:07] \"POST /add_step HTTP/1.1\" 200 166 0.000822\n"
     ]
    },
    {
     "name": "stdout",
     "output_type": "stream",
     "text": [
      "<Response [200]>\n"
     ]
    },
    {
     "name": "stderr",
     "output_type": "stream",
     "text": [
      "(41821) accepted ('127.0.0.1', 61600)\n",
      "173.20.233.125,127.0.0.1 - - [22/Oct/2023 18:53:08] \"POST /add_step HTTP/1.1\" 200 166 0.000603\n"
     ]
    },
    {
     "name": "stdout",
     "output_type": "stream",
     "text": [
      "<Response [200]>\n"
     ]
    },
    {
     "name": "stderr",
     "output_type": "stream",
     "text": [
      "(41821) accepted ('127.0.0.1', 62972)\n",
      "173.20.233.125,127.0.0.1 - - [22/Oct/2023 18:53:09] \"POST /add_step HTTP/1.1\" 200 166 0.001537\n"
     ]
    },
    {
     "name": "stdout",
     "output_type": "stream",
     "text": [
      "<Response [200]>\n"
     ]
    },
    {
     "name": "stderr",
     "output_type": "stream",
     "text": [
      "(41821) accepted ('127.0.0.1', 64300)\n",
      "173.20.233.125,127.0.0.1 - - [22/Oct/2023 18:53:09] \"POST /add_step HTTP/1.1\" 200 166 0.001423\n"
     ]
    },
    {
     "name": "stdout",
     "output_type": "stream",
     "text": [
      "<Response [200]>\n"
     ]
    },
    {
     "name": "stderr",
     "output_type": "stream",
     "text": [
      "(41821) accepted ('127.0.0.1', 49274)\n",
      "173.20.233.125,127.0.0.1 - - [22/Oct/2023 18:53:10] \"POST /add_step HTTP/1.1\" 200 166 0.002156\n"
     ]
    },
    {
     "name": "stdout",
     "output_type": "stream",
     "text": [
      "<Response [200]>\n"
     ]
    },
    {
     "name": "stderr",
     "output_type": "stream",
     "text": [
      "(41821) accepted ('127.0.0.1', 50523)\n",
      "173.20.233.125,127.0.0.1 - - [22/Oct/2023 18:53:11] \"POST /add_step HTTP/1.1\" 200 166 0.000661\n"
     ]
    },
    {
     "name": "stdout",
     "output_type": "stream",
     "text": [
      "<Response [200]>\n"
     ]
    },
    {
     "name": "stderr",
     "output_type": "stream",
     "text": [
      "(41821) accepted ('127.0.0.1', 51825)\n",
      "173.20.233.125,127.0.0.1 - - [22/Oct/2023 18:53:11] \"POST /add_step HTTP/1.1\" 200 166 0.000688\n"
     ]
    },
    {
     "name": "stdout",
     "output_type": "stream",
     "text": [
      "<Response [200]>\n"
     ]
    },
    {
     "name": "stderr",
     "output_type": "stream",
     "text": [
      "(41821) accepted ('127.0.0.1', 53805)\n",
      "173.20.233.125,127.0.0.1 - - [22/Oct/2023 18:53:12] \"POST /add_step HTTP/1.1\" 200 166 0.000472\n"
     ]
    },
    {
     "name": "stdout",
     "output_type": "stream",
     "text": [
      "<Response [200]>\n"
     ]
    },
    {
     "name": "stderr",
     "output_type": "stream",
     "text": [
      "(41821) accepted ('127.0.0.1', 55178)\n",
      "173.20.233.125,127.0.0.1 - - [22/Oct/2023 18:53:13] \"POST /add_step HTTP/1.1\" 200 166 0.000736\n"
     ]
    },
    {
     "name": "stdout",
     "output_type": "stream",
     "text": [
      "<Response [200]>\n"
     ]
    },
    {
     "name": "stderr",
     "output_type": "stream",
     "text": [
      "(41821) accepted ('127.0.0.1', 56349)\n",
      "173.20.233.125,127.0.0.1 - - [22/Oct/2023 18:53:14] \"POST /add_step HTTP/1.1\" 200 166 0.000677\n"
     ]
    },
    {
     "name": "stdout",
     "output_type": "stream",
     "text": [
      "<Response [200]>\n"
     ]
    },
    {
     "name": "stderr",
     "output_type": "stream",
     "text": [
      "(41821) accepted ('127.0.0.1', 57500)\n",
      "173.20.233.125,127.0.0.1 - - [22/Oct/2023 18:53:14] \"POST /add_step HTTP/1.1\" 200 166 0.000769\n"
     ]
    },
    {
     "name": "stdout",
     "output_type": "stream",
     "text": [
      "<Response [200]>\n"
     ]
    },
    {
     "name": "stderr",
     "output_type": "stream",
     "text": [
      "(41821) accepted ('127.0.0.1', 58697)\n",
      "173.20.233.125,127.0.0.1 - - [22/Oct/2023 18:53:15] \"POST /add_step HTTP/1.1\" 200 166 0.000634\n"
     ]
    },
    {
     "name": "stdout",
     "output_type": "stream",
     "text": [
      "<Response [200]>\n"
     ]
    },
    {
     "name": "stderr",
     "output_type": "stream",
     "text": [
      "(41821) accepted ('127.0.0.1', 59974)\n",
      "173.20.233.125,127.0.0.1 - - [22/Oct/2023 18:53:16] \"POST /add_step HTTP/1.1\" 200 166 0.000667\n"
     ]
    },
    {
     "name": "stdout",
     "output_type": "stream",
     "text": [
      "<Response [200]>\n"
     ]
    },
    {
     "name": "stderr",
     "output_type": "stream",
     "text": [
      "(41821) accepted ('127.0.0.1', 61243)\n",
      "173.20.233.125,127.0.0.1 - - [22/Oct/2023 18:53:16] \"POST /add_step HTTP/1.1\" 200 166 0.000635\n"
     ]
    },
    {
     "name": "stdout",
     "output_type": "stream",
     "text": [
      "<Response [200]>\n"
     ]
    },
    {
     "name": "stderr",
     "output_type": "stream",
     "text": [
      "(41821) accepted ('127.0.0.1', 62547)\n",
      "173.20.233.125,127.0.0.1 - - [22/Oct/2023 18:53:17] \"POST /add_step HTTP/1.1\" 200 166 0.000647\n"
     ]
    },
    {
     "name": "stdout",
     "output_type": "stream",
     "text": [
      "<Response [200]>\n"
     ]
    },
    {
     "name": "stderr",
     "output_type": "stream",
     "text": [
      "(41821) accepted ('127.0.0.1', 63732)\n",
      "173.20.233.125,127.0.0.1 - - [22/Oct/2023 18:53:18] \"POST /add_step HTTP/1.1\" 200 166 0.000680\n"
     ]
    },
    {
     "name": "stdout",
     "output_type": "stream",
     "text": [
      "<Response [200]>\n"
     ]
    },
    {
     "name": "stderr",
     "output_type": "stream",
     "text": [
      "(41821) accepted ('127.0.0.1', 65011)\n",
      "173.20.233.125,127.0.0.1 - - [22/Oct/2023 18:53:19] \"POST /add_step HTTP/1.1\" 200 166 0.000620\n"
     ]
    },
    {
     "name": "stdout",
     "output_type": "stream",
     "text": [
      "<Response [200]>\n"
     ]
    },
    {
     "name": "stderr",
     "output_type": "stream",
     "text": [
      "(41821) accepted ('127.0.0.1', 49847)\n",
      "173.20.233.125,127.0.0.1 - - [22/Oct/2023 18:53:19] \"POST /add_step HTTP/1.1\" 200 166 0.000514\n"
     ]
    },
    {
     "name": "stdout",
     "output_type": "stream",
     "text": [
      "<Response [200]>\n"
     ]
    },
    {
     "name": "stderr",
     "output_type": "stream",
     "text": [
      "(41821) accepted ('127.0.0.1', 51082)\n",
      "173.20.233.125,127.0.0.1 - - [22/Oct/2023 18:53:20] \"POST /add_step HTTP/1.1\" 200 166 0.000652\n"
     ]
    },
    {
     "name": "stdout",
     "output_type": "stream",
     "text": [
      "<Response [200]>\n"
     ]
    },
    {
     "name": "stderr",
     "output_type": "stream",
     "text": [
      "(41821) accepted ('127.0.0.1', 52268)\n",
      "173.20.233.125,127.0.0.1 - - [22/Oct/2023 18:53:21] \"POST /add_step HTTP/1.1\" 200 166 0.000717\n"
     ]
    },
    {
     "name": "stdout",
     "output_type": "stream",
     "text": [
      "<Response [200]>\n"
     ]
    },
    {
     "name": "stderr",
     "output_type": "stream",
     "text": [
      "(41821) accepted ('127.0.0.1', 53462)\n",
      "173.20.233.125,127.0.0.1 - - [22/Oct/2023 18:53:21] \"POST /add_step HTTP/1.1\" 200 166 0.000666\n"
     ]
    },
    {
     "name": "stdout",
     "output_type": "stream",
     "text": [
      "<Response [200]>\n"
     ]
    },
    {
     "name": "stderr",
     "output_type": "stream",
     "text": [
      "(41821) accepted ('127.0.0.1', 54650)\n",
      "173.20.233.125,127.0.0.1 - - [22/Oct/2023 18:53:22] \"POST /add_step HTTP/1.1\" 200 166 0.000816\n"
     ]
    },
    {
     "name": "stdout",
     "output_type": "stream",
     "text": [
      "<Response [200]>\n"
     ]
    },
    {
     "name": "stderr",
     "output_type": "stream",
     "text": [
      "(41821) accepted ('127.0.0.1', 55811)\n",
      "173.20.233.125,127.0.0.1 - - [22/Oct/2023 18:53:22] \"POST /add_step HTTP/1.1\" 200 166 0.000640\n"
     ]
    },
    {
     "name": "stdout",
     "output_type": "stream",
     "text": [
      "<Response [200]>\n"
     ]
    },
    {
     "name": "stderr",
     "output_type": "stream",
     "text": [
      "(41821) accepted ('127.0.0.1', 56981)\n",
      "173.20.233.125,127.0.0.1 - - [22/Oct/2023 18:53:23] \"POST /add_step HTTP/1.1\" 200 166 0.000741\n"
     ]
    },
    {
     "name": "stdout",
     "output_type": "stream",
     "text": [
      "<Response [200]>\n"
     ]
    },
    {
     "name": "stderr",
     "output_type": "stream",
     "text": [
      "(41821) accepted ('127.0.0.1', 58209)\n",
      "173.20.233.125,127.0.0.1 - - [22/Oct/2023 18:53:24] \"POST /add_step HTTP/1.1\" 200 166 0.000846\n"
     ]
    },
    {
     "name": "stdout",
     "output_type": "stream",
     "text": [
      "<Response [200]>\n"
     ]
    },
    {
     "name": "stderr",
     "output_type": "stream",
     "text": [
      "(41821) accepted ('127.0.0.1', 59363)\n",
      "173.20.233.125,127.0.0.1 - - [22/Oct/2023 18:53:24] \"POST /add_step HTTP/1.1\" 200 166 0.000929\n"
     ]
    },
    {
     "name": "stdout",
     "output_type": "stream",
     "text": [
      "<Response [200]>\n"
     ]
    },
    {
     "name": "stderr",
     "output_type": "stream",
     "text": [
      "(41821) accepted ('127.0.0.1', 60665)\n",
      "173.20.233.125,127.0.0.1 - - [22/Oct/2023 18:53:25] \"POST /add_step HTTP/1.1\" 200 166 0.000722\n"
     ]
    },
    {
     "name": "stdout",
     "output_type": "stream",
     "text": [
      "<Response [200]>\n"
     ]
    },
    {
     "name": "stderr",
     "output_type": "stream",
     "text": [
      "(41821) accepted ('127.0.0.1', 61866)\n",
      "173.20.233.125,127.0.0.1 - - [22/Oct/2023 18:53:26] \"POST /add_step HTTP/1.1\" 200 166 0.000732\n"
     ]
    },
    {
     "name": "stdout",
     "output_type": "stream",
     "text": [
      "<Response [200]>\n"
     ]
    },
    {
     "name": "stderr",
     "output_type": "stream",
     "text": [
      "(41821) accepted ('127.0.0.1', 63141)\n",
      "173.20.233.125,127.0.0.1 - - [22/Oct/2023 18:53:26] \"POST /add_step HTTP/1.1\" 200 166 0.001498\n"
     ]
    },
    {
     "name": "stdout",
     "output_type": "stream",
     "text": [
      "<Response [200]>\n"
     ]
    },
    {
     "name": "stderr",
     "output_type": "stream",
     "text": [
      "(41821) accepted ('127.0.0.1', 64328)\n",
      "173.20.233.125,127.0.0.1 - - [22/Oct/2023 18:53:27] \"POST /add_step HTTP/1.1\" 200 166 0.000629\n"
     ]
    },
    {
     "name": "stdout",
     "output_type": "stream",
     "text": [
      "<Response [200]>\n"
     ]
    },
    {
     "name": "stderr",
     "output_type": "stream",
     "text": [
      "(41821) accepted ('127.0.0.1', 49194)\n",
      "173.20.233.125,127.0.0.1 - - [22/Oct/2023 18:53:28] \"POST /add_step HTTP/1.1\" 200 166 0.000650\n"
     ]
    },
    {
     "name": "stdout",
     "output_type": "stream",
     "text": [
      "<Response [200]>\n"
     ]
    },
    {
     "name": "stderr",
     "output_type": "stream",
     "text": [
      "(41821) accepted ('127.0.0.1', 50453)\n",
      "173.20.233.125,127.0.0.1 - - [22/Oct/2023 18:53:28] \"POST /add_step HTTP/1.1\" 200 166 0.000555\n"
     ]
    },
    {
     "name": "stdout",
     "output_type": "stream",
     "text": [
      "<Response [200]>\n"
     ]
    },
    {
     "name": "stderr",
     "output_type": "stream",
     "text": [
      "(41821) accepted ('127.0.0.1', 51715)\n",
      "173.20.233.125,127.0.0.1 - - [22/Oct/2023 18:53:29] \"POST /add_step HTTP/1.1\" 200 166 0.000445\n"
     ]
    },
    {
     "name": "stdout",
     "output_type": "stream",
     "text": [
      "<Response [200]>\n"
     ]
    },
    {
     "name": "stderr",
     "output_type": "stream",
     "text": [
      "(41821) accepted ('127.0.0.1', 53606)\n",
      "173.20.233.125,127.0.0.1 - - [22/Oct/2023 18:53:30] \"POST /add_step HTTP/1.1\" 200 166 0.001008\n"
     ]
    },
    {
     "name": "stdout",
     "output_type": "stream",
     "text": [
      "<Response [200]>\n"
     ]
    },
    {
     "name": "stderr",
     "output_type": "stream",
     "text": [
      "(41821) accepted ('127.0.0.1', 54973)\n",
      "173.20.233.125,127.0.0.1 - - [22/Oct/2023 18:53:31] \"POST /add_step HTTP/1.1\" 200 166 0.000613\n"
     ]
    },
    {
     "name": "stdout",
     "output_type": "stream",
     "text": [
      "<Response [200]>\n"
     ]
    },
    {
     "name": "stderr",
     "output_type": "stream",
     "text": [
      "(41821) accepted ('127.0.0.1', 56210)\n",
      "173.20.233.125,127.0.0.1 - - [22/Oct/2023 18:53:32] \"POST /add_step HTTP/1.1\" 200 166 0.000482\n"
     ]
    },
    {
     "name": "stdout",
     "output_type": "stream",
     "text": [
      "<Response [200]>\n"
     ]
    },
    {
     "name": "stderr",
     "output_type": "stream",
     "text": [
      "(41821) accepted ('127.0.0.1', 57374)\n",
      "173.20.233.125,127.0.0.1 - - [22/Oct/2023 18:53:32] \"POST /add_step HTTP/1.1\" 200 166 0.000636\n"
     ]
    },
    {
     "name": "stdout",
     "output_type": "stream",
     "text": [
      "<Response [200]>\n"
     ]
    },
    {
     "name": "stderr",
     "output_type": "stream",
     "text": [
      "(41821) accepted ('127.0.0.1', 58555)\n",
      "173.20.233.125,127.0.0.1 - - [22/Oct/2023 18:53:33] \"POST /add_step HTTP/1.1\" 200 166 0.001048\n"
     ]
    },
    {
     "name": "stdout",
     "output_type": "stream",
     "text": [
      "<Response [200]>\n"
     ]
    },
    {
     "name": "stderr",
     "output_type": "stream",
     "text": [
      "(41821) accepted ('127.0.0.1', 59821)\n",
      "173.20.233.125,127.0.0.1 - - [22/Oct/2023 18:53:33] \"POST /add_step HTTP/1.1\" 200 166 0.000638\n"
     ]
    },
    {
     "name": "stdout",
     "output_type": "stream",
     "text": [
      "<Response [200]>\n"
     ]
    },
    {
     "name": "stderr",
     "output_type": "stream",
     "text": [
      "(41821) accepted ('127.0.0.1', 60974)\n",
      "173.20.233.125,127.0.0.1 - - [22/Oct/2023 18:53:34] \"POST /add_step HTTP/1.1\" 200 166 0.000640\n"
     ]
    },
    {
     "name": "stdout",
     "output_type": "stream",
     "text": [
      "<Response [200]>\n"
     ]
    },
    {
     "name": "stderr",
     "output_type": "stream",
     "text": [
      "(41821) accepted ('127.0.0.1', 62116)\n",
      "173.20.233.125,127.0.0.1 - - [22/Oct/2023 18:53:35] \"POST /add_step HTTP/1.1\" 200 166 0.000767\n"
     ]
    },
    {
     "name": "stdout",
     "output_type": "stream",
     "text": [
      "<Response [200]>\n"
     ]
    },
    {
     "name": "stderr",
     "output_type": "stream",
     "text": [
      "(41821) accepted ('127.0.0.1', 63247)\n",
      "173.20.233.125,127.0.0.1 - - [22/Oct/2023 18:53:35] \"POST /add_step HTTP/1.1\" 200 166 0.000775\n"
     ]
    },
    {
     "name": "stdout",
     "output_type": "stream",
     "text": [
      "<Response [200]>\n"
     ]
    },
    {
     "name": "stderr",
     "output_type": "stream",
     "text": [
      "(41821) accepted ('127.0.0.1', 64345)\n",
      "173.20.233.125,127.0.0.1 - - [22/Oct/2023 18:53:36] \"POST /add_step HTTP/1.1\" 200 166 0.000879\n"
     ]
    },
    {
     "name": "stdout",
     "output_type": "stream",
     "text": [
      "<Response [200]>\n"
     ]
    },
    {
     "name": "stderr",
     "output_type": "stream",
     "text": [
      "(41821) accepted ('127.0.0.1', 65476)\n",
      "173.20.233.125,127.0.0.1 - - [22/Oct/2023 18:53:37] \"POST /add_step HTTP/1.1\" 200 166 0.000644\n"
     ]
    },
    {
     "name": "stdout",
     "output_type": "stream",
     "text": [
      "<Response [200]>\n"
     ]
    },
    {
     "name": "stderr",
     "output_type": "stream",
     "text": [
      "(41821) accepted ('127.0.0.1', 50250)\n",
      "173.20.233.125,127.0.0.1 - - [22/Oct/2023 18:53:37] \"POST /add_step HTTP/1.1\" 200 166 0.000814\n"
     ]
    },
    {
     "name": "stdout",
     "output_type": "stream",
     "text": [
      "<Response [200]>\n"
     ]
    },
    {
     "name": "stderr",
     "output_type": "stream",
     "text": [
      "(41821) accepted ('127.0.0.1', 51433)\n",
      "173.20.233.125,127.0.0.1 - - [22/Oct/2023 18:53:38] \"POST /add_step HTTP/1.1\" 200 166 0.000547\n"
     ]
    },
    {
     "name": "stdout",
     "output_type": "stream",
     "text": [
      "<Response [200]>\n"
     ]
    },
    {
     "name": "stderr",
     "output_type": "stream",
     "text": [
      "(41821) accepted ('127.0.0.1', 52591)\n",
      "173.20.233.125,127.0.0.1 - - [22/Oct/2023 18:53:38] \"POST /add_step HTTP/1.1\" 200 166 0.000854\n"
     ]
    },
    {
     "name": "stdout",
     "output_type": "stream",
     "text": [
      "<Response [200]>\n"
     ]
    },
    {
     "name": "stderr",
     "output_type": "stream",
     "text": [
      "(41821) accepted ('127.0.0.1', 53725)\n",
      "173.20.233.125,127.0.0.1 - - [22/Oct/2023 18:53:39] \"POST /add_step HTTP/1.1\" 200 166 0.001348\n"
     ]
    },
    {
     "name": "stdout",
     "output_type": "stream",
     "text": [
      "<Response [200]>\n"
     ]
    },
    {
     "name": "stderr",
     "output_type": "stream",
     "text": [
      "(41821) accepted ('127.0.0.1', 54886)\n",
      "173.20.233.125,127.0.0.1 - - [22/Oct/2023 18:53:40] \"POST /add_step HTTP/1.1\" 200 166 0.000628\n"
     ]
    },
    {
     "name": "stdout",
     "output_type": "stream",
     "text": [
      "<Response [200]>\n"
     ]
    },
    {
     "name": "stderr",
     "output_type": "stream",
     "text": [
      "(41821) accepted ('127.0.0.1', 56049)\n",
      "173.20.233.125,127.0.0.1 - - [22/Oct/2023 18:53:40] \"POST /add_step HTTP/1.1\" 200 166 0.000675\n"
     ]
    },
    {
     "name": "stdout",
     "output_type": "stream",
     "text": [
      "<Response [200]>\n"
     ]
    },
    {
     "name": "stderr",
     "output_type": "stream",
     "text": [
      "(41821) accepted ('127.0.0.1', 57283)\n",
      "173.20.233.125,127.0.0.1 - - [22/Oct/2023 18:53:41] \"POST /add_step HTTP/1.1\" 200 166 0.000909\n"
     ]
    },
    {
     "name": "stdout",
     "output_type": "stream",
     "text": [
      "<Response [200]>\n"
     ]
    },
    {
     "name": "stderr",
     "output_type": "stream",
     "text": [
      "(41821) accepted ('127.0.0.1', 58498)\n",
      "173.20.233.125,127.0.0.1 - - [22/Oct/2023 18:53:42] \"POST /add_step HTTP/1.1\" 200 166 0.000639\n"
     ]
    },
    {
     "name": "stdout",
     "output_type": "stream",
     "text": [
      "<Response [200]>\n"
     ]
    },
    {
     "name": "stderr",
     "output_type": "stream",
     "text": [
      "(41821) accepted ('127.0.0.1', 59681)\n",
      "173.20.233.125,127.0.0.1 - - [22/Oct/2023 18:53:42] \"POST /add_step HTTP/1.1\" 200 166 0.000646\n"
     ]
    },
    {
     "name": "stdout",
     "output_type": "stream",
     "text": [
      "<Response [200]>\n"
     ]
    },
    {
     "name": "stderr",
     "output_type": "stream",
     "text": [
      "(41821) accepted ('127.0.0.1', 61032)\n",
      "173.20.233.125,127.0.0.1 - - [22/Oct/2023 18:53:43] \"POST /add_step HTTP/1.1\" 200 166 0.000486\n"
     ]
    },
    {
     "name": "stdout",
     "output_type": "stream",
     "text": [
      "<Response [200]>\n"
     ]
    },
    {
     "name": "stderr",
     "output_type": "stream",
     "text": [
      "(41821) accepted ('127.0.0.1', 62830)\n",
      "173.20.233.125,127.0.0.1 - - [22/Oct/2023 18:53:44] \"POST /add_step HTTP/1.1\" 200 166 0.000605\n"
     ]
    },
    {
     "name": "stdout",
     "output_type": "stream",
     "text": [
      "<Response [200]>\n"
     ]
    },
    {
     "name": "stderr",
     "output_type": "stream",
     "text": [
      "(41821) accepted ('127.0.0.1', 64199)\n",
      "173.20.233.125,127.0.0.1 - - [22/Oct/2023 18:53:45] \"POST /add_step HTTP/1.1\" 200 166 0.000773\n"
     ]
    },
    {
     "name": "stdout",
     "output_type": "stream",
     "text": [
      "<Response [200]>\n"
     ]
    },
    {
     "name": "stderr",
     "output_type": "stream",
     "text": [
      "(41821) accepted ('127.0.0.1', 65440)\n",
      "173.20.233.125,127.0.0.1 - - [22/Oct/2023 18:53:45] \"POST /add_step HTTP/1.1\" 200 166 0.000731\n"
     ]
    },
    {
     "name": "stdout",
     "output_type": "stream",
     "text": [
      "<Response [200]>\n"
     ]
    },
    {
     "name": "stderr",
     "output_type": "stream",
     "text": [
      "(41821) accepted ('127.0.0.1', 50342)\n",
      "173.20.233.125,127.0.0.1 - - [22/Oct/2023 18:53:46] \"POST /add_step HTTP/1.1\" 200 166 0.000701\n"
     ]
    },
    {
     "name": "stdout",
     "output_type": "stream",
     "text": [
      "<Response [200]>\n"
     ]
    },
    {
     "name": "stderr",
     "output_type": "stream",
     "text": [
      "(41821) accepted ('127.0.0.1', 51526)\n",
      "173.20.233.125,127.0.0.1 - - [22/Oct/2023 18:53:47] \"POST /add_step HTTP/1.1\" 200 166 0.000786\n"
     ]
    },
    {
     "name": "stdout",
     "output_type": "stream",
     "text": [
      "<Response [200]>\n"
     ]
    },
    {
     "name": "stderr",
     "output_type": "stream",
     "text": [
      "(41821) accepted ('127.0.0.1', 52732)\n",
      "173.20.233.125,127.0.0.1 - - [22/Oct/2023 18:53:47] \"POST /add_step HTTP/1.1\" 200 166 0.000799\n"
     ]
    },
    {
     "name": "stdout",
     "output_type": "stream",
     "text": [
      "<Response [200]>\n"
     ]
    },
    {
     "name": "stderr",
     "output_type": "stream",
     "text": [
      "(41821) accepted ('127.0.0.1', 53991)\n",
      "173.20.233.125,127.0.0.1 - - [22/Oct/2023 18:53:48] \"POST /add_step HTTP/1.1\" 200 166 0.000924\n"
     ]
    },
    {
     "name": "stdout",
     "output_type": "stream",
     "text": [
      "<Response [200]>\n"
     ]
    },
    {
     "name": "stderr",
     "output_type": "stream",
     "text": [
      "(41821) accepted ('127.0.0.1', 55202)\n",
      "173.20.233.125,127.0.0.1 - - [22/Oct/2023 18:53:49] \"POST /add_step HTTP/1.1\" 200 166 0.000764\n"
     ]
    },
    {
     "name": "stdout",
     "output_type": "stream",
     "text": [
      "<Response [200]>\n"
     ]
    },
    {
     "name": "stderr",
     "output_type": "stream",
     "text": [
      "(41821) accepted ('127.0.0.1', 56474)\n",
      "173.20.233.125,127.0.0.1 - - [22/Oct/2023 18:53:49] \"POST /add_step HTTP/1.1\" 200 166 0.000759\n"
     ]
    },
    {
     "name": "stdout",
     "output_type": "stream",
     "text": [
      "<Response [200]>\n"
     ]
    },
    {
     "name": "stderr",
     "output_type": "stream",
     "text": [
      "(41821) accepted ('127.0.0.1', 57708)\n",
      "173.20.233.125,127.0.0.1 - - [22/Oct/2023 18:53:50] \"POST /add_step HTTP/1.1\" 200 166 0.000680\n"
     ]
    },
    {
     "name": "stdout",
     "output_type": "stream",
     "text": [
      "<Response [200]>\n"
     ]
    },
    {
     "name": "stderr",
     "output_type": "stream",
     "text": [
      "(41821) accepted ('127.0.0.1', 59033)\n",
      "173.20.233.125,127.0.0.1 - - [22/Oct/2023 18:53:51] \"POST /add_step HTTP/1.1\" 200 166 0.000615\n"
     ]
    },
    {
     "name": "stdout",
     "output_type": "stream",
     "text": [
      "<Response [200]>\n"
     ]
    },
    {
     "name": "stderr",
     "output_type": "stream",
     "text": [
      "(41821) accepted ('127.0.0.1', 60227)\n",
      "173.20.233.125,127.0.0.1 - - [22/Oct/2023 18:53:51] \"POST /add_step HTTP/1.1\" 200 166 0.001218\n"
     ]
    },
    {
     "name": "stdout",
     "output_type": "stream",
     "text": [
      "<Response [200]>\n"
     ]
    },
    {
     "name": "stderr",
     "output_type": "stream",
     "text": [
      "(41821) accepted ('127.0.0.1', 61426)\n",
      "173.20.233.125,127.0.0.1 - - [22/Oct/2023 18:53:52] \"POST /add_step HTTP/1.1\" 200 166 0.000679\n"
     ]
    },
    {
     "name": "stdout",
     "output_type": "stream",
     "text": [
      "<Response [200]>\n"
     ]
    },
    {
     "name": "stderr",
     "output_type": "stream",
     "text": [
      "(41821) accepted ('127.0.0.1', 62553)\n",
      "173.20.233.125,127.0.0.1 - - [22/Oct/2023 18:53:53] \"POST /add_step HTTP/1.1\" 200 166 0.000948\n"
     ]
    },
    {
     "name": "stdout",
     "output_type": "stream",
     "text": [
      "<Response [200]>\n"
     ]
    },
    {
     "name": "stderr",
     "output_type": "stream",
     "text": [
      "(41821) accepted ('127.0.0.1', 63726)\n",
      "173.20.233.125,127.0.0.1 - - [22/Oct/2023 18:53:53] \"POST /add_step HTTP/1.1\" 200 166 0.000638\n"
     ]
    },
    {
     "name": "stdout",
     "output_type": "stream",
     "text": [
      "<Response [200]>\n"
     ]
    },
    {
     "name": "stderr",
     "output_type": "stream",
     "text": [
      "(41821) accepted ('127.0.0.1', 64895)\n",
      "173.20.233.125,127.0.0.1 - - [22/Oct/2023 18:53:54] \"POST /add_step HTTP/1.1\" 200 166 0.004868\n"
     ]
    },
    {
     "name": "stdout",
     "output_type": "stream",
     "text": [
      "<Response [200]>\n"
     ]
    },
    {
     "name": "stderr",
     "output_type": "stream",
     "text": [
      "(41821) accepted ('127.0.0.1', 49719)\n",
      "173.20.233.125,127.0.0.1 - - [22/Oct/2023 18:53:55] \"POST /add_step HTTP/1.1\" 200 166 0.000881\n"
     ]
    },
    {
     "name": "stdout",
     "output_type": "stream",
     "text": [
      "<Response [200]>\n"
     ]
    },
    {
     "name": "stderr",
     "output_type": "stream",
     "text": [
      "(41821) accepted ('127.0.0.1', 50906)\n",
      "173.20.233.125,127.0.0.1 - - [22/Oct/2023 18:53:55] \"POST /add_step HTTP/1.1\" 200 166 0.000708\n"
     ]
    },
    {
     "name": "stdout",
     "output_type": "stream",
     "text": [
      "<Response [200]>\n"
     ]
    },
    {
     "name": "stderr",
     "output_type": "stream",
     "text": [
      "(41821) accepted ('127.0.0.1', 52076)\n",
      "173.20.233.125,127.0.0.1 - - [22/Oct/2023 18:53:56] \"POST /add_step HTTP/1.1\" 200 166 0.001032\n"
     ]
    },
    {
     "name": "stdout",
     "output_type": "stream",
     "text": [
      "<Response [200]>\n"
     ]
    },
    {
     "name": "stderr",
     "output_type": "stream",
     "text": [
      "(41821) accepted ('127.0.0.1', 53296)\n",
      "173.20.233.125,127.0.0.1 - - [22/Oct/2023 18:53:57] \"POST /add_step HTTP/1.1\" 200 166 0.000873\n"
     ]
    },
    {
     "name": "stdout",
     "output_type": "stream",
     "text": [
      "<Response [200]>\n"
     ]
    },
    {
     "name": "stderr",
     "output_type": "stream",
     "text": [
      "(41821) accepted ('127.0.0.1', 54530)\n",
      "173.20.233.125,127.0.0.1 - - [22/Oct/2023 18:53:57] \"POST /add_step HTTP/1.1\" 200 166 0.000657\n"
     ]
    },
    {
     "name": "stdout",
     "output_type": "stream",
     "text": [
      "<Response [200]>\n"
     ]
    },
    {
     "name": "stderr",
     "output_type": "stream",
     "text": [
      "(41821) accepted ('127.0.0.1', 55723)\n",
      "173.20.233.125,127.0.0.1 - - [22/Oct/2023 18:53:58] \"POST /add_step HTTP/1.1\" 200 166 0.000635\n"
     ]
    },
    {
     "name": "stdout",
     "output_type": "stream",
     "text": [
      "<Response [200]>\n"
     ]
    },
    {
     "name": "stderr",
     "output_type": "stream",
     "text": [
      "(41821) accepted ('127.0.0.1', 57164)\n",
      "173.20.233.125,127.0.0.1 - - [22/Oct/2023 18:53:59] \"POST /add_step HTTP/1.1\" 200 166 0.000488\n"
     ]
    },
    {
     "name": "stdout",
     "output_type": "stream",
     "text": [
      "<Response [200]>\n"
     ]
    },
    {
     "name": "stderr",
     "output_type": "stream",
     "text": [
      "(41821) accepted ('127.0.0.1', 58814)\n",
      "173.20.233.125,127.0.0.1 - - [22/Oct/2023 18:54:00] \"POST /add_step HTTP/1.1\" 200 166 0.000482\n"
     ]
    },
    {
     "name": "stdout",
     "output_type": "stream",
     "text": [
      "<Response [200]>\n"
     ]
    },
    {
     "name": "stderr",
     "output_type": "stream",
     "text": [
      "(41821) accepted ('127.0.0.1', 60237)\n",
      "173.20.233.125,127.0.0.1 - - [22/Oct/2023 18:54:00] \"POST /add_step HTTP/1.1\" 200 166 0.000518\n"
     ]
    },
    {
     "name": "stdout",
     "output_type": "stream",
     "text": [
      "<Response [200]>\n"
     ]
    },
    {
     "name": "stderr",
     "output_type": "stream",
     "text": [
      "(41821) accepted ('127.0.0.1', 61538)\n",
      "173.20.233.125,127.0.0.1 - - [22/Oct/2023 18:54:01] \"POST /add_step HTTP/1.1\" 200 166 0.000662\n"
     ]
    },
    {
     "name": "stdout",
     "output_type": "stream",
     "text": [
      "<Response [200]>\n"
     ]
    },
    {
     "name": "stderr",
     "output_type": "stream",
     "text": [
      "(41821) accepted ('127.0.0.1', 62708)\n",
      "173.20.233.125,127.0.0.1 - - [22/Oct/2023 18:54:02] \"POST /add_step HTTP/1.1\" 200 166 0.000527\n"
     ]
    },
    {
     "name": "stdout",
     "output_type": "stream",
     "text": [
      "<Response [200]>\n"
     ]
    },
    {
     "name": "stderr",
     "output_type": "stream",
     "text": [
      "(41821) accepted ('127.0.0.1', 63869)\n",
      "173.20.233.125,127.0.0.1 - - [22/Oct/2023 18:54:02] \"POST /add_step HTTP/1.1\" 200 166 0.000768\n"
     ]
    },
    {
     "name": "stdout",
     "output_type": "stream",
     "text": [
      "<Response [200]>\n"
     ]
    },
    {
     "name": "stderr",
     "output_type": "stream",
     "text": [
      "(41821) accepted ('127.0.0.1', 65130)\n",
      "173.20.233.125,127.0.0.1 - - [22/Oct/2023 18:54:03] \"POST /add_step HTTP/1.1\" 200 166 0.000638\n"
     ]
    },
    {
     "name": "stdout",
     "output_type": "stream",
     "text": [
      "<Response [200]>\n"
     ]
    },
    {
     "name": "stderr",
     "output_type": "stream",
     "text": [
      "(41821) accepted ('127.0.0.1', 49924)\n",
      "173.20.233.125,127.0.0.1 - - [22/Oct/2023 18:54:04] \"POST /add_step HTTP/1.1\" 200 166 0.000642\n"
     ]
    },
    {
     "name": "stdout",
     "output_type": "stream",
     "text": [
      "<Response [200]>\n"
     ]
    },
    {
     "name": "stderr",
     "output_type": "stream",
     "text": [
      "(41821) accepted ('127.0.0.1', 51168)\n",
      "173.20.233.125,127.0.0.1 - - [22/Oct/2023 18:54:04] \"POST /add_step HTTP/1.1\" 200 166 0.000883\n"
     ]
    },
    {
     "name": "stdout",
     "output_type": "stream",
     "text": [
      "<Response [200]>\n"
     ]
    },
    {
     "name": "stderr",
     "output_type": "stream",
     "text": [
      "(41821) accepted ('127.0.0.1', 52355)\n",
      "173.20.233.125,127.0.0.1 - - [22/Oct/2023 18:54:05] \"POST /add_step HTTP/1.1\" 200 166 0.000788\n"
     ]
    },
    {
     "name": "stdout",
     "output_type": "stream",
     "text": [
      "<Response [200]>\n"
     ]
    },
    {
     "name": "stderr",
     "output_type": "stream",
     "text": [
      "(41821) accepted ('127.0.0.1', 53568)\n",
      "173.20.233.125,127.0.0.1 - - [22/Oct/2023 18:54:06] \"POST /add_step HTTP/1.1\" 200 166 0.000543\n"
     ]
    },
    {
     "name": "stdout",
     "output_type": "stream",
     "text": [
      "<Response [200]>\n"
     ]
    },
    {
     "name": "stderr",
     "output_type": "stream",
     "text": [
      "(41821) accepted ('127.0.0.1', 54874)\n",
      "173.20.233.125,127.0.0.1 - - [22/Oct/2023 18:54:06] \"POST /add_step HTTP/1.1\" 200 166 0.001139\n"
     ]
    },
    {
     "name": "stdout",
     "output_type": "stream",
     "text": [
      "<Response [200]>\n"
     ]
    },
    {
     "name": "stderr",
     "output_type": "stream",
     "text": [
      "(41821) accepted ('127.0.0.1', 56031)\n",
      "173.20.233.125,127.0.0.1 - - [22/Oct/2023 18:54:07] \"POST /add_step HTTP/1.1\" 200 166 0.000727\n"
     ]
    },
    {
     "name": "stdout",
     "output_type": "stream",
     "text": [
      "<Response [200]>\n"
     ]
    },
    {
     "name": "stderr",
     "output_type": "stream",
     "text": [
      "(41821) accepted ('127.0.0.1', 57310)\n",
      "173.20.233.125,127.0.0.1 - - [22/Oct/2023 18:54:08] \"POST /add_step HTTP/1.1\" 200 166 0.000762\n"
     ]
    },
    {
     "name": "stdout",
     "output_type": "stream",
     "text": [
      "<Response [200]>\n"
     ]
    },
    {
     "name": "stderr",
     "output_type": "stream",
     "text": [
      "(41821) accepted ('127.0.0.1', 58520)\n",
      "173.20.233.125,127.0.0.1 - - [22/Oct/2023 18:54:08] \"POST /add_step HTTP/1.1\" 200 166 0.000724\n"
     ]
    },
    {
     "name": "stdout",
     "output_type": "stream",
     "text": [
      "<Response [200]>\n"
     ]
    },
    {
     "name": "stderr",
     "output_type": "stream",
     "text": [
      "(41821) accepted ('127.0.0.1', 59727)\n",
      "173.20.233.125,127.0.0.1 - - [22/Oct/2023 18:54:09] \"POST /add_step HTTP/1.1\" 200 166 0.000755\n"
     ]
    },
    {
     "name": "stdout",
     "output_type": "stream",
     "text": [
      "<Response [200]>\n"
     ]
    },
    {
     "name": "stderr",
     "output_type": "stream",
     "text": [
      "(41821) accepted ('127.0.0.1', 61000)\n",
      "173.20.233.125,127.0.0.1 - - [22/Oct/2023 18:54:10] \"POST /add_step HTTP/1.1\" 200 166 0.000862\n"
     ]
    },
    {
     "name": "stdout",
     "output_type": "stream",
     "text": [
      "<Response [200]>\n"
     ]
    },
    {
     "name": "stderr",
     "output_type": "stream",
     "text": [
      "(41821) accepted ('127.0.0.1', 62222)\n",
      "173.20.233.125,127.0.0.1 - - [22/Oct/2023 18:54:10] \"POST /add_step HTTP/1.1\" 200 166 0.000659\n"
     ]
    },
    {
     "name": "stdout",
     "output_type": "stream",
     "text": [
      "<Response [200]>\n"
     ]
    },
    {
     "name": "stderr",
     "output_type": "stream",
     "text": [
      "(41821) accepted ('127.0.0.1', 63350)\n",
      "173.20.233.125,127.0.0.1 - - [22/Oct/2023 18:54:11] \"POST /add_step HTTP/1.1\" 200 166 0.000662\n"
     ]
    },
    {
     "name": "stdout",
     "output_type": "stream",
     "text": [
      "<Response [200]>\n"
     ]
    },
    {
     "name": "stderr",
     "output_type": "stream",
     "text": [
      "(41821) accepted ('127.0.0.1', 64526)\n",
      "173.20.233.125,127.0.0.1 - - [22/Oct/2023 18:54:12] \"POST /add_step HTTP/1.1\" 200 166 0.000620\n"
     ]
    },
    {
     "name": "stdout",
     "output_type": "stream",
     "text": [
      "<Response [200]>\n"
     ]
    },
    {
     "name": "stderr",
     "output_type": "stream",
     "text": [
      "(41821) accepted ('127.0.0.1', 49744)\n",
      "173.20.233.125,127.0.0.1 - - [22/Oct/2023 18:54:12] \"POST /add_step HTTP/1.1\" 200 166 0.000649\n"
     ]
    },
    {
     "name": "stdout",
     "output_type": "stream",
     "text": [
      "<Response [200]>\n"
     ]
    },
    {
     "name": "stderr",
     "output_type": "stream",
     "text": [
      "(41821) accepted ('127.0.0.1', 50947)\n",
      "173.20.233.125,127.0.0.1 - - [22/Oct/2023 18:54:13] \"POST /add_step HTTP/1.1\" 200 166 0.000616\n"
     ]
    },
    {
     "name": "stdout",
     "output_type": "stream",
     "text": [
      "<Response [200]>\n"
     ]
    },
    {
     "name": "stderr",
     "output_type": "stream",
     "text": [
      "(41821) accepted ('127.0.0.1', 52172)\n",
      "173.20.233.125,127.0.0.1 - - [22/Oct/2023 18:54:14] \"POST /add_step HTTP/1.1\" 200 166 0.000687\n"
     ]
    },
    {
     "name": "stdout",
     "output_type": "stream",
     "text": [
      "<Response [200]>\n"
     ]
    },
    {
     "name": "stderr",
     "output_type": "stream",
     "text": [
      "(41821) accepted ('127.0.0.1', 53379)\n",
      "173.20.233.125,127.0.0.1 - - [22/Oct/2023 18:54:14] \"POST /add_step HTTP/1.1\" 200 166 0.000565\n"
     ]
    },
    {
     "name": "stdout",
     "output_type": "stream",
     "text": [
      "<Response [200]>\n"
     ]
    },
    {
     "name": "stderr",
     "output_type": "stream",
     "text": [
      "(41821) accepted ('127.0.0.1', 54513)\n",
      "173.20.233.125,127.0.0.1 - - [22/Oct/2023 18:54:15] \"POST /add_step HTTP/1.1\" 200 166 0.000633\n"
     ]
    },
    {
     "name": "stdout",
     "output_type": "stream",
     "text": [
      "<Response [200]>\n"
     ]
    },
    {
     "name": "stderr",
     "output_type": "stream",
     "text": [
      "(41821) accepted ('127.0.0.1', 55718)\n",
      "173.20.233.125,127.0.0.1 - - [22/Oct/2023 18:54:16] \"POST /add_step HTTP/1.1\" 200 166 0.001069\n"
     ]
    },
    {
     "name": "stdout",
     "output_type": "stream",
     "text": [
      "<Response [200]>\n"
     ]
    },
    {
     "name": "stderr",
     "output_type": "stream",
     "text": [
      "(41821) accepted ('127.0.0.1', 56968)\n",
      "173.20.233.125,127.0.0.1 - - [22/Oct/2023 18:54:16] \"POST /add_step HTTP/1.1\" 200 166 0.000819\n"
     ]
    },
    {
     "name": "stdout",
     "output_type": "stream",
     "text": [
      "<Response [200]>\n"
     ]
    },
    {
     "name": "stderr",
     "output_type": "stream",
     "text": [
      "(41821) accepted ('127.0.0.1', 58174)\n",
      "173.20.233.125,127.0.0.1 - - [22/Oct/2023 18:54:17] \"POST /add_step HTTP/1.1\" 200 166 0.000932\n"
     ]
    },
    {
     "name": "stdout",
     "output_type": "stream",
     "text": [
      "<Response [200]>\n"
     ]
    },
    {
     "name": "stderr",
     "output_type": "stream",
     "text": [
      "(41821) accepted ('127.0.0.1', 59340)\n",
      "173.20.233.125,127.0.0.1 - - [22/Oct/2023 18:54:18] \"POST /add_step HTTP/1.1\" 200 166 0.000981\n"
     ]
    },
    {
     "name": "stdout",
     "output_type": "stream",
     "text": [
      "<Response [200]>\n"
     ]
    },
    {
     "name": "stderr",
     "output_type": "stream",
     "text": [
      "(41821) accepted ('127.0.0.1', 60531)\n",
      "173.20.233.125,127.0.0.1 - - [22/Oct/2023 18:54:18] \"POST /add_step HTTP/1.1\" 200 166 0.000645\n"
     ]
    },
    {
     "name": "stdout",
     "output_type": "stream",
     "text": [
      "<Response [200]>\n"
     ]
    },
    {
     "name": "stderr",
     "output_type": "stream",
     "text": [
      "(41821) accepted ('127.0.0.1', 61707)\n",
      "173.20.233.125,127.0.0.1 - - [22/Oct/2023 18:54:19] \"POST /add_step HTTP/1.1\" 200 166 0.000776\n"
     ]
    },
    {
     "name": "stdout",
     "output_type": "stream",
     "text": [
      "<Response [200]>\n"
     ]
    },
    {
     "name": "stderr",
     "output_type": "stream",
     "text": [
      "(41821) accepted ('127.0.0.1', 62922)\n",
      "173.20.233.125,127.0.0.1 - - [22/Oct/2023 18:54:20] \"POST /add_step HTTP/1.1\" 200 166 0.000858\n"
     ]
    },
    {
     "name": "stdout",
     "output_type": "stream",
     "text": [
      "<Response [200]>\n"
     ]
    },
    {
     "name": "stderr",
     "output_type": "stream",
     "text": [
      "(41821) accepted ('127.0.0.1', 64070)\n",
      "173.20.233.125,127.0.0.1 - - [22/Oct/2023 18:54:20] \"POST /add_step HTTP/1.1\" 200 166 0.000847\n"
     ]
    },
    {
     "name": "stdout",
     "output_type": "stream",
     "text": [
      "<Response [200]>\n"
     ]
    },
    {
     "name": "stderr",
     "output_type": "stream",
     "text": [
      "(41821) accepted ('127.0.0.1', 65281)\n",
      "173.20.233.125,127.0.0.1 - - [22/Oct/2023 18:54:21] \"POST /add_step HTTP/1.1\" 200 166 0.001120\n"
     ]
    },
    {
     "name": "stdout",
     "output_type": "stream",
     "text": [
      "<Response [200]>\n"
     ]
    },
    {
     "name": "stderr",
     "output_type": "stream",
     "text": [
      "(41821) accepted ('127.0.0.1', 50149)\n",
      "173.20.233.125,127.0.0.1 - - [22/Oct/2023 18:54:22] \"POST /add_step HTTP/1.1\" 200 166 0.000645\n"
     ]
    },
    {
     "name": "stdout",
     "output_type": "stream",
     "text": [
      "<Response [200]>\n"
     ]
    },
    {
     "name": "stderr",
     "output_type": "stream",
     "text": [
      "(41821) accepted ('127.0.0.1', 51345)\n",
      "173.20.233.125,127.0.0.1 - - [22/Oct/2023 18:54:22] \"POST /add_step HTTP/1.1\" 200 166 0.000816\n"
     ]
    },
    {
     "name": "stdout",
     "output_type": "stream",
     "text": [
      "<Response [200]>\n"
     ]
    },
    {
     "name": "stderr",
     "output_type": "stream",
     "text": [
      "(41821) accepted ('127.0.0.1', 52624)\n",
      "173.20.233.125,127.0.0.1 - - [22/Oct/2023 18:54:23] \"POST /add_step HTTP/1.1\" 200 166 0.000814\n"
     ]
    },
    {
     "name": "stdout",
     "output_type": "stream",
     "text": [
      "<Response [200]>\n"
     ]
    },
    {
     "name": "stderr",
     "output_type": "stream",
     "text": [
      "(41821) accepted ('127.0.0.1', 53936)\n",
      "173.20.233.125,127.0.0.1 - - [22/Oct/2023 18:54:24] \"POST /add_step HTTP/1.1\" 200 166 0.000723\n"
     ]
    },
    {
     "name": "stdout",
     "output_type": "stream",
     "text": [
      "<Response [200]>\n"
     ]
    },
    {
     "name": "stderr",
     "output_type": "stream",
     "text": [
      "(41821) accepted ('127.0.0.1', 55132)\n",
      "173.20.233.125,127.0.0.1 - - [22/Oct/2023 18:54:24] \"POST /add_step HTTP/1.1\" 200 166 0.000833\n"
     ]
    },
    {
     "name": "stdout",
     "output_type": "stream",
     "text": [
      "<Response [200]>\n"
     ]
    },
    {
     "name": "stderr",
     "output_type": "stream",
     "text": [
      "(41821) accepted ('127.0.0.1', 56328)\n",
      "173.20.233.125,127.0.0.1 - - [22/Oct/2023 18:54:25] \"POST /add_step HTTP/1.1\" 200 166 0.001091\n"
     ]
    },
    {
     "name": "stdout",
     "output_type": "stream",
     "text": [
      "<Response [200]>\n"
     ]
    },
    {
     "name": "stderr",
     "output_type": "stream",
     "text": [
      "(41821) accepted ('127.0.0.1', 57546)\n",
      "173.20.233.125,127.0.0.1 - - [22/Oct/2023 18:54:26] \"POST /add_step HTTP/1.1\" 200 166 0.000605\n"
     ]
    },
    {
     "name": "stdout",
     "output_type": "stream",
     "text": [
      "<Response [200]>\n"
     ]
    },
    {
     "name": "stderr",
     "output_type": "stream",
     "text": [
      "(41821) accepted ('127.0.0.1', 59202)\n",
      "173.20.233.125,127.0.0.1 - - [22/Oct/2023 18:54:27] \"POST /add_step HTTP/1.1\" 200 166 0.002230\n"
     ]
    },
    {
     "name": "stdout",
     "output_type": "stream",
     "text": [
      "<Response [200]>\n"
     ]
    },
    {
     "name": "stderr",
     "output_type": "stream",
     "text": [
      "(41821) accepted ('127.0.0.1', 60647)\n",
      "173.20.233.125,127.0.0.1 - - [22/Oct/2023 18:54:27] \"POST /add_step HTTP/1.1\" 200 166 0.000755\n"
     ]
    },
    {
     "name": "stdout",
     "output_type": "stream",
     "text": [
      "<Response [200]>\n"
     ]
    },
    {
     "name": "stderr",
     "output_type": "stream",
     "text": [
      "(41821) accepted ('127.0.0.1', 61836)\n",
      "173.20.233.125,127.0.0.1 - - [22/Oct/2023 18:54:28] \"POST /add_step HTTP/1.1\" 200 166 0.001060\n"
     ]
    },
    {
     "name": "stdout",
     "output_type": "stream",
     "text": [
      "<Response [200]>\n"
     ]
    },
    {
     "name": "stderr",
     "output_type": "stream",
     "text": [
      "(41821) accepted ('127.0.0.1', 63098)\n",
      "173.20.233.125,127.0.0.1 - - [22/Oct/2023 18:54:29] \"POST /add_step HTTP/1.1\" 200 166 0.001466\n"
     ]
    },
    {
     "name": "stdout",
     "output_type": "stream",
     "text": [
      "<Response [200]>\n"
     ]
    },
    {
     "name": "stderr",
     "output_type": "stream",
     "text": [
      "(41821) accepted ('127.0.0.1', 64246)\n",
      "173.20.233.125,127.0.0.1 - - [22/Oct/2023 18:54:29] \"POST /add_step HTTP/1.1\" 200 166 0.000641\n"
     ]
    },
    {
     "name": "stdout",
     "output_type": "stream",
     "text": [
      "<Response [200]>\n"
     ]
    },
    {
     "name": "stderr",
     "output_type": "stream",
     "text": [
      "(41821) accepted ('127.0.0.1', 65415)\n",
      "173.20.233.125,127.0.0.1 - - [22/Oct/2023 18:54:30] \"POST /add_step HTTP/1.1\" 200 166 0.000821\n"
     ]
    },
    {
     "name": "stdout",
     "output_type": "stream",
     "text": [
      "<Response [200]>\n"
     ]
    },
    {
     "name": "stderr",
     "output_type": "stream",
     "text": [
      "(41821) accepted ('127.0.0.1', 50252)\n",
      "173.20.233.125,127.0.0.1 - - [22/Oct/2023 18:54:31] \"POST /add_step HTTP/1.1\" 200 166 0.003768\n"
     ]
    },
    {
     "name": "stdout",
     "output_type": "stream",
     "text": [
      "<Response [200]>\n"
     ]
    },
    {
     "name": "stderr",
     "output_type": "stream",
     "text": [
      "(41821) accepted ('127.0.0.1', 51434)\n",
      "173.20.233.125,127.0.0.1 - - [22/Oct/2023 18:54:31] \"POST /add_step HTTP/1.1\" 200 166 0.000658\n"
     ]
    },
    {
     "name": "stdout",
     "output_type": "stream",
     "text": [
      "<Response [200]>\n"
     ]
    },
    {
     "name": "stderr",
     "output_type": "stream",
     "text": [
      "(41821) accepted ('127.0.0.1', 52568)\n",
      "173.20.233.125,127.0.0.1 - - [22/Oct/2023 18:54:32] \"POST /add_step HTTP/1.1\" 200 166 0.000754\n"
     ]
    },
    {
     "name": "stdout",
     "output_type": "stream",
     "text": [
      "<Response [200]>\n"
     ]
    },
    {
     "name": "stderr",
     "output_type": "stream",
     "text": [
      "(41821) accepted ('127.0.0.1', 53785)\n",
      "173.20.233.125,127.0.0.1 - - [22/Oct/2023 18:54:32] \"POST /add_step HTTP/1.1\" 200 166 0.000761\n"
     ]
    },
    {
     "name": "stdout",
     "output_type": "stream",
     "text": [
      "<Response [200]>\n"
     ]
    },
    {
     "name": "stderr",
     "output_type": "stream",
     "text": [
      "(41821) accepted ('127.0.0.1', 54998)\n",
      "173.20.233.125,127.0.0.1 - - [22/Oct/2023 18:54:33] \"POST /add_step HTTP/1.1\" 200 166 0.000704\n"
     ]
    },
    {
     "name": "stdout",
     "output_type": "stream",
     "text": [
      "<Response [200]>\n"
     ]
    },
    {
     "name": "stderr",
     "output_type": "stream",
     "text": [
      "(41821) accepted ('127.0.0.1', 56303)\n",
      "173.20.233.125,127.0.0.1 - - [22/Oct/2023 18:54:34] \"POST /add_step HTTP/1.1\" 200 166 0.000918\n"
     ]
    },
    {
     "name": "stdout",
     "output_type": "stream",
     "text": [
      "<Response [200]>\n"
     ]
    },
    {
     "name": "stderr",
     "output_type": "stream",
     "text": [
      "(41821) accepted ('127.0.0.1', 57541)\n",
      "173.20.233.125,127.0.0.1 - - [22/Oct/2023 18:54:34] \"POST /add_step HTTP/1.1\" 200 166 0.000549\n"
     ]
    },
    {
     "name": "stdout",
     "output_type": "stream",
     "text": [
      "<Response [200]>\n"
     ]
    },
    {
     "name": "stderr",
     "output_type": "stream",
     "text": [
      "(41821) accepted ('127.0.0.1', 58728)\n",
      "173.20.233.125,127.0.0.1 - - [22/Oct/2023 18:54:35] \"POST /add_step HTTP/1.1\" 200 166 0.000712\n"
     ]
    },
    {
     "name": "stdout",
     "output_type": "stream",
     "text": [
      "<Response [200]>\n"
     ]
    },
    {
     "name": "stderr",
     "output_type": "stream",
     "text": [
      "(41821) accepted ('127.0.0.1', 60089)\n",
      "173.20.233.125,127.0.0.1 - - [22/Oct/2023 18:54:36] \"POST /add_step HTTP/1.1\" 200 166 0.000776\n"
     ]
    },
    {
     "name": "stdout",
     "output_type": "stream",
     "text": [
      "<Response [200]>\n"
     ]
    },
    {
     "name": "stderr",
     "output_type": "stream",
     "text": [
      "(41821) accepted ('127.0.0.1', 61273)\n",
      "173.20.233.125,127.0.0.1 - - [22/Oct/2023 18:54:37] \"POST /add_step HTTP/1.1\" 200 166 0.000904\n"
     ]
    },
    {
     "name": "stdout",
     "output_type": "stream",
     "text": [
      "<Response [200]>\n"
     ]
    },
    {
     "name": "stderr",
     "output_type": "stream",
     "text": [
      "(41821) accepted ('127.0.0.1', 62402)\n",
      "173.20.233.125,127.0.0.1 - - [22/Oct/2023 18:54:37] \"POST /add_step HTTP/1.1\" 200 166 0.000661\n"
     ]
    },
    {
     "name": "stdout",
     "output_type": "stream",
     "text": [
      "<Response [200]>\n"
     ]
    },
    {
     "name": "stderr",
     "output_type": "stream",
     "text": [
      "(41821) accepted ('127.0.0.1', 63692)\n",
      "173.20.233.125,127.0.0.1 - - [22/Oct/2023 18:54:38] \"POST /add_step HTTP/1.1\" 200 166 0.001071\n"
     ]
    },
    {
     "name": "stdout",
     "output_type": "stream",
     "text": [
      "<Response [200]>\n"
     ]
    },
    {
     "name": "stderr",
     "output_type": "stream",
     "text": [
      "(41821) accepted ('127.0.0.1', 64981)\n",
      "173.20.233.125,127.0.0.1 - - [22/Oct/2023 18:54:39] \"POST /add_step HTTP/1.1\" 200 166 0.000899\n"
     ]
    },
    {
     "name": "stdout",
     "output_type": "stream",
     "text": [
      "<Response [200]>\n"
     ]
    },
    {
     "name": "stderr",
     "output_type": "stream",
     "text": [
      "(41821) accepted ('127.0.0.1', 49752)\n",
      "173.20.233.125,127.0.0.1 - - [22/Oct/2023 18:54:39] \"POST /add_step HTTP/1.1\" 200 166 0.001045\n"
     ]
    },
    {
     "name": "stdout",
     "output_type": "stream",
     "text": [
      "<Response [200]>\n"
     ]
    },
    {
     "name": "stderr",
     "output_type": "stream",
     "text": [
      "(41821) accepted ('127.0.0.1', 50893)\n",
      "173.20.233.125,127.0.0.1 - - [22/Oct/2023 18:54:40] \"POST /add_step HTTP/1.1\" 200 166 0.001084\n"
     ]
    },
    {
     "name": "stdout",
     "output_type": "stream",
     "text": [
      "<Response [200]>\n"
     ]
    },
    {
     "name": "stderr",
     "output_type": "stream",
     "text": [
      "(41821) accepted ('127.0.0.1', 52006)\n",
      "173.20.233.125,127.0.0.1 - - [22/Oct/2023 18:54:40] \"POST /add_step HTTP/1.1\" 200 166 0.000629\n"
     ]
    },
    {
     "name": "stdout",
     "output_type": "stream",
     "text": [
      "<Response [200]>\n"
     ]
    },
    {
     "name": "stderr",
     "output_type": "stream",
     "text": [
      "(41821) accepted ('127.0.0.1', 53146)\n",
      "173.20.233.125,127.0.0.1 - - [22/Oct/2023 18:54:41] \"POST /add_step HTTP/1.1\" 200 166 0.000763\n"
     ]
    },
    {
     "name": "stdout",
     "output_type": "stream",
     "text": [
      "<Response [200]>\n"
     ]
    },
    {
     "name": "stderr",
     "output_type": "stream",
     "text": [
      "(41821) accepted ('127.0.0.1', 54429)\n",
      "173.20.233.125,127.0.0.1 - - [22/Oct/2023 18:54:42] \"POST /add_step HTTP/1.1\" 200 166 0.000576\n"
     ]
    },
    {
     "name": "stdout",
     "output_type": "stream",
     "text": [
      "<Response [200]>\n"
     ]
    },
    {
     "name": "stderr",
     "output_type": "stream",
     "text": [
      "(41821) accepted ('127.0.0.1', 56475)\n",
      "173.20.233.125,127.0.0.1 - - [22/Oct/2023 18:54:43] \"POST /add_step HTTP/1.1\" 200 166 0.000941\n"
     ]
    },
    {
     "name": "stdout",
     "output_type": "stream",
     "text": [
      "<Response [200]>\n"
     ]
    },
    {
     "name": "stderr",
     "output_type": "stream",
     "text": [
      "(41821) accepted ('127.0.0.1', 57872)\n",
      "173.20.233.125,127.0.0.1 - - [22/Oct/2023 18:54:44] \"POST /add_step HTTP/1.1\" 200 166 0.000511\n"
     ]
    },
    {
     "name": "stdout",
     "output_type": "stream",
     "text": [
      "<Response [200]>\n"
     ]
    },
    {
     "name": "stderr",
     "output_type": "stream",
     "text": [
      "(41821) accepted ('127.0.0.1', 59201)\n",
      "173.20.233.125,127.0.0.1 - - [22/Oct/2023 18:54:44] \"POST /add_step HTTP/1.1\" 200 166 0.005960\n"
     ]
    },
    {
     "name": "stdout",
     "output_type": "stream",
     "text": [
      "<Response [200]>\n"
     ]
    },
    {
     "name": "stderr",
     "output_type": "stream",
     "text": [
      "(41821) accepted ('127.0.0.1', 60631)\n",
      "173.20.233.125,127.0.0.1 - - [22/Oct/2023 18:54:45] \"POST /add_step HTTP/1.1\" 200 166 0.000591\n"
     ]
    },
    {
     "name": "stdout",
     "output_type": "stream",
     "text": [
      "<Response [200]>\n"
     ]
    },
    {
     "name": "stderr",
     "output_type": "stream",
     "text": [
      "(41821) accepted ('127.0.0.1', 61980)\n",
      "173.20.233.125,127.0.0.1 - - [22/Oct/2023 18:54:46] \"POST /add_step HTTP/1.1\" 200 166 0.000896\n"
     ]
    },
    {
     "name": "stdout",
     "output_type": "stream",
     "text": [
      "<Response [200]>\n"
     ]
    },
    {
     "name": "stderr",
     "output_type": "stream",
     "text": [
      "(41821) accepted ('127.0.0.1', 63186)\n",
      "173.20.233.125,127.0.0.1 - - [22/Oct/2023 18:54:46] \"POST /add_step HTTP/1.1\" 200 166 0.000675\n"
     ]
    },
    {
     "name": "stdout",
     "output_type": "stream",
     "text": [
      "<Response [200]>\n"
     ]
    },
    {
     "name": "stderr",
     "output_type": "stream",
     "text": [
      "(41821) accepted ('127.0.0.1', 64373)\n",
      "173.20.233.125,127.0.0.1 - - [22/Oct/2023 18:54:47] \"POST /add_step HTTP/1.1\" 200 166 0.000715\n"
     ]
    },
    {
     "name": "stdout",
     "output_type": "stream",
     "text": [
      "<Response [200]>\n"
     ]
    },
    {
     "name": "stderr",
     "output_type": "stream",
     "text": [
      "(41821) accepted ('127.0.0.1', 49202)\n",
      "173.20.233.125,127.0.0.1 - - [22/Oct/2023 18:54:48] \"POST /add_step HTTP/1.1\" 200 166 0.000671\n"
     ]
    },
    {
     "name": "stdout",
     "output_type": "stream",
     "text": [
      "<Response [200]>\n"
     ]
    },
    {
     "name": "stderr",
     "output_type": "stream",
     "text": [
      "(41821) accepted ('127.0.0.1', 50819)\n",
      "173.20.233.125,127.0.0.1 - - [22/Oct/2023 18:54:49] \"POST /add_step HTTP/1.1\" 200 166 0.000633\n"
     ]
    },
    {
     "name": "stdout",
     "output_type": "stream",
     "text": [
      "<Response [200]>\n"
     ]
    },
    {
     "name": "stderr",
     "output_type": "stream",
     "text": [
      "(41821) accepted ('127.0.0.1', 52083)\n",
      "173.20.233.125,127.0.0.1 - - [22/Oct/2023 18:54:49] \"POST /add_step HTTP/1.1\" 200 166 0.000653\n"
     ]
    },
    {
     "name": "stdout",
     "output_type": "stream",
     "text": [
      "<Response [200]>\n"
     ]
    },
    {
     "name": "stderr",
     "output_type": "stream",
     "text": [
      "(41821) accepted ('127.0.0.1', 53273)\n",
      "173.20.233.125,127.0.0.1 - - [22/Oct/2023 18:54:50] \"POST /add_step HTTP/1.1\" 200 166 0.000642\n"
     ]
    },
    {
     "name": "stdout",
     "output_type": "stream",
     "text": [
      "<Response [200]>\n"
     ]
    },
    {
     "name": "stderr",
     "output_type": "stream",
     "text": [
      "(41821) accepted ('127.0.0.1', 54506)\n",
      "173.20.233.125,127.0.0.1 - - [22/Oct/2023 18:54:51] \"POST /add_step HTTP/1.1\" 200 166 0.002974\n"
     ]
    },
    {
     "name": "stdout",
     "output_type": "stream",
     "text": [
      "<Response [200]>\n"
     ]
    },
    {
     "name": "stderr",
     "output_type": "stream",
     "text": [
      "(41821) accepted ('127.0.0.1', 55713)\n",
      "173.20.233.125,127.0.0.1 - - [22/Oct/2023 18:54:51] \"POST /add_step HTTP/1.1\" 200 166 0.000677\n"
     ]
    },
    {
     "name": "stdout",
     "output_type": "stream",
     "text": [
      "<Response [200]>\n"
     ]
    },
    {
     "name": "stderr",
     "output_type": "stream",
     "text": [
      "(41821) accepted ('127.0.0.1', 56924)\n",
      "173.20.233.125,127.0.0.1 - - [22/Oct/2023 18:54:52] \"POST /add_step HTTP/1.1\" 200 166 0.000853\n"
     ]
    },
    {
     "name": "stdout",
     "output_type": "stream",
     "text": [
      "<Response [200]>\n"
     ]
    },
    {
     "name": "stderr",
     "output_type": "stream",
     "text": [
      "(41821) accepted ('127.0.0.1', 58241)\n",
      "173.20.233.125,127.0.0.1 - - [22/Oct/2023 18:54:53] \"POST /add_step HTTP/1.1\" 200 166 0.000790\n"
     ]
    },
    {
     "name": "stdout",
     "output_type": "stream",
     "text": [
      "<Response [200]>\n"
     ]
    },
    {
     "name": "stderr",
     "output_type": "stream",
     "text": [
      "(41821) accepted ('127.0.0.1', 59497)\n",
      "173.20.233.125,127.0.0.1 - - [22/Oct/2023 18:54:53] \"POST /add_step HTTP/1.1\" 200 166 0.000615\n"
     ]
    },
    {
     "name": "stdout",
     "output_type": "stream",
     "text": [
      "<Response [200]>\n"
     ]
    },
    {
     "name": "stderr",
     "output_type": "stream",
     "text": [
      "(41821) accepted ('127.0.0.1', 60735)\n",
      "173.20.233.125,127.0.0.1 - - [22/Oct/2023 18:54:54] \"POST /add_step HTTP/1.1\" 200 166 0.006381\n"
     ]
    },
    {
     "name": "stdout",
     "output_type": "stream",
     "text": [
      "<Response [200]>\n"
     ]
    },
    {
     "name": "stderr",
     "output_type": "stream",
     "text": [
      "(41821) accepted ('127.0.0.1', 61972)\n",
      "173.20.233.125,127.0.0.1 - - [22/Oct/2023 18:54:55] \"POST /add_step HTTP/1.1\" 200 166 0.000657\n"
     ]
    },
    {
     "name": "stdout",
     "output_type": "stream",
     "text": [
      "<Response [200]>\n"
     ]
    },
    {
     "name": "stderr",
     "output_type": "stream",
     "text": [
      "(41821) accepted ('127.0.0.1', 63191)\n",
      "173.20.233.125,127.0.0.1 - - [22/Oct/2023 18:54:55] \"POST /add_step HTTP/1.1\" 200 166 0.000634\n"
     ]
    },
    {
     "name": "stdout",
     "output_type": "stream",
     "text": [
      "<Response [200]>\n"
     ]
    },
    {
     "name": "stderr",
     "output_type": "stream",
     "text": [
      "(41821) accepted ('127.0.0.1', 64874)\n",
      "173.20.233.125,127.0.0.1 - - [22/Oct/2023 18:54:56] \"POST /add_step HTTP/1.1\" 200 166 0.000817\n"
     ]
    },
    {
     "name": "stdout",
     "output_type": "stream",
     "text": [
      "<Response [200]>\n"
     ]
    },
    {
     "name": "stderr",
     "output_type": "stream",
     "text": [
      "(41821) accepted ('127.0.0.1', 49935)\n",
      "173.20.233.125,127.0.0.1 - - [22/Oct/2023 18:54:57] \"POST /add_step HTTP/1.1\" 200 166 0.000889\n"
     ]
    },
    {
     "name": "stdout",
     "output_type": "stream",
     "text": [
      "<Response [200]>\n"
     ]
    },
    {
     "name": "stderr",
     "output_type": "stream",
     "text": [
      "(41821) accepted ('127.0.0.1', 51122)\n",
      "173.20.233.125,127.0.0.1 - - [22/Oct/2023 18:54:58] \"POST /add_step HTTP/1.1\" 200 166 0.000949\n"
     ]
    },
    {
     "name": "stdout",
     "output_type": "stream",
     "text": [
      "<Response [200]>\n"
     ]
    },
    {
     "name": "stderr",
     "output_type": "stream",
     "text": [
      "(41821) accepted ('127.0.0.1', 52326)\n",
      "173.20.233.125,127.0.0.1 - - [22/Oct/2023 18:54:58] \"POST /add_step HTTP/1.1\" 200 166 0.000896\n"
     ]
    },
    {
     "name": "stdout",
     "output_type": "stream",
     "text": [
      "<Response [200]>\n"
     ]
    },
    {
     "name": "stderr",
     "output_type": "stream",
     "text": [
      "(41821) accepted ('127.0.0.1', 53721)\n",
      "173.20.233.125,127.0.0.1 - - [22/Oct/2023 18:54:59] \"POST /add_step HTTP/1.1\" 200 166 0.000847\n"
     ]
    },
    {
     "name": "stdout",
     "output_type": "stream",
     "text": [
      "<Response [200]>\n"
     ]
    },
    {
     "name": "stderr",
     "output_type": "stream",
     "text": [
      "(41821) accepted ('127.0.0.1', 55064)\n",
      "173.20.233.125,127.0.0.1 - - [22/Oct/2023 18:55:00] \"POST /add_step HTTP/1.1\" 200 166 0.000771\n"
     ]
    },
    {
     "name": "stdout",
     "output_type": "stream",
     "text": [
      "<Response [200]>\n"
     ]
    },
    {
     "name": "stderr",
     "output_type": "stream",
     "text": [
      "(41821) accepted ('127.0.0.1', 56395)\n",
      "173.20.233.125,127.0.0.1 - - [22/Oct/2023 18:55:01] \"POST /add_step HTTP/1.1\" 200 166 0.000564\n"
     ]
    },
    {
     "name": "stdout",
     "output_type": "stream",
     "text": [
      "<Response [200]>\n"
     ]
    },
    {
     "name": "stderr",
     "output_type": "stream",
     "text": [
      "(41821) accepted ('127.0.0.1', 57692)\n",
      "173.20.233.125,127.0.0.1 - - [22/Oct/2023 18:55:01] \"POST /add_step HTTP/1.1\" 200 166 0.000724\n"
     ]
    },
    {
     "name": "stdout",
     "output_type": "stream",
     "text": [
      "<Response [200]>\n"
     ]
    },
    {
     "name": "stderr",
     "output_type": "stream",
     "text": [
      "(41821) accepted ('127.0.0.1', 59121)\n",
      "173.20.233.125,127.0.0.1 - - [22/Oct/2023 18:55:02] \"POST /add_step HTTP/1.1\" 200 166 0.000844\n"
     ]
    },
    {
     "name": "stdout",
     "output_type": "stream",
     "text": [
      "<Response [200]>\n"
     ]
    },
    {
     "name": "stderr",
     "output_type": "stream",
     "text": [
      "(41821) accepted ('127.0.0.1', 60364)\n",
      "173.20.233.125,127.0.0.1 - - [22/Oct/2023 18:55:03] \"POST /add_step HTTP/1.1\" 200 166 0.000603\n"
     ]
    },
    {
     "name": "stdout",
     "output_type": "stream",
     "text": [
      "<Response [200]>\n"
     ]
    },
    {
     "name": "stderr",
     "output_type": "stream",
     "text": [
      "(41821) accepted ('127.0.0.1', 62046)\n",
      "173.20.233.125,127.0.0.1 - - [22/Oct/2023 18:55:04] \"POST /add_step HTTP/1.1\" 200 166 0.000806\n"
     ]
    },
    {
     "name": "stdout",
     "output_type": "stream",
     "text": [
      "<Response [200]>\n"
     ]
    },
    {
     "name": "stderr",
     "output_type": "stream",
     "text": [
      "(41821) accepted ('127.0.0.1', 63514)\n",
      "173.20.233.125,127.0.0.1 - - [22/Oct/2023 18:55:04] \"POST /add_step HTTP/1.1\" 200 166 0.000705\n"
     ]
    },
    {
     "name": "stdout",
     "output_type": "stream",
     "text": [
      "<Response [200]>\n"
     ]
    },
    {
     "name": "stderr",
     "output_type": "stream",
     "text": [
      "(41821) accepted ('127.0.0.1', 64648)\n",
      "173.20.233.125,127.0.0.1 - - [22/Oct/2023 18:55:05] \"POST /add_step HTTP/1.1\" 200 166 0.000897\n"
     ]
    },
    {
     "name": "stdout",
     "output_type": "stream",
     "text": [
      "<Response [200]>\n"
     ]
    },
    {
     "name": "stderr",
     "output_type": "stream",
     "text": [
      "(41821) accepted ('127.0.0.1', 49475)\n",
      "173.20.233.125,127.0.0.1 - - [22/Oct/2023 18:55:06] \"POST /add_step HTTP/1.1\" 200 166 0.000943\n"
     ]
    },
    {
     "name": "stdout",
     "output_type": "stream",
     "text": [
      "<Response [200]>\n"
     ]
    },
    {
     "name": "stderr",
     "output_type": "stream",
     "text": [
      "(41821) accepted ('127.0.0.1', 50704)\n",
      "173.20.233.125,127.0.0.1 - - [22/Oct/2023 18:55:06] \"POST /add_step HTTP/1.1\" 200 166 0.000666\n"
     ]
    },
    {
     "name": "stdout",
     "output_type": "stream",
     "text": [
      "<Response [200]>\n"
     ]
    },
    {
     "name": "stderr",
     "output_type": "stream",
     "text": [
      "(41821) accepted ('127.0.0.1', 51940)\n",
      "173.20.233.125,127.0.0.1 - - [22/Oct/2023 18:55:07] \"POST /add_step HTTP/1.1\" 200 166 0.000644\n"
     ]
    },
    {
     "name": "stdout",
     "output_type": "stream",
     "text": [
      "<Response [200]>\n"
     ]
    },
    {
     "name": "stderr",
     "output_type": "stream",
     "text": [
      "(41821) accepted ('127.0.0.1', 53319)\n",
      "173.20.233.125,127.0.0.1 - - [22/Oct/2023 18:55:08] \"POST /add_step HTTP/1.1\" 200 166 0.000813\n"
     ]
    },
    {
     "name": "stdout",
     "output_type": "stream",
     "text": [
      "<Response [200]>\n"
     ]
    },
    {
     "name": "stderr",
     "output_type": "stream",
     "text": [
      "(41821) accepted ('127.0.0.1', 54600)\n",
      "173.20.233.125,127.0.0.1 - - [22/Oct/2023 18:55:09] \"POST /add_step HTTP/1.1\" 200 166 0.000646\n"
     ]
    },
    {
     "name": "stdout",
     "output_type": "stream",
     "text": [
      "<Response [200]>\n"
     ]
    },
    {
     "name": "stderr",
     "output_type": "stream",
     "text": [
      "(41821) accepted ('127.0.0.1', 55832)\n",
      "173.20.233.125,127.0.0.1 - - [22/Oct/2023 18:55:09] \"POST /add_step HTTP/1.1\" 200 166 0.001307\n"
     ]
    },
    {
     "name": "stdout",
     "output_type": "stream",
     "text": [
      "<Response [200]>\n"
     ]
    },
    {
     "name": "stderr",
     "output_type": "stream",
     "text": [
      "(41821) accepted ('127.0.0.1', 57042)\n",
      "173.20.233.125,127.0.0.1 - - [22/Oct/2023 18:55:10] \"POST /add_step HTTP/1.1\" 200 166 0.000674\n"
     ]
    },
    {
     "name": "stdout",
     "output_type": "stream",
     "text": [
      "<Response [200]>\n"
     ]
    },
    {
     "name": "stderr",
     "output_type": "stream",
     "text": [
      "(41821) accepted ('127.0.0.1', 58399)\n",
      "173.20.233.125,127.0.0.1 - - [22/Oct/2023 18:55:11] \"POST /add_step HTTP/1.1\" 200 166 0.000918\n"
     ]
    },
    {
     "name": "stdout",
     "output_type": "stream",
     "text": [
      "<Response [200]>\n"
     ]
    },
    {
     "name": "stderr",
     "output_type": "stream",
     "text": [
      "(41821) accepted ('127.0.0.1', 59777)\n",
      "173.20.233.125,127.0.0.1 - - [22/Oct/2023 18:55:11] \"POST /add_step HTTP/1.1\" 200 166 0.000669\n"
     ]
    },
    {
     "name": "stdout",
     "output_type": "stream",
     "text": [
      "<Response [200]>\n"
     ]
    },
    {
     "name": "stderr",
     "output_type": "stream",
     "text": [
      "(41821) accepted ('127.0.0.1', 61139)\n",
      "173.20.233.125,127.0.0.1 - - [22/Oct/2023 18:55:12] \"POST /add_step HTTP/1.1\" 200 166 0.000675\n"
     ]
    },
    {
     "name": "stdout",
     "output_type": "stream",
     "text": [
      "<Response [200]>\n"
     ]
    },
    {
     "name": "stderr",
     "output_type": "stream",
     "text": [
      "(41821) accepted ('127.0.0.1', 62529)\n",
      "173.20.233.125,127.0.0.1 - - [22/Oct/2023 18:55:13] \"POST /add_step HTTP/1.1\" 200 166 0.000938\n"
     ]
    },
    {
     "name": "stdout",
     "output_type": "stream",
     "text": [
      "<Response [200]>\n"
     ]
    },
    {
     "name": "stderr",
     "output_type": "stream",
     "text": [
      "(41821) accepted ('127.0.0.1', 64256)\n",
      "173.20.233.125,127.0.0.1 - - [22/Oct/2023 18:55:14] \"POST /add_step HTTP/1.1\" 200 166 0.000449\n"
     ]
    },
    {
     "name": "stdout",
     "output_type": "stream",
     "text": [
      "<Response [200]>\n"
     ]
    },
    {
     "name": "stderr",
     "output_type": "stream",
     "text": [
      "(41821) accepted ('127.0.0.1', 65482)\n",
      "173.20.233.125,127.0.0.1 - - [22/Oct/2023 18:55:14] \"POST /add_step HTTP/1.1\" 200 166 0.000768\n"
     ]
    },
    {
     "name": "stdout",
     "output_type": "stream",
     "text": [
      "<Response [200]>\n"
     ]
    },
    {
     "name": "stderr",
     "output_type": "stream",
     "text": [
      "(41821) accepted ('127.0.0.1', 50253)\n",
      "173.20.233.125,127.0.0.1 - - [22/Oct/2023 18:55:15] \"POST /add_step HTTP/1.1\" 200 166 0.000649\n"
     ]
    },
    {
     "name": "stdout",
     "output_type": "stream",
     "text": [
      "<Response [200]>\n"
     ]
    }
   ],
   "source": [
    "def train_2048(model, env, mcts, epochs, games_per_epoch, mcts_iterations, batch_size):\n",
    "    \"\"\"\n",
    "    Train the model for the 2048 game using the given environment and MCTS.\n",
    "\n",
    "    Parameters:\n",
    "    - model: Neural network model\n",
    "    - env: 2048 game environment\n",
    "    - mcts: MCTS object\n",
    "    - epochs: Number of training epochs\n",
    "    - games_per_epoch: Number of games to play per epoch\n",
    "    - mcts_iterations: Number of MCTS iterations per move\n",
    "    - batch_size: Batch size for training the model\n",
    "\n",
    "    Returns:\n",
    "    - model: Trained model\n",
    "    \"\"\"\n",
    "\n",
    "    for epoch in trange(epochs):\n",
    "        # Lists to store training data\n",
    "        states, action_masks, action_probs, values = [], [], [], []\n",
    "\n",
    "        for game in range(games_per_epoch):\n",
    "            state = mcts.reset_env()\n",
    "            action_mask = env.legal_actions_mask(state)\n",
    "            game_value = 0\n",
    "            step = 0\n",
    "\n",
    "            while True:\n",
    "                step += 1\n",
    "                action = mcts.search(mcts.root)\n",
    "\n",
    "                if not env.is_action_legal(env.board, action):\n",
    "                    print(\"illegal\")\n",
    "\n",
    "                next_state, reward, done, extra_info = env.step(action)\n",
    "                next_random_action = extra_info['random_action']\n",
    "                next_action_mask = env.legal_actions_mask(next_state)\n",
    "                mcts.move_to_child(next_state, action, next_random_action)\n",
    "\n",
    "                state_action_probs = np.zeros(4)\n",
    "                state_action_probs[action] = 1\n",
    "\n",
    "                states.append(state)\n",
    "                values.append(reward)\n",
    "                action_probs.append(state_action_probs)\n",
    "                action_masks.append(action_mask)\n",
    "\n",
    "                state = next_state\n",
    "                action_mask = next_action_mask\n",
    "\n",
    "\n",
    "                call_add_step({\n",
    "                    'epoch_number': epoch,\n",
    "                    'game_number': game,\n",
    "                    'action': action,\n",
    "                    'next_board': next_state.tolist()\n",
    "                })\n",
    "\n",
    "                env.render()\n",
    "\n",
    "                if done:\n",
    "                    break\n",
    "            # Assign final game rewards\n",
    "            winner_value = 1 if game_value > 0 else -1\n",
    "            values = [winner_value] * len(values)\n",
    "\n",
    "        # Convert training data into arrays\n",
    "        states = np.array(states).reshape(-1, 4, 4, 1)\n",
    "        action_probs = np.array(action_probs)\n",
    "        values = np.array(values).reshape(-1, 1)\n",
    "        action_masks = np.array(action_masks).reshape(-1, 4)\n",
    "\n",
    "        # Train the model\n",
    "        model.fit([states, action_masks], [values, action_probs], batch_size=batch_size, epochs=1)\n",
    "\n",
    "    return model\n",
    "\n",
    "run_async()\n",
    "\n",
    "# Hyperparameters\n",
    "epochs = 1000\n",
    "games_per_epoch = 10\n",
    "mcts_iterations = 10\n",
    "batch_size = 32\n",
    "\n",
    "# Create the 2048 environment, model, and MCTS\n",
    "env = Game2048Env(enable_pygame=True)\n",
    "model = create_2048_policy_model()\n",
    "mcts = MCTS2048(model, mcts_iterations, env)\n",
    "\n",
    "# Train the model\n",
    "trained_model = train_2048(model, env, mcts, epochs, games_per_epoch, mcts_iterations, batch_size)"
   ],
   "metadata": {
    "collapsed": false,
    "is_executing": true,
    "ExecuteTime": {
     "start_time": "2023-10-22T23:29:16.254897Z"
    }
   }
  },
  {
   "cell_type": "code",
   "execution_count": null,
   "outputs": [],
   "source": [],
   "metadata": {
    "collapsed": false
   }
  }
 ],
 "metadata": {
  "kernelspec": {
   "display_name": "Python 3",
   "language": "python",
   "name": "python3"
  },
  "language_info": {
   "codemirror_mode": {
    "name": "ipython",
    "version": 2
   },
   "file_extension": ".py",
   "mimetype": "text/x-python",
   "name": "python",
   "nbconvert_exporter": "python",
   "pygments_lexer": "ipython2",
   "version": "2.7.6"
  }
 },
 "nbformat": 4,
 "nbformat_minor": 0
}
