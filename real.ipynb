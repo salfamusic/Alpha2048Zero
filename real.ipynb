{
 "cells": [
  {
   "cell_type": "code",
   "execution_count": null,
   "metadata": {
    "ExecuteTime": {
     "start_time": "2023-11-02T22:44:57.380037Z"
    },
    "collapsed": false
   },
   "outputs": [
    {
     "name": "stdout",
     "output_type": "stream",
     "text": [
      "--2023-11-02 17:44:57--  https://bin.equinox.io/c/bNyj1mQVY4c/ngrok-v3-stable-darwin-amd64.zip\r\n",
      "Resolving bin.equinox.io (bin.equinox.io)... 54.237.133.81, 52.202.168.65, 18.205.222.128, ...\r\n",
      "Connecting to bin.equinox.io (bin.equinox.io)|54.237.133.81|:443... connected.\r\n",
      "HTTP request sent, awaiting response... 200 OK\r\n",
      "Length: 9393876 (9.0M) [application/octet-stream]\r\n",
      "Saving to: ‘ngrok-v3-stable-darwin-amd64.zip.1’\r\n",
      "\r\n",
      "ngrok-v3-stable-dar 100%[===================>]   8.96M  16.2MB/s    in 0.6s    \r\n",
      "\r\n",
      "2023-11-02 17:44:58 (16.2 MB/s) - ‘ngrok-v3-stable-darwin-amd64.zip.1’ saved [9393876/9393876]\r\n",
      "\r\n",
      "Archive:  ngrok-v3-stable-darwin-amd64.zip\r\n",
      "replace ngrok? [y]es, [n]o, [A]ll, [N]one, [r]ename: "
     ]
    }
   ],
   "source": [
    "!wget https://bin.equinox.io/c/bNyj1mQVY4c/ngrok-v3-stable-darwin-amd64.zip\n",
    "!unzip ngrok-v3-stable-darwin-amd64.zip"
   ]
  },
  {
   "cell_type": "code",
   "execution_count": null,
   "metadata": {
    "collapsed": false
   },
   "outputs": [],
   "source": [
    "!./ngrok config add-authtoken 1tHaGIL1YdMNniMQKsAzqSgsiUb_7AgZfgwYUTdCzFGva4KE8"
   ]
  },
  {
   "cell_type": "code",
   "execution_count": null,
   "metadata": {
    "collapsed": false
   },
   "outputs": [],
   "source": []
  },
  {
   "cell_type": "code",
   "execution_count": 1,
   "metadata": {
    "ExecuteTime": {
     "end_time": "2023-11-03T04:05:21.124841Z",
     "start_time": "2023-11-02T23:18:37.459449Z"
    },
    "collapsed": false
   },
   "outputs": [
    {
     "name": "stderr",
     "output_type": "stream",
     "text": [
      "2023-11-05 16:34:24.846707: I tensorflow/core/platform/cpu_feature_guard.cc:182] This TensorFlow binary is optimized to use available CPU instructions in performance-critical operations.\n",
      "To enable the following instructions: AVX2 FMA, in other operations, rebuild TensorFlow with the appropriate compiler flags.\n"
     ]
    },
    {
     "name": "stdout",
     "output_type": "stream",
     "text": [
      "Public URL: http://0.0.0.0:5001\n",
      "decayed_entropy=0.009999010000000001\n",
      "decayed_lr=0.000999901\n",
      "PPO Loss: 119204.5625, Value Loss: 113298.2031\n",
      "average_reward=5.86425406899516\n",
      "decayed_entropy=0.00999802\n",
      "decayed_lr=0.000999802\n",
      "PPO Loss: 3211.3274, Value Loss: 99.2392\n",
      "average_reward=5.539372279148294\n",
      "decayed_entropy=0.00999703\n",
      "decayed_lr=0.000999703\n",
      "PPO Loss: 1973.3591, Value Loss: 39.4603\n",
      "average_reward=6.578218037782484\n",
      "decayed_entropy=0.009996040000000001\n",
      "decayed_lr=0.000999604\n",
      "PPO Loss: 3924.1904, Value Loss: 48.2280\n",
      "average_reward=5.65639397422368\n",
      "decayed_entropy=0.00999505\n",
      "decayed_lr=0.0009995050000000001\n",
      "PPO Loss: 1506.3004, Value Loss: 46.9323\n",
      "average_reward=6.7044298433910114\n",
      "decayed_entropy=0.009994059999999999\n",
      "decayed_lr=0.000999406\n",
      "PPO Loss: 1598.3823, Value Loss: 52.0997\n",
      "average_reward=6.472481354971381\n",
      "decayed_entropy=0.00999307\n",
      "decayed_lr=0.000999307\n",
      "PPO Loss: 2587.9604, Value Loss: 23.0111\n",
      "average_reward=6.638559681125054\n",
      "decayed_entropy=0.00999208\n",
      "decayed_lr=0.000999208\n",
      "PPO Loss: 1359.7592, Value Loss: 19.2373\n",
      "average_reward=6.046283111031613\n",
      "decayed_entropy=0.00999109\n",
      "decayed_lr=0.000999109\n",
      "PPO Loss: 1660.0729, Value Loss: 16.8606\n",
      "average_reward=6.298301410190894\n",
      "decayed_entropy=0.0099901\n",
      "decayed_lr=0.00099901\n",
      "PPO Loss: 1476.5859, Value Loss: 35.8062\n",
      "average_reward=6.252287145965155\n",
      "decayed_entropy=0.00998911\n",
      "decayed_lr=0.0009989110000000001\n",
      "PPO Loss: 2755.9502, Value Loss: 32.3475\n",
      "average_reward=5.859402549529815\n",
      "decayed_entropy=0.00998812\n",
      "decayed_lr=0.000998812\n",
      "PPO Loss: 1195.7726, Value Loss: 26.2946\n",
      "average_reward=6.597869697793481\n",
      "decayed_entropy=0.00998713\n",
      "decayed_lr=0.000998713\n",
      "PPO Loss: 1982.1754, Value Loss: 29.9625\n",
      "average_reward=7.304784925803626\n",
      "decayed_entropy=0.009986140000000001\n",
      "decayed_lr=0.000998614\n",
      "PPO Loss: 1216.8893, Value Loss: 13.3065\n",
      "average_reward=6.3196192692363296\n",
      "decayed_entropy=0.00998515\n",
      "decayed_lr=0.0009985150000000002\n",
      "PPO Loss: 1215.8809, Value Loss: 24.3623\n",
      "average_reward=7.29257411903528\n",
      "decayed_entropy=0.00998416\n",
      "decayed_lr=0.000998416\n",
      "PPO Loss: 3376.8674, Value Loss: 22.1711\n",
      "average_reward=5.733625823310243\n",
      "decayed_entropy=0.00998317\n",
      "decayed_lr=0.000998317\n",
      "PPO Loss: 2745.6897, Value Loss: 10.0899\n",
      "average_reward=5.556051905785323\n",
      "decayed_entropy=0.00998218\n",
      "decayed_lr=0.000998218\n",
      "PPO Loss: 1793.8336, Value Loss: 30.5322\n",
      "average_reward=7.154813418115196\n",
      "decayed_entropy=0.009981190000000001\n",
      "decayed_lr=0.000998119\n",
      "PPO Loss: 1207.8462, Value Loss: 29.1130\n",
      "average_reward=6.621991230049235\n",
      "decayed_entropy=0.0099802\n",
      "decayed_lr=0.00099802\n",
      "PPO Loss: 2085.1282, Value Loss: 15.7196\n",
      "average_reward=5.371858474627209\n",
      "decayed_entropy=0.00997921\n",
      "decayed_lr=0.0009979210000000001\n",
      "PPO Loss: 1677.9542, Value Loss: 30.6145\n",
      "average_reward=6.468565256198647\n",
      "decayed_entropy=0.009978220000000001\n",
      "decayed_lr=0.000997822\n",
      "PPO Loss: 1975.1921, Value Loss: 33.2216\n",
      "average_reward=6.753180358842745\n",
      "decayed_entropy=0.00997723\n",
      "decayed_lr=0.000997723\n",
      "PPO Loss: 1408.4049, Value Loss: 26.8130\n",
      "average_reward=6.257657938956046\n",
      "decayed_entropy=0.00997624\n",
      "decayed_lr=0.0009976240000000001\n",
      "PPO Loss: 1520.9321, Value Loss: 26.7680\n",
      "average_reward=6.762064232532948\n",
      "decayed_entropy=0.009975250000000001\n",
      "decayed_lr=0.000997525\n",
      "PPO Loss: 1233.4930, Value Loss: 14.2043\n",
      "average_reward=6.010030840574722\n",
      "decayed_entropy=0.00997426\n",
      "decayed_lr=0.000997426\n",
      "PPO Loss: 1368.1232, Value Loss: 19.3173\n",
      "average_reward=6.894836637356813\n",
      "decayed_entropy=0.00997327\n",
      "decayed_lr=0.000997327\n",
      "PPO Loss: 1272.6681, Value Loss: 14.3229\n",
      "average_reward=6.505173083604187\n",
      "decayed_entropy=0.00997228\n",
      "decayed_lr=0.000997228\n",
      "PPO Loss: 3806.5671, Value Loss: 7.7219\n",
      "average_reward=5.798383192254102\n",
      "decayed_entropy=0.00997129\n",
      "decayed_lr=0.000997129\n",
      "PPO Loss: 1037.5259, Value Loss: 14.4290\n",
      "average_reward=6.935558799833318\n",
      "decayed_entropy=0.0099703\n",
      "decayed_lr=0.00099703\n",
      "PPO Loss: 1481.4343, Value Loss: 14.2007\n",
      "average_reward=6.289451985174986\n",
      "decayed_entropy=0.00996931\n",
      "decayed_lr=0.000996931\n",
      "PPO Loss: 1428.8883, Value Loss: 16.3547\n",
      "average_reward=6.737736084776499\n",
      "decayed_entropy=0.009968320000000001\n",
      "decayed_lr=0.000996832\n",
      "PPO Loss: 1739.4515, Value Loss: 19.7698\n",
      "average_reward=7.001101958624783\n",
      "decayed_entropy=0.00996733\n",
      "decayed_lr=0.000996733\n",
      "PPO Loss: 1525.0574, Value Loss: 13.0658\n",
      "average_reward=5.774365649709613\n"
     ]
    },
    {
     "ename": "KeyboardInterrupt",
     "evalue": "",
     "output_type": "error",
     "traceback": [
      "\u001b[0;31m---------------------------------------------------------------------------\u001b[0m",
      "\u001b[0;31mKeyboardInterrupt\u001b[0m                         Traceback (most recent call last)",
      "\u001b[1;32m/Users/michaelking/Developer/Alpha2048Zero/real.ipynb Cell 4\u001b[0m line \u001b[0;36m5\n\u001b[1;32m      <a href='vscode-notebook-cell:/Users/michaelking/Developer/Alpha2048Zero/real.ipynb#W3sZmlsZQ%3D%3D?line=2'>3</a>\u001b[0m \u001b[39mfrom\u001b[39;00m \u001b[39mwebapp2048\u001b[39;00m\u001b[39m.\u001b[39;00m\u001b[39mWebApp\u001b[39;00m \u001b[39mimport\u001b[39;00m run_async\n\u001b[1;32m      <a href='vscode-notebook-cell:/Users/michaelking/Developer/Alpha2048Zero/real.ipynb#W3sZmlsZQ%3D%3D?line=3'>4</a>\u001b[0m run_async()\n\u001b[0;32m----> <a href='vscode-notebook-cell:/Users/michaelking/Developer/Alpha2048Zero/real.ipynb#W3sZmlsZQ%3D%3D?line=4'>5</a>\u001b[0m train_ppo(\n\u001b[1;32m      <a href='vscode-notebook-cell:/Users/michaelking/Developer/Alpha2048Zero/real.ipynb#W3sZmlsZQ%3D%3D?line=5'>6</a>\u001b[0m     epochs\u001b[39m=\u001b[39;49m\u001b[39m1000\u001b[39;49m,\n\u001b[1;32m      <a href='vscode-notebook-cell:/Users/michaelking/Developer/Alpha2048Zero/real.ipynb#W3sZmlsZQ%3D%3D?line=6'>7</a>\u001b[0m     mcts_iterations\u001b[39m=\u001b[39;49m\u001b[39m300\u001b[39;49m,\n\u001b[1;32m      <a href='vscode-notebook-cell:/Users/michaelking/Developer/Alpha2048Zero/real.ipynb#W3sZmlsZQ%3D%3D?line=7'>8</a>\u001b[0m     batch_size\u001b[39m=\u001b[39;49m\u001b[39m1\u001b[39;49m,\n\u001b[1;32m      <a href='vscode-notebook-cell:/Users/michaelking/Developer/Alpha2048Zero/real.ipynb#W3sZmlsZQ%3D%3D?line=8'>9</a>\u001b[0m     temperature\u001b[39m=\u001b[39;49m\u001b[39m1.0\u001b[39;49m,\n\u001b[1;32m     <a href='vscode-notebook-cell:/Users/michaelking/Developer/Alpha2048Zero/real.ipynb#W3sZmlsZQ%3D%3D?line=9'>10</a>\u001b[0m     window_size\u001b[39m=\u001b[39;49m\u001b[39m5\u001b[39;49m\n\u001b[1;32m     <a href='vscode-notebook-cell:/Users/michaelking/Developer/Alpha2048Zero/real.ipynb#W3sZmlsZQ%3D%3D?line=10'>11</a>\u001b[0m )\n",
      "File \u001b[0;32m~/Developer/Alpha2048Zero/TrainPPO.py:108\u001b[0m, in \u001b[0;36mtrain_ppo\u001b[0;34m(epochs, mcts_iterations, batch_size, temperature, window_size)\u001b[0m\n\u001b[1;32m    105\u001b[0m mcts \u001b[39m=\u001b[39m MCTS2048(model, mcts_iterations, env)\n\u001b[1;32m    107\u001b[0m \u001b[39m# Train the model\u001b[39;00m\n\u001b[0;32m--> 108\u001b[0m \u001b[39mreturn\u001b[39;00m train_2048_ppo(model, env, mcts, epochs, batch_size)\n",
      "File \u001b[0;32m~/Developer/Alpha2048Zero/TrainPPO.py:97\u001b[0m, in \u001b[0;36mtrain_2048_ppo\u001b[0;34m(model, env, mcts, epochs, batch_size)\u001b[0m\n\u001b[1;32m     94\u001b[0m mcts\u001b[39m.\u001b[39mswitch_to_primary_model()\n\u001b[1;32m     96\u001b[0m \u001b[39mfor\u001b[39;00m epoch \u001b[39min\u001b[39;00m \u001b[39mrange\u001b[39m(epochs):\n\u001b[0;32m---> 97\u001b[0m     do_epoch(batch_size, env, epoch, mcts, model)\n\u001b[1;32m     99\u001b[0m \u001b[39mreturn\u001b[39;00m model\n",
      "File \u001b[0;32m~/Developer/Alpha2048Zero/TrainPPO.py:48\u001b[0m, in \u001b[0;36mdo_epoch\u001b[0;34m(batch_size, env, epoch, mcts, model)\u001b[0m\n\u001b[1;32m     44\u001b[0m state \u001b[39m=\u001b[39m env\u001b[39m.\u001b[39mreset()\n\u001b[1;32m     46\u001b[0m \u001b[39mwhile\u001b[39;00m \u001b[39mTrue\u001b[39;00m:\n\u001b[1;32m     47\u001b[0m     \u001b[39m# action = mcts.search(mcts.root)\u001b[39;00m\n\u001b[0;32m---> 48\u001b[0m     action \u001b[39m=\u001b[39m model\u001b[39m.\u001b[39;49mselect_action(state, env\u001b[39m.\u001b[39;49mlegal_actions_mask_from_board(env\u001b[39m.\u001b[39;49mboard))\n\u001b[1;32m     50\u001b[0m     \u001b[39mif\u001b[39;00m \u001b[39mnot\u001b[39;00m env\u001b[39m.\u001b[39mis_action_legal(env\u001b[39m.\u001b[39mboard, action):\n\u001b[1;32m     51\u001b[0m         \u001b[39mprint\u001b[39m(\u001b[39m\"\u001b[39m\u001b[39millegal\u001b[39m\u001b[39m\"\u001b[39m)\n",
      "File \u001b[0;32m~/Developer/Alpha2048Zero/PPOAgent.py:134\u001b[0m, in \u001b[0;36mPPOAgent.select_action\u001b[0;34m(self, state, legal_moves_mask)\u001b[0m\n\u001b[1;32m    123\u001b[0m \u001b[39mdef\u001b[39;00m \u001b[39mselect_action\u001b[39m(\u001b[39mself\u001b[39m, state, legal_moves_mask):\n\u001b[1;32m    124\u001b[0m \u001b[39m    \u001b[39m\u001b[39m\"\"\"\u001b[39;00m\n\u001b[1;32m    125\u001b[0m \u001b[39m    Selects an action based on the network's output and a legal moves mask.\u001b[39;00m\n\u001b[1;32m    126\u001b[0m \n\u001b[0;32m   (...)\u001b[0m\n\u001b[1;32m    132\u001b[0m \u001b[39m        int: The selected action.\u001b[39;00m\n\u001b[1;32m    133\u001b[0m \u001b[39m    \"\"\"\u001b[39;00m\n\u001b[0;32m--> 134\u001b[0m     _, probs \u001b[39m=\u001b[39m \u001b[39mself\u001b[39;49m\u001b[39m.\u001b[39;49mpredict(state, legal_moves_mask)\n\u001b[1;32m    136\u001b[0m     \u001b[39m# Sample an action from the probability distribution\u001b[39;00m\n\u001b[1;32m    137\u001b[0m     action \u001b[39m=\u001b[39m np\u001b[39m.\u001b[39mrandom\u001b[39m.\u001b[39mchoice(\u001b[39mself\u001b[39m\u001b[39m.\u001b[39maction_space, p\u001b[39m=\u001b[39mprobs)\n",
      "File \u001b[0;32m~/Developer/Alpha2048Zero/PPOAgent.py:111\u001b[0m, in \u001b[0;36mPPOAgent.predict\u001b[0;34m(self, state, legal_moves_mask)\u001b[0m\n\u001b[1;32m    110\u001b[0m \u001b[39mdef\u001b[39;00m \u001b[39mpredict\u001b[39m(\u001b[39mself\u001b[39m, state, legal_moves_mask):\n\u001b[0;32m--> 111\u001b[0m     logits, value \u001b[39m=\u001b[39m \u001b[39mself\u001b[39;49m\u001b[39m.\u001b[39;49mmodel(\u001b[39mself\u001b[39;49m\u001b[39m.\u001b[39;49mlog2(state\u001b[39m.\u001b[39;49mreshape(\u001b[39m1\u001b[39;49m, \u001b[39m*\u001b[39;49m\u001b[39mself\u001b[39;49m\u001b[39m.\u001b[39;49minput_shape)))\n\u001b[1;32m    112\u001b[0m     logits_array \u001b[39m=\u001b[39m logits\u001b[39m.\u001b[39mnumpy()\n\u001b[1;32m    113\u001b[0m     \u001b[39m# Apply temperature scaling\u001b[39;00m\n",
      "File \u001b[0;32m~/.local/share/virtualenvs/Alpha2048Zero-riUMb9j-/lib/python3.11/site-packages/keras/src/utils/traceback_utils.py:65\u001b[0m, in \u001b[0;36mfilter_traceback.<locals>.error_handler\u001b[0;34m(*args, **kwargs)\u001b[0m\n\u001b[1;32m     63\u001b[0m filtered_tb \u001b[39m=\u001b[39m \u001b[39mNone\u001b[39;00m\n\u001b[1;32m     64\u001b[0m \u001b[39mtry\u001b[39;00m:\n\u001b[0;32m---> 65\u001b[0m     \u001b[39mreturn\u001b[39;00m fn(\u001b[39m*\u001b[39;49margs, \u001b[39m*\u001b[39;49m\u001b[39m*\u001b[39;49mkwargs)\n\u001b[1;32m     66\u001b[0m \u001b[39mexcept\u001b[39;00m \u001b[39mException\u001b[39;00m \u001b[39mas\u001b[39;00m e:\n\u001b[1;32m     67\u001b[0m     filtered_tb \u001b[39m=\u001b[39m _process_traceback_frames(e\u001b[39m.\u001b[39m__traceback__)\n",
      "File \u001b[0;32m~/.local/share/virtualenvs/Alpha2048Zero-riUMb9j-/lib/python3.11/site-packages/keras/src/engine/training.py:589\u001b[0m, in \u001b[0;36mModel.__call__\u001b[0;34m(self, *args, **kwargs)\u001b[0m\n\u001b[1;32m    585\u001b[0m         \u001b[39msuper\u001b[39m()\u001b[39m.\u001b[39m\u001b[39m__call__\u001b[39m(inputs, \u001b[39m*\u001b[39mcopied_args, \u001b[39m*\u001b[39m\u001b[39m*\u001b[39mcopied_kwargs)\n\u001b[1;32m    587\u001b[0m     layout_map_lib\u001b[39m.\u001b[39m_map_subclass_model_variable(\u001b[39mself\u001b[39m, \u001b[39mself\u001b[39m\u001b[39m.\u001b[39m_layout_map)\n\u001b[0;32m--> 589\u001b[0m \u001b[39mreturn\u001b[39;00m \u001b[39msuper\u001b[39;49m()\u001b[39m.\u001b[39;49m\u001b[39m__call__\u001b[39;49m(\u001b[39m*\u001b[39;49margs, \u001b[39m*\u001b[39;49m\u001b[39m*\u001b[39;49mkwargs)\n",
      "File \u001b[0;32m~/.local/share/virtualenvs/Alpha2048Zero-riUMb9j-/lib/python3.11/site-packages/keras/src/utils/traceback_utils.py:65\u001b[0m, in \u001b[0;36mfilter_traceback.<locals>.error_handler\u001b[0;34m(*args, **kwargs)\u001b[0m\n\u001b[1;32m     63\u001b[0m filtered_tb \u001b[39m=\u001b[39m \u001b[39mNone\u001b[39;00m\n\u001b[1;32m     64\u001b[0m \u001b[39mtry\u001b[39;00m:\n\u001b[0;32m---> 65\u001b[0m     \u001b[39mreturn\u001b[39;00m fn(\u001b[39m*\u001b[39;49margs, \u001b[39m*\u001b[39;49m\u001b[39m*\u001b[39;49mkwargs)\n\u001b[1;32m     66\u001b[0m \u001b[39mexcept\u001b[39;00m \u001b[39mException\u001b[39;00m \u001b[39mas\u001b[39;00m e:\n\u001b[1;32m     67\u001b[0m     filtered_tb \u001b[39m=\u001b[39m _process_traceback_frames(e\u001b[39m.\u001b[39m__traceback__)\n",
      "File \u001b[0;32m~/.local/share/virtualenvs/Alpha2048Zero-riUMb9j-/lib/python3.11/site-packages/keras/src/engine/base_layer.py:1149\u001b[0m, in \u001b[0;36mLayer.__call__\u001b[0;34m(self, *args, **kwargs)\u001b[0m\n\u001b[1;32m   1144\u001b[0m     inputs \u001b[39m=\u001b[39m \u001b[39mself\u001b[39m\u001b[39m.\u001b[39m_maybe_cast_inputs(inputs, input_list)\n\u001b[1;32m   1146\u001b[0m \u001b[39mwith\u001b[39;00m autocast_variable\u001b[39m.\u001b[39menable_auto_cast_variables(\n\u001b[1;32m   1147\u001b[0m     \u001b[39mself\u001b[39m\u001b[39m.\u001b[39m_compute_dtype_object\n\u001b[1;32m   1148\u001b[0m ):\n\u001b[0;32m-> 1149\u001b[0m     outputs \u001b[39m=\u001b[39m call_fn(inputs, \u001b[39m*\u001b[39;49margs, \u001b[39m*\u001b[39;49m\u001b[39m*\u001b[39;49mkwargs)\n\u001b[1;32m   1151\u001b[0m \u001b[39mif\u001b[39;00m \u001b[39mself\u001b[39m\u001b[39m.\u001b[39m_activity_regularizer:\n\u001b[1;32m   1152\u001b[0m     \u001b[39mself\u001b[39m\u001b[39m.\u001b[39m_handle_activity_regularization(inputs, outputs)\n",
      "File \u001b[0;32m~/.local/share/virtualenvs/Alpha2048Zero-riUMb9j-/lib/python3.11/site-packages/keras/src/utils/traceback_utils.py:96\u001b[0m, in \u001b[0;36minject_argument_info_in_traceback.<locals>.error_handler\u001b[0;34m(*args, **kwargs)\u001b[0m\n\u001b[1;32m     94\u001b[0m bound_signature \u001b[39m=\u001b[39m \u001b[39mNone\u001b[39;00m\n\u001b[1;32m     95\u001b[0m \u001b[39mtry\u001b[39;00m:\n\u001b[0;32m---> 96\u001b[0m     \u001b[39mreturn\u001b[39;00m fn(\u001b[39m*\u001b[39;49margs, \u001b[39m*\u001b[39;49m\u001b[39m*\u001b[39;49mkwargs)\n\u001b[1;32m     97\u001b[0m \u001b[39mexcept\u001b[39;00m \u001b[39mException\u001b[39;00m \u001b[39mas\u001b[39;00m e:\n\u001b[1;32m     98\u001b[0m     \u001b[39mif\u001b[39;00m \u001b[39mhasattr\u001b[39m(e, \u001b[39m\"\u001b[39m\u001b[39m_keras_call_info_injected\u001b[39m\u001b[39m\"\u001b[39m):\n\u001b[1;32m     99\u001b[0m         \u001b[39m# Only inject info for the innermost failing call\u001b[39;00m\n",
      "File \u001b[0;32m~/.local/share/virtualenvs/Alpha2048Zero-riUMb9j-/lib/python3.11/site-packages/keras/src/engine/functional.py:515\u001b[0m, in \u001b[0;36mFunctional.call\u001b[0;34m(self, inputs, training, mask)\u001b[0m\n\u001b[1;32m    496\u001b[0m \u001b[39m@doc_controls\u001b[39m\u001b[39m.\u001b[39mdo_not_doc_inheritable\n\u001b[1;32m    497\u001b[0m \u001b[39mdef\u001b[39;00m \u001b[39mcall\u001b[39m(\u001b[39mself\u001b[39m, inputs, training\u001b[39m=\u001b[39m\u001b[39mNone\u001b[39;00m, mask\u001b[39m=\u001b[39m\u001b[39mNone\u001b[39;00m):\n\u001b[1;32m    498\u001b[0m \u001b[39m    \u001b[39m\u001b[39m\"\"\"Calls the model on new inputs.\u001b[39;00m\n\u001b[1;32m    499\u001b[0m \n\u001b[1;32m    500\u001b[0m \u001b[39m    In this case `call` just reapplies\u001b[39;00m\n\u001b[0;32m   (...)\u001b[0m\n\u001b[1;32m    513\u001b[0m \u001b[39m        a list of tensors if there are more than one outputs.\u001b[39;00m\n\u001b[1;32m    514\u001b[0m \u001b[39m    \"\"\"\u001b[39;00m\n\u001b[0;32m--> 515\u001b[0m     \u001b[39mreturn\u001b[39;00m \u001b[39mself\u001b[39;49m\u001b[39m.\u001b[39;49m_run_internal_graph(inputs, training\u001b[39m=\u001b[39;49mtraining, mask\u001b[39m=\u001b[39;49mmask)\n",
      "File \u001b[0;32m~/.local/share/virtualenvs/Alpha2048Zero-riUMb9j-/lib/python3.11/site-packages/keras/src/engine/functional.py:672\u001b[0m, in \u001b[0;36mFunctional._run_internal_graph\u001b[0;34m(self, inputs, training, mask)\u001b[0m\n\u001b[1;32m    669\u001b[0m     \u001b[39mcontinue\u001b[39;00m  \u001b[39m# Node is not computable, try skipping.\u001b[39;00m\n\u001b[1;32m    671\u001b[0m args, kwargs \u001b[39m=\u001b[39m node\u001b[39m.\u001b[39mmap_arguments(tensor_dict)\n\u001b[0;32m--> 672\u001b[0m outputs \u001b[39m=\u001b[39m node\u001b[39m.\u001b[39;49mlayer(\u001b[39m*\u001b[39;49margs, \u001b[39m*\u001b[39;49m\u001b[39m*\u001b[39;49mkwargs)\n\u001b[1;32m    674\u001b[0m \u001b[39m# Update tensor_dict.\u001b[39;00m\n\u001b[1;32m    675\u001b[0m \u001b[39mfor\u001b[39;00m x_id, y \u001b[39min\u001b[39;00m \u001b[39mzip\u001b[39m(\n\u001b[1;32m    676\u001b[0m     node\u001b[39m.\u001b[39mflat_output_ids, tf\u001b[39m.\u001b[39mnest\u001b[39m.\u001b[39mflatten(outputs)\n\u001b[1;32m    677\u001b[0m ):\n",
      "File \u001b[0;32m~/.local/share/virtualenvs/Alpha2048Zero-riUMb9j-/lib/python3.11/site-packages/keras/src/utils/traceback_utils.py:65\u001b[0m, in \u001b[0;36mfilter_traceback.<locals>.error_handler\u001b[0;34m(*args, **kwargs)\u001b[0m\n\u001b[1;32m     63\u001b[0m filtered_tb \u001b[39m=\u001b[39m \u001b[39mNone\u001b[39;00m\n\u001b[1;32m     64\u001b[0m \u001b[39mtry\u001b[39;00m:\n\u001b[0;32m---> 65\u001b[0m     \u001b[39mreturn\u001b[39;00m fn(\u001b[39m*\u001b[39;49margs, \u001b[39m*\u001b[39;49m\u001b[39m*\u001b[39;49mkwargs)\n\u001b[1;32m     66\u001b[0m \u001b[39mexcept\u001b[39;00m \u001b[39mException\u001b[39;00m \u001b[39mas\u001b[39;00m e:\n\u001b[1;32m     67\u001b[0m     filtered_tb \u001b[39m=\u001b[39m _process_traceback_frames(e\u001b[39m.\u001b[39m__traceback__)\n",
      "File \u001b[0;32m~/.local/share/virtualenvs/Alpha2048Zero-riUMb9j-/lib/python3.11/site-packages/keras/src/engine/base_layer.py:1149\u001b[0m, in \u001b[0;36mLayer.__call__\u001b[0;34m(self, *args, **kwargs)\u001b[0m\n\u001b[1;32m   1144\u001b[0m     inputs \u001b[39m=\u001b[39m \u001b[39mself\u001b[39m\u001b[39m.\u001b[39m_maybe_cast_inputs(inputs, input_list)\n\u001b[1;32m   1146\u001b[0m \u001b[39mwith\u001b[39;00m autocast_variable\u001b[39m.\u001b[39menable_auto_cast_variables(\n\u001b[1;32m   1147\u001b[0m     \u001b[39mself\u001b[39m\u001b[39m.\u001b[39m_compute_dtype_object\n\u001b[1;32m   1148\u001b[0m ):\n\u001b[0;32m-> 1149\u001b[0m     outputs \u001b[39m=\u001b[39m call_fn(inputs, \u001b[39m*\u001b[39;49margs, \u001b[39m*\u001b[39;49m\u001b[39m*\u001b[39;49mkwargs)\n\u001b[1;32m   1151\u001b[0m \u001b[39mif\u001b[39;00m \u001b[39mself\u001b[39m\u001b[39m.\u001b[39m_activity_regularizer:\n\u001b[1;32m   1152\u001b[0m     \u001b[39mself\u001b[39m\u001b[39m.\u001b[39m_handle_activity_regularization(inputs, outputs)\n",
      "File \u001b[0;32m~/.local/share/virtualenvs/Alpha2048Zero-riUMb9j-/lib/python3.11/site-packages/keras/src/utils/traceback_utils.py:96\u001b[0m, in \u001b[0;36minject_argument_info_in_traceback.<locals>.error_handler\u001b[0;34m(*args, **kwargs)\u001b[0m\n\u001b[1;32m     94\u001b[0m bound_signature \u001b[39m=\u001b[39m \u001b[39mNone\u001b[39;00m\n\u001b[1;32m     95\u001b[0m \u001b[39mtry\u001b[39;00m:\n\u001b[0;32m---> 96\u001b[0m     \u001b[39mreturn\u001b[39;00m fn(\u001b[39m*\u001b[39;49margs, \u001b[39m*\u001b[39;49m\u001b[39m*\u001b[39;49mkwargs)\n\u001b[1;32m     97\u001b[0m \u001b[39mexcept\u001b[39;00m \u001b[39mException\u001b[39;00m \u001b[39mas\u001b[39;00m e:\n\u001b[1;32m     98\u001b[0m     \u001b[39mif\u001b[39;00m \u001b[39mhasattr\u001b[39m(e, \u001b[39m\"\u001b[39m\u001b[39m_keras_call_info_injected\u001b[39m\u001b[39m\"\u001b[39m):\n\u001b[1;32m     99\u001b[0m         \u001b[39m# Only inject info for the innermost failing call\u001b[39;00m\n",
      "File \u001b[0;32m~/.local/share/virtualenvs/Alpha2048Zero-riUMb9j-/lib/python3.11/site-packages/keras/src/layers/core/lambda_layer.py:212\u001b[0m, in \u001b[0;36mLambda.call\u001b[0;34m(self, inputs, mask, training)\u001b[0m\n\u001b[1;32m    207\u001b[0m     \u001b[39mreturn\u001b[39;00m var\n\u001b[1;32m    209\u001b[0m \u001b[39mwith\u001b[39;00m tf\u001b[39m.\u001b[39mGradientTape(\n\u001b[1;32m    210\u001b[0m     watch_accessed_variables\u001b[39m=\u001b[39m\u001b[39mTrue\u001b[39;00m\n\u001b[1;32m    211\u001b[0m ) \u001b[39mas\u001b[39;00m tape, tf\u001b[39m.\u001b[39mvariable_creator_scope(_variable_creator):\n\u001b[0;32m--> 212\u001b[0m     result \u001b[39m=\u001b[39m \u001b[39mself\u001b[39;49m\u001b[39m.\u001b[39;49mfunction(inputs, \u001b[39m*\u001b[39;49m\u001b[39m*\u001b[39;49mkwargs)\n\u001b[1;32m    213\u001b[0m \u001b[39mself\u001b[39m\u001b[39m.\u001b[39m_check_variables(created_variables, tape\u001b[39m.\u001b[39mwatched_variables())\n\u001b[1;32m    214\u001b[0m \u001b[39mreturn\u001b[39;00m result\n",
      "File \u001b[0;32m~/Developer/Alpha2048Zero/PPOAgent.py:34\u001b[0m, in \u001b[0;36mPPOAgent.__init__.<locals>.<lambda>\u001b[0;34m(x)\u001b[0m\n\u001b[1;32m     31\u001b[0m inputs \u001b[39m=\u001b[39m layers\u001b[39m.\u001b[39mInput(shape\u001b[39m=\u001b[39minput_shape, name\u001b[39m=\u001b[39m\u001b[39m'\u001b[39m\u001b[39mboard_input\u001b[39m\u001b[39m'\u001b[39m)\n\u001b[1;32m     33\u001b[0m \u001b[39m# Split the input into n separate inputs\u001b[39;00m\n\u001b[0;32m---> 34\u001b[0m input_slices \u001b[39m=\u001b[39m [layers\u001b[39m.\u001b[39mLambda(\u001b[39mlambda\u001b[39;00m x: x[:, i])(inputs) \u001b[39mfor\u001b[39;00m i \u001b[39min\u001b[39;00m \u001b[39mrange\u001b[39m(input_shape[\u001b[39m0\u001b[39m])]\n\u001b[1;32m     36\u001b[0m \u001b[39m# Define n separate CNNs\u001b[39;00m\n\u001b[1;32m     37\u001b[0m cnn_outputs \u001b[39m=\u001b[39m []\n",
      "File \u001b[0;32m~/.local/share/virtualenvs/Alpha2048Zero-riUMb9j-/lib/python3.11/site-packages/tensorflow/python/util/traceback_utils.py:150\u001b[0m, in \u001b[0;36mfilter_traceback.<locals>.error_handler\u001b[0;34m(*args, **kwargs)\u001b[0m\n\u001b[1;32m    148\u001b[0m filtered_tb \u001b[39m=\u001b[39m \u001b[39mNone\u001b[39;00m\n\u001b[1;32m    149\u001b[0m \u001b[39mtry\u001b[39;00m:\n\u001b[0;32m--> 150\u001b[0m   \u001b[39mreturn\u001b[39;00m fn(\u001b[39m*\u001b[39;49margs, \u001b[39m*\u001b[39;49m\u001b[39m*\u001b[39;49mkwargs)\n\u001b[1;32m    151\u001b[0m \u001b[39mexcept\u001b[39;00m \u001b[39mException\u001b[39;00m \u001b[39mas\u001b[39;00m e:\n\u001b[1;32m    152\u001b[0m   filtered_tb \u001b[39m=\u001b[39m _process_traceback_frames(e\u001b[39m.\u001b[39m__traceback__)\n",
      "File \u001b[0;32m~/.local/share/virtualenvs/Alpha2048Zero-riUMb9j-/lib/python3.11/site-packages/tensorflow/python/util/dispatch.py:1260\u001b[0m, in \u001b[0;36madd_dispatch_support.<locals>.decorator.<locals>.op_dispatch_handler\u001b[0;34m(*args, **kwargs)\u001b[0m\n\u001b[1;32m   1258\u001b[0m \u001b[39m# Fallback dispatch system (dispatch v1):\u001b[39;00m\n\u001b[1;32m   1259\u001b[0m \u001b[39mtry\u001b[39;00m:\n\u001b[0;32m-> 1260\u001b[0m   \u001b[39mreturn\u001b[39;00m dispatch_target(\u001b[39m*\u001b[39;49margs, \u001b[39m*\u001b[39;49m\u001b[39m*\u001b[39;49mkwargs)\n\u001b[1;32m   1261\u001b[0m \u001b[39mexcept\u001b[39;00m (\u001b[39mTypeError\u001b[39;00m, \u001b[39mValueError\u001b[39;00m):\n\u001b[1;32m   1262\u001b[0m   \u001b[39m# Note: convert_to_eager_tensor currently raises a ValueError, not a\u001b[39;00m\n\u001b[1;32m   1263\u001b[0m   \u001b[39m# TypeError, when given unexpected types.  So we need to catch both.\u001b[39;00m\n\u001b[1;32m   1264\u001b[0m   result \u001b[39m=\u001b[39m dispatch(op_dispatch_handler, args, kwargs)\n",
      "File \u001b[0;32m~/.local/share/virtualenvs/Alpha2048Zero-riUMb9j-/lib/python3.11/site-packages/tensorflow/python/ops/array_ops.py:1133\u001b[0m, in \u001b[0;36m_slice_helper\u001b[0;34m(tensor, slice_spec, var)\u001b[0m\n\u001b[1;32m   1130\u001b[0m   index \u001b[39m+\u001b[39m\u001b[39m=\u001b[39m \u001b[39m1\u001b[39m\n\u001b[1;32m   1132\u001b[0m \u001b[39m# stack possibly involves no tensors, so we must use op_scope correct graph.\u001b[39;00m\n\u001b[0;32m-> 1133\u001b[0m \u001b[39mwith\u001b[39;49;00m ops\u001b[39m.\u001b[39;49mname_scope(\n\u001b[1;32m   1134\u001b[0m     \u001b[39mNone\u001b[39;49;00m,\n\u001b[1;32m   1135\u001b[0m     \u001b[39m\"\u001b[39;49m\u001b[39mstrided_slice\u001b[39;49m\u001b[39m\"\u001b[39;49m, [tensor] \u001b[39m+\u001b[39;49m begin \u001b[39m+\u001b[39;49m end \u001b[39m+\u001b[39;49m strides,\n\u001b[1;32m   1136\u001b[0m     skip_on_eager\u001b[39m=\u001b[39;49m\u001b[39mFalse\u001b[39;49;00m) \u001b[39mas\u001b[39;49;00m name:\n\u001b[1;32m   1137\u001b[0m   \u001b[39mif\u001b[39;49;00m begin:\n\u001b[1;32m   1138\u001b[0m     packed_begin, packed_end, packed_strides \u001b[39m=\u001b[39;49m (\n\u001b[1;32m   1139\u001b[0m         array_ops_stack\u001b[39m.\u001b[39;49mstack(begin),\n\u001b[1;32m   1140\u001b[0m         array_ops_stack\u001b[39m.\u001b[39;49mstack(end),\n\u001b[1;32m   1141\u001b[0m         array_ops_stack\u001b[39m.\u001b[39;49mstack(strides))\n",
      "File \u001b[0;32m~/.local/share/virtualenvs/Alpha2048Zero-riUMb9j-/lib/python3.11/site-packages/tensorflow/python/framework/ops.py:5685\u001b[0m, in \u001b[0;36mname_scope_v2.__enter__\u001b[0;34m(self)\u001b[0m\n\u001b[1;32m   5683\u001b[0m \u001b[39melse\u001b[39;00m:\n\u001b[1;32m   5684\u001b[0m   scope_name \u001b[39m=\u001b[39m name \u001b[39m+\u001b[39m \u001b[39m\"\u001b[39m\u001b[39m/\u001b[39m\u001b[39m\"\u001b[39m\n\u001b[0;32m-> 5685\u001b[0m ctx\u001b[39m.\u001b[39;49mscope_name \u001b[39m=\u001b[39m scope_name\n\u001b[1;32m   5687\u001b[0m \u001b[39mdef\u001b[39;00m \u001b[39m_restore_name_scope\u001b[39m(\u001b[39m*\u001b[39m_):\n\u001b[1;32m   5688\u001b[0m   ctx\u001b[39m.\u001b[39mscope_name \u001b[39m=\u001b[39m old_name\n",
      "File \u001b[0;32m~/.local/share/virtualenvs/Alpha2048Zero-riUMb9j-/lib/python3.11/site-packages/tensorflow/python/eager/context.py:1029\u001b[0m, in \u001b[0;36mContext.scope_name\u001b[0;34m(self, s)\u001b[0m\n\u001b[1;32m   1026\u001b[0m \u001b[39m  \u001b[39m\u001b[39m\"\"\"Returns scope name for the current thread.\"\"\"\u001b[39;00m\n\u001b[1;32m   1027\u001b[0m   \u001b[39mreturn\u001b[39;00m \u001b[39mself\u001b[39m\u001b[39m.\u001b[39m_thread_local_data\u001b[39m.\u001b[39mscope_name\n\u001b[0;32m-> 1029\u001b[0m \u001b[39m@scope_name\u001b[39m\u001b[39m.\u001b[39msetter\n\u001b[1;32m   1030\u001b[0m \u001b[39mdef\u001b[39;00m \u001b[39mscope_name\u001b[39m(\u001b[39mself\u001b[39m, s):\n\u001b[1;32m   1031\u001b[0m \u001b[39m  \u001b[39m\u001b[39m\"\"\"Sets scope name for the current thread.\"\"\"\u001b[39;00m\n\u001b[1;32m   1032\u001b[0m   \u001b[39mself\u001b[39m\u001b[39m.\u001b[39m_thread_local_data\u001b[39m.\u001b[39mscope_name \u001b[39m=\u001b[39m s\n",
      "\u001b[0;31mKeyboardInterrupt\u001b[0m: "
     ]
    }
   ],
   "source": [
    "from Train import train\n",
    "from TrainPPO import train_ppo\n",
    "from webapp2048.WebApp import run_async\n",
    "run_async()\n",
    "train_ppo(\n",
    "    epochs=1000,\n",
    "    mcts_iterations=300,\n",
    "    batch_size=1000,\n",
    "    temperature=1.0,\n",
    "    window_size=5\n",
    ")"
   ]
  },
  {
   "cell_type": "code",
   "execution_count": 3,
   "metadata": {},
   "outputs": [
    {
     "data": {
      "text/plain": [
       "1440"
      ]
     },
     "execution_count": 3,
     "metadata": {},
     "output_type": "execute_result"
    }
   ],
   "source": []
  },
  {
   "cell_type": "code",
   "execution_count": 1,
   "metadata": {
    "ExecuteTime": {
     "start_time": "2023-11-02T23:13:24.918963Z"
    },
    "collapsed": false
   },
   "outputs": [
    {
     "name": "stderr",
     "output_type": "stream",
     "text": [
      "2023-11-04 16:21:53.435742: I tensorflow/core/platform/cpu_feature_guard.cc:182] This TensorFlow binary is optimized to use available CPU instructions in performance-critical operations.\n",
      "To enable the following instructions: AVX2 FMA, in other operations, rebuild TensorFlow with the appropriate compiler flags.\n"
     ]
    },
    {
     "name": "stdout",
     "output_type": "stream",
     "text": [
      "Public URL: http://0.0.0.0:5001\n",
      "updward_max_board_tile=2\n",
      "updward_max_board_tile=4\n",
      "updward_max_board_tile=8\n",
      "updward_max_board_tile=16\n",
      "updward_max_board_tile=32\n",
      "updward_max_board_tile=64\n",
      "updward_max_board_tile=128\n",
      "updward_max_board_tile=256\n",
      "updward_max_board_tile=512\n",
      "updward_max_board_tile=1024\n",
      "updward_max_board_tile=2048\n",
      "updward_max_board_tile=4096\n",
      "updward_max_board_tile=8192\n",
      "updward_max_board_tile=16384\n",
      "updward_max_board_tile=32768\n",
      "updward_max_board_tile=65536\n",
      "updward_max_board_tile=131072\n",
      "downward_max_board_tile=2.0\n",
      "downward_max_board_tile=1.0\n",
      "updward_max_board_tile=8\n",
      "updward_max_board_tile=16\n",
      "updward_max_board_tile=32\n",
      "updward_max_board_tile=64\n",
      "updward_max_board_tile=128\n",
      "updward_max_board_tile=256\n",
      "updward_max_board_tile=512\n",
      "updward_max_board_tile=1024\n",
      "updward_max_board_tile=2048\n",
      "updward_max_board_tile=4096\n",
      "updward_max_board_tile=8192\n",
      "updward_max_board_tile=16384\n",
      "updward_max_board_tile=32768\n",
      "updward_max_board_tile=65536\n",
      "updward_max_board_tile=131072\n",
      "downward_max_board_tile=1.0\n",
      "updward_max_board_tile=4\n",
      "updward_max_board_tile=8\n",
      "updward_max_board_tile=16\n",
      "updward_max_board_tile=32\n",
      "updward_max_board_tile=64\n",
      "updward_max_board_tile=128\n",
      "updward_max_board_tile=256\n",
      "updward_max_board_tile=512\n",
      "updward_max_board_tile=1024\n",
      "updward_max_board_tile=2048\n",
      "updward_max_board_tile=4096\n",
      "updward_max_board_tile=8192\n",
      "updward_max_board_tile=16384\n",
      "updward_max_board_tile=32768\n",
      "updward_max_board_tile=65536\n",
      "updward_max_board_tile=131072\n"
     ]
    },
    {
     "ename": "ValueError",
     "evalue": "cannot reshape array of size 368 into shape (1,4,4,5)",
     "output_type": "error",
     "traceback": [
      "\u001b[0;31m---------------------------------------------------------------------------\u001b[0m",
      "\u001b[0;31mValueError\u001b[0m                                Traceback (most recent call last)",
      "\u001b[1;32m/Users/michaelking/Developer/Alpha2048Zero/real.ipynb Cell 5\u001b[0m line \u001b[0;36m6\n\u001b[1;32m      <a href='vscode-notebook-cell:/Users/michaelking/Developer/Alpha2048Zero/real.ipynb#W4sZmlsZQ%3D%3D?line=3'>4</a>\u001b[0m \u001b[39mfrom\u001b[39;00m \u001b[39mwebapp2048\u001b[39;00m\u001b[39m.\u001b[39;00m\u001b[39mWebApp\u001b[39;00m \u001b[39mimport\u001b[39;00m run_async\n\u001b[1;32m      <a href='vscode-notebook-cell:/Users/michaelking/Developer/Alpha2048Zero/real.ipynb#W4sZmlsZQ%3D%3D?line=4'>5</a>\u001b[0m run_async()\n\u001b[0;32m----> <a href='vscode-notebook-cell:/Users/michaelking/Developer/Alpha2048Zero/real.ipynb#W4sZmlsZQ%3D%3D?line=5'>6</a>\u001b[0m \u001b[39mawait\u001b[39;00m train_vectorized_ppo(\n\u001b[1;32m      <a href='vscode-notebook-cell:/Users/michaelking/Developer/Alpha2048Zero/real.ipynb#W4sZmlsZQ%3D%3D?line=6'>7</a>\u001b[0m     epochs\u001b[39m=\u001b[39m\u001b[39m10000\u001b[39m,\n\u001b[1;32m      <a href='vscode-notebook-cell:/Users/michaelking/Developer/Alpha2048Zero/real.ipynb#W4sZmlsZQ%3D%3D?line=7'>8</a>\u001b[0m     batch_size\u001b[39m=\u001b[39m\u001b[39m1000\u001b[39m,\n\u001b[1;32m      <a href='vscode-notebook-cell:/Users/michaelking/Developer/Alpha2048Zero/real.ipynb#W4sZmlsZQ%3D%3D?line=8'>9</a>\u001b[0m     temperature\u001b[39m=\u001b[39m\u001b[39m1.0\u001b[39m,\n\u001b[1;32m     <a href='vscode-notebook-cell:/Users/michaelking/Developer/Alpha2048Zero/real.ipynb#W4sZmlsZQ%3D%3D?line=9'>10</a>\u001b[0m     num_envs\u001b[39m=\u001b[39m\u001b[39m1\u001b[39m\n\u001b[1;32m     <a href='vscode-notebook-cell:/Users/michaelking/Developer/Alpha2048Zero/real.ipynb#W4sZmlsZQ%3D%3D?line=10'>11</a>\u001b[0m )\n",
      "File \u001b[0;32m~/Developer/Alpha2048Zero/VectorizedTrainPPO.py:71\u001b[0m, in \u001b[0;36mtrain_vectorized_ppo\u001b[0;34m(epochs, batch_size, temperature, num_envs)\u001b[0m\n\u001b[1;32m     70\u001b[0m \u001b[39masync\u001b[39;00m \u001b[39mdef\u001b[39;00m \u001b[39mtrain_vectorized_ppo\u001b[39m(\u001b[39m*\u001b[39m, epochs, batch_size, temperature, num_envs\u001b[39m=\u001b[39m\u001b[39m10\u001b[39m):\n\u001b[0;32m---> 71\u001b[0m     env \u001b[39m=\u001b[39m VectorizedGame2048Env(num_envs\u001b[39m=\u001b[39;49mnum_envs)\n\u001b[1;32m     72\u001b[0m     model \u001b[39m=\u001b[39m VectorizedPPOAgent(env\u001b[39m.\u001b[39mobservation_space\u001b[39m.\u001b[39mshape, env\u001b[39m.\u001b[39maction_space\u001b[39m.\u001b[39mn, temperature\u001b[39m=\u001b[39mtemperature)\n\u001b[1;32m     74\u001b[0m     \u001b[39mreturn\u001b[39;00m \u001b[39mawait\u001b[39;00m train_vectorized_2048_ppo(model, env, epochs, batch_size, num_envs)\n",
      "File \u001b[0;32m~/Developer/Alpha2048Zero/VectorizedGame2048Env.py:16\u001b[0m, in \u001b[0;36mVectorizedGame2048Env.__init__\u001b[0;34m(self, num_envs)\u001b[0m\n\u001b[1;32m     13\u001b[0m \u001b[39mself\u001b[39m\u001b[39m.\u001b[39maction_space \u001b[39m=\u001b[39m spaces\u001b[39m.\u001b[39mDiscrete(\u001b[39m4\u001b[39m)\n\u001b[1;32m     14\u001b[0m \u001b[39mself\u001b[39m\u001b[39m.\u001b[39mobservation_space \u001b[39m=\u001b[39m spaces\u001b[39m.\u001b[39mBox(low\u001b[39m=\u001b[39m\u001b[39m0\u001b[39m, high\u001b[39m=\u001b[39mMAX_TILE, shape\u001b[39m=\u001b[39m(num_envs, \u001b[39m4\u001b[39m, \u001b[39m4\u001b[39m, \u001b[39m5\u001b[39m), dtype\u001b[39m=\u001b[39mnp\u001b[39m.\u001b[39muint16)\n\u001b[0;32m---> 16\u001b[0m \u001b[39mself\u001b[39;49m\u001b[39m.\u001b[39;49mreset()\n",
      "File \u001b[0;32m~/Developer/Alpha2048Zero/VectorizedGame2048Env.py:19\u001b[0m, in \u001b[0;36mVectorizedGame2048Env.reset\u001b[0;34m(self, **kwargs)\u001b[0m\n\u001b[1;32m     18\u001b[0m \u001b[39mdef\u001b[39;00m \u001b[39mreset\u001b[39m(\u001b[39mself\u001b[39m, \u001b[39m*\u001b[39m\u001b[39m*\u001b[39mkwargs):\n\u001b[0;32m---> 19\u001b[0m     \u001b[39mreturn\u001b[39;00m np\u001b[39m.\u001b[39;49marray([env\u001b[39m.\u001b[39;49mreset() \u001b[39mfor\u001b[39;49;00m env \u001b[39min\u001b[39;49;00m \u001b[39mself\u001b[39;49m\u001b[39m.\u001b[39;49menvs])\u001b[39m.\u001b[39;49mreshape((\u001b[39mself\u001b[39;49m\u001b[39m.\u001b[39;49mnum_envs, \u001b[39m4\u001b[39;49m, \u001b[39m4\u001b[39;49m, \u001b[39m5\u001b[39;49m))\n",
      "\u001b[0;31mValueError\u001b[0m: cannot reshape array of size 368 into shape (1,4,4,5)"
     ]
    }
   ],
   "source": [
    "%autoawait on\n",
    "\n",
    "from VectorizedTrainPPO import train_vectorized_ppo\n",
    "from webapp2048.WebApp import run_async\n",
    "run_async()\n",
    "await train_vectorized_ppo(\n",
    "    epochs=10000,\n",
    "    batch_size=1000,\n",
    "    temperature=1.0,\n",
    "    num_envs=1\n",
    ")"
   ]
  },
  {
   "cell_type": "code",
   "execution_count": 1,
   "metadata": {
    "collapsed": false
   },
   "outputs": [
    {
     "ename": "NameError",
     "evalue": "name 'test_board' is not defined",
     "output_type": "error",
     "traceback": [
      "\u001b[0;31m---------------------------------------------------------------------------\u001b[0m",
      "\u001b[0;31mNameError\u001b[0m                                 Traceback (most recent call last)",
      "Cell \u001b[0;32mIn[1], line 17\u001b[0m\n\u001b[1;32m     14\u001b[0m     \u001b[38;5;28;01mreturn\u001b[39;00m \u001b[38;5;28;01mFalse\u001b[39;00m\n\u001b[1;32m     16\u001b[0m \u001b[38;5;66;03m# Test the helper function\u001b[39;00m\n\u001b[0;32m---> 17\u001b[0m is_next_to_lower_tile(\u001b[43mtest_board\u001b[49m, \u001b[38;5;241m4\u001b[39m)  \u001b[38;5;66;03m# Expect True because 4 is next to 2 on the board.\u001b[39;00m\n",
      "\u001b[0;31mNameError\u001b[0m: name 'test_board' is not defined"
     ]
    }
   ],
   "source": [
    "def is_next_to_lower_tile(board, tile_value):\n",
    "    \"\"\"\n",
    "    Check if a tile with the given value is adjacent to a tile with half its value.\n",
    "    \"\"\"\n",
    "    for i in range(4):\n",
    "        for j in range(4):\n",
    "            if board[i][j] == tile_value:\n",
    "                # Check adjacent cells for half the tile value\n",
    "                adjacent_cells = [(i-1, j), (i+1, j), (i, j-1), (i, j+1)]\n",
    "                for cell in adjacent_cells:\n",
    "                    x, y = cell\n",
    "                    if 0 <= x < 4 and 0 <= y < 4 and board[x][y] == tile_value / 2:\n",
    "                        return True\n",
    "    return False\n",
    "\n",
    "# Test the helper function\n",
    "is_next_to_lower_tile(test_board, 4)  # Expect True because 4 is next to 2 on the board.\n"
   ]
  },
  {
   "cell_type": "code",
   "execution_count": null,
   "metadata": {
    "collapsed": false
   },
   "outputs": [],
   "source": [
    "def calculate_reward(board):\n",
    "    # Calculate the maximum tile and number of iterations\n",
    "    max_tile = max(max(row) for row in board)\n",
    "    iterations = int(max_tile**0.5)\n",
    "\n",
    "    reward = 0\n",
    "\n",
    "    for i in range(1, iterations+1):\n",
    "        tile_value = 2**i\n",
    "        tile_count = sum(row.count(tile_value) for row in board)\n",
    "\n",
    "        # Check for adjacent tiles with the same value\n",
    "        if are_adjacent(board, tile_value):\n",
    "            multiplier = 1.75\n",
    "        # Check for tile adjacent to the next lower value tile\n",
    "        elif is_next_to_lower_tile(board, tile_value):\n",
    "            multiplier = 1.5\n",
    "        # Check for 2 or more non-adjacent tiles\n",
    "        elif tile_count >= 2:\n",
    "            multiplier = 1.25\n",
    "        # Check for single tile\n",
    "        elif tile_count == 1:\n",
    "            multiplier = 1.0\n",
    "        # No tile present\n",
    "        else:\n",
    "            multiplier = 0.0\n",
    "\n",
    "        reward += multiplier * tile_value\n",
    "\n",
    "    return reward\n",
    "\n",
    "# Test the main function with the test board\n",
    "calculate_reward(test_board)\n"
   ]
  },
  {
   "cell_type": "code",
   "execution_count": null,
   "metadata": {
    "collapsed": false
   },
   "outputs": [],
   "source": [
    "calculate_reward([\n",
    "    [4,0,0,0],\n",
    "    [0,0,0,0],\n",
    "    [0,0,0,0],\n",
    "    [0,0,0,0],\n",
    "])"
   ]
  },
  {
   "cell_type": "code",
   "execution_count": null,
   "metadata": {
    "collapsed": false
   },
   "outputs": [],
   "source": []
  }
 ],
 "metadata": {
  "kernelspec": {
   "display_name": "Python 3",
   "language": "python",
   "name": "python3"
  },
  "language_info": {
   "codemirror_mode": {
    "name": "ipython",
    "version": 3
   },
   "file_extension": ".py",
   "mimetype": "text/x-python",
   "name": "python",
   "nbconvert_exporter": "python",
   "pygments_lexer": "ipython3",
   "version": "3.11.5"
  }
 },
 "nbformat": 4,
 "nbformat_minor": 0
}
