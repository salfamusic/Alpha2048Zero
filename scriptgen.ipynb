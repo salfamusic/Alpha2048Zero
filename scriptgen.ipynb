{
 "cells": [
  {
   "cell_type": "code",
   "execution_count": 1,
   "outputs": [],
   "source": [
    "import ast\n",
    "import os\n",
    "import clipboard\n",
    "import re\n",
    "\n",
    "def get_module_code(module_path):\n",
    "    with open(module_path, 'r') as f:\n",
    "        return f.read()\n",
    "\n",
    "def get_all_imports(file_path):\n",
    "    with open(file_path, 'r') as f:\n",
    "        root = ast.parse(f.read())\n",
    "\n",
    "    imports = [node for node in ast.walk(root) if isinstance(node, ast.Import)]\n",
    "    import_froms = [node for node in ast.walk(root) if isinstance(node, ast.ImportFrom)]\n",
    "\n",
    "    return imports, import_froms\n",
    "\n",
    "\n",
    "\n",
    "def replace_import_with_code(file_path, project_root, imported_modules, non_project_imports):\n",
    "    imports, import_froms = get_all_imports(file_path)\n",
    "\n",
    "    code = get_module_code(file_path)\n",
    "\n",
    "    for import_node in imports:\n",
    "        for alias in import_node.names:\n",
    "            original_name = alias.name\n",
    "            as_name = alias.asname if alias.asname else alias.name\n",
    "            module_path = os.path.join(project_root, original_name.replace('.', '/') + '.py')\n",
    "            if os.path.isfile(module_path):\n",
    "                if module_path not in imported_modules:\n",
    "                    imported_modules.add(module_path)\n",
    "                    module_code = replace_import_with_code(module_path, project_root, imported_modules, non_project_imports)\n",
    "                    code = re.sub(f'import {original_name}', f'{module_code}', code)\n",
    "                else:\n",
    "                    code = re.sub(f'import {original_name}', f\"{as_name} = {original_name}\", code)\n",
    "            else:\n",
    "                non_project_imports.add(f'import {original_name} as {as_name}')\n",
    "                code = re.sub(f'import {original_name} as {as_name}', \"\", code)\n",
    "                code = re.sub(f'import {original_name}', \"\", code)\n",
    "\n",
    "    for import_from_node in import_froms:\n",
    "        module_path = os.path.join(project_root, import_from_node.module.replace('.', '/') + '.py')\n",
    "        import_names = \", \".join([alias.name for alias in import_from_node.names])\n",
    "        if os.path.isfile(module_path):\n",
    "            if module_path not in imported_modules:\n",
    "                imported_modules.add(module_path)\n",
    "                module_code = replace_import_with_code(module_path, project_root, imported_modules, non_project_imports)\n",
    "                code = re.sub(f'from {import_from_node.module} import {import_names}', f'{module_code}', code)\n",
    "            else:\n",
    "                code = re.sub(f'from {import_from_node.module} import {import_names}', \"\", code)\n",
    "        else:\n",
    "            for alias in import_from_node.names:\n",
    "                original_name = alias.name\n",
    "                as_name = alias.asname if alias.asname else alias.name\n",
    "                non_project_imports.add(f'from {import_from_node.module} import {original_name} as {as_name}')\n",
    "                code = re.sub(f'from {import_from_node.module} import {original_name} as {as_name}', \"\", code)\n",
    "                code = re.sub(f'from {import_from_node.module} import {original_name}', \"\", code)\n",
    "\n",
    "    code = clean_up_code(code)\n",
    "\n",
    "    return code\n",
    "\n",
    "\n",
    "\n",
    "\n",
    "def clean_up_code(code):\n",
    "    # Remove any line that contains only a comma or whitespace,\n",
    "    # or that appears to be a leftover part of an import statement.\n",
    "    lines = code.split('\\n')\n",
    "    lines = [\n",
    "        line for line in lines\n",
    "        if not line.strip() in {',', ''}\n",
    "        and not line.strip().startswith(',')\n",
    "    ]\n",
    "    return '\\n'.join(lines)\n",
    "\n",
    "def write_code_to_clipboard(code, non_project_imports, prompt):\n",
    "    code_to_clipboard = prompt + \"\\n\".join(non_project_imports) + \"\\n\" + code\n",
    "    clipboard.copy(code_to_clipboard)\n",
    "\n",
    "def consolidate(project_root, input_file_path, prompt):\n",
    "    imported_modules = set()\n",
    "    non_project_imports = set()\n",
    "\n",
    "    code = replace_import_with_code(input_file_path, project_root, imported_modules, non_project_imports)\n",
    "\n",
    "    write_code_to_clipboard(code, non_project_imports, prompt)\n"
   ],
   "metadata": {
    "collapsed": false,
    "ExecuteTime": {
     "end_time": "2023-10-30T00:58:51.680693Z",
     "start_time": "2023-10-30T00:58:51.605300Z"
    }
   }
  },
  {
   "cell_type": "code",
   "execution_count": 62,
   "outputs": [],
   "source": [
    "implement_prompt = \"Please implement the unimplemented metnods in the MatrixService. Also, please only output the implementations of these methods, I do not need all of the code repeated.\\n\\n\""
   ],
   "metadata": {
    "collapsed": false,
    "ExecuteTime": {
     "end_time": "2023-07-04T18:58:50.122555Z",
     "start_time": "2023-07-04T18:58:50.117889Z"
    }
   }
  },
  {
   "cell_type": "code",
   "execution_count": 63,
   "outputs": [],
   "source": [
    "consolidate(\"./\", \"./matrix/MatrixService.py\", implement_prompt)"
   ],
   "metadata": {
    "collapsed": false,
    "ExecuteTime": {
     "end_time": "2023-07-04T18:58:50.325437Z",
     "start_time": "2023-07-04T18:58:50.232903Z"
    }
   }
  },
  {
   "cell_type": "code",
   "execution_count": 39,
   "outputs": [],
   "source": [
    "consolidate(\"./\", \"./pattern/Square.py\", \"Can you implement the rest of the passed methods.\\n\\n\")"
   ],
   "metadata": {
    "collapsed": false,
    "ExecuteTime": {
     "end_time": "2023-06-30T19:06:19.440497Z",
     "start_time": "2023-06-30T19:06:19.374608Z"
    }
   }
  },
  {
   "cell_type": "code",
   "execution_count": 9,
   "outputs": [],
   "source": [
    "consolidate(\"./\", \"./test/PatternTest.py\", \"Please implement the methods in the class BlackburnsCheckmatePattern. Please note the commented descriptions of what these checkmates are.\")"
   ],
   "metadata": {
    "collapsed": false,
    "ExecuteTime": {
     "end_time": "2023-06-26T03:42:41.648965Z",
     "start_time": "2023-06-26T03:42:41.562895Z"
    }
   }
  },
  {
   "cell_type": "code",
   "execution_count": 11,
   "outputs": [],
   "source": [
    "consolidate(\"./\", \"./pattern/checkmates/AnastasiasCheckmatePattern.py\", \"Based on the code in AnastasiasCheckmatePattern class, can you generate an english description of this checkmate?\")"
   ],
   "metadata": {
    "collapsed": false,
    "ExecuteTime": {
     "end_time": "2023-06-26T03:47:20.051047Z",
     "start_time": "2023-06-26T03:47:20.003449Z"
    }
   }
  },
  {
   "cell_type": "code",
   "execution_count": 7,
   "outputs": [],
   "source": [
    "consolidate(\"./\", \"./TrainPPO.py\", \"\")"
   ],
   "metadata": {
    "collapsed": false,
    "ExecuteTime": {
     "end_time": "2023-10-30T05:11:14.761413Z",
     "start_time": "2023-10-30T05:11:14.681976Z"
    }
   }
  },
  {
   "cell_type": "code",
   "execution_count": null,
   "outputs": [],
   "source": [],
   "metadata": {
    "collapsed": false
   }
  }
 ],
 "metadata": {
  "kernelspec": {
   "display_name": "Python 3",
   "language": "python",
   "name": "python3"
  },
  "language_info": {
   "codemirror_mode": {
    "name": "ipython",
    "version": 2
   },
   "file_extension": ".py",
   "mimetype": "text/x-python",
   "name": "python",
   "nbconvert_exporter": "python",
   "pygments_lexer": "ipython2",
   "version": "2.7.6"
  }
 },
 "nbformat": 4,
 "nbformat_minor": 0
}
