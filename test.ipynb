{
 "cells": [
  {
   "cell_type": "code",
   "execution_count": 5,
   "metadata": {
    "ExecuteTime": {
     "end_time": "2023-10-21T21:57:32.993662Z",
     "start_time": "2023-10-21T21:57:31.402635Z"
    },
    "collapsed": false
   },
   "outputs": [
    {
     "name": "stdout",
     "output_type": "stream",
     "text": [
      "--2023-10-21 16:57:31--  https://bin.equinox.io/c/bNyj1mQVY4c/ngrok-v3-stable-darwin-amd64.zip\r\n",
      "Resolving bin.equinox.io (bin.equinox.io)... 54.161.241.46, 54.237.133.81, 18.205.222.128, ...\r\n",
      "Connecting to bin.equinox.io (bin.equinox.io)|54.161.241.46|:443... connected.\r\n",
      "HTTP request sent, awaiting response... 200 OK\r\n",
      "Length: 9393876 (9.0M) [application/octet-stream]\r\n",
      "Saving to: ‘ngrok-v3-stable-darwin-amd64.zip’\r\n",
      "\r\n",
      "ngrok-v3-stable-dar 100%[===================>]   8.96M  12.7MB/s    in 0.7s    \r\n",
      "\r\n",
      "2023-10-21 16:57:32 (12.7 MB/s) - ‘ngrok-v3-stable-darwin-amd64.zip’ saved [9393876/9393876]\r\n",
      "\r\n",
      "Archive:  ngrok-v3-stable-darwin-amd64.zip\r\n",
      "  inflating: ngrok                   \r\n"
     ]
    }
   ],
   "source": [
    "!wget https://bin.equinox.io/c/bNyj1mQVY4c/ngrok-v3-stable-darwin-amd64.zip\n",
    "!unzip ngrok-v3-stable-darwin-amd64.zip"
   ]
  },
  {
   "cell_type": "code",
   "execution_count": 6,
   "metadata": {
    "ExecuteTime": {
     "end_time": "2023-10-21T21:57:34.774436Z",
     "start_time": "2023-10-21T21:57:34.272803Z"
    },
    "collapsed": false
   },
   "outputs": [
    {
     "name": "stdout",
     "output_type": "stream",
     "text": [
      "Authtoken saved to configuration file: /Users/michaelking/.ngrok2/ngrok.yml\r\n"
     ]
    }
   ],
   "source": [
    "!./ngrok config add-authtoken 1tHaGIL1YdMNniMQKsAzqSgsiUb_7AgZfgwYUTdCzFGva4KE8"
   ]
  },
  {
   "cell_type": "code",
   "execution_count": 1,
   "metadata": {
    "ExecuteTime": {
     "end_time": "2023-10-22T22:18:28.014649Z",
     "start_time": "2023-10-22T22:18:27.343674Z"
    },
    "collapsed": true
   },
   "outputs": [],
   "source": [
    "import threading\n",
    "from pyngrok import ngrok\n",
    "from webapp2048.WebApp import socketio, app, set_public_url, call_add_step\n",
    "\n",
    "\n",
    "# Function to run the Flask app with SocketIO\n",
    "def run():\n",
    "    socketio.run(app, host='0.0.0.0', port=5001, debug=True, use_reloader=False)\n",
    "\n",
    "def run_async():\n",
    "    # Start the Flask app in a separate thread\n",
    "    threading.Thread(target=run).start()\n",
    "\n",
    "    # Set up ngrok tunnel\n",
    "    public_url = ngrok.connect(5001).public_url\n",
    "    set_public_url(public_url)\n",
    "    print('Public URL:', public_url)\n"
   ]
  },
  {
   "cell_type": "code",
   "execution_count": 2,
   "metadata": {
    "ExecuteTime": {
     "end_time": "2023-10-22T22:18:29.072735Z",
     "start_time": "2023-10-22T22:18:28.594092Z"
    },
    "collapsed": false
   },
   "outputs": [
    {
     "name": "stderr",
     "output_type": "stream",
     "text": [
      "(40890) wsgi starting up on http://0.0.0.0:5001\n",
      "t=2023-10-22T17:18:28-0500 lvl=warn msg=\"ngrok config file found at legacy location, move to XDG location\" xdg_path=\"/Users/michaelking/Library/Application Support/ngrok/ngrok.yml\" legacy_path=/Users/michaelking/.ngrok2/ngrok.yml\n"
     ]
    },
    {
     "name": "stdout",
     "output_type": "stream",
     "text": [
      "Public URL: https://546a-173-20-233-125.ngrok-free.app\n"
     ]
    }
   ],
   "source": [
    "run_async()"
   ]
  },
  {
   "cell_type": "code",
   "execution_count": 15,
   "metadata": {
    "ExecuteTime": {
     "end_time": "2023-10-22T23:26:54.373933Z",
     "start_time": "2023-10-22T23:26:54.136208Z"
    },
    "collapsed": false
   },
   "outputs": [
    {
     "name": "stdout",
     "output_type": "stream",
     "text": [
      "<Response [200]>\n"
     ]
    },
    {
     "name": "stderr",
     "output_type": "stream",
     "text": [
      "(40890) accepted ('127.0.0.1', 57066)\n",
      "173.20.233.125,127.0.0.1 - - [22/Oct/2023 18:26:54] \"POST /add_step HTTP/1.1\" 200 166 0.000728\n"
     ]
    }
   ],
   "source": [
    "import numpy as np\n",
    "\n",
    "call_add_step({\n",
    "    'epoch_number': 0,\n",
    "    'game_number': 0,\n",
    "    'action': 0,\n",
    "    'next_board': np.array([[0, 2, 4, 2],\n",
    "       [64, 32, 2, 16],\n",
    "       [0, 4, 2, 8],\n",
    "       [0, 4, 8, 0]]).tolist()\n",
    "})"
   ]
  },
  {
   "cell_type": "code",
   "execution_count": 1,
   "metadata": {
    "ExecuteTime": {
     "end_time": "2023-10-29T22:49:07.740373Z",
     "start_time": "2023-10-29T22:48:46.350745Z"
    },
    "collapsed": false
   },
   "outputs": [
    {
     "name": "stderr",
     "output_type": "stream",
     "text": [
      "2023-10-29 17:49:00.936737: I tensorflow/core/platform/cpu_feature_guard.cc:182] This TensorFlow binary is optimized to use available CPU instructions in performance-critical operations.\n",
      "To enable the following instructions: AVX2 FMA, in other operations, rebuild TensorFlow with the appropriate compiler flags.\n"
     ]
    }
   ],
   "source": [
    "from Game2048Env import Game2048Env\n",
    "from Policy2048 import create_non_masked_2048_policy_model, create_2048_policy_model\n",
    "\n",
    "env = Game2048Env()\n",
    "\n",
    "masked_model = create_2048_policy_model()\n",
    "non_masked_model = create_non_masked_2048_policy_model()"
   ]
  },
  {
   "cell_type": "code",
   "execution_count": 14,
   "metadata": {
    "ExecuteTime": {
     "end_time": "2023-10-29T22:51:29.419703Z",
     "start_time": "2023-10-29T22:51:29.411866Z"
    },
    "collapsed": false
   },
   "outputs": [],
   "source": [
    "state = env.reset()\n",
    "mask = env.legal_actions_mask(state)"
   ]
  },
  {
   "cell_type": "code",
   "execution_count": 24,
   "metadata": {
    "ExecuteTime": {
     "end_time": "2023-10-29T22:53:55.475941Z",
     "start_time": "2023-10-29T22:53:55.464564Z"
    },
    "collapsed": false
   },
   "outputs": [
    {
     "data": {
      "text/plain": [
       "[<tf.Tensor: shape=(1, 1), dtype=float32, numpy=array([[0.00599287]], dtype=float32)>,\n",
       " <tf.Tensor: shape=(1, 4), dtype=float32, numpy=array([[0.22769774, 0.27601832, 0.2388441 , 0.25743982]], dtype=float32)>]"
      ]
     },
     "execution_count": 24,
     "metadata": {},
     "output_type": "execute_result"
    }
   ],
   "source": [
    "masked_model([state.reshape(1,4,4,1), mask.reshape(1,4)], training=False)"
   ]
  },
  {
   "cell_type": "code",
   "execution_count": 26,
   "metadata": {
    "ExecuteTime": {
     "end_time": "2023-10-29T22:54:41.717848Z",
     "start_time": "2023-10-29T22:54:38.691410Z"
    },
    "collapsed": false
   },
   "outputs": [
    {
     "name": "stdout",
     "output_type": "stream",
     "text": [
      "3.57 ms ± 231 µs per loop (mean ± std. dev. of 7 runs, 100 loops each)\n"
     ]
    }
   ],
   "source": [
    "%%timeit\n",
    "\n",
    "non_masked_model([state.reshape(1,4,4,1)])"
   ]
  },
  {
   "cell_type": "code",
   "execution_count": 13,
   "metadata": {
    "ExecuteTime": {
     "end_time": "2023-10-29T22:51:18.395695Z",
     "start_time": "2023-10-29T22:51:18.390476Z"
    },
    "collapsed": false
   },
   "outputs": [
    {
     "name": "stdout",
     "output_type": "stream",
     "text": [
      "[[[[0]\n",
      "   [0]\n",
      "   [0]\n",
      "   [0]]\n",
      "\n",
      "  [[2]\n",
      "   [0]\n",
      "   [2]\n",
      "   [0]]\n",
      "\n",
      "  [[0]\n",
      "   [0]\n",
      "   [0]\n",
      "   [0]]\n",
      "\n",
      "  [[0]\n",
      "   [0]\n",
      "   [0]\n",
      "   [0]]]]\n"
     ]
    }
   ],
   "source": [
    "print(state)"
   ]
  },
  {
   "cell_type": "code",
   "execution_count": 9,
   "metadata": {
    "ExecuteTime": {
     "end_time": "2023-11-02T00:26:41.879226Z",
     "start_time": "2023-11-02T00:26:41.876636Z"
    },
    "collapsed": false
   },
   "outputs": [
    {
     "data": {
      "text/plain": [
       "257.1621781474655"
      ]
     },
     "execution_count": 9,
     "metadata": {},
     "output_type": "execute_result"
    }
   ],
   "source": [
    "from Game2048Env import Game2048Env\n",
    "import numpy as np\n",
    "\n",
    "state = [\n",
    "    [0,8,0,0],\n",
    "    [8,16,8,0],\n",
    "    [8,0,8,0],\n",
    "    [0,0,0,0],\n",
    "]\n",
    "\n",
    "Game2048Env.compute_static_reward(np.array(state))"
   ]
  },
  {
   "cell_type": "code",
   "execution_count": 42,
   "metadata": {
    "ExecuteTime": {
     "end_time": "2023-11-01T23:19:47.867327Z",
     "start_time": "2023-11-01T23:19:47.858722Z"
    },
    "collapsed": false
   },
   "outputs": [],
   "source": [
    "import numpy as np\n",
    "\n",
    "def log2_board(board):\n",
    "    return np.log2(board, out=np.zeros_like(board, dtype='float32'), where=(board!=0))"
   ]
  },
  {
   "cell_type": "code",
   "execution_count": 43,
   "metadata": {
    "ExecuteTime": {
     "end_time": "2023-11-01T23:19:48.621031Z",
     "start_time": "2023-11-01T23:19:48.613844Z"
    },
    "collapsed": false
   },
   "outputs": [
    {
     "name": "stderr",
     "output_type": "stream",
     "text": [
      "/var/folders/4l/swy1ys696hb2z4jb8jxqmcqr0000gn/T/ipykernel_51265/612652193.py:4: RuntimeWarning: divide by zero encountered in log2\n",
      "  return np.log2(board, out=np.zeros_like(board, dtype='float32'), where=(board!=0))\n"
     ]
    },
    {
     "data": {
      "text/plain": [
       "array([[  2., -inf,   1., -inf],\n",
       "       [-inf, -inf, -inf, -inf],\n",
       "       [-inf, -inf, -inf, -inf],\n",
       "       [-inf, -inf, -inf, -inf]], dtype=float32)"
      ]
     },
     "execution_count": 43,
     "metadata": {},
     "output_type": "execute_result"
    }
   ],
   "source": [
    "log2_board(state)"
   ]
  },
  {
   "cell_type": "code",
   "execution_count": 39,
   "metadata": {
    "ExecuteTime": {
     "end_time": "2023-11-01T23:19:24.717964Z",
     "start_time": "2023-11-01T23:19:24.704051Z"
    },
    "collapsed": false
   },
   "outputs": [
    {
     "data": {
      "text/plain": [
       "array([[0., 0., 0., 0.],\n",
       "       [0., 0., 0., 0.],\n",
       "       [0., 0., 0., 0.],\n",
       "       [0., 0., 0., 0.]])"
      ]
     },
     "execution_count": 39,
     "metadata": {},
     "output_type": "execute_result"
    }
   ],
   "source": [
    "np.zeros_like(state, dtype='float64')"
   ]
  },
  {
   "cell_type": "code",
   "execution_count": 2,
   "metadata": {
    "ExecuteTime": {
     "end_time": "2023-11-02T03:19:22.347400Z",
     "start_time": "2023-11-02T03:19:22.276775Z"
    },
    "collapsed": false
   },
   "outputs": [
    {
     "ename": "AttributeError",
     "evalue": "'OptimizedGame2048Env' object has no attribute 'half_step'",
     "output_type": "error",
     "traceback": [
      "\u001b[0;31m---------------------------------------------------------------------------\u001b[0m",
      "\u001b[0;31mAttributeError\u001b[0m                            Traceback (most recent call last)",
      "Cell \u001b[0;32mIn[2], line 62\u001b[0m\n\u001b[1;32m     60\u001b[0m \u001b[38;5;66;03m# Run the tests\u001b[39;00m\n\u001b[1;32m     61\u001b[0m test_initialization()\n\u001b[0;32m---> 62\u001b[0m \u001b[43mtest_step_functionality\u001b[49m\u001b[43m(\u001b[49m\u001b[43m)\u001b[49m\n\u001b[1;32m     63\u001b[0m test_legal_actions()\n\u001b[1;32m     64\u001b[0m test_reset_functionality()\n",
      "Cell \u001b[0;32mIn[2], line 19\u001b[0m, in \u001b[0;36mtest_step_functionality\u001b[0;34m()\u001b[0m\n\u001b[1;32m     17\u001b[0m \u001b[38;5;28;01mfor\u001b[39;00m action \u001b[38;5;129;01min\u001b[39;00m actions:\n\u001b[1;32m     18\u001b[0m     obs1 \u001b[38;5;241m=\u001b[39m env1\u001b[38;5;241m.\u001b[39mhalf_step(env1\u001b[38;5;241m.\u001b[39mboard, action)\n\u001b[0;32m---> 19\u001b[0m     obs2 \u001b[38;5;241m=\u001b[39m \u001b[43menv2\u001b[49m\u001b[38;5;241;43m.\u001b[39;49m\u001b[43mhalf_step\u001b[49m(env1\u001b[38;5;241m.\u001b[39mboard, action)\n\u001b[1;32m     20\u001b[0m     \u001b[38;5;28mprint\u001b[39m(obs1)\n\u001b[1;32m     21\u001b[0m     \u001b[38;5;28mprint\u001b[39m(obs2)\n",
      "\u001b[0;31mAttributeError\u001b[0m: 'OptimizedGame2048Env' object has no attribute 'half_step'"
     ]
    }
   ],
   "source": [
    "from OptimizedGame2048Env import OptimizedGame2048Env\n",
    "from Game2048Env import Game2048Env\n",
    "import numpy as np\n",
    "\n",
    "def test_initialization():\n",
    "    env1 = Game2048Env()\n",
    "    env2 = OptimizedGame2048Env()\n",
    "\n",
    "\n",
    "def test_step_functionality():\n",
    "    env1 = Game2048Env()\n",
    "    env2 = OptimizedGame2048Env()\n",
    "\n",
    "    env2.board = env1.board.copy()\n",
    "\n",
    "    actions = [0, 1, 2, 3]\n",
    "    for action in actions:\n",
    "        obs1 = env1.half_step(env1.board, action)\n",
    "        obs2 = env2.half_step(env1.board, action)\n",
    "        print(obs1)\n",
    "        print(obs2)\n",
    "        assert np.array_equal(obs1, obs2), f\"Step test failed for action {action}: Observations are not equal.\"\n",
    "    print(\"Step functionality test passed!\")\n",
    "\n",
    "def test_legal_actions():\n",
    "    env1 = Game2048Env()\n",
    "    env2 = OptimizedGame2048Env()\n",
    "\n",
    "    env2.board = env1.board.copy()\n",
    "\n",
    "    legal_actions1 = env1.legal_actions_mask(env1.board)\n",
    "    legal_actions2 = env2.legal_actions_mask(env2.board)\n",
    "    assert np.array_equal(legal_actions1, legal_actions2), \"Legal actions test failed: Legal actions are not equal.\"\n",
    "    print(\"Legal actions test passed!\")\n",
    "\n",
    "def test_reset_functionality():\n",
    "    env1 = Game2048Env()\n",
    "    env2 = OptimizedGame2048Env()\n",
    "\n",
    "    env2.board = env1.board.copy()\n",
    "\n",
    "    obs1 = env1.reset()\n",
    "    obs2 = env2.reset()\n",
    "    assert np.array_equal(obs1, obs2), \"Reset test failed: Observations are not equal.\"\n",
    "    print(\"Reset functionality test passed!\")\n",
    "\n",
    "def test_rewards():\n",
    "    env1 = Game2048Env()\n",
    "    env2 = OptimizedGame2048Env()\n",
    "\n",
    "    env2.board = env1.board.copy()\n",
    "\n",
    "    actions = [0, 1, 2, 3]\n",
    "    for action in actions:\n",
    "        _, reward1, _, _ = env1.step(action)\n",
    "        _, reward2, _, _ = env2.step(action)\n",
    "        assert reward1 == reward2, f\"Rewards test failed for action {action}: Rewards are not equal.\"\n",
    "    print(\"Rewards test passed!\")\n",
    "\n",
    "# Run the tests\n",
    "test_initialization()\n",
    "test_step_functionality()\n",
    "test_legal_actions()\n",
    "test_reset_functionality()\n",
    "test_rewards()\n"
   ]
  },
  {
   "cell_type": "code",
   "execution_count": 4,
   "metadata": {
    "ExecuteTime": {
     "end_time": "2023-11-02T04:27:16.851925Z",
     "start_time": "2023-11-02T04:27:16.824518Z"
    },
    "collapsed": false
   },
   "outputs": [],
   "source": [
    "env1 = Game2048Env()"
   ]
  },
  {
   "cell_type": "code",
   "execution_count": 1,
   "metadata": {
    "ExecuteTime": {
     "end_time": "2023-11-02T05:22:38.708880Z",
     "start_time": "2023-11-02T05:22:37.975721Z"
    },
    "collapsed": false
   },
   "outputs": [
    {
     "name": "stdout",
     "output_type": "stream",
     "text": [
      "State 0 Optimized Result:\n",
      "[[0 2 0 2]\n",
      " [0 2 4 8]\n",
      " [0 0 4 2]\n",
      " [0 2 4 8]]\n",
      "State 0 Expected Result:\n",
      "[[0 2 0 2]\n",
      " [0 2 4 8]\n",
      " [0 0 4 2]\n",
      " [0 2 4 8]]\n",
      "----------------------------------------\n",
      "State 1 Optimized Result:\n",
      "[[0 0 0 2]\n",
      " [0 2 4 8]\n",
      " [0 0 4 2]\n",
      " [0 2 4 8]]\n",
      "State 1 Expected Result:\n",
      "[[0 0 0 2]\n",
      " [0 2 4 8]\n",
      " [0 0 4 2]\n",
      " [0 2 4 8]]\n",
      "----------------------------------------\n",
      "State 2 Optimized Result:\n",
      "[[ 0  2  4  8]\n",
      " [ 2  4  8 16]\n",
      " [ 4  8 16 32]\n",
      " [ 8 16 32 64]]\n",
      "State 2 Expected Result:\n",
      "[[ 0  2  4  8]\n",
      " [ 2  4  8 16]\n",
      " [ 4  8 16 32]\n",
      " [ 8 16 32 64]]\n",
      "----------------------------------------\n"
     ]
    },
    {
     "ename": "ValueError",
     "evalue": "The truth value of an array with more than one element is ambiguous. Use a.any() or a.all()",
     "output_type": "error",
     "traceback": [
      "\u001b[0;31m---------------------------------------------------------------------------\u001b[0m",
      "\u001b[0;31mValueError\u001b[0m                                Traceback (most recent call last)",
      "Cell \u001b[0;32mIn[1], line 82\u001b[0m\n\u001b[1;32m     80\u001b[0m tests \u001b[38;5;241m=\u001b[39m TestOptimizedGame2048Env()\n\u001b[1;32m     81\u001b[0m tests\u001b[38;5;241m.\u001b[39mtest_board_from_state()\n\u001b[0;32m---> 82\u001b[0m \u001b[43mtests\u001b[49m\u001b[38;5;241;43m.\u001b[39;49m\u001b[43mtest_is_action_legal\u001b[49m\u001b[43m(\u001b[49m\u001b[43m)\u001b[49m\n\u001b[1;32m     83\u001b[0m tests\u001b[38;5;241m.\u001b[39mtest_half_step()\n\u001b[1;32m     84\u001b[0m tests\u001b[38;5;241m.\u001b[39mtest_compute_static_reward()\n",
      "Cell \u001b[0;32mIn[1], line 33\u001b[0m, in \u001b[0;36mTestOptimizedGame2048Env.test_is_action_legal\u001b[0;34m(self)\u001b[0m\n\u001b[1;32m     31\u001b[0m \u001b[38;5;28;01mfor\u001b[39;00m action \u001b[38;5;129;01min\u001b[39;00m \u001b[38;5;28mrange\u001b[39m(\u001b[38;5;241m4\u001b[39m):\n\u001b[1;32m     32\u001b[0m     optimized_result \u001b[38;5;241m=\u001b[39m OptimizedGame2048Env\u001b[38;5;241m.\u001b[39mis_action_legal(state, action)\n\u001b[0;32m---> 33\u001b[0m     result \u001b[38;5;241m=\u001b[39m \u001b[43mGame2048Env\u001b[49m\u001b[38;5;241;43m.\u001b[39;49m\u001b[43mis_action_legal\u001b[49m\u001b[43m(\u001b[49m\u001b[43mstate\u001b[49m\u001b[43m,\u001b[49m\u001b[43m \u001b[49m\u001b[43maction\u001b[49m\u001b[43m)\u001b[49m\n\u001b[1;32m     34\u001b[0m     np\u001b[38;5;241m.\u001b[39mtesting\u001b[38;5;241m.\u001b[39massert_array_equal(optimized_result, result)\n",
      "File \u001b[0;32m~/PycharmProjects/Alpha2048Zero/Game2048Env.py:48\u001b[0m, in \u001b[0;36mGame2048Env.is_action_legal\u001b[0;34m(cls, board, action)\u001b[0m\n\u001b[1;32m     46\u001b[0m \u001b[38;5;129m@classmethod\u001b[39m\n\u001b[1;32m     47\u001b[0m \u001b[38;5;28;01mdef\u001b[39;00m \u001b[38;5;21mis_action_legal\u001b[39m(\u001b[38;5;28mcls\u001b[39m, board, action):\n\u001b[0;32m---> 48\u001b[0m     \u001b[38;5;28;01mreturn\u001b[39;00m \u001b[38;5;129;01mnot\u001b[39;00m (board \u001b[38;5;241m==\u001b[39m \u001b[38;5;28;43mcls\u001b[39;49m\u001b[38;5;241;43m.\u001b[39;49m\u001b[43mhalf_step\u001b[49m\u001b[43m(\u001b[49m\u001b[43mboard\u001b[49m\u001b[43m,\u001b[49m\u001b[43m \u001b[49m\u001b[43maction\u001b[49m\u001b[43m)\u001b[49m)\u001b[38;5;241m.\u001b[39mall()\n",
      "File \u001b[0;32m~/PycharmProjects/Alpha2048Zero/Game2048Env.py:55\u001b[0m, in \u001b[0;36mGame2048Env.half_step\u001b[0;34m(cls, board, action)\u001b[0m\n\u001b[1;32m     53\u001b[0m new_board \u001b[38;5;241m=\u001b[39m board\u001b[38;5;241m.\u001b[39mcopy()\n\u001b[1;32m     54\u001b[0m \u001b[38;5;28;01mif\u001b[39;00m action \u001b[38;5;241m==\u001b[39m \u001b[38;5;241m0\u001b[39m:  \u001b[38;5;66;03m# Up\u001b[39;00m\n\u001b[0;32m---> 55\u001b[0m     new_board \u001b[38;5;241m=\u001b[39m \u001b[38;5;28;43mcls\u001b[39;49m\u001b[38;5;241;43m.\u001b[39;49m\u001b[43mmove_up\u001b[49m\u001b[43m(\u001b[49m\u001b[43mnew_board\u001b[49m\u001b[43m)\u001b[49m\n\u001b[1;32m     56\u001b[0m \u001b[38;5;28;01melif\u001b[39;00m action \u001b[38;5;241m==\u001b[39m \u001b[38;5;241m1\u001b[39m:  \u001b[38;5;66;03m# Down\u001b[39;00m\n\u001b[1;32m     57\u001b[0m     new_board \u001b[38;5;241m=\u001b[39m \u001b[38;5;28mcls\u001b[39m\u001b[38;5;241m.\u001b[39mmove_down(new_board)\n",
      "File \u001b[0;32m~/PycharmProjects/Alpha2048Zero/Game2048Env.py:205\u001b[0m, in \u001b[0;36mGame2048Env.move_up\u001b[0;34m(cls, board)\u001b[0m\n\u001b[1;32m    203\u001b[0m \u001b[38;5;129m@classmethod\u001b[39m\n\u001b[1;32m    204\u001b[0m \u001b[38;5;28;01mdef\u001b[39;00m \u001b[38;5;21mmove_up\u001b[39m(\u001b[38;5;28mcls\u001b[39m, board):\n\u001b[0;32m--> 205\u001b[0m     \u001b[38;5;28;01mreturn\u001b[39;00m np\u001b[38;5;241m.\u001b[39mtranspose(\u001b[38;5;28;43mcls\u001b[39;49m\u001b[38;5;241;43m.\u001b[39;49m\u001b[43mmove_left\u001b[49m\u001b[43m(\u001b[49m\u001b[43mnp\u001b[49m\u001b[38;5;241;43m.\u001b[39;49m\u001b[43mtranspose\u001b[49m\u001b[43m(\u001b[49m\u001b[43mboard\u001b[49m\u001b[43m)\u001b[49m\u001b[43m)\u001b[49m)\n",
      "File \u001b[0;32m~/PycharmProjects/Alpha2048Zero/Game2048Env.py:188\u001b[0m, in \u001b[0;36mGame2048Env.move_left\u001b[0;34m(board)\u001b[0m\n\u001b[1;32m    185\u001b[0m new_board \u001b[38;5;241m=\u001b[39m np\u001b[38;5;241m.\u001b[39mzeros_like(board)\n\u001b[1;32m    186\u001b[0m \u001b[38;5;28;01mfor\u001b[39;00m i \u001b[38;5;129;01min\u001b[39;00m \u001b[38;5;28mrange\u001b[39m(\u001b[38;5;241m4\u001b[39m):\n\u001b[1;32m    187\u001b[0m     \u001b[38;5;66;03m# Pull non-zero tiles\u001b[39;00m\n\u001b[0;32m--> 188\u001b[0m     tiles \u001b[38;5;241m=\u001b[39m \u001b[43m[\u001b[49m\u001b[43mval\u001b[49m\u001b[43m \u001b[49m\u001b[38;5;28;43;01mfor\u001b[39;49;00m\u001b[43m \u001b[49m\u001b[43mval\u001b[49m\u001b[43m \u001b[49m\u001b[38;5;129;43;01min\u001b[39;49;00m\u001b[43m \u001b[49m\u001b[43mboard\u001b[49m\u001b[43m[\u001b[49m\u001b[43mi\u001b[49m\u001b[43m]\u001b[49m\u001b[43m \u001b[49m\u001b[38;5;28;43;01mif\u001b[39;49;00m\u001b[43m \u001b[49m\u001b[43mval\u001b[49m\u001b[43m \u001b[49m\u001b[38;5;241;43m!=\u001b[39;49m\u001b[43m \u001b[49m\u001b[38;5;241;43m0\u001b[39;49m\u001b[43m]\u001b[49m\n\u001b[1;32m    189\u001b[0m     merged \u001b[38;5;241m=\u001b[39m []\n\u001b[1;32m    190\u001b[0m     \u001b[38;5;28;01mwhile\u001b[39;00m tiles:\n",
      "File \u001b[0;32m~/PycharmProjects/Alpha2048Zero/Game2048Env.py:188\u001b[0m, in \u001b[0;36m<listcomp>\u001b[0;34m(.0)\u001b[0m\n\u001b[1;32m    185\u001b[0m new_board \u001b[38;5;241m=\u001b[39m np\u001b[38;5;241m.\u001b[39mzeros_like(board)\n\u001b[1;32m    186\u001b[0m \u001b[38;5;28;01mfor\u001b[39;00m i \u001b[38;5;129;01min\u001b[39;00m \u001b[38;5;28mrange\u001b[39m(\u001b[38;5;241m4\u001b[39m):\n\u001b[1;32m    187\u001b[0m     \u001b[38;5;66;03m# Pull non-zero tiles\u001b[39;00m\n\u001b[0;32m--> 188\u001b[0m     tiles \u001b[38;5;241m=\u001b[39m [val \u001b[38;5;28;01mfor\u001b[39;00m val \u001b[38;5;129;01min\u001b[39;00m board[i] \u001b[38;5;28;01mif\u001b[39;00m val \u001b[38;5;241m!=\u001b[39m \u001b[38;5;241m0\u001b[39m]\n\u001b[1;32m    189\u001b[0m     merged \u001b[38;5;241m=\u001b[39m []\n\u001b[1;32m    190\u001b[0m     \u001b[38;5;28;01mwhile\u001b[39;00m tiles:\n",
      "\u001b[0;31mValueError\u001b[0m: The truth value of an array with more than one element is ambiguous. Use a.any() or a.all()"
     ]
    }
   ],
   "source": [
    "from OptimizedGame2048Env import OptimizedGame2048Env\n",
    "from Game2048Env import Game2048Env\n",
    "import numpy as np\n",
    "\n",
    "class TestOptimizedGame2048Env:\n",
    "    def __init__(self):\n",
    "        states_list = [\n",
    "            np.array([[0,2,0,2],[0,2,4,8],[0,0,4,2],[0,2,4,8]]),\n",
    "            np.array([[0,0,0,2],[0,2,4,8],[0,0,4,2],[0,2,4,8]]),\n",
    "            np.array([[0,2,4,8],[2,4,8,16],[4,8,16,32],[8,16,32,64]])\n",
    "        ]\n",
    "        # Convert the list of states into a 4-dimensional array with a shape of (num_envs, 4, 4, 5)\n",
    "        self.states = np.array([Game2048Env.make_observation(state, False) for state in states_list])\n",
    "        self.num_envs = len(self.states)\n",
    "        self.optimized_env = OptimizedGame2048Env(self.num_envs)\n",
    "        self.env = Game2048Env()\n",
    "\n",
    "    def test_board_from_state(self):\n",
    "        optimized_results = OptimizedGame2048Env.board_from_state(self.states)\n",
    "        results = [Game2048Env.board_from_state(state) for state in self.states]\n",
    "\n",
    "        for i, (opt_res, res) in enumerate(zip(optimized_results, results)):\n",
    "            print(f\"State {i} Optimized Result:\\n{opt_res}\")\n",
    "            print(f\"State {i} Expected Result:\\n{res}\\n{'-'*40}\")\n",
    "\n",
    "        np.testing.assert_array_equal(optimized_results, results)\n",
    "\n",
    "\n",
    "    def test_is_action_legal(self):\n",
    "        for state in self.states:\n",
    "            for action in range(4):\n",
    "                optimized_result = OptimizedGame2048Env.is_action_legal(state, action)\n",
    "                result = Game2048Env.is_action_legal(state, action)\n",
    "                np.testing.assert_array_equal(optimized_result, result)\n",
    "\n",
    "    def test_half_step(self):\n",
    "        for state in self.states:\n",
    "            for action in range(4):\n",
    "                optimized_result = OptimizedGame2048Env.half_step(state, action)\n",
    "                result = Game2048Env.half_step(state, action)\n",
    "                np.testing.assert_array_equal(optimized_result, result)\n",
    "\n",
    "    def test_compute_static_reward(self):\n",
    "        optimized_results = OptimizedGame2048Env.compute_static_reward(self.states)\n",
    "        results = [Game2048Env.compute_static_reward(state) for state in self.states]\n",
    "        np.testing.assert_array_equal(optimized_results, results)\n",
    "\n",
    "    def test_make_observation(self):\n",
    "        for state in self.states:\n",
    "            optimized_result = OptimizedGame2048Env.make_observation(state, False)\n",
    "            result = Game2048Env.make_observation(state, False)\n",
    "            np.testing.assert_array_equal(optimized_result, result)\n",
    "\n",
    "    def test_move_left(self):\n",
    "        optimized_results = OptimizedGame2048Env.move_left(self.states)\n",
    "        results = [Game2048Env.move_left(state) for state in self.states]\n",
    "        np.testing.assert_array_equal(optimized_results, results)\n",
    "\n",
    "    def test_move_right(self):\n",
    "        optimized_results = OptimizedGame2048Env.move_right(self.states)\n",
    "        results = [Game2048Env.move_right(state) for state in self.states]\n",
    "        np.testing.assert_array_equal(optimized_results, results)\n",
    "\n",
    "    def test_move_up(self):\n",
    "        optimized_results = OptimizedGame2048Env.move_up(self.states)\n",
    "        results = [Game2048Env.move_up(state) for state in self.states]\n",
    "        np.testing.assert_array_equal(optimized_results, results)\n",
    "\n",
    "    def test_move_down(self):\n",
    "        optimized_results = OptimizedGame2048Env.move_down(self.states)\n",
    "        results = [Game2048Env.move_down(state) for state in self.states]\n",
    "        np.testing.assert_array_equal(optimized_results, results)\n",
    "\n",
    "    def test_legal_actions_mask_from_board(self):\n",
    "        optimized_results = OptimizedGame2048Env.legal_actions_mask_from_board(self.states)\n",
    "        results = [Game2048Env.legal_actions_mask_from_board(state) for state in self.states]\n",
    "        np.testing.assert_array_equal(optimized_results, results)\n",
    "\n",
    "# Running the tests\n",
    "tests = TestOptimizedGame2048Env()\n",
    "tests.test_board_from_state()\n",
    "tests.test_is_action_legal()\n",
    "tests.test_half_step()\n",
    "tests.test_compute_static_reward()\n",
    "tests.test_make_observation()\n",
    "tests.test_move_left()\n",
    "tests.test_move_right()\n",
    "tests.test_move_up()\n",
    "tests.test_move_down()\n",
    "tests.test_legal_actions_mask_from_board()\n",
    "\n"
   ]
  },
  {
   "cell_type": "code",
   "execution_count": 8,
   "metadata": {
    "ExecuteTime": {
     "end_time": "2023-11-03T21:35:30.388383Z",
     "start_time": "2023-11-03T21:35:23.926784Z"
    },
    "collapsed": false
   },
   "outputs": [
    {
     "data": {
      "text/plain": [
       "array([[0., 1., 0., 1.],\n",
       "       [0., 1., 2., 4.],\n",
       "       [0., 0., 2., 1.],\n",
       "       [0., 1., 2., 4.]])"
      ]
     },
     "execution_count": 8,
     "metadata": {},
     "output_type": "execute_result"
    }
   ],
   "source": [
    "np.array([[0, 2, 0, 2],\n",
    " [0, 2, 4, 8],\n",
    " [0, 0, 4, 2],\n",
    " [0, 2, 4, 8]])/2"
   ]
  },
  {
   "cell_type": "code",
   "execution_count": 1,
   "metadata": {
    "ExecuteTime": {
     "start_time": "2023-11-03T21:35:30.836668Z"
    },
    "collapsed": false
   },
   "outputs": [
    {
     "name": "stdout",
     "output_type": "stream",
     "text": [
      "(4, 4, 16)\n",
      "(4, 4, 16)\n"
     ]
    }
   ],
   "source": [
    "import numpy as np\n",
    "\n",
    "board = np.array([[0, 2, 0, 2],\n",
    " [0, 2, 4, 8],\n",
    " [0, 0, 4, 2],\n",
    " [0, 2, 4, 8]])\n",
    "\n",
    "from Game2048Env import Game2048Env\n",
    "\n",
    "zeros = np.array([[0, 0, 0, 0], [0, 0, 0, 0], [0, 0, 0, 0], [0, 0, 0, 0]])\n",
    "start = np.array([[2, 0, 0, 0], [0, 0, 0, 0], [0, 0, 0, 0], [0, 0, 0, 0]])\n",
    "\n",
    "print(Game2048Env.make_transpositions(zeros).shape)\n",
    "print(Game2048Env.make_transpositions(start).shape)"
   ]
  },
  {
   "cell_type": "code",
   "execution_count": 1,
   "metadata": {
    "collapsed": false
   },
   "outputs": [
    {
     "name": "stdout",
     "output_type": "stream",
     "text": [
      "HI\n",
      "transpositions=[[[0, 0, 0, 0], [0, 0, 0, 0], [0, 0, 0, 0], [0, 0, 0, 0]], array([[0, 0, 0, 0],\n",
      "       [0, 0, 0, 0],\n",
      "       [0, 0, 0, 0],\n",
      "       [0, 0, 0, 0]]), array([[0, 0, 0, 0],\n",
      "       [0, 0, 0, 0],\n",
      "       [0, 0, 0, 0],\n",
      "       [0, 0, 0, 0]]), array([[0, 0, 0, 0],\n",
      "       [0, 0, 0, 0],\n",
      "       [0, 0, 0, 0],\n",
      "       [0, 0, 0, 0]]), array([[0, 0, 0, 0],\n",
      "       [0, 0, 0, 0],\n",
      "       [0, 0, 0, 0],\n",
      "       [0, 0, 0, 0]]), array([[0, 0, 0, 0],\n",
      "       [0, 0, 0, 0],\n",
      "       [0, 0, 0, 0],\n",
      "       [0, 0, 0, 0]]), array([[0, 0, 0, 0],\n",
      "       [0, 0, 0, 0],\n",
      "       [0, 0, 0, 0],\n",
      "       [0, 0, 0, 0]]), array([[0, 0, 0, 0],\n",
      "       [0, 0, 0, 0],\n",
      "       [0, 0, 0, 0],\n",
      "       [0, 0, 0, 0]]), array([[0, 0, 0, 0],\n",
      "       [0, 0, 0, 0],\n",
      "       [0, 0, 0, 0],\n",
      "       [0, 0, 0, 0]]), array([[0, 0, 0, 0],\n",
      "       [0, 0, 0, 0],\n",
      "       [0, 0, 0, 0],\n",
      "       [0, 0, 0, 0]]), array([[0, 0, 0, 0],\n",
      "       [0, 0, 0, 0],\n",
      "       [0, 0, 0, 0],\n",
      "       [0, 0, 0, 0]]), array([[0, 0, 0, 0],\n",
      "       [0, 0, 0, 0],\n",
      "       [0, 0, 0, 0],\n",
      "       [0, 0, 0, 0]]), array([[0, 0, 0, 0],\n",
      "       [0, 0, 0, 0],\n",
      "       [0, 0, 0, 0],\n",
      "       [0, 0, 0, 0]]), array([[0, 0, 0, 0],\n",
      "       [0, 0, 0, 0],\n",
      "       [0, 0, 0, 0],\n",
      "       [0, 0, 0, 0]]), array([[0, 0, 0, 0],\n",
      "       [0, 0, 0, 0],\n",
      "       [0, 0, 0, 0],\n",
      "       [0, 0, 0, 0]]), array([[0, 0, 0, 0],\n",
      "       [0, 0, 0, 0],\n",
      "       [0, 0, 0, 0],\n",
      "       [0, 0, 0, 0]]), array([[0, 0, 0, 0],\n",
      "       [0, 0, 0, 0],\n",
      "       [0, 0, 0, 0],\n",
      "       [0, 0, 0, 0]])]\n"
     ]
    },
    {
     "data": {
      "text/plain": [
       "array([[[0, 0, 0, 0, 0, 0, 0, 0, 0, 0, 0, 0, 0, 0, 0, 0, 0],\n",
       "        [0, 0, 0, 0, 0, 0, 0, 0, 0, 0, 0, 0, 0, 0, 0, 0, 0],\n",
       "        [0, 0, 0, 0, 0, 0, 0, 0, 0, 0, 0, 0, 0, 0, 0, 0, 0],\n",
       "        [0, 0, 0, 0, 0, 0, 0, 0, 0, 0, 0, 0, 0, 0, 0, 0, 0]],\n",
       "\n",
       "       [[0, 0, 0, 0, 0, 0, 0, 0, 0, 0, 0, 0, 0, 0, 0, 0, 0],\n",
       "        [0, 0, 0, 0, 0, 0, 0, 0, 0, 0, 0, 0, 0, 0, 0, 0, 0],\n",
       "        [0, 0, 0, 0, 0, 0, 0, 0, 0, 0, 0, 0, 0, 0, 0, 0, 0],\n",
       "        [0, 0, 0, 0, 0, 0, 0, 0, 0, 0, 0, 0, 0, 0, 0, 0, 0]],\n",
       "\n",
       "       [[0, 0, 0, 0, 0, 0, 0, 0, 0, 0, 0, 0, 0, 0, 0, 0, 0],\n",
       "        [0, 0, 0, 0, 0, 0, 0, 0, 0, 0, 0, 0, 0, 0, 0, 0, 0],\n",
       "        [0, 0, 0, 0, 0, 0, 0, 0, 0, 0, 0, 0, 0, 0, 0, 0, 0],\n",
       "        [0, 0, 0, 0, 0, 0, 0, 0, 0, 0, 0, 0, 0, 0, 0, 0, 0]],\n",
       "\n",
       "       [[0, 0, 0, 0, 0, 0, 0, 0, 0, 0, 0, 0, 0, 0, 0, 0, 0],\n",
       "        [0, 0, 0, 0, 0, 0, 0, 0, 0, 0, 0, 0, 0, 0, 0, 0, 0],\n",
       "        [0, 0, 0, 0, 0, 0, 0, 0, 0, 0, 0, 0, 0, 0, 0, 0, 0],\n",
       "        [0, 0, 0, 0, 0, 0, 0, 0, 0, 0, 0, 0, 0, 0, 0, 0, 0]]],\n",
       "      dtype=uint32)"
      ]
     },
     "execution_count": 1,
     "metadata": {},
     "output_type": "execute_result"
    }
   ],
   "source": [
    "from Game2048Env import Game2048Env\n",
    "\n",
    "len(Game2048Env.make_transpositions([[0, 0, 0, 0], [0, 0, 0, 0], [0, 0, 0, 0], [0, 0, 0, 0]]))"
   ]
  },
  {
   "cell_type": "code",
   "execution_count": 7,
   "metadata": {},
   "outputs": [],
   "source": [
    "a = [1]\n",
    "a = a[1:] + [2]"
   ]
  },
  {
   "cell_type": "code",
   "execution_count": 8,
   "metadata": {},
   "outputs": [
    {
     "data": {
      "text/plain": [
       "[2]"
      ]
     },
     "execution_count": 8,
     "metadata": {},
     "output_type": "execute_result"
    }
   ],
   "source": [
    "a"
   ]
  },
  {
   "cell_type": "code",
   "execution_count": 1,
   "metadata": {},
   "outputs": [],
   "source": [
    "from Game2048Env import Game2048Env\n",
    "env = Game2048Env()"
   ]
  },
  {
   "cell_type": "code",
   "execution_count": 2,
   "metadata": {},
   "outputs": [
    {
     "data": {
      "text/plain": [
       "array([[0, 0, 0, 0],\n",
       "       [0, 8, 0, 0],\n",
       "       [0, 0, 0, 0],\n",
       "       [0, 0, 0, 4]], dtype=uint32)"
      ]
     },
     "execution_count": 2,
     "metadata": {},
     "output_type": "execute_result"
    }
   ],
   "source": [
    "env.board * 2"
   ]
  },
  {
   "cell_type": "code",
   "execution_count": 3,
   "metadata": {},
   "outputs": [
    {
     "name": "stdout",
     "output_type": "stream",
     "text": [
      "[[0 0 0 2]\n",
      " [0 2 0 0]\n",
      " [0 0 0 0]\n",
      " [0 0 0 0]]\n"
     ]
    }
   ],
   "source": [
    "from Game2048Env import MAX_TILE\n",
    "import numpy as np\n",
    "\n",
    "env.reset()\n",
    "board = env.board\n",
    "\n",
    "max_board_tile = np.max(board)\n",
    "transpositions = []\n",
    "\n",
    "downward_board = np.array(board.copy())\n",
    "downward_max_board_tile = max_board_tile\n",
    "\n",
    "updward_board = np.array(board.copy())\n",
    "updward_max_board_tile = max(max_board_tile, 2)\n",
    "\n",
    "while downward_max_board_tile > 2:\n",
    "    downward_board = env.transpose_values_down(downward_board)\n",
    "    transpositions.insert(0, downward_board)\n",
    "    downward_max_board_tile /= 2\n",
    "\n",
    "transpositions.append(board.copy())\n",
    "print(updward_board)\n",
    "\n",
    "while updward_max_board_tile < MAX_TILE:\n",
    "    updward_board = env.transpose_values_up(updward_board)\n",
    "    transpositions.append(updward_board)\n",
    "    updward_max_board_tile *= 2\n",
    "\n",
    "res = np.array(transpositions, dtype=np.uint32).T.reshape((4,4, len(transpositions)))"
   ]
  },
  {
   "cell_type": "code",
   "execution_count": 5,
   "metadata": {},
   "outputs": [
    {
     "data": {
      "text/plain": [
       "array([[[    0,     0,     0,     0,     0,     0,     0,     0,     0,\n",
       "             0,     0,     0,     0,     0,     0,     0],\n",
       "        [    0,     0,     0,     0,     0,     0,     0,     0,     0,\n",
       "             0,     0,     0,     0,     0,     0,     0],\n",
       "        [    0,     0,     0,     0,     0,     0,     0,     0,     0,\n",
       "             0,     0,     0,     0,     0,     0,     0],\n",
       "        [    0,     0,     0,     0,     0,     0,     0,     0,     0,\n",
       "             0,     0,     0,     0,     0,     0,     0]],\n",
       "\n",
       "       [[    0,     0,     0,     0,     0,     0,     0,     0,     0,\n",
       "             0,     0,     0,     0,     0,     0,     0],\n",
       "        [    2,     4,     8,    16,    32,    64,   128,   256,   512,\n",
       "          1024,  2048,  4096,  8192, 16384, 32768, 65536],\n",
       "        [    0,     0,     0,     0,     0,     0,     0,     0,     0,\n",
       "             0,     0,     0,     0,     0,     0,     0],\n",
       "        [    0,     0,     0,     0,     0,     0,     0,     0,     0,\n",
       "             0,     0,     0,     0,     0,     0,     0]],\n",
       "\n",
       "       [[    0,     0,     0,     0,     0,     0,     0,     0,     0,\n",
       "             0,     0,     0,     0,     0,     0,     0],\n",
       "        [    0,     0,     0,     0,     0,     0,     0,     0,     0,\n",
       "             0,     0,     0,     0,     0,     0,     0],\n",
       "        [    0,     0,     0,     0,     0,     0,     0,     0,     0,\n",
       "             0,     0,     0,     0,     0,     0,     0],\n",
       "        [    0,     0,     0,     0,     0,     0,     0,     0,     0,\n",
       "             0,     0,     0,     0,     0,     0,     0]],\n",
       "\n",
       "       [[    2,     4,     8,    16,    32,    64,   128,   256,   512,\n",
       "          1024,  2048,  4096,  8192, 16384, 32768, 65536],\n",
       "        [    0,     0,     0,     0,     0,     0,     0,     0,     0,\n",
       "             0,     0,     0,     0,     0,     0,     0],\n",
       "        [    0,     0,     0,     0,     0,     0,     0,     0,     0,\n",
       "             0,     0,     0,     0,     0,     0,     0],\n",
       "        [    0,     0,     0,     0,     0,     0,     0,     0,     0,\n",
       "             0,     0,     0,     0,     0,     0,     0]]], dtype=uint32)"
      ]
     },
     "execution_count": 5,
     "metadata": {},
     "output_type": "execute_result"
    }
   ],
   "source": [
    "res"
   ]
  },
  {
   "cell_type": "code",
   "execution_count": null,
   "metadata": {},
   "outputs": [],
   "source": []
  }
 ],
 "metadata": {
  "kernelspec": {
   "display_name": "Python 3",
   "language": "python",
   "name": "python3"
  },
  "language_info": {
   "codemirror_mode": {
    "name": "ipython",
    "version": 3
   },
   "file_extension": ".py",
   "mimetype": "text/x-python",
   "name": "python",
   "nbconvert_exporter": "python",
   "pygments_lexer": "ipython3",
   "version": "3.11.5"
  }
 },
 "nbformat": 4,
 "nbformat_minor": 0
}
