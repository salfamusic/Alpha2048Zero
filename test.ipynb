{
 "cells": [
  {
   "cell_type": "code",
   "execution_count": 5,
   "outputs": [
    {
     "name": "stdout",
     "output_type": "stream",
     "text": [
      "--2023-10-21 16:57:31--  https://bin.equinox.io/c/bNyj1mQVY4c/ngrok-v3-stable-darwin-amd64.zip\r\n",
      "Resolving bin.equinox.io (bin.equinox.io)... 54.161.241.46, 54.237.133.81, 18.205.222.128, ...\r\n",
      "Connecting to bin.equinox.io (bin.equinox.io)|54.161.241.46|:443... connected.\r\n",
      "HTTP request sent, awaiting response... 200 OK\r\n",
      "Length: 9393876 (9.0M) [application/octet-stream]\r\n",
      "Saving to: ‘ngrok-v3-stable-darwin-amd64.zip’\r\n",
      "\r\n",
      "ngrok-v3-stable-dar 100%[===================>]   8.96M  12.7MB/s    in 0.7s    \r\n",
      "\r\n",
      "2023-10-21 16:57:32 (12.7 MB/s) - ‘ngrok-v3-stable-darwin-amd64.zip’ saved [9393876/9393876]\r\n",
      "\r\n",
      "Archive:  ngrok-v3-stable-darwin-amd64.zip\r\n",
      "  inflating: ngrok                   \r\n"
     ]
    }
   ],
   "source": [
    "!wget https://bin.equinox.io/c/bNyj1mQVY4c/ngrok-v3-stable-darwin-amd64.zip\n",
    "!unzip ngrok-v3-stable-darwin-amd64.zip"
   ],
   "metadata": {
    "collapsed": false,
    "ExecuteTime": {
     "end_time": "2023-10-21T21:57:32.993662Z",
     "start_time": "2023-10-21T21:57:31.402635Z"
    }
   }
  },
  {
   "cell_type": "code",
   "execution_count": 6,
   "outputs": [
    {
     "name": "stdout",
     "output_type": "stream",
     "text": [
      "Authtoken saved to configuration file: /Users/michaelking/.ngrok2/ngrok.yml\r\n"
     ]
    }
   ],
   "source": [
    "!./ngrok config add-authtoken 1tHaGIL1YdMNniMQKsAzqSgsiUb_7AgZfgwYUTdCzFGva4KE8"
   ],
   "metadata": {
    "collapsed": false,
    "ExecuteTime": {
     "end_time": "2023-10-21T21:57:34.774436Z",
     "start_time": "2023-10-21T21:57:34.272803Z"
    }
   }
  },
  {
   "cell_type": "code",
   "execution_count": 1,
   "metadata": {
    "collapsed": true,
    "ExecuteTime": {
     "end_time": "2023-10-22T22:18:28.014649Z",
     "start_time": "2023-10-22T22:18:27.343674Z"
    }
   },
   "outputs": [],
   "source": [
    "import threading\n",
    "from pyngrok import ngrok\n",
    "from webapp2048.WebApp import socketio, app, set_public_url, call_add_step\n",
    "\n",
    "\n",
    "# Function to run the Flask app with SocketIO\n",
    "def run():\n",
    "    socketio.run(app, host='0.0.0.0', port=5001, debug=True, use_reloader=False)\n",
    "\n",
    "def run_async():\n",
    "    # Start the Flask app in a separate thread\n",
    "    threading.Thread(target=run).start()\n",
    "\n",
    "    # Set up ngrok tunnel\n",
    "    public_url = ngrok.connect(5001).public_url\n",
    "    set_public_url(public_url)\n",
    "    print('Public URL:', public_url)\n"
   ]
  },
  {
   "cell_type": "code",
   "execution_count": 2,
   "outputs": [
    {
     "name": "stderr",
     "output_type": "stream",
     "text": [
      "(40890) wsgi starting up on http://0.0.0.0:5001\n",
      "t=2023-10-22T17:18:28-0500 lvl=warn msg=\"ngrok config file found at legacy location, move to XDG location\" xdg_path=\"/Users/michaelking/Library/Application Support/ngrok/ngrok.yml\" legacy_path=/Users/michaelking/.ngrok2/ngrok.yml\n"
     ]
    },
    {
     "name": "stdout",
     "output_type": "stream",
     "text": [
      "Public URL: https://546a-173-20-233-125.ngrok-free.app\n"
     ]
    }
   ],
   "source": [
    "run_async()"
   ],
   "metadata": {
    "collapsed": false,
    "ExecuteTime": {
     "end_time": "2023-10-22T22:18:29.072735Z",
     "start_time": "2023-10-22T22:18:28.594092Z"
    }
   }
  },
  {
   "cell_type": "code",
   "execution_count": 15,
   "outputs": [
    {
     "name": "stdout",
     "output_type": "stream",
     "text": [
      "<Response [200]>\n"
     ]
    },
    {
     "name": "stderr",
     "output_type": "stream",
     "text": [
      "(40890) accepted ('127.0.0.1', 57066)\n",
      "173.20.233.125,127.0.0.1 - - [22/Oct/2023 18:26:54] \"POST /add_step HTTP/1.1\" 200 166 0.000728\n"
     ]
    }
   ],
   "source": [
    "import numpy as np\n",
    "\n",
    "call_add_step({\n",
    "    'epoch_number': 0,\n",
    "    'game_number': 0,\n",
    "    'action': 0,\n",
    "    'next_board': np.array([[0, 2, 4, 2],\n",
    "       [64, 32, 2, 16],\n",
    "       [0, 4, 2, 8],\n",
    "       [0, 4, 8, 0]]).tolist()\n",
    "})"
   ],
   "metadata": {
    "collapsed": false,
    "ExecuteTime": {
     "end_time": "2023-10-22T23:26:54.373933Z",
     "start_time": "2023-10-22T23:26:54.136208Z"
    }
   }
  },
  {
   "cell_type": "code",
   "execution_count": null,
   "outputs": [],
   "source": [],
   "metadata": {
    "collapsed": false
   }
  }
 ],
 "metadata": {
  "kernelspec": {
   "display_name": "Python 3",
   "language": "python",
   "name": "python3"
  },
  "language_info": {
   "codemirror_mode": {
    "name": "ipython",
    "version": 2
   },
   "file_extension": ".py",
   "mimetype": "text/x-python",
   "name": "python",
   "nbconvert_exporter": "python",
   "pygments_lexer": "ipython2",
   "version": "2.7.6"
  }
 },
 "nbformat": 4,
 "nbformat_minor": 0
}
